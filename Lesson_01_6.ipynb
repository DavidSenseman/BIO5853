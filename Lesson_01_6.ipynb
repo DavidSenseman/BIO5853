{
 "cells": [
  {
   "cell_type": "markdown",
   "metadata": {
    "id": "bLEEW13uCtiJ"
   },
   "source": [
    "<a href=\"https://colab.research.google.com/github/DavidSenseman/BIO5853/blob/master/Lesson_01_6.ipynb\" target=\"_parent\"><img src=\"https://colab.research.google.com/assets/colab-badge.svg\" alt=\"Open In Colab\"/></a>"
   ]
  },
  {
   "cell_type": "markdown",
   "metadata": {},
   "source": [
    "---------------------------\n",
    "**COPYRIGHT NOTICE:** This Jupyterlab Notebook is a Derivative work of [Jeff Heaton](https://github.com/jeffheaton) licensed under the Apache License, Version 2.0 (the \"License\"); You may not use this file except in compliance with the License. You may obtain a copy of the License at\n",
    "\n",
    "> [http://www.apache.org/licenses/LICENSE-2.0](http://www.apache.org/licenses/LICENSE-2.0)\n",
    "\n",
    "Unless required by applicable law or agreed to in writing, software distributed under the License is distributed on an \"AS IS\" BASIS, WITHOUT WARRANTIES OR CONDITIONS OF ANY KIND, either express or implied. See the License for the specific language governing permissions and limitations under the License.\n",
    "\n",
    "------------------------"
   ]
  },
  {
   "cell_type": "markdown",
   "metadata": {},
   "source": [
    "# **BIO 58533: Biostatistics**"
   ]
  },
  {
   "cell_type": "markdown",
   "metadata": {
    "jp-MarkdownHeadingCollapsed": true
   },
   "source": [
    "##### **Module 1: Getting Started with Python**\n",
    "\n",
    "* Instructor: [David Senseman](mailto:David.Senseman@utsa.edu), [Department of Integrative Biology](https://sciences.utsa.edu/integrative-biology/), [UTSA](https://www.utsa.edu/)\n",
    "\n",
    "\n",
    "### Module 1 Material\n",
    "\n",
    "* Part 1.1: Course Overview \n",
    "* Part 1.2: Installing Python, Miniconda and Jupyter Lab\n",
    "* Part 1.3: Introduction to Jupyterlab AI, Google CoLab\n",
    "* Part 1.4: Python Basics 1 -- Strings, Variables and Indexing\n",
    "* Part 1.5: Python Basics 2 -- Numbers, Booleans, Operators and Comparisons\n",
    "* **Part 1.6: Python Basics 3 -- Lists, Dictionaries and Sets**\n",
    "* Part 1.7: Python Basics 4 -- Conditionals and Loops\n",
    "* Part 1.8: Python Basics 5 -- Packages, NumPy arrays and Matplotlib\n",
    "* Part 1.9: Python Basics 6 -- Pandas and File Handling"
   ]
  },
  {
   "cell_type": "markdown",
   "metadata": {},
   "source": [
    "### Lesson Setup\n",
    "\n",
    "Run the next code cell to load necessary packages"
   ]
  },
  {
   "cell_type": "code",
   "execution_count": null,
   "metadata": {},
   "outputs": [],
   "source": [
    "# You MUST run this code cell first\n",
    "import os\n",
    "import shutil\n",
    "path = '/'\n",
    "memory = shutil.disk_usage(path)\n",
    "dirpath = os.getcwd()\n",
    "print(\"Your current working directory is : \" + dirpath)\n",
    "print(\"Disk\", memory)"
   ]
  },
  {
   "cell_type": "markdown",
   "metadata": {
    "id": "yKQylnEiLDUM"
   },
   "source": [
    "### Google CoLab Instructions\n",
    "\n",
    "The following code ensures that Google CoLab is running the correct version of TensorFlow.\n",
    "  Running the following code will map your GDrive to ```/content/drive```."
   ]
  },
  {
   "cell_type": "code",
   "execution_count": null,
   "metadata": {
    "colab": {
     "base_uri": "https://localhost:8080/"
    },
    "id": "seXFCYH4LDUM",
    "outputId": "c05015aa-871e-4779-9265-5ad07e8bf617",
    "scrolled": true
   },
   "outputs": [],
   "source": [
    "# You must run this cell second\n",
    "try:\n",
    "    from google.colab import drive\n",
    "    drive.mount('/content/drive', force_remount=True)\n",
    "    from google.colab import auth\n",
    "    auth.authenticate_user()\n",
    "    COLAB = True\n",
    "    print(\"Note: using Google CoLab\")\n",
    "    %tensorflow_version 2.x\n",
    "    import requests\n",
    "    gcloud_token = !gcloud auth print-access-token\n",
    "    gcloud_tokeninfo = requests.get('https://www.googleapis.com/oauth2/v3/tokeninfo?access_token=' + gcloud_token[0]).json()\n",
    "    print(gcloud_tokeninfo['email'])\n",
    "except:\n",
    "    print(\"Note: not using Google CoLab\")\n",
    "    COLAB = False"
   ]
  },
  {
   "cell_type": "markdown",
   "metadata": {},
   "source": [
    "# Part 1.6: Python Basics\n",
    "\n",
    "Python includes Lists, Sets, Dictionaries, and other data structures as built-in types. The syntax for each is similar, which can cause confusion for beginning Python programmers. \n",
    "\n",
    "This course will focus primarily on Lists, Sets, and Dictionaries. It is important to understand the differences between these three fundamental collection types.\n",
    "\n",
    "* **List -** A list is a mutable ordered collection that allows duplicate elements.\n",
    "* **Tuple -** A tuple is an immutable ordered collection that allows duplicate elements.\n",
    "* **Dictionary -** A dictionary is a mutable unordered collection that Python indexes with name and value pairs.\n",
    "* **Set -** A set is a mutable unordered collection with no duplicate elements.\n",
    "\n",
    "Most Python collections are _mutable_, meaning the program can add and remove elements after definition. One notable exception is a Python **tuple** which is an _immutable_ collection which means that items cannot be added or removed after its definition. \n",
    "\n",
    "It is also essential to understand that an ordered collection means that items maintain their order as the program adds them to a collection. This order might not be any specific ordering, such as alphabetic or numeric.\n",
    "\n",
    "Lists and tuples are very similar in Python and are often confused. The significant difference is that a list is mutable, but a tuple isn’t. So, we include a list when we want to contain similar items and a tuple when we know what information goes into it ahead of time."
   ]
  },
  {
   "cell_type": "markdown",
   "metadata": {},
   "source": [
    "## Lists and Tuples\n",
    "\n",
    "For a Python programmer, lists and tuples look very similar. Both lists and tuples hold an ordered collection of items. It is possible to get by as a programmer using only lists and ignoring tuples.\n",
    "\n",
    "The primary difference is that a list is enclosed by square braces [], while a tuple is enclosed by parenthesis (). The following code defines both list and tuple."
   ]
  },
  {
   "cell_type": "markdown",
   "metadata": {},
   "source": [
    "### Example 1: Create a list called `myList`\n",
    "\n",
    "The code in the cell below uses square brackets `[ ]` to create a list called `myList`. (Note: `list` is a Python **reserved word** so don't use it a variable name without adding something to it)."
   ]
  },
  {
   "cell_type": "code",
   "execution_count": null,
   "metadata": {},
   "outputs": [],
   "source": [
    "# Example 1: Create a list\n",
    "\n",
    "# Use square brackets to create a list\n",
    "myList = ['a', 'b', 'c', 'd']\n",
    "\n",
    "# Print output\n",
    "print(myList)"
   ]
  },
  {
   "cell_type": "markdown",
   "metadata": {},
   "source": [
    "The output is \n",
    "~~~text\n",
    "['a', 'b', 'c', 'd']\n",
    "~~~"
   ]
  },
  {
   "cell_type": "markdown",
   "metadata": {},
   "source": [
    "### **Exercise 1: Create a tuple called `myTuple`** \n",
    "\n",
    "In the cell below use parentheses `( )` to create a tuple called `myTuple`. (Note: `tuple` is a Python **reserved word** so don't use it a variable name without adding something to it)."
   ]
  },
  {
   "cell_type": "code",
   "execution_count": null,
   "metadata": {},
   "outputs": [],
   "source": [
    "# Insert your code for Exercise 1 here\n",
    "\n"
   ]
  },
  {
   "cell_type": "markdown",
   "metadata": {},
   "source": [
    "If your code is correct you should see the following output.\n",
    "~~~text\n",
    "('a', 'b', 'c', 'd')\n",
    "~~~"
   ]
  },
  {
   "cell_type": "markdown",
   "metadata": {},
   "source": [
    "### Example 2: Change the contents of myList\n",
    "\n",
    "As mentioned above, a list is _mutable_, which means its contents can be changed after it has been created. \n",
    "\n",
    "The code in the cell below demonstrates that the program can change a list. This example uses square bracket `[ ]` indexing to change the _second_ element in `myList`. (Remember: Python starts counting sequences at `0`.)  "
   ]
  },
  {
   "cell_type": "code",
   "execution_count": null,
   "metadata": {},
   "outputs": [],
   "source": [
    "# Example 2: Change contents of myList\n",
    "\n",
    "# Second the second element\n",
    "myList[1] = 'Z'\n",
    "\n",
    "# Print output\n",
    "print(myList)"
   ]
  },
  {
   "cell_type": "markdown",
   "metadata": {},
   "source": [
    "The output is\n",
    "~~~text\n",
    "['a', 'Z', 'c', 'd']\n",
    "~~~\n",
    "\n",
    "The output shows that the contents of a list can be changed after it has been created."
   ]
  },
  {
   "cell_type": "markdown",
   "metadata": {},
   "source": [
    "### **Exercise 2: Change the contents of myTuple**\n",
    "\n",
    "As mentioned above, a tuple is _immutable_, which means its contents can **not** be changed after it has been created. \n",
    "\n",
    "Using **Example 2** as a template. write the code in the cell below to change the _second_ element in `myTuple` to letter `Z`. "
   ]
  },
  {
   "cell_type": "code",
   "execution_count": null,
   "metadata": {},
   "outputs": [],
   "source": [
    "# Insert your code for Exercise 2 here\n",
    "\n"
   ]
  },
  {
   "cell_type": "markdown",
   "metadata": {},
   "source": [
    "If your code is correct you should have triggered the following error message:\n",
    "\n",
    "![_](https://biologicslab.co/BIO1173/images/class_01/class_1_6_error.png)\n",
    "\n",
    "Tuples are immutable. Once they are created their contents can not be changed. "
   ]
  },
  {
   "cell_type": "markdown",
   "metadata": {},
   "source": [
    "### Difference Between List and Tuple\n",
    "\n",
    "The primary difference that you will see _syntactically_ is that a list is enclosed by square braces [ ], and a tuple is enclosed by parenthesis ( ). \n",
    "\n",
    "The following code defines both list and tuple.\n"
   ]
  },
  {
   "cell_type": "code",
   "execution_count": null,
   "metadata": {},
   "outputs": [],
   "source": [
    "myList = ['a', 'b', 'c', 'd']\n",
    "myTuple = ('a', 'b', 'c', 'd')\n",
    "\n",
    "print(myList)\n",
    "print(myTuple)"
   ]
  },
  {
   "cell_type": "markdown",
   "metadata": {},
   "source": [
    "If you code is correct you should see the following out:\n",
    "~~~text\n",
    "['a', 'b', 'c', 'd']\n",
    "('a', 'b', 'c', 'd')\n",
    "~~~\n",
    "The primary difference you will see _programmatically_ is that a list is mutable, which means the program can change it. On the other hand, a tuple is immutable, which means the program cannot change it. "
   ]
  },
  {
   "cell_type": "markdown",
   "metadata": {
    "tags": []
   },
   "source": [
    "##  Python Dictionaries\n",
    "\n",
    "A Python _dictionary_ or `dict` is a _mutable unordered_ collection of _key/value pairs_. A mutable data type in Python is a type of object whose value can be changed after it is created. It means that you can modify, add, or remove elements within the object without creating a new instance of it.\n",
    "\n",
    "For example, lists (list) and dictionaries (dict) in Python are mutable data types. You can change the elements of a list or update the key-value pairs of a dictionary without creating a new list or dictionary. An important aspect of mutability is that if you have multiple references to the same mutable object, any modifications made to the object will be reflected in all the references.\n",
    "\n",
    "In contrast, immutable data types like strings (str), tuples (tuple), and numbers (int, float) cannot be changed after they are created. If you want to modify these types, you need to create a new instance with the desired changes.\n",
    "\n",
    "Like other collection types, `dict` can be called with a collection argument to create a dictionary with the elements of the argument. However, those elements must be `tuples` or `lists` of two elements — a key and a value. Dictionaries are enclosed within curly braces {}, and each item is separated by a comma. The key-value pairs in a dictionary are separated by a colon :."
   ]
  },
  {
   "cell_type": "markdown",
   "metadata": {},
   "source": [
    "### Example 3: Create a `dict` called `DNABaseDict`\n",
    "\n",
    "The code in the cell below uses Python's `dict()` function to create a dictionary called `DNABaseDict`. \n",
    "\n",
    "The dictionary's `keys` are the single-letter abbreviation of the four bases in DNA. Each `key` has an associated `value` which is the name of the base. The `key/value` pairs in this example are contained in a `list` since they are defined using square brackets `[ ]`.   "
   ]
  },
  {
   "cell_type": "code",
   "execution_count": null,
   "metadata": {
    "metadata": {
     "deletable": false,
     "editable": false,
     "trusted": true
    },
    "tags": []
   },
   "outputs": [],
   "source": [
    "# Example 3\n",
    "\n",
    "# create dict using dict() function\n",
    "DNABaseDict = dict((['A', 'adenine'],\n",
    "                    ['C', 'cytosine'],\n",
    "                    ['G', 'guanine'],\n",
    "                    ['T', 'thymine']\n",
    "                   ))\n",
    "\n",
    "# Print out the dictionary\n",
    "DNABaseDict"
   ]
  },
  {
   "cell_type": "markdown",
   "metadata": {},
   "source": [
    "The output is \n",
    "~~~text\n",
    "{'A': 'adenine', 'C': 'cytosine', 'G': 'guanine', 'T': 'thymine'}\n",
    "~~~\n",
    "Python uses curly braces `{ }` to denote that the output is a `list`. "
   ]
  },
  {
   "cell_type": "markdown",
   "metadata": {},
   "source": [
    "### **Exercise 3: Create a `dict` called `RNABaseDict`**\n",
    "\n",
    "In the cell below use Python's `dict()` function to create a dictionary called `RNABaseDict`. The dictionary's `keys` should be the single-letter abbreviations of the four bases in RNA with the `value` being the name of the base. Print out the `RNABaseDict`. You should already know the four nitrogenous bases in RNA. If you don't, you can \"Google\" it.   "
   ]
  },
  {
   "cell_type": "code",
   "execution_count": null,
   "metadata": {},
   "outputs": [],
   "source": [
    "# Insert your code for Exericse 3 here\n",
    "\n"
   ]
  },
  {
   "cell_type": "markdown",
   "metadata": {},
   "source": [
    "If your code for Exercise 3 is correct you should see \n",
    "~~~text\n",
    "{'A': 'adenine', 'C': 'cytosine', 'G': 'guanine', 'U': 'uracil'}\n",
    "~~~"
   ]
  },
  {
   "cell_type": "markdown",
   "metadata": {},
   "source": [
    "-----------------------\n",
    "\n",
    "### **Why the curly braces `{}` ?**\n",
    "\n",
    "Even though parentheses `()` were used to define the `DNABaseDict` dictionary in Example 3, Python printed out this dictionary using curly braces `{}`. \n",
    "\n",
    ">So why the curly braces? \n",
    "\n",
    "Because they are so frequently used, Python provides a notation for dictionaries that is similar to `sets`: a comma-separated `list` of key/value pairs enclosed in curly braces `{}`. Within the braces, a colon `:` is used to separate each key/value pair. When Python prints out a dictionary, it uses the curly brace format.  \n",
    "\n",
    "-----------------------"
   ]
  },
  {
   "cell_type": "markdown",
   "metadata": {
    "tags": []
   },
   "source": [
    "### Example 4: Create `dnaBaseDict` using curly braces `{}`\n",
    "\n",
    "As explained above, you can also create a Python dictionary using curly braces `{}`. The cell below shows how to create a dictionary called `dnaBaseDict` using curly braces. This dictionary is similar to `DNABaseDict` created in Example 1 except that lower case letters are used for the `keys`. "
   ]
  },
  {
   "cell_type": "code",
   "execution_count": null,
   "metadata": {},
   "outputs": [],
   "source": [
    "# Example 4: Create dictionary using {}\n",
    "\n",
    "# Create dictionary using curly braces\n",
    "dnaBaseDict = {'a': 'adenine', 't': 'thymine', 'g': 'guanine',  'c': 'cytosine'}\n",
    "\n",
    "# Print out the dictionary\n",
    "dnaBaseDict\n"
   ]
  },
  {
   "cell_type": "markdown",
   "metadata": {},
   "source": [
    "If you code is correct you should see the following output:\n",
    "~~~text\n",
    "{'a': 'adenine', 't': 'thymine', 'g': 'guanine', 'c': 'cytosine'}\n",
    "~~~"
   ]
  },
  {
   "cell_type": "markdown",
   "metadata": {},
   "source": [
    "### **Exercise 4: Create `rnaBaseDict` using curly braces `{}`**\n",
    "\n",
    "In the cell below create a dictionary called `rnaBaseDict` using curly braces. Use lower case letters for the `keys`. "
   ]
  },
  {
   "cell_type": "code",
   "execution_count": null,
   "metadata": {},
   "outputs": [],
   "source": [
    "# Insert your code for Exercise 4 here\n",
    "\n",
    "\n"
   ]
  },
  {
   "cell_type": "markdown",
   "metadata": {},
   "source": [
    "If your code for Exercise 4 is correct you should see \n",
    "~~~text\n",
    "{'a': 'adenine', 'u': 'uracil', 'g': 'guanine', 'c': 'cytosine'}\n",
    "~~~"
   ]
  },
  {
   "cell_type": "markdown",
   "metadata": {
    "tags": []
   },
   "source": [
    "---------------------------------------------------------------\n",
    "## Unique Keys\n",
    "\n",
    "The keys of a mapping must be **_unique_** within the collection, because the dictionary has no way to distinguish different values indexed by the same key. \n",
    "\n",
    "----------------------------------------------------------------"
   ]
  },
  {
   "cell_type": "markdown",
   "metadata": {},
   "source": [
    "### Bioinformatics Example of a Dictionary\n",
    "\n",
    "Dictionaries are the natural Python representation for tabular data. For example, they can be used to hold rows obtained from a database table: the table’s primary key is the dictionary’s key, and the value can be a tuple, with each element of the tuple representing one column of the table. There is nothing strange about a dictionary key being part of the value associated with it — in fact, this is quite common. \n",
    "\n",
    "The code in the cell below shows how to create the RNA codon translation table using Python dictionary.  "
   ]
  },
  {
   "cell_type": "code",
   "execution_count": null,
   "metadata": {},
   "outputs": [],
   "source": [
    "# Bioinformatics Example\n",
    "\n",
    "RNA_codon_table = {\n",
    "#                        Second Base\n",
    "#        U             C             A             G\n",
    "# U\n",
    "    'UUU': 'Phe', 'UCU': 'Ser', 'UAU': 'Tyr', 'UGU': 'Cys',     # UxU\n",
    "    'UUC': 'Phe', 'UCC': 'Ser', 'UAC': 'Tyr', 'UGC': 'Cys',     # UxC\n",
    "    'UUA': 'Leu', 'UCA': 'Ser', 'UAA': '---', 'UGA': '---',     # UxA\n",
    "    'UUG': 'Leu', 'UCG': 'Ser', 'UAG': '---', 'UGG': 'Urp',     # UxG\n",
    "# C\n",
    "    'CUU': 'Leu', 'CCU': 'Pro', 'CAU': 'His', 'CGU': 'Arg',     # CxU\n",
    "    'CUC': 'Leu', 'CCC': 'Pro', 'CAC': 'His', 'CGC': 'Arg',     # CxC\n",
    "    'CUA': 'Leu', 'CCA': 'Pro', 'CAA': 'Gln', 'CGA': 'Arg',     # CxA\n",
    "    'CUG': 'Leu', 'CCG': 'Pro', 'CAG': 'Gln', 'CGG': 'Arg',     # CxG\n",
    "# A\n",
    "    'AUU': 'Ile', 'ACU': 'Thr', 'AAU': 'Asn', 'AGU': 'Ser',     # AxU\n",
    "    'AUC': 'Ile', 'ACC': 'Thr', 'AAC': 'Asn', 'AGC': 'Ser',     # AxC\n",
    "    'AUA': 'Ile', 'ACA': 'Thr', 'AAA': 'Lys', 'AGA': 'Arg',     # AxA\n",
    "    'AUG': 'Met', 'ACG': 'Thr', 'AAG': 'Lys', 'AGG': 'Arg',     # AxG\n",
    "# G\n",
    "    'GUU': 'Val', 'GCU': 'Ala', 'GAU': 'Asp', 'GGU': 'Gly',     # GxU\n",
    "    'GUC': 'Val', 'GCC': 'Ala', 'GAC': 'Asp', 'GGC': 'Gly',     # GxC\n",
    "    'GUA': 'Val', 'GCA': 'Ala', 'GAA': 'Glu', 'GGA': 'Gly',     # GxA\n",
    "    'GUG': 'Val', 'GCG': 'Ala', 'GAG': 'Glu', 'GGG': 'Gly'      # GxG\n",
    "}\n"
   ]
  },
  {
   "cell_type": "markdown",
   "metadata": {},
   "source": [
    "-------------------\n",
    "\n",
    "### Why not just use a Python `list` instead of a `dict`?\n",
    "\n",
    "You might be asking yourself whether you could create the RNA codon table using a Python `list` instead of a `dict`? After all, a `list` can do everything, and more, that a `dict` can do. \n",
    "\n",
    "The answer is that while you could use a `list` to make an RNA codon table, it would be much harder to use. If our codon table was a `list`, we would have to write a lot of code in order to search through it to find the translation we want. \n",
    "\n",
    "As you will see below, using a dictionary for our codon table makes looking up the amino acid for a particular codon a trivial task.\n",
    "\n",
    "-------------------"
   ]
  },
  {
   "cell_type": "markdown",
   "metadata": {
    "tags": []
   },
   "source": [
    "### Simple function to look-up an amino acid from the RNA codon table\n",
    "\n",
    "In order to use our `RNA_codon_table` we first need to create the simple function shown in the cell below. The process of writing Python functions will be covered in a later lesson. "
   ]
  },
  {
   "cell_type": "code",
   "execution_count": null,
   "metadata": {},
   "outputs": [],
   "source": [
    "# Create translation function\n",
    "\n",
    "def translate_RNA_codon(codon):\n",
    "    return RNA_codon_table[codon]"
   ]
  },
  {
   "cell_type": "markdown",
   "metadata": {},
   "source": [
    "### Example 5: Find the amino acid coded by 'UUU'\n",
    "\n",
    "The **_genetic code_** was first 'broken' in 1961 by Mashall Nirenberg and Heinrich Matthaei working at the National Institutes of Health (NIH). (In the picture below, Nirenberg can be seen sitting in his lab with Matthaei standing at the left). \n",
    "\n",
    "![](https://biologicslab.co/BIO1173/images/class_01/Nierenberg_matthaei.png)\n",
    "\n",
    "To break the genetic code, Nirenberg and Matthaei synthesized an artifical strand of mRNA containing only one nucleotide, uracil ('U'). This special RNA is called **_poly(U)_**. \n",
    "\n",
    "When they placed their _poly(U)_ into a test tube containing ribosomes, a protein with repeating copies of the amino acid _phenylalanine_ (phe) was produced. From this they concluded that the codon \"UUU\" coded for the amino acid **phenlyalanine**. \n",
    "\n",
    "The Python code in the cell below shows how to use the `translate_RNA_codon()` function to look-up the amino acid coded by 'UUU'."
   ]
  },
  {
   "cell_type": "code",
   "execution_count": null,
   "metadata": {},
   "outputs": [],
   "source": [
    "# Example 5: Use codon dictionary\n",
    "\n",
    "# Look-up codon UUU\n",
    "translate_RNA_codon('UUU')"
   ]
  },
  {
   "cell_type": "markdown",
   "metadata": {},
   "source": [
    "If your code is correct you should see the following output:\n",
    "~~~text\n",
    "'Phe'\n",
    "~~~\n",
    "Just as Nirenberg and Matthaei found in there pioneering experiment, the codon `UUU` codes for the amino acid `Phe` or phenylanine. "
   ]
  },
  {
   "cell_type": "markdown",
   "metadata": {
    "tags": []
   },
   "source": [
    "### **Exercise 5: Find the amino acid coded by 'AAA'**\n",
    "\n",
    "Within a few years, Nirenberg and Matthaei repeated their experiment using mRNA strands containing only adenine (A) and cytocine (C). (For technical reasons, they weren't able to synthesis mRNA containing only guanine (G)).\n",
    "\n",
    "In the cell below, write the Python code needed to find the amino acid coded by 'AAA'."
   ]
  },
  {
   "cell_type": "code",
   "execution_count": null,
   "metadata": {},
   "outputs": [],
   "source": [
    "# Insert you code for Exercise 5 here\n",
    "\n",
    "# Use function to look-up codon AAA\n",
    "translate_RNA_codon('AAA')"
   ]
  },
  {
   "cell_type": "markdown",
   "metadata": {},
   "source": [
    "If your code is correct you should see the following output:\n",
    "~~~text\n",
    "'Lys'\n",
    "~~~\n",
    "'Lys', the 3-letter abbreviation for the amino acid **lysine**. Nirenberg and Matthaei found that their synthetic _poly(A)_ created a polypeptide that only contained the amino acid lysine. "
   ]
  },
  {
   "cell_type": "markdown",
   "metadata": {},
   "source": [
    "## Python Sets\n",
    "\n",
    "A Python **set** is an _unordered_ collection of items that contains _**no** duplicates_. As we will see, if you try to add an item that is already in a set, nothing happens. \n",
    "\n",
    "Since strings behave as collections, a string can be used as the argument for a call to set. The resulting set will contain a **single-character string** for each unique character that appears in the argument. The order in which the elements of a set are printed will not necessarily bear any relation to the order in which they were added as shown in Example 1."
   ]
  },
  {
   "cell_type": "markdown",
   "metadata": {},
   "source": [
    "### Example 6: Create a Set called `DNABases_set`\n",
    "\n",
    "The code below shows how to create a set of single-character strings called `DNABase_set` using curly braces `{}`."
   ]
  },
  {
   "cell_type": "code",
   "execution_count": null,
   "metadata": {
    "tags": []
   },
   "outputs": [],
   "source": [
    "# Example 6\n",
    "\n",
    "# Create a set called DNABases_set\n",
    "DNABases_set = {'T', 'C', 'A', 'G'}\n",
    "\n",
    "# Print DNABases_set\n",
    "print(DNABases_set)"
   ]
  },
  {
   "cell_type": "markdown",
   "metadata": {},
   "source": [
    "If you code is correct you should see something _similiar_the following output:\n",
    "~~~text\n",
    "{'C', 'A', 'G', 'T'}\n",
    "~~~\n",
    "You should notice two things. First our set is **not** the string \"TCAG', but a collection of 4 single-character strings (\"letters\"), A, C, G and T. \n",
    "\n",
    "Second, the order in the \"letters\" when we created the set (TCAG) may not preserved. When we printed out the `DNABases_set`, the \"letters\" were printed out _alphabetically_. \n",
    "\n",
    "Also, a set is an _unordered_ collection. If you tried to use square brackets `[]` to index an item in a set, you would get the error message: `set object is not subscriptable`. "
   ]
  },
  {
   "cell_type": "markdown",
   "metadata": {},
   "source": [
    "### **Exercise 6: Create a Set called `RNABases_set`**\n",
    "\n",
    "In the cell below, create a new set called `RNABases_set` and print it out. Remember that in RNA the base _uracil_ substitutes for the base _thymine_."
   ]
  },
  {
   "cell_type": "code",
   "execution_count": null,
   "metadata": {},
   "outputs": [],
   "source": [
    "# Insert your code for Exercise 6 here\n",
    "\n"
   ]
  },
  {
   "cell_type": "markdown",
   "metadata": {},
   "source": [
    "If your code is correct you should see something _similiar_ to the following output:\n",
    "~~~text\n",
    "{'U', 'A', 'G', 'C'}`\n",
    "~~~\n",
    "The order of the \"letters\" might be different."
   ]
  },
  {
   "cell_type": "markdown",
   "metadata": {},
   "source": [
    "### Example 7: Algebraic set operations - Union\n",
    "\n",
    "In Python there are a number of operations and functions that work on different _collection_ types such as _sets_. In this example, we show one example of an operation called _union_. \n",
    "\n",
    "The \"adding\" of one set with another is called the _union_ of the two sets. In Python, you can use the `|` operator to create a **union** of two sets as shown in the next cell."
   ]
  },
  {
   "cell_type": "code",
   "execution_count": null,
   "metadata": {},
   "outputs": [],
   "source": [
    "# Example 7: Union of 2 sets\n",
    "\n",
    "# Create a new set called AddBases_set\n",
    "AddBases_set =  {'X', 'Y', 'Z', 'U', 'U', 'A','A'}\n",
    "\n",
    "# Use | to create union \n",
    "RNABases_set_union = RNABases_set | AddBases_set\n",
    "\n",
    "# Print the new set\n",
    "print(RNABases_set_union)"
   ]
  },
  {
   "cell_type": "markdown",
   "metadata": {},
   "source": [
    "If your code is correct you should see something similiar to the following output:\n",
    "~~~text\n",
    "{'A', 'U', 'C', 'Y', 'Z', 'G', 'X'}\n",
    "~~~\n",
    "Notice that when we add the two sets together, only the letters `XYZ` were added to `RNABases_set`, not the additional `U`s and `A`s. \n",
    "\n",
    ">Why?\n",
    "\n",
    "Because every element in a set must be **unique**. Since our original `RNABases_set` already contained the letters U and A, they were not added, only the new letters, X, Y and Z. In other words, a set can only contain one example of each element."
   ]
  },
  {
   "cell_type": "markdown",
   "metadata": {},
   "source": [
    "### **Exercise 7: Try to create a set with duplicated items**\n",
    "\n",
    "Because each element in a set must be _unique_, when you try to create a set with duplicated items, you don't get an error, but only one item will be added to the set. \n",
    "\n",
    "In the cell below, create a set called `RNABases_set2` with `{'U', 'A', 'A', 'G', 'U', 'C', 'C'}` and then print out the set. "
   ]
  },
  {
   "cell_type": "code",
   "execution_count": null,
   "metadata": {},
   "outputs": [],
   "source": [
    "# Insert your code for Exercise 7 here\n",
    "\n"
   ]
  },
  {
   "cell_type": "markdown",
   "metadata": {},
   "source": [
    "If your code is correct, you should see: \n",
    "~~~text\n",
    "{'A', 'C', 'G', 'U'}\n",
    "~~~~\n",
    "The new `RNABases_set2` only contains one example of each item."
   ]
  },
  {
   "cell_type": "markdown",
   "metadata": {},
   "source": [
    "### Example 8: Algebraic set operations - Intersection\n",
    "\n",
    "Another algebraic set operation is **intersection**. \n",
    "\n",
    "The cell below uses the `&` operator to find the intersection of two sets."
   ]
  },
  {
   "cell_type": "code",
   "execution_count": null,
   "metadata": {},
   "outputs": [],
   "source": [
    "# Example 8: Set intersection using & operator\n",
    "\n",
    "# Create 2 sets using curly braces\n",
    "let1_set = {'a','b','c','d','e'}\n",
    "let2_set = {'c','d','e','f','g'}\n",
    "\n",
    "# Use `&` to find their intersection\n",
    "let_set_intersection = let1_set & let2_set\n",
    "\n",
    "# Print out the intersection\n",
    "print(let_set_intersection)"
   ]
  },
  {
   "cell_type": "markdown",
   "metadata": {},
   "source": [
    "The output from the algebraic set operation, intersection, is:\n",
    "~~~text\n",
    "{'c', 'd', 'e'}\n",
    "~~~\n",
    "Set intersection is the set of elements that _both_ sets have in common. In this example, only the letters `c`, `d` and `e` were contained in both sets. "
   ]
  },
  {
   "cell_type": "markdown",
   "metadata": {},
   "source": [
    "### **Exercise 8: Algebraic set operations - Intersection**\n",
    "\n",
    "In Example 8, set intersection was found using the `&` operator. Python also offers the `intersection()` method for accomplishing the same thing.  \n",
    "\n",
    "The cell below use the  `intersection()` method to find the intersection between the same two sets, `let1_set` and `let2_set` used in Example 8.\n",
    "\n",
    "(**HINT:** The use of Python _methods_ was covered in Class_01_04. Methods are called using _dot notation_. In this case, the `intersection()` method is attached (by the dot) to the first set and its argument is the second set.) "
   ]
  },
  {
   "cell_type": "code",
   "execution_count": null,
   "metadata": {},
   "outputs": [],
   "source": [
    "# Insert your code for Exercise 8 here\n",
    "\n"
   ]
  },
  {
   "cell_type": "markdown",
   "metadata": {},
   "source": [
    "If your code is correct you should see the following output:\n",
    "~~~text\n",
    "{'c', 'd', 'e'}\n",
    "~~~"
   ]
  },
  {
   "cell_type": "markdown",
   "metadata": {},
   "source": [
    "### Example 9: Use `add()` method with sets\n",
    "\n",
    "A list is always enclosed in square braces `[ ]`, a tuple in parenthesis `( )`, and similarly a set is enclosed in curly braces `{ }`. \n",
    "Programs can add items to a set as they run. Programs can dynamically add items to a set with the add function. It is important to note that the **_append function_** adds items to lists, whereas the **_add function_** adds items to a set. "
   ]
  },
  {
   "cell_type": "code",
   "execution_count": null,
   "metadata": {},
   "outputs": [],
   "source": [
    "# Example 9: Use add() method\n",
    "\n",
    "# Manually add items, sets do not allow duplicates\n",
    "mySet = set()\n",
    "mySet.add('a')\n",
    "mySet.add('b')\n",
    "mySet.add('c')\n",
    "mySet.add('c')\n",
    "print(mySet)"
   ]
  },
  {
   "cell_type": "markdown",
   "metadata": {},
   "source": [
    "The output is the set \n",
    "~~~text\n",
    "{'a', 'b', 'c'} \n",
    "~~~\n",
    "Sets can only contain _unique_ items so there is only one `c` in the final set."
   ]
  },
  {
   "cell_type": "markdown",
   "metadata": {},
   "source": [
    "### **Exercise 9: Use `append()` method with lists** \n",
    "\n",
    "While programs can dynamically add items to a set with the `add()` method you must use the `append()` method to add items to a list. \n",
    "\n",
    "In the cell below use the `append()` method function to adds item to a list called `myList` using **Example 9** as a template."
   ]
  },
  {
   "cell_type": "code",
   "execution_count": null,
   "metadata": {},
   "outputs": [],
   "source": [
    "# Insert your code for Exercise 9 here\n",
    "\n"
   ]
  },
  {
   "cell_type": "markdown",
   "metadata": {},
   "source": [
    "If your code is correct you should see the following list:  \n",
    "~~~text\n",
    "['a', 'b', 'c', 'c'] \n",
    "~~~\n",
    "Lists (but _not_ sets) can contain _duplicate_ items so the letter `c` appears twice in this list."
   ]
  },
  {
   "cell_type": "markdown",
   "metadata": {},
   "source": [
    "## **Lesson Turn-in**\n",
    "\n",
    "When you have completed all of the code cells, and run them in sequential order (the last code cell should be number 23). \n",
    "\n",
    "NOTE: You **won't** be able to use the **Restart the kernel and run all the cells** icon for this lesson, since there is an intentional error in **Exercise 2**. Whenever there is an error, the Python Interpreter stops. Simply go to the code cell after **Exercise 2** and manually run all of the remaining code cells in order, using either Shift+Enter or by clicking on the **Run this cell and advance** icon in the toolbar menu.   \n",
    "\n",
    "Whe all of the cells have been run, use the **File --> Print.. --> Save to PDF** to generate a PDF of your JupyterLab notebook. Save your PDF as `Lesson_01_6.lastname.pdf` where _lastname_ is your last name, and upload the file to Canvas."
   ]
  }
 ],
 "metadata": {
  "kernelspec": {
   "display_name": "Python 3.9 (biostats)",
   "language": "python",
   "name": "biostats"
  },
  "language_info": {
   "codemirror_mode": {
    "name": "ipython",
    "version": 3
   },
   "file_extension": ".py",
   "mimetype": "text/x-python",
   "name": "python",
   "nbconvert_exporter": "python",
   "pygments_lexer": "ipython3",
   "version": "3.9.19"
  }
 },
 "nbformat": 4,
 "nbformat_minor": 4
}
