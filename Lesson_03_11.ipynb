{
  "cells": [
    {
      "cell_type": "markdown",
      "metadata": {
        "id": "view-in-github",
        "colab_type": "text"
      },
      "source": [
        "<a href=\"https://colab.research.google.com/github/DavidSenseman/BIO5853/blob/main/Lesson_03_11.ipynb\" target=\"_parent\"><img src=\"https://colab.research.google.com/assets/colab-badge.svg\" alt=\"Open In Colab\"/></a>"
      ]
    },
    {
      "cell_type": "markdown",
      "metadata": {
        "id": "5fMJllh9ess1"
      },
      "source": [
        "---------------------------\n",
        "\n",
        "**COPYRIGHT NOTICE:** This Jupyterlab/Colab notebook is a companion supplement to the textbook _Principles of Biostatistics_ by M. Pagano. K. Marcello and H. Mattie (3rd ed) published in 2022 by CRC Press. It is designed to be used in conjunction with -- not as a standalone substitute for – this textbook.  \n",
        "\n",
        "This notebook is licensed under the Apache License, Version 2.0 (the \"License\"); You may not use this file except in compliance with the License. You may obtain a copy of the License at\n",
        ">http://www.apache.org/licenses/LICENSE-2.0\n",
        "\n",
        "Unless required by applicable law or agreed to in writing, software distributed under the License is distributed on an \"AS IS\" BASIS, WITHOUT WARRANTIES OR CONDITIONS OF ANY KIND, either express or implied. See the License for the specific language governing permissions and limitations under the License.\n",
        "\n",
        "------------------------"
      ]
    },
    {
      "cell_type": "markdown",
      "metadata": {
        "id": "oDlBiNhIess1"
      },
      "source": [
        "# **BIO 5853: Biostatistics**"
      ]
    },
    {
      "cell_type": "markdown",
      "metadata": {
        "jp-MarkdownHeadingCollapsed": true,
        "id": "-FM_an4qess1"
      },
      "source": [
        "##### **Module 3: Inference**\n",
        "\n",
        "* Instructor: [David Senseman](mailto:David.Senseman@utsa.edu), [Department of Integrative Biology](https://sciences.utsa.edu/integrative-biology/), [UTSA](https://www.utsa.edu/)\n",
        "\n",
        "\n",
        "### Module 3 Material\n",
        "\n",
        "* Part 3.1: Confidence Intervals\n",
        "* Part 3.2: Hypothesis Testing\n",
        "* Part 3.3: Comparison of Two Means\n",
        "* Part 3.4: Analysis of Variance (ANOVA)\n",
        "* Part 3.5: Nonparametric Methods\n",
        "* Part 3.6: Inference on Proportions\n",
        "* Part 3.7: Contingency Tables\n",
        "* Part 3.8: Correlation\n",
        "* Part 3.9: Simple Linear Regression\n",
        "* Part 3.10: Multiple Linear Regression\n",
        "* Part **3.11: Logistic Regression**\n",
        "* Part 3.12: Survival Analysis"
      ]
    },
    {
      "cell_type": "markdown",
      "metadata": {
        "id": "yKQylnEiLDUM"
      },
      "source": [
        "## Google CoLab Instructions\n",
        "\n",
        "The following code ensures that Google CoLab is running the correct version of TensorFlow.\n",
        "  Running the following code will map your GDrive to ```/content/drive```."
      ]
    },
    {
      "cell_type": "code",
      "execution_count": null,
      "metadata": {
        "id": "seXFCYH4LDUM"
      },
      "outputs": [],
      "source": [
        "# YOU MUST RUN THIS CODE CELL FIRST\n",
        "\n",
        "try:\n",
        "    from google.colab import drive\n",
        "    drive.mount('/content/drive', force_remount=True)\n",
        "    from google.colab import auth\n",
        "    auth.authenticate_user()\n",
        "    COLAB = True\n",
        "    print(\"Note: using Google CoLab\")\n",
        "    import requests\n",
        "    gcloud_token = !gcloud auth print-access-token\n",
        "    gcloud_tokeninfo = requests.get('https://www.googleapis.com/oauth2/v3/tokeninfo?access_token=' + gcloud_token[0]).json()\n",
        "    print(gcloud_tokeninfo['email'])\n",
        "except:\n",
        "    print(\"Note: not using Google CoLab\")\n",
        "    COLAB = False"
      ]
    },
    {
      "cell_type": "markdown",
      "metadata": {
        "id": "tLr-0ZCZess3"
      },
      "source": [
        "# **Part 3.11: Logistics Regression**\n",
        "\n",
        "**Logistic regression** is a statistical method used to model the relationship between a binary dependent variable (an outcome that has two possible values, such as 0 or 1) and one or more independent variables (predictors). It is particularly useful when the outcome of interest is categorical, such as \"disease\" vs. \"no disease\" or \"success\" vs. \"failure.\"\n",
        "\n",
        "### Why is Logistic Regression Important for Biostatistics?\n",
        "\n",
        "1. **Predicting Binary Outcomes**: In biostatistics, logistic regression is often used to predict the probability of a binary outcome, such as whether a patient has a disease or not based on various predictors like age, gender, and other risk factors.\n",
        "\n",
        "2. **Odds Ratios**: Logistic regression provides odds ratios, which are measures of association between the predictors and the outcome. This helps in understanding the strength and direction of the relationship between variables.\n",
        "\n",
        "3. **Handling Multiple Predictors**: It can handle multiple predictors, both continuous and categorical, making it versatile for complex biomedical data.\n",
        "\n",
        "4. **Interpretable Results**: The results of logistic regression are relatively easy to interpret, which is crucial for making informed decisions in healthcare and medical research.\n",
        "\n",
        "5. **Modeling Probabilities**: Unlike linear regression, logistic regression models probabilities that are constrained between 0 and 1, making it suitable for binary outcomes.\n",
        "\n",
        "6. **Generalized Linear Models**: Logistic regression is a type of generalized linear model, which extends the linear model to allow for response variables that have error distribution models other than a normal distribution.\n"
      ]
    },
    {
      "cell_type": "markdown",
      "metadata": {
        "id": "HjLeqyq5ess3"
      },
      "source": [
        "### **Introduction**\n",
        "\n",
        "When studying linear regression, we estimate a population regression equation\n",
        "\n",
        "$$ \\mu_{y|x_1, x_2, \\ldots, x_q} = \\beta_0 + \\beta_1 x_1 + \\beta_2 x_2 + \\cdots + \\beta_q x_q $$\n",
        "\n",
        "\n",
        "by fitting a model of the form\n",
        "\n",
        "$$ y = \\beta_0 + \\beta_1 x_1 + \\beta_2 x_2 + \\cdots + \\beta_q x_q + \\epsilon\n",
        "$$\n",
        "\n",
        "The response $Y$ is continuous, and is assumed to follow a normal distribution. We are concerned\n",
        "with predicting or estimating the mean value of the response corresponding to a given set of values for the explanatory variables.\n",
        "\n",
        "There are many situations, however, in which the response of interest is _dichotomous_ rather than continuous. Examples of variables that assume only two possible values are disease status (disease is either present or absent) and survival following surgery (a patient is either alive or dead). In general,\n",
        "the value 1 is used to represent a “success,” or the outcome we are most interested in, and 0 represents a “failure.” The mean of the dichotomous random variable Y, designated p, is the proportion of times that Y takes the value 1. Equivalently,\n",
        "\n",
        "$$ p = P(Y=1) = P(\"success”). $$\n",
        "\n",
        "Just as we estimate the mean value of the response when Y is continuous, we would like to be able to estimate the probability p associated with a dichotomous response for various values of an explanatory variable. To do this, we use a technique known as _logistic regression_.\n",
        "\n"
      ]
    },
    {
      "cell_type": "markdown",
      "metadata": {
        "id": "ZDZEBjJqess4"
      },
      "source": [
        "## **Dataset for this Lesson**\n",
        "\n",
        "In this lesson we will be using only 1 dataset that we need to download from the course file server and store in DataFrames."
      ]
    },
    {
      "cell_type": "markdown",
      "metadata": {
        "id": "ASdq50kdess4"
      },
      "source": [
        "### Example 1: Read Datafile\n",
        "\n",
        "We will be using a datafile called `hyponatremia.csv` stored on the course HTTPS server. As the file is read, the data is stored in a DataFrame called `hypoDF`.\n",
        "\n",
        "_Data Description:_\n",
        "\n",
        "**Hyponatremia** is a condition where the sodium levels in your blood are abnormally low. Sodium is an essential electrolyte that helps regulate water balance in and around cells, maintain normal blood pressure, and support nerve and muscle function. When sodium levels drop, it can cause water to move into cells, leading to swelling. Hyponatremia is more likely in female marathon runners than in male runners due to several factors:\n",
        "\n",
        "1. **Body Composition**: Women generally have a higher percentage of body fat and lower muscle mass compared to men. This can affect fluid and electrolyte balance during prolonged exercise.\n",
        "2. **Hormonal Differences**: Female hormones, particularly estrogen, can influence fluid regulation and sodium balance in the body.\n",
        "3. **Fluid Intake**: Women may be more likely to drink excessive amounts of water during a marathon, especially if they are concerned about dehydration. This can dilute sodium levels in the blood.\n",
        "\n",
        "These factors combined make female marathon runners more susceptible to developing hyponatremia during long-distance races.\n",
        "\n",
        "This particular dataset contains"
      ]
    },
    {
      "cell_type": "code",
      "execution_count": null,
      "metadata": {
        "scrolled": true,
        "id": "8C7s4ZNzess4"
      },
      "outputs": [],
      "source": [
        "# Example 1: Read datafile\n",
        "\n",
        "import pandas as pd\n",
        "\n",
        "# Read datafile and create DataFrame\n",
        "hypoDF = pd.read_csv(\n",
        "    \"https://biologicslab.co/BIO5853/data/hyponatremia.csv\",\n",
        "    index_col=0,\n",
        "    sep=',',\n",
        "    na_values=['NA','?'])\n",
        "\n",
        "# Set max rows and max columns\n",
        "pd.set_option('display.max_rows', 6)\n",
        "pd.set_option('display.max_columns', 8)\n",
        "\n",
        "# Display DataFrame\n",
        "display(hypoDF)"
      ]
    },
    {
      "cell_type": "markdown",
      "metadata": {
        "id": "x-FaGkSTess4"
      },
      "source": [
        "If the code is correct, you should see the following output:\n",
        "\n",
        "![____](https://biologicslab.co/BIO5853/images/module_03/lesson_03_11_image01.png)"
      ]
    },
    {
      "cell_type": "markdown",
      "metadata": {
        "id": "Ritlw00Yess4"
      },
      "source": [
        "You should note that some of the values are `NaN` which means `Not a Number`. We will have to be careful to take care these `NaNs` when analyzing this DataFrame `hypoDF`."
      ]
    },
    {
      "cell_type": "markdown",
      "metadata": {
        "id": "SJbcMwLTess6"
      },
      "source": [
        "## **The Model**\n",
        "\n",
        "Among marathonn runners. hyponatremia--defined as a decrease in blood sodium level to a value less than or equal to 135 millimoles per liter--can cause life threatening illness and, in extreme cases, death. In a sample of 488 adults who completed the Boston Marathon and who are considered to be representative of the larger population of runners who complete marathons, 62 were diagnosed with hyponatremia [287]. Let Y be a dichotomous random variable for which the value 1 represents a diagnosis of hyponatremia in a runner and 0 no such diagnosis. We would estimate the probabilitythat a runner develops hyponatremia by the sample proportion\n",
        "\n",
        "$$ \\hat{p}= \\frac{62}{488} = 0.127 $$\n",
        "\n",
        "Overall, 12.7% of runners in the sample are diagnosed with this condition.\n",
        "\n"
      ]
    },
    {
      "cell_type": "markdown",
      "source": [
        "### Example 2: Compute Probability\n",
        "\n",
        "The code in the cell below shows how you would compute $\\hat{p}$ value shown in the cell above.\n",
        "\n",
        "_Code Description:_\n",
        "\n",
        "To compute the total number of runners with hyponatremia, the following code chunk is used:\n",
        "\n",
        "```python\n",
        "# Define the number of runners with hyponatremia\n",
        "num_hyponatremia = sum(hypoDF['hyponatremia'])\n",
        "```\n",
        "\n",
        "The works because a runner diagnosed with hyponatremia is assigned the value of `1` in the DataFrame. So adding up all of the `1s` gives the total number of runners diagnosed with hyponatremia."
      ],
      "metadata": {
        "id": "gCJXJ5dAIi4N"
      }
    },
    {
      "cell_type": "code",
      "source": [
        "# Example 2: Compute probability\n",
        "\n",
        "import pandas as pd\n",
        "\n",
        "# Define the number of runners with hyponatremia\n",
        "num_hyponatremia = sum(hypoDF['hyponatremia'])\n",
        "\n",
        "# Compute probability\n",
        "prob_hyponatremia = num_hyponatremia/len(hypoDF['hyponatremia'])\n",
        "\n",
        "# Print out the result\n",
        "print(f\"The predicted probability (p̂) is:{prob_hyponatremia:.3f}\")"
      ],
      "metadata": {
        "id": "WuN9vXUL8BKH"
      },
      "execution_count": null,
      "outputs": []
    },
    {
      "cell_type": "markdown",
      "source": [
        "If the code is correct, you should see the following output:\n",
        "\n",
        "~~~text\n",
        "The predicted probability (p̂) is:0.127\n",
        "~~~"
      ],
      "metadata": {
        "id": "dYbUAOCuKmcc"
      }
    },
    {
      "cell_type": "markdown",
      "source": [
        "### **Scatter Plot of Weight Gain and Hyponatremia**\n",
        "\n",
        "We might suspect there are certain factors which affect the likelihood that a particular individual will develop hyponatremia. If we could classify a runner according to these characteristics, it might be possible to calculate a more informative estimate of their probability of developing hyponatremia.\n",
        "\n",
        "Since it was hypothesized that excessive fluid consumption during the race might be associated with development of hyponatremia, for example, one factor of interest is a runner’s change in weight from the beginning of the marathon to its end. If the response Y were continuous, we would begin an analysis by constructing a scatter plot of the response versus the continuous explanatory variable.\n",
        "\n",
        "A graph of hyponatremia versus weight gain in pounds is displayed in **Figure 19.1** for the 455 individuals for whom weight gain was measured. Note that all points lie on one of two parallel lines, depending on whether Y takes the value 0 or 1. There does appear to be a tendency for individuals who develop hyponatremia to have higher weight gain, on average, while those who do not develop hyponatremia have lower weight gain. There is a lot of overlap, however, and the nature of this is not clear from the graph.\n"
      ],
      "metadata": {
        "id": "beI7s0biJlia"
      }
    },
    {
      "cell_type": "markdown",
      "metadata": {
        "id": "mlPm4OB_ess6"
      },
      "source": [
        "  \n",
        "\n",
        "![____](https://biologicslab.co/BIO5853/images/module_03/lesson_03_11_image02.png)\n",
        "\n",
        "**FIGURE 19.1**  Head circumference versus birthweight for a sample of 100 low birth weight infants"
      ]
    },
    {
      "cell_type": "markdown",
      "metadata": {
        "id": "K0xLgLgIess6"
      },
      "source": [
        "### Example 2: Two-Way Scatter Plot\n",
        "\n",
        "The code in the cell below shows how to recreate **Figure 19.1** using Python.\n",
        "\n",
        "_Code Decription:_\n",
        "\n",
        "1. **Import Libraries**:\n",
        "    ```python\n",
        "    import matplotlib.pyplot as plt\n",
        "    import numpy as np\n",
        "    ```\n",
        "    - `matplotlib.pyplot` is used for creating plots.\n",
        "    - `numpy` is used for numerical operations, although it's not used extensively in this snippet.\n",
        "\n",
        "2. **Assuming `hypoDF` DataFrame**:\n",
        "    ```python\n",
        "    # Assuming hypoDF is already defined as a DataFrame\n",
        "    x = hypoDF['wt_gain'].values\n",
        "    y = hypoDF['hyponatremia'].values\n",
        "    ```\n",
        "    - `hypoDF` is assumed to be a DataFrame with columns `wt_gain` and `hyponatremia`.\n",
        "    - `x` contains the values of weight gain during the race.\n",
        "    - `y` contains the values indicating the diagnosis of hyponatremia.\n",
        "\n",
        "3. **Create Plotting Environment**:\n",
        "    ```python\n",
        "    fig, ax = plt.subplots()\n",
        "    ```\n",
        "    - `fig` and `ax` are created for plotting. `fig` is the figure object, and `ax` is the axes object where the plot will be drawn.\n",
        "\n",
        "4. **Define Color**:\n",
        "    ```python\n",
        "    color_1 = '#15466d'\n",
        "    ```\n",
        "    - A color is defined for the scatter plot points.\n",
        "\n",
        "5. **Create Scatter Plot**:\n",
        "    ```python\n",
        "    scatter = ax.scatter(x, y, facecolors='none', edgecolors=color_1)\n",
        "    ```\n",
        "    - A scatter plot is created with `x` and `y` values.\n",
        "    - `facecolors='none'` makes the points transparent.\n",
        "    - `edgecolors=color_1` sets the color of the point edges to `#15466d`.\n",
        "\n",
        "6. **Set X-axis Limits**:\n",
        "    ```python\n",
        "    ax.set_xlim(-8, 6)\n",
        "    ```\n",
        "    - The x-axis limits are set from -8 to 6.\n",
        "\n",
        "7. **Set Y-axis Ticks and Limits**:\n",
        "    ```python\n",
        "    ax.set_yticks([0, 1])\n",
        "    ax.set_ylim(-0.1, 1.1)\n",
        "    ```\n",
        "    - The y-axis ticks are set to show only 0 and 1.\n",
        "    - The y-axis limits are set from -0.1 to 1.1 to ensure ticks are visible.\n",
        "\n",
        "8. **Add Labels**:\n",
        "    ```python\n",
        "    ax.set_xlabel('Weight gain during race (lb)', fontsize=12)\n",
        "    ax.set_ylabel('Diagnosis of hyponatremia', fontsize=12)\n",
        "    ```\n",
        "    - X-axis and y-axis labels are added with a font size of 12.\n",
        "\n",
        "9. **Display the Plot**:\n",
        "    ```python\n",
        "    plt.show()\n",
        "    ```\n",
        "    - The plot is displayed.\n",
        "\n",
        "#### Summary\n",
        "\n",
        "- This code creates a scatter plot with weight gain during the race on the x-axis and the diagnosis of hyponatremia on the y-axis.\n",
        "- The points are displayed with no face color and colored edges.\n",
        "- The x-axis ranges from -8 to 6, and the y-axis shows only the ticks for 0 and 1.\n",
        "- Labels are added to both axes for clarity.\n"
      ]
    },
    {
      "cell_type": "code",
      "source": [
        "# Example 3: 2-way scatter plot\n",
        "\n",
        "import matplotlib.pyplot as plt\n",
        "import numpy as np\n",
        "\n",
        "# Assuming hypoDF is already defined as a DataFrame\n",
        "x = hypoDF['wt_gain'].values\n",
        "y = hypoDF['hyponatremia'].values\n",
        "\n",
        "# Create plotting environment\n",
        "fig, ax = plt.subplots()\n",
        "\n",
        "# Define color\n",
        "color_1 = '#15466d'\n",
        "\n",
        "# Create the scatter plot with varying marker size\n",
        "scatter = ax.scatter(x, y, facecolors='none', edgecolors=color_1)\n",
        "\n",
        "# Set x-axis limits\n",
        "ax.set_xlim(-8,6)\n",
        "\n",
        "# Set y-axis ticks to only 0 and 1\n",
        "ax.set_yticks([0, 1])\n",
        "# Set y-axis limits to ensure ticks are visible\n",
        "ax.set_ylim(-0.1, 1.1)\n",
        "\n",
        "# Adding labels\n",
        "ax.set_xlabel('Weight gain during race (lb)', fontsize=12)\n",
        "ax.set_ylabel('Diagnosis of hyponatremia', fontsize=12)\n",
        "\n",
        "# Display the plot\n",
        "plt.show()\n"
      ],
      "metadata": {
        "id": "akLlVD69CKrz"
      },
      "execution_count": null,
      "outputs": []
    },
    {
      "cell_type": "markdown",
      "metadata": {
        "id": "WOwzh1N5ess6"
      },
      "source": [
        "If the code is correct, you should see the following plot:\n",
        "\n",
        "![____](https://biologicslab.co/BIO5853/images/module_03/lesson_03_11_image03.png)"
      ]
    },
    {
      "cell_type": "markdown",
      "metadata": {
        "id": "SEfswQL4ess6"
      },
      "source": [
        "A graph of hyponatremia versus weight gain in pounds is displayed in **Figure 19.1** for the 455 individuals for whom weight gain was measured. Note that all points lie on one of two parallel lines, depending on whether Y takes the value 0 or 1. There does appear to be a tendency for individuals who develop hyponatremia to have higher weight gain, on average, while those who do not develop hyponatremia have lower weight gain. There is a lot of overlap, however, and the nature of this is not clear from the graph.\n"
      ]
    },
    {
      "cell_type": "markdown",
      "source": [
        "Since the two-way scatter plot is not particularly helpful, we might instead explore whether an association exists between a diagnosis of hyponatremia and weight gain during the race by arbitrarily dividing the runners who had their weight gain recorded into three groups with similar numbers of people in each category: those losing at least 1.36 pounds, those losing less than 1.36 pounds, but not gaining more than 0.01 pounds, and those gaining 0.01 pounds or more. We could then estimate the probability that an individual will develop hyponatremia in each of these subgroups individually.\n",
        "\n",
        "\n",
        "![____](https://biologicslab.co/BIO5853/images/module_03/lesson_03_11_image09.png)\n",
        "\n",
        "The estimated probability of hyponatremia increases as the amount of weight gain increases, from a low of 0.038 for runners who lose the most weight to a high of 0.281 for those who gain weight. Since there does appear to be a relationship between these two variables, we would like to be able to use a runner’s weight gain during the race to help us predict the likelihood that they will develop hyponatremia."
      ],
      "metadata": {
        "id": "3jQgsS3FBqhg"
      }
    },
    {
      "cell_type": "markdown",
      "source": [
        "### Example 4: Compute Probabilities\n",
        "\n",
        "The code in the cell below, recreates the table shown in the cell above. It should be noted that it's not really feasible to generate the textbook tables _exactly_ as they appear after being type set.\n",
        "\n",
        "_Code Description:_\n",
        "\n",
        "For this example, we will need to drop rows (runners) in which no measurement of `wt_gain` were recorded. These missing values are shown as `NaN`. Rather than drop rows from our DataFrame `hypoDF`, we will make a copy called simply `df` and drop the rows from this copy."
      ],
      "metadata": {
        "id": "7DzQoeAVJN8i"
      }
    },
    {
      "cell_type": "code",
      "source": [
        "# Example 4: Compute probabilites\n",
        "\n",
        "import pandas as pd\n",
        "\n",
        "# Define function to categorize weight gain\n",
        "def categorize_wt_gain(value):\n",
        "    if value <= -1.36:\n",
        "        return '<= -1.36'\n",
        "    elif -1.36 <= value < 0.01:\n",
        "        return '-1.36 to < 0.01'\n",
        "    else:\n",
        "        return '>= 0.01'\n",
        "\n",
        "# Make a copy before dropping rows\n",
        "df = hypoDF.copy()\n",
        "\n",
        "# Drop rows (runners) with no weight gain measurements\n",
        "df.dropna(subset=['wt_gain'], inplace=True)\n",
        "\n",
        "# Apply the function to create a new column for categories\n",
        "df['Weight Gain'] = df['wt_gain'].apply(categorize_wt_gain)\n",
        "\n",
        "# Group by the weight gain category\n",
        "grouped = df.groupby('Weight Gain')\n",
        "\n",
        "# Calculate the number of runners in each category\n",
        "num_runners = grouped.size()\n",
        "\n",
        "# Calculate the number of runners with hyponatremia in each category\n",
        "num_hyponatremia = grouped['hyponatremia'].sum()\n",
        "\n",
        "# Calculate the probability of hyponatremia in each category\n",
        "prob_hyponatremia = num_hyponatremia / num_runners\n",
        "\n",
        "# Create a summary DataFrame\n",
        "summary_df = pd.DataFrame({\n",
        "    'No. Runners': num_runners,\n",
        "    'No. with Hyponat.': num_hyponatremia,\n",
        "    'Probability (p-hat)': prob_hyponatremia.round(3)\n",
        "})\n",
        "\n",
        "# Sort the DataFrame to ensure '<= -1.36' is first\n",
        "sorted_summary_df = summary_df.reindex(['<= -1.36', '-1.36 to < 0.01', '>= 0.01'])\n",
        "\n",
        "# Display the sorted summary DataFrame\n",
        "print(sorted_summary_df)\n"
      ],
      "metadata": {
        "id": "FyVw8yfjRMgp"
      },
      "execution_count": null,
      "outputs": []
    },
    {
      "cell_type": "markdown",
      "source": [
        "If the code is correct, you should see the following output:\n",
        "\n",
        "~~~text\n",
        "                 No. Runners  No. with Hyponat.  Probability (p-hat)\n",
        "Weight Gain                                                         \n",
        "<= -1.36                 159                  6                0.038\n",
        "-1.36 to < 0.01          161                 13                0.081\n",
        ">= 0.01                  135                 38                0.281\n",
        "~~~\n",
        "\n",
        "The output matches the values shown in the textbook:\n",
        "\n",
        "![____](https://biologicslab.co/BIO5853/images/module_03/lesson_03_11_image09.png)\n",
        "\n",
        "Notice that the number of runners is now only 455 instead of the original 488 since we dropped runners (rows) that contained `NaN` for their `wt_gain`.\n"
      ],
      "metadata": {
        "id": "LEdDN6BqBBCK"
      }
    },
    {
      "cell_type": "markdown",
      "metadata": {
        "id": "ymxtazsJestA"
      },
      "source": [
        "# **Logistic Function**\n",
        "\n",
        "Our first strategy might be to fit a model to the form\n",
        "\n",
        "$$ p = \\beta_0 + \\beta_1 x_1 $$\n",
        "\n",
        "where x represents weight gain. This is simply the standard linear regression model in which y — the outcome of a continuous, normally distributed random variable — has been replaced by $p$. As before, fo is the intercept of the line and ; is its slope. On inspection, however, this model is not feasible. Since $p$ is a probability, it is restricted to taking values between `0` and `1`. The term $\\beta_0 + \\beta_1x$ in contrast, could easily yield a value that lies outside this range.\n",
        "\n",
        "We might try to solve this problem by fitting the model\n",
        "\n",
        "$$ p = e^{\\beta_0 + \\beta_1 x} $$\n",
        "\n",
        "This equation guarantees that the estimate of $p$ is positive. We would soon realize, however, that this model is also unsuitable. Although the term $e^{\\beta_0 + \\beta_1 x}$ cannot produce a negative estimate of $p$, it can result in a value that is greater than 1. To accommodate this additional constraint, we consider a model of the form\n",
        "\n",
        "$$ p = \\frac{e^{\\beta_0 + \\beta_1 x}}{1 + e^{\\beta_0 + \\beta_1 x}} $$\n",
        "\n",
        "The expression on the right, called a _logistic function_, cannot yield a value that is either negative or greater than 1. Consequently, it restricts the estimated value of p to the required range.\n",
        "\n",
        "Recall that if an event occurs with probability $p$, the odds in favor of the event are $p/(1 — p)$ to 1. Thus, if a success occurs with probability\n",
        "\n",
        "\n",
        "$$ p = \\frac{e^{\\beta_0 + \\beta_1 x}}{1 + e^{\\beta_0 + \\beta_1 x}} $$\n",
        "\n",
        "the odds in favor of sucess are\n",
        "\n",
        "\n",
        "$$\\frac{p}{1 - p} = \\frac{e^{\\beta_0 + \\beta_1 x} / (1 + e^{\\beta_0 + \\beta_1 x})}{1 / (1 + e^{\\beta_0 + \\beta_1 x})} = e^{\\beta_0 + \\beta_1 x}\n",
        "$$\n",
        "\n",
        "Taking the natural logarithm of each side of this equation\n",
        "\n",
        "$$ \\ln \\left[ \\frac{p}{1-p} \\right] = \\ln \\left[ e^{\\beta_0 + \\beta_1 x} \\right] = \\beta_0 + \\beta_1 x $$\n",
        "\n",
        "Thus, modeling the probability $p$ with a logistic function is equivalent to fitting a linear regression model in which the continuous response $y$ has been replaced by the logarithm of the odds of success for a dichotomous random variable. Instead of assuming that the relationship between $p$ and $x$ is\n",
        "linear, we assume that the relationship between $ln[p/(1 — p)]$ and $x$ is linear. The technique of fitting a model of this form is known as **logistic regression**.\n"
      ]
    },
    {
      "cell_type": "markdown",
      "metadata": {
        "id": "HhhitOqgestA"
      },
      "source": [
        "## **Fitted Equation**\n",
        "\n",
        "In order to use a marathon runner’s weight gain during the race to help us predict the probability\n",
        "that they will develop hyponatremia, we fit the model\n",
        "\n",
        "$$ \\ln \\left[ \\frac{p}{1-p} \\right] = \\hat\\beta{_0} + \\hat\\beta_1 x_1 $$\n",
        "\n",
        "Although we divided weight gain into three categories when initially exploring its relationship with the outcome, we now use the original continuous measurement as the explanatory variable for the logistic regression model. As in linear regression, Bo and are estimates of the population\n",
        "coefficients. However, we do not apply the method of least squares — which assumes that the response is continuous and normally distributed — to fit a logistic model. Instead, we use maximum likelihood estimation. Recall that this technique uses the information in a sample to find the parameter\n",
        "estimates that are most likely to have produced the observed data.\n",
        "For the sample of runners, the estimated logistic regression equation is\n",
        "\n",
        "\n",
        "$$ \\ln \\left[ \\frac{p}{1-p} \\right] = \\text{ -1.8849} + \\text{ 0.7284x} $$\n",
        "\n",
        "\n",
        "The intercept $\\hat\\beta_0 = —1.8849$ is the estimated log odds of hyponatremia for a runner with weight gain equal to 0 pounds, or no change in weight at all. The coefficient of the explanatory variable  $\\hat\\beta_1  = 0.7284$ implies that for each one pound increase in weight gain, the log odds that the runner\n",
        "develops hyponatremia increase by $0.7284$ on average. When the log odds increase, the odds of the outcome increase, and the probability p increases as well. In order to determine whether this relationship is statistically significant, we test the null hypothesis that there is no relationship between\n",
        "$p$ and $x$,\n",
        "\n",
        "$$H_0: \\hat\\beta_1 = 0, $$\n",
        "\n",
        "against the alternative\n",
        "\n",
        "$$H_A: \\hat\\beta_1 \\neq 0, $$\n",
        "\n",
        "If the null hypothesis is true, the probability of being diagnosed with hyponatremia is the same regardless of the amount of weight gain.\n",
        "\n",
        "In order to conduct the test, we need to know the estimated standard error of $ \\hat\\beta_1$. Then, if $H_0$ is true and the sample size is sufficiently large, the test statistic\n",
        "\n",
        "$$ z = \\frac{\\hat{\\beta}_1}{\\hat{\\text{se}}(\\hat{\\beta}_1)} $$\n",
        "\n",
        "can be assumed to follow a normal distribution."
      ]
    },
    {
      "cell_type": "markdown",
      "source": [],
      "metadata": {
        "id": "NaINZGWlIYlH"
      }
    },
    {
      "cell_type": "markdown",
      "source": [
        "### Example 5: Estimate $\\hat\\beta_0$, $\\hat\\beta_1$ and $z$ Score\n",
        "\n",
        "The code in the cell illustrates how to find $\\hat\\beta_0$, $\\hat\\beta_1$ as well as $z$ for this equation:\n",
        "\n",
        "$$ z = \\frac{\\hat{\\beta}_1}{\\hat{\\text{se}}(\\hat{\\beta}_1)} $$\n",
        "\n",
        "shown in the  preceeding cell.\n"
      ],
      "metadata": {
        "id": "R5RBVajAJqTY"
      }
    },
    {
      "cell_type": "code",
      "source": [
        "# Example 5: Estimate beta_0, beta_1 and z\n",
        "\n",
        "import pandas as pd\n",
        "import statsmodels.api as sm\n",
        "import numpy as np\n",
        "\n",
        "# Make a copy\n",
        "df = hypoDF.copy()\n",
        "\n",
        "# Drop rows (runners) with no weight gain measurements\n",
        "df.dropna(subset=['wt_gain'], inplace=True)\n",
        "\n",
        "# Define the predictor variable (X) and the response variable (y)\n",
        "X = df['wt_gain']\n",
        "y = df['hyponatremia']\n",
        "\n",
        "# Add a constant to the predictor variables (to estimate the intercept)\n",
        "X = sm.add_constant(X)\n",
        "\n",
        "# Fit the logistic regression model\n",
        "logit_model = sm.Logit(y, X)\n",
        "result = logit_model.fit(disp=False)\n",
        "\n",
        "# Get the estimated parameters\n",
        "beta_0, beta_1 = result.params\n",
        "\n",
        "# Print header\n",
        "print(\"----Estimating beta_0, beta_1 and z-----------\")\n",
        "\n",
        "print(f\"Estimated beta_0: {beta_0:.4f}\")\n",
        "print(f\"Estimated beta_1: {beta_1:.4f}\")\n",
        "\n",
        "# Define the logistic function to compute the probability p\n",
        "def logistic_function(beta_0, beta_1, x):\n",
        "    logit = beta_0 + beta_1 * x\n",
        "    p = 1 / (1 + np.exp(-logit))\n",
        "    return p\n",
        "\n",
        "# Compute the predicted probability p for a given x value\n",
        "x_value = 2\n",
        "p_hat = logistic_function(beta_0, beta_1, x_value)\n",
        "\n",
        "# Print probability\n",
        "print(f\"Predicted probability (p) for x = {x_value} is: {p_hat:.2f}\")\n",
        "\n",
        "# Calculate the standard error of beta_1\n",
        "se_beta_1 = result.bse['wt_gain']\n",
        "\n",
        "# Calculate the z-score for beta_1\n",
        "z_score = beta_1 / se_beta_1\n",
        "\n",
        "# Print z score\n",
        "print(f\"z-score for beta_1: {z_score:.2f}\")\n"
      ],
      "metadata": {
        "id": "yRPWtacEH92N"
      },
      "execution_count": null,
      "outputs": []
    },
    {
      "cell_type": "markdown",
      "source": [
        "If the code is correct, you should see the following output:\n",
        "\n",
        "~~~text\n",
        "----Estimating beta_0, beta_1 and z-----------\n",
        "Estimated beta_0: -1.8849\n",
        "Estimated beta_1: 0.7284\n",
        "Predicted probability (p) for x = 2 is: 0.39\n",
        "z-score for beta_1: 6.60\n",
        "~~~\n"
      ],
      "metadata": {
        "id": "yL8skruzCml0"
      }
    },
    {
      "cell_type": "markdown",
      "source": [
        "These are the same parameters as shown in your textbook on pages 458-459."
      ],
      "metadata": {
        "id": "WW6lgZUbCpi0"
      }
    },
    {
      "cell_type": "markdown",
      "metadata": {
        "id": "3lc7-42aestB"
      },
      "source": [
        "### Example 6: Plot Logistic Regression\n",
        "\n",
        "If we calculate the estimated probability 6 for each observed value of weight gain x in the dataset and plot / versus x, the result would be the curve in **Figure 19.2**. According to the logistic regression model, the estimated value of p increases as weight gain increases. As previously noted, however, the relationship between $p$ and $x$ is not linear.\n",
        "\n",
        "The code in the cell below recreates **Figure 19.2** in your textbook.\n",
        "\n",
        "![____](https://biologicslab.co/BIO5853/images/module_03/lesson_03_11_image04.png)\n",
        "\n",
        "**FIGURE 19.2**  Logistics regression of hyponatremia on weight gain: $ln[\\hat{p} / (1-\\hat{p})] = -1.8849 + 0.7284x $\n",
        "\n",
        "\n",
        "_Code Description:_\n",
        "\n",
        "As you can see, the code needed to recreate **Figure 19.2** is fairly straightforward. It is offered here without further comment."
      ]
    },
    {
      "cell_type": "code",
      "source": [
        "# Example 6:  Plot logistic regression\n",
        "\n",
        "import matplotlib.pyplot as plt\n",
        "import numpy as np\n",
        "\n",
        "# Define the logistic function\n",
        "def logistic_function(x):\n",
        "    return 1 / (1 + np.exp(-(-1.8849 + 0.7284 * x)))\n",
        "\n",
        "# Generate x values\n",
        "x = np.linspace(-7, 5, 400)\n",
        "\n",
        "# Calculate the corresponding y values\n",
        "y = logistic_function(x)\n",
        "\n",
        "# Create the plot\n",
        "fig, ax = plt.subplots()\n",
        "ax.plot(x, y, label='Logistic Regression')\n",
        "\n",
        "# Set labels\n",
        "ax.set_xlabel('Weight gain during race (lb)')\n",
        "ax.set_ylabel('Estimated value of $p$')\n",
        "#ax.set_title('Logistic Regression Plot')\n",
        "\n",
        "\n",
        "# Show the plot\n",
        "plt.show()\n"
      ],
      "metadata": {
        "id": "Tf7fkHbLgWYl"
      },
      "execution_count": null,
      "outputs": []
    },
    {
      "cell_type": "markdown",
      "metadata": {
        "id": "RSp-nb-LestB"
      },
      "source": [
        "If the code is correct, you should see the following plot:\n",
        "\n",
        "![____](https://biologicslab.co/BIO5853/images/module_03/lesson_03_11_image05.png)\n"
      ]
    },
    {
      "cell_type": "markdown",
      "metadata": {
        "id": "0TDtGWH5estC"
      },
      "source": [
        "![____](https://biologicslab.co/BIO5853/images/module_03/lesson_03_11_image06.png)\n"
      ]
    },
    {
      "cell_type": "markdown",
      "metadata": {
        "id": "lO-waUfWestC"
      },
      "source": [
        "# **Indicator Variables**\n",
        "\n",
        "Like the linear regression model, the logistic regression model can include categorical explanatory variables in addition to continuous ones. Suppose we are interested in the relationship between hyponatremia and sex, categorized as female or male. We could begin by noting that the proportion of females with the outcome is 37/166 = 0.223, while the proportion of males with the outcome is\n",
        "25/322 = 0.078. In the sample of marathon runners, the estimated probability of hyponatremia is higher for females than it is for males."
      ]
    },
    {
      "cell_type": "markdown",
      "metadata": {
        "id": "AzGzQ4RHestC"
      },
      "source": [
        "As a general rule, we prefer to include in a multivariable regression model\n",
        "\n",
        "\n",
        "![____](https://biologicslab.co/BIO5853/images/module_03/lesson_03_11_image07.png)\n",
        "\n",
        "\n",
        "Now that we have created these indicator variables, we put them both into the logistic regression model at the same time. The results are shown in **Table 19.1**. Because the coefficients of both weight gain categories are positive, we know that the probability of hyponatremia is higher for runners who lose no more than 1.35 pounds during the race relative to those who lose at least 1.36 pounds, and higher for runners who gain weight relative to those who lose at least 1.36 pounds.\n",
        "\n",
        "**TABLE 19.1**\n",
        "\n",
        "![____](https://biologicslab.co/BIO5853/images/module_03/lesson_03_11_image08.png)\n"
      ]
    },
    {
      "cell_type": "markdown",
      "source": [
        "### Example 7: Create Contingency Table\n",
        "\n",
        "The code in the cell below, recreates the contingency table shown on page 461 in your textbook:\n",
        "\n",
        "![____](https://biologicslab.co/BIO5853/images/module_03/lesson_03_11_image07.png)\n",
        "\n",
        "_Code Description:_\n",
        "\n",
        "To generate the contingency table, we do _not_ drop the `NaNs` since the `Total` is 488 runners."
      ],
      "metadata": {
        "id": "uLRIMf0XNAIX"
      }
    },
    {
      "cell_type": "code",
      "source": [
        "# Example 7: Create Contingency Table\n",
        "\n",
        "import pandas as pd\n",
        "\n",
        "# Create new copy of DataFrame\n",
        "df = hypoDF.copy()\n",
        "\n",
        "# Create a new column 'Sex' based on the 'female' column using .loc\n",
        "df.loc[:, 'Sex'] = df['female'].apply(lambda x: 'Female' if x == 1 else 'Male')\n",
        "\n",
        "# Create a new column 'Hyponatremia' based on the 'hyponatremia' column using .loc\n",
        "df.loc[:, 'Hyponatremia'] = df['hyponatremia'].apply(lambda x: 'Yes' if x == 1 else 'No')\n",
        "\n",
        "# Create a contingency table and sort the index to have \"Yes\" above \"No\"\n",
        "contingency_table = pd.crosstab(df['Hyponatremia'], df['Sex'], margins=True, margins_name='Total')\n",
        "contingency_table = contingency_table.reindex(['Yes', 'No', 'Total'])\n",
        "\n",
        "# Print header\n",
        "print(\"-------2 X 2 Contingency Table -----------------------\")\n",
        "# Display the table\n",
        "print(contingency_table)\n",
        "\n",
        "# Compute the odds ratio\n",
        "a = contingency_table.at['Yes', 'Female']\n",
        "b = contingency_table.at['No', 'Female']\n",
        "c = contingency_table.at['Yes', 'Male']\n",
        "d = contingency_table.at['No', 'Male']\n",
        "\n",
        "# Compute OR\n",
        "odds_ratio = (a * d) / (b * c)\n",
        "print(\"\\n-------Odds Ratio -----------------------\")\n",
        "print(f\"Odds Ratio (OR̂): {odds_ratio:.2f}\")\n"
      ],
      "metadata": {
        "id": "QK9GTcHGRpiQ"
      },
      "execution_count": null,
      "outputs": []
    },
    {
      "cell_type": "markdown",
      "source": [
        "If the code is correct, you should see the following output:\n",
        "\n",
        "~~~text\n",
        "-------2 X 2 Contingency Table -----------------------\n",
        "Sex           Female  Male  Total\n",
        "Hyponatremia                     \n",
        "Yes               37    25     62\n",
        "No               129   297    426\n",
        "Total            166   322    488\n",
        "\n",
        "-------Odds Ratio -----------------------\n",
        "Odds Ratio (OR̂): 3.41\n",
        "~~~"
      ],
      "metadata": {
        "id": "8x_t04GFNr8A"
      }
    },
    {
      "cell_type": "markdown",
      "source": [
        "The output is identical to contingency table in your textbook:\n",
        "\n",
        "![____](https://biologicslab.co/BIO5853/images/module_03/lesson_03_11_image07.png)"
      ],
      "metadata": {
        "id": "hgRh4p94din8"
      }
    },
    {
      "cell_type": "markdown",
      "source": [
        "### Example 8: Logistic Regression\n",
        "\n",
        "\n",
        "The code in the cell below performs logistic regression and displays the output to recreate **TABLE 19.1** in your textbook on page 462."
      ],
      "metadata": {
        "id": "jXaCNG25jcaL"
      }
    },
    {
      "cell_type": "code",
      "source": [
        "# Example 8: Logistic Regression\n",
        "\n",
        "import pandas as pd\n",
        "import statsmodels.api as sm\n",
        "import numpy as np\n",
        "\n",
        "# Use a copy\n",
        "df = hypoDF.copy()\n",
        "\n",
        "# Drop NaNs\n",
        "df.dropna(subset=['wt_gain'], inplace=True)\n",
        "\n",
        "# Create the indicator variables for weight gain categories\n",
        "df['Wt_Gain_Cat2'] = np.where((df['wt_gain'] > -1.36) & (df['wt_gain'] <= 0.00), 1, 0)\n",
        "df['Wt_Gain_Cat3'] = np.where(df['wt_gain'] > 0.00, 1, 0)\n",
        "\n",
        "# Define the predictor variables (Wt_Gain_Cat2 and Wt_Gain_Cat3) and the response variable (y)\n",
        "X = df[['Wt_Gain_Cat2', 'Wt_Gain_Cat3']]\n",
        "y = df['hyponatremia']\n",
        "\n",
        "# Add a constant to the predictor variables (to estimate the intercept)\n",
        "X = sm.add_constant(X)\n",
        "\n",
        "# Fit the logistic regression model\n",
        "logit_model = sm.Logit(y, X)\n",
        "result = logit_model.fit(disp=False)\n",
        "\n",
        "# Extract and print the estimated parameters, standard error, test statistic, and p-value\n",
        "params = result.params\n",
        "stderr = result.bse\n",
        "t_values = result.tvalues\n",
        "p_values = result.pvalues\n",
        "\n",
        "# Create a DataFrame to display the results in the desired order with 3 decimal places\n",
        "results_df = pd.DataFrame({\n",
        "    'Coefficient': params.round(4),\n",
        "    'Standard Error': stderr.round(4),\n",
        "    'Test Statistic': t_values.round(2),\n",
        "    'p-value': p_values.round(3)\n",
        "}).reindex(['Wt_Gain_Cat2', 'Wt_Gain_Cat3', 'const'])\n",
        "\n",
        "# Rename the index to match the table\n",
        "results_df.index = ['Weight gain category 2', 'Weight gain category 3', 'Intercept']\n",
        "\n",
        "print(\"\\nLogistic Regression Results:\")\n",
        "print(results_df)\n",
        "\n",
        "# Compute predicted probabilities for each observation\n",
        "predicted_probabilities = result.predict(X)\n",
        "hypoDF.loc[:, 'predicted_probabilities'] = predicted_probabilities"
      ],
      "metadata": {
        "id": "Pn_u1HnIJunH"
      },
      "execution_count": null,
      "outputs": []
    },
    {
      "cell_type": "markdown",
      "source": [
        "If the code is correct, you should see the following output:\n",
        "\n",
        "~~~text\n",
        "Logistic Regression Results:\n",
        "                        Coefficient  Standard Error  Test Statistic  p-value\n",
        "Weight gain category 2       0.8064          0.5068            1.59    0.112\n",
        "Weight gain category 3       2.3016          0.4581            5.02    0.000\n",
        "Intercept                   -3.2387          0.4162           -7.78    0.000\n",
        "~~~"
      ],
      "metadata": {
        "id": "CCnPFqWbmZk_"
      }
    },
    {
      "cell_type": "markdown",
      "source": [
        "\n",
        "![____](https://biologicslab.co/BIO5853/images/module_03/lesson_03_11_image10.png)"
      ],
      "metadata": {
        "id": "UmgN25jmkfHJ"
      }
    },
    {
      "cell_type": "markdown",
      "source": [
        "The output from our logistic regression is identical to **TABLE 19.1**."
      ],
      "metadata": {
        "id": "EJIQHjFufM-h"
      }
    },
    {
      "cell_type": "markdown",
      "metadata": {
        "id": "MrNX5YxFestD"
      },
      "source": [
        "### Example 9: Scatter Plot\n",
        "\n",
        "The code in the cell recreates **Figure 19.3** , shown on page 463 in your textbook. This figure shows the log odds of hyponatremia within each quintile of weight gain versus quintile midpoints."
      ]
    },
    {
      "cell_type": "markdown",
      "metadata": {
        "id": "U6sXH4RCestD"
      },
      "source": [
        "![____](https://biologicslab.co/BIO5853/images/module_03/lesson_03_11_image11.png)\n",
        "\n",
        "**FIGURE 19.3** Observed log odds of hyponatremia within each quintile of weight gain versus quintile midpoints."
      ]
    },
    {
      "cell_type": "code",
      "source": [
        "# Example 9: Scatter plot\n",
        "\n",
        "import pandas as pd\n",
        "import numpy as np\n",
        "import matplotlib.pyplot as plt\n",
        "\n",
        "# Use a copy\n",
        "df = hypoDF.copy()\n",
        "\n",
        "# Drop NaNs\n",
        "df.dropna(subset=['wt_gain'], inplace=True)\n",
        "\n",
        "# Calculate quintiles of weight gain\n",
        "df['wt_gain_quintile'] = pd.qcut(df['wt_gain'], q=5, labels=False) + 1\n",
        "\n",
        "# Calculate the midpoint of each quintile\n",
        "quintile_midpoints = df.groupby('wt_gain_quintile')['wt_gain'].apply(lambda x: (x.min() + x.max()) / 2)\n",
        "\n",
        "# Compute the observed log odds of hyponatremia within each quintile\n",
        "quintile_hyponatremia = df.groupby('wt_gain_quintile')['hyponatremia'].agg(['sum', 'count'])\n",
        "quintile_hyponatremia['odds'] = quintile_hyponatremia['sum'] / (quintile_hyponatremia['count'] - quintile_hyponatremia['sum'])\n",
        "quintile_hyponatremia['log_odds'] = np.log(quintile_hyponatremia['odds'])\n",
        "\n",
        "# Plot observed log odds versus quintile midpoints\n",
        "plt.plot(quintile_midpoints, quintile_hyponatremia['log_odds'], marker='o', linestyle=' ')\n",
        "plt.xlabel('Midpoint of weight gain quintile (lb)')\n",
        "plt.ylabel('Log odds of hyponatremia')\n",
        "# plt.title('Observed Log Odds of Hyponatremia vs. Quintile Midpoints of Weight Gain')\n",
        "plt.grid(False)\n",
        "plt.show()\n"
      ],
      "metadata": {
        "id": "F0MqcmUnjPSN"
      },
      "execution_count": null,
      "outputs": []
    },
    {
      "cell_type": "markdown",
      "metadata": {
        "id": "lIlbxiJHk3PN"
      },
      "source": [
        "If the code is correct, you should see the following plot:\n",
        "\n",
        "![____](https://biologicslab.co/BIO5853/images/module_03/lesson_03_11_image12.png)\n",
        "\n",
        "\n",
        "**FIGURE 19.3** Observed log odds of hyponatremia within each quintile of weight gain versus quintile midpoints."
      ]
    },
    {
      "cell_type": "markdown",
      "metadata": {
        "id": "GinewPbbestD"
      },
      "source": [
        "# **Multiple Logistics Regression**\n",
        "\n",
        "Now that we have seen that both weight gain during the race and female sex are associated with the probability that a marathon runner will be diagnosed with hyponatremia, we might wonder whether including these two explanatory variables in the same model will improve our ability to predict $\\hat{p}$. In other words, given that we have already accounted for weight gain, does knowing a runner’s sex further improve our ability to predict whether they will experience hyponatremia?\n",
        "\n",
        "To model the probability p as a function of the two explanatory variables, we fit a model of the form\n",
        "\n",
        "$$ \\ln \\left[ \\frac{p}{1-p} \\right] = \\hat\\beta{_0} + \\hat\\beta_1 x_1 + \\hat\\beta_2 x_2 $$\n",
        "\n",
        "where $x_1$ designates weight gain and $x_2$ represents sex. The estimated logistic regression equation based on the sample of runners is\n",
        "\n",
        "$$ \\ln \\left[ \\frac{p}{1-p} \\right] = -2.3009 + 0.7026x_1 + 0.8695x_2 $$\n",
        "\n",
        "\n",
        "As we see in Table 19.2, the coefficients of both weight gain and sex have decreased somewhat now that another explanatory variable has been added to the model. However, both are still significantly different from 0 at the 0.05 level. The coefficient of weight gain tells us that, holding sex constant, a one\n",
        "pound increase in weight gain is associated with a 0.7026 increase in the log odds of hyponatremia."
      ]
    },
    {
      "cell_type": "markdown",
      "source": [
        "### Multiple Logistic Regression\n",
        "\n",
        "The code in the cell below recreates **TABLE 19.2** on page 464 in your textbook. The table shows the results of logistic regression of hyponatremia on weight gain and female sex.\n",
        "\n",
        "![____](https://biologicslab.co/BIO5853/images/module_03/lesson_03_11_image19.png)"
      ],
      "metadata": {
        "id": "vRmg_dG1vAF3"
      }
    },
    {
      "cell_type": "code",
      "source": [
        "# Example 10: Logistic regression with interaction term\n",
        "\n",
        "import pandas as pd\n",
        "import statsmodels.api as sm\n",
        "import numpy as np\n",
        "\n",
        "# Use a copy\n",
        "df = hypoDF.copy()\n",
        "\n",
        "# Drop NaNs\n",
        "df.dropna(subset=['wt_gain'], inplace=True)\n",
        "\n",
        "\n",
        "# Define the predictor variables (x) and the response variable (y)\n",
        "X = df[['wt_gain', 'female']]\n",
        "y = df['hyponatremia']\n",
        "\n",
        "# Add a constant to the predictor variables (to estimate the intercept)\n",
        "X = sm.add_constant(X)\n",
        "\n",
        "# Fit the logistic regression model\n",
        "logit_model = sm.Logit(y, X)\n",
        "result = logit_model.fit(disp=False)\n",
        "\n",
        "# Extract and print the estimated parameters, standard error, test statistic, and p-value\n",
        "params = result.params\n",
        "stderr = result.bse\n",
        "t_values = result.tvalues\n",
        "p_values = result.pvalues\n",
        "\n",
        "# Create a DataFrame to display the results in the desired order with 3 decimal places\n",
        "results_df = pd.DataFrame({\n",
        "    'Coefficient': params.round(4),\n",
        "    'Standard Error': stderr.round(4),\n",
        "    'Test Statistic': t_values.round(2),\n",
        "    'p-value': p_values.round(3)\n",
        "})\n",
        "\n",
        "# Rename the index to match the table and then reorder to move 'Intercept' to the last line\n",
        "results_df.index = ['Intercept', 'Weight gain', 'Female sex']\n",
        "results_df = results_df.reindex(['Weight gain', 'Female sex', 'Intercept'])\n",
        "\n",
        "print(\"\\nLogistic Regression Results:\")\n",
        "print(results_df)\n",
        "\n",
        "# Compute predicted probabilities for each observation\n",
        "predicted_probabilities = result.predict(X)\n",
        "hypoDF.loc[:, 'predicted_probabilities'] = predicted_probabilities\n"
      ],
      "metadata": {
        "id": "zdHuXGz4uYqb"
      },
      "execution_count": null,
      "outputs": []
    },
    {
      "cell_type": "markdown",
      "metadata": {
        "id": "I8Qg1t7lestD"
      },
      "source": [
        "As you can see, the values in the output are identical to the values in **TABLE 19.2**\n",
        "\n",
        "\n",
        "![____](https://biologicslab.co/BIO5853/images/module_03/lesson_03_11_image19.png)"
      ]
    },
    {
      "cell_type": "markdown",
      "source": [
        "### Example 11: Evaluation of Logistic Regression Model\n",
        "\n",
        "While evaluation of the logistic regression model is beyond the scope of this text, we note that one way to judge the goodness-of-fit of a model to the observed sample data is to stratify the sample into subgroups — as we do below, looking at categories of weight gain and sex — and compare the observed proportion of cases with hyponatremia within each of the subgroups to the predicted probability of hyponatremia based on the model.\n",
        "\n",
        "The code in the cell below prints out the observed and predicted values shown in the following table:\n",
        "\n",
        "\n",
        "![____](https://biologicslab.co/BIO5853/images/module_03/lesson_03_11_image13.png)"
      ],
      "metadata": {
        "id": "MI04I-2TwlzL"
      }
    },
    {
      "cell_type": "code",
      "source": [
        "# Example 11: Evaluation of logistic regression model\n",
        "\n",
        "import pandas as pd\n",
        "import numpy as np\n",
        "import statsmodels.api as sm\n",
        "from tabulate import tabulate\n",
        "\n",
        "# Assuming hypoDF is your DataFrame with 'wt_gain', 'hyponatremia', and 'female'\n",
        "\n",
        "# Use a copy\n",
        "df = hypoDF.copy()\n",
        "\n",
        "# Drop NaNs\n",
        "df.dropna(subset=['wt_gain'], inplace=True)\n",
        "\n",
        "# Define weight gain categories\n",
        "def classify_wt_gain(value):\n",
        "    if value <= -1.36:\n",
        "        return '≤ -1.36'\n",
        "    elif -1.35 <= value <= 0.00:\n",
        "        return '-1.35 to 0.00'\n",
        "    else:\n",
        "        return '≥ 0.01'\n",
        "\n",
        "# Apply the function to create a new weight gain category column\n",
        "df['wt_gain_category'] = df['wt_gain'].apply(classify_wt_gain)\n",
        "\n",
        "# Map the 'female' column to gender labels\n",
        "df['gender'] = df['female'].map({1: 'Females', 0: 'Males'})\n",
        "\n",
        "# Create a logistic regression model\n",
        "X = df[['wt_gain', 'female']]\n",
        "X = sm.add_constant(X)\n",
        "y = df['hyponatremia']\n",
        "\n",
        "# Fit the model\n",
        "logit_model = sm.Logit(y, X).fit(disp=False)\n",
        "\n",
        "# Predict probabilities\n",
        "df['predicted_prob'] = logit_model.predict(X)\n",
        "\n",
        "# Group by weight gain category and gender, then compute observed and predicted proportions\n",
        "observed = df.groupby(['wt_gain_category', 'gender'])['hyponatremia'].mean().unstack()\n",
        "predicted = df.groupby(['wt_gain_category', 'gender'])['predicted_prob'].mean().unstack()\n",
        "\n",
        "# Combine observed and predicted proportions into a single DataFrame\n",
        "table = pd.concat([observed.add_prefix('Observed '), predicted.add_prefix('Predicted ')], axis=1).reset_index()\n",
        "\n",
        "# Rename columns\n",
        "table.columns = ['Gain (pounds)',\n",
        "                 'with Hyponatremia (Females)',\n",
        "                 'with Hyponatremia (Males)',\n",
        "                 'with Hyponatremia (Females)',\n",
        "                 'with Hyponatremia (Males)']\n",
        "\n",
        "# Reorder rows to move '≤ -1.36' to the top\n",
        "row_order = ['≤ -1.36', '-1.35 to 0.00', '≥ 0.01']\n",
        "table = table.set_index('Gain (pounds)').loc[row_order].reset_index()\n",
        "\n",
        "# Round the values to 3 decimal places\n",
        "table = table.round(3)\n",
        "\n",
        "# Format the table for display\n",
        "formatted_table = tabulate(table, headers='keys', tablefmt='grid', showindex=False)\n",
        "\n",
        "# This is a KLUDGE! It is added only to make the table look more similar to the one in the textbook!\n",
        "print(\"+-----Weight------|-----Observed Proportion-------|-----Observed Proportion-----|-----Predicted Proportion------|-----Predicted Proportion----+ \")\n",
        "\n",
        "# Display the formatted table\n",
        "print(formatted_table)\n"
      ],
      "metadata": {
        "colab": {
          "base_uri": "https://localhost:8080/"
        },
        "id": "D3yyi0v1CZI8",
        "outputId": "ab7bc205-aa3b-4e1f-8951-5be812783790"
      },
      "execution_count": 13,
      "outputs": [
        {
          "output_type": "stream",
          "name": "stdout",
          "text": [
            "+-----Weight------|-----Observed Proportion-------|-----Observed Proportion-----|-----Predicted Proportion------|-----Predicted Proportion----+ \n",
            "+-----------------+-------------------------------+-----------------------------+-------------------------------+-----------------------------+\n",
            "| Gain (pounds)   |   with Hyponatremia (Females) |   with Hyponatremia (Males) |   with Hyponatremia (Females) |   with Hyponatremia (Males) |\n",
            "+=================+===============================+=============================+===============================+=============================+\n",
            "| ≤ -1.36         |                         0.154 |                       0.015 |                         0.06  |                       0.022 |\n",
            "+-----------------+-------------------------------+-----------------------------+-------------------------------+-----------------------------+\n",
            "| -1.35 to 0.00   |                         0.129 |                       0.044 |                         0.144 |                       0.061 |\n",
            "+-----------------+-------------------------------+-----------------------------+-------------------------------+-----------------------------+\n",
            "| ≥ 0.01          |                         0.339 |                       0.233 |                         0.361 |                       0.2   |\n",
            "+-----------------+-------------------------------+-----------------------------+-------------------------------+-----------------------------+\n"
          ]
        }
      ]
    },
    {
      "cell_type": "markdown",
      "source": [
        "If the code is correct, you should see the following table:\n",
        "\n",
        "~~~text\n",
        "+-----Weight------|-----Observed Proportion-------|-----Observed Proportion-----|-----Predicted Proportion------|-----Predicted Proportion----+\n",
        "+-----------------+-------------------------------+-----------------------------+-------------------------------+-----------------------------+\n",
        "| Gain (pounds)   |   with Hyponatremia (Females) |   with Hyponatremia (Males) |   with Hyponatremia (Females) |   with Hyponatremia (Males) |\n",
        "+=================+===============================+=============================+===============================+=============================+\n",
        "| ≤ -1.36         |                         0.154 |                       0.015 |                         0.06  |                       0.022 |\n",
        "+-----------------+-------------------------------+-----------------------------+-------------------------------+-----------------------------+\n",
        "| -1.35 to 0.00   |                         0.129 |                       0.044 |                         0.144 |                       0.061 |\n",
        "+-----------------+-------------------------------+-----------------------------+-------------------------------+-----------------------------+\n",
        "| ≥ 0.01          |                         0.339 |                       0.233 |                         0.361 |                       0.2   |\n",
        "+-----------------+-------------------------------+-----------------------------+-------------------------------+-----------------------------+\n",
        "~~~\n",
        "\n",
        "You should note that in this table, the values for `Females` are shown first instead of the values for `Males`. Also there are some small differences in the values compared to the table in the textbook due to small differences in the datasets. In any event, the predicted values are very close to the observed values."
      ],
      "metadata": {
        "id": "YqJPUMJxudh8"
      }
    },
    {
      "cell_type": "markdown",
      "metadata": {
        "id": "y6tzAcJcMDpB"
      },
      "source": [
        "\n",
        "\n",
        "![____](https://biologicslab.co/BIO5853/images/module_03/lesson_03_11_image13.png)"
      ]
    },
    {
      "cell_type": "markdown",
      "metadata": {
        "id": "vapdAq9yestE"
      },
      "source": [
        "![____](https://biologicslab.co/BIO5853/images/module_03/lesson_03_11_image14.png)"
      ]
    },
    {
      "cell_type": "markdown",
      "metadata": {
        "id": "ECn7bE0LestE"
      },
      "source": [
        "# **Interaction Terms**\n",
        "\n",
        "In logistic regression, an **interaction term** is used to assess whether the effect of one predictor variable on the response variable changes depending on the level of another predictor variable. Essentially, it allows you to explore whether there is a combined effect of two variables that differs from their individual effects.\n",
        "\n",
        "#### Why Use an Interaction Term?\n",
        "\n",
        "- **Assess Combined Effects**: Sometimes, the relationship between a predictor and the outcome may not be the same at all levels of another predictor. For example, the effect of weight gain on the likelihood of hyponatremia might be different for males and females.\n",
        "- **Improve Model Fit**: Including interaction terms can help in building more accurate predictive models by capturing complex relationships between variables.\n",
        "\n",
        "#### How to Create an Interaction Term\n",
        "\n",
        "To create an interaction term, you multiply the two variables of interest. For example, if you want to explore the interaction between `wt_gain` (weight gain) and `female` (gender), you create a new variable:\n",
        "\n",
        "$$ \\text{interaction} = \\text{wt_gain} \\times \\text{female} $$\n",
        "\n"
      ]
    },
    {
      "cell_type": "markdown",
      "source": [
        "### Example 12: Logistic Regression with Interaction Term\n",
        "\n",
        "The code in the cell be recreates **TABLE 19.4** in your textbook on page 468.\n",
        "\n",
        "![____](https://biologicslab.co/BIO5853/images/module_03/lesson_03_11_image18.png)\n",
        "\n",
        "This table shows the output of a logistic regression of hyponatremia on weight gain, female sex, and the weight gain X sex interaction.\n",
        "\n",
        "_Code Description:_\n",
        "\n",
        "The following code chunk creates the interaction term:\n",
        "\n",
        "```python\n",
        "# Create the interaction term\n",
        "df['interaction'] = df['wt_gain'] * df['female']\n",
        "```\n",
        "\n",
        "The interaction term is then added to the definition of `X`:\n",
        "\n",
        "```python\n",
        "# Define the predictor variables (x) and the response variable (y)\n",
        "X = df[['wt_gain', 'female', 'interaction']]\n",
        "y = df['hyponatremia']\n",
        "```"
      ],
      "metadata": {
        "id": "M93ZxTqpD2vf"
      }
    },
    {
      "cell_type": "code",
      "source": [
        "# Example 12: Logistic regression with interaction term\n",
        "\n",
        "import pandas as pd\n",
        "import statsmodels.api as sm\n",
        "import numpy as np\n",
        "\n",
        "# Use a copy\n",
        "df = hypoDF.copy()\n",
        "\n",
        "# Drop NaNs\n",
        "df.dropna(subset=['wt_gain'], inplace=True)\n",
        "\n",
        "# Create the interaction term\n",
        "df['interaction'] = df['wt_gain'] * df['female']\n",
        "\n",
        "# Define the predictor variables (x) and the response variable (y)\n",
        "X = df[['wt_gain', 'female', 'interaction']]\n",
        "y = df['hyponatremia']\n",
        "\n",
        "# Add a constant to the predictor variables (to estimate the intercept)\n",
        "X = sm.add_constant(X)\n",
        "\n",
        "# Fit the logistic regression model\n",
        "logit_model = sm.Logit(y, X)\n",
        "result = logit_model.fit(disp=False)\n",
        "\n",
        "# Extract and print the estimated parameters, standard error, test statistic, and p-value\n",
        "params = result.params\n",
        "stderr = result.bse\n",
        "t_values = result.tvalues\n",
        "p_values = result.pvalues\n",
        "\n",
        "# Create a DataFrame to display the results in the desired order\n",
        "results_df = pd.DataFrame({\n",
        "    'Coefficient': params.round(4),\n",
        "    'Standard Error': stderr.round(4),\n",
        "    'Test Statistic': t_values.round(2),\n",
        "    'p-value': p_values.round(3)\n",
        "})\n",
        "\n",
        "# Rename the index to match the table and then reorder to move 'Intercept' to the last line\n",
        "results_df.index = ['Intercept', 'Weight gain', 'Female sex', 'Weight gain X sex']\n",
        "results_df = results_df.reindex(['Weight gain', 'Female sex', 'Weight gain X sex', 'Intercept'])\n",
        "\n",
        "print(\"\\nLogistic Regression Results:\")\n",
        "print(results_df)\n"
      ],
      "metadata": {
        "id": "nla96nTHHlfn"
      },
      "execution_count": null,
      "outputs": []
    },
    {
      "cell_type": "markdown",
      "source": [
        "If the code is correct, you should see the following output:\n",
        "\n",
        "~~~text\n",
        "\n",
        "Logistic Regression Results:\n",
        "                   Coefficient  Standard Error  Test Statistic  p-value\n",
        "Weight gain             0.6868          0.1503            4.57    0.000\n",
        "Female sex              0.8550          0.3241            2.64    0.008\n",
        "Weight gain X sex       0.0366          0.2301            0.16    0.874\n",
        "Intercept              -2.2954          0.2359           -9.73    0.000\n",
        "~~~"
      ],
      "metadata": {
        "id": "R09Uy-9SHvjI"
      }
    },
    {
      "cell_type": "markdown",
      "source": [
        "The output exactly matches the value in **TABLE 19.4** on page 468 in your textbook.\n",
        "\n",
        "![____](https://biologicslab.co/BIO5853/images/module_03/lesson_03_11_image18.png)"
      ],
      "metadata": {
        "id": "nR4FoLkrIGQ4"
      }
    },
    {
      "cell_type": "markdown",
      "metadata": {
        "id": "9z2Z3ah5estF"
      },
      "source": [
        "## **Lesson Turn-in**\n",
        "\n",
        "When you have completed and run all of the code cells, create a PDF of your notebook and upload the **PDF** to your Lesson_03_11 assignment in Canvas for grading.\n"
      ]
    }
  ],
  "metadata": {
    "kernelspec": {
      "display_name": "Python 3 (ipykernel)",
      "language": "python",
      "name": "python3"
    },
    "language_info": {
      "codemirror_mode": {
        "name": "ipython",
        "version": 3
      },
      "file_extension": ".py",
      "mimetype": "text/x-python",
      "name": "python",
      "nbconvert_exporter": "python",
      "pygments_lexer": "ipython3",
      "version": "3.11.5"
    },
    "colab": {
      "provenance": [],
      "include_colab_link": true
    }
  },
  "nbformat": 4,
  "nbformat_minor": 0
}