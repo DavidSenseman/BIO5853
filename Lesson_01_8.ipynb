{
 "cells": [
  {
   "cell_type": "markdown",
   "metadata": {
    "id": "bLEEW13uCtiJ"
   },
   "source": [
    "<a href=\"https://colab.research.google.com/github/DavidSenseman/BIO5853/blob/master/Lesson_01_8.ipynb\" target=\"_parent\"><img src=\"https://colab.research.google.com/assets/colab-badge.svg\" alt=\"Open In Colab\"/></a>"
   ]
  },
  {
   "cell_type": "markdown",
   "metadata": {},
   "source": [
    "---------------------------\n",
    "**COPYRIGHT NOTICE:** This Jupyterlab Notebook is a Derivative work of [Jeff Heaton](https://github.com/jeffheaton) licensed under the Apache License, Version 2.0 (the \"License\"); You may not use this file except in compliance with the License. You may obtain a copy of the License at\n",
    "\n",
    "> [http://www.apache.org/licenses/LICENSE-2.0](http://www.apache.org/licenses/LICENSE-2.0)\n",
    "\n",
    "Unless required by applicable law or agreed to in writing, software distributed under the License is distributed on an \"AS IS\" BASIS, WITHOUT WARRANTIES OR CONDITIONS OF ANY KIND, either express or implied. See the License for the specific language governing permissions and limitations under the License.\n",
    "\n",
    "------------------------"
   ]
  },
  {
   "cell_type": "markdown",
   "metadata": {},
   "source": [
    "# **BIO 1173: Intro Computational Biology**"
   ]
  },
  {
   "cell_type": "markdown",
   "metadata": {
    "jp-MarkdownHeadingCollapsed": true
   },
   "source": [
    "##### **Module 1: Getting Started with Python**\n",
    "\n",
    "* Instructor: [David Senseman](mailto:David.Senseman@utsa.edu), [Department of Integrative Biology](https://sciences.utsa.edu/integrative-biology/), [UTSA](https://www.utsa.edu/)\n",
    "\n",
    "\n",
    "### Module 1 Material\n",
    "\n",
    "* Part 1.1: Course Overview \n",
    "* Part 1.2: Installing Python, Miniconda and Jupyter Lab\n",
    "* Part 1.3: Introduction to Jupyterlab AI, Google CoLab\n",
    "* Part 1.4: Python Basics 1 -- Strings, Variables and Indexing\n",
    "* Part 1.5: Python Basics 2 -- Numbers, Booleans, Operators and Comparisons\n",
    "* Part 1.6: Python Basics 3 -- Lists, Dictionaries, Sets and JSON\n",
    "* Part 1.7: Python Basics 4 -- Conditionals and Loops\n",
    "* **Part 1.8: Python Basics 5 -- Packages, Numpy arrays and Matplotlib**\n",
    "* Part 1.9: Python Basics 6 -- Pandas and File Handling"
   ]
  },
  {
   "cell_type": "markdown",
   "metadata": {},
   "source": [
    "### Lesson Setup\n",
    "\n",
    "Run the next code cell to load necessary packages"
   ]
  },
  {
   "cell_type": "code",
   "execution_count": null,
   "metadata": {},
   "outputs": [],
   "source": [
    "# You MUST run this code cell first\n",
    "import os\n",
    "import shutil\n",
    "path = '/'\n",
    "memory = shutil.disk_usage(path)\n",
    "dirpath = os.getcwd()\n",
    "print(\"Your current working directory is : \" + dirpath)\n",
    "print(\"Disk\", memory)"
   ]
  },
  {
   "cell_type": "markdown",
   "metadata": {},
   "source": [
    "### Google CoLab Instructions\n",
    "\n",
    "The following code ensures that Google CoLab is running the correct version of TensorFlow."
   ]
  },
  {
   "cell_type": "code",
   "execution_count": null,
   "metadata": {
    "colab": {
     "base_uri": "https://localhost:8080/"
    },
    "id": "seXFCYH4LDUM",
    "outputId": "c05015aa-871e-4779-9265-5ad07e8bf617",
    "scrolled": true
   },
   "outputs": [],
   "source": [
    "# You must run this cell second\n",
    "try:\n",
    "    from google.colab import drive\n",
    "    drive.mount('/content/drive', force_remount=True)\n",
    "    from google.colab import auth\n",
    "    auth.authenticate_user()\n",
    "    COLAB = True\n",
    "    print(\"Note: using Google CoLab\")\n",
    "    %tensorflow_version 2.x\n",
    "    import requests\n",
    "    gcloud_token = !gcloud auth print-access-token\n",
    "    gcloud_tokeninfo = requests.get('https://www.googleapis.com/oauth2/v3/tokeninfo?access_token=' + gcloud_token[0]).json()\n",
    "    print(gcloud_tokeninfo['email'])\n",
    "except:\n",
    "    print(\"Note: not using Google CoLab\")\n",
    "    COLAB = False"
   ]
  },
  {
   "cell_type": "markdown",
   "metadata": {},
   "source": [
    "# Part 1.8: Packages, Numpy arrays and Matplotlib\n",
    "\n",
    "Python modules and packages are essential for organizing and reusing code in a modular and scalable manner. They play a crucial role in enhancing code readability, maintainability, and code reuse, reducing duplication and improving overall development efficiency.\n",
    "\n",
    "* **Modularity:** Python modules allow you to break down your code into smaller, more manageable units. Each module contains related functions, classes, and variables, enabling easier navigation and understanding of the codebase. Modules help maintain a clean and structured code architecture.\n",
    "* **Code Reuse:** Modules facilitate code reuse by allowing you to import and utilize functions, classes, and variables defined in one module into another. This saves time and effort by avoiding duplication of code, preventing errors and inconsistencies, and promoting the DRY (Don't Repeat Yourself) principle.\n",
    "* **Collaboration:** Modules simplify collaboration among developers. Different team members can work on different modules simultaneously, and when combined, they form a cohesive software solution. Modules also provide a well-defined interface, allowing team members to understand how to interact with each module, facilitating coordination and collaboration.\n",
    "* **Namespace Management:** Modules create isolated namespaces, which avoid clashes between function and variable names. Each module has its namespace, preventing naming conflicts. This enables you to have functions or variables with the same name in different modules without any issues.\n",
    "* **Packages:** Packages are a way to organize related modules into a hierarchical directory structure. Packages provide a means to group modules that are related to each other, making it easier to manage and navigate large codebases. Packages also enable you to create reusable libraries that can be shared with others.\n",
    "* **Third-Party Libraries:** Python's extensive ecosystem of third-party libraries is built on the concept of modules and packages. These libraries offer a wide range of functionalities that can be easily integrated into your projects. By leveraging existing modules and packages, you can save time and effort in development.\n",
    "\n",
    "In summary, modules and packages in Python are vital for organizing, reusing, and sharing code. They enhance code maintainability, promote collaboration, prevent naming conflicts, and facilitate the use of third-party libraries. Embracing modular design and leveraging existing modules and packages can significantly improve code quality and development efficiency.\n",
    "\n"
   ]
  },
  {
   "cell_type": "markdown",
   "metadata": {},
   "source": [
    "## Arrays and Matrices\n",
    "\n",
    "An **_array_** is a basic data structure in mathematics and other scientific branches such as physics, biology, and computer science.  Arrays are usually used to store numerical data and play a central role in deep learning programming.\n",
    "\n",
    "Arrays are classified by their dimensions. The following images shows a 1D, 2D and a 3D array:\n",
    "\n",
    "![__](https://biologicslab.co/BIO1173/images/class_01/ArrayTypes.png)\n",
    "\n",
    "\n",
    "A two-dimensional (2D) array is usually referred to as a **_matrix_**. The two dimensions of a matrix are called _rows_ and _columns_. In the image of the 2D array above, the _rows_ correspond to `axis 0` and the columns correspond to `axis 1`. \n"
   ]
  },
  {
   "cell_type": "markdown",
   "metadata": {},
   "source": [
    "## The Numpy Package\n",
    "\n",
    "**_Numpy_** (pronounced as \"num-pee\") is a Python package that provides powerful data structures and functions for manipulating numerical data. It is the fundamental package for scientific computing with Python.\n",
    "\n",
    "Like other Python packages, it has to be _imported_ into a Python program with the following command before it can be used.\n",
    "\n",
    ">  `import numpy as np`\n",
    ">\n",
    "When importing software packages, an _alias_ ('nickname') is often used. For example, the standard alias for Numpy is `np`. The Python _package alias_ is a feature of the Python language that allows a software package to be imported under a different name. Another example of a package alias is `pd` which is the alias of the Python package called `Pandas`. One advantage of using an alias is that it `shortens` the length of commands that part of the package.\n",
    "\n",
    "When using a method that is part of a Python package, the alias is used instead of the package name. For example, to use the Numpy `append()` method, the command would be:\n",
    "\n",
    ">`np.append(array,value,axis)`\n",
    ">\n",
    "Run the next code cell to import `numpy` which is needed for the examples and exercises below."
   ]
  },
  {
   "cell_type": "code",
   "execution_count": null,
   "metadata": {},
   "outputs": [],
   "source": [
    "# RUN THIS CODE CELL\n",
    "\n",
    "# Import the package NumPy\n",
    "import numpy as np"
   ]
  },
  {
   "cell_type": "markdown",
   "metadata": {},
   "source": [
    "When you import a Python package _successfully_ , there is typically no output. \n",
    "\n",
    ">\"No news is good news!\n",
    "\n",
    "If you receive an error it probably means that the package has **not** been previously _installed_ in your current `conda` environment. A Python package must be installed in _before_ it can be imported. One of the main functions of Conda is to provide separate environments in which _different_ Python packages can be installed, and/or a different _version_ of the same package in different environments. "
   ]
  },
  {
   "cell_type": "markdown",
   "metadata": {},
   "source": [
    "### Adding a package while working in a JuypterLab notebook\n",
    "\n",
    "It might happen that while writing code in a JupyterLab notebook, you discover that you need a certain Python package that hasn't been installed already. While you could save your work, exit JupyterLab and install the need package using `conda` in a terminal window, it is possible to execute `conda` and `pip` commands within JupyterLab. \n",
    "\n",
    "The exclamation mark, `!`, can be used to execute shell commands while in the JupyterLab notebook. Just write `!` followed immediately by the command you want to execute and any arguments it requires.  "
   ]
  },
  {
   "cell_type": "code",
   "execution_count": null,
   "metadata": {},
   "outputs": [],
   "source": [
    "# Use PIP to install a package while working in Jupyter Lab\n",
    "\n",
    "!pip install h5py"
   ]
  },
  {
   "cell_type": "markdown",
   "metadata": {},
   "source": [
    "When you run the code cell above, one of two things will happen.\n",
    "\n",
    "One, if `h5py` is alread installed, you should see a message similar to this:\n",
    "~~~text\n",
    "Requirement already satisfied: h5py in c:\\users\\david\\miniconda3\\envs\\tensorflow\\lib\\site-packages (3.7.0)\n",
    "Requirement already satisfied: numpy>=1.14.5 in c:\\users\\david\\miniconda3\\envs\\tensorflow\\lib\\site-packages (from h5py) (1.23.4)\n",
    "~~~\n",
    "Or, if this package isn't already installed, you would see something similiar to the following output:"
   ]
  },
  {
   "cell_type": "markdown",
   "metadata": {},
   "source": [
    "~~~\n",
    "Collecting h5py==1.23.4\n",
    "  Downloading h5py-1.23.4-cp311-cp311-win_amd64.whl (14.6 MB)\n",
    "     --- 0.0/14.6 MB ? eta -:--:--\n",
    "     --- 0.0/14.6 MB ? eta -:--:--\n",
    "     --- 0.2/14.6 MB 3.7 MB/s eta 0:00:04\n",
    "     --- 0.7/14.6 MB 6.1 MB/s eta 0:00:03\n",
    "     --- 1.2/14.6 MB 7.9 MB/s eta 0:00:02\n",
    "     --- 1.9/14.6 MB 9.5 MB/s eta 0:00:02\n",
    "     --- 2.8/14.6 MB 11.2 MB/s eta 0:00:02\n",
    "     --- 3.9/14.6 MB 13.7 MB/s eta 0:00:01\n",
    "     --- 5.0/14.6 MB 15.3 MB/s eta 0:00:01\n",
    "     --- 6.7/14.6 MB 17.8 MB/s eta 0:00:01\n",
    "     --- 8.6/14.6 MB 20.3 MB/s eta 0:00:01\n",
    "     --- 10.3/14.6 MB 22.6 MB/s eta 0:00:01\n",
    "     --- 10.8/14.6 MB 24.2 MB/s eta 0:00:01\n",
    "     --- 12.6/14.6 MB 29.7 MB/s eta 0:00:01\n",
    "     --- 14.0/14.6 MB 31.2 MB/s eta 0:00:01\n",
    "     --- 14.6/14.6 MB 29.8 MB/s eta 0:00:00\n",
    "Installing collected packages: numpy\n",
    "Successfully installed h5py-1.23.4\n",
    "~~~"
   ]
  },
  {
   "cell_type": "markdown",
   "metadata": {},
   "source": [
    "--------------------------------------------------\n",
    "## **Numpy Arrays**\n",
    "\n",
    "Numpy arrays are the _main_ data structure used in this course when we **_preprocessing_** (preparing) data to be analyzed by neural networks. Numpy arrays are _N_-dimensional objects that can hold any data type, including strings. However, when we create Numpy arrays as _feature vectors_ (explained later in this course) the only data type in our Numpy arrays will be only numeric -- i.e. no stings.\n",
    "\n",
    "In addition to providing a data structure, Numpy also provides a suite of mathematical functions and tools for working with these arrays. For example, Numpy provides a powerful linear algebra library for manipulating matrices and vectors. Numpy also provides a range of statistical functions that can be used for data analysis.\n",
    "\n",
    "Numpy arrays are much faster and use less memory than Python lists. They are particularly useful for scientific computing as they allow for vectorized operations, which is faster than looping through each element in a list. Not surprisingly, numpy arrays are used extensively in deep learning programming where you need all the speed that you can get when training a neural network.\n",
    "\n",
    "----------------------------------------------------"
   ]
  },
  {
   "cell_type": "markdown",
   "metadata": {},
   "source": [
    "### Example 1: Create and print a 1D array of type int\n",
    "\n",
    "The `numpy.array()` function is used to create a Numpy array from a given list or tuple of values. To use the function, you pass in the list or tuple of values, followed by the data type for the array. \n",
    "\n",
    "The code in the cell below creates a Numpy array called `oddAR` using the command `np.array()` with a list of odd numbers. (Reminder: Python lists are enclosed in square brackets). The suffix `AR` is used to indicate that the data structure is an array. The contents of the array are printed out using `f printing`."
   ]
  },
  {
   "cell_type": "code",
   "execution_count": null,
   "metadata": {},
   "outputs": [],
   "source": [
    "# Example 1: Create a 1D array of odd integers \n",
    "\n",
    "# Create a 1-dimensional array\n",
    "oddAR = np.array([1, 3, 5, 7, 9], dtype=int)\n",
    "\n",
    "# Print the array\n",
    "print(f\"The elements in the odd array are {oddAR}.\")\n"
   ]
  },
  {
   "cell_type": "markdown",
   "metadata": {},
   "source": [
    "If your code is correct you should see the following output:\n",
    "~~~text\n",
    "The elements in the odd array are [1 3 5 7 9].\n",
    "~~~"
   ]
  },
  {
   "cell_type": "markdown",
   "metadata": {},
   "source": [
    "### **Exercise 1: Create and print a 1D array of type int**\n",
    "\n",
    "Use the `np.array()` function to create a Numpy array called `evenAR` using a list  of the first five even numbers. (Reminder: Python lists are enclosed in square brackets). Using `f printing` to print out the values in your array."
   ]
  },
  {
   "cell_type": "code",
   "execution_count": null,
   "metadata": {},
   "outputs": [],
   "source": [
    "# Insert your code for Exercise 1 here \n",
    "\n"
   ]
  },
  {
   "cell_type": "markdown",
   "metadata": {},
   "source": [
    "If your code is correct you should see the following output:\n",
    "~~~text\n",
    "The elements in the even array are [ 2  4  6  8 10].\n",
    "~~~"
   ]
  },
  {
   "cell_type": "markdown",
   "metadata": {},
   "source": [
    "### Example 2: Create and print the first element in a 1D array\n",
    "\n",
    "Square bracket indexing `[ ]` can be used to access elements in a Numpy array. To access an element, you simply specify the index of the element within the array using square brackets. As mentioned in an earlier lesson, Python always starts any collect with the index starting at `0`.  \n",
    "\n",
    "The code in the cell below accesses the first element in `oddAR'."
   ]
  },
  {
   "cell_type": "code",
   "execution_count": null,
   "metadata": {},
   "outputs": [],
   "source": [
    "# Example 2: Access the first element in a 1D array \n",
    "\n",
    "# Create a 1-dimensional array\n",
    "oddAR = np.array([1, 3, 5, 7, 9], dtype=int)\n",
    "\n",
    "# Create and assign a value to the variable `index_value` \n",
    "index_value = 0\n",
    "\n",
    "# Print the array\n",
    "print(f\"The first element in the odd array is {oddAR[index_value]}.\")\n"
   ]
  },
  {
   "cell_type": "markdown",
   "metadata": {},
   "source": [
    "If your code is correct you should see the following output:\n",
    "~~~text\n",
    "The first element in the odd array is 1.\n",
    "~~~"
   ]
  },
  {
   "cell_type": "markdown",
   "metadata": {},
   "source": [
    "### **Exercise 2: Create and print the last element in a 1D array**\n",
    "\n",
    "Use square bracket indexing `[ ]` to access the _last_ element in the Numpy array, `evenAR`, that you created in **Exercise 1**. Use the f-print function to print out the value of the last element. \n",
    "\n",
    "**HINT:** You can use `-1` to access the last element in a sequence, including an array. "
   ]
  },
  {
   "cell_type": "code",
   "execution_count": null,
   "metadata": {},
   "outputs": [],
   "source": [
    "# Insert your code for Exercise 2 here \n",
    "\n",
    "\n"
   ]
  },
  {
   "cell_type": "markdown",
   "metadata": {},
   "source": [
    "If your code is correct you should see the following output:\n",
    "~~~text\n",
    "The the last element in the even array is 10.\n",
    "~~~"
   ]
  },
  {
   "cell_type": "markdown",
   "metadata": {},
   "source": [
    "### Example 3: Create and print an array of type float\n",
    "\n",
    "The code below uses the `np.array()` function to create a Numpy array called `oddFloatAR` using the same list of integers using in Example 1 as the first argument. However the second argument has been changed to `dtype=float`. "
   ]
  },
  {
   "cell_type": "code",
   "execution_count": null,
   "metadata": {},
   "outputs": [],
   "source": [
    "# Example 3: Create a 1D array of floats\n",
    "\n",
    "# Create a 1-dimensional array\n",
    "oddFloatAR = np.array([1, 3, 5, 7, 9], dtype=float)\n",
    "\n",
    "# Print the array\n",
    "print(f\"The elements in the odd float array are {oddFloatAR}.\")\n"
   ]
  },
  {
   "cell_type": "markdown",
   "metadata": {},
   "source": [
    "The output is:\n",
    "~~~text\n",
    "The elements in the odd float array are [1. 3. 5. 7. 9.].\n",
    "~~~\n",
    "Notice that there is now a decimal point **`.`** after each value. \n",
    "\n",
    "Even though a list of _integer_ values was used as the first argument for the command `np.array()`, the second argument, `dtype=float`, converted the integers into floating point decimal numbers, or _floats_, when creating the new array. "
   ]
  },
  {
   "cell_type": "markdown",
   "metadata": {},
   "source": [
    "-----------------------------------\n",
    "\n",
    "### **Integers vs Floating Point Numbers**\n",
    "\n",
    "The main difference between integers and floating point numbers is the way they are stored in memory. Integers are stored as whole numbers, while floating point numbers are stored as numbers with a decimal point. This means that when working with integers, the computer can only store and manipulate whole numbers. However, when working with floating point numbers, the computer can store and manipulate fractional numbers as well.\n",
    "\n",
    "---------------------------------\n"
   ]
  },
  {
   "cell_type": "markdown",
   "metadata": {},
   "source": [
    "### **Exercise 3: Create and print a 1D array of type float**\n",
    "\n",
    "Use the `np.array()` function to create a Numpy array with floating point numbers called `evenFloatAR`. As in **Exercise 2**, use the even integers: 2 4 6 8 and 10 but make the second argument `dtype=float`."
   ]
  },
  {
   "cell_type": "code",
   "execution_count": null,
   "metadata": {},
   "outputs": [],
   "source": [
    "# Insert your code for Exercise 3 here \n",
    "\n",
    "# Create a 1-dimensional array\n",
    "evenFloatAR = np.array([2, 4, 6, 8, 10], dtype=float)\n",
    "\n",
    "# Print the array\n",
    "print(f\"The elements in the even float array are {evenFloatAR}.\")\n"
   ]
  },
  {
   "cell_type": "markdown",
   "metadata": {},
   "source": [
    "If your code is correct you should see the following output:\n",
    "~~~text\n",
    "The elements in the even array are [ 2.  4.  6.  8. 10.].\n",
    "~~~\n",
    "As in **Example 3**, the argument `dtype=float` converted the integers to floating point numbers with decimal point, in the new array."
   ]
  },
  {
   "cell_type": "markdown",
   "metadata": {},
   "source": [
    "### Example 4: Create and print a 2D array of zeros (empty array)\n",
    "\n",
    "The `numpy.zeros()` function can used to create a NumPy array filled with the value `0`. An array filled with zeros is also called an _empty array_ which is sometimes used to create an initial array that will be filled with values later during program execution. \n",
    "\n",
    "When you create a new array, you use a tuple to specify the number of dimensions in the new array. For example, the code below uses the tuple `(2,2)` to create a 2D array filled with zeros called `zeroAR`. The first value in the tuple specifies the number of rows while the second number specifies the number of columns. So `(2,2)` will generate an array with 2 rows and 2 columns. "
   ]
  },
  {
   "cell_type": "code",
   "execution_count": null,
   "metadata": {
    "scrolled": true
   },
   "outputs": [],
   "source": [
    "# Example 4: Create an empty 2D array\n",
    "\n",
    "# Create an empty 2D array\n",
    "zeroAR = np.zeros((2, 2))\n",
    "\n",
    "# Print out the new array\n",
    "print(zeroAR)"
   ]
  },
  {
   "cell_type": "markdown",
   "metadata": {},
   "source": [
    "If your code is correct you should see the following output:\n",
    "~~~text\n",
    "[[0. 0.]\n",
    " [0. 0.]]\n",
    "~~~"
   ]
  },
  {
   "cell_type": "markdown",
   "metadata": {},
   "source": [
    "### **Exercise 4: Create and print a 3X2 array of ones** \n",
    "\n",
    "In addition to the `numpy.zeros()` function, Numpy has a similar method called `numpy.ones()` which produces an array filled with the value `1`. \n",
    "\n",
    "In the cell below, use the `numpy.ones()` function to create a new array called `oneAR`. Use the tuple `(3,2)` to create an array with 3 rows and 2 columns. (The tuple `(3,2)` specifies that the new array will have `3` rows and `2` columns). After the new array is created, print it out. "
   ]
  },
  {
   "cell_type": "code",
   "execution_count": null,
   "metadata": {},
   "outputs": [],
   "source": [
    "# Insert your code for Exercise 4 here\n",
    "\n"
   ]
  },
  {
   "cell_type": "markdown",
   "metadata": {},
   "source": [
    "If your code is correct you should see the following output:\n",
    "~~~text\n",
    "[[1. 1.]\n",
    " [1. 1.]\n",
    " [1. 1.]]\n",
    "~~~\n",
    "When working with arrays, you should always chant quietly to yourself the following matra:\n",
    "\n",
    "**ROW COLUMN....ROW COLUMN....ROW COLUMN....ROW COLUMN**\n",
    "\n",
    "In other words, the first value will always refers to the **ROW** while the second value will always refers to the **COLUMN**. So the tuple `(3,2)` will generate an array with `3` _rows_ and `2` columns. "
   ]
  },
  {
   "cell_type": "markdown",
   "metadata": {},
   "source": [
    "### Example 5: Create and print a 4X6 array of 8's \n",
    "\n",
    "In addition to the `numpy.zeros()` and `numpy.ones()` functions, Numpy has another  method called `numpy.full()` which produces an array filled with a given value. \n",
    "\n",
    "The code in the cell below, uses the `np.full()` command to create a new array called `full8AR` that is filled with the number `8`. The tuple `(4,6)` specifies an array with `4` rows and `6` columns. "
   ]
  },
  {
   "cell_type": "code",
   "execution_count": null,
   "metadata": {},
   "outputs": [],
   "source": [
    "# Example 5: Create a 4X6 array with np.full()\n",
    "\n",
    "# Create a array full of 4's\n",
    "full8AR = np.full((4, 6), 8)\n",
    "\n",
    "# Print out the new array\n",
    "print(full8AR)"
   ]
  },
  {
   "cell_type": "markdown",
   "metadata": {},
   "source": [
    "If your code is correct you should see the following array:\n",
    "~~~text\n",
    "[[8 8 8 8 8 8]\n",
    " [8 8 8 8 8 8]\n",
    " [8 8 8 8 8 8]\n",
    " [8 8 8 8 8 8]]\n",
    "~~~"
   ]
  },
  {
   "cell_type": "markdown",
   "metadata": {},
   "source": [
    "### **Example 5: Create and print a 4X6 array of 5's** \n",
    "\n",
    "Write the code in the cell below use the `np.full()` command to create a 4X6 array filled with the number `5`. Call your new array `full5AR` and print it out."
   ]
  },
  {
   "cell_type": "code",
   "execution_count": null,
   "metadata": {},
   "outputs": [],
   "source": [
    "# Insert your code for Exercise 5 here\n",
    "\n"
   ]
  },
  {
   "cell_type": "markdown",
   "metadata": {},
   "source": [
    "If your code is correct you should see the following output:\n",
    "~~~text\n",
    "[[5 5 5 5 5 5]\n",
    " [5 5 5 5 5 5]\n",
    " [5 5 5 5 5 5]\n",
    " [5 5 5 5 5 5]]\n",
    "~~~"
   ]
  },
  {
   "cell_type": "markdown",
   "metadata": {},
   "source": [
    "## Array Arithemtic\n",
    "\n",
    "Array arithmetic refers to the operations that can be performed on an array. These operations can include addition, subtraction, multiplication, and division. Array arithmetic can be used to quickly perform calculations on large sets of data, and is often used in scientific computing.\n",
    "\n",
    "As will be demonstrated in the examples and exercises below, array arithematic can be perform using the arithmetic operators, **`+`**,**`-`**,**`*`**,**`/`** Alternatively, the NumPy package provides equivalent functions such as `numpy.add()`, `numpy.subtract()`, etc."
   ]
  },
  {
   "cell_type": "markdown",
   "metadata": {},
   "source": [
    "### Example 6: Array arithmetic: Addition of two arrays using + operator \n",
    "\n",
    "The code in the cell below adds together 3X6 arrays, `full8AR` created in **Example 6** and `full5AR` created in **Exercise 6** to create a new array called `addAR`. The addition operator **`+`** is used in this example. The same operation could also be achieved using the `numpy.add()` function. \n",
    "  "
   ]
  },
  {
   "cell_type": "code",
   "execution_count": null,
   "metadata": {},
   "outputs": [],
   "source": [
    "# Example 6: Add two arrays together using + operator\n",
    "\n",
    "# Add arrays\n",
    "addAR = full8AR + full5AR\n",
    "\n",
    "# Print out the new array\n",
    "print(addAR)"
   ]
  },
  {
   "cell_type": "markdown",
   "metadata": {},
   "source": [
    "If your code is correct you should see the following output:\n",
    "~~~text\n",
    "[[13 13 13 13 13 13]\n",
    " [13 13 13 13 13 13]\n",
    " [13 13 13 13 13 13]\n",
    " [13 13 13 13 13 13]]\n",
    "~~~\n",
    "With array arithmetic, each element in the first array is added to the corresponding element in the second array. "
   ]
  },
  {
   "cell_type": "markdown",
   "metadata": {},
   "source": [
    "### **Exercise 6: Array arithmetic: Subtraction of one array from another array** \n",
    "\n",
    "In the cell below, write the code to create a new array called `subtractAR` using the subtraction operator **`-`**. Use the same two arrays that were used in **Example 6**. Subtract `full8AR` from `full5AR` and print out the new array.\n"
   ]
  },
  {
   "cell_type": "code",
   "execution_count": null,
   "metadata": {},
   "outputs": [],
   "source": [
    "# Insert your code for Exercise 6 here\n",
    "\n"
   ]
  },
  {
   "cell_type": "markdown",
   "metadata": {},
   "source": [
    "If your code is correct you should see the following output:\n",
    "~~~text\n",
    "[[-3 -3 -3 -3 -3 -3]\n",
    " [-3 -3 -3 -3 -3 -3]\n",
    " [-3 -3 -3 -3 -3 -3]\n",
    " [-3 -3 -3 -3 -3 -3]]\n",
    "~~~"
   ]
  },
  {
   "cell_type": "markdown",
   "metadata": {},
   "source": [
    "### Example 7: Array arithmetic: Multiplication by an Array\n",
    "\n",
    "The code in the cell below uses the `numpy.multiply()`to multiply the array, `full8AR` by array `full5AR` to create a new array called `multiplyAR`.\n",
    "\n",
    "(NOTE: You could also use the multiplication operator `*` to perform the same function)\n"
   ]
  },
  {
   "cell_type": "code",
   "execution_count": null,
   "metadata": {
    "scrolled": true
   },
   "outputs": [],
   "source": [
    "# Example 7: Multiply two arrays together\n",
    "\n",
    "# Multiply two arrays\n",
    "multiplyAR = np.multiply(full8AR, full5AR)\n",
    "\n",
    "# Print out the new array\n",
    "print(multiplyAR)"
   ]
  },
  {
   "cell_type": "markdown",
   "metadata": {},
   "source": [
    "If your code is correct you should see the following output:\n",
    "~~~text\n",
    "[[40 40 40 40 40 40]\n",
    " [40 40 40 40 40 40]\n",
    " [40 40 40 40 40 40]\n",
    " [40 40 40 40 40 40]]\n",
    "~~~\n",
    "Each element in the new array contains the product of 8 X 5 or 40. "
   ]
  },
  {
   "cell_type": "markdown",
   "metadata": {},
   "source": [
    "### **Exercise 7: Array arithmetic: Division by an Array**\n",
    "\n",
    "In the cell below, write the code to create a new array called `divideAR` by \n",
    "dividing `full5AR` by `full8AR` using the `numpy.divide()`. The first argument of `numpy.divide()` is the _dividend_ , the second argument is the _divisor_. Print out the quotient of the division (i.e. `divideAR`). \n",
    "\n",
    "NOTE: For the function `numpy.divide()`, the first array argument is the **dividend** while the second array argument is the **divisor**. A divisor is the number that is divided into another number. The dividend is the number being divided, and the quotient is the result of the division.  \n"
   ]
  },
  {
   "cell_type": "code",
   "execution_count": null,
   "metadata": {},
   "outputs": [],
   "source": [
    "# Insert your code for Exercise 7 here\n",
    "\n"
   ]
  },
  {
   "cell_type": "markdown",
   "metadata": {},
   "source": [
    "If your code is correct you should see the following output:\n",
    "~~~text\n",
    "[[0.625 0.625 0.625 0.625 0.625 0.625]\n",
    " [0.625 0.625 0.625 0.625 0.625 0.625]\n",
    " [0.625 0.625 0.625 0.625 0.625 0.625]\n",
    " [0.625 0.625 0.625 0.625 0.625 0.625]]\n",
    "~~~"
   ]
  },
  {
   "cell_type": "markdown",
   "metadata": {},
   "source": [
    "### Example 8: Array arithmetic: Multiplication by a scalar\n",
    "\n",
    "The code in the cell below uses the `numpy.multiply()`to multiply the array, `full8AR` by the number `4` to create a new array called `scalar4_AR`. In this context, the number `4` would be consider to be a **_scalar_**."
   ]
  },
  {
   "cell_type": "code",
   "execution_count": null,
   "metadata": {},
   "outputs": [],
   "source": [
    "# Example 8: Multiply an array by a scalar \n",
    "\n",
    "# Multiply an array by the scalar 4\n",
    "scalar4_AR = np.multiply(full8AR, 4)\n",
    "\n",
    "# Print out the new array\n",
    "print(scalar4_AR)"
   ]
  },
  {
   "cell_type": "markdown",
   "metadata": {},
   "source": [
    "If your code is correct you should see the following output:\n",
    "~~~text\n",
    "[[32 32 32 32 32 32]\n",
    " [32 32 32 32 32 32]\n",
    " [32 32 32 32 32 32]\n",
    " [32 32 32 32 32 32]]\n",
    "\n",
    "~~~\n",
    "Each element in the new array contains the product of 8 X 4 or 32. "
   ]
  },
  {
   "cell_type": "markdown",
   "metadata": {},
   "source": [
    "-------------------\n",
    "\n",
    "### **What is a Scalar?**\n",
    "\n",
    "A scalar is a single numerical value, as opposed to a vector or matrix which are multiple numerical values arranged in an array. Scalars are commonly used in mathematics, physics and engineering. For example, a scalar could represent the speed of an object.\n",
    "\n",
    "-------------------"
   ]
  },
  {
   "cell_type": "markdown",
   "metadata": {},
   "source": [
    "### **Exercise 8: Array arithmetic: Division by a scalar**\n",
    "\n",
    "In the cell below, write the code to create a new array called `scalar3_AR` by \n",
    "dividing `full5AR` by the scalar `3` using the `numpy.divide()`. Print out the quotient of the division (i.e. `scalar3_AR`).  \n"
   ]
  },
  {
   "cell_type": "code",
   "execution_count": null,
   "metadata": {},
   "outputs": [],
   "source": [
    "# Insert your code for Exercise 8 here\n",
    "\n"
   ]
  },
  {
   "cell_type": "markdown",
   "metadata": {},
   "source": [
    "If your code is correct you should see the following output:\n",
    "~~~text\n",
    "[[1.66666667 1.66666667 1.66666667 1.66666667 1.66666667 1.66666667]\n",
    " [1.66666667 1.66666667 1.66666667 1.66666667 1.66666667 1.66666667]\n",
    " [1.66666667 1.66666667 1.66666667 1.66666667 1.66666667 1.66666667]\n",
    " [1.66666667 1.66666667 1.66666667 1.66666667 1.66666667 1.66666667]]\n",
    "~~~"
   ]
  },
  {
   "cell_type": "markdown",
   "metadata": {},
   "source": [
    "## Matplotlib\n",
    "\n",
    "**_Matplotlib_** is a comprehensive library for creating static, animated, and interactive visualizations in Python. It provides an object-oriented API for embedding plots into applications using general-purpose GUI toolkits like Tkinter, wxPython, Qt, or GTK+. \n",
    "\n",
    "Matplotlib can be used in Python scripts, the Python and IPython shells, the Jupyter notebook, web application servers, and four graphical user interface toolkits. It supports many types of charts and graphs, including line plots, scatter plots, bar charts, histograms, pie charts, box plots, 3D charts, and more. It also supports mathematical notation and LaTeX-style formatting for text and labels.\n",
    "\n",
    "### Matplotlib with NumPy\n",
    "\n",
    "Matplotlib can be used with Numpy to create powerful visualizations. Numpy can be used to provide data for Matplotlib to plot, manipulate, and transform. For example, you can use Numpy functions to generate random numbers, generate evenly spaced numbers over a specified interval, generate normally distributed numbers, and even perform linear algebraic operations. Matplotlib can then take this data and plot it in various ways, including line graphs, bar graphs, histograms, scatter plots, contour plots, and more. Together, Matplotlib and Numpy can be used to create powerful visualizations of data.\n",
    "\n",
    "### Using Matplotlib\n",
    "\n",
    "Using Matplotlib is quite straightforward. First, you must import the Matplotlib library by using the commands \n",
    "\n",
    "> `import matplotlib` <br>\n",
    "> `from matplotlib import pyplot as plt` \n",
    "\n",
    "To do this run the next code cell."
   ]
  },
  {
   "cell_type": "code",
   "execution_count": null,
   "metadata": {},
   "outputs": [],
   "source": [
    "# Import matplotlib\n",
    "\n",
    "import matplotlib\n",
    "from matplotlib import pyplot as plt "
   ]
  },
  {
   "cell_type": "markdown",
   "metadata": {},
   "source": [
    "The `from matplotlib` means that you just want to import the `pyplot` module. Large Python packages like `matplotlib` often have several different modules.  \n",
    "\n",
    "Then, you can create a _plot object_ by calling the `plt.plot()` command. The `plt.plot()` function accepts a variety of arguments that can be used to customize the plot. \n",
    "\n",
    "Once the plot object has been created, you can add labels and titles, set the limits of the axes, add legends, and more. Finally, you can use the `plt.show()` command to display the plot."
   ]
  },
  {
   "cell_type": "markdown",
   "metadata": {},
   "source": [
    "### Example 9: Plot a sine wave using NumPy and Matplotlib\n",
    "\n",
    "A sine wave is a smooth, repetitive waveform that oscillates between a minimum and maximum amplitude. It is commonly used to represent periodic functions such as sound and light waves. A sine wave is defined by the equation y = sin(x). The x-axis represents time and the y-axis represents the amplitude of the wave. The sine wave has a frequency, which is the number of complete cycles per unit time.\n",
    "\n",
    "The code in the cell below uses the `plt.plot()` function to create an XY plot. \n",
    "\n",
    "The `x` values for the plot were generated using NumPy's `np.linespace()` function. The `np.linespace()` function can be used to create a one-dimensional array of evenly spaced numbers between a given start and end point. It takes three arguments: the start point, the end point, and the number of points desired. It returns an array of evenly spaced numbers, calculated over the interval [start, stop]. In this example, `np.linespace(0, 10, 100)` returned an array of 100 evenly spaced numbers between 0 and 10 which are shown below:"
   ]
  },
  {
   "cell_type": "markdown",
   "metadata": {},
   "source": [
    "~~~text\n",
    "[ 0.          0.1010101   0.2020202   0.3030303   0.4040404   0.50505051\n",
    "  0.60606061  0.70707071  0.80808081  0.90909091  1.01010101  1.11111111\n",
    "  1.21212121  1.31313131  1.41414141  1.51515152  1.61616162  1.71717172\n",
    "  1.81818182  1.91919192  2.02020202  2.12121212  2.22222222  2.32323232\n",
    "  2.42424242  2.52525253  2.62626263  2.72727273  2.82828283  2.92929293\n",
    "  3.03030303  3.13131313  3.23232323  3.33333333  3.43434343  3.53535354\n",
    "  3.63636364  3.73737374  3.83838384  3.93939394  4.04040404  4.14141414\n",
    "  4.24242424  4.34343434  4.44444444  4.54545455  4.64646465  4.74747475\n",
    "  4.84848485  4.94949495  5.05050505  5.15151515  5.25252525  5.35353535\n",
    "  5.45454545  5.55555556  5.65656566  5.75757576  5.85858586  5.95959596\n",
    "  6.06060606  6.16161616  6.26262626  6.36363636  6.46464646  6.56565657\n",
    "  6.66666667  6.76767677  6.86868687  6.96969697  7.07070707  7.17171717\n",
    "  7.27272727  7.37373737  7.47474747  7.57575758  7.67676768  7.77777778\n",
    "  7.87878788  7.97979798  8.08080808  8.18181818  8.28282828  8.38383838\n",
    "  8.48484848  8.58585859  8.68686869  8.78787879  8.88888889  8.98989899\n",
    "  9.09090909  9.19191919  9.29292929  9.39393939  9.49494949  9.5959596\n",
    "  9.6969697   9.7979798   9.8989899  10.        ]\n",
    "~~~"
   ]
  },
  {
   "cell_type": "markdown",
   "metadata": {},
   "source": [
    "The `y` values for the plot were generated using NumPy's `np.sin()` function. The `np.sin()` function takes a single argument and returns the sine of that angle. In this example, the `np.sin()` function is passed the entire array of 100 `x` values using the command\n",
    "\n",
    "> `y = np.sin(x)`\n",
    ">\n",
    "so that each `y` value is computed from its corresponding `x` value. These 100 `y` values are shown below."
   ]
  },
  {
   "cell_type": "markdown",
   "metadata": {},
   "source": [
    "~~~text\n",
    "[ 0.          0.10083842  0.20064886  0.2984138   0.39313661  0.48385164\n",
    "  0.56963411  0.64960951  0.72296256  0.78894546  0.84688556  0.8961922\n",
    "  0.93636273  0.96698762  0.98775469  0.99845223  0.99897117  0.98930624\n",
    "  0.96955595  0.93992165  0.90070545  0.85230712  0.79522006  0.73002623\n",
    "  0.65739025  0.57805259  0.49282204  0.40256749  0.30820902  0.21070855\n",
    "  0.11106004  0.01027934 -0.09060615 -0.19056796 -0.28858706 -0.38366419\n",
    " -0.47483011 -0.56115544 -0.64176014 -0.7158225  -0.7825875  -0.84137452\n",
    " -0.89158426 -0.93270486 -0.96431712 -0.98609877 -0.99782778 -0.99938456\n",
    " -0.99075324 -0.97202182 -0.94338126 -0.90512352 -0.85763861 -0.80141062\n",
    " -0.73701276 -0.66510151 -0.58640998 -0.50174037 -0.41195583 -0.31797166\n",
    " -0.22074597 -0.12126992 -0.0205576   0.0803643   0.18046693  0.27872982\n",
    "  0.37415123  0.46575841  0.55261747  0.63384295  0.7086068   0.77614685\n",
    "  0.83577457  0.8868821   0.92894843  0.96154471  0.98433866  0.99709789\n",
    "  0.99969234  0.99209556  0.97438499  0.94674118  0.90944594  0.86287948\n",
    "  0.8075165   0.74392141  0.6727425   0.59470541  0.51060568  0.42130064\n",
    "  0.32770071  0.23076008  0.13146699  0.03083368 -0.07011396 -0.17034683\n",
    " -0.26884313 -0.36459873 -0.45663749 -0.54402111]\n",
    " ~~~"
   ]
  },
  {
   "cell_type": "markdown",
   "metadata": {},
   "source": [
    "You should notice that the sign of the `y` values go back-and-forth (oscillates) between positive and negative."
   ]
  },
  {
   "cell_type": "code",
   "execution_count": null,
   "metadata": {
    "scrolled": true
   },
   "outputs": [],
   "source": [
    "# Example 9: Plot a sine wave\n",
    "\n",
    "# Generate x and y values \n",
    "x = np.linspace(0, 10, 100)  # generate x values with np.linespace()\n",
    "y = np.sin(x) # generate y values with np.sin()\n",
    "\n",
    "# Create the XY line plot\n",
    "plt.plot(x, y)\n",
    "\n",
    "# Add lables to the plot\n",
    "plt.title(\"Sine Wave\")  # plot title\n",
    "plt.xlabel(\"X\")         # x-axis title\n",
    "plt.ylabel(\"Y\")         # y-axis title\n",
    "\n",
    "# Display the plot\n",
    "plt.show()"
   ]
  },
  {
   "cell_type": "markdown",
   "metadata": {},
   "source": [
    "If your code is correct you should see a plot of a sine wave.\n",
    "\n",
    "![__](https://biologicslab.co/BIO1173/images/class_01/SineWave.png)"
   ]
  },
  {
   "cell_type": "markdown",
   "metadata": {},
   "source": [
    "### **Exercise 9: Plot the tangent function using Numpy and Matplotlib**\n",
    "\n",
    "In the cell below write the code to generate an XY plot of the tanget function. To generate your `x` values use the following arguments for the `np.linespace()` function:\n",
    "~~~text\n",
    "x = np.linespace(0, np.pi, 100)\n",
    "~~~\n",
    "The term `np.pi` is the NumPy representation of the **`pi`** (3.141592653589793). This is a commonly used constant in various mathematical operations.\n",
    "\n",
    "To compute the `y` values, pass the `x` values to the `np.tan()` function\n",
    "~~~text\n",
    "y = np.tan(x)\n",
    "~~~\n",
    "Don't forget to change the plot title."
   ]
  },
  {
   "cell_type": "code",
   "execution_count": null,
   "metadata": {},
   "outputs": [],
   "source": [
    "# Insert your code for Exercise 9 here\n",
    "\n"
   ]
  },
  {
   "cell_type": "markdown",
   "metadata": {},
   "source": [
    "If your code is correct you should see the following XY plot:\n",
    "\n",
    "![_](https://biologicslab.co/BIO1173/images/class_01/tan.png)\n"
   ]
  },
  {
   "cell_type": "markdown",
   "metadata": {},
   "source": [
    "## **Lesson Turn-in**\n",
    "\n",
    "When you have completed all of the code cells, and run them in sequential order (the last code cell should be number 23), use the **File --> Print.. --> Save to PDF** to generate a PDF of your JupyterLab notebook. Save your PDF as `Lesson_01_8.lastname.pdf` where _lastname_ is your last name, and upload the file to Canvas."
   ]
  }
 ],
 "metadata": {
  "kernelspec": {
   "display_name": "Python 3.9 (biostats)",
   "language": "python",
   "name": "biostats"
  },
  "language_info": {
   "codemirror_mode": {
    "name": "ipython",
    "version": 3
   },
   "file_extension": ".py",
   "mimetype": "text/x-python",
   "name": "python",
   "nbconvert_exporter": "python",
   "pygments_lexer": "ipython3",
   "version": "3.9.19"
  }
 },
 "nbformat": 4,
 "nbformat_minor": 4
}
