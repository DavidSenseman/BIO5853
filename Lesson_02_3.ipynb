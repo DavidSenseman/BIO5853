{
 "cells": [
  {
   "cell_type": "markdown",
   "metadata": {
    "id": "bLEEW13uCtiJ"
   },
   "source": [
    "<a href=\"https://colab.research.google.com/github/DavidSenseman/BIO5853/blob/master/Lesson_02_3.ipynb\" target=\"_parent\"><img src=\"https://colab.research.google.com/assets/colab-badge.svg\" alt=\"Open In Colab\"/></a>"
   ]
  },
  {
   "cell_type": "markdown",
   "metadata": {},
   "source": [
    "---------------------------\n",
    "**COPYRIGHT NOTICE:** This Jupyterlab Notebook is a Derivative work of [Jeff Heaton](https://github.com/jeffheaton) licensed under the Apache License, Version 2.0 (the \"License\"); You may not use this file except in compliance with the License. You may obtain a copy of the License at\n",
    "\n",
    "> [http://www.apache.org/licenses/LICENSE-2.0](http://www.apache.org/licenses/LICENSE-2.0)\n",
    "\n",
    "Unless required by applicable law or agreed to in writing, software distributed under the License is distributed on an \"AS IS\" BASIS, WITHOUT WARRANTIES OR CONDITIONS OF ANY KIND, either express or implied. See the License for the specific language governing permissions and limitations under the License.\n",
    "\n",
    "------------------------"
   ]
  },
  {
   "cell_type": "markdown",
   "metadata": {},
   "source": [
    "# **BIO5853: Biostatistics**"
   ]
  },
  {
   "cell_type": "markdown",
   "metadata": {},
   "source": [
    "## **Lesson_02_3:  Sampling Distributions of the Mean**"
   ]
  },
  {
   "cell_type": "markdown",
   "metadata": {},
   "source": [
    "##### **Module II: Probability**\n",
    "\n",
    "* Instructor: [David Senseman](mailto:David.Senseman@utsa.edu), [Department of Integrative Biology](https://sciences.utsa.edu/integrative-biology/), [UTSA](https://www.utsa.edu/)\n",
    "\n",
    "### Module II Material\n",
    "* Part 2.1: Probability\n",
    "* Part 2.2: Theorectical Probability Distributions**\n",
    "* **Part 2.3: Sampling Distributions of the Mean**"
   ]
  },
  {
   "cell_type": "markdown",
   "metadata": {
    "jp-MarkdownHeadingCollapsed": true,
    "tags": []
   },
   "source": [
    "#### In this assignment you will learn about:\n",
    "\n",
    "* Sampling Distributions\n",
    "* Central Limit Theorem\n",
    "* Applications of the Central Limit Theorem"
   ]
  },
  {
   "cell_type": "markdown",
   "metadata": {
    "id": "yKQylnEiLDUM"
   },
   "source": [
    "### Google CoLab Instructions\n",
    "\n",
    "The following code will map your GDrive to ```/content/drive``` and print out your Google GMAIL address."
   ]
  },
  {
   "cell_type": "code",
   "execution_count": null,
   "metadata": {
    "colab": {
     "base_uri": "https://localhost:8080/"
    },
    "id": "seXFCYH4LDUM",
    "outputId": "c05015aa-871e-4779-9265-5ad07e8bf617",
    "scrolled": true
   },
   "outputs": [],
   "source": [
    "# YOU MUST RUN THIS CELL FIRST\n",
    "try:\n",
    "    from google.colab import drive\n",
    "    drive.mount('/content/drive', force_remount=True)\n",
    "    from google.colab import auth\n",
    "    auth.authenticate_user()\n",
    "    COLAB = True\n",
    "    print(\"Note: using Google CoLab\")\n",
    "    import requests\n",
    "    gcloud_token = !gcloud auth print-access-token\n",
    "    gcloud_tokeninfo = requests.get('https://www.googleapis.com/oauth2/v3/tokeninfo?access_token=' + gcloud_token[0]).json()\n",
    "    print(gcloud_tokeninfo['email'])\n",
    "except:\n",
    "    print(\"Note: not using Google CoLab\")\n",
    "    COLAB = False"
   ]
  },
  {
   "cell_type": "markdown",
   "metadata": {},
   "source": [
    "### **Introduction**\n",
    "\n",
    "In the previous chapter we examine theoretical probability distributions,such as the binomial distribution and the normal distribution. In all cases the relevant population parameters are assumed to be known; this allows us to describe the distributions completely and calculate the probabilities associated with various outcomes. In most practical applications, however, we are not given the values of these parameters. Instead, we must attempt to describe or estimate a population parameter – such as the mean of a normally distributed random variable – using the information contained in a sample of observations selected from the population. The process of drawing conclusions about an entire population based on the information contained in a sample is known as **_statistical inference_**. \n",
    "\n",
    "(Pagano, Marcello; Gauvreau, Kimberlee; Mattie, Heather. Principles of Biostatistics (p. 191). CRC Press. Kindle Edition.) "
   ]
  },
  {
   "cell_type": "markdown",
   "metadata": {},
   "source": [
    "### Example 1: Download Dataset\n",
    "\n",
    "The code in the cell below downloads the serum cholesterol dataset from the course file server and creates a Pandas DataFrame called `scDF`. In this dataset, the serum cholesterol values are diving into two categories, `young` and `old`. For the examples below, we won't care about the age of the subject, only the total number of subjects that had a particular serum cholesterol value. The code therefore creates a new DataFrame column called `total_subjects` by adding together the values in the `young` and `old` columns using the following code chunk:\n",
    "\n",
    "~~~text\n",
    "# Create a total column\n",
    "scDF['total_subjects'] = scDF['young'] + scDF['old']\n",
    "~~~\n",
    "It then uses the `display()` function to print out 8 rows and 8 columns to make sure the new DataFrame, `scDF`, is correct. "
   ]
  },
  {
   "cell_type": "code",
   "execution_count": null,
   "metadata": {},
   "outputs": [],
   "source": [
    "# Example 1: Download dataset\n",
    "\n",
    "import pandas as pd\n",
    "\n",
    "# Read the datafile \n",
    "scDF = pd.read_csv(\n",
    "    \"https://biologicslab.co/BIO5853/data/serum_chol.csv\",\n",
    "    index_col=0,\n",
    "    na_values=['NA','?'])\n",
    "\n",
    "# Create a total column\n",
    "scDF['total_subjects'] = scDF['young'] + scDF['old']\n",
    "\n",
    "# Set max rows and max columns\n",
    "pd.set_option('display.max_rows', 8)\n",
    "pd.set_option('display.max_columns', 8) \n",
    "\n",
    "# Display DataFrame\n",
    "display(scDF)"
   ]
  },
  {
   "cell_type": "markdown",
   "metadata": {},
   "source": [
    "If the code is correct you should see the following output:\n",
    "\n",
    "![___](https://biologicslab.co/BIO5853/images/module_02/lesson_02_3_image10.png)\n"
   ]
  },
  {
   "cell_type": "markdown",
   "metadata": {},
   "source": [
    "### **Exercise 1: Download Dataset**\n",
    "\n",
    "In the cell below, download the file `age_at_death.csv` from the course file server using the Pandas function `pd.read_csv()`. As the file is read, store the data in a new DataFrame called `ageDF`. Set the max rows and columns to 8 and then display the contents of your new DataFrame, `ageDF`.\n",
    "\n",
    "NOTE: With this dataset, there is no need to add any DataFrame columns together as was done in Example 1."
   ]
  },
  {
   "cell_type": "code",
   "execution_count": null,
   "metadata": {},
   "outputs": [],
   "source": [
    "# Insert your code for Exercise 1 here\n",
    "\n"
   ]
  },
  {
   "cell_type": "markdown",
   "metadata": {},
   "source": [
    "If your code is correct you should see the following output:\n",
    "\n",
    "![___](https://biologicslab.co/BIO5853/images/module_02/lesson_02_3_image01.png)\n"
   ]
  },
  {
   "cell_type": "markdown",
   "metadata": {},
   "source": [
    "### **Create Function**\n",
    "\n",
    "The code in the cell below creates a function called `add_repeated_number()`. Thia function will used in Example 2 and **Exercise 2**. If you don' run this cell, you will get an error when you try to run Example 2. "
   ]
  },
  {
   "cell_type": "code",
   "execution_count": null,
   "metadata": {},
   "outputs": [],
   "source": [
    "# Create function\n",
    "\n",
    "def add_repeated_number(array, number, times):\n",
    "    repeated_number = np.repeat(number, times)\n",
    "    return np.concatenate((array, repeated_number))"
   ]
  },
  {
   "cell_type": "markdown",
   "metadata": {},
   "source": [
    "## **Experimental Distribution**\n",
    "\n",
    "An **_Experimental Distribution_** refers to the distribution of data points collected from an experiment. It represents the frequencies or probabilities of different outcomes observed during the experiment. This type of distribution is crucial for several reasons:\n",
    "\n",
    "#### **Definition**\n",
    "An experimental distribution is essentially a _histogram_ or probability distribution derived from experimental data. It shows how often each outcome occurs, providing a visual and statistical representation of the data collected.\n",
    "\n",
    "#### **Importance**\n",
    "1. **Understanding Data Patterns:** It helps in identifying patterns, trends, and anomalies in the experimental data. This can be crucial for making informed decisions based on the observed outcomes.\n",
    "2. **Hypothesis Testing:** Experimental distributions are used to test hypotheses. By comparing the experimental distribution to a theoretical distribution, researchers can determine if their hypotheses hold true.\n",
    "3. **Estimating Parameters:** It allows for the estimation of parameters such as mean, variance, and standard deviation, which are essential for summarizing and understanding the data.\n",
    "4. **Model Validation:** Experimental distributions are used to validate statistical models. By comparing the model’s predictions to the experimental distribution, researchers can assess the model’s accuracy and reliability.\n",
    "5. **Decision Making:** In fields like engineering, medicine, and social sciences, experimental distributions provide the empirical evidence needed to make critical decisions.\n",
    "6. **Identifying Relationships:** They help in identifying relationships between variables, which can be crucial for understanding cause-and-effect dynamics in experimental research12."
   ]
  },
  {
   "cell_type": "markdown",
   "metadata": {},
   "source": [
    "### Example 2: Create Experimental Distribution\n",
    "\n",
    "\n",
    "Ideally, if we wanted to know the mean serum cholesterol levels for males in the US, we would measure the **_entire male population_**. That would be impractical. As of July 1, 2022, there were approximately 165.28 million males living in the United States. But what we can do, is measure serum cholesterol in a **_sample_** of US males. The obvious approach would be to use the mean of the sample as an estimate of the unknown population mean $µ$. The sample mean $\\bar{X}$ is called an **_estimator_** of the parameter $µ$. There are many different approaches to the process of estimation. If we assumed the population to be normally distributed, the sample mean $\\bar{X}$ is something called a **_maximum likelihood estimator_**. The method of maximum likelihood finds the value of the parameter that is most likely to have produced the observed sample  data. This method can usually be relied on to yield reasonable estimators. Note, however, that two different samples are likely to result in **_different sample means_**; consequently, there is some degree  of uncertainty involved.\n",
    "\n",
    "The code in the cell belows creates an **_Experimental Distribution_** fron the data stored in `scDF`. This experimental distribution is called `chol_expDist_ar` and it is a Numpy array, not a Pandas DataFrame. You can think of this numpy array as containing the serum cholesterol measurement for each male in the sample. \n",
    "\n",
    "For example, for the lowest serum cholesterol level measured (80-119, midpoint=99.5) there were 13 'young' men and 5 'old' men for a total of 13 'males'. Using a simple `for loop`, the code adds 13 values of 99.5 to `chol_expDist_ar`. During the next turn of the loop, the next lowest values of serum cholesterol (120-159, midpoint=139.5) are added. Since 150 'young' men and 48 'old' had a serum cholesterol value between 120-159--for a total of 198 males--$198$ copies of the midpoint number $139.5$ are againh added to the experimental distribution. By the end the for loop, `chol_expDist_ar` contains 2295 serum cholesterol (midpoint) values--one for each male in the sample.  \n",
    "\n",
    "_Code Description:_\n",
    "\n",
    "In Python, an array must be _initialized_ (created) before it can be used. This code chunk intializes the 4 numpy arrays used in this code cell:\n",
    "\n",
    "~~~text\n",
    "# Create numpy arrays\n",
    "total_ar = np.array(scDF.total_subjects)\n",
    "chol_ar = np.array(scDF.midpoint)\n",
    "dummy_array=([])\n",
    "chol_expDist_ar = ([ ])\n",
    "~~~\n",
    "\n",
    "The first two arrays are created from the DataFrame `scDF` using the `np.array(df)` function. The `np.array(df)` function is used when you want to convert the numeric (or string) values in a DataFrame into a Numpy array format. \n",
    "\n",
    "The first array, `total_ar`, contains the total number of subjects that had a specific cholesterol value, while the second array, `chol_ar`, contains the corresponding serum cholesterol (\"midpoint\") values. \n",
    "\n",
    "The last two arrays, `dummy_array` and `chol_expDist_ar` are initialized, but contain no data -- they will be filled with data later. \n",
    "\n",
    "The main component of the code is the `for loop`. The `for loop` makes 9 iterations (i.e. 'loops')--one loop for each of the 9 serum cholesterol levels. During each pass through the loop, our special function `add_repeated_number()` is called. As an argument, the function is given a specific midpoint cholesterol value and the number of males that had that value. \n",
    "\n",
    "For example, during the first loop pass, the counter variable `i` is equal to 0. The special function is passed the value in  of `males_ar[0]` which is $13$, and the corresponding cholesterol value in `chol_ar[0]` which is $99.5$. These two values are passed the special function. `add_repeated_number()`. The special function generates 13 copies of $99.5$ and \"returns\" these 13 copies in the variable `result`. The last line of the `for loop` uses the `np.concatenate()` function to add these 13 copies of $99.5$ to the numpy array `scDF_expDist_ar`. \n",
    "\n",
    "~~~text\n",
    "for i in range(len(chol_ar)):\n",
    "    result = add_repeated_number(dummy_array, chol_ar[i], total_ar[i])\n",
    "    chol_expDist_ar  = np.concatenate((chol_expDist_ar, result), axis=None)\n",
    "~~~\n",
    "\n",
    "After the `for loop` has completed 9 turns--one turn for example cholesterol (midpoint) level--it will have added 2295 cholesterol values to the `scDF_expDist_ar`--one serum cholesterol value for each male subject. In other words, the code is essentially recreating the \"raw data\" obtained in the study and storing these data points in the numpy array, `scDF_expDist_ar`.  \n",
    "\n",
    "Now that we have recreated our \"experimental distribution\", we can use the Numpy function `np.mean(array)` to find the distribution's mean, as it shown last section of the code cell below. "
   ]
  },
  {
   "cell_type": "code",
   "execution_count": null,
   "metadata": {
    "scrolled": true
   },
   "outputs": [],
   "source": [
    "# Example 2: Create experimental distribution\n",
    "\n",
    "import numpy as np\n",
    "import matplotlib.pyplot as plt\n",
    "\n",
    "# Define variables\n",
    "total_US_males=168280000\n",
    "\n",
    "# Create numpy arrays\n",
    "total_ar = np.array(scDF.total_subjects)\n",
    "chol_ar = np.array(scDF.midpoint)\n",
    "dummy_array = ([])\n",
    "chol_expDist_ar = ([])\n",
    "\n",
    "# Loop through array \n",
    "for i in range(len(chol_ar)):\n",
    "    result = add_repeated_number(dummy_array, chol_ar[i], total_ar[i])\n",
    "    chol_expDist_ar = np.concatenate((chol_expDist_ar, result), axis=None)\n",
    "    \n",
    "# Compute mean\n",
    "chol_expDist_ar_mean = np.mean(chol_expDist_ar)\n",
    "\n",
    "# Compute sample number\n",
    "sample_number = chol_expDist_ar.size\n",
    "\n",
    "# Compute fraction\n",
    "chol_fraction = sample_number/total_US_males\n",
    "\n",
    "# Print result -- use \\ to continue the print statement to the next line\n",
    "print(f\"Mean serum cholesterol = {chol_expDist_ar_mean:.2f} \\\n",
    "mg/dl determined from an experimental distribution of {sample_number} males.\")\n",
    "print(f\"This sample represents {chol_fraction:.6f} of the total male population in the US\")"
   ]
  },
  {
   "cell_type": "markdown",
   "metadata": {},
   "source": [
    "If the code is correct, you should see the following output:\n",
    "\n",
    "~~~text\n",
    "Mean serum cholesterol = 215.11 mg/dl determined from an experimental distribution of 2295 males.\n",
    "This sample represents 0.000014 of the total male population in the US\n",
    "~~~"
   ]
  },
  {
   "cell_type": "markdown",
   "metadata": {},
   "source": [
    "If the goal of our serum cholesterol study was to say something about the serum cholesterol values of _all_ the males across the US, we might want to be somewhat cautious. After all, even though we measured the cholesterol values in 2295 male subjects, this is only a tiny fraction (0.000014) of the total population of males in the US. \n",
    "\n",
    "A really fundamental question in biostatistics is how can we extrapolate the results that were obtained in a sample population to a much large population. In fact there is a large branch of statistics devoted to this very question. This branch is called **_Inferential Statistics_** which we will study later in this course. \n",
    "\n",
    "As will be demonstrated in this lesson and in **Chapter 8** of your textbook, we can be relatively certain that a **_statistic_**, such as the _mean_, $\\bar{X}$, computed for a sample, must be reasonable close the **_true population mean_**, $µ$, even though we will _never_ be able to actually measure it!  "
   ]
  },
  {
   "cell_type": "markdown",
   "metadata": {},
   "source": [
    "### **Exercise 2: Create Experimental Distribution**\n",
    "\n",
    "In the cell below, create an experimental distribution called `age_expDist_ar` using the data in the DataFrame `ageDF`. Create a numpy array called `age_ar` from the data in column `ageDF.age` and another array called `deaths_ar` from the column `ageDF.deaths`. You will also need to initialize two additional arrays called `dummy_ar` and `age_expDist_ar`. The last array, `age_expDist_ar` is the experimental distribution for the age at death dataset and contains the subject's age at his/her time of death. \n",
    "\n",
    "Your code should also calculate the average (mean) age at the time of death. Call this value `age_expDist_ar_mean`. Also calculate the total number of subjects in your experimental distribution. Use an `f print` statement to print out these values. (See the expected output for the correct wording). "
   ]
  },
  {
   "cell_type": "code",
   "execution_count": null,
   "metadata": {
    "scrolled": true
   },
   "outputs": [],
   "source": [
    "# Insert your code for Exercise 2 here\n",
    "\n"
   ]
  },
  {
   "cell_type": "markdown",
   "metadata": {},
   "source": [
    "If your code is correct, you should see the following output:\n",
    "\n",
    "~~~text\n",
    "Mean age at death = 79.22 years determined from an experimental distribution of 99999 subjects.\n",
    "~~~"
   ]
  },
  {
   "cell_type": "markdown",
   "metadata": {},
   "source": [
    "### Example 3: Plot Histogram of Experimental Distribution\n",
    "\n",
    "Plotting an **_Experimental Distribution_** is crucial in statistical research for several reasons:\n",
    "\n",
    "1. **Visualization of Data:** It provides a clear visual representation of the data, making it easier to understand the underlying patterns, trends, and anomalies. This can be particularly helpful in identifying outliers or unusual observations.\n",
    "2. **Understanding Probability:** By visualizing the distribution, researchers can better understand the probability of different outcomes. This is essential for making predictions and decisions based on the data.\n",
    "3. **Comparison of Distributions:** Plotting allows for easy comparison between different datasets or experimental conditions. For example, comparing the distribution of test scores between two different teaching methods can reveal which method is more effective.\n",
    "4. **Hypothesis Testing:** Visualizing the distribution helps in assessing the assumptions of statistical tests. For instance, many parametric tests assume that the data follows a normal distribution. Plotting the data can help verify this assumption.\n",
    "5. **Communication of Results:** Graphical representations are often more intuitive and easier to interpret than raw data or numerical summaries. They can effectively communicate findings to a broader audience, including those who may not have a strong statistical background.\n",
    "6. **Identifying Patterns:** It helps in identifying patterns such as skewness, kurtosis, and modality (e.g., unimodal, bimodal). These patterns can provide insights into the nature of the data and guide further analysis.\n",
    "\n",
    "The code in the cell below uses the `Matplotlib.pyplot` function `ax.hist()` to create a histogram of the experimental distribution `chol_expDist_ar` created in the Example 2. Details concerning the code for generating a histogram were provided in a previous lesson.\n"
   ]
  },
  {
   "cell_type": "code",
   "execution_count": null,
   "metadata": {},
   "outputs": [],
   "source": [
    "# Example 3: Create histogram of experimental distribution\n",
    "\n",
    "import numpy as np\n",
    "import matplotlib.pyplot as plt\n",
    "\n",
    "# Create variables\n",
    "num_bins = 9\n",
    "chart_color = '#294171'\n",
    "    \n",
    "# Create plotting environment\n",
    "fig, ax = plt.subplots()\n",
    "\n",
    "# Set the default font size\n",
    "plt.rcParams.update({'font.size': 10})  # You can adjust the size as needed\n",
    "\n",
    "# Plot histogram\n",
    "ax.hist(chol_expDist_ar, bins=num_bins, \n",
    "         color=chart_color, \n",
    "         edgecolor='white', \n",
    "         align='left',\n",
    "         density=True)\n",
    "\n",
    "ax.set_xlabel('Serum Cholesterol (mg/dL)')\n",
    "ax.set_ylabel('Probability')\n",
    "ax.set_title(\"Experimental Distribution of Serum Cholesterol\")\n",
    "\n",
    "# Show plot\n",
    "plt.show()"
   ]
  },
  {
   "cell_type": "markdown",
   "metadata": {},
   "source": [
    "If the code is correct you should see the following output:\n",
    "\n",
    "![___](https://biologicslab.co/BIO5853/images/module_02/lesson_02_3_image11.png)\n"
   ]
  },
  {
   "cell_type": "markdown",
   "metadata": {},
   "source": [
    "### **Exercise 3: Plot Histogram of Experimental Distribution**\n",
    "\n",
    "In the cell below, write the Python code to create a histogram of your experimental distribution `age_expDist_ar` that was created in **Exercise 2**. Set the number of bins to `25`, the x axis label to read 'Age (years)', the y-axis label to read 'Probability' and title your graph \"Experimental Distribution Age at Death\". \n",
    "\n",
    "_Code Modification:_\n",
    "\n",
    "You can use the code in Example 3, but you will need to make the following modifications:\n",
    "\n",
    "1. Set `num_bins=25`\n",
    "2. Set `ax.set_xlabel('Age (years)')`\n",
    "3. Set `ax.set_ylabel('Probability')`\n",
    "4. Set `ax.set_title(\"Experimental Distribution Age at Death\")`"
   ]
  },
  {
   "cell_type": "code",
   "execution_count": null,
   "metadata": {
    "scrolled": true
   },
   "outputs": [],
   "source": [
    "# Insert your code for Exercise 3 here\n",
    "\n"
   ]
  },
  {
   "cell_type": "markdown",
   "metadata": {},
   "source": [
    "If the code is correct you should see the following output:\n",
    "\n",
    "![___](https://biologicslab.co/BIO5853/images/module_02/lesson_02_3_image02.png)\n"
   ]
  },
  {
   "attachments": {},
   "cell_type": "markdown",
   "metadata": {
    "jp-MarkdownHeadingCollapsed": true
   },
   "source": [
    "## **Sampling Distributions of the Mean**\n",
    "\n",
    "A **_Sampling Distribution of the Mean_** is the probability distribution of all possible sample means of a given size from a population. It is a fundamental concept in inferential statistics.\n",
    "\n",
    "#### **Key Characteristics**\n",
    "\n",
    "1. **Central Limit Theorem (CLT):** Regardless of the population’s distribution, the sampling distribution of the mean will tend to be normally distributed if the sample size is sufficiently large (usually ( $n \\geq 30$).\n",
    "2. **Mean of the Sampling Distribution:** The mean of the sampling distribution ($\\mu_{\\bar{x}}$) is equal to the mean of the population ($\\mu$).\n",
    "3. **Standard Error:** The standard deviation of the sampling distribution ($\\sigma_{\\bar{x}}$), known as the standard error, is given by:\n",
    "\n",
    "$$ \\sigma_{\\bar{x}} = \\frac{\\sigma}{\\sqrt{n}}$$​\n",
    "\n",
    "where $\\sigma$ is the population standard deviation and $n$ is the sample size.\n",
    "\n",
    "#### **Importance**\n",
    "\n",
    "1. **Estimation:** Sampling distributions allow us to estimate population parameters (like the mean) from sample statistics.\n",
    "2. **Hypothesis Testing:** They provide the basis for conducting hypothesis tests. By comparing the sample mean to the sampling distribution, we can determine the likelihood of observing such a sample mean if the null hypothesis is true.\n",
    "3. **Confidence Intervals:** They are used to construct confidence intervals for population parameters, giving us a range of plausible values for the parameter."
   ]
  },
  {
   "cell_type": "markdown",
   "metadata": {},
   "source": [
    "### Example 4: Sample from a Population Distribution\n",
    "\n",
    "For the purposes of illustration, suppose we could measure the serum cholesterol value for **_all_** the males in a population? In that case, we can easily find the **_true population mean_**, $µ$, by adding up all the serum cholesterol values and dividing by the population size, $N$. In this instance, there is only a single value for the mean, $µ$.\n",
    "\n",
    "$ \\mu = \\frac{1}{N} \\sum_{i=1}^{N} X_i $\n",
    "\n",
    "While it would be impractical to obtain serum cholesterol measurements for the entire US male population, what if we were only interested in cholesterol values of males living in a small town like Alpine, TX, which is located near the foothills of Davis Mountains? Alpine has a population of only ~2300 males, so it is conceivable that we could obtain a cholesterol measurement for every male resident of Alpine. So, let's imagine that we did this and our measurements--all 2295 serum cholesterol values--are in stored in the Numpy array `scDF_expDist_ar`. \n",
    "\n",
    "This Numpy array is no longer an Experimental Distribution, but instead, it is now a **Population Distribution** since it contains the cholesterol value for _every_ member in the entire population being investigated! In Example 3 we measured the mean of this experimental distribution to be `215.11 mg/dl`. If `scDF_expDist_ar` is now a population distribution, the value `215.11 mg/dl` would be the population mean, $µ$. There is no uncertainity associated with this value. There is no standard deviation or variance. The value `215.11 mg/dl` is not an estimate, but the **_true_** mean for our population of male residents of Alpine, Texas. \n",
    "\n",
    "_Code Description:_\n",
    "\n",
    "The following code chunk uses the numpy method `np.copy()` to create a new **_Population Distribution_** array called `chol_popDist_ar`.\n",
    "\n",
    "~~~text\n",
    "# Make Population Distribution\n",
    "chol_popDist_ar = np.copy(chol_expDist_ar)\n",
    "~~~\n",
    "\n",
    "The next code chunk uses a Python technique called `list comprehension` to draw 4 sets of sample values from the population distribution. Each sample contains 25 values. \n",
    "\n",
    "~~~text\n",
    "# Use enumeration to generate sample data sets\n",
    "data_sets = [np.random.choice(chol_popDist_ar, size=sample_size, replace=True) for _ in range(num_dat_sets)]\n",
    "~~~\n",
    "\n",
    "Here is an explanation of what this code chunk does:\n",
    "\n",
    "1. np.random.choice:\n",
    "- This function is used to generate a random sample from a given 1-D array.\n",
    "- Parameters:\n",
    "- - chol_popDist_ar: The array from which samples are drawn.\n",
    "- - size=sample_size: The number of samples to draw.\n",
    "- - replace=True: Allows sampling with replacement, meaning the same element can be chosen more than once.\n",
    "\n",
    "2. List Comprehension:\n",
    "- The code uses a list comprehension to create a list of random samples.\n",
    "-- for _ in range(num_dat_sets): This part of the code runs the sampling process num_dat_sets times. The underscore _ is used as a variable name when the variable’s value is not needed.\n",
    "\n",
    "**What the Code Does:**\n",
    "\n",
    "* **chol_popDist_ar:** This is your population distribution array from which you want to draw samples.\n",
    "* **sample_size:** This is the number of samples you want to draw in each iteration.\n",
    "* **num_dat_sets:** This is the number of different datasets you want to generate.\n",
    "\n",
    "The code generates `num_dat_sets` datasets, each containing `sample_size` samples drawn from `chol_popDist_ar` with replacement. The result is a list of arrays, where each array is one set of samples.\n",
    "\n",
    "The number of sample to be drawn is determined by the variable `sample_size`. In this example, the `sample_size` was set to `25`. The number of data sets to be generated was determined by the variable `num_dat_sets` which was set to `4`.\n",
    "\n",
    "Finally, the code uses a simple `for loop` to print out the sample mean and standard deviation of the sample values in each of the four data sets."
   ]
  },
  {
   "cell_type": "code",
   "execution_count": null,
   "metadata": {
    "scrolled": true
   },
   "outputs": [],
   "source": [
    "# Example 4A: Select a random sample\n",
    "\n",
    "import numpy as np\n",
    "import matplotlib.pyplot as plt\n",
    "\n",
    "# Make Population Distribution\n",
    "chol_popDist_ar = np.copy(chol_expDist_ar)\n",
    "\n",
    "# Compute true mean of Population\n",
    "chol_Population_mean = np.mean(chol_popDist_ar)\n",
    "\n",
    "# Define variables\n",
    "sample_size = 25\n",
    "num_dat_sets = 4\n",
    "\n",
    "# Set the seed\n",
    "np.random.seed(42)\n",
    "\n",
    "# Use list comprehension to generate sample data sets\n",
    "data_sets = [np.random.choice(chol_popDist_ar, size=sample_size, replace=True) for _ in range(num_dat_sets)]\n",
    "\n",
    "# Initialize lists\n",
    "dat_mean=[]\n",
    "dat_std=[] \n",
    "\n",
    "# Print the header\n",
    "print(\"_______________________________________________________________\")\n",
    "print(f\"    Sample of Size {sample_size}     x̄              s   \")\n",
    "print(\"_______________________________________________________________\")\n",
    "\n",
    "# Loop through the data and print mean and std\n",
    "for i, data in enumerate(data_sets):\n",
    "     dat_mean = np.mean(data, axis=0)\n",
    "     dat_std = np.std(data, axis=0)\n",
    "     print(f\"           {i+1}            {dat_mean:.2f}          {dat_std:.2f}\")\n",
    "\n",
    "print(f\"The true population mean for this distribution = {chol_Population_mean:.2f}.\") \n"
   ]
  },
  {
   "cell_type": "markdown",
   "metadata": {},
   "source": [
    "If the code is correct, you should see the following output:\n",
    "\n",
    "~~~text\n",
    "_______________________________________________________________\n",
    "    Sample of Size 25     x̄              s   \n",
    "_______________________________________________________________\n",
    "           1            211.50          39.19\n",
    "           2            225.90          47.57\n",
    "           3            206.70          46.26\n",
    "           4            229.10          48.37\n",
    "The true population mean for this distribution = 215.11.\n",
    "~~~"
   ]
  },
  {
   "cell_type": "markdown",
   "metadata": {},
   "source": [
    "### Example 4B: Compute Average of Sample Means\n",
    "\n",
    "As you can see from the output above, the 4 sample means, $\\bar{x_i}$, computed from a sample of 25 values are: $211.50$, $225.90$, $206.70$ and $229.10$. Since this is _population_ distribution, we were able to compute the true mean, $\\bar{X}$ which is $215.11$. By inspection, we can see that the mean value computed from 25 samples drawn randomly from the population distribution (with replacment), are \"roughly\" the same value as the true mean--some are higher, and some are lower. \n",
    "\n",
    "Let's see what happens when we compute the average (mean) of the 4 sample means?"
   ]
  },
  {
   "cell_type": "code",
   "execution_count": null,
   "metadata": {},
   "outputs": [],
   "source": [
    "# Compute average of the sample means\n",
    "\n",
    "# Define array\n",
    "avg_ar = np.array([211.50, 225.90, 206.70, 229.10])\n",
    "\n",
    "# Compute mean\n",
    "sample_mean_avg = np.mean(avg_ar)\n",
    "\n",
    "# Print result\n",
    "print(f\"The average of the 4 sample means = {sample_mean_avg:.2f}.\") \n",
    "print(f\"The true population mean for this distribution = {chol_Population_mean:.2f}.\") \n"
   ]
  },
  {
   "cell_type": "markdown",
   "metadata": {},
   "source": [
    "If the code is correct you should see the following:\n",
    "\n",
    "~~~text\n",
    "The average of the 4 sample means = 218.30.\n",
    "The true population mean for this distribution = 215.11.\n",
    "~~~"
   ]
  },
  {
   "cell_type": "markdown",
   "metadata": {},
   "source": [
    "The average of the four sample means, $218.30$, is closer to, but definitely not the same as, the true population mean $215.11$."
   ]
  },
  {
   "cell_type": "markdown",
   "metadata": {},
   "source": [
    "### **Exercise 4A: Sample from a Population Distribution**\n",
    "\n",
    "In the cell below, write the Python code to create a population distribution called `age_popDist_ar` from a copy of your `age_expDist_ar` using the `np.copy()` function. Compute the true mean value of your population distribution and call this value, Then generate 4 data sets, each containing 25 samples, from your population distribution. Using a `for loop`, print out the mean and standard deviation of each dataset. \n",
    "\n",
    "_Code Modifications:_\n",
    "\n",
    "You can use the code in Example 4A with the following exceptions:\n",
    "\n",
    "1. Change the make population to read:\n",
    "~~~type\n",
    "# Make Population Distribution\n",
    "age_popDist_ar = np.copy(age_expDist_ar)\n",
    "~~~\n",
    "\n",
    "2. You will need to use `age_popDist_ar` instead of `chol_popDist_ar` when applicable."
   ]
  },
  {
   "cell_type": "code",
   "execution_count": null,
   "metadata": {
    "scrolled": true
   },
   "outputs": [],
   "source": [
    "# Insert your code for Exercise 4A here\n",
    "\n"
   ]
  },
  {
   "cell_type": "markdown",
   "metadata": {},
   "source": [
    "If the code is correct, you should see the following output:\n",
    "\n",
    "~~~text\n",
    "_______________________________________________________________\n",
    "    Sample of Size 25     x̄              s   \n",
    "_______________________________________________________________\n",
    "           1            76.32          21.54\n",
    "           2            79.36          16.45\n",
    "           3            84.28          10.20\n",
    "           4            78.92          17.18\n",
    "The true population mean for this distribution = 79.22.\n",
    "~~~"
   ]
  },
  {
   "cell_type": "markdown",
   "metadata": {},
   "source": [
    "### **Exercise 4B: Compute Average of Sample Means**\n",
    "\n",
    "In the cell below, compute the true population mean for your population distribution, `age_popDist_ar`. Then compute the average of the four sample means generated in **Exercise 4A**. Print out this sample mean average as well as the true population mean."
   ]
  },
  {
   "cell_type": "code",
   "execution_count": null,
   "metadata": {},
   "outputs": [],
   "source": [
    "# Insert your code for Exercise 4B here\n",
    " \n"
   ]
  },
  {
   "cell_type": "markdown",
   "metadata": {},
   "source": [
    "If your code is correct you should see the following:\n",
    "\n",
    "~~~text\n",
    "The average of the 4 sample means = 79.72.\n",
    "The true population mean for this distribution = 79.22.\n",
    "~~~"
   ]
  },
  {
   "cell_type": "markdown",
   "metadata": {},
   "source": [
    "The average of the four sample means, $79.72$, is close to, but not the same as, the true population mean $79.22$."
   ]
  },
  {
   "cell_type": "markdown",
   "metadata": {},
   "source": [
    "## **Central Limit Theorem**\n",
    "\n",
    "The **_Central Limit Theorem (CLT)_** is a fundamental principle in statistics that states that the distribution of the sample mean (or sum) of a large number of independent, identically distributed random variables, (i.i.d.) approaches a normal distribution, regardless of the original distribution of the population, provided the sample size is sufficiently large.\n",
    "Mathematically, if $X_1$, $X_2$, $\\ldots$, $X_n$) are independent and identically distributed random variables with mean ($\\mu$) and variance ($\\sigma^2$), then the sample mean ($\\bar{X}$) is approximately normally distributed:\n",
    "\n",
    "$   \\bar{X} \\sim N\\left(\\mu, \\frac{\\sigma}{\\sqrt{n}}\\right) $\n",
    "\n",
    "Where:\n",
    "\n",
    "- $\\bar{X}$ is the sample mean.\n",
    "- $\\mu$ is the population mean.\n",
    "- $\\sigma$ is the population standard deviation.\n",
    "- $n$ is the sample size.\n",
    "- $N$ denotes a normal distribution.\n",
    "\n",
    "#### **Importance in Biostatistics**\n",
    "\n",
    "1. **Inference and Hypothesis Testing:** The CLT allows biostatisticians to make inferences about population parameters using sample data. It underpins many statistical tests, such as t-tests and ANOVA, which assume that the sampling distribution of the test statistic is approximately normal.\n",
    "2. **Confidence Intervals:** The CLT is crucial for constructing confidence intervals for population parameters. It ensures that the interval estimates are valid even when the population distribution is not normal, as long as the sample size is large enough.\n",
    "3. **Simplification:** In biostatistics, data often come from various distributions. The CLT simplifies analysis by allowing the use of normal distribution approximations, making it easier to apply standard statistical methods.\n",
    "4. **Large Sample Properties:** Many biostatistical methods rely on large sample properties. The CLT justifies the use of these methods by ensuring that the sample mean will be normally distributed, facilitating more accurate and reliable conclusions.\n",
    "\n",
    "The central limit theorem is very powerful. It holds true almost measurements in biology, ecology and medicine. It even applies to discrete random variables. The central limit theorem allows us to quantify the uncertainty inherent in statistical inference without having to make a great many assumptions that cannot be verified. Regardless of the probability  distribution of $X$, because the distribution of the sample means is approximately normal with mean $µ$ and standard deviation $σ/√n$, we know that\n",
    " \n",
    "\n",
    "$$ Z = \\frac{\\bar{X} - \\mu}{\\sigma / \\sqrt{n}} $$\n",
    "\n",
    "is normally distributed with mean $0$ and standard deviation $1$, as long as $n$ is large enough."
   ]
  },
  {
   "cell_type": "markdown",
   "metadata": {},
   "source": [
    "## **Applications of the Central Limit Theorem**\n",
    "\n",
    "![___](https://biologicslab.co/BIO5853/images/module_02/lesson_02_3_image13.png)\n",
    "\n",
    "Consider the distribution of serum cholesterol levels for all 20- to 74-year-old males living in the United States. The mean of this population is $µ$ = 211 mg/100 ml, and the standard deviation is $σ$ = 46 mg/100 ml. If we select repeated samples of size 25 from the population, what proportion of the samples will have a mean value of 230 mg/100 ml or above?  Assuming that a sample of size 25 is large enough, the central limit theorem states that the distribution of means of samples of size 25 is approximately normal with mean $µ$ = 211 mg/100 ml and standard error $σ/√ n = 46/ √ 25$ = 9.2 mg/100 ml. This sampling distribution, and the underlying population from which the samples were drawn, are illustrated in **Figure 8.1** above. \n",
    "\n",
    "Note that:  \n",
    "  \n",
    "\n",
    "$                                               Z = \\frac{\\bar{x} - \\mu}{\\sigma / \\sqrt{n}} $ \n",
    "\n",
    "\n",
    "$                                               =  \\frac{\\bar{X} − 211}{9.2} $  \n",
    "\n",
    "is a standard normal random variable. If $\\bar{x}$ = 230, then  \n",
    "\n",
    "$                                               z =  \\frac{230 − 211}{9.2} = 2.07. $  \n",
    "\n",
    "This tells us that a cholesterol level of 230 lies 2.07 standard errors above the population mean.  Referring to Table A.3, the area to the right of $z$ = 2.07 is 0.019. Only about 1.9% of the samples  will have a mean greater than 230 mg/100 ml. Equivalently, if we select a single sample of size 25  from the population of 20- to 74-year-old males, the probability that the mean serum cholesterol  level for this sample is 230 mg/100 ml or higher is 0.019.  What mean value of serum cholesterol level cuts offthe lower\n",
    "\n",
    "(Pagano, Marcello; Gauvreau, Kimberlee; Mattie, Heather. Principles of Biostatistics (p. 193). CRC Press. Kindle Edition.) "
   ]
  },
  {
   "cell_type": "markdown",
   "metadata": {},
   "source": [
    "### Example 5: Distribution of Age at Time of Death\n",
    "\n",
    "The code in the cell below uses Python to recreate **Figure 8.2** in your textbook on page 198.\n",
    "\n",
    "_Code Description:_\n",
    "\n",
    "The code in the cell below is uses the `Matplotlib.pyplot` function `plt.plot()` to generate a line plot using the following code chunk:\n",
    "\n",
    "~~~text\n",
    "# Plot line graph\n",
    "plt.plot(x,y,c='k')\n",
    "~~~\n",
    "\n",
    "The argument `c='k'` assigns the color (`c`) of the line to black (`k`).\n",
    "\n",
    "To ensure that the y-axis is not visible, the following line of code has been added:\n",
    "\n",
    "~~~text\n",
    "# Ensure y-axis is not visible\n",
    "plt.gca().yaxis.set_visible(False)\n",
    "~~~"
   ]
  },
  {
   "cell_type": "code",
   "execution_count": null,
   "metadata": {
    "scrolled": true
   },
   "outputs": [],
   "source": [
    "# Example 5: Create line graph (Figure 2.10)\n",
    "\n",
    "import matplotlib.pyplot as plt\n",
    "\n",
    "# Assign x and y\n",
    "x=ageDF.age\n",
    "y=ageDF.deaths\n",
    "\n",
    "# Create plotting environment\n",
    "fig, ax = plt.subplots()\n",
    "\n",
    "# Plot line graph\n",
    "plt.plot(x,y,c='k')\n",
    "\n",
    "# Ensure y-axis is not visible\n",
    "plt.gca().yaxis.set_visible(False)\n",
    "\n",
    "# Plot text\n",
    "plt.text(-15.0, 3500.30, 'f(x)', fontsize=14, style='italic')   # mu at bottom\n",
    "\n",
    "# Set properties\n",
    "ax.set_xlabel('Age x (years)')\n",
    "ax.set_title(\"Age at Time of Death (FIGURE 8.2)\")\n",
    "\n",
    "# Show plot\n",
    "plt.show()"
   ]
  },
  {
   "cell_type": "markdown",
   "metadata": {},
   "source": [
    "If the code is correct you should see the following output:\n",
    "\n",
    "![___](https://biologicslab.co/BIO5853/images/module_02/lesson_02_3_image03.png)\n"
   ]
  },
  {
   "cell_type": "markdown",
   "metadata": {},
   "source": [
    "The figure legend stated in your textbook is:\n",
    "\n",
    "> **FIGURE 8.2** Distribution of age at the time of death, United States, 2015 \n",
    "\n"
   ]
  },
  {
   "cell_type": "markdown",
   "metadata": {},
   "source": [
    "### Example 6: Means and Standard Deviations of 4 Samples\n",
    "\n",
    "The code in the cell below creates four data sets each containing 25 random samples drawn from the population distribution `chol_popDist_ar` for the serum cholesterol data. The code is essentially a copy of the code in Example 4A above."
   ]
  },
  {
   "cell_type": "code",
   "execution_count": null,
   "metadata": {
    "scrolled": true
   },
   "outputs": [],
   "source": [
    "# Example 6: Means and Standard Deviations of Four Samples\n",
    "\n",
    "import numpy as np\n",
    "import matplotlib.pyplot as plt\n",
    "\n",
    "\n",
    "# Compute true mean of Population\n",
    "chol_Population_mean = np.mean(chol_popDist_ar)\n",
    "\n",
    "# Define variables\n",
    "sample_size = 25\n",
    "num_dat_sets = 4\n",
    "\n",
    "# Set the seed\n",
    "np.random.seed(42)\n",
    "\n",
    "# Use list comprehension to generate sample data sets\n",
    "data_sets = [np.random.choice(chol_popDist_ar, size=sample_size, replace=True) for _ in range(num_dat_sets)]\n",
    "\n",
    "# Initialize lists\n",
    "dat_mean=[]\n",
    "dat_std=[] \n",
    "\n",
    "# Print the header\n",
    "print(\"_______________________________________________________________\")\n",
    "print(f\"    Sample of Size {sample_size}     x̄              s   \")\n",
    "print(\"_______________________________________________________________\")\n",
    "\n",
    "# Loop through the data and print mean and std\n",
    "for i, data in enumerate(data_sets):\n",
    "     dat_mean = np.mean(data, axis=0)\n",
    "     dat_std = np.std(data, axis=0)\n",
    "     print(f\"           {i+1}            {dat_mean:.2f}          {dat_std:.2f}\")\n",
    "\n",
    "print(f\"The true population mean for this distribution = {chol_Population_mean:.2f}.\") \n"
   ]
  },
  {
   "cell_type": "markdown",
   "metadata": {},
   "source": [
    "If the code is correct, you should see the following output:\n",
    "\n",
    "~~~text\n",
    "_______________________________________________________________\n",
    "    Sample of Size 25     x̄              s   \n",
    "_______________________________________________________________\n",
    "           1            211.50          39.19\n",
    "           2            225.90          47.57\n",
    "           3            206.70          46.26\n",
    "           4            229.10          48.37\n",
    "The true population mean for this distribution = 215.11.\n",
    "~~~"
   ]
  },
  {
   "cell_type": "markdown",
   "metadata": {},
   "source": [
    "### **Exercise 6: Means and Standard Deviations of 4 Samples**\n",
    "\n",
    "In the cell below, write the Python code to create four data sets each containing 25 random samples drawn from the population distribution `age_popDist_ar` for the age at time of death dataset. The code should be essentially a copy of your code from **Exercise 4A** above. "
   ]
  },
  {
   "cell_type": "code",
   "execution_count": null,
   "metadata": {
    "scrolled": true
   },
   "outputs": [],
   "source": [
    "# Insert your code for Exercise 6 here\n",
    "\n"
   ]
  },
  {
   "cell_type": "markdown",
   "metadata": {},
   "source": [
    "If your code is correct, you should see the following output:\n",
    "\n",
    "~~~text\n",
    "_______________________________________________________________\n",
    "    Sample of Size 25     x̄              s   \n",
    "_______________________________________________________________\n",
    "           1            76.32          21.54\n",
    "           2            79.36          16.45\n",
    "           3            84.28          10.20\n",
    "           4            78.92          17.18\n",
    "The true population mean for this distribution = 79.22.\n",
    "~~~"
   ]
  },
  {
   "cell_type": "markdown",
   "metadata": {},
   "source": [
    "You should notice that the output above is essentially the same at the table shown on page 199 in your textbook.\n",
    "\n",
    "![___](https://biologicslab.co/BIO5853/images/module_02/lesson_02_3_image14.png)\n",
    "\n",
    "The specific values for the sample means and standard deviations are different because a random selection process was used to draw the 25 values from the population distribution."
   ]
  },
  {
   "cell_type": "markdown",
   "metadata": {},
   "source": [
    "### Example 7: Histograms of 4 Samples\n",
    "\n",
    "The code in the cell below plots histograms for four samples of size 25 from the serum cholesterol population distribution. \n",
    "\n",
    "_Code Description:_\n",
    "\n",
    "1. Since we are plots four histograms in a 2 X 2 arrangement, it is necessary to reduce the font size to 8 instead of the usual 10 using this code chunk:\n",
    "~~~text\n",
    "# Set the default font size to 8\n",
    "plt.rcParams.update({'font.size': 8})  # You can adjust the size as needed\n",
    "~~~\n",
    "2. The random seed is set to 33. The form of these histograms will be significantly with different random seed values!"
   ]
  },
  {
   "cell_type": "code",
   "execution_count": null,
   "metadata": {},
   "outputs": [],
   "source": [
    "# Example 7: Histograms for 4 samples\n",
    "\n",
    "import numpy as np\n",
    "import matplotlib.pyplot as plt\n",
    "\n",
    "# Define variables\n",
    "sample_size = 25\n",
    "num_dat_sets = 4\n",
    "num_bins=9\n",
    "chart_color = '#294171'\n",
    "\n",
    "# Set the seed\n",
    "np.random.seed(33)\n",
    "\n",
    "# Create data sets\n",
    "data_sets = [np.random.choice(chol_popDist_ar, size=sample_size, replace=True) for _ in range(num_dat_sets)]\n",
    "\n",
    "# Create a 2x2 grid of subplots\n",
    "fig, axes = plt.subplots(2, 2, figsize=(10, 8))\n",
    "\n",
    "# Set the default font size to 8\n",
    "plt.rcParams.update({'font.size': 8})  # You can adjust the size as needed\n",
    "\n",
    "# Flatten the axes array for easy iteration\n",
    "axes = axes.flatten()\n",
    "\n",
    "# Loop through the data sets and corresponding axes\n",
    "for i, data in enumerate(data_sets):\n",
    "    axes[i].hist(data, bins=num_bins, \n",
    "                 color=chart_color,\n",
    "                 edgecolor='white',\n",
    "                 linewidth=0.5,\n",
    "                 align='left',\n",
    "                 density='True')\n",
    "    axes[i].set_xlabel('Serum Cholesterol (mg/dl)')\n",
    "    axes[i].set_ylabel('Probability')\n",
    "\n",
    "# Show plot\n",
    "plt.show()"
   ]
  },
  {
   "cell_type": "markdown",
   "metadata": {},
   "source": [
    "If the code is correct you should see the following output:\n",
    "\n",
    "![___](https://biologicslab.co/BIO5853/images/module_02/lesson_02_3_image16.png)\n"
   ]
  },
  {
   "cell_type": "markdown",
   "metadata": {},
   "source": [
    "### **Exercise 7: Histograms of 4 Samples**\n",
    "\n",
    "The code in the cell below plots histograms for four samples of size 25 from the age at time of death population distribution (`age_popDist_ar`). \n",
    "\n",
    "_Code Modifications:_\n",
    "\n",
    "You can use the code in Example 7 with the following exceptions:\n",
    "\n",
    "1. You will need to use `age_popDist_ar` instead of `chol_popDist_ar` when applicable.\n",
    "2. Set `num_bins=25`\n",
    "3. Make sure the random seed = 33\n",
    "4. Set `axes[i].set_xlabel('Age (years)')`\n",
    "5. Set `axes[i].set_ylabel('Probability')`\n"
   ]
  },
  {
   "cell_type": "code",
   "execution_count": null,
   "metadata": {},
   "outputs": [],
   "source": [
    "# Insert your code for Exercise 7 here\n",
    "\n"
   ]
  },
  {
   "cell_type": "markdown",
   "metadata": {},
   "source": [
    "If your code is correct you should see the following output:\n",
    "\n",
    "![___](https://biologicslab.co/BIO5853/images/module_02/lesson_02_3_image04.png)\n"
   ]
  },
  {
   "cell_type": "markdown",
   "metadata": {},
   "source": [
    "Your figure show be similar to the four histograms shown in **FIGURE 8.3** in your textbook on page 199.\n",
    "\n",
    "![___](https://biologicslab.co/BIO5853/images/module_02/lesson_02_3_image15.png)\n",
    "\n",
    "It won't be the same due to the random selection of samples from the population distribution."
   ]
  },
  {
   "cell_type": "markdown",
   "metadata": {},
   "source": [
    "### Example 8: Means and Standard Deviations of 100 Samples\n",
    "\n",
    "The code in the cell below again creates four data sets but this time each data set contains 100 random samples drawn from the population distribution `chol_popDist_ar` for the serum cholesterol data. The code is essentially a copy of the code in Example 6 above with the value of `sample_size` set to 100."
   ]
  },
  {
   "cell_type": "code",
   "execution_count": null,
   "metadata": {
    "scrolled": true
   },
   "outputs": [],
   "source": [
    "# Example 8: Means and Standard Deviations of Four Samples\n",
    "\n",
    "import numpy as np\n",
    "import matplotlib.pyplot as plt\n",
    "\n",
    "\n",
    "# Compute true mean of Population\n",
    "chol_Population_mean = np.mean(chol_popDist_ar)\n",
    "\n",
    "# Define variables\n",
    "sample_size = 100\n",
    "num_dat_sets = 4\n",
    "\n",
    "# Set the seed\n",
    "np.random.seed(42)\n",
    "\n",
    "# Use list comprehension to generate sample data sets\n",
    "data_sets = [np.random.choice(chol_popDist_ar, size=sample_size, replace=True) for _ in range(num_dat_sets)]\n",
    "\n",
    "# Initialize lists\n",
    "dat_mean=[]\n",
    "dat_std=[] \n",
    "\n",
    "# Print the header\n",
    "print(\"_______________________________________________________________\")\n",
    "print(f\"    Sample of Size {sample_size}     x̄              s   \")\n",
    "print(\"_______________________________________________________________\")\n",
    "\n",
    "# Loop through the data and print mean and std\n",
    "for i, data in enumerate(data_sets):\n",
    "     dat_mean = np.mean(data, axis=0)\n",
    "     dat_std = np.std(data, axis=0)\n",
    "     print(f\"           {i+1}            {dat_mean:.2f}          {dat_std:.2f}\")\n",
    "\n",
    "print(f\"The true population mean for this distribution = {chol_Population_mean:.2f}.\") \n"
   ]
  },
  {
   "cell_type": "markdown",
   "metadata": {},
   "source": [
    "If the code is correct, you should see the following output:\n",
    "\n",
    "~~~text\n",
    "_______________________________________________________________\n",
    "    Sample of Size 100     x̄              s   \n",
    "_______________________________________________________________\n",
    "           1            218.30          46.46\n",
    "           2            219.90          47.83\n",
    "           3            216.70          46.39\n",
    "           4            213.10          45.86\n",
    "The true population mean for this distribution = 215.11.\n",
    "~~~"
   ]
  },
  {
   "cell_type": "markdown",
   "metadata": {},
   "source": [
    "### **Exercise 8: Means and Standard Deviations of 100 Samples**\n",
    "\n",
    "In the cell below, write the Python code to create four data sets each containing 100 random samples drawn from the population distribution `age_popDist_ar` for the age at time of death dataset. The code should be essentially a copy of your code from **Exercise 6** above with the variable `sample_size` set to 100. \n",
    "\n",
    "Make sure to set the random seed value to 42."
   ]
  },
  {
   "cell_type": "code",
   "execution_count": null,
   "metadata": {},
   "outputs": [],
   "source": [
    "# Insert your code for Exercise 8 here\n",
    "\n",
    "\n"
   ]
  },
  {
   "cell_type": "markdown",
   "metadata": {},
   "source": [
    "If your code is correct, you should see the following output:\n",
    "\n",
    "~~~text\n",
    "_______________________________________________________________\n",
    "    Sample of Size 100     x̄              s   \n",
    "_______________________________________________________________\n",
    "           1            79.72          17.08\n",
    "           2            78.87          17.40\n",
    "           3            78.65          16.76\n",
    "           4            77.56          17.46\n",
    "The true population mean for this distribution = 79.22.\n",
    "~~~"
   ]
  },
  {
   "cell_type": "markdown",
   "metadata": {},
   "source": [
    "You should notice that the output above is essentially the same at the table shown on page 199 in your textbook.\n",
    "\n",
    "![___](https://biologicslab.co/BIO5853/images/module_02/lesson_02_3_image14.png)\n",
    "\n",
    "The specific values for the sample means and standard deviations are different because a random selection process was used to draw the 25 values from the population distribution."
   ]
  },
  {
   "cell_type": "markdown",
   "metadata": {},
   "source": [
    "### Example 9: Histograms of 100 Samples\n",
    "\n",
    "The code in the cell below plots histograms for four samples of size 100 from the serum cholesterol population distribution. \n"
   ]
  },
  {
   "cell_type": "code",
   "execution_count": null,
   "metadata": {},
   "outputs": [],
   "source": [
    "# Example 7: Histograms for 4 samples\n",
    "\n",
    "import numpy as np\n",
    "import matplotlib.pyplot as plt\n",
    "\n",
    "# Define variables\n",
    "sample_size = 100\n",
    "num_dat_sets = 4\n",
    "num_bins=9\n",
    "chart_color = '#294171'\n",
    "\n",
    "# Set the seed\n",
    "np.random.seed(33)\n",
    "\n",
    "# Create data sets\n",
    "data_sets = [np.random.choice(chol_popDist_ar, size=sample_size, replace=True) for _ in range(num_dat_sets)]\n",
    "\n",
    "# Create a 2x2 grid of subplots\n",
    "fig, axes = plt.subplots(2, 2, figsize=(10, 8))\n",
    "\n",
    "# Set the default font size\n",
    "plt.rcParams.update({'font.size': 8})  # You can adjust the size as needed\n",
    "\n",
    "# Flatten the axes array for easy iteration\n",
    "axes = axes.flatten()\n",
    "\n",
    "# Loop through the data sets and corresponding axes\n",
    "for i, data in enumerate(data_sets):\n",
    "    axes[i].hist(data, bins=num_bins, \n",
    "                 color=chart_color,\n",
    "                 edgecolor='white',\n",
    "                 linewidth=0.5,\n",
    "                 align='left',\n",
    "                 density='True')\n",
    "    axes[i].set_xlabel('Serum Cholesterol (mg/dl)')\n",
    "    axes[i].set_ylabel('Probability')\n",
    "    \n",
    "# Show plot\n",
    "plt.show()"
   ]
  },
  {
   "cell_type": "markdown",
   "metadata": {},
   "source": [
    "If the code is correct you should see the following output:\n",
    "\n",
    "![___](https://biologicslab.co/BIO5853/images/module_02/lesson_02_3_image16.png)\n"
   ]
  },
  {
   "cell_type": "markdown",
   "metadata": {},
   "source": [
    "### **Exercise 9: Histograms of 100 Samples**\n",
    "\n",
    "The code in the cell below plots histograms for four samples of size 100 from the age at time of death population distribution (`age_popDist_ar`). \n",
    "\n",
    "_Code Modifications:_\n",
    "\n",
    "You can use the code in Example 9 with the following exceptions:\n",
    "\n",
    "1. You will need to use `age_popDist_ar` instead of `chol_popDist_ar` when applicable.\n",
    "2. Set `num_bins=25`\n",
    "3. Make sure the random seed = 33\n",
    "4. Set `axes[i].set_xlabel('Age (years)')`\n",
    "5. Set `axes[i].set_ylabel('Probability')`\n"
   ]
  },
  {
   "cell_type": "code",
   "execution_count": null,
   "metadata": {},
   "outputs": [],
   "source": [
    "# Insert your code for Exercise 7 here\n",
    "\n"
   ]
  },
  {
   "cell_type": "markdown",
   "metadata": {},
   "source": [
    "If your code is correct you should see the following output:\n",
    "\n",
    "![___](https://biologicslab.co/BIO5853/images/module_02/lesson_02_3_image17.png)\n"
   ]
  },
  {
   "cell_type": "markdown",
   "metadata": {},
   "source": [
    "Your figure show be similar to the four histograms shown in **FIGURE 8.4** in your textbook on page 200.\n",
    "\n",
    "![___](https://biologicslab.co/BIO5853/images/module_02/lesson_02_3_image18.png)\n",
    "\n",
    "It won't be the same due to the random selection of samples from the population distribution."
   ]
  },
  {
   "cell_type": "markdown",
   "metadata": {},
   "source": [
    "### **Exercise 10: Histograms of 500 Samples**\n",
    "\n",
    "The code in the cell below plots histograms for four samples of size 500 from the age at time of death population distribution (`age_popDist_ar`). \n",
    "\n",
    "**NOTE:** Make sure the value for the random seed has been set to 33. Changing the random seed value can have a very impact on the form of the histograms!"
   ]
  },
  {
   "cell_type": "code",
   "execution_count": null,
   "metadata": {},
   "outputs": [],
   "source": [
    "# Insert your code for Exercise 10 here\n",
    "\n"
   ]
  },
  {
   "cell_type": "markdown",
   "metadata": {},
   "source": [
    "If your code is correct you should see the following output:\n",
    "\n",
    "![___](https://biologicslab.co/BIO5853/images/module_02/lesson_02_3_image19.png)\n"
   ]
  },
  {
   "cell_type": "markdown",
   "metadata": {},
   "source": [
    "Your figure show be similar to the four histograms shown in **FIGURE 8.5** in your textbook on page 201.\n",
    "\n",
    "![___](https://biologicslab.co/BIO5853/images/module_02/lesson_02_3_image20.png)\n",
    "\n",
    "It won't be the same due to the random selection of samples from the population distribution."
   ]
  },
  {
   "cell_type": "markdown",
   "metadata": {},
   "source": [
    "Looking at **Figures 8.3** through **8.5**, we see that as the size of the samples increases, their distributions approach the shape of the population distribution pictured in **Figure 8.2**. Although there are still differences among the samples, the amount of variability in the estimates $\\bar{x}$ and $s$  decreases. This property is known as **_consistency_**. As the samples that we select become larger and larger, the estimates of the population parameters approach their target values.  \n",
    "\n",
    "(Pagano, Marcello; Gauvreau, Kimberlee; Mattie, Heather. Principles of Biostatistics (p. 201). CRC Press. Kindle Edition.) "
   ]
  },
  {
   "cell_type": "markdown",
   "metadata": {},
   "source": [
    "## **Histogram of Sample Means**\n",
    "\n",
    "The population of ages at the time of death can also be used to demonstrate an application of the central limit theorem. To do this, we must select repeated samples of size $n$ from the population with mean $µ = 79.2$ years and standard deviation $σ = 16.4$ years and examine the distribution of the means of these samples. Theoretically, we must enumerate all possible random samples; for now, however, we select 100 samples of size 25. A histogram of the 100 sample means is displayed in **Figure 8.6** shown below. \n",
    "\n",
    "![___](https://biologicslab.co/BIO5853/images/module_02/lesson_02_3_image21.png)"
   ]
  },
  {
   "cell_type": "markdown",
   "metadata": {},
   "source": [
    "The figure legend in your textbook on page 202 reads as follows:\n",
    "\n",
    "> **FIGURE 8.6**  Histogram of 100 sample means from samples of size 25 \n"
   ]
  },
  {
   "cell_type": "markdown",
   "metadata": {},
   "source": [
    "### Example 11: Histogram of 100 Sample Means\n",
    "\n",
    "The Python code in the cell below recreates **Figure 8.6**. "
   ]
  },
  {
   "cell_type": "code",
   "execution_count": null,
   "metadata": {},
   "outputs": [],
   "source": [
    "# Example 11: Histogram of sample means\n",
    "\n",
    "import numpy as np\n",
    "import matplotlib.pyplot as plt\n",
    "from scipy.stats import norm\n",
    "\n",
    "# Define variables\n",
    "sample_size = 25\n",
    "num_dat_sets = 100\n",
    "sample_means = ([])\n",
    "num_bins=9\n",
    "chart_color = '#294171'\n",
    "\n",
    "# Set the seed\n",
    "np.random.seed(408)\n",
    "\n",
    "# Use enumeration to generate sample data sets\n",
    "data_sets = [np.random.choice(age_popDist_ar, size=sample_size, replace=True) for _ in range(num_dat_sets)]\n",
    "\n",
    "# Loop through the data and print mean and std\n",
    "for i, data in enumerate(data_sets):\n",
    "    result = np.mean(data, axis=0)\n",
    "    sample_means  = np.concatenate((sample_means, result), axis=None)\n",
    "\n",
    "# Calculate true population mean\n",
    "true_mean = np.mean(age_popDist_ar)\n",
    "\n",
    "# Calculate mean and std for sample means\n",
    "mu = np.mean(sample_means)\n",
    "sigma = np.std(sample_means)\n",
    "\n",
    "x_min = np.min(sample_means)\n",
    "x_max = np.max(sample_means)\n",
    "\n",
    "# Generate data for the x-axis\n",
    "Norm_x = np.linspace(x_min, x_max, 1000)\n",
    "Norm_y = norm.pdf(Norm_x, mu, sigma)\n",
    "\n",
    "# Create plotting environment\n",
    "fig, ax = plt.subplots()\n",
    "\n",
    "# Set the default font size\n",
    "plt.rcParams.update({'font.size': 10})  # You can adjust the size as needed\n",
    "\n",
    "# Plot normal distribution\n",
    "plt.plot(Norm_x, Norm_y, color='#b00000', linewidth=3)\n",
    "\n",
    "# Plot histogram\n",
    "ax.hist(sample_means, bins=num_bins,          \n",
    "         color=chart_color, \n",
    "         edgecolor='white', \n",
    "         align='left',\n",
    "         density=True)\n",
    "\n",
    "ax.set_xlabel('Age (years)')\n",
    "ax.set_ylabel('Probability')\n",
    "ax.set_title(\"Histogram of 100 Sample Means (FIGURE 8.6)\")\n",
    "\n",
    "# Show plot\n",
    "plt.show()\n",
    "\n",
    "# Print results\n",
    "print(f\"Population mean = {true_mean:.2f}\")\n",
    "print(f\"Sample mean = {mu:.2f} sd = {sigma:.2f}\")"
   ]
  },
  {
   "cell_type": "markdown",
   "metadata": {},
   "source": [
    "If the code is correct you should see the following output:\n",
    "\n",
    "![___](https://biologicslab.co/BIO5853/images/module_02/lesson_02_3_image22.png)\n"
   ]
  },
  {
   "cell_type": "markdown",
   "metadata": {},
   "source": [
    "The dark red line is a normal distribution."
   ]
  },
  {
   "cell_type": "markdown",
   "metadata": {},
   "source": [
    "_Here's what your textbook says...._\n",
    "\n",
    "The population of ages at the time of death can also be used to demonstrate an application of the central limit theorem. To do this, we must select repeated samples of size $n$ from the population with mean $µ = 79.2$ years and standard deviation $σ = 16.4 years$ and examine the distribution of the means of these samples. Theoretically, we must enumerate all possible random samples; for now, however, we select 100 samples of size 25. A histogram of the 100 sample means is displayed in **Figure 8.6**. According to the central limit theorem, the distribution of the sample means possesses three  properties. First, its mean should be equal to the population mean µ = 79.2 years. In fact, the mean of the 100 sample means is 79.8 years. Second, we expect the standard error of the sample means to  be σ/√ n = 16.4/ √ 25 = 3.3 years. The calculated standard error is 2.9 years. Finally, the distribution  of sample means should be approximately normal. The shape of Figure 8.6 – and the theoretical  normal distribution superimposed over the histogram – suggest that this third property holds true.  Note that this is a large departure from the population distribution illustrated in Figure 8.2, or from  any of the individual samples shown in Figures 8.3 through 8.5. If n were larger, we would expect  the distribution to look even more normal.  Based on the sampling distribution,\n",
    "\n",
    "Pagano, Marcello; Gauvreau, Kimberlee; Mattie, Heather. Principles of Biostatistics (p. 201). CRC Press. Kindle Edition. "
   ]
  },
  {
   "cell_type": "markdown",
   "metadata": {},
   "source": [
    "### **Exercise 11: Histograms of 10,000 Sample Means**\n",
    "\n",
    "According to your textbook and the central limit theorem (CLT), the more samples we take from a distribution, a histogram of their mean values should look more and more like a normal (\"bell shape\") distribution. In the cell below, set the sample size to 250 instead of 25, and the number of datasets to 10,000. \n",
    "\n",
    "You can use the code in Example 11 with the following exceptions:\n",
    "\n",
    "1. Set `sample_size = 250`\n",
    "2. Set `num_dat_sets = 10000`\n",
    "1. Set `num_bins=9`\n",
    "3. Make sure the random seed = 20\n",
    "4. Set `ax.set_title(\"Histogram of 100 Sample Means (FIGURE 8.6)\")`"
   ]
  },
  {
   "cell_type": "code",
   "execution_count": null,
   "metadata": {},
   "outputs": [],
   "source": [
    "# Insert your code for Exercise 11 here\n",
    "\n"
   ]
  },
  {
   "cell_type": "markdown",
   "metadata": {},
   "source": [
    "If your code is correct you should see the following output:\n",
    "\n",
    "![___](https://biologicslab.co/BIO5853/images/module_02/lesson_02_3_image23.png)\n"
   ]
  },
  {
   "cell_type": "markdown",
   "metadata": {},
   "source": [
    "### Example 12: Comparison of Population and Sample Mean Distributions\n",
    "\n",
    "The code in the cell below generates two histograms: (1) a histogram of the population distribution of the age at the time of death and (2) a histogram of the of the average (mean) value of 100 samples in 4 data sets.  "
   ]
  },
  {
   "cell_type": "code",
   "execution_count": null,
   "metadata": {},
   "outputs": [],
   "source": [
    "# Example 12: Comparison of population and sample mean distributions\n",
    "\n",
    "import numpy as np\n",
    "import matplotlib.pyplot as plt\n",
    "\n",
    "# Define variables\n",
    "sample_size = 100\n",
    "num_dat_sets = 4\n",
    "chart_color='#294171'\n",
    "num_bins=25\n",
    "\n",
    "# Set the seed\n",
    "np.random.seed(42)\n",
    "\n",
    "# Sample experimental distribution\n",
    "data_sets = [np.random.choice(age_popDist_ar, size=sample_size, replace=True) for _ in range(num_dat_sets)]\n",
    "\n",
    "plt.rcParams['font.size'] = 8\n",
    "\n",
    "# Create a 2x2 grid of subplots\n",
    "fig, axes = plt.subplots(1, 2, figsize=(8, 4))\n",
    "\n",
    "plt.rcParams['font.size'] = 8\n",
    "\n",
    "# Flatten the axes array for easy iteration\n",
    "axes = axes.flatten()\n",
    "\n",
    "# Plot left histogram\n",
    "axes[0].hist(age_popDist_ar, bins=num_bins,          \n",
    "         color=chart_color, \n",
    "         edgecolor='white', \n",
    "         align='left',\n",
    "         density=True)\n",
    "axes[0].set_xlabel('Age (years)')\n",
    "axes[0].set_ylabel('Probability')\n",
    "axes[0].set_title(\"Population Distribution\")\n",
    "\n",
    "# Plot right histogram\n",
    "axes[1].hist(sample_means, bins=25,          \n",
    "         color='#294171', \n",
    "         edgecolor='white', \n",
    "         align='left',\n",
    "         density=True)\n",
    "\n",
    "axes[1].set_xlabel('Age (years)')\n",
    "axes[1].set_title(\"Sample Means Distribution\")\n",
    "\n",
    "# Loop through the data and print mean and std\n",
    "for i, data in enumerate(data_sets):\n",
    "    result = np.mean(data, axis=0)\n",
    "    sample_means  = np.concatenate((sample_means, result), axis=None)\n",
    "\n",
    "# Calculate mean and std for sample means\n",
    "mu = np.mean(sample_means)\n",
    "sigma = np.std(sample_means)\n",
    "\n",
    "# Compute range of x\n",
    "x_min = np.min(sample_means)\n",
    "x_max = np.max(sample_means)\n",
    "\n",
    "# Generate data for the x-axis\n",
    "Norm_x = np.linspace(x_min, x_max, 1000)\n",
    "Norm_y = norm.pdf(Norm_x, mu, sigma)\n",
    "\n",
    "# Plot normal distribution\n",
    "axes[1].plot(Norm_x, Norm_y, color='#b00000', linewidth=3)\n",
    "\n",
    "# Show plot\n",
    "plt.show()"
   ]
  },
  {
   "cell_type": "markdown",
   "metadata": {},
   "source": [
    "If the code is correct you should see the following output:\n",
    "\n",
    "![___](https://biologicslab.co/BIO5853/images/module_02/lesson_02_3_image24.png)\n"
   ]
  },
  {
   "cell_type": "markdown",
   "metadata": {
    "jp-MarkdownHeadingCollapsed": true
   },
   "source": [
    "## **The Power of the Central Limit Theorem**\n",
    "\n",
    "The two histograms shown above provide visual evidence of the tremendous power that the **_Central Limit Theorem (CLT)_** gives to a biostatistician, like yourself!\n",
    "\n",
    "You should recognize the distribution of values in the age at time of death (_left histogram_) is markedly **_right skewed_**. That should make sense to you. While there is a small, but obvious increase in the probability of dying at the time of birth (0 years), the probability of dying remains low through your teens, twenties and thirties, and then starts to increase more rapidly in your fifties and sixties, reaching a peak around 80-85 years. After this peak, the probability of dying decreases simply because there are less and less people who are still alive. The important point is that the population is clearly **_not_** a \"bell-shaped\" curve.\n",
    "\n",
    "Now look at the _right histogram_ showing the distribution of **sample means** that were obtained from the population shown in the left histogram. It follows very closely the dark red line which is a plot of a normal distribution. In other words, while a population made not have a normal distribution, if you take many random samples from this population, a make a histogram of the average (mean) value of each random sample, you are **_guaranteed_** that this sample means with be normally distributed. \n",
    "\n",
    "The \"power\" inherent in that last statement will become apparent as we move through this course."
   ]
  },
  {
   "cell_type": "markdown",
   "metadata": {},
   "source": [
    "## **Lesson Turn-in**\n",
    "\n",
    "When you have run all of the code cells. print a PDF of your Colab notebook and upload it to Canvas for grading. "
   ]
  }
 ],
 "metadata": {
  "kernelspec": {
   "display_name": "Python 3 (ipykernel)",
   "language": "python",
   "name": "python3"
  },
  "language_info": {
   "codemirror_mode": {
    "name": "ipython",
    "version": 3
   },
   "file_extension": ".py",
   "mimetype": "text/x-python",
   "name": "python",
   "nbconvert_exporter": "python",
   "pygments_lexer": "ipython3",
   "version": "3.11.5"
  }
 },
 "nbformat": 4,
 "nbformat_minor": 4
}
