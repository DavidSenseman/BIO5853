{
 "cells": [
  {
   "cell_type": "markdown",
   "metadata": {
    "id": "bLEEW13uCtiJ"
   },
   "source": [
    "<a href=\"https://colab.research.google.com/github/DavidSenseman/BIO5853/blob/master/Lesson_01_5.ipynb\" target=\"_parent\"><img src=\"https://colab.research.google.com/assets/colab-badge.svg\" alt=\"Open In Colab\"/></a>"
   ]
  },
  {
   "cell_type": "markdown",
   "metadata": {},
   "source": [
    "---------------------------\n",
    "**COPYRIGHT NOTICE:** This Jupyterlab Notebook is a Derivative work of [Jeff Heaton](https://github.com/jeffheaton) licensed under the Apache License, Version 2.0 (the \"License\"); You may not use this file except in compliance with the License. You may obtain a copy of the License at\n",
    "\n",
    "> [http://www.apache.org/licenses/LICENSE-2.0](http://www.apache.org/licenses/LICENSE-2.0)\n",
    "\n",
    "Unless required by applicable law or agreed to in writing, software distributed under the License is distributed on an \"AS IS\" BASIS, WITHOUT WARRANTIES OR CONDITIONS OF ANY KIND, either express or implied. See the License for the specific language governing permissions and limitations under the License.\n",
    "\n",
    "------------------------"
   ]
  },
  {
   "cell_type": "markdown",
   "metadata": {},
   "source": [
    "# **BIO5853: Biostatistics**"
   ]
  },
  {
   "cell_type": "markdown",
   "metadata": {},
   "source": [
    "## **Lesson_01_5: Numerical Summary Measures**"
   ]
  },
  {
   "cell_type": "markdown",
   "metadata": {},
   "source": [
    "##### **Module I: Variability**\n",
    "\n",
    "* Instructor: [David Senseman](mailto:David.Senseman@utsa.edu), [Department of Integrative Biology](https://sciences.utsa.edu/integrative-biology/), [UTSA](https://www.utsa.edu/)\n",
    "\n",
    "### Module 1 Material\n",
    "* Part 1.1: Getting Started with Google COLAB\n",
    "* Part 1.2: Python Basics 1 -- Syntax, Operators, Expressions\n",
    "* Part 1.3: Python Basics 2 -- Functions, Variables, Strings\n",
    "* Part 1.4: Python Basics 3 -- Charts\n",
    "* **Part 1.5: Python Basics 4 -- Numerical Summary Measures**"
   ]
  },
  {
   "cell_type": "markdown",
   "metadata": {
    "jp-MarkdownHeadingCollapsed": true,
    "tags": []
   },
   "source": [
    "#### In this assignment you will learn about:\n",
    "\n",
    "* Mean\n",
    "* Median\n",
    "* Mode\n",
    "* Range\n",
    "* IQR\n",
    "* Variance"
   ]
  },
  {
   "cell_type": "markdown",
   "metadata": {
    "id": "yKQylnEiLDUM"
   },
   "source": [
    "### Google CoLab Instructions\n",
    "\n",
    "The following code will map your GDrive to ```/content/drive``` and print out your Google GMAIL address."
   ]
  },
  {
   "cell_type": "code",
   "execution_count": 1,
   "metadata": {
    "colab": {
     "base_uri": "https://localhost:8080/"
    },
    "id": "seXFCYH4LDUM",
    "outputId": "c05015aa-871e-4779-9265-5ad07e8bf617",
    "scrolled": true
   },
   "outputs": [
    {
     "name": "stdout",
     "output_type": "stream",
     "text": [
      "Note: not using Google CoLab\n"
     ]
    }
   ],
   "source": [
    "# You must run this cell second\n",
    "try:\n",
    "    from google.colab import drive\n",
    "    drive.mount('/content/drive', force_remount=True)\n",
    "    from google.colab import auth\n",
    "    auth.authenticate_user()\n",
    "    COLAB = True\n",
    "    print(\"Note: using Google CoLab\")\n",
    "    %tensorflow_version 2.x\n",
    "    import requests\n",
    "    gcloud_token = !gcloud auth print-access-token\n",
    "    gcloud_tokeninfo = requests.get('https://www.googleapis.com/oauth2/v3/tokeninfo?access_token=' + gcloud_token[0]).json()\n",
    "    print(gcloud_tokeninfo['email'])\n",
    "except:\n",
    "    print(\"Note: not using Google CoLab\")\n",
    "    COLAB = False"
   ]
  },
  {
   "cell_type": "markdown",
   "metadata": {},
   "source": [
    "## **Numerical Summary Measures**\n",
    "\n",
    "This lesson follows Chapter 2.4 in your textbook, starting on page 34."
   ]
  },
  {
   "cell_type": "markdown",
   "metadata": {
    "jp-MarkdownHeadingCollapsed": true
   },
   "source": [
    "### **Mean**\n",
    "\n",
    "The mean (also known as the average) summarizes an entire dataset with a single number representing its center point or typical value. To find the mean, simply add all the values and divide by the number of observations. The formula for the mean is:\n",
    "\n",
    "$$ \\overline{X} = \\frac{1}{n} \\sum_{n=1}^{n} X_i $$\n",
    "\n",
    "Here:\n",
    "\n",
    "$x_i$ represents each value in the dataset and $n$ is the total number of values."
   ]
  },
  {
   "cell_type": "markdown",
   "metadata": {},
   "source": [
    "## Example 1: Calculate mean \n",
    "\n",
    "Example 1 is divided into steps to make learning the Python code easier. \n",
    "\n",
    "In Example 1-Step A, we demonstrate how to use the **_Pandas_** package to read a datafile from an internet website and creating a datatype known as a **_DataFrame_**. We will use this code example throughout this course in nearly every lesson. "
   ]
  },
  {
   "cell_type": "markdown",
   "metadata": {},
   "source": [
    "---------------------------\n",
    "\n",
    "### File handling with _Pandas_\n",
    "\n",
    "**_Pandas_** is frequently used in Python programs to read unformated text file. File handling using Pandas typically involves reading in data from a file into a Pandas **_DataFrame_** using the `pd.read_csv(filename)` function. This function can be used to read in data from a variety of sources including CSV files, Excel files, HTML tables, and other formats. \n",
    "\n",
    "The function's name refers to a particularily common file type called a CSV (Comma Separated Values) file. In this file type, a comma **`,`** is used as the **_delimiter_** value, to **separate** one data value from another. \n",
    "\n",
    "--------------------------\n",
    " "
   ]
  },
  {
   "cell_type": "markdown",
   "metadata": {},
   "source": [
    "### Example 1-Step A: Read datafile\n",
    "\n",
    "The code in the cell below uses the Pandas function `pd.read_csv(filename)` to read the data file `pima.csv` stored on the course HTTPS server https://biologicslab.co. As the file is read, it is stored in a Pandas DataFrame called `pimaDF`. \n",
    "\n",
    "The code begins by \"importing\" the Pandas function and assigning it the alias `pd`. \n",
    "\n",
    "After the file is read and the DataFrame is created, we use the Python function `display()` to print out a portion of our new DataFrame to make sure it was read correctly. The code in the cell below shows how to use this method with the data stores in `pimaDF`. The `display()` function allows you to control the maximum rows and columns to print. This is useful since many datasets sets have large numbers of rows and columns which can be difficult to print to your computer screen. The code below sets the maximumn number of rows and columns to `6`. "
   ]
  },
  {
   "cell_type": "code",
   "execution_count": 2,
   "metadata": {
    "scrolled": true
   },
   "outputs": [
    {
     "data": {
      "text/html": [
       "<div>\n",
       "<style scoped>\n",
       "    .dataframe tbody tr th:only-of-type {\n",
       "        vertical-align: middle;\n",
       "    }\n",
       "\n",
       "    .dataframe tbody tr th {\n",
       "        vertical-align: top;\n",
       "    }\n",
       "\n",
       "    .dataframe thead th {\n",
       "        text-align: right;\n",
       "    }\n",
       "</style>\n",
       "<table border=\"1\" class=\"dataframe\">\n",
       "  <thead>\n",
       "    <tr style=\"text-align: right;\">\n",
       "      <th></th>\n",
       "      <th>Pregnancies</th>\n",
       "      <th>Glucose</th>\n",
       "      <th>BloodPressure</th>\n",
       "      <th>...</th>\n",
       "      <th>DiabetesPedigreeFunction</th>\n",
       "      <th>Age</th>\n",
       "      <th>Outcome</th>\n",
       "    </tr>\n",
       "  </thead>\n",
       "  <tbody>\n",
       "    <tr>\n",
       "      <th>0</th>\n",
       "      <td>6</td>\n",
       "      <td>148</td>\n",
       "      <td>72</td>\n",
       "      <td>...</td>\n",
       "      <td>0.627</td>\n",
       "      <td>50</td>\n",
       "      <td>1</td>\n",
       "    </tr>\n",
       "    <tr>\n",
       "      <th>1</th>\n",
       "      <td>1</td>\n",
       "      <td>85</td>\n",
       "      <td>66</td>\n",
       "      <td>...</td>\n",
       "      <td>0.351</td>\n",
       "      <td>31</td>\n",
       "      <td>0</td>\n",
       "    </tr>\n",
       "    <tr>\n",
       "      <th>2</th>\n",
       "      <td>8</td>\n",
       "      <td>183</td>\n",
       "      <td>64</td>\n",
       "      <td>...</td>\n",
       "      <td>0.672</td>\n",
       "      <td>32</td>\n",
       "      <td>1</td>\n",
       "    </tr>\n",
       "    <tr>\n",
       "      <th>...</th>\n",
       "      <td>...</td>\n",
       "      <td>...</td>\n",
       "      <td>...</td>\n",
       "      <td>...</td>\n",
       "      <td>...</td>\n",
       "      <td>...</td>\n",
       "      <td>...</td>\n",
       "    </tr>\n",
       "    <tr>\n",
       "      <th>765</th>\n",
       "      <td>5</td>\n",
       "      <td>121</td>\n",
       "      <td>72</td>\n",
       "      <td>...</td>\n",
       "      <td>0.245</td>\n",
       "      <td>30</td>\n",
       "      <td>0</td>\n",
       "    </tr>\n",
       "    <tr>\n",
       "      <th>766</th>\n",
       "      <td>1</td>\n",
       "      <td>126</td>\n",
       "      <td>60</td>\n",
       "      <td>...</td>\n",
       "      <td>0.349</td>\n",
       "      <td>47</td>\n",
       "      <td>1</td>\n",
       "    </tr>\n",
       "    <tr>\n",
       "      <th>767</th>\n",
       "      <td>1</td>\n",
       "      <td>93</td>\n",
       "      <td>70</td>\n",
       "      <td>...</td>\n",
       "      <td>0.315</td>\n",
       "      <td>23</td>\n",
       "      <td>0</td>\n",
       "    </tr>\n",
       "  </tbody>\n",
       "</table>\n",
       "<p>768 rows × 9 columns</p>\n",
       "</div>"
      ],
      "text/plain": [
       "     Pregnancies  Glucose  BloodPressure  ...  DiabetesPedigreeFunction  Age  \\\n",
       "0              6      148             72  ...                     0.627   50   \n",
       "1              1       85             66  ...                     0.351   31   \n",
       "2              8      183             64  ...                     0.672   32   \n",
       "..           ...      ...            ...  ...                       ...  ...   \n",
       "765            5      121             72  ...                     0.245   30   \n",
       "766            1      126             60  ...                     0.349   47   \n",
       "767            1       93             70  ...                     0.315   23   \n",
       "\n",
       "     Outcome  \n",
       "0          1  \n",
       "1          0  \n",
       "2          1  \n",
       "..       ...  \n",
       "765        0  \n",
       "766        1  \n",
       "767        0  \n",
       "\n",
       "[768 rows x 9 columns]"
      ]
     },
     "metadata": {},
     "output_type": "display_data"
    }
   ],
   "source": [
    "# Example 1-Step A: Read datafile\n",
    "\n",
    "import pandas as pd\n",
    "\n",
    "# Read the datafile \n",
    "pimaDF = pd.read_csv(\n",
    "    \"https://biologicslab.co/BIO5853/data/pima.csv\",\n",
    "   # index_col=0,\n",
    "    na_values=['NA','?'])\n",
    "\n",
    "# Set max rows and max columns\n",
    "pd.set_option('display.max_rows', 6)\n",
    "pd.set_option('display.max_columns', 6) \n",
    "\n",
    "# Display DataFrame\n",
    "display(pimaDF)"
   ]
  },
  {
   "cell_type": "markdown",
   "metadata": {},
   "source": [
    "If you code is correct, you should see the following table.\n",
    "\n",
    "![____](https://biologicslab.co/BIO5853/images/Lesson_01_5/lesson_01_5_image01.png)"
   ]
  },
  {
   "cell_type": "markdown",
   "metadata": {},
   "source": [
    "As you can see from the last line of the above table, the `pimaDF` DataFrame contains 768 rows and 9 columns. Each  column contains the value for one of 9 items of clinical information as follows:\n",
    "\n",
    "* **Pregnancies:** Number of times pregnant\n",
    "* **Glucose:** Plasma glucose concentration a 2 hours in an oral glucose tolerance test\n",
    "* **BloodPressure:** Diastolic blood pressure (mm Hg)\n",
    "* **SkinThickness:** Triceps skin fold thickness (mm)\n",
    "* **Insulin:** 2-Hour serum insulin (mu U/ml)\n",
    "* **BMI:** Body mass index (weight in kg/(height in m)2)\n",
    "* **DiabetesPedigree:** Diabetes pedigree function\n",
    "* **Age: Age (years)**\n",
    "* **Outcome:** Diagnosed with Type II Diabetes (`0`= no, `1` = yes)\n",
    "\n",
    "Each row corresponds the data obtained for one subject in the dataset. In this example, the data were obtained from 768 women belonging to the Native American Indian tribe called the `Pima`. \n",
    "\n",
    "The Pima Indians are known for their high prevalence of Type 2 diabetes, making them an important population for studying and understanding the genetic and environmental factors that contribute to the development of diabetes. They have one of the highest rates of diabetes in the world, with some estimates suggesting that up to 50% of Pima adults have the disease."
   ]
  },
  {
   "cell_type": "markdown",
   "metadata": {},
   "source": [
    "### Example 1-Step B: Compute Mean\n",
    "\n",
    "The code in the cell below, uses the Python packgage `statistics` to find the mean blood pressure of the 768 women in the Pima Indian dataset.  \n",
    "\n",
    "The first step is to assign a variable to the correct column in the `pimaDF` DataFrame that contains the blood pressure values. The name of this column is `BloodPressure`. \n",
    "\n",
    "**WARNING** you must correctly enter the column name _exactly_ as it appears in the DataFrame, including capitalization. \n",
    "\n",
    "~~~text\n",
    "# Create data variable\n",
    "data = pimaDF.BloodPressure\n",
    "~~~\n",
    "\n",
    "The next step is to use the function `statistics.mean()` to compute the mean value and store it in a new variable called `meanBldPressure`. \n",
    "\n",
    "~~~text\n",
    "# Compute mean\n",
    "meanBldPressure=statistics.mean(data)\n",
    "~~~\n",
    "\n",
    "The last step is to print out the results using Python's `f` print statement."
   ]
  },
  {
   "cell_type": "code",
   "execution_count": 3,
   "metadata": {},
   "outputs": [
    {
     "name": "stdout",
     "output_type": "stream",
     "text": [
      "The mean blood pressure is 69.11 mmHg.\n"
     ]
    }
   ],
   "source": [
    "# Example 1-Step B: Find mean\n",
    "\n",
    "import statistics\n",
    "\n",
    "# Create the data variable\n",
    "data = pimaDF.BloodPressure\n",
    "\n",
    "# Compute mean\n",
    "meanBldPressure=statistics.mean(data)\n",
    "\n",
    "# Print results\n",
    "print(f\"The mean blood pressure is {meanBldPressure:.2f} mmHg.\")\n"
   ]
  },
  {
   "cell_type": "markdown",
   "metadata": {},
   "source": [
    "If your code is correct you should see the following output:\n",
    "\n",
    "~~~text\n",
    "The mean blood pressure is 69.11 mmHg\n",
    "~~~"
   ]
  },
  {
   "cell_type": "markdown",
   "metadata": {},
   "source": [
    "### **Exercise 1-Step A: Read Datafile**\n",
    "\n",
    "In the cell below, write the Python code to read the datafile `obesity_prediction.csv` stored on the course HTTPS server `https://biologicslab.co/BIO5853/data/` using the Pandas function `pd.read_csv(filename)`. Store the obesity prediction data in a new DataFrame called `obDF`. \n",
    "\n",
    "After the file is read and the DataFrame is created, use the Python function `display()` to print out a portion of your new DataFrame to make sure it was read correctly. Set the maximumn number of rows and columns to `6`. "
   ]
  },
  {
   "cell_type": "code",
   "execution_count": 4,
   "metadata": {
    "scrolled": true
   },
   "outputs": [
    {
     "data": {
      "text/html": [
       "<div>\n",
       "<style scoped>\n",
       "    .dataframe tbody tr th:only-of-type {\n",
       "        vertical-align: middle;\n",
       "    }\n",
       "\n",
       "    .dataframe tbody tr th {\n",
       "        vertical-align: top;\n",
       "    }\n",
       "\n",
       "    .dataframe thead th {\n",
       "        text-align: right;\n",
       "    }\n",
       "</style>\n",
       "<table border=\"1\" class=\"dataframe\">\n",
       "  <thead>\n",
       "    <tr style=\"text-align: right;\">\n",
       "      <th></th>\n",
       "      <th>Age</th>\n",
       "      <th>Gender</th>\n",
       "      <th>Height</th>\n",
       "      <th>...</th>\n",
       "      <th>BMI</th>\n",
       "      <th>PhysicalActivityLevel</th>\n",
       "      <th>ObesityCategory</th>\n",
       "    </tr>\n",
       "  </thead>\n",
       "  <tbody>\n",
       "    <tr>\n",
       "      <th>0</th>\n",
       "      <td>56</td>\n",
       "      <td>Male</td>\n",
       "      <td>173.575262</td>\n",
       "      <td>...</td>\n",
       "      <td>23.891783</td>\n",
       "      <td>4</td>\n",
       "      <td>Normal weight</td>\n",
       "    </tr>\n",
       "    <tr>\n",
       "      <th>1</th>\n",
       "      <td>69</td>\n",
       "      <td>Male</td>\n",
       "      <td>164.127306</td>\n",
       "      <td>...</td>\n",
       "      <td>33.395209</td>\n",
       "      <td>2</td>\n",
       "      <td>Obese</td>\n",
       "    </tr>\n",
       "    <tr>\n",
       "      <th>2</th>\n",
       "      <td>46</td>\n",
       "      <td>Female</td>\n",
       "      <td>168.072202</td>\n",
       "      <td>...</td>\n",
       "      <td>25.817737</td>\n",
       "      <td>4</td>\n",
       "      <td>Overweight</td>\n",
       "    </tr>\n",
       "    <tr>\n",
       "      <th>...</th>\n",
       "      <td>...</td>\n",
       "      <td>...</td>\n",
       "      <td>...</td>\n",
       "      <td>...</td>\n",
       "      <td>...</td>\n",
       "      <td>...</td>\n",
       "      <td>...</td>\n",
       "    </tr>\n",
       "    <tr>\n",
       "      <th>997</th>\n",
       "      <td>49</td>\n",
       "      <td>Female</td>\n",
       "      <td>156.570956</td>\n",
       "      <td>...</td>\n",
       "      <td>32.146036</td>\n",
       "      <td>1</td>\n",
       "      <td>Obese</td>\n",
       "    </tr>\n",
       "    <tr>\n",
       "      <th>998</th>\n",
       "      <td>64</td>\n",
       "      <td>Male</td>\n",
       "      <td>164.192222</td>\n",
       "      <td>...</td>\n",
       "      <td>21.505965</td>\n",
       "      <td>4</td>\n",
       "      <td>Normal weight</td>\n",
       "    </tr>\n",
       "    <tr>\n",
       "      <th>999</th>\n",
       "      <td>66</td>\n",
       "      <td>Female</td>\n",
       "      <td>178.537130</td>\n",
       "      <td>...</td>\n",
       "      <td>23.517168</td>\n",
       "      <td>1</td>\n",
       "      <td>Normal weight</td>\n",
       "    </tr>\n",
       "  </tbody>\n",
       "</table>\n",
       "<p>1000 rows × 7 columns</p>\n",
       "</div>"
      ],
      "text/plain": [
       "     Age  Gender      Height  ...        BMI  PhysicalActivityLevel  \\\n",
       "0     56    Male  173.575262  ...  23.891783                      4   \n",
       "1     69    Male  164.127306  ...  33.395209                      2   \n",
       "2     46  Female  168.072202  ...  25.817737                      4   \n",
       "..   ...     ...         ...  ...        ...                    ...   \n",
       "997   49  Female  156.570956  ...  32.146036                      1   \n",
       "998   64    Male  164.192222  ...  21.505965                      4   \n",
       "999   66  Female  178.537130  ...  23.517168                      1   \n",
       "\n",
       "     ObesityCategory  \n",
       "0      Normal weight  \n",
       "1              Obese  \n",
       "2         Overweight  \n",
       "..               ...  \n",
       "997            Obese  \n",
       "998    Normal weight  \n",
       "999    Normal weight  \n",
       "\n",
       "[1000 rows x 7 columns]"
      ]
     },
     "metadata": {},
     "output_type": "display_data"
    }
   ],
   "source": [
    "# Insert your code of Exercise 1-Step A here\n",
    "\n",
    "import pandas as pd\n",
    "\n",
    "# Read the datafile \n",
    "obDF = pd.read_csv(\n",
    "    \"https://biologicslab.co/BIO5853/data/obesity_prediction.csv\",\n",
    "    na_values=['NA','?'])\n",
    "\n",
    "# Set max rows and max columns\n",
    "pd.set_option('display.max_rows', 6)\n",
    "pd.set_option('display.max_columns', 6) \n",
    "\n",
    "# Display DataFrame\n",
    "display(obDF)"
   ]
  },
  {
   "cell_type": "markdown",
   "metadata": {},
   "source": [
    "If you code is correct, you should see the following table.\n",
    "\n",
    "![____](https://biologicslab.co/BIO5853/images/Lesson_01_5/lesson_01_5_image02.png)"
   ]
  },
  {
   "cell_type": "markdown",
   "metadata": {},
   "source": [
    "As you can see from the last line of the above table, the `obDF` DataFrame contains 2111 rows and 17 columns. Each  column contains the value for one of 17 items of clinical information for 2111 subjects as follows:\n",
    "\n",
    "* **Age:** The age of the individual, expressed in years.\n",
    "* **Gender:** The gender of the individual, categorized as male or female.\n",
    "* **Height:** The height of the individual, typically measured in centimeters (cm).\n",
    "* **Weight:** The weight of the individual, typically measured in kilograms (kg).\n",
    "* **BMI:** A calculated metric derived from the individual's weight and height\n",
    "* **PhysicalActivityLevel:** This variable quantifies the individual's level of physical activity\n",
    "* **ObesityCategory:** Categorization of individuals based on their BMI into different obesity categories"
   ]
  },
  {
   "cell_type": "markdown",
   "metadata": {},
   "source": [
    "### **Exercise 1-Step B: Compute Mean**\n",
    "\n",
    "In the cell below, use the Python packgage `statistics` to find the mean height of the men and women in the Obesity Prediction dataset. Store this value in a new variable called `meanHeight`.  \n",
    "\n",
    "Print out your `meanHeight` using Python's `f` print statement. Make sure to add the correct units!"
   ]
  },
  {
   "cell_type": "code",
   "execution_count": 5,
   "metadata": {},
   "outputs": [
    {
     "name": "stdout",
     "output_type": "stream",
     "text": [
      "The mean height is 170.05 cm.\n"
     ]
    }
   ],
   "source": [
    "# Insert your code for Exercise 1-Step B here\n",
    "\n",
    "import statistics\n",
    "\n",
    "# Create the data variable\n",
    "data = obDF.Height\n",
    "\n",
    "# Compute mean\n",
    "meanHeight=statistics.mean(data)\n",
    "\n",
    "# Print results\n",
    "print(f\"The mean height is {meanHeight:.2f} cm.\")\n"
   ]
  },
  {
   "cell_type": "markdown",
   "metadata": {},
   "source": [
    "If your code is correct you should see the following output:\n",
    "\n",
    "~~~text\n",
    "The mean height is 170.05 cm.\n",
    "~~~"
   ]
  },
  {
   "cell_type": "markdown",
   "metadata": {},
   "source": [
    "## **Median**\n",
    "\n",
    "The **_median_** is a measure of central tendency that represents the middle value in a dataset when it’s ordered from the highest to lowest value. It separates the lowest 50% from the highest 50% of values. Here’s how to find it manually:\n",
    "\n",
    "**Odd-numbered dataset:**\n",
    "\n",
    "* Order the values from low to high.\n",
    "* Calculate the middle position using the formula:\n",
    "\n",
    "$$ \\text{Middle position} = \\frac{n + 1}{2}$$\n",
    "where $n$ is the number of values.\n",
    "* The median is the value at the middle position.\n",
    "\n",
    "\n",
    "**Even-numbered dataset:**\n",
    "* Order the values.\n",
    "* Calculate the two middle positions using the formulas:\n",
    "\n",
    "$$\\text{Middle position 1} = \\frac{n}{2}$$  \n",
    "\n",
    "> and\n",
    "\n",
    "$$ \\text{Middle position 2} = \\frac{n}{2} + 1 $$\n",
    "\n",
    "* Find the two middle values.\n",
    "* Calculate the mean of these middle values to get the median.\n",
    "\n",
    "\n",
    "The median is especially useful when dealing with skewed data or outliers, as it’s less affected by extreme values compared to the mean. It provides a robust estimate of the central value in a dataset.\n"
   ]
  },
  {
   "cell_type": "markdown",
   "metadata": {},
   "source": [
    "### Example 2: Compute Median\n",
    "\n",
    "The Python code in the cell below again uses the `statistics` package, this time to compute the median blood pressure value for the Pima Indian dataset. The median value is stored in a new variable, `medianBldPressure`. \n",
    "\n",
    "The `f` print function is used to print out both the median value as well as the mean value calculate above in Example 2B.\n"
   ]
  },
  {
   "cell_type": "code",
   "execution_count": 6,
   "metadata": {},
   "outputs": [
    {
     "name": "stdout",
     "output_type": "stream",
     "text": [
      "The median blood pressure is 72.00 mmHg\n",
      "The mean blood pressure is 69.11 mmHg\n"
     ]
    }
   ],
   "source": [
    "# Example 2: Compute median\n",
    "\n",
    "import statistics\n",
    "\n",
    "# Create the data variable\n",
    "data = pimaDF.BloodPressure\n",
    "\n",
    "# Calculate the median\n",
    "medianBldPressure = statistics.median(data)\n",
    "\n",
    "# Print the result\n",
    "print(f\"The median blood pressure is {medianBldPressure:.2f} mmHg\")\n",
    "print(f\"The mean blood pressure is {meanBldPressure:.2f} mmHg\")"
   ]
  },
  {
   "cell_type": "markdown",
   "metadata": {},
   "source": [
    "If the code is correct, you should see the following output:\n",
    "\n",
    "~~~text\n",
    "The median blood pressure is 72.00 mmHg\n",
    "The mean blood pressure is 69.11 mmHg\n",
    "~~~"
   ]
  },
  {
   "cell_type": "markdown",
   "metadata": {},
   "source": [
    "As you can see the values for the median and the mean blood pressure are similar, but _not_ identical. This indicates that the blood pressures in the Pima Indian dataset is somewhat \"left skewed\"--a concept that we will explore later in this lesson. "
   ]
  },
  {
   "cell_type": "markdown",
   "metadata": {},
   "source": [
    "### **Exercise 2: Compute Median**\n",
    "\n",
    "In the cell below use the `statistics` package to compute the median height for the dubjects in the Obesity Prediction dataset and store this value in a new variable called `medianHeight`. \n",
    "\n",
    "Use the `f` print function to print out both the median height value, as well as the mean height value that you computed earlier in **Exercise 2B**.\n"
   ]
  },
  {
   "cell_type": "code",
   "execution_count": 7,
   "metadata": {},
   "outputs": [
    {
     "name": "stdout",
     "output_type": "stream",
     "text": [
      "The median height is 169.80 cm.\n",
      "The mean height is 170.05 cm.\n"
     ]
    }
   ],
   "source": [
    "# Example 2: Compute median\n",
    "\n",
    "import statistics\n",
    "\n",
    "# Create the data variable\n",
    "data = obDF.Height\n",
    "\n",
    "# Calculate the median\n",
    "medianHeight = statistics.median(data)\n",
    "\n",
    "# Print the result\n",
    "print(f\"The median height is {medianHeight:.2f} cm.\")\n",
    "print(f\"The mean height is {meanHeight:.2f} cm.\")"
   ]
  },
  {
   "cell_type": "markdown",
   "metadata": {},
   "source": [
    "If the code is correct, you should see the following output:\n",
    "\n",
    "~~~text\n",
    "The median height is 169.80 cm.\n",
    "The mean height is 170.05 cm.\n",
    "~~~"
   ]
  },
  {
   "cell_type": "markdown",
   "metadata": {},
   "source": [
    "As you can see the values for the median and the mean height are almost the same. This indicates that the height values in the Obesity Prediction dataset is close to being \"normally distributed\" --a concept that we will explore later in this course. "
   ]
  },
  {
   "cell_type": "markdown",
   "metadata": {},
   "source": [
    "## **Mode**\n",
    "\n",
    "The **_mode_** represents the value that appears most frequently in a dataset. It’s a measure of central tendency that tells you the most common choice or characteristic within your sample. Here are some key points about the mode:\n",
    "\n",
    "* **Unimodal:** A dataset can have one mode, where a single value occurs most often.\n",
    "* **Bimodal:** If two different values repeat most frequently, the dataset is bimodal.\n",
    "* **Trimodal:** With three modes, it’s trimodal.\n",
    "* **Multimodal:** If there are four or more modes, it’s multimodal."
   ]
  },
  {
   "cell_type": "markdown",
   "metadata": {},
   "source": [
    "### Example 3: Compute Mode\n",
    "\n",
    "The code in the cell below uses the `statistics` package to compute the mode for blood pressure in the Pima Indian dataset. The values for the mode, median and mean are printed out."
   ]
  },
  {
   "cell_type": "code",
   "execution_count": 8,
   "metadata": {},
   "outputs": [
    {
     "name": "stdout",
     "output_type": "stream",
     "text": [
      "The mode blood pressure is 70.00 mmHg.\n",
      "The median blood pressure is 72.00 mmHg.\n",
      "The mean blood pressure is 69.11 mmHg.\n"
     ]
    }
   ],
   "source": [
    "# Example 3: Compute mode\n",
    "\n",
    "import statistics\n",
    "\n",
    "# Create the data variable\n",
    "data = pimaDF.BloodPressure\n",
    "\n",
    "# Compute the mode\n",
    "modeBldPressure = statistics.mode(data)\n",
    "\n",
    "# Print the result\n",
    "print(f\"The mode blood pressure is {modeBldPressure:.2f} mmHg.\")\n",
    "print(f\"The median blood pressure is {medianBldPressure:.2f} mmHg.\")\n",
    "print(f\"The mean blood pressure is {meanBldPressure:.2f} mmHg.\")"
   ]
  },
  {
   "cell_type": "markdown",
   "metadata": {},
   "source": [
    "If the code is correct, you should see the following output:\n",
    "\n",
    "~~~text\n",
    "The mode blood pressure is 70.00 mmHg.\n",
    "The median blood pressure is 72.00 mmHg.\n",
    "The mean blood pressure is 69.11 mmHg.\n",
    "~~~"
   ]
  },
  {
   "cell_type": "markdown",
   "metadata": {},
   "source": [
    "As you can see the values for the mode, median and mean blood pressure are again similar, but _not_ identical. "
   ]
  },
  {
   "cell_type": "markdown",
   "metadata": {},
   "source": [
    "### **Exercise 3: Compute Mode**\n",
    "\n",
    "In the cell below, use the `statistics` package to compute the mode for height in the Obesity Prediction dataset. Store the mode value in a new variable called `modeHeight`. Print out the values for the mode, median and mean using the correct units of measure."
   ]
  },
  {
   "cell_type": "code",
   "execution_count": 9,
   "metadata": {},
   "outputs": [
    {
     "name": "stdout",
     "output_type": "stream",
     "text": [
      "The mode height is 173.58 cm.\n",
      "The median height is 169.80 cm.\n",
      "The mean height is 170.05 cm.\n"
     ]
    }
   ],
   "source": [
    "# Insert your code for Exercise 3 here\n",
    "\n",
    "import statistics\n",
    "\n",
    "# Create the data variable\n",
    "data = obDF.Height\n",
    "\n",
    "# Compute the mode\n",
    "modeHeight = statistics.mode(data)\n",
    "\n",
    "# Print the result\n",
    "print(f\"The mode height is {modeHeight:.2f} cm.\")\n",
    "print(f\"The median height is {medianHeight:.2f} cm.\")\n",
    "print(f\"The mean height is {meanHeight:.2f} cm.\")"
   ]
  },
  {
   "cell_type": "markdown",
   "metadata": {},
   "source": [
    "If the code is correct, you should see the following output:\n",
    "\n",
    "~~~text\n",
    "The mode height is 173.58 cm.\n",
    "The median height is 169.80 cm.\n",
    "The mean height is 170.05 cm.\n",
    "~~~"
   ]
  },
  {
   "cell_type": "markdown",
   "metadata": {},
   "source": [
    "As you can see the values for the mode, median and mean height are again similar, but _not_ identical. In this particular dataset, the mode value is farther from both the median and the mean.  "
   ]
  },
  {
   "cell_type": "markdown",
   "metadata": {},
   "source": [
    "## **Data Distributions**\n",
    "\n",
    "You might be wondering why all the fuss about **_central tendency_** and why there are three different measures of central tendency? After all weren't the mean, median and mode values for blood pressure and height essentially the same in the above examples and exercises?\n",
    "\n",
    "Consider the four different data distributions shown in **Figure 2.13** from your textbook (pg. 38):\n",
    "\n",
    "![____](https://biologicslab.co/BIO5853/images/Lesson_01_5/lesson_01_5_image03.png)\n",
    "\n",
    "As your textbook states on page 37:\n",
    "\n",
    "> The best measure of central tendency for a given set of data often depends on the way in which  the values are distributed. If continuous or discrete measurements are symmetric and unimodal – meaning that, if we were to draw a histogram or a frequency polygon, there would be only one peak, as in the smoothed distribution pictured in **Figure 2.13(a)** – then the mean, the median, and the mode should all be roughly the same. If the distribution of values is symmetric but bimodal, so that the corresponding frequency histogram would have two peaks as in **Figure 2.13(b)**, then the mean and  median should again be the same. Note, however, that this common value could lie between the two peaks, and hence be a measurement that is extremely unlikely to occur. A bimodal distribution  often indicates that the population from which the values are taken actually consists of two distinct subgroups that differ in the characteristic being measured; in this situation, it might be better to report  two modes rather than the mean or the median, or to treat the two subgroups separately. The data in **Figure 2.13(c)** are skewed to the right, and those in **Figure 2.13(d)** are skewed to the left. When  the data are not symmetric, as in these two figures, the median is often the best measure of central tendency. Because the mean is sensitive to extreme observations, it is pulled in the direction of the  outlying data values. As a result, the mean might end up either excessively inflated or excessively  deflated. Note that when the data are skewed to the right, the mean lies to the right of the median;  when they are skewed to the left, the mean lies to the left of the median. In both instances, the mean is pulled in the direction of the extreme values.  Regardless of the measure of central tendency used in a particular situation, it can be misleading  to assume that this value is representative of all observations in the group."
   ]
  },
  {
   "cell_type": "markdown",
   "metadata": {},
   "source": [
    "## **Generating Data Distributions Using Python**\n",
    "\n",
    "In the next section of this lesson, we demonstrate how to generate the four data distributions shown above in Figure 2.13 using three important Python packages: `Numpy`, `Matplotlib` and `Scipy`. \n",
    "\n",
    "### **The Numpy Package**\n",
    "\n",
    "Numpy (pronounced as \"num-pee\") is a Python package that provides powerful data structures and functions for manipulating numerical data. It is the fundamental package for scientific computing with Python.\n",
    "\n",
    "Like other Python packages, it has to be imported into a Python program with the following command before it can be used.\n",
    "~~~text\n",
    "import numpy as np\n",
    "~~~\n",
    "When importing software packages, an alias ('nickname') is often used. For example, the standard alias for Numpy is np. The Python package alias is a feature of the Python language that allows a software package to be imported under a different name. Another example of a package alias is pd which is the alias of the Python package called Pandas. One advantage of using an alias is that it shortens the length of commands that part of the package.\n",
    "\n",
    "When using a method that is part of a Python package, the alias is used instead of the package name. For example, to use the Numpy `append()` method, the command would be:\n",
    "\n",
    "~~~text\n",
    "np.append(array,value,axis)\n",
    "~~~\n",
    "Numpy arrays are the main data structure used in this course when we preprocessing (preparing) data to be analyzed. Numpy arrays are N-dimensional objects that can hold any data type, including strings, although purely numeric arrays are most often encountered. \n",
    "\n",
    "In addition to providing a data structure, Numpy also provides a suite of mathematical functions and tools for working with these arrays. For example, Numpy provides a powerful linear algebra library for manipulating matrices and vectors. Numpy also provides a range of statistical functions that can be used for data analysis.\n",
    "\n",
    "\n",
    "### **The Matplotlib Package**\n",
    "\n",
    "**_Matplotlib_** is a comprehensive library for creating static, animated, and interactive visualizations in Python. It provides an object-oriented API for embedding plots into applications using general-purpose GUI toolkits like Tkinter, wxPython, Qt, or GTK+.\n",
    "\n",
    "Matplotlib can be used in Python scripts, the Python and IPython shells, Google COLAB, the Jupyter notebook, web application servers, and four graphical user interface toolkits. It supports many types of charts and graphs, including line plots, scatter plots, bar charts, histograms, pie charts, box plots, 3D charts, and more. It also supports mathematical notation and LaTeX-style formatting for text and labels.\n",
    "\n",
    "#### **Matplotlib with Numpy**\n",
    "\n",
    "Matplotlib can be used with Numpy to create powerful visualizations. Numpy can be used to provide data for Matplotlib to plot, manipulate, and transform. For example, you can use Numpy functions to generate random numbers, generate evenly spaced numbers over a specified interval, generate normally distributed numbers, and even perform linear algebraic operations. Matplotlib can then take this data and plot it in various ways, including line graphs, bar graphs, histograms, scatter plots, contour plots, and more. Together, Matplotlib and Numpy can be used to create powerful visualizations of data.\n",
    "\n",
    "### **The Scipy Package**\n",
    "\n",
    "The `scipy.stats` module in Python’s `SciPy` library provides a wide range of statistical functions and distributions. Here are some key features:\n",
    "\n",
    "1. **Probability Distributions:**\n",
    "It contains a large number of probability distributions (both continuous and discrete), such as normal, exponential, gamma, chi-squared, and more.\n",
    "These distributions allow you to model and analyze random variables in various fields like physics, finance, and engineering.\n",
    "\n",
    "2. **Summary Statistics and Tests:**\n",
    "You can compute summary statistics (mean, median, variance, etc.) for your data using functions from this module.\n",
    "It also offers statistical tests (e.g., t-tests, ANOVA) to assess hypotheses and compare groups.\n",
    "\n",
    "3. **Correlation Functions:**\n",
    "Functions for calculating correlation coefficients (Pearson, Spearman, Kendall) are available.\n",
    "Useful for understanding relationships between variables."
   ]
  },
  {
   "cell_type": "markdown",
   "metadata": {},
   "source": [
    "### **Demonstration 2.13a: Normal Distribution**\n",
    "\n",
    "**Figure 2.13a** in your textbook (and above) shows a unimodal distribution. In a unimodal distribution the mean, the median, and the mode should all be roughly the same value. In a special unimodal distribution known as a **_Normal Distribution_**, the mean and median are exactly the same value!  \n",
    "\n",
    "The code in the cell below begins using the Numpy function `np.random.seed(42)`. Setting the random seed to a specific number, in this case `42` (see **Note** below). \n",
    "\n",
    "Setting the random seed in computer programs is essential for reproducibility. When you generate random numbers or perform any stochastic operations (like shuffling data), the outcome depends on the initial seed value. \n",
    "\n",
    "The code then uses the Numpy function `np.random.normal()` to generates a large Numpy array called `unimodal_data` containing a million random numbers (`size=1000000`), with a normal distribution having an average value = `5.0`.  \n",
    "\n",
    "The Matplotlib function `plt.hist()` is then used to visualize the data values in this Numpy array by creating a frequency histogram. Additional `plt` functions are used to label the x-axis, the y-axis and the title.\n",
    "\n",
    "------------------\n",
    "**Note:** In _The Hitchhiker’s Guide to the Galaxy_ by Douglas Adams, the number 42 is famously known as the “Answer to the Ultimate Question of Life, the Universe, and Everything.” This answer was calculated by an enormous supercomputer named _Deep Thought_ over a period of 7.5 million years. However, the catch is that no one actually knows what the question is!"
   ]
  },
  {
   "cell_type": "code",
   "execution_count": 10,
   "metadata": {
    "scrolled": true
   },
   "outputs": [
    {
     "data": {
      "image/png": "[encoded data removed]",
      "text/plain": [
       "<Figure size 640x480 with 1 Axes>"
      ]
     },
     "metadata": {},
     "output_type": "display_data"
    }
   ],
   "source": [
    "# Demonstration 2.13a: Unimodal (Normal) distribution\n",
    "\n",
    "import numpy as np\n",
    "import matplotlib.pyplot as plt\n",
    "from scipy.stats import norm\n",
    "\n",
    "# Set random seed\n",
    "np.random.seed(42)\n",
    "\n",
    "# Generate data \n",
    "unimodal_data = np.random.normal(loc=5, scale=1, size=1000000)\n",
    "\n",
    "# Plot the histogram\n",
    "plt.hist(unimodal_data, bins=500, density=True, alpha=0.6, color='b')\n",
    "\n",
    "# Add labels and title\n",
    "plt.xlabel('Value')\n",
    "plt.ylabel('Density')\n",
    "plt.title('Figure 2.13a: Unimodal Distribution')\n",
    "\n",
    "# Show the plot\n",
    "plt.show()"
   ]
  },
  {
   "cell_type": "markdown",
   "metadata": {},
   "source": [
    "### Example 4: Compute Mean and Median using Numpy\n",
    "\n",
    "When working with a Numpy array, you can easily compute their mean and median using Numpy's built-in statistical functions as illustrated in the code in the cell below. In this example, we are using the Numpy array `unimodal_data` that was generate in the above code cell."
   ]
  },
  {
   "cell_type": "code",
   "execution_count": 11,
   "metadata": {},
   "outputs": [
    {
     "name": "stdout",
     "output_type": "stream",
     "text": [
      "Unimodal data mean=5.00\n",
      "Unimodal data median=5.00\n"
     ]
    }
   ],
   "source": [
    "# Example 4: Compute mean and median using Numpy\n",
    "\n",
    "import numpy as np\n",
    "\n",
    "# Compute mean and median using Numpy\n",
    "meanUnimodal=np.mean(unimodal_data)\n",
    "medianUnimodal=np.median(unimodal_data)\n",
    "\n",
    "# Print results\n",
    "# Print results\n",
    "print(f\"Unimodal data mean={meanUnimodal:.2f}\")\n",
    "print(f\"Unimodal data median={medianUnimodal:.2f}\")"
   ]
  },
  {
   "cell_type": "markdown",
   "metadata": {},
   "source": [
    "If the code is correct you should see the following output:\n",
    "\n",
    "~~~text\n",
    "Unimodal data mean=5.00\n",
    "Unimodal data median=5.00\n",
    "~~~"
   ]
  },
  {
   "cell_type": "markdown",
   "metadata": {},
   "source": [
    "As expected, the mean and median are both equal to `5.00`."
   ]
  },
  {
   "cell_type": "markdown",
   "metadata": {},
   "source": [
    "### **Demonstration 2.13b: Bimodal Distribution**\n",
    "\n",
    "If the distribution of values is symmetric but **_bimodal_**, so that the  corresponding frequency histogram would have two peaks as in **Figure 2.13(b)**, then the mean and median should again be the same. Note, however, that this common value will lie _between_ the two peaks, and hence be a measurement that is extremely unlikely to occur. In other words, using the mean or median to describe the central tendency of a bimodal dataset would be very misleading.\n",
    "\n",
    "A bimodal distribution often indicates that the population from which the values are taken actually consists of two distinct subgroups that differ in the characteristic being measured. For instance, female black bears have an average weight of 175 pounds, while males average around 400 pounds, resulting in a bimodal distribution of weights. In this situation, it might be better to report two modes rather than the mean or the median, or to treat the two subgroups separately.  "
   ]
  },
  {
   "cell_type": "code",
   "execution_count": 12,
   "metadata": {
    "scrolled": true
   },
   "outputs": [
    {
     "data": {
      "image/png": "[encoded data removed]",
      "text/plain": [
       "<Figure size 640x480 with 1 Axes>"
      ]
     },
     "metadata": {},
     "output_type": "display_data"
    }
   ],
   "source": [
    "# Demonstration 2.13b: Biimodal distribution\n",
    "\n",
    "import numpy as np\n",
    "import matplotlib.pyplot as plt\n",
    "from scipy.stats import norm\n",
    "\n",
    "# Generate data for two normal distributions (bimodal)\n",
    "np.random.seed(42)\n",
    "data1 = np.random.normal(loc=5, scale=1, size=10000000)\n",
    "data2 = np.random.normal(loc=10, scale=1, size=10000000)\n",
    "\n",
    "# Combine the two datasets\n",
    "bimodal_data = np.concatenate([data1, data2])\n",
    "\n",
    "# Plot the histogram\n",
    "plt.hist(bimodal_data, bins=500, density=True, alpha=0.6, color='b')\n",
    "\n",
    "# Add labels and title\n",
    "plt.xlabel('Value')\n",
    "plt.ylabel('Density')\n",
    "plt.title('Figure 2.13b: Bimodal Distribution')\n",
    "\n",
    "# Show the plot\n",
    "plt.show()"
   ]
  },
  {
   "cell_type": "code",
   "execution_count": null,
   "metadata": {},
   "outputs": [],
   "source": []
  },
  {
   "cell_type": "markdown",
   "metadata": {},
   "source": [
    "### **Exercise 4: Compute Mean and Median using Numpy**\n",
    "\n",
    "Compute the mean and median of the Numpy array `bimodal_data` that was generated in the code cell above using Numpy's built-in statistical functions. Print out these two values."
   ]
  },
  {
   "cell_type": "code",
   "execution_count": 13,
   "metadata": {},
   "outputs": [
    {
     "name": "stdout",
     "output_type": "stream",
     "text": [
      "Bimodal data mean=7.50\n",
      "Bimodal data median=7.50\n"
     ]
    }
   ],
   "source": [
    "# Insert your code for Exercise 4 here \n",
    "\n",
    "import numpy as np\n",
    "\n",
    "# Compute mean and median using Numpy\n",
    "meanBimodal=np.mean(bimodal_data)\n",
    "medianBimodal=np.median(bimodal_data)\n",
    "\n",
    "# Print results\n",
    "print(f\"Bimodal data mean={meanBimodal:.2f}\")\n",
    "print(f\"Bimodal data median={medianBimodal:.2f}\")"
   ]
  },
  {
   "cell_type": "markdown",
   "metadata": {},
   "source": [
    "If your code is correct you should see the following output:\n",
    "\n",
    "~~~text\n",
    "Bimodal data mean=7.50\n",
    "Bimodal data median=7.50\n",
    "~~~"
   ]
  },
  {
   "cell_type": "markdown",
   "metadata": {},
   "source": [
    "### **Demonstration 2.13c: Right-skewed Distribution**\n",
    "\n",
    "The data in **Figure 2.13(c)** are skewed to the right. When the data are not symmetric, as in this figure, the median is often the best measure of central tendency. Because the mean is sensitive to extreme observations, it is _pulled_ in the direction of the outlying data values. As a result, the mean ends up excessively inflated. Note that when the data are skewed to the right, the mean lies to the right of the median. "
   ]
  },
  {
   "cell_type": "code",
   "execution_count": 14,
   "metadata": {},
   "outputs": [
    {
     "data": {
      "image/png": "[encoded data removed]",
      "text/plain": [
       "<Figure size 640x480 with 1 Axes>"
      ]
     },
     "metadata": {},
     "output_type": "display_data"
    }
   ],
   "source": [
    "# Demostration 2.13c: Right-skewed distribution\n",
    "\n",
    "import numpy as np\n",
    "import matplotlib.pyplot as plt\n",
    "from scipy.stats import skewnorm\n",
    "\n",
    "\n",
    "# Generate Right-skewed data\n",
    "num_values = 10000000\n",
    "max_value = 100\n",
    "skewness = +5  # Positive values create right-skewed distribution\n",
    "\n",
    "# Generate data using skewnorm\n",
    "rightSkewed = skewnorm.rvs(a=skewness, loc=max_value, size=num_values)\n",
    "\n",
    "# Shift the set so the minimum value is equal to zero\n",
    "rightSkewed = rightSkewed - min(rightSkewed)\n",
    "\n",
    "# Standardize all the values between 0 and 1\n",
    "rightSkewed = rightSkewed / max(rightSkewed)\n",
    "\n",
    "# Multiply the standardized values by the maximum value\n",
    "rightSkewed = rightSkewed * max_value\n",
    "\n",
    "# Plot histogram\n",
    "plt.hist(rightSkewed, bins=500, density=True, color='b', alpha=0.8)\n",
    "\n",
    "# Label plot\n",
    "plt.xlabel('Value')\n",
    "plt.ylabel('Density')\n",
    "plt.title('Figure 2.13c: Right-Skewed Distribution')\n",
    "\n",
    "# Show plot\n",
    "plt.show()"
   ]
  },
  {
   "cell_type": "markdown",
   "metadata": {},
   "source": [
    "### **Exercise 5: Left-skewed Distribution**\n",
    "\n",
    "The data in **Figure 2.13(c)** are skewed to the right. When the data are not symmetric, as in this figure, the median is often the best measure of central tendency. Because the mean is sensitive to extreme observations, it is _pulled_ in the direction of the outlying data values. As a result, the mean ends up excessively inflated. Note that when the data are skewed to the right, the mean lies to the right of the median. "
   ]
  },
  {
   "cell_type": "code",
   "execution_count": 15,
   "metadata": {},
   "outputs": [
    {
     "data": {
      "image/png": "[encoded data removed]",
      "text/plain": [
       "<Figure size 640x480 with 1 Axes>"
      ]
     },
     "metadata": {},
     "output_type": "display_data"
    }
   ],
   "source": [
    "# Insert your code for Exercise 5 here\n",
    "\n",
    "import numpy as np\n",
    "import matplotlib.pyplot as plt\n",
    "from scipy.stats import skewnorm\n",
    "\n",
    "\n",
    "# Generate Left-skewed data\n",
    "num_values = 10000000\n",
    "max_value = 100\n",
    "skewness = -5  # Negative values create left-skewed distribution\n",
    "\n",
    "# Generate data using skewnorm\n",
    "leftSkewed = skewnorm.rvs(a=skewness, loc=max_value, size=num_values)\n",
    "\n",
    "# Shift the set so the minimum value is equal to zero\n",
    "leftSkewed = leftSkewed - min(leftSkewed)\n",
    "\n",
    "# Standardize all the values between 0 and 1\n",
    "leftSkewed = leftSkewed / max(leftSkewed)\n",
    "\n",
    "# Multiply the standardized values by the maximum value\n",
    "leftSkewed = leftSkewed * max_value\n",
    "\n",
    "# Plot histogram\n",
    "plt.hist(leftSkewed, bins=500, density=True, color='b', alpha=0.8)\n",
    "\n",
    "# Label plot\n",
    "plt.xlabel('Value')\n",
    "plt.ylabel('Density')\n",
    "plt.title('Figure 2.13d: Left-Skewed Distribution')\n",
    "\n",
    "# Show plot\n",
    "plt.show()"
   ]
  },
  {
   "cell_type": "markdown",
   "metadata": {},
   "source": [
    "### **Demonstration 2.14: Two Normal Distributions**\n",
    "\n",
    "Figure 2.13a shows a unimodal distribution. In a unimodal distribution the mean, the median, and the mode should all be roughly the same. In a special unimodal distribution known as a **_Normal Distribution_**, the mean, median and mode are all exactly the same value. \n",
    "\n",
    "The code in the cell below uses the Numpy function "
   ]
  },
  {
   "cell_type": "code",
   "execution_count": 18,
   "metadata": {},
   "outputs": [
    {
     "data": {
      "image/png": "[encoded data removed]",
      "text/plain": [
       "<Figure size 640x480 with 1 Axes>"
      ]
     },
     "metadata": {},
     "output_type": "display_data"
    }
   ],
   "source": [
    "# Demonstration 2.14: Two Normal distributions\n",
    "\n",
    "import numpy as np\n",
    "import matplotlib.pyplot as plt\n",
    "from scipy.stats import norm\n",
    "\n",
    "# Set random seed\n",
    "np.random.seed(42)\n",
    "\n",
    "# Generate data for two\n",
    "data1 = np.random.normal(loc=5, scale=1, size=1000000)\n",
    "data2 = np.random.normal(loc=5, scale=5, size=1000000)\n",
    "\n",
    "# Plot the histogram\n",
    "plt.hist(data1, bins=500, density=True, alpha=0.6, color='b')\n",
    "plt.hist(data2, bins=500, density=True, alpha=0.4, color='r')\n",
    "\n",
    "# Add labels and title\n",
    "plt.xlabel('Value')\n",
    "plt.ylabel('Density')\n",
    "plt.title('Figure 2.14: Two Normal Distributions')\n",
    "\n",
    "plt.xlim(-10, 20)\n",
    "plt.ylim(0, 0.45)\n",
    "\n",
    "# Show the plot\n",
    "plt.show()"
   ]
  },
  {
   "cell_type": "code",
   "execution_count": null,
   "metadata": {},
   "outputs": [],
   "source": []
  },
  {
   "cell_type": "markdown",
   "metadata": {},
   "source": [
    "## **Range**\n",
    "\n",
    "The **_range_** represents the spread of data from the lowest to the highest value in a distribution. It’s a measure of variability that helps summarize the extent of differences within your dataset. \n",
    "\n",
    "**Importance of Range:**\n",
    "\n",
    "* The range provides a quick overview of variability.\n",
    "* When combined with measures of central tendency (like mean or median), it helps describe the span of the distribution.\n",
    "* However, be cautious with outliers: A single extreme value can significantly affect the range.\n",
    "* For a clearer picture of variability, consider using other measures like interquartile range or standard deviation alongside the range."
   ]
  },
  {
   "cell_type": "markdown",
   "metadata": {},
   "source": [
    "## **Interquartile Range**\n",
    "\n",
    "The **_interquartile range_** (IQR) is a measure of statistical dispersion that tells you how spread out the data is within the middle half of your distribution. Here are the key points:\n",
    "\n",
    "* **Definition:** The IQR represents the difference between the third quartile (Q3) and the first quartile (Q1).\n",
    "* **Quartiles:** Quartiles divide an ordered dataset from low to high into four equal parts.\n",
    "* **Q1:** The value below which 25% of the distribution lies.\n",
    "* **Q3:** The value below which 75% of the distribution lies.\n",
    "\n",
    "**Calculation:**\n",
    "\n",
    "$$ \\text IQR = Q3 - Q1 $$\n",
    "\n",
    "* **Visualize:** Boxplots often display the IQR as the range between the box’s edges.\n",
    "\n",
    "Remember, while the range gives you the spread of the entire dataset, the IQR focuses on the middle half"
   ]
  },
  {
   "cell_type": "code",
   "execution_count": 19,
   "metadata": {
    "scrolled": true
   },
   "outputs": [
    {
     "data": {
      "text/html": [
       "<div>\n",
       "<style scoped>\n",
       "    .dataframe tbody tr th:only-of-type {\n",
       "        vertical-align: middle;\n",
       "    }\n",
       "\n",
       "    .dataframe tbody tr th {\n",
       "        vertical-align: top;\n",
       "    }\n",
       "\n",
       "    .dataframe thead th {\n",
       "        text-align: right;\n",
       "    }\n",
       "</style>\n",
       "<table border=\"1\" class=\"dataframe\">\n",
       "  <thead>\n",
       "    <tr style=\"text-align: right;\">\n",
       "      <th></th>\n",
       "      <th>subject_id</th>\n",
       "      <th>fev</th>\n",
       "      <th>sex</th>\n",
       "    </tr>\n",
       "  </thead>\n",
       "  <tbody>\n",
       "    <tr>\n",
       "      <th>1</th>\n",
       "      <td>1</td>\n",
       "      <td>2.30</td>\n",
       "      <td>0</td>\n",
       "    </tr>\n",
       "    <tr>\n",
       "      <th>2</th>\n",
       "      <td>2</td>\n",
       "      <td>2.15</td>\n",
       "      <td>1</td>\n",
       "    </tr>\n",
       "    <tr>\n",
       "      <th>3</th>\n",
       "      <td>3</td>\n",
       "      <td>3.50</td>\n",
       "      <td>1</td>\n",
       "    </tr>\n",
       "    <tr>\n",
       "      <th>4</th>\n",
       "      <td>4</td>\n",
       "      <td>2.60</td>\n",
       "      <td>0</td>\n",
       "    </tr>\n",
       "    <tr>\n",
       "      <th>5</th>\n",
       "      <td>5</td>\n",
       "      <td>2.75</td>\n",
       "      <td>0</td>\n",
       "    </tr>\n",
       "    <tr>\n",
       "      <th>...</th>\n",
       "      <td>...</td>\n",
       "      <td>...</td>\n",
       "      <td>...</td>\n",
       "    </tr>\n",
       "    <tr>\n",
       "      <th>9</th>\n",
       "      <td>9</td>\n",
       "      <td>2.68</td>\n",
       "      <td>0</td>\n",
       "    </tr>\n",
       "    <tr>\n",
       "      <th>10</th>\n",
       "      <td>10</td>\n",
       "      <td>3.00</td>\n",
       "      <td>1</td>\n",
       "    </tr>\n",
       "    <tr>\n",
       "      <th>11</th>\n",
       "      <td>11</td>\n",
       "      <td>4.02</td>\n",
       "      <td>1</td>\n",
       "    </tr>\n",
       "    <tr>\n",
       "      <th>12</th>\n",
       "      <td>12</td>\n",
       "      <td>2.85</td>\n",
       "      <td>1</td>\n",
       "    </tr>\n",
       "    <tr>\n",
       "      <th>13</th>\n",
       "      <td>13</td>\n",
       "      <td>3.38</td>\n",
       "      <td>0</td>\n",
       "    </tr>\n",
       "  </tbody>\n",
       "</table>\n",
       "<p>13 rows × 3 columns</p>\n",
       "</div>"
      ],
      "text/plain": [
       "    subject_id   fev  sex\n",
       "1            1  2.30    0\n",
       "2            2  2.15    1\n",
       "3            3  3.50    1\n",
       "4            4  2.60    0\n",
       "5            5  2.75    0\n",
       "..         ...   ...  ...\n",
       "9            9  2.68    0\n",
       "10          10  3.00    1\n",
       "11          11  4.02    1\n",
       "12          12  2.85    1\n",
       "13          13  3.38    0\n",
       "\n",
       "[13 rows x 3 columns]"
      ]
     },
     "metadata": {},
     "output_type": "display_data"
    }
   ],
   "source": [
    "# Example 1: Read data file and create Pandas DataFrame\n",
    "\n",
    "import pandas as pd\n",
    "\n",
    "# Read the datafile \n",
    "asthmaDF = pd.read_csv(\n",
    "    \"https://biologicslab.co/BIO5853/data/asthma.csv\",\n",
    "    index_col=0,\n",
    "    na_values=['NA','?'])\n",
    "\n",
    "# Set max rows and max columns\n",
    "pd.set_option('display.max_rows', 10)\n",
    "pd.set_option('display.max_columns', 8) \n",
    "\n",
    "# Display DataFrame\n",
    "display(asthmaDF)"
   ]
  },
  {
   "cell_type": "code",
   "execution_count": null,
   "metadata": {},
   "outputs": [],
   "source": []
  },
  {
   "cell_type": "code",
   "execution_count": 20,
   "metadata": {},
   "outputs": [
    {
     "name": "stdout",
     "output_type": "stream",
     "text": [
      "fev    0.78\n",
      "sex    1.00\n",
      "dtype: float64\n"
     ]
    }
   ],
   "source": [
    "# Define a function to calculate IQR\n",
    "def find_iqr(x):\n",
    "    return np.subtract(*np.percentile(x, [75, 25]))\n",
    "\n",
    "# Calculate IQR for 'fev' and 'sex' columns\n",
    "iqr_col = asthmaDF[['fev', 'sex']].apply(find_iqr)\n",
    "\n",
    "# Print\n",
    "print(iqr_col)"
   ]
  },
  {
   "cell_type": "markdown",
   "metadata": {},
   "source": [
    "## **Variance and Standard Deviation**"
   ]
  },
  {
   "cell_type": "markdown",
   "metadata": {},
   "source": [
    "Variance\n",
    "\n",
    "\n",
    "$$  s^2 =  \\frac{1}{2n(n-1)} \\sum_{i=1}^{n} \\sum_{j=1, j\\not = i}^{n} (x_i - x_j)^2   $$"
   ]
  },
  {
   "cell_type": "code",
   "execution_count": 21,
   "metadata": {
    "scrolled": true
   },
   "outputs": [
    {
     "data": {
      "text/html": [
       "<div>\n",
       "<style scoped>\n",
       "    .dataframe tbody tr th:only-of-type {\n",
       "        vertical-align: middle;\n",
       "    }\n",
       "\n",
       "    .dataframe tbody tr th {\n",
       "        vertical-align: top;\n",
       "    }\n",
       "\n",
       "    .dataframe thead th {\n",
       "        text-align: right;\n",
       "    }\n",
       "</style>\n",
       "<table border=\"1\" class=\"dataframe\">\n",
       "  <thead>\n",
       "    <tr style=\"text-align: right;\">\n",
       "      <th></th>\n",
       "      <th>center</th>\n",
       "      <th>fev1</th>\n",
       "    </tr>\n",
       "  </thead>\n",
       "  <tbody>\n",
       "    <tr>\n",
       "      <th>1</th>\n",
       "      <td>1</td>\n",
       "      <td>3.23</td>\n",
       "    </tr>\n",
       "    <tr>\n",
       "      <th>2</th>\n",
       "      <td>1</td>\n",
       "      <td>3.47</td>\n",
       "    </tr>\n",
       "    <tr>\n",
       "      <th>3</th>\n",
       "      <td>1</td>\n",
       "      <td>1.86</td>\n",
       "    </tr>\n",
       "    <tr>\n",
       "      <th>...</th>\n",
       "      <td>...</td>\n",
       "      <td>...</td>\n",
       "    </tr>\n",
       "    <tr>\n",
       "      <th>58</th>\n",
       "      <td>3</td>\n",
       "      <td>2.43</td>\n",
       "    </tr>\n",
       "    <tr>\n",
       "      <th>59</th>\n",
       "      <td>3</td>\n",
       "      <td>3.20</td>\n",
       "    </tr>\n",
       "    <tr>\n",
       "      <th>60</th>\n",
       "      <td>3</td>\n",
       "      <td>3.53</td>\n",
       "    </tr>\n",
       "  </tbody>\n",
       "</table>\n",
       "<p>60 rows × 2 columns</p>\n",
       "</div>"
      ],
      "text/plain": [
       "    center  fev1\n",
       "1        1  3.23\n",
       "2        1  3.47\n",
       "3        1  1.86\n",
       "..     ...   ...\n",
       "58       3  2.43\n",
       "59       3  3.20\n",
       "60       3  3.53\n",
       "\n",
       "[60 rows x 2 columns]"
      ]
     },
     "metadata": {},
     "output_type": "display_data"
    }
   ],
   "source": [
    "# Example 1: Read data file and create Pandas DataFrame\n",
    "\n",
    "import pandas as pd\n",
    "\n",
    "# Read the datafile \n",
    "cvDF = pd.read_csv(\n",
    "    \"https://biologicslab.co/BIO5853/data/centers_fev1.csv\",\n",
    "    index_col=0,\n",
    "    na_values=['NA','?'])\n",
    "\n",
    "# Set max rows and max columns\n",
    "pd.set_option('display.max_rows', 6)\n",
    "pd.set_option('display.max_columns', 6) \n",
    "\n",
    "# Display DataFrame\n",
    "display(cvDF)"
   ]
  },
  {
   "cell_type": "code",
   "execution_count": null,
   "metadata": {},
   "outputs": [],
   "source": []
  },
  {
   "cell_type": "code",
   "execution_count": null,
   "metadata": {},
   "outputs": [],
   "source": []
  },
  {
   "cell_type": "code",
   "execution_count": 22,
   "metadata": {},
   "outputs": [
    {
     "name": "stdout",
     "output_type": "stream",
     "text": [
      "The mean FEV1 is 2.83 liters\n"
     ]
    }
   ],
   "source": [
    "# Mean\n",
    "\n",
    "import statistics\n",
    "\n",
    "x = cvDF.fev1\n",
    "\n",
    "mean_x=statistics.mean(x)\n",
    "\n",
    "print(f\"The mean FEV1 is {mean_x:.2f} liters\")\n"
   ]
  },
  {
   "cell_type": "code",
   "execution_count": 23,
   "metadata": {},
   "outputs": [
    {
     "ename": "NameError",
     "evalue": "name 'xbar' is not defined",
     "output_type": "error",
     "traceback": [
      "\u001b[1;31m---------------------------------------------------------------------------\u001b[0m",
      "\u001b[1;31mNameError\u001b[0m                                 Traceback (most recent call last)",
      "Cell \u001b[1;32mIn[23], line 1\u001b[0m\n\u001b[1;32m----> 1\u001b[0m x_error \u001b[38;5;241m=\u001b[39m x \u001b[38;5;241m-\u001b[39m xbar\n\u001b[0;32m      2\u001b[0m \u001b[38;5;28mprint\u001b[39m(x_error)\n",
      "\u001b[1;31mNameError\u001b[0m: name 'xbar' is not defined"
     ]
    }
   ],
   "source": [
    "x_error = x - xbar\n",
    "print(x_error)"
   ]
  },
  {
   "cell_type": "code",
   "execution_count": 24,
   "metadata": {},
   "outputs": [
    {
     "ename": "NameError",
     "evalue": "name 'x_error' is not defined",
     "output_type": "error",
     "traceback": [
      "\u001b[1;31m---------------------------------------------------------------------------\u001b[0m",
      "\u001b[1;31mNameError\u001b[0m                                 Traceback (most recent call last)",
      "Cell \u001b[1;32mIn[24], line 4\u001b[0m\n\u001b[0;32m      1\u001b[0m \u001b[38;5;66;03m# Add up all the error terms \u001b[39;00m\n\u001b[0;32m      2\u001b[0m \n\u001b[0;32m      3\u001b[0m \u001b[38;5;66;03m# Compute 'manually'\u001b[39;00m\n\u001b[1;32m----> 4\u001b[0m sum_total_error\u001b[38;5;241m=\u001b[39m \u001b[38;5;28msum\u001b[39m(x_error) \n\u001b[0;32m      6\u001b[0m \u001b[38;5;28mprint\u001b[39m(\u001b[38;5;124mf\u001b[39m\u001b[38;5;124m\"\u001b[39m\u001b[38;5;124mThe sum of all the errors is \u001b[39m\u001b[38;5;132;01m{\u001b[39;00msum_total_error\u001b[38;5;132;01m:\u001b[39;00m\u001b[38;5;124m.2f\u001b[39m\u001b[38;5;132;01m}\u001b[39;00m\u001b[38;5;124m\"\u001b[39m)\n",
      "\u001b[1;31mNameError\u001b[0m: name 'x_error' is not defined"
     ]
    }
   ],
   "source": [
    "# Add up all the error terms \n",
    "\n",
    "# Compute 'manually'\n",
    "sum_total_error= sum(x_error) \n",
    "\n",
    "print(f\"The sum of all the errors is {sum_total_error:.2f}\")"
   ]
  },
  {
   "cell_type": "code",
   "execution_count": null,
   "metadata": {},
   "outputs": [],
   "source": [
    "# Compute list of squared errors \n",
    "\n",
    "# Compute each value\n",
    "x_error_sq=(x - xbar)**2\n",
    "\n",
    "# Print result\n",
    "print(\"The list of squared errors computed 'manually':\")\n",
    "print(x_error_sq)"
   ]
  },
  {
   "cell_type": "code",
   "execution_count": null,
   "metadata": {},
   "outputs": [],
   "source": [
    "# Compute variance 'manually'\n",
    "\n",
    "# Equation for variance\n",
    "var_x=sum(x_error_sq)/len(x_error_sq)\n",
    "\n",
    "# Print result\n",
    "print(f\"The variance computed 'manually' is {var_x:.2f}\")\n"
   ]
  },
  {
   "cell_type": "code",
   "execution_count": null,
   "metadata": {},
   "outputs": [],
   "source": [
    "# Compute variance with a statistics package\n",
    "\n",
    "import statistics\n",
    "\n",
    "# Assign x to be fev1\n",
    "x = cvDF.fev1\n",
    "\n",
    "# Calculate the variance\n",
    "variance_x = statistics.variance(x)\n",
    "\n",
    "# Print the result\n",
    "print(f\"The variance computed with a statistics package is {variance_x:.2f}\")"
   ]
  },
  {
   "cell_type": "markdown",
   "metadata": {},
   "source": [
    "## **Standard Deviation**"
   ]
  },
  {
   "cell_type": "markdown",
   "metadata": {},
   "source": [
    "Standard Deviation\n",
    "\n",
    "\n",
    "$$ s = \\sqrt{s^2} = \\sqrt{ \\frac{1}{(n-1)} \\sum_{i=1}^{n} (x_i - \\overline{x})^2 }   $$"
   ]
  },
  {
   "cell_type": "code",
   "execution_count": null,
   "metadata": {},
   "outputs": [],
   "source": [
    "# Compute the standard deviation 'manually'\n",
    "\n",
    "import math\n",
    "\n",
    "# Take the square root of the variance\n",
    "sd_x=math.sqrt(var_x)\n",
    "\n",
    "# Print the result\n",
    "print(f\"The standard deviation computed 'manually' is {sd_x:.2f}\")"
   ]
  },
  {
   "cell_type": "code",
   "execution_count": null,
   "metadata": {},
   "outputs": [],
   "source": [
    "# Compute the standard deviation using a statistics package\n",
    "\n",
    "import statistics\n",
    "\n",
    "# Calculate the standard deviation\n",
    "std_deviation_x = statistics.stdev(x)\n",
    "\n",
    "# Print the result\n",
    "print(f\"The standard deviation computed with a statistics package is {std_deviation_x:.2f}\")"
   ]
  },
  {
   "cell_type": "markdown",
   "metadata": {},
   "source": [
    "### **Empirical Rule**"
   ]
  },
  {
   "cell_type": "code",
   "execution_count": null,
   "metadata": {},
   "outputs": [],
   "source": []
  },
  {
   "cell_type": "code",
   "execution_count": null,
   "metadata": {},
   "outputs": [],
   "source": []
  },
  {
   "cell_type": "code",
   "execution_count": null,
   "metadata": {
    "scrolled": true
   },
   "outputs": [],
   "source": [
    "# Example 1: Read data file and create Pandas DataFrame\n",
    "\n",
    "import pandas as pd\n",
    "\n",
    "# Read the datafile \n",
    "cholDF = pd.read_csv(\n",
    "    \"https://biologicslab.co/BIO5853/data/cholesterol.csv\",\n",
    "   # index_col=0,\n",
    "    na_values=['NA','?'])\n",
    "\n",
    "# Set max rows and max columns\n",
    "pd.set_option('display.max_rows', 20)\n",
    "pd.set_option('display.max_columns', 10) \n",
    "\n",
    "# Display DataFrame\n",
    "display(cholDF)"
   ]
  },
  {
   "cell_type": "code",
   "execution_count": null,
   "metadata": {},
   "outputs": [],
   "source": [
    "print(x)"
   ]
  },
  {
   "cell_type": "code",
   "execution_count": null,
   "metadata": {},
   "outputs": [],
   "source": [
    "\n",
    "import matplotlib.pyplot as plt\n",
    "\n",
    "x=cholDF.totalchol\n",
    "\n",
    "# the histogram of the data\n",
    "n, bins, patches = plt.hist(x, 12, density=False, \n",
    "                            facecolor='#15466d',\n",
    "                            edgecolor=\"white\",\n",
    "                            alpha=1.0)\n",
    "\n",
    "\n",
    "plt.xlabel('Total Cholesterol (mg/dL)')\n",
    "plt.ylabel('Number of subjects')\n",
    "plt.title('FIGURE 2.16')\n",
    "plt.xlim(0, 500)\n",
    "plt.ylim(0, 1200)\n",
    "plt.grid(False)\n",
    "plt.show()"
   ]
  },
  {
   "cell_type": "code",
   "execution_count": null,
   "metadata": {},
   "outputs": [],
   "source": []
  },
  {
   "cell_type": "code",
   "execution_count": null,
   "metadata": {
    "scrolled": true
   },
   "outputs": [],
   "source": [
    "# Example 1: Read data file and create Pandas DataFrame\n",
    "\n",
    "import pandas as pd\n",
    "\n",
    "# Read the datafile \n",
    "cigsDF = pd.read_csv(\n",
    "    \"https://biologicslab.co/BIO5853/data/number_cigs.csv\",\n",
    "    index_col=0,\n",
    "    na_values=['NA','?'])\n",
    "\n",
    "# Set max rows and max columns\n",
    "pd.set_option('display.max_rows', 20)\n",
    "pd.set_option('display.max_columns', 10) \n",
    "\n",
    "# Display DataFrame\n",
    "display(cigsDF)"
   ]
  },
  {
   "cell_type": "code",
   "execution_count": null,
   "metadata": {},
   "outputs": [],
   "source": [
    "\n",
    "import matplotlib.pyplot as plt\n",
    "\n",
    "x=cigsDF.cigpday1\n",
    "\n",
    "# the histogram of the data\n",
    "n, bins, patches = plt.hist(x, 12, density=False, \n",
    "                            facecolor='#15466d',\n",
    "                            edgecolor=\"white\",\n",
    "                            alpha=1.0)\n",
    "\n",
    "\n",
    "plt.xlabel('Number of cigarettes smoked per day')\n",
    "plt.ylabel('Number of subjects')\n",
    "plt.title('FIGURE 2.17')\n",
    "plt.xlim(-5, 50)\n",
    "plt.ylim(-100, 3000)\n",
    "plt.grid(False)\n",
    "plt.show()"
   ]
  },
  {
   "cell_type": "code",
   "execution_count": null,
   "metadata": {},
   "outputs": [],
   "source": []
  },
  {
   "cell_type": "code",
   "execution_count": null,
   "metadata": {},
   "outputs": [],
   "source": []
  },
  {
   "cell_type": "code",
   "execution_count": null,
   "metadata": {},
   "outputs": [],
   "source": []
  },
  {
   "cell_type": "code",
   "execution_count": null,
   "metadata": {},
   "outputs": [],
   "source": []
  },
  {
   "cell_type": "code",
   "execution_count": null,
   "metadata": {
    "scrolled": true
   },
   "outputs": [],
   "source": [
    "# Example 1: Read data file and create Pandas DataFrame\n",
    "\n",
    "import pandas as pd\n",
    "\n",
    "# Read the datafile \n",
    "shootDF = pd.read_csv(\n",
    "    \"https://biologicslab.co/BIO5853/data/mass_shootings.csv\",\n",
    "    index_col=0,\n",
    "    na_values=['NA','?'])\n",
    "\n",
    "# Set max rows and max columns\n",
    "pd.set_option('display.max_rows', 20)\n",
    "pd.set_option('display.max_columns', 10) \n",
    "\n",
    "# Display DataFrame\n",
    "display(shootDF)"
   ]
  },
  {
   "cell_type": "code",
   "execution_count": null,
   "metadata": {
    "scrolled": true
   },
   "outputs": [],
   "source": [
    "# Figure 2.18\n",
    "\n",
    "import matplotlib.pyplot as plt\n",
    "\n",
    "# Assign x\n",
    "x=shootDF.fatalities\n",
    "\n",
    "# Plot histogram of the data\n",
    "n, bins, patches = plt.hist(x, 130, density=False, \n",
    "                            facecolor='k',\n",
    "                            alpha=1.0)\n",
    "\n",
    "plt.xlabel('Number of fatalities')\n",
    "plt.ylabel('Number of shootings')\n",
    "plt.title('FIGURE 2.17')\n",
    "plt.xlim(-5, 150)\n",
    "plt.ylim(-1, 20)\n",
    "plt.grid(False)\n",
    "plt.show()"
   ]
  },
  {
   "cell_type": "code",
   "execution_count": null,
   "metadata": {},
   "outputs": [],
   "source": []
  },
  {
   "cell_type": "code",
   "execution_count": null,
   "metadata": {},
   "outputs": [],
   "source": []
  },
  {
   "cell_type": "code",
   "execution_count": null,
   "metadata": {
    "scrolled": true
   },
   "outputs": [],
   "source": [
    "# Example 1: Read data file and create Pandas DataFrame\n",
    "\n",
    "import pandas as pd\n",
    "\n",
    "# Read the datafile \n",
    "deathsDF = pd.read_csv(\n",
    "    \"https://biologicslab.co/BIO5853/data/injury_death.csv\",\n",
    "    index_col=0,\n",
    "    na_values=['NA','?'])\n",
    "\n",
    "# Set max rows and max columns\n",
    "pd.set_option('display.max_rows', 20)\n",
    "pd.set_option('display.max_columns', 10) \n",
    "\n",
    "# Display DataFrame\n",
    "display(deathsDF)"
   ]
  },
  {
   "cell_type": "code",
   "execution_count": null,
   "metadata": {},
   "outputs": [],
   "source": [
    "# Figure 2.18\n",
    "\n",
    "import matplotlib.pyplot as plt\n",
    "\n",
    "# Assign x\n",
    "x=deathsDF.cause\n",
    "\n",
    "# Plot histogram of the data\n",
    "n, bins, patches = plt.hist(x, 5, density=False, \n",
    "                            facecolor='#15466d',\n",
    "                            edgecolor=\"white\",\n",
    "                            alpha=1.0)\n",
    "\n",
    "plt.xlabel('Number of fatalities')\n",
    "plt.ylabel('Number of injury deaths')\n",
    "plt.title('FIGURE 2.19')\n",
    "plt.xlim(0.5, 5)\n",
    "plt.ylim(-1, 60)\n",
    "plt.grid(False)\n",
    "plt.show()"
   ]
  },
  {
   "cell_type": "code",
   "execution_count": null,
   "metadata": {},
   "outputs": [],
   "source": []
  },
  {
   "cell_type": "code",
   "execution_count": null,
   "metadata": {},
   "outputs": [],
   "source": []
  },
  {
   "cell_type": "code",
   "execution_count": null,
   "metadata": {
    "scrolled": true
   },
   "outputs": [],
   "source": [
    "# Example 1: Read data file and create Pandas DataFrame\n",
    "\n",
    "import pandas as pd\n",
    "\n",
    "# Read the datafile \n",
    "bwDF = pd.read_csv(\n",
    "    \"https://biologicslab.co/BIO5853/data/birthweight.csv\",\n",
    "    index_col=0,\n",
    "    na_values=['NA','?'])\n",
    "\n",
    "# Set max rows and max columns\n",
    "pd.set_option('display.max_rows', 20)\n",
    "pd.set_option('display.max_columns', 10) \n",
    "\n",
    "# Display DataFrame\n",
    "display(bwDF)"
   ]
  },
  {
   "cell_type": "code",
   "execution_count": null,
   "metadata": {},
   "outputs": [],
   "source": [
    "print(y)"
   ]
  },
  {
   "cell_type": "code",
   "execution_count": null,
   "metadata": {},
   "outputs": [],
   "source": []
  },
  {
   "cell_type": "code",
   "execution_count": null,
   "metadata": {},
   "outputs": [],
   "source": []
  },
  {
   "cell_type": "code",
   "execution_count": null,
   "metadata": {},
   "outputs": [],
   "source": [
    "import matplotlib.pyplot as plt\n",
    "# \n",
    "x = bwDF.midpoint\n",
    "y = (bwDF.freq)*100\n",
    "\n",
    "# plot\n",
    "fig, ax = plt.subplots()\n",
    "\n",
    "ax.bar(x, y, width=480, edgecolor=\"white\",\n",
    "       color='#294171',\n",
    "       linewidth=0.7)\n",
    "\n",
    "#ax.set_xlabel('Length (mm)')\n",
    "ax.set_xlabel(\"Birth weight (grams)\")\n",
    "ax.set_ylabel(\"Relative frequency of infants (%)\")\n",
    "\n",
    "ax.set_title(\"FIGURE 2.20\")\n",
    "ax.set_xticks(x)\n",
    "\n",
    "ax.set(xlim=(-100, 6000),\n",
    "       ylim=(-1, 42))\n",
    "\n",
    "plt.figure(figsize=(12,10))\n",
    "plt.show()"
   ]
  },
  {
   "cell_type": "code",
   "execution_count": null,
   "metadata": {},
   "outputs": [],
   "source": []
  },
  {
   "cell_type": "code",
   "execution_count": null,
   "metadata": {},
   "outputs": [],
   "source": []
  },
  {
   "cell_type": "code",
   "execution_count": null,
   "metadata": {
    "scrolled": true
   },
   "outputs": [],
   "source": [
    "# Example 1: Read data file and create Pandas DataFrame\n",
    "\n",
    "import pandas as pd\n",
    "\n",
    "# Read the datafile \n",
    "hcDF = pd.read_csv(\n",
    "    \"https://biologicslab.co/BIO5853/data/hc_expenditures.csv\",\n",
    "    index_col=0,\n",
    "    na_values=['NA','?'])\n",
    "\n",
    "# Set max rows and max columns\n",
    "pd.set_option('display.max_rows', 20)\n",
    "pd.set_option('display.max_columns', 10) \n",
    "\n",
    "# Display DataFrame\n",
    "display(hcDF)"
   ]
  },
  {
   "cell_type": "code",
   "execution_count": null,
   "metadata": {},
   "outputs": [],
   "source": [
    "# Figure 2.7\n",
    "\n",
    "import matplotlib.pyplot as plt\n",
    "\n",
    "fig, ax = plt.subplots(nrows=1, ncols=1, figsize=(4, 4))\n",
    "\n",
    "x=hcDF.per_capita\n",
    "colors =['#919eb6']\n",
    "\n",
    "\n",
    "flierprops = dict(marker='o', markerfacecolor='black', markersize=6,\n",
    "                  markeredgecolor='none')\n",
    "medianprops = dict(linestyle='-', linewidth=1.0, color='black')\n",
    "\n",
    "# plot box plot\n",
    "bplot=ax.boxplot(x, notch=False,\n",
    "           flierprops=flierprops,\n",
    "           medianprops=medianprops,\n",
    "           patch_artist=True,\n",
    "           widths=0.6)\n",
    "\n",
    "\n",
    "ax.flierprops = dict(marker='o', markerfacecolor='black', markersize=8,\n",
    "                  linestyle='none')\n",
    "\n",
    "ax.set_title('FIGURE 2.21')\n",
    "\n",
    "# fill with colors\n",
    "for patch, color in zip(bplot['boxes'], colors):\n",
    "    patch.set_facecolor(color)\n",
    "\n",
    "ax.set_xticks([])\n",
    "ax.set(ylim=(0, 12000))\n",
    "ax.set_xlabel('')\n",
    "ax.set_ylabel('Percapita Expenditure on Health Care')\n",
    "\n",
    "plt.show()"
   ]
  },
  {
   "cell_type": "code",
   "execution_count": null,
   "metadata": {},
   "outputs": [],
   "source": []
  },
  {
   "cell_type": "code",
   "execution_count": null,
   "metadata": {},
   "outputs": [],
   "source": []
  },
  {
   "cell_type": "code",
   "execution_count": null,
   "metadata": {
    "scrolled": true
   },
   "outputs": [],
   "source": [
    "# Example 1: Read data file and create Pandas DataFrame\n",
    "\n",
    "import pandas as pd\n",
    "\n",
    "# Read the datafile \n",
    "cig_yrDF = pd.read_csv(\n",
    "    \"https://biologicslab.co/BIO5853/data/cigarettes_per_year.csv\",\n",
    "    index_col=0,\n",
    "    na_values=['NA','?'])\n",
    "\n",
    "# Set max rows and max columns\n",
    "pd.set_option('display.max_rows', 20)\n",
    "pd.set_option('display.max_columns', 10) \n",
    "\n",
    "# Display DataFrame\n",
    "display(cig_yrDF)"
   ]
  },
  {
   "cell_type": "code",
   "execution_count": null,
   "metadata": {},
   "outputs": [],
   "source": []
  },
  {
   "cell_type": "code",
   "execution_count": null,
   "metadata": {},
   "outputs": [],
   "source": [
    "# Figure 2.10\n",
    "\n",
    "import matplotlib.pyplot as plt\n",
    "\n",
    "# Assign x and y\n",
    "x=cig_yrDF.year\n",
    "y=cig_yrDF.number\n",
    "\n",
    "fig, ax = plt.subplots()\n",
    "\n",
    "# Plot line graph\n",
    "plt.plot(x,y,c='k')\n",
    "\n",
    "# Set properties\n",
    "ax.set(xlim=(1900,2012))\n",
    "ax.set_xlabel('Year')\n",
    "ax.set_ylabel('Percapita Number of Cigarettes Smoked per Year')\n",
    "ax.set_title(\"FIGURE 2.22\")\n",
    "\n",
    "# Show plot\n",
    "plt.show()"
   ]
  },
  {
   "cell_type": "code",
   "execution_count": null,
   "metadata": {},
   "outputs": [],
   "source": []
  },
  {
   "cell_type": "code",
   "execution_count": null,
   "metadata": {},
   "outputs": [],
   "source": []
  },
  {
   "cell_type": "code",
   "execution_count": null,
   "metadata": {},
   "outputs": [],
   "source": [
    "#\n",
    "\n",
    "import numpy as np\n",
    "\n",
    "data = np.array([[167, 150, 125, 120, \n",
    "                  150, 150, 40, \n",
    "                  136, 120, 150]])\n",
    "hrDF = pd.DataFrame(data)\n",
    "\n",
    "# Display DataFrame\n",
    "display(hrDF)"
   ]
  },
  {
   "cell_type": "code",
   "execution_count": null,
   "metadata": {},
   "outputs": [],
   "source": [
    "import pandas as pd\n",
    "\n",
    "# Create a new DataFrame\n",
    "data = {\n",
    "    'Patient': ['1', '2', '3', '4', '5', '6', '7', '8', '9', '10'],\n",
    "    'HeartRate': [167, 150, 125, 120, 150, 150, 40, 136, 120, 150]\n",
    "\n",
    "}\n",
    "\n",
    "hrDF = pd.DataFrame(data)\n",
    "\n",
    "# Print the DataFrame\n",
    "display(hrDF)"
   ]
  },
  {
   "cell_type": "code",
   "execution_count": null,
   "metadata": {},
   "outputs": [],
   "source": [
    "# Figure 2.7\n",
    "\n",
    "import matplotlib.pyplot as plt\n",
    "\n",
    "fig, ax = plt.subplots(nrows=1, ncols=1, figsize=(4, 4))\n",
    "\n",
    "x=hrDF.HeartRate\n",
    "colors =['#919eb6']\n",
    "\n",
    "\n",
    "flierprops = dict(marker='o', markerfacecolor='black', markersize=6,\n",
    "                  markeredgecolor='none')\n",
    "medianprops = dict(linestyle='-', linewidth=1.0, color='black')\n",
    "\n",
    "# plot box plot\n",
    "bplot=ax.boxplot(x, notch=False,\n",
    "           flierprops=flierprops,\n",
    "           medianprops=medianprops,\n",
    "           patch_artist=True,\n",
    "           widths=0.6)\n",
    "\n",
    "\n",
    "ax.flierprops = dict(marker='o', markerfacecolor='black', markersize=8,\n",
    "                  linestyle='none')\n",
    "\n",
    "ax.set_title('FIGURE 2.23')\n",
    "\n",
    "# fill with colors\n",
    "for patch, color in zip(bplot['boxes'], colors):\n",
    "    patch.set_facecolor(color)\n",
    "\n",
    "ax.set_xticks([])\n",
    "ax.set(ylim=(-10, 200))\n",
    "ax.set_xlabel('')\n",
    "ax.set_ylabel('Heart Rate (beats per minute)')\n",
    "\n",
    "plt.show()"
   ]
  },
  {
   "cell_type": "code",
   "execution_count": null,
   "metadata": {},
   "outputs": [],
   "source": [
    "hrDF.describe()"
   ]
  },
  {
   "cell_type": "code",
   "execution_count": null,
   "metadata": {},
   "outputs": [],
   "source": []
  }
 ],
 "metadata": {
  "kernelspec": {
   "display_name": "Python 3 (ipykernel)",
   "language": "python",
   "name": "python3"
  },
  "language_info": {
   "codemirror_mode": {
    "name": "ipython",
    "version": 3
   },
   "file_extension": ".py",
   "mimetype": "text/x-python",
   "name": "python",
   "nbconvert_exporter": "python",
   "pygments_lexer": "ipython3",
   "version": "3.11.5"
  }
 },
 "nbformat": 4,
 "nbformat_minor": 4
}
