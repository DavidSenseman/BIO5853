{
 "cells": [
  {
   "cell_type": "markdown",
   "metadata": {
    "id": "bLEEW13uCtiJ"
   },
   "source": [
    "<a href=\"https://colab.research.google.com/github/DavidSenseman/BIO5853/blob/master/Lesson_01_5.ipynb\" target=\"_parent\"><img src=\"https://colab.research.google.com/assets/colab-badge.svg\" alt=\"Open In Colab\"/></a>"
   ]
  },
  {
   "cell_type": "markdown",
   "metadata": {},
   "source": [
    "---------------------------\n",
    "**COPYRIGHT NOTICE:** This Jupyterlab Notebook is a Derivative work of [Jeff Heaton](https://github.com/jeffheaton) licensed under the Apache License, Version 2.0 (the \"License\"); You may not use this file except in compliance with the License. You may obtain a copy of the License at\n",
    "\n",
    "> [http://www.apache.org/licenses/LICENSE-2.0](http://www.apache.org/licenses/LICENSE-2.0)\n",
    "\n",
    "Unless required by applicable law or agreed to in writing, software distributed under the License is distributed on an \"AS IS\" BASIS, WITHOUT WARRANTIES OR CONDITIONS OF ANY KIND, either express or implied. See the License for the specific language governing permissions and limitations under the License.\n",
    "\n",
    "------------------------"
   ]
  },
  {
   "cell_type": "markdown",
   "metadata": {},
   "source": [
    "# **BIO5853: Biostatistics**"
   ]
  },
  {
   "cell_type": "markdown",
   "metadata": {},
   "source": [
    "## **Lesson_01_5: Numerical Summary Measures**"
   ]
  },
  {
   "cell_type": "markdown",
   "metadata": {},
   "source": [
    "##### **Module I: Variability**\n",
    "\n",
    "* Instructor: [David Senseman](mailto:David.Senseman@utsa.edu), [Department of Integrative Biology](https://sciences.utsa.edu/integrative-biology/), [UTSA](https://www.utsa.edu/)\n",
    "\n",
    "### Module 1 Material\n",
    "* Part 1.1: Getting Started with Google COLAB\n",
    "* Part 1.2: Python Basics 1 -- Syntax, Operators, Expressions\n",
    "* Part 1.3: Python Basics 2 -- Functions, Variables, Strings\n",
    "* Part 1.4: Python Basics 3 -- Charts\n",
    "* **Part 1.5: Python Basics 4 -- Numerical Summary Measures**"
   ]
  },
  {
   "cell_type": "markdown",
   "metadata": {
    "jp-MarkdownHeadingCollapsed": true,
    "tags": []
   },
   "source": [
    "#### In this assignment you will learn about:\n",
    "\n",
    "* Mean\n",
    "* Median\n",
    "* Mode\n",
    "* Range\n",
    "* IQR\n",
    "* Variance"
   ]
  },
  {
   "cell_type": "markdown",
   "metadata": {
    "id": "yKQylnEiLDUM"
   },
   "source": [
    "### Google CoLab Instructions\n",
    "\n",
    "The following code will map your GDrive to ```/content/drive``` and print out your Google GMAIL address."
   ]
  },
  {
   "cell_type": "code",
   "execution_count": null,
   "metadata": {
    "colab": {
     "base_uri": "https://localhost:8080/"
    },
    "id": "seXFCYH4LDUM",
    "outputId": "c05015aa-871e-4779-9265-5ad07e8bf617",
    "scrolled": true
   },
   "outputs": [],
   "source": [
    "# You must run this cell second\n",
    "try:\n",
    "    from google.colab import drive\n",
    "    drive.mount('/content/drive', force_remount=True)\n",
    "    from google.colab import auth\n",
    "    auth.authenticate_user()\n",
    "    COLAB = True\n",
    "    print(\"Note: using Google CoLab\")\n",
    "    %tensorflow_version 2.x\n",
    "    import requests\n",
    "    gcloud_token = !gcloud auth print-access-token\n",
    "    gcloud_tokeninfo = requests.get('https://www.googleapis.com/oauth2/v3/tokeninfo?access_token=' + gcloud_token[0]).json()\n",
    "    print(gcloud_tokeninfo['email'])\n",
    "except:\n",
    "    print(\"Note: not using Google CoLab\")\n",
    "    COLAB = False"
   ]
  },
  {
   "cell_type": "markdown",
   "metadata": {},
   "source": [
    "## **Numerical Summary Measures**\n",
    "\n",
    "This lesson follows Chapter 2.4 in your textbook, starting on page 34."
   ]
  },
  {
   "cell_type": "markdown",
   "metadata": {
    "jp-MarkdownHeadingCollapsed": true
   },
   "source": [
    "### **Mean**\n",
    "\n",
    "The mean (also known as the average) summarizes an entire dataset with a single number representing its center point or typical value. To find the mean, simply add all the values and divide by the number of observations. The formula for the mean is:\n",
    "\n",
    "$$ \\overline{X} = \\frac{1}{n} \\sum_{n=1}^{n} X_i $$\n",
    "\n",
    "Here:\n",
    "\n",
    "$x_i$ represents each value in the dataset and $n$ is the total number of values."
   ]
  },
  {
   "cell_type": "markdown",
   "metadata": {},
   "source": [
    "## Example 1: Calculate mean \n",
    "\n",
    "Example 1 is divided into steps to make learning the Python code easier. \n",
    "\n",
    "In Example 1A, we demonstrate how to use the **_Pandas_** package to read a datafile from an internet website and creating a datatype known as a **_DataFrame_**. We will use this code example throughout this course in nearly every lesson. "
   ]
  },
  {
   "cell_type": "markdown",
   "metadata": {},
   "source": [
    "---------------------------\n",
    "\n",
    "### File handling with _Pandas_\n",
    "\n",
    "**_Pandas_** is frequently used in Python programs to read unformated text file. File handling using Pandas typically involves reading in data from a file into a Pandas **_DataFrame_** using the `pd.read_csv(filename)` function. This function can be used to read in data from a variety of sources including CSV files, Excel files, HTML tables, and other formats. \n",
    "\n",
    "The function's name refers to a particularily common file type called a CSV (Comma Separated Values) file. In this file type, a comma **`,`** is used as the **_delimiter_** value, to **separate** one data value from another. \n",
    "\n",
    "--------------------------\n",
    " "
   ]
  },
  {
   "cell_type": "markdown",
   "metadata": {},
   "source": [
    "### Example 1A: Read Datafile\n",
    "\n",
    "The code in the cell below uses the Pandas function `pd.read_csv(filename)` to read the data file `pima.csv` stored on the course HTTPS server https://biologicslab.co. As the file is read, it is stored in a Pandas DataFrame called `pimaDF`. \n",
    "\n",
    "The code begins by \"importing\" the Pandas function and assigning it the alias `pd`. \n",
    "\n",
    "After the file is read and the DataFrame is created, we use the Python function `display()` to print out a portion of our new DataFrame to make sure it was read correctly. The code in the cell below shows how to use this method with the data stores in `pimaDF`. The `display()` function allows you to control the maximum rows and columns to print. This is useful since many datasets sets have large numbers of rows and columns which can be difficult to print to your computer screen. The code below sets the maximumn number of rows and columns to `6`. "
   ]
  },
  {
   "cell_type": "code",
   "execution_count": null,
   "metadata": {
    "scrolled": true
   },
   "outputs": [],
   "source": [
    "# Example 1A: Read datafile\n",
    "\n",
    "import pandas as pd\n",
    "\n",
    "# Read the datafile \n",
    "pimaDF = pd.read_csv(\n",
    "    \"https://biologicslab.co/BIO5853/data/pima.csv\",\n",
    "   # index_col=0,\n",
    "    na_values=['NA','?'])\n",
    "\n",
    "# Set max rows and max columns\n",
    "pd.set_option('display.max_rows', 6)\n",
    "pd.set_option('display.max_columns', 6) \n",
    "\n",
    "# Display DataFrame\n",
    "display(pimaDF)"
   ]
  },
  {
   "cell_type": "markdown",
   "metadata": {},
   "source": [
    "If you code is correct, you should see the following table.\n",
    "\n",
    "![____](https://biologicslab.co/BIO5853/images/Lesson_01_5/lesson_01_5_image01.png)"
   ]
  },
  {
   "cell_type": "markdown",
   "metadata": {},
   "source": [
    "As you can see from the last line of the above table, the `pimaDF` DataFrame contains 768 rows and 9 columns. Each  column contains the value for one of 9 items of clinical information as follows:\n",
    "\n",
    "* **Pregnancies:** Number of times pregnant\n",
    "* **Glucose:** Plasma glucose concentration a 2 hours in an oral glucose tolerance test\n",
    "* **BloodPressure:** Diastolic blood pressure (mm Hg)\n",
    "* **SkinThickness:** Triceps skin fold thickness (mm)\n",
    "* **Insulin:** 2-Hour serum insulin (mu U/ml)\n",
    "* **BMI:** Body mass index (weight in kg/(height in m)2)\n",
    "* **DiabetesPedigree:** Diabetes pedigree function\n",
    "* **Age: Age (years)**\n",
    "* **Outcome:** Diagnosed with Type II Diabetes (`0`= no, `1` = yes)\n",
    "\n",
    "Each row corresponds the data obtained for one subject in the dataset. In this example, the data were obtained from 768 women belonging to the Native American Indian tribe called the `Pima`. \n",
    "\n",
    "The Pima Indians are known for their high prevalence of Type 2 diabetes, making them an important population for studying and understanding the genetic and environmental factors that contribute to the development of diabetes. They have one of the highest rates of diabetes in the world, with some estimates suggesting that up to 50% of Pima adults have the disease."
   ]
  },
  {
   "cell_type": "markdown",
   "metadata": {},
   "source": [
    "### Example 1B: Compute Mean\n",
    "\n",
    "Now that we have our Pima Indian dataset in a Pandas DataFrame called `pimaDF`, we can use the Python package `statistics` to compute various summary statistics.\n",
    "\n",
    "For example, the code in the cell below, uses the `statistics` package to find the **_mean_** blood pressure of the 768 women in the Pima Indian dataset.  \n",
    "\n",
    "_Code Description:_\n",
    "\n",
    "The first step is to load any Python packages that will be needed for the computations. In Example 1B we will need to load (`import`) the package `statistics` as follows:\n",
    "\n",
    "~~~text\n",
    "import statistics\n",
    "~~~\n",
    "\n",
    "Since we only want to find the mean for the blood pressure values, we need a way to selectively **_extract_** these values from the `pimaDF` DataFrame. As you will see, there are several ways that this can be accomplished. One way is shown in the following code chunk: \n",
    "\n",
    "~~~text\n",
    "pimaDF.BloodPressure\n",
    "~~~\n",
    "\n",
    "To access the data in a specific DataFrame column, we can place a dot (**.**) after the DataFrame name, followed by the column name.\n",
    "\n",
    "**WARNING:** You must correctly enter the column name _exactly_ as it appears in the DataFrame, including capitalization or you will receive an error. \n",
    "\n",
    "The following code fragment uses this dot notation to creates a new variable called `BldPressure_dat` that contains only the numbers (values) in the blood pressure column:\n",
    "\n",
    "~~~text\n",
    "# Create data variable\n",
    "BldPressue_dat = pimaDF.BloodPressure\n",
    "~~~\n",
    "\n",
    "Once we have the blood pressures isolated, we can use the function `statistics.mean()` to compute the mean of the variable `BldPressure_dat` and store the result in a new variable called `BldPressure_mean`. \n",
    "\n",
    "~~~text\n",
    "# Compute mean\n",
    "BldPressure_mean=statistics.mean(BldPressure_dat)\n",
    "~~~\n",
    "\n",
    "The last step is to print out the results using Python's `f` print statement.\n",
    "\n",
    "~~~text\n",
    "# Print result\n",
    "print(f\"Blood pressure mean={BldPressure_mean:.2f} mmHg\")\n",
    "~~~"
   ]
  },
  {
   "cell_type": "code",
   "execution_count": null,
   "metadata": {},
   "outputs": [],
   "source": [
    "# Example 1B: Find mean\n",
    "\n",
    "import statistics\n",
    "\n",
    "# Create data variable\n",
    "BldPressure_dat = pimaDF.BloodPressure\n",
    "\n",
    "# Compute mean\n",
    "BldPressure_mean=statistics.mean(BldPressure_dat)\n",
    "\n",
    "# Print result\n",
    "print(f\"Blood pressure mean={BldPressure_mean:.2f} mmHg\")\n"
   ]
  },
  {
   "cell_type": "markdown",
   "metadata": {},
   "source": [
    "If the code is correct you should see the following output:\n",
    "\n",
    "~~~text\n",
    "Blood pressure mean=69.11 mmHg\n",
    "~~~"
   ]
  },
  {
   "cell_type": "markdown",
   "metadata": {},
   "source": [
    "### **Exercise 1A: Read Datafile**\n",
    "\n",
    "In the cell below, write the Python code to read the datafile `obesity_prediction.csv` stored on the course HTTPS server `https://biologicslab.co/BIO5853/data/`. As shown in Example 1A, use the Pandas function `pd.read_csv()` to read the datafile and store it in a new DataFrame called `obDF`. \n",
    "\n",
    "After the file is read and the DataFrame is created, use the Python function `display()` to print out a portion of your new DataFrame to make sure it was read correctly. Set the maximumn number of rows and columns to `6`. "
   ]
  },
  {
   "cell_type": "code",
   "execution_count": null,
   "metadata": {
    "scrolled": true
   },
   "outputs": [],
   "source": [
    "# Insert your code of Exercise 1A here\n",
    "\n"
   ]
  },
  {
   "cell_type": "markdown",
   "metadata": {},
   "source": [
    "If you code is correct, you should see the following table.\n",
    "\n",
    "![____](https://biologicslab.co/BIO5853/images/Lesson_01_5/lesson_01_5_image02.png)"
   ]
  },
  {
   "cell_type": "markdown",
   "metadata": {},
   "source": [
    "As you can see from the last line of the above table, the `obDF` DataFrame contains 1000 rows and 7 columns. Each  column contains the value for one of 7 items of clinical information for 1000 subjects as follows:\n",
    "\n",
    "1. **Age:** The age of the individual, expressed in years.\n",
    "2. **Gender:** The gender of the individual, categorized as male or female.\n",
    "3. **Height:** The height of the individual, typically measured in centimeters (cm).\n",
    "4. **Weight:** The weight of the individual, typically measured in kilograms (kg).\n",
    "5. **BMI:** A calculated metric derived from the individual's weight and height\n",
    "6. **PhysicalActivityLevel:** This variable quantifies the individual's level of physical activity\n",
    "7. **ObesityCategory:** Categorization of individuals based on their BMI into different obesity categories"
   ]
  },
  {
   "cell_type": "markdown",
   "metadata": {},
   "source": [
    "### **Exercise 1B: Compute Mean**\n",
    "\n",
    "In the cell below, use the Python packgage `statistics` to find the mean height of the men and women in the Obesity Prediction dataset. Store this value in a new variable called `Height_mean`.  \n",
    "\n",
    "Print out the value of your `Height` using Python's `f` print statement. Make sure to add the correct units (`cm`)."
   ]
  },
  {
   "cell_type": "code",
   "execution_count": null,
   "metadata": {},
   "outputs": [],
   "source": [
    "# Insert your code for Exercise 1B here\n",
    "\n",
    "\n"
   ]
  },
  {
   "cell_type": "markdown",
   "metadata": {},
   "source": [
    "If your code is correct you should see the following output:\n",
    "\n",
    "~~~text\n",
    "Height mean=170.05 cm\n",
    "~~~"
   ]
  },
  {
   "cell_type": "markdown",
   "metadata": {},
   "source": [
    "## **Median**\n",
    "\n",
    "The **_median_** is a measure of central tendency that represents the middle value in a dataset when it’s ordered from the highest to lowest value. It separates the lowest 50% from the highest 50% of values. Here’s how to find it manually:\n",
    "\n",
    "**Odd-numbered dataset:**\n",
    "\n",
    "* Order the values from low to high.\n",
    "* Calculate the middle position using the formula:\n",
    "\n",
    "$$ \\text{Middle position} = \\frac{n + 1}{2}$$\n",
    "where $n$ is the number of values.\n",
    "* The median is the value at the middle position.\n",
    "\n",
    "\n",
    "**Even-numbered dataset:**\n",
    "* Order the values.\n",
    "* Calculate the two middle positions using the formulas:\n",
    "\n",
    "$$\\text{Middle position 1} = \\frac{n}{2}$$  \n",
    "\n",
    "> and\n",
    "\n",
    "$$ \\text{Middle position 2} = \\frac{n}{2} + 1 $$\n",
    "\n",
    "* Find the two middle values.\n",
    "* Calculate the mean of these middle values to get the median.\n",
    "\n",
    "\n",
    "The median is especially useful when dealing with skewed data or outliers, as it’s less affected by extreme values compared to the mean. It provides a robust estimate of the central value in a dataset.\n"
   ]
  },
  {
   "cell_type": "markdown",
   "metadata": {},
   "source": [
    "### Example 2: Compute Median\n",
    "\n",
    "The Python code in the cell below again uses the `statistics` package, this time to compute the median blood pressure value for the Pima Indian dataset. The median value is stored in a new variable, `BldPressure_median`. \n",
    "\n",
    "The `f` print function is used to print out both the median value as well as the mean value calculate above in Example 1B.\n"
   ]
  },
  {
   "cell_type": "code",
   "execution_count": null,
   "metadata": {},
   "outputs": [],
   "source": [
    "# Example 2: Compute median\n",
    "\n",
    "import statistics\n",
    "\n",
    "# Create data variable\n",
    "BldPressue_dat = pimaDF.BloodPressure\n",
    "\n",
    "# Calculate median\n",
    "BldPressure_median = statistics.median(BldPressure_dat)\n",
    "\n",
    "# Print result\n",
    "print(f\"Blood pressure median={BldPressure_median:.2f} mmHg\")\n",
    "print(f\"Blood pressure mean={BldPressure_mean:.2f} mmHg\")"
   ]
  },
  {
   "cell_type": "markdown",
   "metadata": {},
   "source": [
    "If the code is correct, you should see the following output:\n",
    "\n",
    "~~~text\n",
    "Blood pressure median=72.00 mmHg\n",
    "Blood pressure mean=69.11 mmHg\n",
    "~~~"
   ]
  },
  {
   "cell_type": "markdown",
   "metadata": {},
   "source": [
    "As you can see the values for the median and the mean blood pressure are similar, but _not_ identical. This indicates that the blood pressures in the Pima Indian dataset is somewhat \"left skewed\"--a concept that we will explore later in this lesson. "
   ]
  },
  {
   "cell_type": "markdown",
   "metadata": {},
   "source": [
    "### **Exercise 2: Compute Median**\n",
    "\n",
    "In the cell below use the `statistics` package to compute the median height for the dubjects in the Obesity Prediction dataset and store this value in a new variable called `Height_median`. \n",
    "\n",
    "Use the `f` print function to print out both the median height value, as well as the mean height value that you computed earlier in **Exercise 2B**.\n"
   ]
  },
  {
   "cell_type": "code",
   "execution_count": null,
   "metadata": {},
   "outputs": [],
   "source": [
    "# Insert your code for Exercise 2 here:\n",
    "\n"
   ]
  },
  {
   "cell_type": "markdown",
   "metadata": {},
   "source": [
    "If the code is correct, you should see the following output:\n",
    "\n",
    "~~~text\n",
    "Height median=169.80 cm\n",
    "Height mean=170.05 cm\n",
    "~~~"
   ]
  },
  {
   "cell_type": "markdown",
   "metadata": {},
   "source": [
    "As you can see, the values for the median and the mean height are very close to the same value. This indicates that the height values in the Obesity Prediction dataset is almost \"normally distributed\"--a concept that we will explore later in this course. "
   ]
  },
  {
   "cell_type": "markdown",
   "metadata": {},
   "source": [
    "## **Mode**\n",
    "\n",
    "The **_mode_** represents the value that appears most frequently in a dataset. It’s a measure of central tendency that tells you the most common choice or characteristic within your sample. Here are some key points about the mode:\n",
    "\n",
    "* **Unimodal:** A dataset can have one mode, where a single value occurs most often.\n",
    "* **Bimodal:** If two different values repeat most frequently, the dataset is bimodal.\n",
    "* **Trimodal:** With three modes, it’s trimodal.\n",
    "* **Multimodal:** If there are four or more modes, it’s multimodal."
   ]
  },
  {
   "cell_type": "markdown",
   "metadata": {},
   "source": [
    "### Example 3: Compute Mode\n",
    "\n",
    "The code in the cell below uses the `statistics` package to compute the mode for blood pressure in the Pima Indian dataset. The values for the mode, median and mean are printed out."
   ]
  },
  {
   "cell_type": "code",
   "execution_count": null,
   "metadata": {},
   "outputs": [],
   "source": [
    "# Example 3: Compute mode\n",
    "\n",
    "import statistics\n",
    "\n",
    "# Create the data variable\n",
    "BldPressure_dat = pimaDF.BloodPressure\n",
    "\n",
    "# Compute the mode\n",
    "BldPressure_mode = statistics.mode(BldPressure_dat)\n",
    "\n",
    "# Print the result\n",
    "print(f\"Blood pressure mode={BldPressure_mode:.2f} mmHg\")\n",
    "print(f\"Blood pressure median={BldPressure_median:.2f} mmHg\")\n",
    "print(f\"Blood pressure mean={BldPressure_mean:.2f} mmHg\")"
   ]
  },
  {
   "cell_type": "markdown",
   "metadata": {},
   "source": [
    "If the code is correct, you should see the following output:\n",
    "\n",
    "~~~text\n",
    "Blood pressure mode=70.00 mmHg\n",
    "Blood pressure median=72.00 mmHg\n",
    "Blood pressure mean=69.11 mmHg\n",
    "~~~"
   ]
  },
  {
   "cell_type": "markdown",
   "metadata": {},
   "source": [
    "Once again, you can see the values for the mode, median and mean blood pressure are similar, but _not_ identical. "
   ]
  },
  {
   "cell_type": "markdown",
   "metadata": {},
   "source": [
    "### **Exercise 3: Compute Mode**\n",
    "\n",
    "In the cell below, use the `statistics` package to compute the mode for height in the Obesity Prediction dataset. Store the mode value in a new variable called `Height_mode`. Print out the values for the mode, median and mean using the correct units of measure."
   ]
  },
  {
   "cell_type": "code",
   "execution_count": null,
   "metadata": {},
   "outputs": [],
   "source": [
    "# Insert your code for Exercise 3 here\n",
    "\n"
   ]
  },
  {
   "cell_type": "markdown",
   "metadata": {},
   "source": [
    "If the code is correct, you should see the following output:\n",
    "\n",
    "~~~text\n",
    "Height mode=173.58 cm\n",
    "Height median=169.80 cm\n",
    "Height mean=170.05 cm\n",
    "~~~"
   ]
  },
  {
   "cell_type": "markdown",
   "metadata": {},
   "source": [
    "As you can see the values for the mode, median and mean height are again similar, but _not_ identical. In this particular dataset, the mode value is farther from both the median and the mean.  "
   ]
  },
  {
   "cell_type": "markdown",
   "metadata": {},
   "source": [
    "## **Data Distributions**\n",
    "\n",
    "Since the mean, median and mode seem to be essentially the same value, you might be wondering why there are three different measures of central tendency? In this section, we will address this question.\n",
    "\n",
    "Consider the four different data distributions shown in **Figure 2.13** from your textbook (pg. 38):\n",
    "\n",
    "![____](https://biologicslab.co/BIO5853/images/Lesson_01_5/lesson_01_5_image03.png)\n",
    "\n",
    "As your textbook states on page 37:\n",
    "\n",
    "> The best measure of central tendency for a given set of data often depends on the way in which the values are distributed. If continuous or discrete measurements are symmetric and unimodal – meaning that, if we were to draw a histogram or a frequency polygon, there would be only one peak, as in the smoothed distribution pictured in **Figure 2.13(a)** – then the mean, the median, and the mode should all be roughly the same. If the distribution of values is symmetric but bimodal, so that the corresponding frequency histogram would have two peaks as in **Figure 2.13(b)**, then the mean and median should again be the same. Note, however, that this common value could lie between the two peaks, and hence be a measurement that is extremely unlikely to occur. A bimodal distribution often indicates that the population from which the values are taken actually consists of two distinct subgroups that differ in the characteristic being measured; in this situation, it might be better to report two modes rather than the mean or the median, or to treat the two subgroups separately. The data in **Figure 2.13(c)** are skewed to the right, and those in **Figure 2.13(d)** are skewed to the left. When the data are not symmetric, as in these two figures, the median is often the best measure of central tendency. Because the mean is sensitive to extreme observations, it is pulled in the direction of the outlying data values. As a result, the mean might end up either excessively inflated or excessively deflated. Note that when the data are skewed to the right, the mean lies to the right of the median;  when they are skewed to the left, the mean lies to the left of the median. In both instances, the mean is pulled in the direction of the extreme values.  Regardless of the measure of central tendency used in a particular situation, it can be misleading to assume that this value is representative of all observations in the group."
   ]
  },
  {
   "cell_type": "markdown",
   "metadata": {},
   "source": [
    "## **Generating Data Distributions Using Python**\n",
    "\n",
    "In the next section of this lesson, we demonstrate how to generate the four data distributions shown above in Figure 2.13 using three important Python packages: `Numpy`, `Matplotlib` and `Scipy`. \n",
    "\n",
    "### **Numpy Package**\n",
    "\n",
    "Numpy (pronounced as \"num-pee\") is a Python package that provides powerful data structures and functions for manipulating numerical data. It is the fundamental package for scientific computing with Python.\n",
    "\n",
    "Like other Python packages, it has to be imported into a Python program with the following command before it can be used.\n",
    "~~~text\n",
    "import numpy as np\n",
    "~~~\n",
    "When importing software packages, an alias ('nickname') is often used. For example, the standard alias for Numpy is np. The Python package alias is a feature of the Python language that allows a software package to be imported under a different name. Another example of a package alias is pd which is the alias of the Python package called Pandas. One advantage of using an alias is that it shortens the length of commands that part of the package.\n",
    "\n",
    "When using a method that is part of a Python package, the alias is used instead of the package name. For example, to use the Numpy `append()` method, the command would be:\n",
    "\n",
    "~~~text\n",
    "np.append(array,value,axis)\n",
    "~~~\n",
    "Numpy arrays are the main data structure used in this course when we preprocessing (preparing) data to be analyzed. Numpy arrays are N-dimensional objects that can hold any data type, including strings, although purely numeric arrays are most often encountered. \n",
    "\n",
    "In addition to providing a data structure, Numpy also provides a suite of mathematical functions and tools for working with these arrays. For example, Numpy provides a powerful linear algebra library for manipulating matrices and vectors. Numpy also provides a range of statistical functions that can be used for data analysis.\n",
    "\n",
    "\n",
    "### **Matplotlib Package**\n",
    "\n",
    "**_Matplotlib_** is a comprehensive library for creating static, animated, and interactive visualizations in Python. \n",
    "Matplotlib can be used in Python scripts, the Python and IPython shells, Google COLAB, the Jupyter notebook, web application servers, and four graphical user interface toolkits. It supports many types of charts and graphs, including line plots, scatter plots, bar charts, histograms, pie charts, box plots, 3D charts, and more. It also supports mathematical notation and LaTeX-style formatting for text and labels.\n",
    "\n",
    "#### **Matplotlib with Numpy**\n",
    "\n",
    "Matplotlib can be used with Numpy to create powerful visualizations. Numpy can be used to provide data for Matplotlib to plot, manipulate, and transform. For example, you can use Numpy functions to generate random numbers, generate evenly spaced numbers over a specified interval, generate normally distributed numbers, and even perform linear algebraic operations. Matplotlib can then take this data and plot it in various ways, including line graphs, bar graphs, histograms, scatter plots, contour plots, and more. Together, Matplotlib and Numpy can be used to create powerful visualizations of data.\n",
    "\n",
    "### **Scipy Package**\n",
    "\n",
    "The `scipy.stats` module in Python’s `SciPy` library provides a wide range of statistical functions and distributions. Here are some key features:\n",
    "\n",
    "1. **Probability Distributions:**\n",
    "It contains a large number of probability distributions (both continuous and discrete), such as normal, exponential, gamma, chi-squared, and more.\n",
    "These distributions allow you to model and analyze random variables in various fields like physics, finance, and engineering.\n",
    "\n",
    "2. **Summary Statistics and Tests:**\n",
    "You can compute summary statistics (mean, median, variance, etc.) for your data using functions from this module.\n",
    "It also offers statistical tests (e.g., t-tests, ANOVA) to assess hypotheses and compare groups.\n",
    "\n",
    "3. **Correlation Functions:**\n",
    "Functions for calculating correlation coefficients (Pearson, Spearman, Kendall) are available.\n",
    "Useful for understanding relationships between variables."
   ]
  },
  {
   "cell_type": "markdown",
   "metadata": {},
   "source": [
    "### **Demonstration 1: Normal Distribution**\n",
    "\n",
    "**Figure 2.13a** in your textbook (and above) shows a unimodal distribution. In a unimodal distribution the mean, the median, and the mode should all be roughly the same value. In a special unimodal distribution known as a **_Normal Distribution_**, the mean and median are _exactly_ the same value!  \n",
    "\n",
    "_Code Description:_\n",
    "\n",
    "As always, the code begins by importing the necessary Python packages, in this case, Numpy (as `np`), Matplotlib (as `plt`) and SciPy.stats.\n",
    "\n",
    "The code then uses the Numpy function `np.random.seed(42)` to set the random seed to a specific number, in this case `42` (see **Note** below). Setting the random seed in computer programs is essential for reproducibility. When you generate random numbers or perform any stochastic operations (like shuffling data), the outcome depends on the initial seed value. You don't need to set the random seed and it is only done here as a pedagological device. \n",
    "\n",
    "The next code fragment is the essence for generating large datasets containing random numbers. The Numpy function `np.random.normal()` generates a Numpy array called `unimodal_data` containing 10 million random numbers (`size=10000000`), with a normal distribution having an average value = `5.0`.  \n",
    "\n",
    "The Matplotlib function `plt.hist()` is then used to visualize the data values in this Numpy array by creating a frequency histogram. Additional `plt` functions are used to label the x-axis, the y-axis and the title.\n",
    "\n",
    "------------------\n",
    "**Note:** In _The Hitchhiker’s Guide to the Galaxy_ by Douglas Adams, the number 42 is famously known as the “Answer to the Ultimate Question of Life, the Universe, and Everything.” This answer was calculated by an enormous supercomputer named _Deep Thought_ over a period of 7.5 million years. However, the catch is that no one actually knows what the question is!"
   ]
  },
  {
   "cell_type": "code",
   "execution_count": null,
   "metadata": {},
   "outputs": [],
   "source": [
    "# Demonstration 1: Generate and Plot Unimodal (Normal) distribution\n",
    "\n",
    "import numpy as np\n",
    "import matplotlib.pyplot as plt\n",
    "from scipy.stats import norm\n",
    "\n",
    "# Set random seed\n",
    "np.random.seed(42) \n",
    "\n",
    "# Generate data \n",
    "unimodal_dat = np.random.normal(loc=5, scale=1, size=10000000)\n",
    "\n",
    "# Plot histogram\n",
    "plt.hist(unimodal_dat, bins=500, density=True, alpha=0.6, color='b')\n",
    "\n",
    "# Add labels and title\n",
    "plt.xlabel('Value')\n",
    "plt.ylabel('Density')\n",
    "plt.title('Figure 2.13a: Unimodal Distribution')\n",
    "\n",
    "# Show plot\n",
    "plt.show()"
   ]
  },
  {
   "cell_type": "markdown",
   "metadata": {},
   "source": [
    "If the code is correct, you should see the following histogram.\n",
    "\n",
    "![____](https://biologicslab.co/BIO5853/images/Lesson_01_5/lesson_01_5_image08.png)"
   ]
  },
  {
   "attachments": {},
   "cell_type": "markdown",
   "metadata": {},
   "source": [
    "### Example 4: Compute Mean and Median using Numpy\n",
    "\n",
    "In the examples above, we computed the mean and median from data stored in a particualr column within a Pandas DataFrame using the `statistics` package. However, when working with a Numpy array, you can easily compute their mean and median using Numpy's built-in statistical functions as illustrated in the code in the cell below. \n",
    "\n",
    "In Example 4, we find the mean and median of the Numpy array `unimodal_dat` that was generate in the above code cell.\n",
    "\n",
    "_Code Description:_\n",
    "\n",
    "The following code chunk illustrates the use of the Numpy built-in statistical functions for finding the mean and median:\n",
    "\n",
    "~~~text\n",
    "# Compute mean and median using Numpy\n",
    "Unimodal_mean=np.mean(unimodal_dat)\n",
    "Unimodal_median=np.median(unimodal_dat)\n",
    "~~~\n",
    "\n",
    "The code then prints out the results. The number of decimal places to print is expanded to 6 places instead of the previous 2 places:\n",
    "\n",
    "~~~text\n",
    "# Print results\n",
    "print(f\"Unimodal data mean={Unimodal_mean:.6f}\")\n",
    "print(f\"Unimodal data median={Unimodal_median:.6f}\")\n",
    "~~~"
   ]
  },
  {
   "cell_type": "code",
   "execution_count": null,
   "metadata": {},
   "outputs": [],
   "source": [
    "# Example 4: Compute mean and median using Numpy\n",
    "\n",
    "import numpy as np\n",
    "\n",
    "# Compute mean and median using Numpy\n",
    "Unimodal_mean=np.mean(unimodal_dat)\n",
    "Unimodal_median=np.median(unimodal_dat)\n",
    "\n",
    "# Print results\n",
    "print(f\"Unimodal data mean={Unimodal_mean:.6f}\")\n",
    "print(f\"Unimodal data median={Unimodal_median:.6f}\")"
   ]
  },
  {
   "cell_type": "markdown",
   "metadata": {},
   "source": [
    "If the code is correct you should see the following output:\n",
    "\n",
    "~~~text\n",
    "Unimodal data mean=4.999936\n",
    "Unimodal data median=5.000023\n",
    "~~~"
   ]
  },
  {
   "cell_type": "markdown",
   "metadata": {},
   "source": [
    "As expected, the mean and median of our dataset `unimodal_dat`, that contains 10 million random numbers, are both equal to approximately`5` but not exactly `5.0000`. Why? Because we used a _random_ number generator to generate the 10 million values our `unimodal_dat` array."
   ]
  },
  {
   "cell_type": "markdown",
   "metadata": {},
   "source": [
    "### **Demonstration 2: Bimodal Distribution**\n",
    "\n",
    "If the distribution of values in a dataset is symmetric, but **_bimodal_**, so that the  corresponding frequency histogram has two peaks (**Figure 2.13(b))**, then the mean and median will also be roughtly the same value. However, that this common value will lie _between_ the two peaks, and hence be a measurement that is extremely unlikely to occur. In other words, using the mean or median to describe the **_central tendency_** of a bimodal dataset would be very misleading since very few--or none--of the data values will have this \"average\" value. \n",
    "\n",
    "A bimodal distribution often indicates that the population from which the values are taken actually consists of two distinct subgroups that differ in the characteristic being measured. For instance, female black bears have an average weight of 175 pounds, while males average around 400 pounds, resulting in a bimodal distribution of weights. In this situation, it might be better to report two modes rather than the mean or the median, or to treat the two subgroups separately.  \n",
    "\n",
    "_Code Description:_\n",
    "\n",
    "The code is essentially the same as shown in Demonstration 1 except that two datasets are generated each containing 10 million values:\n",
    "\n",
    "~~~text\n",
    "# Generate two normal distributions (bimodal)\n",
    "bimodal_dat1 = np.random.normal(loc=5, scale=1, size=10000000)\n",
    "bimodal_dat2 = np.random.normal(loc=10, scale=1, size=10000000)\n",
    "~~~\n",
    "\n",
    "Note that the first dataset, `bimodal_dat1`, is centered at the value 5 (`loc=5`) while the second dataset `bimodal_dat2` is centered at the value 10 (`loc=10`).\n",
    "\n",
    "The next code chunk \"adds\" (`concatenate`) the two Numpy arrays together to make one giant array `bimodal_dat` containing 2 million random numbers:\n",
    "\n",
    "~~~text\n",
    "# Combine the two datasets\n",
    "bimodal_dat = np.concatenate([bimodal_dat1, bimodal_dat2])\n",
    "~~~"
   ]
  },
  {
   "cell_type": "code",
   "execution_count": null,
   "metadata": {},
   "outputs": [],
   "source": [
    "# Demonstration 2: Biimodal distribution\n",
    "\n",
    "import numpy as np\n",
    "import matplotlib.pyplot as plt\n",
    "from scipy.stats import norm\n",
    "\n",
    "# Set random seed\n",
    "np.random.seed(42)\n",
    "\n",
    "# Generate two normal distributions (bimodal)\n",
    "bimodal_dat1 = np.random.normal(loc=5, scale=1, size=10000000)\n",
    "bimodal_dat2 = np.random.normal(loc=10, scale=1, size=10000000)\n",
    "\n",
    "# Combine the two datasets\n",
    "bimodal_dat = np.concatenate([bimodal_dat1, bimodal_dat2])\n",
    "\n",
    "# Plot histogram\n",
    "plt.hist(bimodal_dat, bins=500, density=True, alpha=0.6, color='b')\n",
    "\n",
    "# Add labels and title\n",
    "plt.xlabel('Value')\n",
    "plt.ylabel('Density')\n",
    "plt.title('Figure 2.13b: Bimodal Distribution')\n",
    "\n",
    "# Show plot\n",
    "plt.show()"
   ]
  },
  {
   "cell_type": "markdown",
   "metadata": {},
   "source": [
    "If the code is correct, you should see the following histogram.\n",
    "\n",
    "![____](https://biologicslab.co/BIO5853/images/Lesson_01_5/lesson_01_5_image09.png)"
   ]
  },
  {
   "cell_type": "markdown",
   "metadata": {},
   "source": [
    "### **Exercise 4: Compute Mean and Median using Numpy**\n",
    "\n",
    "Compute the mean and median of the Numpy array `bimodal_dat` that was generated in the code cell above using Numpy's built-in statistical functions. Call the value containing the mean `Bimodal_mean` and the value containing the median, `Bimodal_median`. \n",
    "\n",
    "Print out these two values with 6 decimal places as was illustrated in Example 4 above."
   ]
  },
  {
   "cell_type": "code",
   "execution_count": 1,
   "metadata": {},
   "outputs": [],
   "source": [
    "# Insert your code for Exercise 4 here \n",
    "\n"
   ]
  },
  {
   "cell_type": "markdown",
   "metadata": {},
   "source": [
    "If your code is correct you should see the following output:\n",
    "\n",
    "~~~text\n",
    "Bimodal data mean=7.500071\n",
    "Bimodal data median=7.498994\n",
    "~~~"
   ]
  },
  {
   "cell_type": "markdown",
   "metadata": {},
   "source": [
    "### Example 5: Right-skewed Distribution\n",
    "\n",
    "The data in **Figure 2.13(c)** are skewed to the right. When the data are not symmetric, as in this figure, the **_median+** is often a better measure of central tendency than the mean. This is because the mean is sensitive to extreme observations, being _pulled_ in the direction of the outlying data values. As a result, the mean ends up excessively inflated (i.e. too high). When data is right-skewed, the mean lies to the right of the median. \n",
    "\n",
    "_Code Description:_\n",
    "\n",
    "To generate a skewed data distribution, we will use the `skewnorm` method that is part of the `scipy.stats` package. To skew a data distribution to the right, you enter a **_positive_** skewness value. Conversely, if you want your data distribution skewed to the left, set your skewness value to a negative number.\n",
    "\n",
    "Since we want to a right-skewed distribution, we set the skewness value to +5 as shown in the following code fragement:\n",
    "\n",
    "~~~text\n",
    "# Generate data using skewnorm\n",
    "skewness = +5  # Positive values create right-skewed distribution\n",
    "rightSkewed_arr = skewnorm.rvs(a=skewness, loc=max_value, size=num_values)\n",
    "~~~\n",
    "\n",
    "This creates a right-skewed Numpy array called `rightSkewed_arr` with 10 million values (`num_value = 10000000`).\n",
    "\n",
    "The next step is to shift all of the values in `rightSkewed_arr` so that the smallest (minimum) value is equal to 0. This is accomplished by the following code chunk:\n",
    "\n",
    "~~~text\n",
    "# Shift the set so the minimum value is equal to zero\n",
    "rightSkewed_arr = rightSkewed_arr - min(rightSkewed_arr)\n",
    "~~~\n",
    "\n",
    "The next step is standardize all of the values in `rightSkewed_arr` by dividing each value in `rightSkewed_arr` by the largest value in the array as shown in the following code chunk:\n",
    "\n",
    "~~~text\n",
    "# Standardize all the values between 0 and 1\n",
    "rightSkewed_arr = rightSkewed_arr / max(rightSkewed_arr)\n",
    "~~~\n",
    "\n",
    "Finally, each value in `rightSkewed_arr` is multiplied by 100 before plotting the frequency histogram.\n",
    "\n",
    "~~~text\n",
    "# Multiply the standardized values by the maximum value\n",
    "rightSkewed_arr = rightSkewed_arr * max_value\n",
    "~~~\n",
    "\n"
   ]
  },
  {
   "cell_type": "code",
   "execution_count": null,
   "metadata": {
    "scrolled": true
   },
   "outputs": [],
   "source": [
    "# Example 5: Right-skewed distribution\n",
    "\n",
    "import numpy as np\n",
    "import matplotlib.pyplot as plt\n",
    "from scipy.stats import skewnorm\n",
    "\n",
    "# Generate Right-skewed data\n",
    "num_values = 10000000  # 10 million values\n",
    "max_value = 100\n",
    "\n",
    "# Generate data using skewnorm\n",
    "skewness = +5  # Positive values create right-skewed distribution\n",
    "rightSkewed_arr = skewnorm.rvs(a=skewness, loc=max_value, size=num_values)\n",
    "\n",
    "# Shift the set so the minimum value is equal to zero\n",
    "rightSkewed_arr = rightSkewed_arr - min(rightSkewed_arr)\n",
    "\n",
    "# Standardize all the values between 0 and 1\n",
    "rightSkewed_arr = rightSkewed_arr / max(rightSkewed_arr)\n",
    "\n",
    "# Multiply the standardized values by the maximum value\n",
    "rightSkewed_arr = rightSkewed_arr * max_value\n",
    "\n",
    "# Plot histogram\n",
    "plt.hist(rightSkewed_arr, bins=500, density=True, color='b', alpha=0.8)\n",
    "\n",
    "# Label plot\n",
    "plt.xlabel('Value')\n",
    "plt.ylabel('Density')\n",
    "plt.title('Figure 2.13c: Right-Skewed Distribution')\n",
    "\n",
    "# Show plot\n",
    "plt.show()"
   ]
  },
  {
   "cell_type": "markdown",
   "metadata": {},
   "source": [
    "If the code is correct, you should see the following histogram.\n",
    "\n",
    "![____](https://biologicslab.co/BIO5853/images/Lesson_01_5/lesson_01_5_image10.png)"
   ]
  },
  {
   "cell_type": "markdown",
   "metadata": {},
   "source": [
    "### **Exercise 5: Left-skewed Distribution**\n",
    "\n",
    "For **Exercise 5**, you are to create a left-skewed data distribution as shown in **Figure 2.13(d)**. In a left-skewed distribution, the mean is _pulled_ to the left it ends up excessively **_deflated_**. Call your dataset `leftSkewed_arr`. "
   ]
  },
  {
   "cell_type": "code",
   "execution_count": null,
   "metadata": {
    "scrolled": true
   },
   "outputs": [],
   "source": [
    "# Insert your code for Exercise 5 here\n",
    "\n"
   ]
  },
  {
   "cell_type": "markdown",
   "metadata": {},
   "source": [
    "If your code is correct, you should see the following histogram.\n",
    "\n",
    "![____](https://biologicslab.co/BIO5853/images/Lesson_01_5/lesson_01_5_image11.png)"
   ]
  },
  {
   "cell_type": "markdown",
   "metadata": {},
   "source": [
    "### **Demonstration 3: Two Normal Distributions with Different Dispersions**\n",
    "\n",
    "**Figure 2.14**, on page 39 of your textbook, shows two very differnt data distributions, even though both distribution have the same mean and median values. In other words, in order to characterize a dataset, we need to know not only its central tendency (i.e., mean and/or median), but also its **_measure of dispersion_** -- how \"spread out\" the data is.\n",
    "\n",
    "The code in the cell below uses the Numpy function to generate two normal distributions, one with a narrow dispersion (`narrow_dat`) and one with a wide dispersion (`wide_dat`). Both distributions have the same mean (`loc=5`) but have different dispersions (_narrow_:`scale=1`, _wide_:`scale=5`). "
   ]
  },
  {
   "cell_type": "code",
   "execution_count": null,
   "metadata": {},
   "outputs": [],
   "source": [
    "# Demonstration 3: Two normal distributions with different dipersions\n",
    "\n",
    "import numpy as np\n",
    "import matplotlib.pyplot as plt\n",
    "from scipy.stats import norm\n",
    "\n",
    "# Set random seed\n",
    "np.random.seed(42)\n",
    "\n",
    "# Generate data for narrow and wide dispersions\n",
    "narrow_dat = np.random.normal(loc=5, scale=1, size=1000000)\n",
    "wide_dat = np.random.normal(loc=5, scale=5, size=1000000)\n",
    "\n",
    "# Plot the histogram\n",
    "plt.hist(narrow_dat, bins=500, density=True, alpha=0.6, color='b')\n",
    "plt.hist(wide_dat, bins=500, density=True, alpha=0.4, color='r')\n",
    "\n",
    "# Add labels and title\n",
    "plt.xlabel('Value')\n",
    "plt.ylabel('Density')\n",
    "plt.title('Figure 2.14: Narrow and Wide Data Dispersions')\n",
    "\n",
    "plt.xlim(-10, 20)\n",
    "plt.ylim(0, 0.45)\n",
    "\n",
    "# Show the plot\n",
    "plt.show()"
   ]
  },
  {
   "cell_type": "markdown",
   "metadata": {},
   "source": [
    "If the code is correct, you show see the following image:\n",
    "\n",
    "![____](https://biologicslab.co/BIO5853/images/Lesson_01_5/lesson_01_5_image04.png)"
   ]
  },
  {
   "cell_type": "markdown",
   "metadata": {},
   "source": [
    "In the image above, the data with the narrow dispersion (`scale=1`) is shown in blue while the data with the wide dispersion (`scale=5`) is shown in red."
   ]
  },
  {
   "cell_type": "markdown",
   "metadata": {},
   "source": [
    "## **Range**\n",
    "\n",
    "The **_range_** represents the spread of data (i.e. _dispersion_) from the lowest to the highest value in a distribution. It’s a measure of variability that helps summarize the extent of differences within your dataset. \n",
    "\n",
    "**Importance of Range:**\n",
    "\n",
    "* The range provides a quick overview of variability.\n",
    "* When combined with measures of central tendency (like mean or median), it helps describe the span of the distribution.\n",
    "* However, be cautious with outliers: A single extreme value can significantly affect the range.\n",
    "* For a clearer picture of variability, consider using other measures like interquartile range or standard deviation alongside the range."
   ]
  },
  {
   "cell_type": "markdown",
   "metadata": {},
   "source": [
    "### Example 6: Compute Range\n",
    "\n",
    "The range is simple to compute. It is simply the largest value in a dataset minus the smallest value in the dataset."
   ]
  },
  {
   "cell_type": "code",
   "execution_count": null,
   "metadata": {
    "scrolled": true
   },
   "outputs": [],
   "source": [
    "# Example 6: Compute range\n",
    "\n",
    "BldPressure_max = max(pimaDF.BloodPressure)\n",
    "BldPressure_min = min(pimaDF.BloodPressure)\n",
    "BldPressure_range = BldPressure_max - BldPressure_min\n",
    "print(f\"Blood pressure range={BldPressure_range:.2f} mmHg\")"
   ]
  },
  {
   "cell_type": "markdown",
   "metadata": {},
   "source": [
    "If the code is correct, you should see the following output:\n",
    "\n",
    "~~~text\n",
    "Blood pressure range=122.00 mmHg\n",
    "~~~"
   ]
  },
  {
   "cell_type": "markdown",
   "metadata": {},
   "source": [
    "### **Exercise 6: Compute Range**\n",
    "\n",
    "In the cell below, write the code to compute the range for Height in the Obesity Prediction dataset. Call the variable holding the range `Height_range`. Print out your results. "
   ]
  },
  {
   "cell_type": "code",
   "execution_count": null,
   "metadata": {},
   "outputs": [],
   "source": [
    "# Insert your code for Exercise 6 here\n",
    "\n"
   ]
  },
  {
   "cell_type": "markdown",
   "metadata": {},
   "source": [
    "If the code is correct, you should see the following output:\n",
    "\n",
    "~~~text\n",
    "Height range=65.30 cm\n",
    "~~~"
   ]
  },
  {
   "cell_type": "markdown",
   "metadata": {},
   "source": [
    "## **Interquartile Range**\n",
    "\n",
    "The **_interquartile range_** (IQR) is a second measure of statistical dispersion that tells you how spread out the data is within the middle half of your distribution. Here are the key points:\n",
    "\n",
    "* **Definition:** The IQR represents the difference between the third quartile (Q3) and the first quartile (Q1).\n",
    "* **Quartiles:** Quartiles divide an ordered dataset from low to high into four equal parts.\n",
    "* **Q1:** The value below which 25% of the distribution lies.\n",
    "* **Q3:** The value below which 75% of the distribution lies.\n",
    "\n",
    "**Calculation:**\n",
    "\n",
    "$$ \\text IQR = Q3 - Q1 $$\n",
    "\n",
    "* **Visualize:** Boxplots often display the IQR as the range between the box’s edges.\n",
    "\n",
    "Remember, while the range gives you the spread of the entire dataset, the IQR focuses on the middle half"
   ]
  },
  {
   "cell_type": "markdown",
   "metadata": {},
   "source": [
    "### **Create Function to Compute IQR**\n",
    "\n",
    "In the following code cell, we create our own function called `find_iqr()` to compute the Interquartile Range (IQR) for a Numpy array. "
   ]
  },
  {
   "cell_type": "code",
   "execution_count": null,
   "metadata": {
    "scrolled": true
   },
   "outputs": [],
   "source": [
    "# Define a function to calculate IQR\n",
    "def find_iqr(x):\n",
    "    return np.subtract(*np.percentile(x, [75, 25]))"
   ]
  },
  {
   "cell_type": "markdown",
   "metadata": {},
   "source": [
    "If the code is correct, you should **not** see any output when you run the above cell. We will use our custom function in the next example."
   ]
  },
  {
   "cell_type": "markdown",
   "metadata": {},
   "source": [
    "### Example 7: Compute IRQ\n",
    "\n",
    "In Example 7 we use our new function to find the IRQ for the blood pressure data in the Pima Indian dataset. \n",
    "\n",
    "_Code Description:_\n",
    "\n",
    "The following code chunk uses our function `find_irq()`:\n",
    "\n",
    "~~~text\n",
    "BldPressue_iqr = pimaDF[['BloodPressure']].apply(find_iqr)\n",
    "~~~\n",
    "\n",
    "The code uses the Python `apply()` to create a new variable called `BldPressure_iqr`. The `apply()` method will be discussed later in this course. \n",
    "\n",
    "In this example, the"
   ]
  },
  {
   "cell_type": "code",
   "execution_count": null,
   "metadata": {},
   "outputs": [],
   "source": [
    "# Example 7: Compute IRQ\n",
    "\n",
    "# Calculate IQR\n",
    "BldPressure_iqr = pimaDF[['BloodPressure']].apply(find_iqr)\n",
    "\n",
    "# Print\n",
    "print(BldPressure_iqr)"
   ]
  },
  {
   "cell_type": "markdown",
   "metadata": {},
   "source": [
    "If the code is correct, you should see the following output:\n",
    "\n",
    "~~~text\n",
    "BloodPressure    18.0\n",
    "dtype: float64\n",
    "~~~"
   ]
  },
  {
   "cell_type": "markdown",
   "metadata": {},
   "source": [
    "The variable `BldPressure_iqr` is not a string so it can't be printed using the `f` print function."
   ]
  },
  {
   "cell_type": "markdown",
   "metadata": {},
   "source": [
    "### **Exercise 7: Compute IQR**\n",
    "\n",
    "In the cell below, write the Python code to compute the IQR for the height data in the Obesity Prediction dataset. Call the variable holding the IQR `Height_iqr` and print out its value."
   ]
  },
  {
   "cell_type": "code",
   "execution_count": null,
   "metadata": {},
   "outputs": [],
   "source": [
    "# Insert your code for Exercise 7 here\n",
    "\n"
   ]
  },
  {
   "cell_type": "markdown",
   "metadata": {},
   "source": [
    "If your code is correct, you should see the following output:\n",
    "\n",
    "~~~text\n",
    "Height    13.839391\n",
    "dtype: float64\n",
    "~~~"
   ]
  },
  {
   "cell_type": "markdown",
   "metadata": {},
   "source": [
    "### **IQR and the Box Plot**\n",
    "\n",
    "The interquartile range (IQR) and the box plot are closely related.\n",
    "\n",
    "**Box Plot:**\n",
    "A box plot (also known as a box-and-whisker plot) visually represents the distribution of a dataset.\n",
    "It displays the following key statistics:\n",
    "* The **median** (Q2), which is the middle value.\n",
    "* The **first quartile** (Q1), which marks the 25th percentile.\n",
    "* The **third quartile** (Q3), which marks the 75th percentile.\n",
    "* The minimum and maximum values (sometimes called “whiskers”).\n",
    "  \n",
    "The “box” in the plot spans from Q1 to Q3, enclosing the middle 50% of the data.\n",
    "\n",
    "**Interquartile Range (IQR):**\n",
    "* The IQR is the difference between Q3 and Q1: (IQR = Q3 - Q1).\n",
    "* It tells us how spread out the middle 50% of values are in a dataset.\n",
    "* Larger IQR indicates greater variability within that central range.\n",
    "\n",
    "**Relationship:**\n",
    "* The width of the “box” in the box plot corresponds to the IQR.\n",
    "* The whiskers extend to the minimum and maximum values within a certain range (often 1.5 times the IQR).\n",
    "\n",
    "In summary, the IQR provides a measure of data spread, and the box plot visually represents this spread along with other quartiles"
   ]
  },
  {
   "cell_type": "markdown",
   "metadata": {},
   "source": [
    "### Example 8: Boxplot\n",
    "\n",
    "The Boxplot and the Python for generating it was covered in a previous lessson. In the cell below, generate a Boxplot for the blood pressure values in the Pima Indian dataset. We know from Example 7 that IQR for blood pressure is 18.0 mmHg. We would therefore expect this value to be the width of our Boxplot. "
   ]
  },
  {
   "cell_type": "code",
   "execution_count": null,
   "metadata": {},
   "outputs": [],
   "source": [
    "# Example 8: Boxplot\n",
    "\n",
    "import matplotlib.pyplot as plt\n",
    "\n",
    "# Create graohics environment\n",
    "fig, ax = plt.subplots(nrows=1, ncols=1, figsize=(4, 4))\n",
    "\n",
    "# Assign x-values\n",
    "x=pimaDF.BloodPressure\n",
    "\n",
    "# Use color from textbook\n",
    "colors =['#919eb6']\n",
    "\n",
    "# Assign values to markers and line styles\n",
    "flierprops = dict(marker='o', markerfacecolor='black', markersize=6,\n",
    "                  markeredgecolor='none')\n",
    "medianprops = dict(linestyle='-', linewidth=1.0, color='black')\n",
    "\n",
    "# Plot boxplot\n",
    "bplot=ax.boxplot(x, notch=False,\n",
    "           flierprops=flierprops,\n",
    "           medianprops=medianprops,\n",
    "           patch_artist=True,\n",
    "           widths=0.6)\n",
    "\n",
    "# Add markers\n",
    "ax.flierprops = dict(marker='o', markerfacecolor='black', markersize=8,\n",
    "                  linestyle='none')\n",
    "\n",
    "# Add title\n",
    "ax.set_title('Pima Indian Blood Pressures')\n",
    "\n",
    "# Fill with colors\n",
    "for patch, color in zip(bplot['boxes'], colors):\n",
    "    patch.set_facecolor(color)\n",
    "\n",
    "# Set axis\n",
    "ax.set_xticks([])\n",
    "ax.set_xlabel('')\n",
    "ax.set_ylabel('Blood Pressure (mmHg)')\n",
    "\n",
    "# Show plot\n",
    "plt.show()"
   ]
  },
  {
   "cell_type": "markdown",
   "metadata": {},
   "source": [
    "If the code is correct, you show see the following image:\n",
    "\n",
    "![____](https://biologicslab.co/BIO5853/images/Lesson_01_5/lesson_01_5_image05.png)"
   ]
  },
  {
   "cell_type": "markdown",
   "metadata": {},
   "source": [
    "The IRQ calculated for the blood pressures in Example 6 was `18.0`. In the boxplot above, the \"width\" (i.e. height) of the grey box graphically represents the IRQ or 18 mmHg. "
   ]
  },
  {
   "cell_type": "markdown",
   "metadata": {},
   "source": [
    "### **Exercise 8: Boxplot**\n",
    "\n",
    "In the cell below, write the Python to create a Boxplot of the height values in the Obesity Prediction dataset. \n"
   ]
  },
  {
   "cell_type": "code",
   "execution_count": null,
   "metadata": {},
   "outputs": [],
   "source": [
    "# Insert your code for Exercise 8 here\n",
    "\n"
   ]
  },
  {
   "cell_type": "markdown",
   "metadata": {},
   "source": [
    "If the code is correct, you show see the following image:\n",
    "\n",
    "![___](https://biologicslab.co/BIO5853/images/Lesson_01_5/lesson_01_5_image06.png)"
   ]
  },
  {
   "cell_type": "markdown",
   "metadata": {},
   "source": [
    "The IRQ calculated for height in Exercise 6 was `13.8`. In the boxplot above, the \"width\" (i.e. height) of the \"box\" (colored rectangle) graphically represents the IRQ and should be 13.8 cm. "
   ]
  },
  {
   "cell_type": "markdown",
   "metadata": {},
   "source": [
    "## **Variance**"
   ]
  },
  {
   "cell_type": "markdown",
   "metadata": {},
   "source": [
    "**_Variance_** measures the spread or dispersion of a set of data points around their mean (average). It quantifies how much individual data points deviate from the central tendency. Here’s how it’s calculated:\n",
    "\n",
    "$$  s^2 =  \\frac{1}{2n(n-1)} \\sum_{i=1}^{n} \\sum_{j=1, j\\not = i}^{n} (x_i - x_j)^2   $$\n",
    "\n",
    "The variance plays a crucial role in statistics, and here’s why it’s significant:\n",
    "\n",
    "1. **Measuring Spread:**\n",
    "* Variance quantifies how much individual data points deviate from the **mean** (average).\n",
    "* It provides a measure of **spread** or **dispersion** within a dataset.\n",
    "* Larger variance indicates greater variability, while smaller variance means data points are closer to the mean.\n",
    "\n",
    "2. **Key Properties:**\n",
    "* Variance is always **non-negative** (it can’t be negative).\n",
    "* If all data points are identical, the variance is zero.\n",
    "* It’s sensitive to **outliers**—extreme values can significantly impact variance.\n"
   ]
  },
  {
   "cell_type": "markdown",
   "metadata": {},
   "source": [
    "### Example 9: Compute Variance\n",
    "\n",
    "The code in the cell below uses the `statistics` package to compute the variance of the blood pressure values in the Pima Indian dataset.\n",
    "\n",
    "_Code Description:_\n",
    "\n",
    "The following code chunk is used to round off the value in `BldPressure_variance` to two decimal places. \n",
    "\n",
    "~~~text\n",
    "# Create rounded-off value as a string\n",
    "BldPressure_var_str = str(round(BldPressure_variance,2))\n",
    "~~~\n",
    "\n",
    "It should be noted that this produces a `string` variable called `BldPressure_val` while leaving the orignal value `BldPressure_variance` as a number (`float32`). This was done in order to use \"fancy\" formating in the print statement.\n",
    "\n",
    "~~~text\n",
    "# Print result with fancy formating\n",
    "print(\"Blood pressure variance={} mmHg\\u00b2\".format(BldPressure_var_str))\n",
    "~~~\n",
    "\n",
    "The fancy formatting is used to create the exponent value `2`."
   ]
  },
  {
   "cell_type": "code",
   "execution_count": null,
   "metadata": {},
   "outputs": [],
   "source": [
    "# Example 9: Compute variance\n",
    "\n",
    "import statistics\n",
    "\n",
    "# Assign x\n",
    "x = pimaDF.BloodPressure\n",
    "\n",
    "# Calculate the variance\n",
    "BldPressure_variance = statistics.variance(x)\n",
    "\n",
    "# Create rounded-off value as a string\n",
    "BldPressure_var_str = str(round(BldPressure_variance,2))\n",
    "\n",
    "# Print result with fancy formating\n",
    "print(\"Blood pressure variance={} mmHg\\u00b2\".format(BldPressure_var_str))"
   ]
  },
  {
   "cell_type": "markdown",
   "metadata": {},
   "source": [
    "If the code is correct, you should see the following output:\n",
    "\n",
    "~~~text\n",
    "Blood pressure variance=374.65 mmHg²\n",
    "~~~"
   ]
  },
  {
   "cell_type": "markdown",
   "metadata": {},
   "source": [
    "The string `mmHg²` was generated by adding the \"escape\" value: `\\u00b2` to the string."
   ]
  },
  {
   "cell_type": "markdown",
   "metadata": {},
   "source": [
    "It should be noted that units for the blood pressure variance are \"squared millimeters of mercury\" (`mmHg²`) even though these units do **not** make any physical sense!"
   ]
  },
  {
   "cell_type": "markdown",
   "metadata": {},
   "source": [
    "### **Exercise 9: Compute Variance**\n",
    "\n",
    "In the cell below, compute the variance of the height values in the Obesity Prediction dataset using Example 8 as a template. Print out your value for the variance. The units for your variance should be `cm²`."
   ]
  },
  {
   "cell_type": "code",
   "execution_count": null,
   "metadata": {},
   "outputs": [],
   "source": [
    "# Insert your code for Exercise 9 here\n",
    "\n"
   ]
  },
  {
   "cell_type": "markdown",
   "metadata": {},
   "source": [
    "If your code is correct, you should see the following output:\n",
    "\n",
    "~~~text\n",
    "Height variance=106.3 cm²\n",
    "~~~"
   ]
  },
  {
   "cell_type": "markdown",
   "metadata": {},
   "source": [
    "Again the units for variance, `cm²`, doesn't make any physical sense when talking about a person's height. "
   ]
  },
  {
   "cell_type": "markdown",
   "metadata": {},
   "source": [
    "## **Standard Deviation**"
   ]
  },
  {
   "cell_type": "markdown",
   "metadata": {},
   "source": [
    "**_Standard Deviation_** measures the amount of variation or spread in a dataset around its mean (average). Here’s is how the standard deviation ($s$) is computed:\n",
    "\n",
    "$$ s = \\sqrt{s^2} = \\sqrt{ \\frac{1}{(n-1)} \\sum_{i=1}^{n} (x_i - \\overline{x})^2 }   $$\n",
    "\n",
    "As you can see from the first part of this equation, the standard deviation is simply the square root of the variance:\n",
    "\n",
    "$$ s = \\sqrt{s^2} $$\n",
    "\n",
    "In biostatistics, the standard deviation is used more frequently than the variance. This is primarily because the standard deviation has the _same_ units of measurement as the mean, rather than squared units.\n",
    "\n",
    "Here is what the standard deviation tells you about a data set.\n",
    "\n",
    "**Spread of Data:**\n",
    "* A _low_ standard deviation indicates that values tend to be close to the mean, suggesting less variability.\n",
    "* A _high_ standard deviation means that values are spread out over a wider range, indicating greater variability.\n",
    "\n",
    "**Normal Distributions:**\n",
    "Standard deviation is particularly useful for normal distributions, where data is symmetrically distributed around the mean.\n",
    "\n",
    "Most scientific variables (like height, test scores, or job satisfaction ratings) follow normal distributions."
   ]
  },
  {
   "cell_type": "markdown",
   "metadata": {},
   "source": [
    "### Example 10: Compute Standard Deviation\n",
    "\n",
    "The code in the cell below uses the `statistics` package to compute the standard deviation from the `pimaDF` DataFrame column `BloodPressure`. In addition, it uses the `math` package to compute the square root of the `BldPressure_variance` computed in Example 8. Both values are printed out using the normal `f` print function."
   ]
  },
  {
   "cell_type": "code",
   "execution_count": null,
   "metadata": {},
   "outputs": [],
   "source": [
    "# Example 10: Compute standard deviation\n",
    "\n",
    "import statistics\n",
    "import math\n",
    "\n",
    "# Assign x\n",
    "x = pimaDF.BloodPressure\n",
    "\n",
    "# Calculate standard deviation\n",
    "BldPressure_SD = statistics.stdev(x)\n",
    "\n",
    "# Print result\n",
    "print(f\"Blood pressure standard deviation={BldPressure_SD:.2f} mmHg\")\n",
    "\n",
    "# Calculate square root\n",
    "sqrtBldPressure_var=math.sqrt(BldPressure_variance)\n",
    "\n",
    "# Print result\n",
    "print(f\"Square root of Blood pressure variance={sqrtBldPressure_var:.2f} mmHg\")"
   ]
  },
  {
   "cell_type": "markdown",
   "metadata": {},
   "source": [
    "If the code is correct, you should see the following output:\n",
    "\n",
    "~~~text\n",
    "Blood pressure standard deviation=19.36 mmHg\n",
    "Square root of Blood pressure variance=19.36 mmHg\n",
    "~~~"
   ]
  },
  {
   "cell_type": "markdown",
   "metadata": {},
   "source": [
    "As you can see, the standard deviation is simply the square root of the variance. You should also note that the units are no longer squared, but have the same units as the mean blood pressure (i.e. `mmHg`)."
   ]
  },
  {
   "cell_type": "markdown",
   "metadata": {},
   "source": [
    "### **Exercise 10: Compute Standard Deviation**\n",
    "\n",
    "In the cell below, compute the standard deviation for the height measurements in the DataFrame `obDF` and the square root of the height variance that you computed in **Exercise 8**. Print out both values using the `f` print function. \n"
   ]
  },
  {
   "cell_type": "code",
   "execution_count": null,
   "metadata": {
    "scrolled": true
   },
   "outputs": [],
   "source": [
    "# Insert your code for Exercise 10 here\n",
    "\n"
   ]
  },
  {
   "cell_type": "markdown",
   "metadata": {},
   "source": [
    "If the code is correct, you should see the following output:\n",
    "\n",
    "~~~text\n",
    "Height standard deviation=10.31 cm\n",
    "Square root of height variance=10.31 mmHg\n",
    "~~~"
   ]
  },
  {
   "cell_type": "markdown",
   "metadata": {},
   "source": [
    "As was shown in Example 9, the standard deviation is simply the square root of the variance. Once again, note that the units are no longer squared, but have the same units as the mean (i.e. `cm`)."
   ]
  },
  {
   "cell_type": "markdown",
   "metadata": {},
   "source": [
    "### **Empirical Rule**\n",
    "\n",
    "The **_Empirical Rule_**, also called the **68-95-99.7 Rule** applies only to a normally distributed data distribution. \n",
    "\n",
    "In a normal distribution:\n",
    "* Around 68% of scores fall within **1 standard deviation** of the mean.\n",
    "* Around 95% fall within **2 standard deviations**.\n",
    "* Approximately 99.7% fall within **3 standard deviations**.\n",
    "\n",
    "For example, if you have a memory recall test with a mean score of 50 and a standard deviation of 10:\n",
    "* About 68% of scores are between 40 and 60.\n",
    "* About 95% are between 30 and 70.\n",
    "* Almost all (99.7%) are between 20 and 80 1.\n",
    "\n",
    "Standard deviation helps us understand data variability and make informed decisions! "
   ]
  },
  {
   "cell_type": "markdown",
   "metadata": {},
   "source": [
    "![___](https://biologicslab.co/BIO5853/images/Lesson_01_5/lesson_01_5_image07.png)"
   ]
  },
  {
   "cell_type": "markdown",
   "metadata": {
    "jp-MarkdownHeadingCollapsed": true
   },
   "source": [
    "## **Lesson Turn-in**\n",
    "\n",
    "When you have run all of the code cells print out a PDF copy of your COLAB notebook. You should name your PDF  `Lesson_01_5_lastname.pdf` where _lastname_ is your last name. Upload the PDF to Lesson_01_5 on Canvas for grading."
   ]
  }
 ],
 "metadata": {
  "kernelspec": {
   "display_name": "Python 3 (ipykernel)",
   "language": "python",
   "name": "python3"
  },
  "language_info": {
   "codemirror_mode": {
    "name": "ipython",
    "version": 3
   },
   "file_extension": ".py",
   "mimetype": "text/x-python",
   "name": "python",
   "nbconvert_exporter": "python",
   "pygments_lexer": "ipython3",
   "version": "3.11.5"
  }
 },
 "nbformat": 4,
 "nbformat_minor": 4
}
