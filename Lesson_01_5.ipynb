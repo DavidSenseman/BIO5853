{
 "cells": [
  {
   "cell_type": "markdown",
   "metadata": {
    "id": "bLEEW13uCtiJ"
   },
   "source": [
    "<a href=\"https://colab.research.google.com/github/DavidSenseman/BIO5853/blob/master/Lesson_01_5.ipynb\" target=\"_parent\"><img src=\"https://colab.research.google.com/assets/colab-badge.svg\" alt=\"Open In Colab\"/></a>"
   ]
  },
  {
   "cell_type": "markdown",
   "metadata": {},
   "source": [
    "---------------------------\n",
    "**COPYRIGHT NOTICE:** This Jupyterlab Notebook is a Derivative work of [Jeff Heaton](https://github.com/jeffheaton) licensed under the Apache License, Version 2.0 (the \"License\"); You may not use this file except in compliance with the License. You may obtain a copy of the License at\n",
    "\n",
    "> [http://www.apache.org/licenses/LICENSE-2.0](http://www.apache.org/licenses/LICENSE-2.0)\n",
    "\n",
    "Unless required by applicable law or agreed to in writing, software distributed under the License is distributed on an \"AS IS\" BASIS, WITHOUT WARRANTIES OR CONDITIONS OF ANY KIND, either express or implied. See the License for the specific language governing permissions and limitations under the License.\n",
    "\n",
    "------------------------"
   ]
  },
  {
   "cell_type": "markdown",
   "metadata": {},
   "source": [
    "# **BIO 5853: Biostatistics**"
   ]
  },
  {
   "cell_type": "markdown",
   "metadata": {
    "jp-MarkdownHeadingCollapsed": true
   },
   "source": [
    "##### **Module 1: Getting Started with Python**\n",
    "\n",
    "* Instructor: [David Senseman](mailto:David.Senseman@utsa.edu), [Department of Integrative Biology](https://sciences.utsa.edu/integrative-biology/), [UTSA](https://www.utsa.edu/)\n",
    "\n",
    "\n",
    "### Module 1 Material\n",
    "\n",
    "* Part 1.1: Course Overview \n",
    "* Part 1.2: Installing Python, Miniconda and Jupyter Lab\n",
    "* Part 1.3: Introduction to Jupyterlab AI, Google CoLab\n",
    "* Part 1.4: Python Basics 1 -- Strings, Variables and Indexing\n",
    "* **Part 1.5: Python Basics 2 -- Numbers, Booleans, Operators and Comparisons**\n",
    "* Part 1.6: Python Basics 3 -- Lists, Dictionaries, Sets and JSON\n",
    "* Part 1.7: Python Basics 4 -- Conditionals and Loops\n",
    "* Part 1.8: Python Basics 5 -- Packages, NumPy arrays and Matplotlib\n",
    "* Part 1.9: Python Basics 6 -- Pandas and File Handling"
   ]
  },
  {
   "cell_type": "markdown",
   "metadata": {},
   "source": [
    "## Lesson Setup\n",
    "\n",
    "Run the next code cell to load necessary packages"
   ]
  },
  {
   "cell_type": "code",
   "execution_count": null,
   "metadata": {},
   "outputs": [],
   "source": [
    "# You MUST run this code cell first\n",
    "import os\n",
    "import shutil\n",
    "path = '/'\n",
    "memory = shutil.disk_usage(path)\n",
    "dirpath = os.getcwd()\n",
    "print(\"Your current working directory is : \" + dirpath)\n",
    "print(\"Disk\", memory)"
   ]
  },
  {
   "cell_type": "markdown",
   "metadata": {
    "id": "yKQylnEiLDUM"
   },
   "source": [
    "## Google CoLab Instructions\n",
    "\n",
    "The following code ensures that Google CoLab is running the correct version of TensorFlow.\n",
    "  Running the following code will map your GDrive to ```/content/drive```."
   ]
  },
  {
   "cell_type": "code",
   "execution_count": null,
   "metadata": {
    "colab": {
     "base_uri": "https://localhost:8080/"
    },
    "id": "seXFCYH4LDUM",
    "outputId": "c05015aa-871e-4779-9265-5ad07e8bf617",
    "scrolled": true
   },
   "outputs": [],
   "source": [
    "# You must run this cell second\n",
    "try:\n",
    "    from google.colab import drive\n",
    "    drive.mount('/content/drive', force_remount=True)\n",
    "    from google.colab import auth\n",
    "    auth.authenticate_user()\n",
    "    COLAB = True\n",
    "    print(\"Note: using Google CoLab\")\n",
    "    %tensorflow_version 2.x\n",
    "    import requests\n",
    "    gcloud_token = !gcloud auth print-access-token\n",
    "    gcloud_tokeninfo = requests.get('https://www.googleapis.com/oauth2/v3/tokeninfo?access_token=' + gcloud_token[0]).json()\n",
    "    print(gcloud_tokeninfo['email'])\n",
    "except:\n",
    "    print(\"Note: not using Google CoLab\")\n",
    "    COLAB = False"
   ]
  },
  {
   "cell_type": "markdown",
   "metadata": {},
   "source": [
    "# Part 1.5: Python Basics\n",
    "\n",
    "In this lesson we continue our exploration of basic Python elements with a focus on _numbers_, _boolean values_, _operators_ and _expressions_.  "
   ]
  },
  {
   "cell_type": "markdown",
   "metadata": {},
   "source": [
    "## Python Numbers\n",
    "\n",
    "Numbers play a major role in biostatistics. In Python, numerical data can be subdivided into _integers_ and _decimal numbers_. Integers are type **int** while decimal numbers are type **float**. Python treats integers and floats differently depending upon how they are used with **operators**. "
   ]
  },
  {
   "cell_type": "markdown",
   "metadata": {
    "jp-MarkdownHeadingCollapsed": true
   },
   "source": [
    "### Operators and Expressions\n",
    "\n",
    "Python has a large number of **_operators_** that perform actions or \"operations\" on variables. In this lesson we focus on the use of operators on numerical data. In general, an _operator_ is a symbol that indicates a calculation using one or more **_operands_**. The combination of the operator and its operand(s) is called an **_expression_**.\n",
    "\n",
    "We start by looking at how Python treat's integers since they are the simpliest to work with."
   ]
  },
  {
   "cell_type": "markdown",
   "metadata": {
    "tags": []
   },
   "source": [
    "### Example 1: Use the `+` operator to _add_ two integers\n",
    "\n",
    "The cell below uses the addition operator `+` to add two _integers_ together. An integer is a whole number that does not have a decimal point. The number `3` is an integer. On the other hand, a floating point number has a decimal point. For example, the number `3.0000` is floating point number. While you might think the numbers `3` and `3.000` are equal to the same thing, in Python they are actually quite different as you will see shortly. "
   ]
  },
  {
   "cell_type": "code",
   "execution_count": null,
   "metadata": {},
   "outputs": [],
   "source": [
    "# Example 1: Add two integers\n",
    "\n",
    "# Use the addition operator +\n",
    "4 + 2"
   ]
  },
  {
   "cell_type": "markdown",
   "metadata": {},
   "source": [
    "JupyterLab reports that the addition of the two integers, `4` and `2` is the integer `6`. When adding two integers together, Python treats the sum as an integer."
   ]
  },
  {
   "cell_type": "markdown",
   "metadata": {},
   "source": [
    "### **Exercise 1: Use the `+` operator to add three integers**\n",
    "\n",
    "In the cell below, use the addition operator to add together the numbers 10, 6 and -5. To \"add\" the minus five, place it inside closed paratheses, `(-5)`. "
   ]
  },
  {
   "cell_type": "code",
   "execution_count": null,
   "metadata": {},
   "outputs": [],
   "source": [
    "# Insert your code for Exercise 1 here\n",
    "\n"
   ]
  },
  {
   "cell_type": "markdown",
   "metadata": {},
   "source": [
    "If your code is correct for Exercise 4, you should see the integer `11`. As before, when adding integers together, the answer will always be an integer."
   ]
  },
  {
   "cell_type": "markdown",
   "metadata": {
    "tags": []
   },
   "source": [
    "### Example 2: Use the `+` operator to add an integer to a float\n",
    "\n",
    "The cell below uses the addition operator `+` to add an integer and a _float_ together. \n",
    "\n",
    "In this example, the number `3.0000` is floating point number, or _float_. While you might think the numbers `3` and `3.000` would be equal, in Python they are actually quite different, as you will see shortly. "
   ]
  },
  {
   "cell_type": "code",
   "execution_count": null,
   "metadata": {},
   "outputs": [],
   "source": [
    "# Example 2: Add an integer to a float\n",
    "\n",
    "# Use the addition operator +\n",
    "4 + 3.0000"
   ]
  },
  {
   "cell_type": "markdown",
   "metadata": {},
   "source": [
    "The addition of the integer `4` to the float `3.0000` generates the floating point number `7.0` as the sum. Whenever an integer is added to a floating point number, the sum will always be a float."
   ]
  },
  {
   "cell_type": "markdown",
   "metadata": {},
   "source": [
    "### **Exercise 2: Use the `+` operator to 3 numbers**\n",
    "\n",
    "In the cell below, use the addition operator to add together the numbers 10, 6.00 and -5.12.  Use closed paratheses to add the `(-5.12)`. "
   ]
  },
  {
   "cell_type": "code",
   "execution_count": null,
   "metadata": {},
   "outputs": [],
   "source": [
    "# Insert your code for Exercise 2 here\n",
    "\n"
   ]
  },
  {
   "cell_type": "markdown",
   "metadata": {},
   "source": [
    "If your code is correct for Exercise 2, you should see the float `10.879999999999999`.\n",
    "\n",
    "This result looks kind of weird. If you use a simple calculator, `10 + 6.00 -5.12` is exactly **`10.88`**. As was mentioned above, Python treats integers and floating point numbers very differently. This is why the answer is not `10.88`.\n"
   ]
  },
  {
   "cell_type": "markdown",
   "metadata": {},
   "source": [
    "\n",
    "-----------------------------------\n",
    "\n",
    "### **Floating-point Error**\n",
    "\n",
    "**_Why 10.879999999999999 and not just 10.88?_**\n",
    "\n",
    "You might be wondering why Python didn't simply print out the value `10.88`? After all, that's the number you would get with a simple [$9.99 calculator](https://www.amazon.com/gp/aw/d/B07JFS1GY1/?_encoding=UTF8&pd_rd_plhdr=t&aaxitk=3fa28f61d5139dc78d22ce50beffdcbf&hsa_cr_id=3508290320501&qid=1703610042&sr=1-1-9e67e56a-6f64-441f-a281-df67fc737124&ref_=sbx_be_s_sparkle_mcd_asin_0_img&pd_rd_w=xBGAe&content-id=amzn1.sym.417820b0-80f2-4084-adb3-fb612550f30b%3Aamzn1.sym.417820b0-80f2-4084-adb3-fb612550f30b&pf_rd_p=417820b0-80f2-4084-adb3-fb612550f30b&pf_rd_r=CP82VHNNKKB1MG1A101M&pd_rd_wg=CG9QU&pd_rd_r=d1ee3eae-4cee-4083-88cd-7447575167d2&th=1) from Amazon. \n",
    "\n",
    "The answer is somewhat complicated but it has to do with how Python stores floating-point numbers in memory. \n",
    "\n",
    "Floating-point numbers are represented as a fraction (mantissa) and an exponent in binary notation. The mantissa represents the significant digits of the number and the exponent represents the magnitude of the number. The binary representation allows for efficient computation of arithmetic operations on real numbers, but can also lead to rounding errors due to the finite precision of the representation. This is because real numbers cannot be represented accurately in a fixed space. When performing operations with floating-point numbers, the result might not be able to be fully represented with the required precision. This inaccuracy ends up as information lost.\n",
    "\n",
    "Python tries to represent the result of _floating point operations_ as precisely as possible but **_floating-point errors_** occur in all programming languages. Depending upon the type of computational problem, this loss of precision may, or may not affect the validity of the answer. \n",
    "\n",
    "----------------------------------"
   ]
  },
  {
   "cell_type": "markdown",
   "metadata": {},
   "source": [
    "### Example 3: Use the `*` operator to multiple two integers\n",
    "\n",
    "The `*` operator is used to _multiple_ numbers together. The code in the cell below uses the `*` operator to multiple the integers 4 and 3. "
   ]
  },
  {
   "cell_type": "code",
   "execution_count": null,
   "metadata": {},
   "outputs": [],
   "source": [
    "# Example 3: Multiple two integers \n",
    "\n",
    "# Use the multiplication operator *\n",
    "4 * 3"
   ]
  },
  {
   "cell_type": "markdown",
   "metadata": {},
   "source": [
    "The product of multiplying two integers together will always produce an integer. In this example the integer `12`."
   ]
  },
  {
   "cell_type": "markdown",
   "metadata": {
    "tags": []
   },
   "source": [
    "### **Exercise 3: Use the `*` operator to multiple three numbers**\n",
    "\n",
    "In the cell below, use the `*` operator to multiple the numbers 10.2, 6 and 0.5 together. "
   ]
  },
  {
   "cell_type": "code",
   "execution_count": null,
   "metadata": {},
   "outputs": [],
   "source": [
    "# Insert your code for Exercise 3 here \n",
    "\n"
   ]
  },
  {
   "cell_type": "markdown",
   "metadata": {},
   "source": [
    "If your code is correct you should see `30.599999999999998`. As explained above, the muliplication _doesn't_ produce the expected value of `30.6` due to a _floating-point error_."
   ]
  },
  {
   "cell_type": "markdown",
   "metadata": {
    "tags": []
   },
   "source": [
    "### Example 4: Use the double asterisk operator to exponentiate a number\n",
    "\n",
    "Raising a number to a power is called **_exponentiation_**. In Python, the operator for exponentiation is a double asterisk `**`. The cell below uses the `**` operator to raise the number 4 to the power of 3."
   ]
  },
  {
   "cell_type": "code",
   "execution_count": null,
   "metadata": {},
   "outputs": [],
   "source": [
    "# Example 4: Raise a number to a power\n",
    "\n",
    "# Use the exponentiation (power) operator **\n",
    "4 ** 3"
   ]
  },
  {
   "cell_type": "markdown",
   "metadata": {},
   "source": [
    "As you might have guessed, taking an integer to a higher power (*exponentiation*) produces an integer, in this case `64`. "
   ]
  },
  {
   "cell_type": "markdown",
   "metadata": {
    "tags": []
   },
   "source": [
    "### **Exercise 4: Use the double asterisk operator to exponentiate a number**\n",
    "\n",
    "Use the `**` operator in the cell below to raise the floating point number 2.0 to the power of 8."
   ]
  },
  {
   "cell_type": "code",
   "execution_count": null,
   "metadata": {},
   "outputs": [],
   "source": [
    "# Insert your code for Exercise 4 here\n",
    "\n"
   ]
  },
  {
   "cell_type": "markdown",
   "metadata": {},
   "source": [
    "If your code for Exercise 4 is correct, you should see the floating-point number `256.0`. Since the number being exponentiated is a float, the answer is also a float, `256.0`."
   ]
  },
  {
   "cell_type": "markdown",
   "metadata": {
    "tags": []
   },
   "source": [
    "### Example 5: Use the integer division operator `//` to divide two integers\n",
    "\n",
    "Integer division in Python is done using the integer division operator `//`. The cell below uses the `//` operator to divide the number 24 by 8. "
   ]
  },
  {
   "cell_type": "code",
   "execution_count": null,
   "metadata": {},
   "outputs": [],
   "source": [
    "# Example 5: Perform integer division\n",
    "\n",
    "# Use the division operator /\n",
    "24 // 8"
   ]
  },
  {
   "cell_type": "markdown",
   "metadata": {},
   "source": [
    "Notice that the quotient, `3` is an integer. "
   ]
  },
  {
   "cell_type": "markdown",
   "metadata": {},
   "source": [
    "### **Exercise 5: Use the division operator `/` to divide two numbers**\n",
    "\n",
    "In the cell below, use the division operator `/` to divide the number `24` by `8`. "
   ]
  },
  {
   "cell_type": "code",
   "execution_count": null,
   "metadata": {},
   "outputs": [],
   "source": [
    "# Insert your code for Exercise 5 here\n",
    "\n"
   ]
  },
  {
   "cell_type": "markdown",
   "metadata": {},
   "source": [
    "If your code for Exercise 5 is correct, you should see the floating point number `3.0`. "
   ]
  },
  {
   "cell_type": "markdown",
   "metadata": {},
   "source": [
    "-------------------------------\n",
    "\n",
    "## **Note about Division Operators**\n",
    "\n",
    "When is comes to division, Python offers three different ways to divide one number by another. The example above in Exercise 5 used the backslash symbol `/`. This is _normal_ division and the answer (quotient) is always a floating number. \n",
    "\n",
    "Besides normal division, the double forward slash  `//` can used for _integer division_ with the answer being an integer. (Technically, the `//` operator produces _floor division_). \n",
    "\n",
    "Python can also be used for _modulo division_ using the percent `%` operator. \n",
    "\n",
    "-------------------------------"
   ]
  },
  {
   "cell_type": "markdown",
   "metadata": {},
   "source": [
    "## Truth Values and Boolean Operators\n",
    "\n",
    "Like other programming languages, Python provides operations on **_truth values_**. There are only two truth values in Python* `True` and `False`. Importantly, these words are *case sensitive*. In other words, Python does **not** recognize the word `TRUE` as a logical operator, only when the word is spelled as `True`.    \n",
    "\n",
    "Logical operators follow the mathematical laws of **_Boolean logic_**. The classic _Boolean operators_ are **not**, **and**, and **or**. In Python, Boolean values are written just that way, as _words_. This is different from some other programming languages that use special symbols.\n",
    "\n",
    "Because logical operators are used in machine learning algorithms you need to know about their use. While you are **not** expected to commit the Truth tables to memory, you will be expected to answer questions similar to thoes shown in the next examples and exercises.\n",
    "\n",
    "(* In the field of Philosophy, there are three truth values, True, False, and _Indeterminant_.)"
   ]
  },
  {
   "cell_type": "markdown",
   "metadata": {},
   "source": [
    "### Example 6: Truth tables and the AND operator\n",
    "\n",
    "The code cell below shows the results of the `and` operator when `A` is assigned to the value `True` and `B` is assigned to the value `False`."
   ]
  },
  {
   "cell_type": "code",
   "execution_count": null,
   "metadata": {},
   "outputs": [],
   "source": [
    "# Example 6: And operator\n",
    "\n",
    "# Define variables\n",
    "A = True\n",
    "B = False \n",
    "\n",
    "# Boolean operators\n",
    "and_result = A and B\n",
    "\n",
    "print(and_result)\n"
   ]
  },
  {
   "cell_type": "markdown",
   "metadata": {},
   "source": [
    "The output is `False`.\n",
    "\n",
    "Let's compare this result to the **AND Truth Table**. The red rectangle shows the result (`Y`) of `A` **and** `B`, when `A = True` and `B = False`.\n",
    "\n",
    "![_](https://biologicslab.co/BIO1173/images/class_01/AND_table.png)\n",
    "\n",
    "The table agrees with the output that the result should be `0` (False). If either `A` or `B` is `False` the result of the **and** operation will be `False`."
   ]
  },
  {
   "cell_type": "markdown",
   "metadata": {},
   "source": [
    "### **Exercise 6: Truth tables and the AND operator**\n",
    "\n",
    "In the cell below, write the code to show the results of the `and` operator when `A` is assigned to the value `True` and `B` is also assigned to the value `True`."
   ]
  },
  {
   "cell_type": "code",
   "execution_count": null,
   "metadata": {},
   "outputs": [],
   "source": [
    "# Insert your code for Exercise 6 here\n",
    "\n",
    "\n"
   ]
  },
  {
   "cell_type": "markdown",
   "metadata": {},
   "source": [
    "If your code is correct, the output should be `True`.\n",
    "\n",
    "Let's compare this result to the **AND Truth Table**. The red rectangle shows the result (`Y`) of `A` **and** `B`, when both `A = True` and `B = True`.\n",
    "\n",
    "![__](https://biologicslab.co/BIO1173/images/class_01/AND_table2.png)\n",
    "\n",
    "The table agrees with the output that the result should be `1` (`True`). For the **and** operator, both `A` **_and_** `B` must be `True` for the result to be `True`."
   ]
  },
  {
   "cell_type": "markdown",
   "metadata": {},
   "source": [
    "### Example 7: Truth tables and the OR operator\n",
    "\n",
    "The code in the cell below shows the results of the `or` operator when `A` is assigned to the value `True` and `B` is assigned to the value `False`."
   ]
  },
  {
   "cell_type": "code",
   "execution_count": null,
   "metadata": {},
   "outputs": [],
   "source": [
    "# Example 7; OR operator\n",
    "\n",
    "# Define variables\n",
    "A = True\n",
    "B = True \n",
    "\n",
    "# Boolean operators\n",
    "or_result = A or B\n",
    "\n",
    "print(or_result)\n"
   ]
  },
  {
   "cell_type": "markdown",
   "metadata": {},
   "source": [
    "The output is `True`.\n",
    "\n",
    "Let's compare this result to the **OR Truth Table**. The red rectangle shows the result (`Y`) of `A` **or** `B`, when `A = True` and `B = False`.\n",
    "\n",
    "![__](https://biologicslab.co/BIO1173/images/class_01/OR_table.png)\n",
    "\n",
    "The table agrees with the output that the result should be `1` (`True`). In order for the **or** operation to return a value of `True`, either `A` _or_ `B` must be `True`."
   ]
  },
  {
   "cell_type": "markdown",
   "metadata": {},
   "source": [
    "### **Exercise 7: Truth tables and the OR operator**\n",
    "\n",
    "In the cell write the code to show the results of the `or` operator when `A` is assigned to the value `False` and `B` is also assigned to the value `False`."
   ]
  },
  {
   "cell_type": "code",
   "execution_count": null,
   "metadata": {},
   "outputs": [],
   "source": [
    "# Insert your code for Exercise 7 here\n",
    "\n"
   ]
  },
  {
   "cell_type": "markdown",
   "metadata": {},
   "source": [
    "The output is `False`.\n",
    "\n",
    "Let's compare this result to the **OR Truth Table**. The red rectangle shows the result (`Y`) of `A` **or** `B`, when `A = False` and `B = False`.\n",
    "\n",
    "![__](https://biologicslab.co/BIO1173/images/class_01/OR_table2.png)\n",
    "\n",
    "The table agrees with the output that the result should be `0` (`False`). In order for the **or** operation to return a value of `False`, both `A` _and_ `B` must be `False`."
   ]
  },
  {
   "cell_type": "markdown",
   "metadata": {},
   "source": [
    "### Example 8: Truth tables and the NOT operator\n",
    "\n",
    "The code in the cell below shows the results of the `not` operator when `A` is assigned to the value `True`."
   ]
  },
  {
   "cell_type": "code",
   "execution_count": null,
   "metadata": {},
   "outputs": [],
   "source": [
    "# Example 8: NOT operator\n",
    "\n",
    "# Define variables\n",
    "A = True\n",
    "\n",
    "# Boolean operators\n",
    "not_result = not A\n",
    "\n",
    "print(not_result)\n"
   ]
  },
  {
   "cell_type": "markdown",
   "metadata": {},
   "source": [
    "The output is `False`. \n",
    "\n",
    "Let's compare this result to the **NOT Truth Table**. The red rectangle shows the result (`Y`) of **not** `A`, when `A = True`.\n",
    "\n",
    "![__](https://biologicslab.co/BIO1173/images/class_01/NOT_table.png)\n",
    "\n",
    "As shown in the table, the result is `0` (`False`). If `A = True`, then **`not`** `A` will return `False`."
   ]
  },
  {
   "cell_type": "markdown",
   "metadata": {},
   "source": [
    "### **Exercise 8: Truth tables and the NOT operator**\n",
    "\n",
    "In the cell below write the code to show the result of the `not` operator when `A` is assigned to the value `False`. "
   ]
  },
  {
   "cell_type": "code",
   "execution_count": null,
   "metadata": {},
   "outputs": [],
   "source": [
    "# Insert your code for Exercise 8 here\n",
    "\n",
    "\n"
   ]
  },
  {
   "cell_type": "markdown",
   "metadata": {},
   "source": [
    "If your code is correct the output should be `True`. \n",
    "\n",
    "Let's compare this result to the **NOT Truth Table**. The red rectangle shows the result (`Y`) of **not** `A`, when `A = False`.\n",
    "\n",
    "![__](https://biologicslab.co/BIO1173/images/class_01/NOT_table2.png)\n",
    "\n",
    "As shown in the table, the result is `1` (`True`). If `A = False`, then **`not`** `A` will return `True`."
   ]
  },
  {
   "cell_type": "markdown",
   "metadata": {},
   "source": [
    "---------------------------\n",
    "\n",
    "### **Boolean Operators**\n",
    "\n",
    "As you can see from the examples above, figuring out the results of a Boolean Logic statement can be a bit tricky. \n",
    "\n",
    "Boolean Logic is important for in Deep Learning. For the moment just keep in mind that Boolean Operators are one type of Python operator. \n",
    "\n",
    "-------------------------"
   ]
  },
  {
   "cell_type": "markdown",
   "metadata": {},
   "source": [
    "## Comparison Operators\n",
    "\n",
    "In addition to the Boolean operators, Python has six **comparison operators** that return the Boolean values `True` or `False`.\n",
    "\n",
    "These comparison operators use the following symbols: `==`, `!=`, `<`, `<=`, `>`, and `>=`. \n",
    "\n",
    "These symbols stand for the logical comparisons `equal to`, `less than`, `less than or equal`, `greater than` and `greater than or equal`, respectively. \n"
   ]
  },
  {
   "cell_type": "markdown",
   "metadata": {},
   "source": [
    "### Example 9: Comparison Operator `==`\n",
    "\n",
    "The code in the cell below shows the result of the **equal** comparison `==` when `A = 5`, and `B = 10`."
   ]
  },
  {
   "cell_type": "code",
   "execution_count": null,
   "metadata": {},
   "outputs": [],
   "source": [
    "# Example 9: Equal comparison\n",
    "\n",
    "# Define values\n",
    "A = 5\n",
    "B = 10\n",
    "\n",
    "# Perform comparison\n",
    "equal_result = (A == B)\n",
    "\n",
    "# Print output\n",
    "print(equal_result)"
   ]
  },
  {
   "cell_type": "markdown",
   "metadata": {},
   "source": [
    "The output is `False`. \n",
    "\n",
    "Since `A` and `B` are assigned different values, the comparison `A == B` returns the value `False`. "
   ]
  },
  {
   "cell_type": "markdown",
   "metadata": {},
   "source": [
    "### **Exercise 9: Comparison Operator `!=`**\n",
    "\n",
    "In the cell below write the code to show the result of the **not equal** comparison `!=` when `A = 5`, and `B = 10`."
   ]
  },
  {
   "cell_type": "code",
   "execution_count": null,
   "metadata": {},
   "outputs": [],
   "source": [
    "# Insert your code for Exercise 9 here\n",
    "\n"
   ]
  },
  {
   "cell_type": "markdown",
   "metadata": {},
   "source": [
    "If your code is correct the output should be `True`. \n",
    "\n",
    "Since `A` and `B` are assigned different values, the comparison `A != B` returns the value `True`. "
   ]
  },
  {
   "cell_type": "markdown",
   "metadata": {},
   "source": [
    "### Example 10: Comparison Operator `>`\n",
    "\n",
    "The code in the cell below shows the result of the **greater** comparison `>` when `A = 5`, and `B = 10`."
   ]
  },
  {
   "cell_type": "code",
   "execution_count": null,
   "metadata": {},
   "outputs": [],
   "source": [
    "# Example 10: Greater comparison\n",
    "\n",
    "# Define values\n",
    "A = 5\n",
    "B = 10\n",
    "\n",
    "# Perform comparison\n",
    "greater_result = (A > B)\n",
    "\n",
    "# Print output\n",
    "print(greater_result)"
   ]
  },
  {
   "cell_type": "markdown",
   "metadata": {},
   "source": [
    "The output is `False`. \n",
    "\n",
    "Since `A` is assigned a lower value than `B`, the comparison `A > B` returns the value `False`. "
   ]
  },
  {
   "cell_type": "markdown",
   "metadata": {},
   "source": [
    "### **Exercise 10: Comparison Operator `<`**\n",
    "\n",
    "In the cell below write the code to show the result of the **less** comparison `<` when `A = 5`, and `B = 10`."
   ]
  },
  {
   "cell_type": "code",
   "execution_count": null,
   "metadata": {},
   "outputs": [],
   "source": [
    "# Insert your code for Exercise 10 here\n",
    "\n"
   ]
  },
  {
   "cell_type": "markdown",
   "metadata": {},
   "source": [
    "If your code is correct the output should be `True`. \n",
    "\n",
    "Since `A` is assigned a lower value than `B`, the comparison `A < B` returns the value `True`. "
   ]
  },
  {
   "cell_type": "markdown",
   "metadata": {},
   "source": [
    "### Example 11: Comparison Operator `>=`\n",
    "\n",
    "The code in the cell below shows the result of the **greater than or equal** comparison `>=` when `A = 5`, and `B = 10`."
   ]
  },
  {
   "cell_type": "code",
   "execution_count": null,
   "metadata": {},
   "outputs": [],
   "source": [
    "# Example 11: Greater than or equal comparison\n",
    "\n",
    "# Define values\n",
    "A = 5\n",
    "B = 10\n",
    "\n",
    "# Perform comparison\n",
    "greater_or_equal_result = (A >= B)\n",
    "\n",
    "# Print output\n",
    "print(greater_or_equal_result)"
   ]
  },
  {
   "cell_type": "markdown",
   "metadata": {},
   "source": [
    "The output is `False`. \n",
    "\n",
    "Since `A` is assigned a lower value than `B`, the comparison `A >= B` returns the value `False`. "
   ]
  },
  {
   "cell_type": "markdown",
   "metadata": {},
   "source": [
    "### **Exercise 11: Comparison Operator `<=`**\n",
    "\n",
    "In the cell below write the code to show the result of the **less than or equal** comparison `<=` when `A = 5`, and `B = 10`."
   ]
  },
  {
   "cell_type": "code",
   "execution_count": null,
   "metadata": {},
   "outputs": [],
   "source": [
    "# Insert your code for Exercise 11 here\n",
    "\n"
   ]
  },
  {
   "cell_type": "markdown",
   "metadata": {},
   "source": [
    "If your code is correct the output should be `True`. \n",
    "\n",
    "Since `A` is assigned a lower value than `B`, the comparison `A <= B` returns the value `True`. "
   ]
  },
  {
   "cell_type": "markdown",
   "metadata": {},
   "source": [
    "------------------------------------\n",
    "\n",
    "## **Summary of Python Syntax**\n"
   ]
  },
  {
   "cell_type": "markdown",
   "metadata": {},
   "source": [
    "| Python Syntax           | Description                                         |\n",
    "|:------------------------|:----------------------------------------------------|\n",
    "| `#`                     | Symbol used to indicate a comment                   |     \n",
    "| `a = b`                 | Assigment                                           |\n",
    "| `a + b`                 | Addition                                            |\n",
    "| `a * b`                 | Multiplication                                      |\n",
    "| `a / b`                 | Division (normal)                                   |\n",
    "| `a // b`                | Division (floor)                                    |\n",
    "| `a % b`                 | Division (modulo)                                   |\n",
    "| `a ** b`                | Exponentiation (power)                              |\n",
    "| `a < b`                 | Less Than                                           |\n",
    "| `a > b`                 | Greater Than                                        |\n",
    "| `a <= b`                | Less Than or Equal                                  |\n",
    "| `a >= b`                | Greater Than or Equal                               |\n",
    "| `a == b`                | Equal To                                            |\n",
    "| `a and b`               | Logical AND                                         |\n",
    "| `a or b`                | Logical OR                                          |\n",
    "| `a not b`               | Logical Negation                                    |\n",
    "|                         |                                                     |\n"
   ]
  },
  {
   "cell_type": "markdown",
   "metadata": {},
   "source": [
    "## **Lesson Turn-in**\n",
    "\n",
    "When you have completed all of the code cells, and run them in sequential order (the last code cell should be number 24), use the **File --> Print.. --> Save to PDF** to generate a PDF of your JupyterLab notebook. Save your PDF as `Lesson_01_5.lastname.pdf` where _lastname_ is your last name, and upload the file to Canvas."
   ]
  }
 ],
 "metadata": {
  "kernelspec": {
   "display_name": "Python 3.9 (biostats)",
   "language": "python",
   "name": "biostats"
  },
  "language_info": {
   "codemirror_mode": {
    "name": "ipython",
    "version": 3
   },
   "file_extension": ".py",
   "mimetype": "text/x-python",
   "name": "python",
   "nbconvert_exporter": "python",
   "pygments_lexer": "ipython3",
   "version": "3.9.19"
  }
 },
 "nbformat": 4,
 "nbformat_minor": 4
}
