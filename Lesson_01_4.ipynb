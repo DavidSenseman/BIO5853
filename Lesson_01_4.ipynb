{
 "cells": [
  {
   "cell_type": "markdown",
   "metadata": {
    "id": "bLEEW13uCtiJ"
   },
   "source": [
    "<a href=\"https://colab.research.google.com/github/DavidSenseman/BIO5853/blob/master/Lesson_01_4.ipynb\" target=\"_parent\"><img src=\"https://colab.research.google.com/assets/colab-badge.svg\" alt=\"Open In Colab\"/></a>"
   ]
  },
  {
   "cell_type": "markdown",
   "metadata": {},
   "source": [
    "---------------------------\n",
    "**COPYRIGHT NOTICE:** This Jupyterlab Notebook is a Derivative work of [Jeff Heaton](https://github.com/jeffheaton) licensed under the Apache License, Version 2.0 (the \"License\"); You may not use this file except in compliance with the License. You may obtain a copy of the License at\n",
    "\n",
    "> [http://www.apache.org/licenses/LICENSE-2.0](http://www.apache.org/licenses/LICENSE-2.0)\n",
    "\n",
    "Unless required by applicable law or agreed to in writing, software distributed under the License is distributed on an \"AS IS\" BASIS, WITHOUT WARRANTIES OR CONDITIONS OF ANY KIND, either express or implied. See the License for the specific language governing permissions and limitations under the License.\n",
    "\n",
    "------------------------"
   ]
  },
  {
   "cell_type": "markdown",
   "metadata": {},
   "source": [
    "# **BIO5853: Biostatistics**"
   ]
  },
  {
   "cell_type": "markdown",
   "metadata": {},
   "source": [
    "## **Lesson_01_4: Charts**"
   ]
  },
  {
   "cell_type": "markdown",
   "metadata": {},
   "source": [
    "##### **Module I: Variability**\n",
    "\n",
    "* Instructor: [David Senseman](mailto:David.Senseman@utsa.edu), [Department of Integrative Biology](https://sciences.utsa.edu/integrative-biology/), [UTSA](https://www.utsa.edu/)\n",
    "\n",
    "### Module 1 Material\n",
    "* Part 1.1: Getting Started with Google COLAB\n",
    "* Part 1.2: Python Basics 1 -- Syntax, Operators, Expressions\n",
    "* Part 1.3: Python Basics 2 -- Functions, Variables, Strings\n",
    "* **Part 1.4: Python Basics 3 -- Charts**\n",
    "* Part 1.5: Python Basics 4 -- Numerical Summary Measures"
   ]
  },
  {
   "cell_type": "markdown",
   "metadata": {
    "jp-MarkdownHeadingCollapsed": true,
    "tags": []
   },
   "source": [
    "#### In this assignment you will learn about:\n",
    "\n",
    "* Bar Charts\n",
    "* Histograms\n",
    "* Box Plots\n",
    "* Scatter Plots\n",
    "* Line Graphs"
   ]
  },
  {
   "cell_type": "markdown",
   "metadata": {
    "id": "yKQylnEiLDUM"
   },
   "source": [
    "### Google CoLab Instructions\n",
    "\n",
    "The following code will map your GDrive to ```/content/drive``` and print out your Google GMAIL address."
   ]
  },
  {
   "cell_type": "code",
   "execution_count": null,
   "metadata": {
    "colab": {
     "base_uri": "https://localhost:8080/"
    },
    "id": "seXFCYH4LDUM",
    "outputId": "c05015aa-871e-4779-9265-5ad07e8bf617",
    "scrolled": true
   },
   "outputs": [],
   "source": [
    "# You must run this cell second\n",
    "try:\n",
    "    from google.colab import drive\n",
    "    drive.mount('/content/drive', force_remount=True)\n",
    "    from google.colab import auth\n",
    "    auth.authenticate_user()\n",
    "    COLAB = True\n",
    "    print(\"Note: using Google CoLab\")\n",
    "    %tensorflow_version 2.x\n",
    "    import requests\n",
    "    gcloud_token = !gcloud auth print-access-token\n",
    "    gcloud_tokeninfo = requests.get('https://www.googleapis.com/oauth2/v3/tokeninfo?access_token=' + gcloud_token[0]).json()\n",
    "    print(gcloud_tokeninfo['email'])\n",
    "except:\n",
    "    print(\"Note: not using Google CoLab\")\n",
    "    COLAB = False"
   ]
  },
  {
   "cell_type": "markdown",
   "metadata": {},
   "source": [
    "## **Graphs**\n",
    "\n",
    "Visualizing biostatistical data in graphical format is crucial for several reasons:\n",
    "\n",
    "* **Revealing Hidden Patterns:** Graphics reveal features that statistics and models may miss, such as unusual data distributions, local patterns, clusters, gaps, outliers, and more1. These visual cues can stimulate research and suggest new ideas.\n",
    "* **Data Exploration:** Graphs help us explore data structure, detect outliers, identify trends, and spot local patterns. They provide an intuitive way to become familiar with the data before diving into detailed analysis1.\n",
    "* **Data Cleaning:** Visualizations help identify data quality issues, such as missing values or evidence of rounding. By examining graphs, we can clean and preprocess the data effectively.\n",
    "* **Presenting Results:** Graphical displays make it easier for others to understand and interpret findings. A well-designed plot can convey complex information succinctly.\n",
    "\n",
    "The primary objective of this lesson is to show you the Python code that can be used to generate the various graphs and plots that are presented in section **2.3 Graphs** in your textbook starting on page 24."
   ]
  },
  {
   "cell_type": "markdown",
   "metadata": {
    "jp-MarkdownHeadingCollapsed": true
   },
   "source": [
    "### Data Input\n",
    "\n",
    "Before we can generate a graph we need to get access to the dataset that is shown in the graph. Today, datasets are mostly stored on the Internet in computer known as a **fileserver**. The file server for this course has the following URL \n",
    "\n",
    "<https://biologicslab.co>\n",
    "\n",
    " In addition, there a number of private and government websites we you can download biological and medical data sets. Here are 3 examples:\n",
    "\n",
    "1. **Kaggle:** Kaggle offers open datasets on various topics, including biology. You can explore and download datasets related to computer vision, natural language processing (NLP), and more \n",
    "2. **data.world:** This platform hosts 65 biology datasets contributed by users and organizations worldwide.\n",
    "3. **DagsHub:** DagsHub provides free open biology datasets for developing and training machine learning models."
   ]
  },
  {
   "cell_type": "markdown",
   "metadata": {},
   "source": [
    "### Pandas\n",
    "\n",
    "One of the most common ways to download data from the internet using Python uses a software package called Pandas.\n",
    "\n",
    "**_Pandas_** (pronounced as \"PAN-daz\") is a Python package designed for data manipulation and analysis. It provides data structures and operations for manipulating numerical tables and time series. \n",
    "\n",
    "Pandas is built on top of the Numpy package and provides a high-level interface for working with data including data selection, cleaning, filtering, aggregation, and visualization. \n",
    "\n",
    "A central concept in Pandas is the **_DataFrame_**. A Pandas DataFrame is generally the most commonly used Pandas object. \n",
    "\n",
    "A _DataFrame_ is a two-dimensional labeled data structure with columns of potentially different data types (e.g. integers, floats, and strings). They are very similar to an Excel spreadsheet in which each **_row_** represents a single experimental subject or clinical patient and each **_column_** contains a different experimental or clinical measurement from the subject.\n"
   ]
  },
  {
   "cell_type": "markdown",
   "metadata": {},
   "source": [
    "### The Pandas Package\n",
    "\n",
    "Like other Python packages, Pandas has to be _imported_ into a Python program with the following command before it can be used.\n",
    "\n",
    "`import pandas as pd`\n",
    "\n",
    "The normal _alias_ ('nickname') for Pandas is `pd`. When using a method that is part of a Pandas package, the alias `pd` will be used instead of the package name. For example, to use the Pandas `read_csv()` method, the command would be:\n",
    "\n",
    "`pd.read_csv(filename)`\n",
    "\n",
    "where `pd` standards for `pandas`."
   ]
  },
  {
   "cell_type": "markdown",
   "metadata": {},
   "source": [
    "## **Bar Charts**"
   ]
  },
  {
   "cell_type": "markdown",
   "metadata": {},
   "source": [
    "As your textbook points out, graphs are an important way to summarize data. Following your textbook, we begin with a very common type of graph, the **_bar chart_**."
   ]
  },
  {
   "cell_type": "markdown",
   "metadata": {},
   "source": [
    "A bar chart, also known as a bar graph, is a visual representation of data using rectangular bars. Here’s why it’s important:\n",
    "\n",
    "1. **Easy to Understand:** Bar charts are widely used because they are simple to interpret. Most audiences grasp the information they convey without difficulty.\n",
    "2. **Comparison and Trends:** They allow us to compare different categories or groups by representing values as bars. Additionally, bar charts can show changes over time, making them useful for visualizing trends.\n",
    "3. **Storytelling Medium:** Beyond mere numbers, bar charts become a medium for storytelling and simplifying complex information. They cater to both experts and novices3."
   ]
  },
  {
   "cell_type": "markdown",
   "metadata": {},
   "source": [
    "## Example 1: Recreate FIGURE 2.1\n",
    "\n",
    "Figure 2.1 in your textbook has the following legend:\n",
    "\n",
    "~~~text\n",
    "Bar chart: Major long-term health conditions experienced by Australian adults, 2014–2015; MBC = mental and behavioral conditions.\n",
    "~~~\n",
    "Let's see how we can create this chart ourselves and along the way, learn a little more about Python programming."
   ]
  },
  {
   "cell_type": "markdown",
   "metadata": {},
   "source": [
    "### Example 1A: Download Dataset\n",
    "\n",
    "The data used to generate FIGURE 2.1 can be found in a file called `australia_diseases.csv`. The file extension, `.csv` stands for `comma separated variables` which means each piece of data in this file is separated from each other by a comma.\n",
    "\n",
    "The Python code in the cell below uses the Pandas function `pd.read_csv()` to read the dataset `australia_diseases.csv` from the course file server. As the file is read, a Pandas DataFrame called `adDF` is created. There is nothing \"magical\" about the name `adDF` and we could have called it `AustrailiaDiseasesData` or simply `df`. As part of the _Zen of Python Programming_ shorter variable names are preferred to longer ones. In this course, I typically name a new DataFrame with a short pre-fix like `ad` followed by `DF` to remind you (and me) that this is a DataFrame.\n",
    "\n",
    "Whenever you create a new DataFrame, it's **always** a good idea to display some of the DataFrame's contents to make sure everything went according to plan. The code at the botton of cell sets the maximum rows and columns to display to `6` and then displays the contents of `adDF`."
   ]
  },
  {
   "cell_type": "code",
   "execution_count": 6,
   "metadata": {},
   "outputs": [
    {
     "data": {
      "text/html": [
       "<div>\n",
       "<style scoped>\n",
       "    .dataframe tbody tr th:only-of-type {\n",
       "        vertical-align: middle;\n",
       "    }\n",
       "\n",
       "    .dataframe tbody tr th {\n",
       "        vertical-align: top;\n",
       "    }\n",
       "\n",
       "    .dataframe thead th {\n",
       "        text-align: right;\n",
       "    }\n",
       "</style>\n",
       "<table border=\"1\" class=\"dataframe\">\n",
       "  <thead>\n",
       "    <tr style=\"text-align: right;\">\n",
       "      <th></th>\n",
       "      <th>disease</th>\n",
       "      <th>percent</th>\n",
       "    </tr>\n",
       "  </thead>\n",
       "  <tbody>\n",
       "    <tr>\n",
       "      <th>1</th>\n",
       "      <td>Mental and Behavioral Conditions</td>\n",
       "      <td>19.600000</td>\n",
       "    </tr>\n",
       "    <tr>\n",
       "      <th>2</th>\n",
       "      <td>Arthritis</td>\n",
       "      <td>19.799999</td>\n",
       "    </tr>\n",
       "    <tr>\n",
       "      <th>3</th>\n",
       "      <td>Hypertension</td>\n",
       "      <td>14.600000</td>\n",
       "    </tr>\n",
       "    <tr>\n",
       "      <th>...</th>\n",
       "      <td>...</td>\n",
       "      <td>...</td>\n",
       "    </tr>\n",
       "    <tr>\n",
       "      <th>8</th>\n",
       "      <td>Osteoporosis</td>\n",
       "      <td>4.500000</td>\n",
       "    </tr>\n",
       "    <tr>\n",
       "      <th>9</th>\n",
       "      <td>Cancer</td>\n",
       "      <td>2.100000</td>\n",
       "    </tr>\n",
       "    <tr>\n",
       "      <th>10</th>\n",
       "      <td>Kidney Disease</td>\n",
       "      <td>1.100000</td>\n",
       "    </tr>\n",
       "  </tbody>\n",
       "</table>\n",
       "<p>10 rows × 2 columns</p>\n",
       "</div>"
      ],
      "text/plain": [
       "                             disease    percent\n",
       "1   Mental and Behavioral Conditions  19.600000\n",
       "2                          Arthritis  19.799999\n",
       "3                       Hypertension  14.600000\n",
       "..                               ...        ...\n",
       "8                       Osteoporosis   4.500000\n",
       "9                             Cancer   2.100000\n",
       "10                    Kidney Disease   1.100000\n",
       "\n",
       "[10 rows x 2 columns]"
      ]
     },
     "metadata": {},
     "output_type": "display_data"
    }
   ],
   "source": [
    "# Example 1A: Read data file and create Pandas DataFrame\n",
    "\n",
    "import pandas as pd\n",
    "\n",
    "# Read the datafile \n",
    "adDF = pd.read_csv(\n",
    "    \"https://biologicslab.co/BIO5853/data/australia_diseases.csv\",\n",
    "    index_col=0,\n",
    "    na_values=['NA','?'])\n",
    "\n",
    "# Set max rows and max columns\n",
    "pd.set_option('display.max_rows', 6)\n",
    "pd.set_option('display.max_columns', 6) \n",
    "\n",
    "# Display DataFrame\n",
    "display(adDF)"
   ]
  },
  {
   "cell_type": "markdown",
   "metadata": {},
   "source": [
    "If the code is correct, you should see the following table:\n",
    "\n",
    "![___](https://biologicslab.co/BIO5853/images/module_01/lesson_01_4_image1.png)\n"
   ]
  },
  {
   "cell_type": "markdown",
   "metadata": {},
   "source": [
    "### Example 1B: Create Bar Chart\n",
    "\n",
    "Now that the austrailian disease data is stored in our DataFrame, `adDF`, we can create the bar chart shown in FIGURE 2.1.\n",
    "\n",
    "The first line of code `import matplotlib.pyplot as plt`. Matplotlib is a powerful plotting library in Python that serves as a visualization utility. It's primary purpose is to provide users with tools and functionality to represent data graphically. It makes data analysis and understanding easier by creating static, animated, and interactive visualizations.\n",
    "\n",
    "This next code snippet sorts the values in the DataFrame so the largest one (`Arithitis`) will be at the top of the graph:\n",
    "\n",
    "~~~text\n",
    "# Sort data\n",
    "adDF.sort_values(by=['percent', 'disease'], ascending=True, inplace=True)\n",
    "~~~\n",
    "\n",
    "To make our graph look like FIGURE 2.1, we need to rename the category called `Mental and Behavioral Conditions` simply `MBC` using the next code snippet:\n",
    "\n",
    "~~~text\n",
    "adDF['disease'] = adDF['disease'].cat.rename_categories({'Mental and Behavioral Conditions': 'MBC'})\n",
    "~~\n",
    "\n",
    "Now we are ready to go ahead and assign values to `x` and `y` using this code snippet:\n",
    "\n",
    "~~~text\n",
    "# Assign x and y\n",
    "x=adDF['percent']\n",
    "y=adDF['disease']\n",
    "~~~\n",
    "\n",
    "This notation means that our `x` values will be the values (numbers) in the DataFrame column called `percent` while the `y` values will be the values in the DataFrame column called `disease`. \n",
    "\n",
    "Like a lot of programming, the actual line of code to generate the actual bar plot is fairly short:\n",
    "\n",
    "~~~text\n",
    "# Plot the bar chart\n",
    "plt.barh(y, x, align='edge', color='#294171')\n",
    "~~~~\n",
    "\n",
    "The reason that the color value `#294171` looks a little odd, is that I was trying to closely match the color of the bar chart as it appears on my Kindle app. If you just wanted to make the color blue, you could have simply used `color='b'` or `color='r'` for red, or `color='k'` for black.\n",
    "\n",
    "The rest of the code simply as the appropiate labels."
   ]
  },
  {
   "cell_type": "code",
   "execution_count": 7,
   "metadata": {},
   "outputs": [
    {
     "data": {
      "image/png": "[encoded data removed]",
      "text/plain": [
       "<Figure size 640x480 with 1 Axes>"
      ]
     },
     "metadata": {},
     "output_type": "display_data"
    }
   ],
   "source": [
    "# Example 1B: Create Bar Chart FIGURE 2.1\n",
    "\n",
    "import matplotlib.pyplot as plt\n",
    "import pandas as pd\n",
    "\n",
    "# Sort data\n",
    "adDF.sort_values(by=['percent', 'disease'], ascending=True, inplace=True)\n",
    "\n",
    "# Rename category to MBC\n",
    "adDF['disease'] = adDF['disease'].astype('category')\n",
    "adDF['disease'] = adDF['disease'].cat.rename_categories({'Mental and Behavioral Conditions': 'MBC'})\n",
    "\n",
    "# Assign x and y\n",
    "x=adDF['percent']\n",
    "y=adDF['disease']\n",
    "\n",
    "# Plot the bar chart\n",
    "plt.barh(y, x, align='center', color='#294171')\n",
    "\n",
    "# Add labels\n",
    "plt.ylabel(\"\")\n",
    "plt.xlabel(\"Austrailian adults 18 years and older (%)\")\n",
    "plt.title(\"FIGURE 2.1\")\n",
    "\n",
    "# Show the chart\n",
    "plt.show()\n"
   ]
  },
  {
   "cell_type": "markdown",
   "metadata": {},
   "source": [
    "If the code is correct, you should see the following bar chart:\n",
    "\n",
    "![_](https://biologicslab.co/BIO5853/images/module_01/lesson_01_4_image2.png)\n"
   ]
  },
  {
   "cell_type": "markdown",
   "metadata": {},
   "source": [
    "### **Exercise 1: Create Bar Chart**\n",
    "\n",
    "For **Exercise 1** you are to create a bar chart using data in a file called "
   ]
  },
  {
   "cell_type": "code",
   "execution_count": 1,
   "metadata": {
    "scrolled": true
   },
   "outputs": [
    {
     "data": {
      "text/html": [
       "<div>\n",
       "<style scoped>\n",
       "    .dataframe tbody tr th:only-of-type {\n",
       "        vertical-align: middle;\n",
       "    }\n",
       "\n",
       "    .dataframe tbody tr th {\n",
       "        vertical-align: top;\n",
       "    }\n",
       "\n",
       "    .dataframe thead th {\n",
       "        text-align: right;\n",
       "    }\n",
       "</style>\n",
       "<table border=\"1\" class=\"dataframe\">\n",
       "  <thead>\n",
       "    <tr style=\"text-align: right;\">\n",
       "      <th></th>\n",
       "      <th>Country</th>\n",
       "      <th>Year</th>\n",
       "      <th>mortality</th>\n",
       "    </tr>\n",
       "  </thead>\n",
       "  <tbody>\n",
       "    <tr>\n",
       "      <th>1</th>\n",
       "      <td>US</td>\n",
       "      <td>1990</td>\n",
       "      <td>16.900000</td>\n",
       "    </tr>\n",
       "    <tr>\n",
       "      <th>2</th>\n",
       "      <td>UK</td>\n",
       "      <td>1990</td>\n",
       "      <td>10.900000</td>\n",
       "    </tr>\n",
       "    <tr>\n",
       "      <th>3</th>\n",
       "      <td>Portugal</td>\n",
       "      <td>1990</td>\n",
       "      <td>18.799999</td>\n",
       "    </tr>\n",
       "    <tr>\n",
       "      <th>...</th>\n",
       "      <td>...</td>\n",
       "      <td>...</td>\n",
       "      <td>...</td>\n",
       "    </tr>\n",
       "    <tr>\n",
       "      <th>40</th>\n",
       "      <td>Italy</td>\n",
       "      <td>2015</td>\n",
       "      <td>5.800000</td>\n",
       "    </tr>\n",
       "    <tr>\n",
       "      <th>41</th>\n",
       "      <td>Denmark</td>\n",
       "      <td>2015</td>\n",
       "      <td>4.200000</td>\n",
       "    </tr>\n",
       "    <tr>\n",
       "      <th>42</th>\n",
       "      <td>Finland</td>\n",
       "      <td>2015</td>\n",
       "      <td>3.800000</td>\n",
       "    </tr>\n",
       "  </tbody>\n",
       "</table>\n",
       "<p>42 rows × 3 columns</p>\n",
       "</div>"
      ],
      "text/plain": [
       "     Country  Year  mortality\n",
       "1         US  1990  16.900000\n",
       "2         UK  1990  10.900000\n",
       "3   Portugal  1990  18.799999\n",
       "..       ...   ...        ...\n",
       "40     Italy  2015   5.800000\n",
       "41   Denmark  2015   4.200000\n",
       "42   Finland  2015   3.800000\n",
       "\n",
       "[42 rows x 3 columns]"
      ]
     },
     "metadata": {},
     "output_type": "display_data"
    }
   ],
   "source": [
    "# Example 1: Read data file and create Pandas DataFrame\n",
    "\n",
    "import pandas as pd\n",
    "\n",
    "# Read the datafile \n",
    "mmDF = pd.read_csv(\n",
    "    \"https://biologicslab.co/BIO5853/data/maternal_mortality_countries.csv\",\n",
    "    index_col=0,\n",
    "    na_values=['NA','?'])\n",
    "\n",
    "# Set max rows and max columns\n",
    "pd.set_option('display.max_rows', 6)\n",
    "pd.set_option('display.max_columns', 3) \n",
    "\n",
    "# Display DataFrame\n",
    "display(mmDF)"
   ]
  },
  {
   "cell_type": "markdown",
   "metadata": {},
   "source": [
    "If the code is correct, you should see the following bar chart:\n",
    "\n",
    "![_](https://biologicslab.co/BIO5853/images/module_01/lesson_01_4_image3.png)\n"
   ]
  },
  {
   "cell_type": "code",
   "execution_count": 2,
   "metadata": {
    "scrolled": true
   },
   "outputs": [
    {
     "data": {
      "image/png": "[encoded data removed]",
      "text/plain": [
       "<Figure size 640x480 with 1 Axes>"
      ]
     },
     "metadata": {},
     "output_type": "display_data"
    }
   ],
   "source": [
    "# Insert your code for Exercise 1B here\n",
    "\n",
    "import matplotlib.pyplot as plt\n",
    "import pandas as pd\n",
    "\n",
    "# Create a logical mask\n",
    "mask=mmDF['Year'] < 2015\n",
    "\n",
    "# Mask all data not 2015\n",
    "df_mask = mmDF.mask(mask)\n",
    "\n",
    "# Drop all the NaN values\n",
    "df_2015=df_mask.dropna()\n",
    "\n",
    "# Sort data by mortality with highest at top\n",
    "df_sorted=df_2015.sort_values(by=['mortality'], ascending=True)\n",
    "\n",
    "# Assign x- and y-values\n",
    "x=df_sorted['mortality']\n",
    "y=df_sorted['Country']\n",
    "\n",
    "# Plot the bar chart\n",
    "plt.barh(y, x, align='center', color='#294171')\n",
    "\n",
    "# Add labels\n",
    "plt.ylabel(\"\")\n",
    "plt.xlabel(\"Maternal Mortality (deaths per 100,000 live births)\")\n",
    "plt.title(\"Maternal Mortality by Country (2015)\")\n",
    "\n",
    "# Show the chart\n",
    "plt.show()\n"
   ]
  },
  {
   "cell_type": "markdown",
   "metadata": {},
   "source": [
    "If the code is correct, you should see the following bar chart:\n",
    "\n",
    "![_](https://biologicslab.co/BIO5853/images/module_01/lesson_01_4_image4.png)\n"
   ]
  },
  {
   "cell_type": "code",
   "execution_count": null,
   "metadata": {},
   "outputs": [],
   "source": []
  },
  {
   "cell_type": "markdown",
   "metadata": {},
   "source": [
    "------------------\n",
    "\n",
    "### **Maternal Mortality**\n",
    "As of 2021, the maternal mortality rate in the United States was 32.9 deaths per 100,000 live births. This represents an increase compared to 23.8 in 2020 and 20.1 in 2019. Notably, the rate for non-Hispanic Black women was 69.9 deaths per 100,000 live births, significantly higher than the rate for non-Hispanic White women (26.6) and Hispanic women (27.5). Rates also varied by age, with higher rates observed in older age groups. These figures highlight the importance of addressing disparities in maternal health outcomes across different racial and ethnic groups.\n",
    "\n",
    "--------------"
   ]
  },
  {
   "cell_type": "code",
   "execution_count": null,
   "metadata": {},
   "outputs": [],
   "source": []
  },
  {
   "cell_type": "markdown",
   "metadata": {},
   "source": [
    "## **Histograms**"
   ]
  },
  {
   "cell_type": "markdown",
   "metadata": {},
   "source": [
    "A **_Histogram_** is a graph that displays the distribution of continuous data. It’s a powerful exploratory tool because it reveals properties about sample data that summary statistics alone cannot capture. Here’s why histograms matter in biostatistics:\n",
    "\n",
    "* **Summarizing Patterns:** Histograms help summarize patterns in data. They group data into adjacent intervals (bins) and count how many observations fall into each bin. This provides a quick impression of the data’s general distribution.\n",
    "* **Normality Assessment:** Biostatisticians often use histograms to assess whether a sample distribution approximates a normal distribution. Deviations from normality can impact statistical analyses.\n",
    "* **Range and Variability:** By examining a histogram, you can see the data range and get a qualitative sense of variability and central tendency.\n",
    "* **Probability Estimation:** Histograms allow you to estimate the probability of any value within the continuous variable under study. This is crucial for making inferences and estimating population values from sample results12."
   ]
  },
  {
   "cell_type": "markdown",
   "metadata": {},
   "source": [
    "## Example 2: Create a Histogram (FIGURE 2.3)\n",
    "\n"
   ]
  },
  {
   "cell_type": "markdown",
   "metadata": {},
   "source": [
    "### Example 2A: Download Dataset\n"
   ]
  },
  {
   "cell_type": "code",
   "execution_count": 3,
   "metadata": {
    "scrolled": true
   },
   "outputs": [
    {
     "data": {
      "text/html": [
       "<div>\n",
       "<style scoped>\n",
       "    .dataframe tbody tr th:only-of-type {\n",
       "        vertical-align: middle;\n",
       "    }\n",
       "\n",
       "    .dataframe tbody tr th {\n",
       "        vertical-align: top;\n",
       "    }\n",
       "\n",
       "    .dataframe thead th {\n",
       "        text-align: right;\n",
       "    }\n",
       "</style>\n",
       "<table border=\"1\" class=\"dataframe\">\n",
       "  <thead>\n",
       "    <tr style=\"text-align: right;\">\n",
       "      <th></th>\n",
       "      <th>level</th>\n",
       "      <th>midpoint</th>\n",
       "      <th>young</th>\n",
       "      <th>old</th>\n",
       "      <th>lower</th>\n",
       "      <th>young_rel_freq</th>\n",
       "      <th>young_cum_freq</th>\n",
       "      <th>old_rel_freq</th>\n",
       "      <th>old_cum_freq</th>\n",
       "      <th>bounds</th>\n",
       "    </tr>\n",
       "  </thead>\n",
       "  <tbody>\n",
       "    <tr>\n",
       "      <th>1</th>\n",
       "      <td>80-119</td>\n",
       "      <td>99.5</td>\n",
       "      <td>13</td>\n",
       "      <td>5</td>\n",
       "      <td>80</td>\n",
       "      <td>1.200000</td>\n",
       "      <td>1.200000</td>\n",
       "      <td>0.4</td>\n",
       "      <td>0.400000</td>\n",
       "      <td>79.5</td>\n",
       "    </tr>\n",
       "    <tr>\n",
       "      <th>2</th>\n",
       "      <td>120-159</td>\n",
       "      <td>139.5</td>\n",
       "      <td>150</td>\n",
       "      <td>48</td>\n",
       "      <td>120</td>\n",
       "      <td>14.100000</td>\n",
       "      <td>15.300000</td>\n",
       "      <td>3.9</td>\n",
       "      <td>4.300000</td>\n",
       "      <td>119.5</td>\n",
       "    </tr>\n",
       "    <tr>\n",
       "      <th>3</th>\n",
       "      <td>160-199</td>\n",
       "      <td>179.5</td>\n",
       "      <td>442</td>\n",
       "      <td>265</td>\n",
       "      <td>160</td>\n",
       "      <td>41.400002</td>\n",
       "      <td>56.700001</td>\n",
       "      <td>21.6</td>\n",
       "      <td>25.900000</td>\n",
       "      <td>159.5</td>\n",
       "    </tr>\n",
       "    <tr>\n",
       "      <th>...</th>\n",
       "      <td>...</td>\n",
       "      <td>...</td>\n",
       "      <td>...</td>\n",
       "      <td>...</td>\n",
       "      <td>...</td>\n",
       "      <td>...</td>\n",
       "      <td>...</td>\n",
       "      <td>...</td>\n",
       "      <td>...</td>\n",
       "      <td>...</td>\n",
       "    </tr>\n",
       "    <tr>\n",
       "      <th>7</th>\n",
       "      <td>320-359</td>\n",
       "      <td>339.5</td>\n",
       "      <td>9</td>\n",
       "      <td>35</td>\n",
       "      <td>320</td>\n",
       "      <td>0.800000</td>\n",
       "      <td>99.500000</td>\n",
       "      <td>2.9</td>\n",
       "      <td>99.400002</td>\n",
       "      <td>319.5</td>\n",
       "    </tr>\n",
       "    <tr>\n",
       "      <th>8</th>\n",
       "      <td>360-399</td>\n",
       "      <td>379.5</td>\n",
       "      <td>5</td>\n",
       "      <td>7</td>\n",
       "      <td>360</td>\n",
       "      <td>0.500000</td>\n",
       "      <td>100.000000</td>\n",
       "      <td>0.6</td>\n",
       "      <td>100.000000</td>\n",
       "      <td>359.5</td>\n",
       "    </tr>\n",
       "    <tr>\n",
       "      <th>9</th>\n",
       "      <td>400-439</td>\n",
       "      <td>419.5</td>\n",
       "      <td>1</td>\n",
       "      <td>0</td>\n",
       "      <td>400</td>\n",
       "      <td>0.000000</td>\n",
       "      <td>100.000000</td>\n",
       "      <td>0.0</td>\n",
       "      <td>100.000000</td>\n",
       "      <td>399.5</td>\n",
       "    </tr>\n",
       "  </tbody>\n",
       "</table>\n",
       "<p>9 rows × 10 columns</p>\n",
       "</div>"
      ],
      "text/plain": [
       "      level  midpoint  young  old  lower  young_rel_freq  young_cum_freq  \\\n",
       "1    80-119      99.5     13    5     80        1.200000        1.200000   \n",
       "2   120-159     139.5    150   48    120       14.100000       15.300000   \n",
       "3   160-199     179.5    442  265    160       41.400002       56.700001   \n",
       "..      ...       ...    ...  ...    ...             ...             ...   \n",
       "7   320-359     339.5      9   35    320        0.800000       99.500000   \n",
       "8   360-399     379.5      5    7    360        0.500000      100.000000   \n",
       "9   400-439     419.5      1    0    400        0.000000      100.000000   \n",
       "\n",
       "    old_rel_freq  old_cum_freq  bounds  \n",
       "1            0.4      0.400000    79.5  \n",
       "2            3.9      4.300000   119.5  \n",
       "3           21.6     25.900000   159.5  \n",
       "..           ...           ...     ...  \n",
       "7            2.9     99.400002   319.5  \n",
       "8            0.6    100.000000   359.5  \n",
       "9            0.0    100.000000   399.5  \n",
       "\n",
       "[9 rows x 10 columns]"
      ]
     },
     "metadata": {},
     "output_type": "display_data"
    }
   ],
   "source": [
    "# Example 2A: Read data file and create DataFrame\n",
    "\n",
    "import pandas as pd\n",
    "\n",
    "# Read the datafile \n",
    "scDF = pd.read_csv(\n",
    "    \"https://biologicslab.co/BIO5853/data/serum_chol.csv\",\n",
    "    index_col=0,\n",
    "    na_values=['NA','?'])\n",
    "\n",
    "# Set max rows and max columns\n",
    "pd.set_option('display.max_rows', 6)\n",
    "pd.set_option('display.max_columns', 10) \n",
    "\n",
    "# Display DataFrame\n",
    "display(scDF)"
   ]
  },
  {
   "cell_type": "markdown",
   "metadata": {},
   "source": [
    "If the code is correct, you should see the following bar chart:\n",
    "\n",
    "![_](https://biologicslab.co/BIO5853/images/module_01/lesson_01_4_image5.png)\n"
   ]
  },
  {
   "cell_type": "code",
   "execution_count": null,
   "metadata": {},
   "outputs": [],
   "source": []
  },
  {
   "cell_type": "code",
   "execution_count": null,
   "metadata": {
    "scrolled": true
   },
   "outputs": [],
   "source": [
    "# Example 2B: Create Histogram (FIGURE 2.3)\n",
    "\n",
    "import matplotlib.pyplot as plt\n",
    "\n",
    "# Assign x- and y-values\n",
    "x = scDF.bounds\n",
    "y = scDF.young_rel_freq\n",
    "\n",
    "# Prepare for plotting\n",
    "fig, ax = plt.subplots()\n",
    "\n",
    "# Plot bar\n",
    "ax.bar(x, y, width=38, edgecolor=\"white\",\n",
    "       color='#294171',\n",
    "       linewidth=0.7)\n",
    "\n",
    "# Add labels and title\n",
    "ax.set_xlabel(\"Serum cholesterol level (mg/100 ml)\")\n",
    "ax.set_ylabel(\"Relative frequency of males (%)\")\n",
    "ax.set_title(\"FIGURE 2.3\")\n",
    "\n",
    "# Set tick marks and axes\n",
    "ax.set_xticks(x)\n",
    "ax.set(xlim=(50, 400),\n",
    "       ylim=(0, 45))\n",
    "\n",
    "\n",
    "# Show plot\n",
    "plt.show()"
   ]
  },
  {
   "cell_type": "markdown",
   "metadata": {},
   "source": [
    "If the code is correct, you should see the following bar chart:\n",
    "\n",
    "![_](https://biologicslab.co/BIO5853/images/module_01/lesson_01_4_image6.png)\n"
   ]
  },
  {
   "cell_type": "code",
   "execution_count": null,
   "metadata": {},
   "outputs": [],
   "source": []
  },
  {
   "cell_type": "code",
   "execution_count": null,
   "metadata": {},
   "outputs": [],
   "source": []
  },
  {
   "cell_type": "code",
   "execution_count": 4,
   "metadata": {
    "scrolled": true
   },
   "outputs": [
    {
     "data": {
      "text/html": [
       "<div>\n",
       "<style scoped>\n",
       "    .dataframe tbody tr th:only-of-type {\n",
       "        vertical-align: middle;\n",
       "    }\n",
       "\n",
       "    .dataframe tbody tr th {\n",
       "        vertical-align: top;\n",
       "    }\n",
       "\n",
       "    .dataframe thead th {\n",
       "        text-align: right;\n",
       "    }\n",
       "</style>\n",
       "<table border=\"1\" class=\"dataframe\">\n",
       "  <thead>\n",
       "    <tr style=\"text-align: right;\">\n",
       "      <th></th>\n",
       "      <th>Pregnancies</th>\n",
       "      <th>Glucose</th>\n",
       "      <th>BloodPressure</th>\n",
       "      <th>SkinThickness</th>\n",
       "      <th>Insulin</th>\n",
       "      <th>BMI</th>\n",
       "      <th>DiabetesPedigreeFunction</th>\n",
       "      <th>Age</th>\n",
       "      <th>Outcome</th>\n",
       "    </tr>\n",
       "  </thead>\n",
       "  <tbody>\n",
       "    <tr>\n",
       "      <th>0</th>\n",
       "      <td>6</td>\n",
       "      <td>148</td>\n",
       "      <td>72</td>\n",
       "      <td>35</td>\n",
       "      <td>0</td>\n",
       "      <td>33.6</td>\n",
       "      <td>0.627</td>\n",
       "      <td>50</td>\n",
       "      <td>1</td>\n",
       "    </tr>\n",
       "    <tr>\n",
       "      <th>1</th>\n",
       "      <td>1</td>\n",
       "      <td>85</td>\n",
       "      <td>66</td>\n",
       "      <td>29</td>\n",
       "      <td>0</td>\n",
       "      <td>26.6</td>\n",
       "      <td>0.351</td>\n",
       "      <td>31</td>\n",
       "      <td>0</td>\n",
       "    </tr>\n",
       "    <tr>\n",
       "      <th>2</th>\n",
       "      <td>8</td>\n",
       "      <td>183</td>\n",
       "      <td>64</td>\n",
       "      <td>0</td>\n",
       "      <td>0</td>\n",
       "      <td>23.3</td>\n",
       "      <td>0.672</td>\n",
       "      <td>32</td>\n",
       "      <td>1</td>\n",
       "    </tr>\n",
       "    <tr>\n",
       "      <th>...</th>\n",
       "      <td>...</td>\n",
       "      <td>...</td>\n",
       "      <td>...</td>\n",
       "      <td>...</td>\n",
       "      <td>...</td>\n",
       "      <td>...</td>\n",
       "      <td>...</td>\n",
       "      <td>...</td>\n",
       "      <td>...</td>\n",
       "    </tr>\n",
       "    <tr>\n",
       "      <th>765</th>\n",
       "      <td>5</td>\n",
       "      <td>121</td>\n",
       "      <td>72</td>\n",
       "      <td>23</td>\n",
       "      <td>112</td>\n",
       "      <td>26.2</td>\n",
       "      <td>0.245</td>\n",
       "      <td>30</td>\n",
       "      <td>0</td>\n",
       "    </tr>\n",
       "    <tr>\n",
       "      <th>766</th>\n",
       "      <td>1</td>\n",
       "      <td>126</td>\n",
       "      <td>60</td>\n",
       "      <td>0</td>\n",
       "      <td>0</td>\n",
       "      <td>30.1</td>\n",
       "      <td>0.349</td>\n",
       "      <td>47</td>\n",
       "      <td>1</td>\n",
       "    </tr>\n",
       "    <tr>\n",
       "      <th>767</th>\n",
       "      <td>1</td>\n",
       "      <td>93</td>\n",
       "      <td>70</td>\n",
       "      <td>31</td>\n",
       "      <td>0</td>\n",
       "      <td>30.4</td>\n",
       "      <td>0.315</td>\n",
       "      <td>23</td>\n",
       "      <td>0</td>\n",
       "    </tr>\n",
       "  </tbody>\n",
       "</table>\n",
       "<p>768 rows × 9 columns</p>\n",
       "</div>"
      ],
      "text/plain": [
       "     Pregnancies  Glucose  BloodPressure  SkinThickness  Insulin   BMI  \\\n",
       "0              6      148             72             35        0  33.6   \n",
       "1              1       85             66             29        0  26.6   \n",
       "2              8      183             64              0        0  23.3   \n",
       "..           ...      ...            ...            ...      ...   ...   \n",
       "765            5      121             72             23      112  26.2   \n",
       "766            1      126             60              0        0  30.1   \n",
       "767            1       93             70             31        0  30.4   \n",
       "\n",
       "     DiabetesPedigreeFunction  Age  Outcome  \n",
       "0                       0.627   50        1  \n",
       "1                       0.351   31        0  \n",
       "2                       0.672   32        1  \n",
       "..                        ...  ...      ...  \n",
       "765                     0.245   30        0  \n",
       "766                     0.349   47        1  \n",
       "767                     0.315   23        0  \n",
       "\n",
       "[768 rows x 9 columns]"
      ]
     },
     "metadata": {},
     "output_type": "display_data"
    }
   ],
   "source": [
    "# Example 1: Read data file and create Pandas DataFrame\n",
    "\n",
    "import pandas as pd\n",
    "\n",
    "# Read the datafile \n",
    "pimaDF = pd.read_csv(\n",
    "    \"https://biologicslab.co/BIO5853/data/pima.csv\",\n",
    "   # index_col=0,\n",
    "    na_values=['NA','?'])\n",
    "\n",
    "# Set max rows and max columns\n",
    "pd.set_option('display.max_rows', 6)\n",
    "pd.set_option('display.max_columns', 10) \n",
    "\n",
    "# Display DataFrame\n",
    "display(pimaDF)"
   ]
  },
  {
   "cell_type": "markdown",
   "metadata": {},
   "source": [
    "If the code is correct, you should see the following bar chart:\n",
    "\n",
    "![_](https://biologicslab.co/BIO5853/images/module_01/lesson_01_4_image7.png)\n"
   ]
  },
  {
   "cell_type": "code",
   "execution_count": 8,
   "metadata": {
    "scrolled": true
   },
   "outputs": [
    {
     "data": {
      "image/png": "[encoded data removed]",
      "text/plain": [
       "<Figure size 640x480 with 1 Axes>"
      ]
     },
     "metadata": {},
     "output_type": "display_data"
    }
   ],
   "source": [
    "\n",
    "import matplotlib.pyplot as plt\n",
    "\n",
    "x=pimaDF.BMI\n",
    "\n",
    "# the histogram of the data\n",
    "n, bins, patches = plt.hist(x, 12, density=True, \n",
    "                            facecolor='#15466d',\n",
    "                            edgecolor=\"white\",\n",
    "                            alpha=1.0)\n",
    "\n",
    "\n",
    "plt.xlabel('BMI')\n",
    "plt.ylabel('Density')\n",
    "plt.title('BMI Histogram')\n",
    "plt.xlim(15, 60)\n",
    "plt.ylim(0, 0.06)\n",
    "plt.grid(False)\n",
    "plt.show()"
   ]
  },
  {
   "cell_type": "markdown",
   "metadata": {},
   "source": [
    "If the code is correct, you should see the following bar chart:\n",
    "\n",
    "![_](https://biologicslab.co/BIO5853/images/module_01/lesson_01_4_image8.png)\n"
   ]
  },
  {
   "cell_type": "code",
   "execution_count": null,
   "metadata": {},
   "outputs": [],
   "source": [
    "import matplotlib.pyplot as plt\n",
    "\n",
    "x=pimaDF.Glucose\n",
    "\n",
    "# the histogram of the data\n",
    "n, bins, patches = plt.hist(x, 12, density=True, \n",
    "                            facecolor='#15466d',\n",
    "                            edgecolor=\"white\",\n",
    "                            alpha=1.0)\n",
    "\n",
    "\n",
    "plt.xlabel('Glucose')\n",
    "plt.ylabel('Density')\n",
    "plt.title('Bld Glucose Histogram')\n",
    "plt.xlim(40, 210)\n",
    "plt.ylim(0, 0.02)\n",
    "plt.grid(False)\n",
    "plt.show()"
   ]
  },
  {
   "cell_type": "markdown",
   "metadata": {},
   "source": [
    "If the code is correct, you should see the following bar chart:\n",
    "\n",
    "![_](https://biologicslab.co/BIO5853/images/module_01/lesson_01_4_image9.png)\n"
   ]
  },
  {
   "cell_type": "markdown",
   "metadata": {},
   "source": [
    "### **Frequency Polygons**"
   ]
  },
  {
   "cell_type": "code",
   "execution_count": null,
   "metadata": {},
   "outputs": [],
   "source": [
    "# Figure 2.3\n",
    "\n",
    "import matplotlib.pyplot as plt\n",
    "# \n",
    "x = scDF.bounds\n",
    "y = scDF.young_rel_freq\n",
    "\n",
    "# plot\n",
    "fig, ax = plt.subplots()\n",
    "\n",
    "ax.bar(x, y, width=38, edgecolor=\"white\",\n",
    "       color='#79a18d',\n",
    "       linewidth=0.7)\n",
    "\n",
    "ax.plot(x, y, marker='o', \n",
    "        markerfacecolor='w',\n",
    "        markeredgecolor='k',\n",
    "        markersize=8)\n",
    "\n",
    "ax.plot(x, y, linestyle='-',\n",
    "        color='k',\n",
    "       linewidth=3.0)\n",
    "\n",
    "#ax.set_xlabel('Length (mm)')\n",
    "ax.set_xlabel(\"Serum cholesterol level (mg/100 ml)\")\n",
    "ax.set_ylabel(\"Relative frequency of males (%)\")\n",
    "\n",
    "ax.set_title(\"FIGURE 2.3\")\n",
    "ax.set_xticks(x)\n",
    "\n",
    "ax.set(xlim=(50, 400),\n",
    "       ylim=(0, 45))\n",
    "\n",
    "plt.figure(figsize=(12,10))\n",
    "plt.show()"
   ]
  },
  {
   "cell_type": "markdown",
   "metadata": {},
   "source": [
    "If the code is correct, you should see the following bar chart:\n",
    "\n",
    "![_](https://biologicslab.co/BIO5853/images/module_01/lesson_01_4_image10.png)\n"
   ]
  },
  {
   "cell_type": "code",
   "execution_count": null,
   "metadata": {},
   "outputs": [],
   "source": []
  },
  {
   "cell_type": "code",
   "execution_count": null,
   "metadata": {},
   "outputs": [],
   "source": [
    "# Figure 2.5\n",
    "\n",
    "import matplotlib.pyplot as plt\n",
    "# \n",
    "x = scDF.bounds\n",
    "y1 = scDF.young_rel_freq\n",
    "y2 = scDF.old_rel_freq\n",
    "\n",
    "# plot\n",
    "fig, ax = plt.subplots()\n",
    "\n",
    "# ax.bar(x, y, width=38, edgecolor=\"white\",\n",
    "#       color='#79a18d',\n",
    "#       linewidth=0.7)\n",
    "\n",
    "\n",
    "\n",
    "line_left, = ax.plot(x, y1, marker='o', \n",
    "        markerfacecolor='w',\n",
    "        markeredgecolor='#2d4674',\n",
    "        markersize=7,\n",
    "        label='Ages 25-34')\n",
    "\n",
    "line_left, ax.plot(x, y1, linestyle='-',\n",
    "        color='#2d4674',\n",
    "        linewidth=2.0)\n",
    "\n",
    "line_right, = ax.plot(x, y2, marker='^', \n",
    "        markerfacecolor='w',\n",
    "        markeredgecolor='#8e3139',\n",
    "        markersize=7,\n",
    "        label='Ages 55-64')\n",
    "\n",
    "line_right, ax.plot(x, y2, linestyle='-',\n",
    "        color='#8e3139',\n",
    "        linewidth=2.0)\n",
    "\n",
    "#ax.set_xlabel('Length (mm)')\n",
    "ax.set_xlabel(\"Serum cholesterol level (mg/100 ml)\")\n",
    "ax.set_ylabel(\"Relative frequency of males (%)\")\n",
    "\n",
    "ax.set_title(\"FIGURE 2.5\")\n",
    "ax.set_xticks(x)\n",
    "\n",
    "ax.set(xlim=(40, 420),\n",
    "       ylim=(0, 45))\n",
    "\n",
    "ax.legend([line_left, line_right], ['Ages 25-34', 'Ages 55-64'],\n",
    "          frameon=False)\n",
    "\n",
    "plt.show()"
   ]
  },
  {
   "cell_type": "markdown",
   "metadata": {},
   "source": [
    "If the code is correct, you should see the following bar chart:\n",
    "\n",
    "![_](https://biologicslab.co/BIO5853/images/module_01/lesson_01_4_image11.png)\n"
   ]
  },
  {
   "cell_type": "markdown",
   "metadata": {},
   "source": []
  },
  {
   "cell_type": "code",
   "execution_count": null,
   "metadata": {},
   "outputs": [],
   "source": [
    "# Figure 2.6\n",
    "\n",
    "import matplotlib.pyplot as plt\n",
    "\n",
    "# \n",
    "x = scDF.bounds\n",
    "y1 = scDF.young_cum_freq\n",
    "y2 = scDF.old_cum_freq\n",
    "\n",
    "# plot\n",
    "fig, ax = plt.subplots()\n",
    "\n",
    "line_left, = ax.plot(x, y1, marker='o', \n",
    "        markerfacecolor='w',\n",
    "        markeredgecolor='#2d4674',\n",
    "        markersize=7,\n",
    "        label='Ages 25-34')\n",
    "\n",
    "line_left, ax.plot(x, y1, linestyle='-',\n",
    "        color='#2d4674',\n",
    "        linewidth=2.0)\n",
    "\n",
    "line_right, = ax.plot(x, y2, marker='^', \n",
    "        markerfacecolor='w',\n",
    "        markeredgecolor='#8e3139',\n",
    "        markersize=7,\n",
    "        label='Ages 55-64')\n",
    "\n",
    "line_right, ax.plot(x, y2, linestyle='-',\n",
    "        color='#8e3139',\n",
    "        linewidth=2.0)\n",
    "\n",
    "#ax.set_xlabel('Length (mm)')\n",
    "ax.set_xlabel(\"Serum cholesterol level (mg/100 ml)\")\n",
    "ax.set_ylabel(\"Cumulative Relative frequency of males (%)\")\n",
    "\n",
    "ax.set_title(\"FIGURE 2.6\")\n",
    "ax.set_xticks(x)\n",
    "\n",
    "ax.set(xlim=(40, 420),\n",
    "       ylim=(-5, 110))\n",
    "\n",
    "ax.axhline(y=50, color='k')\n",
    "\n",
    "ax.legend([line_left, line_right], ['Ages 25-34', 'Ages 55-64'], \n",
    "          loc='lower right', frameon=False)\n",
    "\n",
    "plt.show()"
   ]
  },
  {
   "cell_type": "markdown",
   "metadata": {},
   "source": [
    "If the code is correct, you should see the following bar chart:\n",
    "\n",
    "![_](https://biologicslab.co/BIO5853/images/module_01/lesson_01_4_image12.png)\n"
   ]
  },
  {
   "cell_type": "markdown",
   "metadata": {},
   "source": [
    "## **Box Plots**"
   ]
  },
  {
   "cell_type": "code",
   "execution_count": null,
   "metadata": {
    "scrolled": true
   },
   "outputs": [],
   "source": [
    "# Example 1: Read data file and create Pandas DataFrame\n",
    "\n",
    "import pandas as pd\n",
    "\n",
    "# Read the datafile \n",
    "drDF = pd.read_csv(\n",
    "    \"https://biologicslab.co/BIO5853/data/crude_death_rates_us.csv\",\n",
    "    index_col=0,\n",
    "    na_values=['NA','?'])\n",
    "\n",
    "# Set max rows and max columns\n",
    "pd.set_option('display.max_rows', 20)\n",
    "pd.set_option('display.max_columns', 10) \n",
    "\n",
    "# Display DataFrame\n",
    "display(drDF)"
   ]
  },
  {
   "cell_type": "markdown",
   "metadata": {},
   "source": [
    "If the code is correct, you should see the following bar chart:\n",
    "\n",
    "![_](https://biologicslab.co/BIO5853/images/module_01/lesson_01_4_image13.png)\n"
   ]
  },
  {
   "cell_type": "code",
   "execution_count": null,
   "metadata": {},
   "outputs": [],
   "source": [
    "drDF.describe()"
   ]
  },
  {
   "cell_type": "markdown",
   "metadata": {},
   "source": [
    "If the code is correct, you should see the following bar chart:\n",
    "\n",
    "![_](https://biologicslab.co/BIO5853/images/module_01/lesson_01_4_image14.png)\n"
   ]
  },
  {
   "cell_type": "code",
   "execution_count": null,
   "metadata": {},
   "outputs": [],
   "source": [
    "# Figure 2.7\n",
    "\n",
    "import matplotlib.pyplot as plt\n",
    "\n",
    "fig, ax = plt.subplots(nrows=1, ncols=1, figsize=(4, 4))\n",
    "\n",
    "x=drDF.rate2016\n",
    "colors =['#919eb6']\n",
    "\n",
    "\n",
    "flierprops = dict(marker='o', markerfacecolor='black', markersize=6,\n",
    "                  markeredgecolor='none')\n",
    "medianprops = dict(linestyle='-', linewidth=1.0, color='black')\n",
    "\n",
    "# plot box plot\n",
    "bplot=ax.boxplot(x, notch=False,\n",
    "           flierprops=flierprops,\n",
    "           medianprops=medianprops,\n",
    "           patch_artist=True,\n",
    "           widths=0.6)\n",
    "\n",
    "\n",
    "ax.flierprops = dict(marker='o', markerfacecolor='black', markersize=8,\n",
    "                  linestyle='none')\n",
    "\n",
    "ax.set_title('FIGURE 2.7')\n",
    "\n",
    "# fill with colors\n",
    "for patch, color in zip(bplot['boxes'], colors):\n",
    "    patch.set_facecolor(color)\n",
    "\n",
    "ax.set_xticks([])\n",
    "ax.set(ylim=(550, 1300))\n",
    "ax.set_xlabel('')\n",
    "ax.set_ylabel('Rate per 100,000 people')\n",
    "\n",
    "plt.show()"
   ]
  },
  {
   "cell_type": "markdown",
   "metadata": {},
   "source": [
    "If the code is correct, you should see the following bar chart:\n",
    "\n",
    "![_](https://biologicslab.co/BIO5853/images/module_01/lesson_01_4_image15.png)\n"
   ]
  },
  {
   "cell_type": "code",
   "execution_count": null,
   "metadata": {},
   "outputs": [],
   "source": [
    "# Figure 2.8\n",
    "import seaborn as sns\n",
    "import matplotlib.pyplot as plt\n",
    "\n",
    "# Drop column\n",
    "df=drDF.drop(['state'], axis=1)\n",
    "\n",
    "# Rearrange columns\n",
    "cols=(\"rate1996\", \"rate2006\", \"rate2016\")\n",
    "df=df[[\"rate1996\", \"rate2006\", \"rate2016\"]]\n",
    "\n",
    "# Rename columns\n",
    "df.rename(columns={\"rate1996\" : \"1996\", \"rate2006\" : \"2006\", \"rate2016\" : \"2016\"}, inplace=True)\n",
    "\n",
    "# Plot boxplot\n",
    "gfg=sns.boxplot(data=df)\n",
    "gfg.set(xlabel=\"Year\", ylabel=\"Rate per 100,000 people\")\n",
    "\n",
    "# Show plot\n",
    "plt.show()"
   ]
  },
  {
   "cell_type": "markdown",
   "metadata": {},
   "source": [
    "If the code is correct, you should see the following bar chart:\n",
    "\n",
    "![_](https://biologicslab.co/BIO5853/images/module_01/lesson_01_4_image16.png)\n"
   ]
  },
  {
   "cell_type": "markdown",
   "metadata": {},
   "source": [
    "## **Two-Way Scatter Plots**"
   ]
  },
  {
   "cell_type": "code",
   "execution_count": null,
   "metadata": {},
   "outputs": [],
   "source": []
  },
  {
   "cell_type": "code",
   "execution_count": null,
   "metadata": {
    "scrolled": true
   },
   "outputs": [],
   "source": [
    "# Example 1: Read data file and create Pandas DataFrame\n",
    "\n",
    "import pandas as pd\n",
    "\n",
    "# Read the datafile \n",
    "lcDF = pd.read_csv(\n",
    "    \"https://biologicslab.co/BIO5853/data/fvc_fev.csv\",\n",
    "    index_col=0,\n",
    "    na_values=['NA','?'])\n",
    "\n",
    "# Set max rows and max columns\n",
    "pd.set_option('display.max_rows', 20)\n",
    "pd.set_option('display.max_columns', 10) \n",
    "\n",
    "# Display DataFrame\n",
    "display(lcDF)"
   ]
  },
  {
   "cell_type": "markdown",
   "metadata": {},
   "source": [
    "If the code is correct, you should see the following bar chart:\n",
    "\n",
    "![_](https://biologicslab.co/BIO5853/images/module_01/lesson_01_4_image17.png)\n"
   ]
  },
  {
   "cell_type": "code",
   "execution_count": null,
   "metadata": {},
   "outputs": [],
   "source": [
    "# Figure 2.9\n",
    "\n",
    "import matplotlib.pyplot as plt\n",
    "\n",
    "x=lcDF.fev\n",
    "y=lcDF.fvc\n",
    "\n",
    "filled_marker_style = dict(marker='o', linestyle=':', markersize=15,\n",
    "                           color='darkgrey',\n",
    "                           markerfacecolor='tab:blue',\n",
    "                           markerfacecoloralt='lightsteelblue',\n",
    "                           markeredgecolor='brown')\n",
    "fig, ax = plt.subplots()\n",
    "ax.scatter(x, y, marker=\"o\", \n",
    "           s=60,\n",
    "           c='white',\n",
    "           edgecolors='k')\n",
    "\n",
    "#ax.set_xticks([])\n",
    "ax.set(xlim=(0,6))\n",
    "ax.set(ylim=(0,8))\n",
    "ax.set_xlabel('Forced expiratory volume in one second (liter)')\n",
    "ax.set_ylabel('Forced vital capacity (liters)')\n",
    "\n",
    "plt.show()"
   ]
  },
  {
   "cell_type": "markdown",
   "metadata": {},
   "source": [
    "If the code is correct, you should see the following bar chart:\n",
    "\n",
    "![_](https://biologicslab.co/BIO5853/images/module_01/lesson_01_4_image18.png)\n"
   ]
  },
  {
   "cell_type": "code",
   "execution_count": null,
   "metadata": {},
   "outputs": [],
   "source": []
  },
  {
   "cell_type": "markdown",
   "metadata": {},
   "source": [
    "## **Line Graphs**"
   ]
  },
  {
   "cell_type": "code",
   "execution_count": null,
   "metadata": {
    "scrolled": true
   },
   "outputs": [],
   "source": [
    "# Example 1: Read data file and create Pandas DataFrame\n",
    "\n",
    "import pandas as pd\n",
    "\n",
    "# Read the datafile \n",
    "mrDF = pd.read_csv(\n",
    "    \"https://biologicslab.co/BIO5853/data/malaria.csv\",\n",
    "    index_col=0,\n",
    "    na_values=['NA','?'])\n",
    "\n",
    "# Set max rows and max columns\n",
    "pd.set_option('display.max_rows', 6)\n",
    "pd.set_option('display.max_columns', 2) \n",
    "\n",
    "# Display DataFrame\n",
    "display(mrDF)"
   ]
  },
  {
   "cell_type": "markdown",
   "metadata": {},
   "source": [
    "If the code is correct, you should see the following bar chart:\n",
    "\n",
    "![_](https://biologicslab.co/BIO5853/images/module_01/lesson_01_4_image19.png)\n"
   ]
  },
  {
   "cell_type": "code",
   "execution_count": null,
   "metadata": {},
   "outputs": [],
   "source": []
  },
  {
   "cell_type": "code",
   "execution_count": null,
   "metadata": {},
   "outputs": [],
   "source": [
    "# Figure 2.10\n",
    "\n",
    "import matplotlib.pyplot as plt\n",
    "\n",
    "# Assign x and y\n",
    "x=mrDF.year\n",
    "y=mrDF.rate\n",
    "\n",
    "\n",
    "fig, ax = plt.subplots()\n",
    "\n",
    "# Plot line graph semilog y scale\n",
    "plt.plot(x,y,c='k')\n",
    "plt.yscale('symlog')\n",
    "\n",
    "# Set properties\n",
    "ax.set(xlim=(1940,2020))\n",
    "ax.set_xlabel('Year')\n",
    "ax.set_ylabel('Reported cases per 100,000 population')\n",
    "ax.set_title(\"FIGURE 2.10\")\n",
    "\n",
    "# Show plot\n",
    "plt.show()"
   ]
  },
  {
   "cell_type": "markdown",
   "metadata": {},
   "source": [
    "If the code is correct, you should see the following bar chart:\n",
    "\n",
    "![_](https://biologicslab.co/BIO5853/images/module_01/lesson_01_4_image20.png)\n"
   ]
  },
  {
   "cell_type": "code",
   "execution_count": null,
   "metadata": {},
   "outputs": [],
   "source": []
  },
  {
   "cell_type": "code",
   "execution_count": null,
   "metadata": {
    "scrolled": true
   },
   "outputs": [],
   "source": [
    "# Example 1: Read data file and create Pandas DataFrame\n",
    "\n",
    "import pandas as pd\n",
    "\n",
    "# Read the datafile \n",
    "hcDF = pd.read_csv(\n",
    "    \"https://biologicslab.co/BIO5853/data/healthcare_us_canada.csv\",\n",
    "    index_col=0,\n",
    "    na_values=['NA','?'])\n",
    "\n",
    "# Set max rows and max columns\n",
    "pd.set_option('display.max_rows', 6)\n",
    "pd.set_option('display.max_columns', 3) \n",
    "\n",
    "# Display DataFrame\n",
    "display(hcDF)"
   ]
  },
  {
   "cell_type": "markdown",
   "metadata": {},
   "source": [
    "If the code is correct, you should see the following bar chart:\n",
    "\n",
    "![_](https://biologicslab.co/BIO5853/images/module_01/lesson_01_4_image21.png)\n"
   ]
  },
  {
   "cell_type": "code",
   "execution_count": null,
   "metadata": {},
   "outputs": [],
   "source": []
  },
  {
   "cell_type": "code",
   "execution_count": null,
   "metadata": {},
   "outputs": [],
   "source": [
    "# Figure 2.11\n",
    "\n",
    "import matplotlib.pyplot as plt\n",
    "\n",
    "# Assign x and y\n",
    "x=hcDF.year\n",
    "y1=hcDF.usa\n",
    "y2=hcDF.canada\n",
    "\n",
    "# Plot plot\n",
    "fig, ax = plt.subplots()\n",
    "plt.plot(x,y1,c='#2d4674')  # color dark blue\n",
    "plt.plot(x,y2,c='#8e3139')  # color dark red\n",
    "\n",
    "# Add text to plot\n",
    "text_x1=1988\n",
    "text_y1=14\n",
    "plt.text(text_x1, text_y1, 'United States', fontsize=12)\n",
    "\n",
    "text_x2=2004\n",
    "text_y2=9.3\n",
    "plt.text(text_x2, text_y2, 'Canada', fontsize=12)\n",
    "\n",
    "# Set properties\n",
    "ax.set(xlim=(1968,2020))\n",
    "ax.set_xlabel('Year')\n",
    "ax.set_ylabel('Percent of GDP')\n",
    "ax.set_title(\"FIGURE 2.11\")\n",
    "\n",
    "# Show plot\n",
    "plt.show()"
   ]
  },
  {
   "cell_type": "markdown",
   "metadata": {},
   "source": [
    "If the code is correct, you should see the following bar chart:\n",
    "\n",
    "![_](https://biologicslab.co/BIO5853/images/module_01/lesson_01_4_image22.png)\n"
   ]
  },
  {
   "cell_type": "code",
   "execution_count": null,
   "metadata": {},
   "outputs": [],
   "source": []
  },
  {
   "cell_type": "code",
   "execution_count": null,
   "metadata": {
    "scrolled": true
   },
   "outputs": [],
   "source": [
    "# Example 1: Read data file and create Pandas DataFrame\n",
    "\n",
    "import pandas as pd\n",
    "\n",
    "# Read the datafile \n",
    "mortDF = pd.read_csv(\n",
    "    \"https://biologicslab.co/BIO5853/data/dpt_mortality.csv\",\n",
    "    index_col=0,\n",
    "    na_values=['NA','?'])\n",
    "\n",
    "# Set max rows and max columns\n",
    "pd.set_option('display.max_rows', 6)\n",
    "pd.set_option('display.max_columns', 3) \n",
    "\n",
    "# Display DataFrame\n",
    "display(mortDF)"
   ]
  },
  {
   "cell_type": "code",
   "execution_count": null,
   "metadata": {},
   "outputs": [],
   "source": []
  }
 ],
 "metadata": {
  "kernelspec": {
   "display_name": "Python 3.9 (biostats)",
   "language": "python",
   "name": "biostats"
  },
  "language_info": {
   "codemirror_mode": {
    "name": "ipython",
    "version": 3
   },
   "file_extension": ".py",
   "mimetype": "text/x-python",
   "name": "python",
   "nbconvert_exporter": "python",
   "pygments_lexer": "ipython3",
   "version": "3.9.19"
  }
 },
 "nbformat": 4,
 "nbformat_minor": 4
}
