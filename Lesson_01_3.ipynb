{
 "cells": [
  {
   "cell_type": "markdown",
   "metadata": {
    "id": "bLEEW13uCtiJ"
   },
   "source": [
    "<a href=\"https://colab.research.google.com/github/DavidSenseman/BIO5853/blob/master/Lesson_01_3.ipynb\" target=\"_parent\"><img src=\"https://colab.research.google.com/assets/colab-badge.svg\" alt=\"Open In Colab\"/></a>"
   ]
  },
  {
   "cell_type": "markdown",
   "metadata": {},
   "source": [
    "---------------------------\n",
    "**COPYRIGHT NOTICE:** This Jupyterlab Notebook is a Derivative work of [Jeff Heaton](https://github.com/jeffheaton) licensed under the Apache License, Version 2.0 (the \"License\"); You may not use this file except in compliance with the License. You may obtain a copy of the License at\n",
    "\n",
    "> [http://www.apache.org/licenses/LICENSE-2.0](http://www.apache.org/licenses/LICENSE-2.0)\n",
    "\n",
    "Unless required by applicable law or agreed to in writing, software distributed under the License is distributed on an \"AS IS\" BASIS, WITHOUT WARRANTIES OR CONDITIONS OF ANY KIND, either express or implied. See the License for the specific language governing permissions and limitations under the License.\n",
    "\n",
    "------------------------"
   ]
  },
  {
   "cell_type": "markdown",
   "metadata": {},
   "source": [
    "# **BIO 5853: Biostatistics**"
   ]
  },
  {
   "cell_type": "markdown",
   "metadata": {
    "jp-MarkdownHeadingCollapsed": true
   },
   "source": [
    "##### **Module 1: Python and Statistics**\n",
    "\n",
    "* Instructor: [David Senseman](mailto:David.Senseman@utsa.edu), [Department of Integrative Biology](https://sciences.utsa.edu/integrative-biology/), [UTSA](https://www.utsa.edu/)\n",
    "\n",
    "\n",
    "### Module 1 Material\n",
    "\n",
    "* Part 1.1: Installing Python, Miniconda and Jupyter Lab\n",
    "* Part 1.2: Introduction to Jupyterlab AI, Google CoLab\n",
    "* **Part 1.3: Python Basics 1 -- Data Input**\n",
    "* Part 1.4: Python Basics 2 -- Display of Statistical Data\n",
    "* Part 1.5: Python Basics 3 -- Plotting in Python\n",
    "* Part 1.6: Python Basics 4 -- Display of Statistical Datasets"
   ]
  },
  {
   "cell_type": "markdown",
   "metadata": {},
   "source": [
    "### Lesson Setup\n",
    "\n",
    "Run the next code cell to load necessary packages"
   ]
  },
  {
   "cell_type": "code",
   "execution_count": null,
   "metadata": {},
   "outputs": [],
   "source": [
    "# You MUST run this code cell first\n",
    "import os\n",
    "import shutil\n",
    "import pandas as pd\n",
    "import numpy as np\n",
    "path = '/'\n",
    "memory = shutil.disk_usage(path)\n",
    "dirpath = os.getcwd()\n",
    "print(\"Your current working directory is : \" + dirpath)\n",
    "print(\"Disk\", memory)"
   ]
  },
  {
   "cell_type": "markdown",
   "metadata": {
    "id": "yKQylnEiLDUM"
   },
   "source": [
    "## Google CoLab Instructions\n",
    "\n",
    "The following code ensures that Google CoLab is running the correct version of TensorFlow.\n",
    "  Running the following code will map your GDrive to ```/content/drive```."
   ]
  },
  {
   "cell_type": "code",
   "execution_count": null,
   "metadata": {
    "colab": {
     "base_uri": "https://localhost:8080/"
    },
    "id": "seXFCYH4LDUM",
    "outputId": "c05015aa-871e-4779-9265-5ad07e8bf617",
    "scrolled": true
   },
   "outputs": [],
   "source": [
    "# You must run this cell second\n",
    "try:\n",
    "    from google.colab import drive\n",
    "    drive.mount('/content/drive', force_remount=True)\n",
    "    from google.colab import auth\n",
    "    auth.authenticate_user()\n",
    "    COLAB = True\n",
    "    print(\"Note: using Google CoLab\")\n",
    "    %tensorflow_version 2.x\n",
    "    import requests\n",
    "    gcloud_token = !gcloud auth print-access-token\n",
    "    gcloud_tokeninfo = requests.get('https://www.googleapis.com/oauth2/v3/tokeninfo?access_token=' + gcloud_token[0]).json()\n",
    "    print(gcloud_tokeninfo['email'])\n",
    "except:\n",
    "    print(\"Note: not using Google CoLab\")\n",
    "    COLAB = False"
   ]
  },
  {
   "cell_type": "markdown",
   "metadata": {},
   "source": [
    "## Part 1.3: Data Input\n",
    "\n",
    "Biostatistics is fundamentally the analysis of biomedical datasets. Real biomedical datasets can often contain experimental observations  or clinical measurements from hundreds or even thousands of subjects or patients. In short, biomedical datasets are often too large for you to manually enter the data.    \n",
    "\n",
    "In this lesson we will focus on the software package, Pandas, and on file handling. These two topics naturally go together since the Pandas package includes a number of file handling methods that are frequently used in Python programming."
   ]
  },
  {
   "cell_type": "markdown",
   "metadata": {},
   "source": [
    "## Pandas\n",
    "\n",
    "**_Pandas_** (pronounced as \"PAN-daz\") is a Python package designed for data manipulation and analysis. It provides data structures and operations for manipulating numerical tables and time series. \n",
    "\n",
    "Pandas is built on top of the Numpy package and provides a high-level interface for working with data including data selection, cleaning, filtering, aggregation, and visualization. \n",
    "\n",
    "A central concept in Pandas is the **_DataFrame_**. A Pandas DataFrame is generally the most commonly used Pandas object. \n",
    "\n",
    "A _DataFrame_ is a two-dimensional labeled data structure with columns of potentially different data types (e.g. integers, floats, and strings). They are very similar to an Excel spreadsheet in which each **_row_** represents a single experimental subject or clinical patient and each **_column_** contains a different experimental or clinical measurement from the subject.\n"
   ]
  },
  {
   "cell_type": "markdown",
   "metadata": {},
   "source": [
    "### The Pandas Package\n",
    "\n",
    "Like other Python packages, Pandas has to be _imported_ into a Python program with the following command before it can be used.\n",
    "\n",
    "`import pandas as pd`\n",
    "\n",
    "The normal _alias_ ('nickname') for Pandas is `pd`. When using a method that is part of a Pandas package, the alias `pd` will be used instead of the package name. For example, to use the Pandas `read_csv()` method, the command would be:\n",
    "\n",
    "`pd.read_csv(filename)`\n",
    "\n",
    "Run the next code cell to import `pandas` which is needed for the examples and exercises below."
   ]
  },
  {
   "cell_type": "code",
   "execution_count": null,
   "metadata": {},
   "outputs": [],
   "source": [
    "# RUN THIS CODE CELL\n",
    "\n",
    "# Import the package Pandas\n",
    "import pandas as pd"
   ]
  },
  {
   "cell_type": "markdown",
   "metadata": {},
   "source": [
    "When you import a Python package _successfully_ , there is usually no output. \n",
    "\n",
    "If you receive an error it probably means that the package has **not** been previously installed in your current `conda` environment. \n",
    "\n",
    "If you need to install Pandas, uncomment the `conda install` command in the next cell and then run the cell."
   ]
  },
  {
   "cell_type": "code",
   "execution_count": null,
   "metadata": {},
   "outputs": [],
   "source": [
    "# Uncomment the next line and run this cell ONLY if you need to install pandas\n",
    "\n",
    "#!conda install pandas -y"
   ]
  },
  {
   "cell_type": "markdown",
   "metadata": {
    "jp-MarkdownHeadingCollapsed": true
   },
   "source": [
    "## File handling\n",
    "\n",
    "**_File handling_** in Python is the process of manipulating files and data stored in a file system. This includes reading and writing files, creating and deleting files, accessing metadata about files, and more. \n",
    "\n",
    "Python has a variety of built-in functions to help with file handling, such as the `open()` and `close()` functions for opening and closing files, and the `os module` for interacting with the file system. Additionally, there are several third-party libraries that can be used to simplify file handling, such as the Pandas library for working with tabular data.\n",
    "\n",
    "There are many different types of files that you must be able to process. The most important file types are listed here:\n",
    "\n",
    "* **CSV files:** (generally have the .csv extension) hold tabular data that resembles spreadsheet data.\n",
    "* **Image files:** (generally with the .png or .jpg extension) hold images for computer vision.\n",
    "* **Text files:** (often have the .txt extension) hold unstructured text and are essential for natural language processing.\n",
    "* **JSONL** (often have the .json extension) contain semi-structured textual data in a human-readable text-based format.\n",
    "* **H5:** (can have a wide array of extensions) contain semi-structured textual data in a human-readable text-based format. Keras and TensorFlow store neural networks as H5 files.\n",
    "* **Audio Files:** (often have an extension such as .au or .wav) contain recorded sound.\n",
    "\n",
    "Data can come from a variety of sources. \n",
    "\n",
    "* **Your Hard Drive -** This type of data is stored locally, and Python accesses it from a path that looks something like: c:\\data\\myfile.csv. On occasion, you might have to download a datfile from Canvas as part of a lesson.\n",
    "* **The Internet -** This type of data resides in the cloud and Python accesses it from a URL that looks something like: https://biologicslab.co/BIO5858/data/iris.cvs\n",
    "* **Google Drive (cloud) -** If your code in Google CoLab, you use GoogleDrive to save and load some data files. CoLab mounts your GoogleDrive into a path similar to the following: /content/drive/My Drive/myfile.csv.\n",
    "\n"
   ]
  },
  {
   "cell_type": "markdown",
   "metadata": {},
   "source": [
    "## File format of data files\n",
    "\n",
    "Data files can either be **_formatted_** and **_unformatted_**. For example, a Microsoft Word file (.doc or .docx) is a _formatted file_. Microsoft uses a proprietary document format to store MS Word files. If you try to \"read\" a formated file with a simple text editor like Notepad, you would see something unintelligiblelike this:\n",
    "\n",
    "![__](https://biologicslab.co/BIO5853/images/MSWord.png)\n",
    "\n",
    "Most data files used for biostatistics and machine learning are _unformatted_ text files. They can be read with any word processor program or even a simple text editor. \n",
    "\n",
    "~~~text\n",
    "sepal_l\tsepal_w\tpetal_l\tpetal_w\tspecies\n",
    "5.1\t3.5\t1.4\t0.2\tIris-setosa\n",
    "4.9\t3.0\t1.4\t0.2\tIris-setosa\n",
    "4.7\t3.2\t1.3\t0.2\tIris-setosa\n",
    "4.6\t3.1\t1.5\t0.2\tIris-setosa\n",
    "5.0\t3.6\t1.4\t0.2\tIris-setosa\n",
    "5.4\t3.9\t1.7\t0.4\tIris-setosa\n",
    "4.6\t3.4\t1.4\t0.3\tIris-setosa\n",
    "5.0\t3.4\t1.5\t0.2\tIris-setosa\n",
    "4.4\t2.9\t1.4\t0.2\tIris-setosa\n",
    "~~~\n",
    "\n",
    "For example, the file `iris.txt` looks like this if you read it with a simple text editor:\n"
   ]
  },
  {
   "cell_type": "markdown",
   "metadata": {},
   "source": [
    "### Example 1: Read Data File from the Internet \n",
    "\n",
    "The code in the cell below uses the function `pd.read_csv(filename, sep)` to read the data file `apple_quality.csv`. \n",
    "\n",
    "The code first creates a string variable called `URL` with the internet address of the file server. The code then creates a second string variable called `FNAME` that has the actual file name. Notice that you **must** enclose these names in quotation marks.\n",
    "\n",
    "These two strings are the \"added\" together to give the complete internet address. \n",
    "\n",
    "As the file is read, the data is stored in a Pandas DataFrame called `df1`. \n",
    "\n",
    "When reading text files with `pd.read_csv()`, it is _always_ a good idea to print out part of the newly created DataFrame to make sure the file was read correctly. One way to do this is to use the Python function `display()` as shown below. Data files often contain a large number of columns and almost always a huge number of rows--too many to print to your computer screen. The code in the cell below tells Python to only display a maximum of 6 rows and 6 columns using the Python function `pd.set_option()`.\n"
   ]
  },
  {
   "cell_type": "code",
   "execution_count": null,
   "metadata": {
    "scrolled": true
   },
   "outputs": [],
   "source": [
    "# Example 1: Use pd.read_csv to read a file on the hard drive \n",
    "\n",
    "# File location\n",
    "URL=\"https://biologicslab.co/BIO5853/data/\"\n",
    "\n",
    "# File Name\n",
    "FNAME=\"apple_quality.csv\"\n",
    "\n",
    "# Read local data file using Pandas read_csv() function\n",
    "df1 = pd.read_csv(URL+FNAME)  # define the separator as a tab\n",
    "\n",
    "# Set max columns and max rows\n",
    "pd.set_option('display.max_columns', 6)\n",
    "pd.set_option('display.max_rows', 6)\n",
    "pd.set_option('display.precision', 3)\n",
    "\n",
    "# Display 4 columns and 6 rows\n",
    "display(df1)"
   ]
  },
  {
   "cell_type": "markdown",
   "metadata": {},
   "source": [
    "You should see the following output:\n",
    "\n",
    "![](https://biologicslab.co/BIO5853/images/Lesson_01_3_image_01.png)"
   ]
  },
  {
   "cell_type": "markdown",
   "metadata": {},
   "source": [
    "### **Exercise 1: Read Data File from the Internet**\n",
    "\n",
    "In the cell below, use the Pandas `pd.read_csv(filename, sep)` function to read the data file `heart_disease.csv` from the course web server and store the data in a new data frame called `df2`. Use the `display()` method and set the max rows and max columns to 6. "
   ]
  },
  {
   "cell_type": "code",
   "execution_count": null,
   "metadata": {
    "scrolled": true
   },
   "outputs": [],
   "source": [
    "# Insert your code for Exercise 1 here \n",
    "\n"
   ]
  },
  {
   "cell_type": "markdown",
   "metadata": {},
   "source": [
    "You should see the following output:\n",
    "\n",
    "![](https://biologicslab.co/BIO5853/images/Lesson_01_3_image02.png)"
   ]
  },
  {
   "cell_type": "markdown",
   "metadata": {},
   "source": [
    "### Example 2: Summary Statistics with Pandas `describe()` \n",
    "\n",
    "With any new dataset, it is generally useful to get a quick, statistical overview of dataset's contents using the Pandas `describe()` method.  \n",
    "\n",
    "The `descibe()` method returns an variety of summary statistics about the data, including the count, mean, standard deviation, minimum, maximum, and first and third quartiles. It also includes a count of the number of non-null values, and the percent of the data that is missing. This information can be used to get a better understanding of the data and its distributions.\n",
    "\n",
    "The code in the cell below shows how to use this method with the data stores in `df1`."
   ]
  },
  {
   "cell_type": "code",
   "execution_count": null,
   "metadata": {
    "scrolled": true
   },
   "outputs": [],
   "source": [
    "# Example 2: Summary Statistics with Pandas `describe()` \n",
    "\n",
    "# Set max columns and max rows\n",
    "pd.set_option('display.max_columns', 6)\n",
    "pd.set_option('display.max_rows', 6)\n",
    "pd.set_option('display.precision', 3)\n",
    "\n",
    "# Describe() method with df1\n",
    "df1.describe()"
   ]
  },
  {
   "cell_type": "markdown",
   "metadata": {},
   "source": [
    "You should see the following output:\n",
    "\n",
    "![](https://biologicslab.co/BIO5853/images/Lesson_01_3_image03.png)"
   ]
  },
  {
   "cell_type": "markdown",
   "metadata": {},
   "source": [
    "### **Exercise 2: Use the Pandas `describe()` method.**\n",
    "\n",
    "In the cell below, use the Pandas `describe()` method to print the summary statistics of the data in your DataFrame `df2`.  Set the max rows and columns to 8."
   ]
  },
  {
   "cell_type": "code",
   "execution_count": null,
   "metadata": {
    "scrolled": true
   },
   "outputs": [],
   "source": [
    "# Insert your code for Exercise 2 here \n",
    "\n"
   ]
  },
  {
   "cell_type": "markdown",
   "metadata": {},
   "source": [
    "You should see the following output:\n",
    "\n",
    "![](https://biologicslab.co/BIO5853/images/Lesson_01_3_image04.png)"
   ]
  },
  {
   "cell_type": "markdown",
   "metadata": {},
   "source": [
    "## Dropping field in a _pandas_ DataFrame\n",
    "\n",
    "**_Dropping a field_** in a _pandas_ DataFrame is a way of removing a column from the dataset. This can be done using the `drop()` method, which takes the label of the column that you want to remove. You may want to do this if the field is irrelevant to the analysis you are performing, or if it contains redundant information. For example, you will need to drop fields that are of no value such as an `ID` field."
   ]
  },
  {
   "cell_type": "markdown",
   "metadata": {},
   "source": [
    "### Example 3: Use `drop()` to Drop a DataFrame Column. \n",
    "\n",
    "The code in the cell below uses the _pandas_ `drop()` method to drop the column (field) `A_id` from the Apple Quality data set. \n",
    "\n",
    "To preserve the original data, the code begins by making a **_shallow copy_** of the original DataFrame using this code chunk:\n",
    "\n",
    "~~~text\n",
    "# Make a new copy of df1\n",
    "df1_copy = df1.copy()\n",
    "~~~\n",
    "\n"
   ]
  },
  {
   "cell_type": "code",
   "execution_count": null,
   "metadata": {},
   "outputs": [],
   "source": [
    "# Example 3: Drop a field in a data frame using drop() method \n",
    "\n",
    "# Make copy of df1\n",
    "df1_copy = df1.copy()\n",
    "\n",
    "# Print column names before drop\n",
    "print(f\"Before drop: {list(df1_copy.columns)}\")\n",
    "\n",
    "# Drop the column A_id\n",
    "df1_copy.drop(columns=['A_id'], inplace=True)\n",
    "\n",
    "# Print column names after the drop\n",
    "print(f\"After drop: {list(df1_copy.columns)}\")"
   ]
  },
  {
   "cell_type": "markdown",
   "metadata": {},
   "source": [
    "If the code is correct your should see:\n",
    "~~~text\n",
    "Before drop: ['A_id', 'Size', 'Weight', 'Sweetness', 'Crunchiness', 'Juiciness', 'Ripeness', 'Acidity', 'Quality']\n",
    "After drop: ['Size', 'Weight', 'Sweetness', 'Crunchiness', 'Juiciness', 'Ripeness', 'Acidity', 'Quality']\n",
    "~~~"
   ]
  },
  {
   "cell_type": "markdown",
   "metadata": {},
   "source": [
    "### **Exercise 3: Use the Pandas `drop()` method to drop a field in a DataFrame.** \n",
    "\n",
    "In the cell below, make a shallow copy of your DataFrame, `df2`. Call your copy `df2_copy`. \n",
    "\n",
    "Use the Pandas `drop()` method to drop the `Age` column from `df2_copy`. Print the column names before and after dropping the column."
   ]
  },
  {
   "cell_type": "code",
   "execution_count": null,
   "metadata": {},
   "outputs": [],
   "source": [
    "# Insert your code for Exercise 3 here \n",
    "\n"
   ]
  },
  {
   "cell_type": "markdown",
   "metadata": {},
   "source": [
    "If your code is correct you should see the following output:\n",
    "~~~text\n",
    "Before drop: ['Age', 'Sex', 'ChestPainType', 'RestingBP', 'Cholesterol', 'FastingBS', 'RestingECG', 'MaxHR', 'ExerciseAngina', 'Oldpeak', 'ST_Slope', 'HeartDisease']\n",
    "After drop: ['Sex', 'ChestPainType', 'RestingBP', 'Cholesterol', 'FastingBS', 'RestingECG', 'MaxHR', 'ExerciseAngina', 'Oldpeak', 'ST_Slope', 'HeartDisease']\n",
    "~~~"
   ]
  },
  {
   "cell_type": "markdown",
   "metadata": {},
   "source": [
    "## **Lesson Turn-in**\n",
    "\n",
    "When you have run all of the code cells in sequential order (the last code cell above should be 10) you need to create a PDF of your notebook. \n",
    "\n",
    "To do this, click on **File --> Print** as shown in this image.\n",
    "\n",
    "![__](https://biologicslab.co/BIO5853/images/Lesson_01_3_image05.png)\n",
    "\n",
    "This will bring up the Print dialog box. Click on the downward caret **v** and select **Save to PDF**.\n",
    "\n",
    "![__](https://biologicslab.co/BIO5853/images/Lesson_01_3_image06.png)\n",
    "\n",
    "Then click on **Save**. \n",
    "\n",
    "![__](https://biologicslab.co/BIO5853/images/Lesson_01_3_image07.png)\n",
    "\n",
    "This will bring up a dialog box asking you where to save your PDF and what to name it. You should save your PDF in the Lesson_01_3 folder with the name `Lesson_01_03_lastname.pdf` where _lastname_ is your last name. \n",
    "\n",
    "Finally, upload the **_PDF_** to Lesson_01_3 Assignment on Canvas for grading, not the actual Jupyter Lab notebook.\n"
   ]
  }
 ],
 "metadata": {
  "kernelspec": {
   "display_name": "Python 3.9 (biostats)",
   "language": "python",
   "name": "biostats"
  },
  "language_info": {
   "codemirror_mode": {
    "name": "ipython",
    "version": 3
   },
   "file_extension": ".py",
   "mimetype": "text/x-python",
   "name": "python",
   "nbconvert_exporter": "python",
   "pygments_lexer": "ipython3",
   "version": "3.9.19"
  }
 },
 "nbformat": 4,
 "nbformat_minor": 4
}
