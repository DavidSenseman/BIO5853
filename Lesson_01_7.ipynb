{
 "cells": [
  {
   "cell_type": "markdown",
   "metadata": {
    "id": "bLEEW13uCtiJ"
   },
   "source": [
    "<a href=\"https://colab.research.google.com/github/DavidSenseman/BIO5853/blob/master/Lesson_01_7.ipynb\" target=\"_parent\"><img src=\"https://colab.research.google.com/assets/colab-badge.svg\" alt=\"Open In Colab\"/></a>"
   ]
  },
  {
   "cell_type": "markdown",
   "metadata": {},
   "source": [
    "---------------------------\n",
    "**COPYRIGHT NOTICE:** This Jupyterlab Notebook is a Derivative work of [Jeff Heaton](https://github.com/jeffheaton) licensed under the Apache License, Version 2.0 (the \"License\"); You may not use this file except in compliance with the License. You may obtain a copy of the License at\n",
    "\n",
    "> [http://www.apache.org/licenses/LICENSE-2.0](http://www.apache.org/licenses/LICENSE-2.0)\n",
    "\n",
    "Unless required by applicable law or agreed to in writing, software distributed under the License is distributed on an \"AS IS\" BASIS, WITHOUT WARRANTIES OR CONDITIONS OF ANY KIND, either express or implied. See the License for the specific language governing permissions and limitations under the License.\n",
    "\n",
    "------------------------"
   ]
  },
  {
   "cell_type": "markdown",
   "metadata": {},
   "source": [
    "# **BIO 5853: Biostatistics**"
   ]
  },
  {
   "cell_type": "markdown",
   "metadata": {
    "jp-MarkdownHeadingCollapsed": true
   },
   "source": [
    "##### **Module 1: Getting Started with Python**\n",
    "\n",
    "* Instructor: [David Senseman](mailto:David.Senseman@utsa.edu), [Department of Integrative Biology](https://sciences.utsa.edu/integrative-biology/), [UTSA](https://www.utsa.edu/)\n",
    "\n",
    "\n",
    "### Module 1 Material\n",
    "\n",
    "* Part 1.1: Course Overview \n",
    "* Part 1.2: Installing Python, Miniconda and Jupyter Lab\n",
    "* Part 1.3: Introduction to Jupyterlab AI, Google CoLab\n",
    "* Part 1.4: Python Basics 1 -- Strings, Variables and Indexing\n",
    "* Part 1.5: Python Basics 2 -- Numbers, Booleans, Operators and Comparisons\n",
    "* Part 1.6: Python Basics 3 -- Lists, Dictionaries, Sets and JSON\n",
    "* **Part 1.7: Python Basics 4 -- Conditionals and Loops**\n",
    "* Part 1.8: Python Basics 5 -- Packages, NumPy arrays and Matplotlib\n",
    "* Part 1.9: Python Basics 6 -- Pandas and File Handling"
   ]
  },
  {
   "cell_type": "markdown",
   "metadata": {},
   "source": [
    "### Lesson Setup\n",
    "\n",
    "Run the next code cell to load necessary packages"
   ]
  },
  {
   "cell_type": "code",
   "execution_count": null,
   "metadata": {},
   "outputs": [],
   "source": [
    "# You MUST run this code cell first\n",
    "import os\n",
    "import shutil\n",
    "path = '/'\n",
    "memory = shutil.disk_usage(path)\n",
    "dirpath = os.getcwd()\n",
    "print(\"Your current working directory is : \" + dirpath)\n",
    "print(\"Disk\", memory)"
   ]
  },
  {
   "cell_type": "markdown",
   "metadata": {
    "id": "yKQylnEiLDUM"
   },
   "source": [
    "### Google CoLab Instructions\n",
    "\n",
    "The following code ensures that Google CoLab is running the correct version of TensorFlow.\n",
    "  Running the following code will map your GDrive to ```/content/drive```."
   ]
  },
  {
   "cell_type": "code",
   "execution_count": null,
   "metadata": {
    "colab": {
     "base_uri": "https://localhost:8080/"
    },
    "id": "seXFCYH4LDUM",
    "outputId": "c05015aa-871e-4779-9265-5ad07e8bf617",
    "scrolled": true
   },
   "outputs": [],
   "source": [
    "# You must run this cell second\n",
    "try:\n",
    "    from google.colab import drive\n",
    "    drive.mount('/content/drive', force_remount=True)\n",
    "    from google.colab import auth\n",
    "    auth.authenticate_user()\n",
    "    COLAB = True\n",
    "    print(\"Note: using Google CoLab\")\n",
    "    %tensorflow_version 2.x\n",
    "    import requests\n",
    "    gcloud_token = !gcloud auth print-access-token\n",
    "    gcloud_tokeninfo = requests.get('https://www.googleapis.com/oauth2/v3/tokeninfo?access_token=' + gcloud_token[0]).json()\n",
    "    print(gcloud_tokeninfo['email'])\n",
    "except:\n",
    "    print(\"Note: not using Google CoLab\")\n",
    "    COLAB = False"
   ]
  },
  {
   "cell_type": "markdown",
   "metadata": {},
   "source": [
    "# Part 1.7: Python Basics\n",
    "\n",
    "Controlling the _flow_ of a computer program is an essential part of computer programming. In this lesson we will focus on the following three methods of controlling program flow: \n",
    "\n",
    "* **Conditionals -** A conditional statement is a statement that contains a logical expression that determines whether certain conditions are true or false. It usually contains an if clause, which specifies a condition, and a then clause, which states what should be done if the condition is true.\n",
    "* **While loops -** A while loop is a type of looping statement in programming that allows code to be repeated until a certain condition is met. \n",
    "* **For loops -** A for loop is a type of looping statement in programming that allows code to be repeated a set number of times.\n"
   ]
  },
  {
   "cell_type": "markdown",
   "metadata": {},
   "source": [
    "## Conditionals\n",
    "\n",
    "A conditional statement is a statement that contains a logical expression that determines whether certain conditions are `True` or `False`. The conditional statement usually contains an `if` clause, which specifies a condition, and a then clause, which states what should be done if the condition is true."
   ]
  },
  {
   "cell_type": "markdown",
   "metadata": {},
   "source": [
    "### Example 1: Simple conditional control statement\n",
    "\n",
    "The cell below shows an example of a simple conditional statement. The basic form of a conditional statement controls whether or not a block of statements will get executed. \n",
    "\n",
    "`if expression:` \n",
    "\n",
    "&nbsp;&nbsp;&nbsp;&nbsp;&nbsp;&nbsp;`statements` \n",
    "    \n",
    "If the `expression` evaluates to `True`, the statements will be executed; otherwise, the statements are skipped. \n",
    "\n",
    "When writing any conditional statement, the `if expression` statement must end with a colon `:`. It is also necessary that each `statement` be _**indented by 4 spaces**_. \n",
    "\n",
    "Indentation is **extremely** important in Python. It is only by indenting the statement, that Python knows the statement belows to the `if` statement.   "
   ]
  },
  {
   "cell_type": "code",
   "execution_count": null,
   "metadata": {
    "tags": []
   },
   "outputs": [],
   "source": [
    "# Example 1: Simple conditional control statement\n",
    "\n",
    "# Define variables\n",
    "a = 30\n",
    "b = 200\n",
    "\n",
    "# Write the conditional statement\n",
    "if b > a:\n",
    "    print(\"b is greater than a\")  # This line MUST BE INDENTED 4 SPACES!!"
   ]
  },
  {
   "cell_type": "markdown",
   "metadata": {},
   "source": [
    "Since the `if expression` evaluated to `True`, the print function generated the following output: \n",
    "\n",
    "`b is greater than a`\n"
   ]
  },
  {
   "cell_type": "markdown",
   "metadata": {},
   "source": [
    "-----------------------------------------------------------------\n",
    "## A Comment on Indentation\n",
    "\n",
    "In Python code blocks being looped over are delimited by **_indentation_**. In most programming languages, **_whitespace_** is not important...but not in Python! \n",
    "\n",
    "In Python, **all** code blocks (i.e., those occurring inside loops, if clauses, function definitions, etc.) **must** be delimited by indentation. Unlike most computer languages, _whitespace_ in Python code affects the output of the program.\n",
    "\n",
    "Once you get used to it, this is a good thing. Indentation:\n",
    "* Forces clean, consistent indentation, improving readability.\n",
    "* Removes clutter, such as the brackets or end statements used in other languages.\n",
    "\n",
    "On the other hand, it takes a bit of care to get right, so please remember:\n",
    "\n",
    "**The line before the start of a code block always ends in a _colon_** as shown in the following examples:\n",
    "\n",
    "* for i in range(10) **:**\n",
    "* if x > y **:**\n",
    "* while x < 100 **:**\n",
    "\n",
    "In addition, all lines in a code block must have the same amount of indentation. The **_Python standard is 4 spaces_** and that is what you should use.\n",
    "\n",
    "---------------------------------------------------------------------\n"
   ]
  },
  {
   "cell_type": "markdown",
   "metadata": {
    "tags": []
   },
   "source": [
    "### **Exercise 1: Repeat Example 1 but reverse the values of `a` and `b`**\n",
    "\n",
    "In the cell below, insert the code from **Example 1**, but this time make `a=200` and `b=30` and then run the cell. "
   ]
  },
  {
   "cell_type": "code",
   "execution_count": null,
   "metadata": {},
   "outputs": [],
   "source": [
    "# Insert your code for Exercise 1 here\n",
    "\n"
   ]
  },
  {
   "cell_type": "markdown",
   "metadata": {},
   "source": [
    "If your code is correct you shouldn't see any output when you ran the code cell. \n",
    "\n",
    "This is because the `if expression` evaluated to `False` (30 is not greater than 200). Consequently, the `print()` statement was not executed (skipped) and the program terminated without any output.  "
   ]
  },
  {
   "cell_type": "markdown",
   "metadata": {},
   "source": [
    "### Example 2: `If-Else` one alternative statement\n",
    "\n",
    "The code cell below shows an example of a _one-alternative_ conditional statement. This type of flow control is also called an `if - else` condtional statement. A common use of the one-alternative form of conditional is to return a value when the `if expression` evalutes to `False`. \n",
    "\n",
    "Example 2 is the same code you were asked to write in **Exercise 1**, but with the addition of an `else:` followed by _statement2_."
   ]
  },
  {
   "cell_type": "code",
   "execution_count": null,
   "metadata": {},
   "outputs": [],
   "source": [
    "# Example 2: If-else statement\n",
    "\n",
    "# Code from Exercise 1 above\n",
    "a = 200\n",
    "b = 30\n",
    "\n",
    "# Add else to conditional if statement \n",
    "if b > a:\n",
    "    print(\"b is greater than a\")       # statement1\n",
    "else:\n",
    "    print(\"b is less than a\")          # statement2\n"
   ]
  },
  {
   "cell_type": "markdown",
   "metadata": {},
   "source": [
    "The output from the code cell is \n",
    "~~~text\n",
    "b is less than a` \n",
    "~~~\n",
    "indicating that  `statement2` following the `else` was executed instead of `statement1`. \n",
    "\n",
    "Statement1 was **not** executed since `b < a` evaluated to `False`. "
   ]
  },
  {
   "cell_type": "markdown",
   "metadata": {},
   "source": [
    "### **Exercise 2: Set both `a` and `b` to the same value**\n",
    "    \n",
    "In the code cell below, copy the code from **Example 2** but this time, set the values of both `a` and `b` to 200. "
   ]
  },
  {
   "cell_type": "code",
   "execution_count": null,
   "metadata": {},
   "outputs": [],
   "source": [
    "# Insert your code for Exercise 2 here\n",
    "\n",
    "\n"
   ]
  },
  {
   "cell_type": "markdown",
   "metadata": {},
   "source": [
    "Again, the output from the code cell is `b is less than a` indicating that  `statement2` following the `else` was executed instead of `statement1`. \n",
    "\n",
    "However, the code is not quite right since `a` and `b` were both assigned to the **_same_** value. We can fix this problem with a _multi_-_test conditional_ statement as shown in the next example. "
   ]
  },
  {
   "cell_type": "markdown",
   "metadata": {},
   "source": [
    "### **Example 3: Multi-Test Conditional**\n",
    "\n",
    "The cell below shows an example of a multi-test conditional statement. It uses the same code shown in Example 2, but adds an `elif:` in the middle. The _keyword_ `elif` is short for _else if_ ."
   ]
  },
  {
   "cell_type": "code",
   "execution_count": null,
   "metadata": {},
   "outputs": [],
   "source": [
    "# Example 3: Add elif staTement\n",
    "\n",
    "# Code from Example 2 \n",
    "a = 200\n",
    "b = 200\n",
    "\n",
    "# Add elif to conditional if statement\n",
    "if b > a:\n",
    "    print(\"b is greater than a\")       # statement1\n",
    "elif b < a:\n",
    "    print(\"b is less than a\")          # statement2   \n",
    "else:\n",
    "    print(\"a and b are equal\")         # statement2\n"
   ]
  },
  {
   "cell_type": "markdown",
   "metadata": {},
   "source": [
    "The problem with the code in Exercise 2 has been fixed by making a _multi_-_test conditional_ flow control. "
   ]
  },
  {
   "cell_type": "markdown",
   "metadata": {
    "tags": []
   },
   "source": [
    "------------------------------------------------\n",
    "\n",
    "### How Many Multi-Test Conditions can you use?\n",
    "\n",
    "With a multi-test conditional, you can use as many `elif:` alternatives as you want.\n",
    "\n",
    "`if expression:` \n",
    "\n",
    "&nbsp;&nbsp;&nbsp;&nbsp;&nbsp;&nbsp;`statement1` \n",
    "\n",
    "`elif expression:` \n",
    "\n",
    "&nbsp;&nbsp;&nbsp;&nbsp;&nbsp;&nbsp;`statement2` \n",
    "\n",
    "`elif expression:` \n",
    "\n",
    "&nbsp;&nbsp;&nbsp;&nbsp;&nbsp;&nbsp;`statement3` \n",
    "\n",
    "`elif expression:` \n",
    "\n",
    "&nbsp;&nbsp;&nbsp;&nbsp;&nbsp;&nbsp;`statement4` \n",
    "\n",
    "`elif expression:` \n",
    "\n",
    "&nbsp;&nbsp;&nbsp;&nbsp;&nbsp;&nbsp;`statement5` \n",
    "\n",
    "`else:` \n",
    "\n",
    "&nbsp;&nbsp;&nbsp;&nbsp;&nbsp;&nbsp;`statement6` \n",
    "\n",
    "----------------------------------------------------------------------"
   ]
  },
  {
   "cell_type": "markdown",
   "metadata": {},
   "source": [
    "---------------------------------------------------------\n",
    "\n",
    "## **WARNING--WARNING--WARNING--WARNING**\n",
    "\n",
    "When working with loops it's easy to make a coding error so that when you run the code cell, nothing seems to be happening. Actually, your loop is literally **OUT OF CONTROL!!**\n",
    "\n",
    "Don't panic. All you need to do is to **_Interrupt the kernel_**. \n",
    "\n",
    "Use your mouse to press the _Stop Icon_ (Interrupt the Kernel). It may take a few seconds, but your program should come to a stop so you can fix your coding error. The area highlighted in red shows the location of the _Interrupt the kernel_ icon.\n",
    "\n",
    "![__](https://biologicslab.co/BIO1173/images/class_01/JupyterLabToolbar.png)\n",
    "\n",
    "--------------------------------------------------------"
   ]
  },
  {
   "cell_type": "markdown",
   "metadata": {},
   "source": [
    "# Loops\n",
    "\n",
    "**_Looping_** is a type of programming structure which allows code to be repeated multiple times. It works by executing a set of instructions in a loop until a certain condition is met. It can be used to iterate through a set of data, or to repeat a set of instructions multiple times. Looping can be accomplished through the use of `for` loops and `while` loops.\n",
    "\n",
    "It is possible to use loops to iterate through the various Python collections previously described including lists, sets, dictionaries and tuples. Loops are also widely used when working with _array data_ that will be covered in the next lesson. "
   ]
  },
  {
   "cell_type": "markdown",
   "metadata": {
    "tags": []
   },
   "source": [
    "## **While Loops**\n",
    "\n",
    "The basic form of a `while` loop begins with the keyword _while_ followed by an expression.\n",
    "\n",
    "`while expression:`\n",
    "\n",
    "&nbsp;&nbsp;&nbsp;&nbsp;&nbsp;&nbsp;`statements` \n",
    "\n",
    "As long as the `while expression` is true, the statements are executed and the expression is evaluated again. In other words, useless something makes the expression become `False`, the while loop will be repeated _forever_. \n",
    "\n",
    "Normally, _something_ occurs while the code is running to change the espression to `False`. When this occurs, the statements in the `while loop` are skipped and execution of the `while loop` is completed.\n",
    "\n",
    "As with conditional loops, it is essential to indent each line in the loop by 4 spaces."
   ]
  },
  {
   "cell_type": "markdown",
   "metadata": {},
   "source": [
    "### Example 4: `while` loop using a positive augmented assignment\n",
    "\n",
    "To increment a `while` loop, you need to increment the **_loop control variable_** at the end of each iteration of the loop. This can be done by adding a line of code to the end of the loop that increments the loop control variable. \n",
    "\n",
    "For historical reasons, the letters `i`, `j` and `k` are often used as loop control variables. The letter `i` is used for the _main_ loop, with the letters `j` and `k` used if you need loops inside the main loop. However, variables with names such as `counter`, `index`, `number`, `position`, and `total` are often used as well.   \n",
    "\n",
    "In this example, the letter `i` serves as the loop control variable. It is always necessary to is assign an `initial value` to any loop control variable, _before_ it is used the `while` statement. In the code example below, the initial value of `i` is set to `1`. It's value is incremented by 1 at the end of each loop iteration with the code: `i += 1`.\n",
    "\n",
    "**Augmented Assignment**\n",
    "\n",
    "The code `i += 1` is an example of an **_augmented assignment_**. An augmented assignment is an operator that combines an operation and an assignment. It performs the operation on a variable and then assigns the result of the operation to that variable. For example, the augmented assignment \"+=\" adds the right-hand side value to the left-hand side variable and then assigns the result to the left-hand side variable."
   ]
  },
  {
   "cell_type": "code",
   "execution_count": null,
   "metadata": {
    "tags": []
   },
   "outputs": [],
   "source": [
    "# Example 4: Positive argument assignment\n",
    "\n",
    "# Assign an intial value to the loop control variable\n",
    "i = 1\n",
    "\n",
    "# while loop\n",
    "while i < 6:\n",
    "  print(i)\n",
    "  i += 1   # augmented assignment increases i by 1\n"
   ]
  },
  {
   "cell_type": "markdown",
   "metadata": {},
   "source": [
    "The `print(i)` statement near the end of the `while` loop prints the numbers 1 through 5. Here's why.\n",
    "\n",
    "Before the loop starts, the variable `i` is set to `1` so the first number printed is 1. Immediately after the `print(i)` statement, the value of `i` is incremented by 1 using the _positive_ augmented assignment `i +=1`. \n",
    "\n",
    "During the next pass through the loop, `i` is equal to 2 and so on. Finally, after printing the number 5, the value of `i` is increased to 6 so the logical expression, `while i < 6`, evaluates to `False` and the loop terminates."
   ]
  },
  {
   "cell_type": "markdown",
   "metadata": {},
   "source": [
    "### **Exercise 4: `while` loop using a positive agumented assignment**\n",
    "\n",
    "In **Example 4**  the `while` loop was incremented by a single integer value using the positive agumented asssingment `i +=1`. The augumented assignment is flexible. It can be set to increment by values greater than 1.\n",
    "\n",
    "In the code cell below use the variable `even_counter` as the loop control variable (instead of `i`) with an initial value of 2. Use the same `while` loop given in **Example 4** but the conditional statement `while even_counter < 12`. Print out the values of `even_counter` instead of `i`. Finally, use the augmented assignment `even_counter +=2` to advance each step by 2 instead of 1. \n",
    "\n",
    "**WARNING:** Press the stop icon (_Interrupt the kernel_) if you make a coding error and your loop doesn't terminate after a few seconds.    "
   ]
  },
  {
   "cell_type": "code",
   "execution_count": null,
   "metadata": {
    "tags": []
   },
   "outputs": [],
   "source": [
    "# Insert your code for Exercise 4 here\n",
    "\n"
   ]
  },
  {
   "cell_type": "markdown",
   "metadata": {},
   "source": [
    "If your code is correct you should see the following even numbers printed out:\n",
    "~~~text\n",
    "2\n",
    "4\n",
    "6\n",
    "8\n",
    "10\n",
    "~~~"
   ]
  },
  {
   "cell_type": "markdown",
   "metadata": {},
   "source": [
    "### Example 5: While loop using a negative augmented assignment\n",
    "\n",
    "As stated above, augmented assignments can be either positive or negative. The code in the cell below uses a _negative_ agumented assignment operator to decrease the loop control variable by 1 during each iteration of the `while` loop."
   ]
  },
  {
   "cell_type": "code",
   "execution_count": null,
   "metadata": {},
   "outputs": [],
   "source": [
    "# Example 5: Negative augmented assignment operator\n",
    "\n",
    "# Assign an intial value to the loop control variable\n",
    "i = 5\n",
    "\n",
    "# while loop\n",
    "while i > 0:\n",
    "  print(i)\n",
    "  i -= 1   # decrement i by 1"
   ]
  },
  {
   "cell_type": "markdown",
   "metadata": {},
   "source": [
    "If your code is correct you should see the following output:\n",
    "~~~text\n",
    "5\n",
    "4\n",
    "3\n",
    "2\n",
    "1\n",
    "~~~\n",
    "\n",
    "After the number `1` is printed, the value of `i` becomes `0` so the `while i > 0` becomes `False` and the loop terminates. "
   ]
  },
  {
   "cell_type": "markdown",
   "metadata": {},
   "source": [
    "### **Exercise 5: While loop using a negative augmented assignment**\n",
    "\n",
    "In the code cell below use the variable `negative_counter` as the loop control variable (instead of `i`) with an initial value of 10. Use the same `while` loop given in **Example 5** but the conditional statement `while negative_counter > -3`. Print out the values of `negative_counter` and use the negative augmented assignment `negative_counter -=2` to decrement the value of the counter by 2 after each iteration. \n",
    "\n",
    "**WARNING:** Press the stop icon (_Interrupt the kernel_) if you make a coding error and your loop doesn't terminate after a few seconds.\n"
   ]
  },
  {
   "cell_type": "code",
   "execution_count": null,
   "metadata": {},
   "outputs": [],
   "source": [
    "# Insert your code for Exercise 5 here\n",
    "\n"
   ]
  },
  {
   "cell_type": "markdown",
   "metadata": {},
   "source": [
    "If your code is correct you should only see the even numbers:\n",
    "~~~text\n",
    "10\n",
    "8\n",
    "6\n",
    "4\n",
    "2\n",
    "0\n",
    "-2\n",
    "~~~\n",
    "After the number `-2` is printed, the value of `negative_counter` becomes `-4` so the `while i > -3` becomes `False` and the loop terminates. "
   ]
  },
  {
   "cell_type": "markdown",
   "metadata": {},
   "source": [
    "### Example 6: Iterate through a list with a`while` loop \n",
    "\n",
    "The code below shows how to use a `while` loop to print out the value of item in the list using _square bracket indexing_ `[ ]`, which was covered in an earlier lesson. \n",
    "\n",
    "Since Python starts sequences at index `0`, it is important to initialize the loop control variable `index` to a value of `0` instead of `1`.\n",
    "\n",
    "Immediately after the `print(i)` statement, the value of `index` is incremented by 1 using the augmented assignment `+=1`. \n",
    "\n",
    "The variable `length` determines the number of times the loop iterates through the `nucleotide_list`. To get the correct number of items in the list, the `len()` function is used instead of counting them by hand. Notice that the `while` loop exits on step _before_ it reaches the length of the list\n",
    "\n",
    "`while index` **`<`** `length:`\n",
    "\n",
    "Once again this is because Python starts indexing sequences at `0` instead of `1`.  \n",
    "\n"
   ]
  },
  {
   "cell_type": "code",
   "execution_count": null,
   "metadata": {},
   "outputs": [],
   "source": [
    "# Example 6: While loop iteration through a list\n",
    "\n",
    "# Define a list\n",
    "nucleotide_list = [\"adenine\", \"guanine\", \"cytosine\", \"thymine\", \"uracil\"]\n",
    "\n",
    "# Initialize counter and length of list\n",
    "index = 0\n",
    "length = len(nucleotide_list)\n",
    "\n",
    "# Loop through the list using a while loop\n",
    "while index < length:\n",
    "    # Print the element at the current index\n",
    "    print(nucleotide_list[index])\n",
    "    # Increment the index by 1\n",
    "    index += 1"
   ]
  },
  {
   "cell_type": "markdown",
   "metadata": {},
   "source": [
    "If your code is correct you should see the following output:\n",
    "~~~text\n",
    "adenine\n",
    "guanine\n",
    "cytosine\n",
    "thymine\n",
    "uracil\n",
    "~~~"
   ]
  },
  {
   "cell_type": "markdown",
   "metadata": {},
   "source": [
    "### **Exercise 6: Iterate through part of a list with a `while` loop** \n",
    "\n",
    "In **Example 6** the `while` loop was used to iterate through the entire list of nucleotides using _square bracket indexing_ `[ ]`. You can also use this approach to iterate through only part of the list, (which Python calls a **slice**) by simply adjusting the the index values and/or the augmented assignment operator. \n",
    "\n",
    "Copy the code in **Example 6** and paste it into the cell below. You objective is to print out **only** the values `guanine` and `thymine` from 'nucleotid_list` by changing one or more of the following values:\n",
    "\n",
    "1. Initial value of `index`\n",
    "2. The value and/or sign of the `augmented assignment operator`\n",
    "\n",
    "Like most coding problems, there are more than one way to solve this one."
   ]
  },
  {
   "cell_type": "code",
   "execution_count": null,
   "metadata": {},
   "outputs": [],
   "source": [
    "# Insert your code for Exercise 6 here\n",
    "\n"
   ]
  },
  {
   "cell_type": "markdown",
   "metadata": {},
   "source": [
    "If your code is correct the output should only show `guanine` and `thymine` printed out in either order. "
   ]
  },
  {
   "cell_type": "markdown",
   "metadata": {},
   "source": [
    "### Example 7: `while` loop with a final `else`clause\n",
    "\n",
    "Just like the  conditional `if statment`, a `while` loop can also contain an optional `else:` clause at the end. The final `else` clause is executed when the `while expression` evaluates to `False`, as shown in the code example below."
   ]
  },
  {
   "cell_type": "code",
   "execution_count": null,
   "metadata": {},
   "outputs": [],
   "source": [
    "# Example 7: While loop with else clause\n",
    "\n",
    "# While loop with final clause\n",
    "i = 1\n",
    "while i < 6:\n",
    "    print(i)\n",
    "    i += 1   # increment i by 1\n",
    "else:\n",
    "    print('The while expression evaluated to false and the loop is terminating')"
   ]
  },
  {
   "cell_type": "markdown",
   "metadata": {},
   "source": [
    "If your code is correct you should see the following output:\n",
    "~~~text\n",
    "1\n",
    "2\n",
    "3\n",
    "4\n",
    "5\n",
    "The while expression evaluated to false and the loop is terminating\n",
    "~~~"
   ]
  },
  {
   "cell_type": "markdown",
   "metadata": {},
   "source": [
    "### **Exercise 7: Add a final `else` clause to Exercise 5**\n",
    "\n",
    "Copy your code from **Exercise 5** and paste it into the code cell below. Then add the final `else` clause used in Example 5 so it prints out a statement when it terminates."
   ]
  },
  {
   "cell_type": "code",
   "execution_count": null,
   "metadata": {},
   "outputs": [],
   "source": [
    "# Insert your code for Exercise 7 here\n",
    "\n"
   ]
  },
  {
   "cell_type": "markdown",
   "metadata": {},
   "source": [
    "If your code is correct you should see:\n",
    "~~~text\n",
    "10\n",
    "8\n",
    "6\n",
    "4\n",
    "2\n",
    "0\n",
    "-2\n",
    "The while expression evaluated to false and the loop is terminating\n",
    "~~~\n"
   ]
  },
  {
   "cell_type": "markdown",
   "metadata": {
    "tags": []
   },
   "source": [
    "### Example 8: Using a `break` to interrupt flow\n",
    "\n",
    "There are three ways for a loop's execution to end:\n",
    "\n",
    "+ Normally \n",
    "  + The test evaluates to false. \n",
    "+ Abnormally \n",
    "  + An error occurs in the evaluation of the test or body of the loop. \n",
    "+ Prematurely \n",
    "  + The body of the loop executes a `return` or `break` statement. \n",
    "\n",
    "When you write a loop, you must make sure that (1) either the test expression eventually becomes false or (2) you insert either a `break` or a `return` that are executed during the loop. Otherwise, the program will get stuck in what is called an _infinite loop_ and never stop. \n",
    "\n",
    "In the example below, a `break` statement is used to prematurely exit the `while` loop use in Example 7. "
   ]
  },
  {
   "cell_type": "code",
   "execution_count": null,
   "metadata": {},
   "outputs": [],
   "source": [
    "# Example 8: Using a break to interrupt flow\n",
    "\n",
    "# While loop with final clause\n",
    "i = 1\n",
    "while i < 6:\n",
    "    if i == 3:\n",
    "        break\n",
    "    print(i)\n",
    "    i += 1   # increment i by 1\n",
    "else:\n",
    "    print('The while expression evaluated to false and the loop is terminating')\n"
   ]
  },
  {
   "cell_type": "markdown",
   "metadata": {},
   "source": [
    "Unlike Example 7, Example 8 only prints out the numbers `1` and `2`. \n",
    "\n",
    "This is because when `i=3`, the `if` expression, `if i == 3`, becomes `True` and the `break` statement is executed, which terminates the loop."
   ]
  },
  {
   "cell_type": "markdown",
   "metadata": {},
   "source": [
    "### **Exercise 8: Using a `break` to interrupt flow**\n",
    "\n",
    "In the code cell below, add a `break` statement to **Exercise 7** so that the loop terminates when `negative_counter = 2`.\n",
    "\n",
    "**NOTE:** Be careful that you indent each line of code properly. Otherwise you will receive an error that reads: `IndentationError: unexpected indent`"
   ]
  },
  {
   "cell_type": "code",
   "execution_count": null,
   "metadata": {},
   "outputs": [],
   "source": [
    "# Insert your code for Exercise 8 here\n",
    "\n",
    "\n"
   ]
  },
  {
   "cell_type": "markdown",
   "metadata": {},
   "source": [
    "If you code was written correctly, you should only see only the following numbers: \n",
    "~~~text\n",
    "10\n",
    "8\n",
    "6\n",
    "4\n",
    "~~~\n",
    "If you received an indentation error, make sure your code has the same indentation that was used in **Example 8**. "
   ]
  },
  {
   "cell_type": "markdown",
   "metadata": {
    "tags": []
   },
   "source": [
    "## For Loops\n",
    "\n",
    "The basic form of a `for` loop begins with the keyword _for_ followed by an expression.\n",
    "\n",
    "`for expression:`\n",
    "\n",
    "&nbsp;&nbsp;&nbsp;&nbsp;&nbsp;&nbsp;`statements` \n",
    "\n",
    "As long as the `for expression` is `True`, the statements are executed and the expression is evaluated again. In other words, useless something makes the expression become `False`, the `for` loop will be repeated _forever_. \n",
    "\n",
    "At first glance, a `for` loop appears to duplicate the function of a `while loop`. However, there are important differences between these two types of control statements. An important, but not the only difference is that `for loops` are used when the number of iterations is already known. On the other hand, `while loops` are used when the number of iterations is unknown. \n",
    "\n",
    "The main differences between `for` and `while` loops are summarized in the folllowing table:"
   ]
  },
  {
   "cell_type": "markdown",
   "metadata": {
    "tags": []
   },
   "source": [
    "### **Differentiation Table**\n",
    "\n",
    "|Basis of Comparison |For Loop | While Loop|\n",
    "| -----------------------|-----------------------------|----------------------|\n",
    "|Keyword |Uses `for` keyword | Uses `while` keyword\n",
    "| Used | For loop is used when the number of iterations is already known. | While loop is used when the number of iterations is already Unknown.|\n",
    "| absence of condition | The loop runs infinite times in the absence of condition| Returns the compile time error in the absence of condition|\n",
    "| Nature of Initialization | Once done, it cannot be repeated | In the while loop, it can be repeated at every iteration.|\n",
    "| Functions | To iterate, the range or xrange function is used. |There is no such function in the while loop.|\n",
    "| Initialization based on iteration |To be done at the beginning of the loop.| In the while loop, it is possible to do this anywhere in the loop body.|"
   ]
  },
  {
   "cell_type": "markdown",
   "metadata": {},
   "source": [
    "### Example 9: Looping through a sequence\n",
    "\n",
    "Looping through a list is a process of iterating through each element in a Python list. This can be done using a 'for' loop, which iterates through each element in the list and performs some kind of action on it.\n",
    "\n",
    "In this example, taken from a bioinformatics problem, a `for` loop is used to iterate through a sequence of DNA nucleotides (`a`, `g`, `c` and `t`) _three_ nucleotides at a time. As probably already know, 3 nucleotides is called a **_triplet_**. \n"
   ]
  },
  {
   "cell_type": "code",
   "execution_count": null,
   "metadata": {
    "tags": []
   },
   "outputs": [],
   "source": [
    "# Example 9: Iterate a sequence with a for loop\n",
    "\n",
    "# define sequence\n",
    "dnaSequence = 'tagcgctttatcggg'\n",
    "\n",
    "# compute number of triplets\n",
    "numTriplets = len(dnaSequence) // 3\n",
    "print(f\"Number of triplets in DNA sequence = {numTriplets}.\")\n",
    "\n",
    "# initialize loop control variable\n",
    "i = 0\n",
    "\n",
    "# for loop\n",
    "for base in dnaSequence:\n",
    "    start = i\n",
    "    end = start + 3  \n",
    "    print(dnaSequence[start:end])   # f-print triplet\n",
    "    i=i+3 # increment index by 3 to get next triplet\n",
    "    if end > 3 * numTriplets:break  # stop printing after last triplet\n"
   ]
  },
  {
   "cell_type": "markdown",
   "metadata": {},
   "source": [
    "If your code is correct you should see:\n",
    "~~~text\n",
    "Number of triplets in DNA sequence = 5.\n",
    "tag\n",
    "cgc\n",
    "ttt\n",
    "atc\n",
    "ggg\n",
    "~~~"
   ]
  },
  {
   "cell_type": "markdown",
   "metadata": {},
   "source": [
    "### **Exercise 9: Looping through a dictionary**\n",
    "\n",
    "Looping through a Python dictionary is similar to the process of looping through a sequence except that dictionaries have `key:value` pairs. \n",
    "\n",
    "The cell below shows a code example that can be used to loop through a dictionary one item at a time where `dictionary_name` is the name of the Python dictionary. The `item()` method is used to extract the `key:value` pair from the dictionary."
   ]
  },
  {
   "cell_type": "markdown",
   "metadata": {
    "scrolled": true
   },
   "source": [
    "~~~text\n",
    "for key, value in dictionary_name.items():\n",
    "    print(key + \": \" + value)\n",
    "~~~"
   ]
  },
  {
   "cell_type": "markdown",
   "metadata": {},
   "source": [
    "And here is the code for the Python dictionary called `DNABaseDict` used in an earlier lesson."
   ]
  },
  {
   "cell_type": "markdown",
   "metadata": {
    "metadata": {
     "deletable": false,
     "editable": false,
     "trusted": true
    },
    "tags": []
   },
   "source": [
    "~~~text\n",
    "DNABaseDict = dict((['A', 'adenine'],\n",
    "                    ['C', 'cytosine'],\n",
    "                    ['G', 'guanine'],\n",
    "                    ['T', 'thymine']\n",
    "                   ))\n",
    "~~~"
   ]
  },
  {
   "cell_type": "markdown",
   "metadata": {},
   "source": [
    "In the cell below write the Python code that uses a `for` loop to iterate through the `DNABaseDict` and prints out each `key:value` pair."
   ]
  },
  {
   "cell_type": "code",
   "execution_count": null,
   "metadata": {},
   "outputs": [],
   "source": [
    "# Insert your code for Exercise 9 here\n",
    "\n"
   ]
  },
  {
   "cell_type": "markdown",
   "metadata": {},
   "source": [
    "If your code is correct you should see the following output:\n",
    "~~~text\n",
    "A: adenine\n",
    "C: cytosine\n",
    "G: guanine\n",
    "T: thymine\n",
    "~~~"
   ]
  },
  {
   "cell_type": "markdown",
   "metadata": {},
   "source": [
    "---------------------------------------------\n",
    "\n",
    "### **Summary of Syntax**\n"
   ]
  },
  {
   "cell_type": "markdown",
   "metadata": {},
   "source": [
    "Here is a summary of the Syntax used in this lesson"
   ]
  },
  {
   "cell_type": "markdown",
   "metadata": {},
   "source": [
    "| Python Syntax           | Description                                         |\n",
    "|:------------------------|:----------------------------------------------------|\n",
    "| `break` | Terminates the enclosing loop   | \n",
    "| `if expression:`        | Conditional loop      |            \n",
    "| `while espression:`     | While loop |\n",
    "| `for expression:`       | For loop   |\n"
   ]
  },
  {
   "cell_type": "markdown",
   "metadata": {},
   "source": [
    "## **Lesson Turn-in**\n",
    "\n",
    "When you have completed all of the code cells, and run them in sequential order (the last code cell should be number 18), use the **File --> Print.. --> Save to PDF** to generate a PDF of your JupyterLab notebook. Save your PDF as `Lesson_01_7.lastname.pdf` where _lastname_ is your last name, and upload the file to Canvas."
   ]
  }
 ],
 "metadata": {
  "kernelspec": {
   "display_name": "Python 3.9 (biostats)",
   "language": "python",
   "name": "biostats"
  },
  "language_info": {
   "codemirror_mode": {
    "name": "ipython",
    "version": 3
   },
   "file_extension": ".py",
   "mimetype": "text/x-python",
   "name": "python",
   "nbconvert_exporter": "python",
   "pygments_lexer": "ipython3",
   "version": "3.9.19"
  }
 },
 "nbformat": 4,
 "nbformat_minor": 4
}
