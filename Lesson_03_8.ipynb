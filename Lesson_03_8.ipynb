{
  "cells": [
    {
      "cell_type": "markdown",
      "metadata": {
        "id": "view-in-github",
        "colab_type": "text"
      },
      "source": [
        "<a href=\"https://colab.research.google.com/github/DavidSenseman/BIO5853/blob/main/Lesson_03_8.ipynb\" target=\"_parent\"><img src=\"https://colab.research.google.com/assets/colab-badge.svg\" alt=\"Open In Colab\"/></a>"
      ]
    },
    {
      "cell_type": "markdown",
      "metadata": {
        "id": "rlv69LVNa20k"
      },
      "source": [
        "---------------------------\n",
        "\n",
        "**COPYRIGHT NOTICE:** This Jupyterlab/Colab notebook is a companion supplement to the textbook _Principles of Biostatistics_ by M. Pagano. K. Marcello and H. Mattie (3rd ed) published in 2022 by CRC Press. It is designed to be used in conjunction with -- not as a standalone substitute for – this textbook.  \n",
        "\n",
        "This notebook is licensed under the Apache License, Version 2.0 (the \"License\"); You may not use this file except in compliance with the License. You may obtain a copy of the License at\n",
        ">http://www.apache.org/licenses/LICENSE-2.0\n",
        "\n",
        "Unless required by applicable law or agreed to in writing, software distributed under the License is distributed on an \"AS IS\" BASIS, WITHOUT WARRANTIES OR CONDITIONS OF ANY KIND, either express or implied. See the License for the specific language governing permissions and limitations under the License.\n",
        "\n",
        "------------------------"
      ]
    },
    {
      "cell_type": "markdown",
      "metadata": {
        "id": "5jGhP9h2a20l"
      },
      "source": [
        "# **BIO 5853: Biostatistics**"
      ]
    },
    {
      "cell_type": "markdown",
      "metadata": {
        "id": "cSLajntMa20l"
      },
      "source": [
        "##### **Module 3: Inference**\n",
        "\n",
        "* Instructor: [David Senseman](mailto:David.Senseman@utsa.edu), [Department of Integrative Biology](https://sciences.utsa.edu/integrative-biology/), [UTSA](https://www.utsa.edu/)\n",
        "\n",
        "\n",
        "### Module 3 Material\n",
        "\n",
        "* Part 3.1: Confidence Intervals\n",
        "* Part 3.2: Hypothesis Testing\n",
        "* Part 3.3: Comparison of Two Means\n",
        "* Part 3.4: Analysis of Variance (ANOVA)\n",
        "* Part 3.5: Nonparametric Methods\n",
        "* Part 3.6: Inference on Proportions\n",
        "* Part 3.7: Contingency Tables\n",
        "* **Part 3.8: Correlation**\n",
        "* Part 3.9: Simple Linear Regression\n",
        "* Part 3.10: Multiple Linear Regression\n",
        "* Part 3.11: Logistic Regression\n",
        "* Part 3.12: Survival Analysis"
      ]
    },
    {
      "cell_type": "markdown",
      "metadata": {
        "id": "yKQylnEiLDUM"
      },
      "source": [
        "## Google CoLab Instructions\n",
        "\n",
        "The following code ensures that Google CoLab is running the correct version of TensorFlow.\n",
        "  Running the following code will map your GDrive to ```/content/drive```."
      ]
    },
    {
      "cell_type": "code",
      "execution_count": null,
      "metadata": {
        "id": "seXFCYH4LDUM"
      },
      "outputs": [],
      "source": [
        "# YOU MUST RUN THIS CELL FIRST\n",
        "try:\n",
        "    from google.colab import drive\n",
        "    drive.mount('/content/drive', force_remount=True)\n",
        "    from google.colab import auth\n",
        "    auth.authenticate_user()\n",
        "    COLAB = True\n",
        "    print(\"Note: using Google CoLab\")\n",
        "    %tensorflow_version 2.x\n",
        "    import requests\n",
        "    gcloud_token = !gcloud auth print-access-token\n",
        "    gcloud_tokeninfo = requests.get('https://www.googleapis.com/oauth2/v3/tokeninfo?access_token=' + gcloud_token[0]).json()\n",
        "    print(gcloud_tokeninfo['email'])\n",
        "except:\n",
        "    print(\"Note: not using Google CoLab\")\n",
        "    COLAB = False"
      ]
    },
    {
      "cell_type": "markdown",
      "metadata": {
        "id": "i55gW1gGa20n"
      },
      "source": [
        "# **Part 3.8: Correlation**\n",
        "\n",
        "**_Correlation_** in statistics measures the strength and direction of the relationship between two variables. When two variables are correlated, changes in one variable tend to be associated with changes in the other. Correlation coefficients, ranging from -1 to 1, quantify this relationship:\n",
        "\n",
        "* **1** indicates a perfect positive correlation (both variables move in the same direction).\n",
        "\n",
        "* **-1** indicates a perfect negative correlation (variables move in opposite directions).\n",
        "\n",
        "* **0** indicates no correlation.\n",
        "\n",
        "#### **Importance in Biostatistics**\n",
        "\n",
        "1. **Identifying Relationships:** Correlation helps identify relationships between biological variables, such as the association between a risk factor and disease.\n",
        "\n",
        "2. **Predictive Analysis:** Helps in predicting outcomes. For example, knowing the correlation between age and blood pressure can aid in anticipating health issues.\n",
        "\n",
        "3. **Experimental Design:** Understanding correlations can inform the design of experiments and studies, ensuring relevant variables are considered.\n",
        "\n",
        "4. **Data Interpretation:** Helps in interpreting complex biological data, distinguishing significant relationships from random noise.\n"
      ]
    },
    {
      "cell_type": "markdown",
      "metadata": {
        "id": "t97Ey55la20n"
      },
      "source": [
        "### **Introduction**\n",
        "\n",
        "In the preceding chapters, we discuss measures of the strength of association between two dichotomous random variables. We now begin to investigate the relationships that can exist among  continuous variables. One statistical technique often used to measure such an association is known as **_correlation analysis_**. Correlation is defined as the quantification of the degree to which two continuous random variables are related, provided that the relationship is linear.\n",
        "\n",
        ">Pagano, Marcello; Gauvreau, Kimberlee; Mattie, Heather. Principles of Biostatistics (p. 381). CRC Press. Kindle Edition."
      ]
    },
    {
      "cell_type": "markdown",
      "metadata": {
        "id": "KNOTLx7va20n"
      },
      "source": [
        "## **Datasets for this Lesson**\n",
        "\n",
        "In this lesson we will be using 3 datasets that we need to read from the course file server."
      ]
    },
    {
      "cell_type": "markdown",
      "metadata": {
        "id": "jfv0w8j2a20n"
      },
      "source": [
        "### Example 1: Read Datafile\n",
        "\n",
        "We will be using a datafile called `dpt_mortality.csv` stored on the course HTTPS server. As the file is read, the data is stored in a DataFrame called `dptDF`.\n",
        "\n",
        "_Data Description:_\n",
        "\n",
        "This file has data from 20 countries around the world on the percentage of children who received all three doses of the DPT vaccine. The DPT vaccine (also known as DTaP or DTP) is a combination vaccine that protects against three serious bacterial infections: diphtheria, tetanus, and pertussis (whooping cough). The DPT vaccine is important because it helps prevent these diseases, which can be life-threatening, especially for young children. By getting vaccinated, individuals not only protect themselves but also contribute to community immunity, helping to prevent outbreaks and protect those who cannot be vaccinated."
      ]
    },
    {
      "cell_type": "code",
      "execution_count": null,
      "metadata": {
        "id": "SwEPVou6a20o"
      },
      "outputs": [],
      "source": [
        "# Example 1: Read datafile\n",
        "\n",
        "import pandas as pd\n",
        "\n",
        "# Read datafile and create DataFrame\n",
        "dptDF = pd.read_csv(\n",
        "    \"https://biologicslab.co/BIO5853/data/dpt_mortality.csv\",\n",
        "    index_col=0,\n",
        "    sep=',',\n",
        "    na_values=['NA','?'])\n",
        "\n",
        "# Set max rows and max columns\n",
        "pd.set_option('display.max_rows', 6)\n",
        "pd.set_option('display.max_columns', 4)\n",
        "\n",
        "# Display DataFrame\n",
        "display(dptDF)"
      ]
    },
    {
      "cell_type": "markdown",
      "metadata": {
        "id": "VD821Z36a20o"
      },
      "source": [
        "If the code is correct, you should see the following output:\n",
        "\n",
        "![____](https://biologicslab.co/BIO5853/images/module_03/lesson_03_8_image06.png)"
      ]
    },
    {
      "cell_type": "markdown",
      "metadata": {
        "id": "8m1H7bcVa20o"
      },
      "source": [
        "The contents of this dataset is shown in **Table 16.1** in your textbook on page 382."
      ]
    },
    {
      "cell_type": "markdown",
      "metadata": {
        "id": "-EeRrx4wa20o"
      },
      "source": [
        "### **Exercise 1A: Read Datafile**\n",
        "\n",
        "In the cell below, use the Pandas function `pd.read_csv(filename)` to read a data file called `drivers.csv` stored on the course HTTPS server. As the file is read, store it in a new Pandas DataFrame called `driveDF`.\n",
        "\n",
        "_Data Description:_\n",
        "\n",
        "This file contains data on fatal motor vechicle crashes between 2014-2015 for different age groups.\n"
      ]
    },
    {
      "cell_type": "code",
      "execution_count": null,
      "metadata": {
        "scrolled": true,
        "id": "u766lUf6a20o"
      },
      "outputs": [],
      "source": [
        "# Insert your code for Exercise 1A here\n",
        "\n"
      ]
    },
    {
      "cell_type": "markdown",
      "metadata": {
        "id": "njYKMRm6a20p"
      },
      "source": [
        "If your code is correct, you should see the following output:\n",
        "\n",
        "![____](https://biologicslab.co/BIO5853/images/module_03/lesson_03_8_image05.png)"
      ]
    },
    {
      "cell_type": "markdown",
      "metadata": {
        "id": "cJtOKAUka20p"
      },
      "source": [
        "If your code is correct, new DataFrame `driveDF` has total of 8 records."
      ]
    },
    {
      "cell_type": "markdown",
      "metadata": {
        "id": "T8r72kyfa20p"
      },
      "source": [
        "### **Exercise 1B: Read Datafile**\n",
        "\n",
        "In the cell below, use the Pandas function `pd.read_csv(filename)` to read a data file called `fvc_fev.csv` stored on the course HTTPS server. As the file is read, store it in a new Pandas DataFrame called `lungDF`.\n",
        "\n",
        "#### **Data Description**\n",
        "\n",
        "In pulmonary physiology, the abbreviation _fvc_ stands for \"forced vital capacity\" while the abbreviation _fev_ stands for \"forced expiratory volume\". Both of these are important measures of lung function.\n",
        "\n",
        "These data came from a study investigating the physical effects of sulfur dioxide exposure. Forced vital capacity is the volume of air that can be expelled from the lungs in six seconds, and forced expiratory volume in one second is the volume that can be expelled after one second of constant effort."
      ]
    },
    {
      "cell_type": "code",
      "execution_count": null,
      "metadata": {
        "id": "xliZhscAa20p"
      },
      "outputs": [],
      "source": [
        "# Insert your code for Exercise 1B here\n",
        "\n"
      ]
    },
    {
      "cell_type": "markdown",
      "metadata": {
        "id": "5_daqVg2a20p"
      },
      "source": [
        "If your code is correct, you should see the following output:\n",
        "\n",
        "![____](https://biologicslab.co/BIO5853/images/module_03/lesson_03_8_image12.png)"
      ]
    },
    {
      "cell_type": "markdown",
      "metadata": {
        "id": "5_-L3bYha20p"
      },
      "source": [
        "If your code was corrct, your new DataFrame `lungDF` have a total of 20 records of _fev_ values in the column **fev** and 20 records of _fvc_ values on column **fvc** ."
      ]
    },
    {
      "cell_type": "markdown",
      "metadata": {
        "id": "KVWxn5Rya20p"
      },
      "source": [
        "## **Two-Way Scatter Plot**\n",
        "\n",
        "From your textbook:\n",
        ">Suppose that we are interested in a pair of continuous random variables, each of which is measured on the same set of persons, hospitals, countries, or other units of study. For example, we might wish to investigate the relationship between the percentage of children who have been immunized against the infectious diseases diphtheria, pertussis, and tetanus (dpt) in a given country, and the corresponding mortality rate for children under 5 years of age. The United Nations Children’s Fund considers the under-5 mortality rate to be one of the most important indicators of the level of well-being for a  population of children. The data for a sample of 20 countries from around the world are shown in Table 16.1. If X represents the percentage of children receiving all three of the required doses of the dpt vaccine, and Y represents the under-5 mortality rate, we have a pair of outcomes (xi, yi) for each nation in the sample. The first country on the list, Bolivia, has a dpt immunization percentage of 83% and an under-5 mortality rate of 27 per 1000 live births; therefore, this country is represented by the data  point (83, 27).\n",
        ">\n",
        ">Before we conduct any type of analysis of these data, we should always create a **_two-way scatter plot_**. If we place the outcomes of the X variable along the horizontal axis and the outcomes of the Y variable along the vertical axis, each point on the graph represents a combination of values (xi, yi). We can often determine whether a relationship exists between x and y – the outcomes of the random variables X and Y – simply by examining the graph. As an example, the data from Table 16.1 are plotted in Figure 16.1. The percentage of children immunized against dpt is shown on the horizontal  axis and the under-5 mortality rate on the vertical axis. Not surprisingly, the mortality rate tends to decrease as the percentage of children immunized increases.\n",
        "\n",
        "![____](https://biologicslab.co/BIO5853/images/module_03/lesson_03_8_image02.png)\n",
        "\n",
        "**FIGURE 16.1**  Under-5 mortality rate versus percentage of children immunized against dpt for 20 countries, 2018\n"
      ]
    },
    {
      "cell_type": "markdown",
      "metadata": {
        "id": "LO00-tKIa20q"
      },
      "source": [
        "### Example 2: Two-Way Scatter Plot\n",
        "\n",
        "We have previously looked at two-way scatter plots in Lesson_01_4 (Example 10).\n",
        "\n",
        "Two-way scatter plots--also called X-Y Scatter plots--are quite common in biological and medical literature. The code in the cell below, shows how to recreate **Figure 16.1** using Python.\n",
        "\n",
        "_Code Description:_\n",
        "\n",
        "The code first extracts the x- and y-values from the DataFrame `dptDF` as shown in this code chunk:\n",
        "\n",
        "~~~text\n",
        "# Assign x and y\n",
        "x=np.array([dprDF.immunized])\n",
        "y=np.array([dptDF.under5])\n",
        "~~~\n",
        "\n",
        "Here is the code chunk that actually generated the two-way scatter plot:\n",
        "\n",
        "~~~text\n",
        "# Plot xy scatter\n",
        "ax.scatter(x, y, marker=\"o\",\n",
        "           s=30,\n",
        "           c='white',\n",
        "           edgecolors='k')\n",
        "~~~\n",
        "\n",
        "Here is a complete list of arugments that you can use with the command `ax.scatter()` to modify various aspects of your plot:\n",
        "\n",
        "The `ax.scatter()` method in Matplotlib is used to create scatter plots. The method's arguments include data points, colors, sizes, and more. Here's a breakdown:\n",
        "\n",
        "* **x:** X-coordinates of the data points.\n",
        "* **y:** Y-coordinates of the data points.\n",
        "* **s:** Sizes of the data points.\n",
        "* **c:** Colors of the data points.\n",
        "* **cmap:** Colormap used to map data values to colors.\n",
        "* **marker:** Marker style for the points.\n",
        "* **alpha:** Transparency level of the points.\n",
        "* **linewidths:** Width of the edge lines around the points.\n",
        "* **edgecolors:** Colors of the edge lines around the points.\n",
        "\n"
      ]
    },
    {
      "cell_type": "code",
      "execution_count": null,
      "metadata": {
        "id": "S8r-8ug4a20q"
      },
      "outputs": [],
      "source": [
        "# Example 2: Two-way scatter plot\n",
        "\n",
        "import matplotlib.pyplot as plt\n",
        "import numpy as np\n",
        "\n",
        "# Assign x and y\n",
        "x=np.array([dptDF.immunized])\n",
        "y=np.array([dptDF.under5])\n",
        "\n",
        "# Create plotting environment\n",
        "fig, ax = plt.subplots()\n",
        "\n",
        "# Plot xy scatter\n",
        "ax.scatter(x, y, marker=\"o\",\n",
        "           s=30,\n",
        "           c='white',\n",
        "           edgecolors='k')\n",
        "\n",
        "# Set x and y limits\n",
        "ax.set(xlim=(70,100))\n",
        "ax.set(ylim=(0,60))\n",
        "\n",
        "# Set the x and y labels\n",
        "ax.set_xlabel('Percentage immunized against DPT')\n",
        "ax.set_ylabel('Under-5 mortality rate per 1000 live births')\n",
        "\n",
        "# Show plot\n",
        "plt.show()\n"
      ]
    },
    {
      "cell_type": "markdown",
      "metadata": {
        "id": "XaUKND0aa20q"
      },
      "source": [
        "If the code is correct, you should see the following x-y plot.\n",
        "\n",
        "![____](https://biologicslab.co/BIO5853/images/module_03/lesson_03_8_image07.png)"
      ]
    },
    {
      "cell_type": "markdown",
      "metadata": {
        "id": "qJx5BF8Da20q"
      },
      "source": [
        "By visual inspection, you should see that there is a relationship (\"correlation\") between the under 5 mortality rate and the percentage of children receiving the DTP vaccine. Specifically, as the percentage of children immunized increases, child mortality falls. This represents an **_inverse_** or negative correlation.  "
      ]
    },
    {
      "cell_type": "markdown",
      "metadata": {
        "id": "o8_8OVl8a20q"
      },
      "source": [
        "### **Exercise 2: Two-Way Scatter Plot**\n",
        "\n",
        "In the cell below, create a two-way scatterplot of forced vital capacity (fvc) as a function of forced expiratory volumne (fev). Whenever you see plot \"$A$ as a _function_ of $B$\" it means $A$ should be the y-value and $B$ should be the x-value.   \n",
        "\n",
        "_Code Hints:_\n",
        "\n",
        "You can use this code chunk to extract the x- and y-values from the DataFrame `lungDF` as shown in this code chunk:\n",
        "\n",
        "~~~text\n",
        "# Assign x and y\n",
        "x=np.array([lungDF.fev])\n",
        "y=np.array([lungDF.fvc])\n",
        "~~~\n",
        "\n",
        "You will also need to adjust the x and y limits as follows:\n",
        "\n",
        "~~~text\n",
        "# Set x and y limits\n",
        "ax.set(xlim=(0,6))\n",
        "ax.set(ylim=(0,7))\n",
        "~~~\n",
        "\n",
        "Finally, change the x and y axis labels as follows:\n",
        "\n",
        "~~~text\n",
        "# Set the x and y labels\n",
        "ax.set_xlabel('Forced expiratory volume in one second (liters)')\n",
        "ax.set_ylabel('Forced vital capacity (liters)')\n",
        "~~~\n",
        "\n"
      ]
    },
    {
      "cell_type": "code",
      "execution_count": null,
      "metadata": {
        "id": "-P3d804Ia20q"
      },
      "outputs": [],
      "source": [
        "# Insert your code for Exercise 2 here\n",
        "\n"
      ]
    },
    {
      "cell_type": "markdown",
      "metadata": {
        "id": "KkZ7WN0va20r"
      },
      "source": [
        "If your code is correct, you should see the following x-y plot.\n",
        "\n",
        "![____](https://biologicslab.co/BIO5853/images/module_03/lesson_03_8_image13.png)"
      ]
    },
    {
      "cell_type": "markdown",
      "metadata": {
        "id": "_y3hayDIa20r"
      },
      "source": [
        "By visual inspection, you should see that there is very strong positive correlation, $r$, between forced expiratory volume (fev) and forced vital capacity (fvc)."
      ]
    },
    {
      "cell_type": "markdown",
      "metadata": {
        "id": "6T3dC8q3a20r"
      },
      "source": [
        "### **Interpreting Two-Way Scatterplots**\n",
        "\n",
        "The human visual system is extremely good at detecting spatial relations. As a biostatistician, you need to take advantage of this trait.  **Figure 16.2** (below) illustrates possible relationships between $X$ and $Y$. While plots _a_ and _b_ show perfect linear relationships (_r_ = 1, and -1 respectively), the data in _c_ and _d_ show no evidence of a linear relationship (_r_=0)."
      ]
    },
    {
      "cell_type": "markdown",
      "metadata": {
        "id": "-I-xkpEya20r"
      },
      "source": [
        "![____](https://biologicslab.co/BIO5853/images/module_03/lesson_03_8_image03.png)\n",
        "\n",
        "**FIGURE 16.2**  Scatter plots displaying possible relationships between X and Y: (a) perfect positive correlation, (b)  perfect negative correlation, (c) no correlation, (d) no correlation"
      ]
    },
    {
      "cell_type": "markdown",
      "metadata": {
        "id": "nY80CdaKa20r"
      },
      "source": [
        "## **Pearson Correlation Coefficient**  \n",
        "\n",
        "_From your textbook on page 382:_\n",
        "\n",
        "In the underlying population from which the sample of points ($x_i$, $y_i$) is selected, the correlation between the random variables $X$ and $Y$ is denoted by the Greek letter $\\rho$ (rho). The correlation $\\rho$ quantifies the strength of the linear relationship between the outcomes $x$ and $y$. It can be thought of as the average of the product of the standard normal deviates of X and Y; in particular,  \n",
        "\n",
        "$$ \\rho = \\text{average} \\left[ \\frac{(X - \\mu_x)(Y - \\mu_y)}{\\sigma_x \\sigma_y} \\right].$$\n",
        "\n",
        "\n",
        "The estimator of $\\rho$ is known as the **_Pearson correlation coefficient_**, or simply the _correlation coefficient_. The correlation coefficient is denoted by $r$ and is calculated as\n",
        "\n",
        "$$ \\begin{align*}\n",
        "r &= \\frac{1}{(n-1)} \\sum_{i=1}^{n} \\left( \\frac{x_i - \\bar{x}}{s_x} \\right) \\left( \\frac{y_i - \\bar{y}}{s_y} \\right) \\\\\n",
        "  &= \\frac{1}{(n-1)} \\frac{\\sum_{i=1}^{n} (x_i - \\bar{x})(y_i - \\bar{y})}{s_x s_y}.\n",
        "\\end{align*} $$\n",
        "\n",
        "In this formula, $\\bar{x}$ and $\\bar{y}$ are the sample means of the $x$ and $y$ values, respectively, and $s_x$ and $s_y$ are the sample standard deviations. An equivalent formula for $r$ is\n",
        "\n",
        "$$ r = \\frac{\\sum_{i=1}^{n} (x_i - \\bar{x})(y_i - \\bar{y})}{\\sqrt{\\left[\\sum_{i=1}^{n} (x_i - \\bar{x})^2\\right]\\left[\\sum_{i=1}^{n} (y_i - \\bar{y})^2\\right]}} $$\n",
        "\n",
        "(Pagano, Marcello; Gauvreau, Kimberlee; Mattie, Heather. Principles of Biostatistics (p. 382). CRC Press. Kindle Edition)"
      ]
    },
    {
      "cell_type": "markdown",
      "metadata": {
        "id": "PrpJTmsDa20r"
      },
      "source": [
        "### Example 3: Pearson Correlation Coefficient\n",
        "\n",
        "The cell below shows the Python code for computing Pearson's Correlation Coefficient for the DPT data stored in the DataFrame `dptDF`.\n",
        "\n",
        "_Code Description:_\n",
        "\n",
        "Note that the extraction of x- and y-values from the DataFrame are slightly different than that used above. Specifically, there are no square bracket `[ ]` used:\n",
        "\n",
        "~~~text\n",
        "# Assign x and y\n",
        "x=np.array(dptDF.immunized)\n",
        "y=np.array(dptDF.under5)\n",
        "~~~"
      ]
    },
    {
      "cell_type": "code",
      "execution_count": null,
      "metadata": {
        "id": "mnsBppoma20r"
      },
      "outputs": [],
      "source": [
        "# Example 3: Pearson Correlation Coefficient\n",
        "\n",
        "import numpy as np\n",
        "from scipy.stats import pearsonr\n",
        "\n",
        "# Assign x and y\n",
        "x=np.array(dptDF.immunized)\n",
        "y=np.array(dptDF.under5)\n",
        "\n",
        "# Compute mean pct immunized x-bar\n",
        "x_bar = np.mean(x)\n",
        "y_bar = np.mean(y)\n",
        "\n",
        "# Extract the correlation coefficient between X and Y\n",
        "correlation_coefficient, p_value = pearsonr(x, y)\n",
        "\n",
        "# Print the results\n",
        "print(\"----Pearson Correlation Coefficient----------\")\n",
        "print(f\"Mean pct immunized (x\\u0305): {x_bar:.2f} %\")\n",
        "print(f\"Mean pct mortality (y\\u0305): {y_bar:.2f} per 1000 live births\")\n",
        "print(f\"Pearson correlation coefficient (r): {correlation_coefficient:.2f}\")\n",
        "print(f\"P-value: {p_value:.4f}\")"
      ]
    },
    {
      "cell_type": "markdown",
      "metadata": {
        "id": "Z1WvjuDUa20r"
      },
      "source": [
        "If the code is correct you should see the following output:\n",
        "~~~text\n",
        "----Pearson Correlation Coefficient----------\n",
        "Mean pct immunized (x̅): 91.70 %\n",
        "Mean pct mortality (y̅): 17.10 per 1000 live births\n",
        "Pearson correlation coefficient (r): -0.63\n",
        "P-value: 0.0028\n",
        "~~~"
      ]
    },
    {
      "cell_type": "markdown",
      "metadata": {
        "id": "bT6SQGbHa20r"
      },
      "source": [
        "The results above match the results shown in your textbook for this problem on pages 384-385."
      ]
    },
    {
      "cell_type": "markdown",
      "metadata": {
        "id": "6dB0KtDua20r"
      },
      "source": [
        "_From your textbook:_\n",
        "\n",
        "For the data in Table 16.1, the mean percentage of children immunized against DPT is\n",
        "\n",
        "$$ \\bar{x} = \\frac{1}{n} \\sum_{i=1}^{n} x_i = \\frac{1}{20} \\sum_{i=1}^{20} x_i = 91.7\\% $$\n",
        "\n",
        "and the mean value of the under-5 mortality rate is  \n",
        "\n",
        "$$ \\bar{y} = \\frac{1}{n} \\sum_{i=1}^{n} y_i = \\frac{1}{20} \\sum_{i=1}^{20} y_i = 17.1 \\text{ per 1000 live births.} $$\n",
        "\n",
        "The correlation coefficient is  \n",
        "\n",
        "$$ \\begin{align*}\n",
        "r &= \\frac{\\sum_{i=1}^{n}(x_i - \\bar{x})(y_i - \\bar{y})}{\\sqrt{[\\sum_{i=1}^{n}(x_i - \\bar{x})^2][\\sum_{i=1}^{n}(y_i - \\bar{y})^2]}} \\\\\n",
        "  &= \\frac{\\sum_{i=1}^{n}(x_i - 91.7)(y_i - 17.1)}{\\sqrt{[\\sum_{i=1}^{n}(x_i - 91.7)^2][\\sum_{i=1}^{n}(y_i - 17.1)^2]}} \\\\\n",
        "  &= -0.63.\n",
        "\\end{align*}\n",
        "$$\n",
        "\n",
        "Based on this sample, there appears to be a moderately strong linear relationship between the percentage of children immunized against DPT in a specified country and its under-5 mortality rate. Since $r$ is negative, mortality rate decreases in magnitude as percent immunization increases. Care must be taken when interpreting this relationship, however. An effective immunization program might be the primary reason for the decrease in mortality, or it might be a ramification of a successful comprehensive health care system that is itself the cause of the decrease. The correlation coefficient merely tells us that a linear relationship exists between two variables; it does not specify whether the relationship is cause-and-effect.  \n",
        "\n",
        "One additional word of caution: In this example, _countries_ are the units of study, not individual people. We do not know whether the children who were immunized against dpt are the same individuals who survived to the age of 5 years, or not. When using the correlation coefficient, we are not able to make inference at a more granular level than that at which the data were collected.  In the example above, we used immunization and mortality rates collected for each country, and  therefore cannot draw conclusions about the particular people who live in those countries. The error in reasoning that can result when we use aggregate data to make inference about individuals is called  an **_ecological fallacy_**.\n",
        "\n",
        "(Pagano, Marcello; Gauvreau, Kimberlee; Mattie, Heather. Principles of Biostatistics (p. 385). CRC Press. Kindle Edition.)"
      ]
    },
    {
      "cell_type": "markdown",
      "metadata": {
        "id": "gXf2sMyDa20s"
      },
      "source": [
        "### **Exercise 3A: Pearson Correlation Coefficient**\n",
        "\n",
        "In the cell below, write the Python code to compute Pearson's Correlation Coefficient for the driver motality data stored in the DataFrame `lungDF`. Specifically, you are to plot \"Mean forced vital capacity (liters)\" as a function of \"Mean forced ventilation (liters)\".\n",
        "\n",
        "_Hint:_ Don't forget to change the x- and y-labels!"
      ]
    },
    {
      "cell_type": "code",
      "execution_count": null,
      "metadata": {
        "scrolled": true,
        "id": "-e2eLdAea20w"
      },
      "outputs": [],
      "source": [
        "# Insert your code for Exercise 3A here\n",
        "\n"
      ]
    },
    {
      "cell_type": "markdown",
      "metadata": {
        "id": "9QSAkrt6a20w"
      },
      "source": [
        "If your code is correct you should see the following output:\n",
        "~~~text\n",
        "----Pearson Correlation Coefficient----------\n",
        "Mean forced ventilation (x̅): 3.78 liters\n",
        "Mean forced lung capacity (y̅): 4.92 litters\n",
        "Pearson correlation coefficient (r): 0.86\n",
        "P-value: 0.0000\n",
        "~~~"
      ]
    },
    {
      "cell_type": "markdown",
      "metadata": {
        "id": "INUo2iJ2a20w"
      },
      "source": [
        "A Pearson correlation coefficient (_r_) equal to `0.86` is considered a _strong positive correlation_ between forced expiratory capacity (fev) and force vital capacity (fvc). This is almost as good as Plot _a_ in **Figure 16.2** that was shown above."
      ]
    },
    {
      "cell_type": "markdown",
      "metadata": {
        "id": "03UCcTX7a20w"
      },
      "source": [
        "### **Exercise 3B: Pearson Correlation Coefficient**\n",
        "\n",
        "In the cell below, write the Python code to compute Pearson's Correlation Coefficient for the driver motality data stored in the DataFrame `driveDF`."
      ]
    },
    {
      "cell_type": "code",
      "execution_count": null,
      "metadata": {
        "scrolled": true,
        "id": "cxUbhGd_a20w"
      },
      "outputs": [],
      "source": [
        "# Insert your code for Exercise 3B here\n",
        "\n"
      ]
    },
    {
      "cell_type": "markdown",
      "metadata": {
        "id": "Ih4uO428a20x"
      },
      "source": [
        "If your code is correct you should see the following output:\n",
        "~~~text\n",
        "----Pearson Correlation Coefficient----------\n",
        "Mean age group (x̅): 3.50 %\n",
        "Mean fatallity rate (y̅): 2.58\n",
        "Pearson correlation coefficient (r): -0.43\n",
        "P-value: 0.2835\n",
        "~~~"
      ]
    },
    {
      "cell_type": "markdown",
      "metadata": {
        "id": "cT3be0ena20x"
      },
      "source": [
        "So what does a Pearson correlation coefficient of `-0.43` and a _p_ -value of `0.2835` mean?\n",
        "\n",
        "A commonly accepted scheme for interpreting the strength of a linear relationship based on the Pearson Correlation Coefficient (_r_) is as follows:\n",
        "\n",
        "* **0.00 to 0.10 (or 0.00 to -0.10):** No correlation\n",
        "* **0.10 to 0.30 (or -0.10 to -0.30):** Weak correlation\n",
        "* **0.30 to 0.50 (or -0.30 to -0.50):** Moderate correlation\n",
        "* **0.50 to 1.00 (or -0.50 to -1.00):** Strong correlation\n",
        "\n",
        "So according this scheme, there is a _moderate correlation_ between a driver's age and the likelihood of being involved in a fatal motor vehicle accident. But we should withhold judgement until we have inspected the two-way scatter plot for this data.  \n",
        "\n",
        "The _p_ -value indicates the significance of the correlation. A value of `0.2835` indicates the relationship between driver's age and fatality rate is not statistically significant."
      ]
    },
    {
      "cell_type": "markdown",
      "metadata": {
        "id": "knuhDnPwa20x"
      },
      "source": [
        "### **Non-Linear Relationships**\n",
        "\n",
        "So far, we have been looking for **_linear relationships_** between x- and y-values. However, the other types of relationships. Consider the \"bathtub\" function in engineering:\n",
        "\n",
        ">Imagine your bathtub: water level is high at the start, dips in the middle, and rises again at the end. The bathtub function in reliability engineering mimics this: high failure rates at the beginning (infant mortality), low during the useful life, and high again as components wear out. Handy for predicting and improving the lifespan of products.\n",
        ">\n",
        "**Figure 16.3** below (see page 284 in your textbook) is a classic **_bathtub function_** -- \"high at the start, dips in the middle and rises again at the end\". In this figure, we are looking at the association between the rate of fatal motor vehicle crashes and different age groups of drivers. ones. A “U-shaped” relationship of this type would not be well quantified by a correlation coefficient, since the association is not linear. A non-linear \"U-shaped\" relationship where _r_ = 0 was shown in part _d_ in **Figure 16.2** above."
      ]
    },
    {
      "cell_type": "markdown",
      "metadata": {
        "id": "JGpAPgmNa20x"
      },
      "source": [
        "![____](https://biologicslab.co/BIO5853/images/module_03/lesson_03_8_image04.png)\n",
        "\n",
        "**FIGURE 16.3**  Rate of fatal motor vehicle crashes per 100 million miles driven versus age of driver, 2014–2015  "
      ]
    },
    {
      "cell_type": "markdown",
      "metadata": {
        "id": "XwavyBFoa20x"
      },
      "source": [
        "In **Exercise 3** you computed Pearsons Correlation Coefficient for a **_linear relationship_** using exactly the same data plotted in **Figure 16.3** to be `-0.43`, which was considered a _moderate correlation_. Clearly the negative sign reflects the steep inital decline in the fatallity rate for the first 3 age groups compared to the later increase in fatality rate in older drivers in the last two age groups.\n",
        "\n",
        "The problem is that the association between driver's age and fatallity rate is **_not linear_**. It really doesn't make any sense to compute an _r_ value for this data. This exactly why you should always start by making a two-way scatter plot of the data!"
      ]
    },
    {
      "cell_type": "markdown",
      "metadata": {
        "id": "9cQXvul5a20x"
      },
      "source": [
        "### Example 4: Two-Way Scatter Plot\n",
        "\n",
        "The code in the cell below recreates **Figure 16.3** using Python. In previous two-way scatter plots, we let Matplotlib automatically generate the labels for the x-tick marks based on the numerical values of the x-values, for example `driveDF.age_cat`.  \n",
        "\n",
        "However, in this example, we need to replace the normal x-tick labels with string values stored in the DataFrame `driveDF`. These strings label the x-values into age ranges such as \"16-19\", \"20-29\", etc.\n",
        "\n",
        "Here is the code chunk that does this replacement:\n",
        "\n",
        "~~~text\n",
        "# Use dataframe values for x-tick labels\n",
        "plt.xticks(ticks=range(len(driveDF.age)),\n",
        "           labels=driveDF['age'],\n",
        "           rotation=45)\n",
        "~~~"
      ]
    },
    {
      "cell_type": "code",
      "execution_count": null,
      "metadata": {
        "id": "8z8KOwWwa20x"
      },
      "outputs": [],
      "source": [
        "# Example 4: Two-way scatter plot\n",
        "\n",
        "import matplotlib.pyplot as plt\n",
        "import numpy as np\n",
        "\n",
        "# Assign x and y\n",
        "x=np.array([driveDF.age_cat])\n",
        "y=np.array([driveDF.miles])\n",
        "\n",
        "# Create plotting environment\n",
        "fig, ax = plt.subplots()\n",
        "\n",
        "# Plot xy scatter\n",
        "ax.scatter(x, y, marker=\"o\",\n",
        "           s=30,\n",
        "           c='white',\n",
        "           edgecolors='k')\n",
        "\n",
        "# Set limits and labels\n",
        "#ax.set(xlim=(70,100))\n",
        "ax.set(ylim=(0,7))\n",
        "ax.set_xlabel('Age of Driver')\n",
        "ax.set_ylabel('Rate per 100 million miles driven')\n",
        "\n",
        "# Use dataframe values for x-tick labels\n",
        "plt.xticks(ticks=range(len(driveDF.age)),\n",
        "           labels=driveDF['age'],\n",
        "           rotation=45)\n",
        "\n",
        "# Show plot\n",
        "plt.show()\n"
      ]
    },
    {
      "cell_type": "markdown",
      "metadata": {
        "id": "jRw7AbcOa20y"
      },
      "source": [
        "If the code is correct you should the following x-y plot:\n",
        "\n",
        "![____](https://biologicslab.co/BIO5853/images/module_03/lesson_03_8_image08.png)"
      ]
    },
    {
      "cell_type": "markdown",
      "metadata": {
        "id": "HBmbBvSVa20y"
      },
      "source": [
        "![____](https://biologicslab.co/BIO5853/images/module_03/lesson_03_8_image09.png)"
      ]
    },
    {
      "cell_type": "markdown",
      "metadata": {
        "id": "1CE4jQsMa20y"
      },
      "source": [
        "## **Spearman Rank Correlation Coefficient**  \n",
        "\n",
        "_From your textbook:_\n",
        "\n",
        "Like other parametric techniques which assume that the populations we are sampling from are normally distributed, the Pearson correlation coefficient is sensitive to outlying values. We may be interested in calculating a measure of association that is more robust. One approach is to rank the two sets of outcomes x and y separately and calculate a **_rank correlation coefficient_**. This procedure – which results in a quantity known as the Spearman rank correlation coefficient – may be classified among the nonparametric methods presented in Chapter 13.  \n",
        "\n",
        "The Spearman rank correlation coefficient, denoted $r_s$, is simply the Pearson correlation _r_ calculated for the ranked values of x and y. Therefore,  \n",
        "\n",
        "$$ r_s = \\frac{\\sum_{i=1}^{n}(x_{ri} - \\bar{x}_{r})(y_{ri} - \\bar{y}_{r})}{\\sqrt{[\\sum_{i=1}^{n}(x_{ri} - \\bar{x}_{r})^2][\\sum_{i=1}^{n}(y_{ri} - \\bar{y}_{r})^2]}} $$\n",
        "\n",
        "\n",
        "where $x_{ri}$ and $y_{ri}$ are the ranks associated with the _i_ th subject rather than the actual observations. An equivalent method for computing $r_s$ is provided by the formula\n",
        "\n",
        "$$ r_s = 1 - \\frac{6 \\sum_{i=1}^{n} d_i^2}{n(n^2 - 1)} $$\n",
        "\n",
        ">Pagano, Marcello; Gauvreau, Kimberlee; Mattie, Heather. Principles of Biostatistics (p. 387). CRC Press. Kindle Edition."
      ]
    },
    {
      "cell_type": "markdown",
      "metadata": {
        "id": "eh916qG1a20y"
      },
      "source": [
        "### Example 5: Spearman Rank Correlation Coefficient\n",
        "\n",
        "The code in the cell below shows how to compute the Spearman Rank Correlation coefficient ($r_s$) for the DPT data."
      ]
    },
    {
      "cell_type": "code",
      "execution_count": null,
      "metadata": {
        "scrolled": true,
        "id": "FjBRSd66a20y"
      },
      "outputs": [],
      "source": [
        "# Example 5: Spearman Rank Correlation Coefficient\n",
        "\n",
        "import numpy as np\n",
        "from scipy.stats import spearmanr\n",
        "\n",
        "# Assign x and y\n",
        "x=np.array(dptDF.immunized)\n",
        "y=np.array(dptDF.under5)\n",
        "\n",
        "# Create unicode for r sub s\n",
        "r_sub_s = 'r\\u209B'\n",
        "\n",
        "# Compute Spearman Rank Correlation Coefficient\n",
        "spearman_corr, p_value = spearmanr(x, y)\n",
        "\n",
        "print(\"----Spearman Rank Correlation Coefficient----------\")\n",
        "print(f\"Spearman Rank Correlation Coefficient ({r_sub_s}): {spearman_corr:.2f}\")\n",
        "print(f\"P-value: {p_value:.4f}\")\n"
      ]
    },
    {
      "cell_type": "markdown",
      "metadata": {
        "id": "ZLmr2BWNa20y"
      },
      "source": [
        "If the code is correct, you should see the following output:\n",
        "\n",
        "~~~text\n",
        "----Spearman Rank Correlation Coefficient----------\n",
        "Spearman Rank Correlation Coefficient (rₛ): -0.50\n",
        "P-value: 0.0258\n",
        "~~~"
      ]
    },
    {
      "cell_type": "markdown",
      "metadata": {
        "id": "ZbZUcB1Ca20z"
      },
      "source": [
        "_From page 387 in your textbook:_\n",
        "\n",
        "\n",
        "Suppose that we were to rank the percentages of children immunized against dpt and the under-5  mortality rates presented in Table 16.1 from smallest to largest, separately for each variable, assigning  average ranks to tied observations. The results are shown in Table 16.2, along with the difference in  ranks for each country, and the squares of these differences. Using the computational formula for rs,  the Spearman rank correlation coefficient is\n",
        "\n",
        "$$ r_s = 1 - \\frac{6 \\sum_{i=1}^{n} d_i^2}{n(n^2 - 1)} = 1 - \\frac{6(1974.5)}{20(399)} = -0.49. $$\n",
        "\n",
        "\n",
        "> Pagano, Marcello; Gauvreau, Kimberlee; Mattie, Heather. Principles of Biostatistics (p. 387). CRC Press. Kindle Edition.\n"
      ]
    },
    {
      "cell_type": "markdown",
      "metadata": {
        "id": "3qLgLbIBa20z"
      },
      "source": [
        "### **Exercise 5: Spearman Rank Correlation Coefficient**\n",
        "\n",
        "The code in the cell below shows how to compute the Spearman Rank Correlation coefficient ($r_s$) for the DPT data.\n",
        "\n",
        "Use this code chunk to generate the x- and y-values:\n",
        "\n",
        "~~~text\n",
        "# Assign x and y\n",
        "x=np.array(lungDF.fev)\n",
        "y=np.array(lungDF.fvc)\n",
        "~~~"
      ]
    },
    {
      "cell_type": "code",
      "execution_count": null,
      "metadata": {
        "scrolled": true,
        "id": "dlC-qRgQa20z"
      },
      "outputs": [],
      "source": [
        "# Insert your code for Exercise 5 here\n",
        "\n"
      ]
    },
    {
      "cell_type": "markdown",
      "metadata": {
        "id": "oc9qQapVa20z"
      },
      "source": [
        "If the code is correct, you should see the following output:\n",
        "\n",
        "~~~text\n",
        "----Spearman Rank Correlation Coefficient----------\n",
        "Spearman Rank Correlation Coefficient (rₛ): 0.85\n",
        "P-value: 0.0000\n",
        "~~~"
      ]
    },
    {
      "cell_type": "markdown",
      "metadata": {
        "id": "Y5symnaAa20z"
      },
      "source": [
        "Here the output from your **Exercise 3A** when you computed the Pearson Correlation Cofficient for the same data set:\n",
        "\n",
        "~~~text\n",
        "----Pearson Correlation Coefficient----------\n",
        "Mean forced ventilation (x̅): 3.78 liters\n",
        "Mean forced lung capacity (y̅): 4.92 litters\n",
        "Pearson correlation coefficient (r): 0.86\n",
        "P-value: 0.0000\n",
        "~~~\n",
        "\n",
        "Comparing the results of the two correlation tests, you can see that the results are very similar. The Pearson Correlation Coefficient uses **_parametric_** statistics, the Spearman Rank Correlation Coefficient uses **_nonparametric_** statistics. As was discussed in Lesson_03_5 (Nonparamentric Statistics), for \"well-behaved\" data (i.e. normally distributed with no significant outliers), you would expect parametric and nonparametric procedures to give very similar results.\n",
        "\n"
      ]
    },
    {
      "cell_type": "markdown",
      "metadata": {
        "id": "av_eyLgVa20z"
      },
      "source": [
        "![____](https://biologicslab.co/BIO5853/images/module_03/lesson_03_8_image10.png)"
      ]
    },
    {
      "cell_type": "markdown",
      "metadata": {
        "id": "ukSMEVj4a20z"
      },
      "source": [
        "## **Lesson Turn-in**\n",
        "\n",
        "When you have completed and run all of the code cells, create a PDF of your notebook and upload the **_PDF_** to your Lesson_03_9 assignment in Canvas for grading.\n"
      ]
    }
  ],
  "metadata": {
    "kernelspec": {
      "display_name": "Python 3 (ipykernel)",
      "language": "python",
      "name": "python3"
    },
    "language_info": {
      "codemirror_mode": {
        "name": "ipython",
        "version": 3
      },
      "file_extension": ".py",
      "mimetype": "text/x-python",
      "name": "python",
      "nbconvert_exporter": "python",
      "pygments_lexer": "ipython3",
      "version": "3.11.5"
    },
    "colab": {
      "provenance": [],
      "include_colab_link": true
    }
  },
  "nbformat": 4,
  "nbformat_minor": 0
}