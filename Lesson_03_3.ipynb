{
 "cells": [
  {
   "cell_type": "markdown",
   "metadata": {
    "id": "bLEEW13uCtiJ"
   },
   "source": [
    "<a href=\"https://colab.research.google.com/github/DavidSenseman/BIO5853/blob/master/Lesson_03_2.ipynb\" target=\"_parent\"><img src=\"https://colab.research.google.com/assets/colab-badge.svg\" alt=\"Open In Colab\"/></a>"
   ]
  },
  {
   "cell_type": "markdown",
   "metadata": {},
   "source": [
    "---------------------------\n",
    "**COPYRIGHT NOTICE:** This Jupyterlab Notebook is a Derivative work of [Jeff Heaton](https://github.com/jeffheaton) licensed under the Apache License, Version 2.0 (the \"License\"); You may not use this file except in compliance with the License. You may obtain a copy of the License at\n",
    "\n",
    "> [http://www.apache.org/licenses/LICENSE-2.0](http://www.apache.org/licenses/LICENSE-2.0)\n",
    "\n",
    "Unless required by applicable law or agreed to in writing, software distributed under the License is distributed on an \"AS IS\" BASIS, WITHOUT WARRANTIES OR CONDITIONS OF ANY KIND, either express or implied. See the License for the specific language governing permissions and limitations under the License.\n",
    "\n",
    "------------------------"
   ]
  },
  {
   "cell_type": "markdown",
   "metadata": {},
   "source": [
    "# **BIO 5853: Biostatistics**"
   ]
  },
  {
   "cell_type": "markdown",
   "metadata": {},
   "source": [
    "##### **Module 3: Inference**\n",
    "\n",
    "* Instructor: [David Senseman](mailto:David.Senseman@utsa.edu), [Department of Integrative Biology](https://sciences.utsa.edu/integrative-biology/), [UTSA](https://www.utsa.edu/)\n",
    "\n",
    "\n",
    "### Module 3 Material\n",
    "\n",
    "* Part 3.1: Confidence Intervals\n",
    "* Part 3.2: Hypothesis Testing\n",
    "* **Part 3.3: Comparison of Two Means**\n",
    "* Part 3.4: Analysis of Variance (ANOVA)\n",
    "* Part 3.5: Nonparametric Methods\n",
    "* Part 3.6: Inference on Proportions\n",
    "* Part 3.7: Contingency Tables\n",
    "* Part 3.8: Correlation\n",
    "* Part 3.9: Simple Linear Regression\n",
    "* Part 3.10: Multiple Linear Regression\n",
    "* Part 3.11: Logistic Regression\n",
    "* Part 3.12: Survival Analysis"
   ]
  },
  {
   "cell_type": "markdown",
   "metadata": {
    "id": "yKQylnEiLDUM"
   },
   "source": [
    "## Google CoLab Instructions\n",
    "\n",
    "The following code ensures that Google CoLab is running the correct version of TensorFlow.\n",
    "  Running the following code will map your GDrive to ```/content/drive```."
   ]
  },
  {
   "cell_type": "code",
   "execution_count": null,
   "metadata": {
    "colab": {
     "base_uri": "https://localhost:8080/"
    },
    "id": "seXFCYH4LDUM",
    "outputId": "c05015aa-871e-4779-9265-5ad07e8bf617",
    "scrolled": true
   },
   "outputs": [],
   "source": [
    "# YOU MUST RUN THIS CELL FIRST\n",
    "try:\n",
    "    from google.colab import drive\n",
    "    drive.mount('/content/drive', force_remount=True)\n",
    "    from google.colab import auth\n",
    "    auth.authenticate_user()\n",
    "    COLAB = True\n",
    "    print(\"Note: using Google CoLab\")\n",
    "    %tensorflow_version 2.x\n",
    "    import requests\n",
    "    gcloud_token = !gcloud auth print-access-token\n",
    "    gcloud_tokeninfo = requests.get('https://www.googleapis.com/oauth2/v3/tokeninfo?access_token=' + gcloud_token[0]).json()\n",
    "    print(gcloud_tokeninfo['email'])\n",
    "except:\n",
    "    print(\"Note: not using Google CoLab\")\n",
    "    COLAB = False"
   ]
  },
  {
   "cell_type": "markdown",
   "metadata": {},
   "source": [
    "# **Part 3.3: Comparison of Two Means**\n",
    "\n",
    "In the preceding chapter we used a statistical test of hypothesis to compare the unknown mean of a single population to some fixed, known value $\\mu_0$. In practical applications, however, it is far more common to compare the means of two different populations, both of which are unknown.\n",
    "\n",
    "(Pagano, Marcello; Gauvreau, Kimberlee; Mattie, Heather. Principles of Biostatistics (p. 253). CRC Press. Kindle Edition.)"
   ]
  },
  {
   "cell_type": "markdown",
   "metadata": {},
   "source": [
    "## **Paired Samples**\n",
    "\n",
    "The distinguishing characteristic of paired samples is that, for each observation in the first group, there is a corresponding observation in the second group. In the technique known as **_self-pairing_**,  measurements are taken on a single subject at two distinct points in time. One common example of self-pairing is the “before and after” experiment, in which each individual is examined before a  treatment or intervention has been applied, and then again after the treatment has been completed. A second type of pairing occurs when an investigator matches the subjects in one group with those in a second group so that the members of a pair are as much alike as possible with respect to important characteristics such as age and sex.  \n",
    "\n",
    "Pairing is frequently employed in an attempt to control for extraneous sources of variation that might otherwise influence the results of the comparison. If measurements for two groups are made on the same subjects rather than different ones, a certain amount of biological variability is eliminated. We do not have to worry about the fact that one group is older than the other, or that one has more males and the other more females. This helps to make the comparison more precise. \n",
    "\n",
    "Consider a population of children with serious heart disease, who have all undergone surgery to correct a congenital defect. Many such children have been observed to have depressed exercise capacity. While this might be due to their heart condition, another contributory factor could be that their parents consider them to be excessively fragile, and therefore restrict their level of physical activity. Among children for whom exercise does not impose a health risk, participation in a rehabilitation program in a safe environment might increase exercise capacity, improving overall health. \n",
    "\n",
    ">(Pagano, Marcello; Gauvreau, Kimberlee; Mattie, Heather. Principles of Biostatistics (p. 227). CRC Press. Kindle Edition.) "
   ]
  },
  {
   "cell_type": "code",
   "execution_count": null,
   "metadata": {},
   "outputs": [],
   "source": []
  },
  {
   "cell_type": "markdown",
   "metadata": {},
   "source": [
    "### Example 1A: Read Datafile\n",
    "\n",
    "The code in the cell below uses the Pandas function `pd.read_csv(filename)` to read the data file `pima.csv` stored on the course HTTPS server https://biologicslab.co. As the file is read, it is stored in a Pandas DataFrame called `pimaDF`. \n",
    "\n",
    "The code begins by \"importing\" the Pandas function and assigning it the alias `pd`. \n",
    "\n",
    "After the file is read and the DataFrame is created, we use the Python function `display()` to print out a portion of our new DataFrame to make sure it was read correctly. The code in the cell below shows how to use this method with the data stores in `pimaDF`. The `display()` function allows you to control the maximum rows and columns to print. This is useful since many datasets sets have large numbers of rows and columns which can be difficult to print to your computer screen. The code below sets the maximumn number of rows and columns to `6`. "
   ]
  },
  {
   "cell_type": "code",
   "execution_count": 1,
   "metadata": {},
   "outputs": [
    {
     "data": {
      "text/html": [
       "<div>\n",
       "<style scoped>\n",
       "    .dataframe tbody tr th:only-of-type {\n",
       "        vertical-align: middle;\n",
       "    }\n",
       "\n",
       "    .dataframe tbody tr th {\n",
       "        vertical-align: top;\n",
       "    }\n",
       "\n",
       "    .dataframe thead th {\n",
       "        text-align: right;\n",
       "    }\n",
       "</style>\n",
       "<table border=\"1\" class=\"dataframe\">\n",
       "  <thead>\n",
       "    <tr style=\"text-align: right;\">\n",
       "      <th></th>\n",
       "      <th>Sample 1</th>\n",
       "      <th>Sample 2</th>\n",
       "    </tr>\n",
       "  </thead>\n",
       "  <tbody>\n",
       "    <tr>\n",
       "      <th>0</th>\n",
       "      <td>154</td>\n",
       "      <td>165</td>\n",
       "    </tr>\n",
       "    <tr>\n",
       "      <th>1</th>\n",
       "      <td>152</td>\n",
       "      <td>181</td>\n",
       "    </tr>\n",
       "    <tr>\n",
       "      <th>2</th>\n",
       "      <td>143</td>\n",
       "      <td>157</td>\n",
       "    </tr>\n",
       "    <tr>\n",
       "      <th>...</th>\n",
       "      <td>...</td>\n",
       "      <td>...</td>\n",
       "    </tr>\n",
       "    <tr>\n",
       "      <th>13</th>\n",
       "      <td>58</td>\n",
       "      <td>68</td>\n",
       "    </tr>\n",
       "    <tr>\n",
       "      <th>14</th>\n",
       "      <td>55</td>\n",
       "      <td>69</td>\n",
       "    </tr>\n",
       "    <tr>\n",
       "      <th>15</th>\n",
       "      <td>52</td>\n",
       "      <td>60</td>\n",
       "    </tr>\n",
       "  </tbody>\n",
       "</table>\n",
       "<p>16 rows × 2 columns</p>\n",
       "</div>"
      ],
      "text/plain": [
       "    Sample 1  Sample 2\n",
       "0        154       165\n",
       "1        152       181\n",
       "2        143       157\n",
       "..       ...       ...\n",
       "13        58        68\n",
       "14        55        69\n",
       "15        52        60\n",
       "\n",
       "[16 rows x 2 columns]"
      ]
     },
     "metadata": {},
     "output_type": "display_data"
    }
   ],
   "source": [
    "# Example 1A: Read datafile\n",
    "\n",
    "import pandas as pd\n",
    "\n",
    "# Read the datafile \n",
    "pwDF = pd.read_csv(\n",
    "    \"https://biologicslab.co/BIO5853/data/PeakWork.csv\",\n",
    "   # index_col=0,\n",
    "    na_values=['NA','?'])\n",
    "\n",
    "# Set max rows and max columns\n",
    "pd.set_option('display.max_rows', 6)\n",
    "pd.set_option('display.max_columns', 2) \n",
    "\n",
    "# Display DataFrame\n",
    "display(pwDF)"
   ]
  },
  {
   "cell_type": "markdown",
   "metadata": {},
   "source": [
    "If the code is correct, you should see the following table.\n",
    "\n",
    "![____](https://biologicslab.co/BIO5853/images/module_03/lesson_03_3_image03.png)"
   ]
  },
  {
   "cell_type": "code",
   "execution_count": null,
   "metadata": {},
   "outputs": [],
   "source": []
  },
  {
   "cell_type": "markdown",
   "metadata": {},
   "source": [
    "### Example 2: Pair-sample Plot\n",
    "\n",
    "![____](https://biologicslab.co/BIO5853/images/module_03/lesson_03_3_image01.png)\n",
    "\n",
    "**FIGURE 11.1** Change in peak work rate from baseline to the end of a 12-week cardiac rehabilitation program for 16 children with serious congenital heart disease  "
   ]
  },
  {
   "cell_type": "code",
   "execution_count": 165,
   "metadata": {},
   "outputs": [
    {
     "data": {
      "image/png": "[encoded data removed]",
      "text/plain": [
       "<Figure size 640x480 with 1 Axes>"
      ]
     },
     "metadata": {},
     "output_type": "display_data"
    }
   ],
   "source": [
    "# Example 2: Plot \n",
    "\n",
    "import matplotlib.pyplot as plt\n",
    "\n",
    "# Convert DataFrame to dictionary\n",
    "data_dict = {f'subject{i+1}': (row['Sample 1'], row['Sample 2']) for i, row in pwDF.iterrows()}\n",
    "#print(data_dict)\n",
    "\n",
    "fig, ax = plt.subplots()\n",
    "\n",
    "# Plotting each subject's baseline and end of program values\n",
    "for subject, values in data_dict.items():\n",
    "    plt.plot(['Baseline', 'End of program'], \n",
    "             values, marker='o',\n",
    "             markerfacecolor='white')\n",
    "\n",
    "# Set the y-axis limits\n",
    "ax.set_ylim(40, 200)\n",
    "\n",
    "# Add axis labels\n",
    "plt.xticks(fontsize=12)\n",
    "plt.ylabel('Peak work rate (watts)', fontsize=12)\n",
    "\n",
    "# Set custom y-axis tick locations and labels\n",
    "plt.yticks([50, 75, 100, 125, 150, 175, 200], \n",
    "           ['50', '75', '100', '125', '150', '175', '200'])\n",
    "\n",
    "# Show plat\n",
    "plt.show()\n"
   ]
  },
  {
   "cell_type": "markdown",
   "metadata": {},
   "source": [
    "If the code is correct, you should see the following table.\n",
    "\n",
    "![____](https://biologicslab.co/BIO5853/images/module_03/lesson_03_3_image02.png)"
   ]
  },
  {
   "cell_type": "markdown",
   "metadata": {},
   "source": [
    "# Example 3: \n",
    "\n",
    "\n",
    "![____](https://biologicslab.co/BIO5853/images/module_03/lesson_03_3_image05.png)"
   ]
  },
  {
   "cell_type": "code",
   "execution_count": 7,
   "metadata": {
    "scrolled": true
   },
   "outputs": [
    {
     "data": {
      "image/png": "[encoded data removed]",
      "text/plain": [
       "<Figure size 640x480 with 1 Axes>"
      ]
     },
     "metadata": {},
     "output_type": "display_data"
    }
   ],
   "source": [
    "# Example 3: Plot \n",
    "\n",
    "import matplotlib.pyplot as plt\n",
    "import numpy as np\n",
    "\n",
    "# Define variables\n",
    "numBins=7\n",
    "color_1 = '#15466d' # Dark blue\n",
    "\n",
    "# Create numpy arrays from DataFrame\n",
    "x1 = pwDF['Sample 1'].to_numpy()\n",
    "x2 = pwDF['Sample 2'].to_numpy()\n",
    "\n",
    "# Compute the difference\n",
    "diff = x1 - x2\n",
    "\n",
    "# Set-up plot environment\n",
    "fig, ax = plt.subplots()\n",
    "\n",
    "# Plot histogram\n",
    "n, bins, patches = plt.hist(diff, numBins, density=False, \n",
    "                            facecolor=color_1,\n",
    "                            edgecolor=\"white\",\n",
    "                            alpha=1.0)\n",
    "# Turn off grid\n",
    "plt.grid(False)\n",
    "\n",
    "# Add axis labels\n",
    "plt.xticks(fontsize=12)\n",
    "plt.xlabel('Differences in peak work rate', fontsize=12)\n",
    "plt.ylabel('Number of children', fontsize=12)\n",
    "\n",
    "# Show plot\n",
    "plt.show()\n"
   ]
  },
  {
   "cell_type": "markdown",
   "metadata": {},
   "source": [
    "If the code is correct, you should see the following table.\n",
    "\n",
    "![____](https://biologicslab.co/BIO5853/images/module_03/lesson_03_3_image04.png)"
   ]
  },
  {
   "cell_type": "code",
   "execution_count": null,
   "metadata": {},
   "outputs": [],
   "source": []
  },
  {
   "cell_type": "code",
   "execution_count": 166,
   "metadata": {
    "scrolled": true
   },
   "outputs": [
    {
     "name": "stdout",
     "output_type": "stream",
     "text": [
      "----Performing Paired-Sampe t-Test---------------------\n",
      "Mean difference: -12.50\n",
      "T-statistic: -5.67\n",
      "P-value: 0.00004\n"
     ]
    }
   ],
   "source": [
    "# Example X: Paired-sample t-Test\n",
    "\n",
    "import numpy as np\n",
    "import scipy.stats as stats\n",
    "\n",
    "pre_ = pwDF['Sample 1'].to_numpy()\n",
    "post_ = pwDF['Sample 2'].to_numpy()\n",
    "\n",
    "mean_diff = np.mean(pre_ - post_)\n",
    "\n",
    "# Perform the paired sample t-test\n",
    "t_stat, p_value = stats.ttest_rel(pre_, post_)\n",
    "\n",
    "print(\"----Performing Paired-Sampe t-Test---------------------\")\n",
    "print(f'Mean difference: {mean_diff:.2f}')\n",
    "print(f'T-statistic: {t_stat:.2f}')\n",
    "print(f'P-value: {p_value:.5f}')\n"
   ]
  },
  {
   "cell_type": "markdown",
   "metadata": {},
   "source": [
    "![____](https://biologicslab.co/BIO5853/images/module_03/lesson_03_3_image06.png)"
   ]
  },
  {
   "cell_type": "markdown",
   "metadata": {
    "jp-MarkdownHeadingCollapsed": true
   },
   "source": [
    "## **Independent Samples**\n",
    "\n",
    "Now suppose that we are interested in comparing health-related quality of life for two distinct populations of adults undergoing liver transplantation. After surgery, one group receives usual care, and the  other is treated with a combined intervention of exercise and dietary counseling. Six months after surgery, all patients complete the Medical Outcomes Study Short Form questionnaire (sf-36), which provides summary scores measuring both physical and mental health. The mental component  summary (mcs) score – which incorporates information about social functioning, limitations due to emotional problems, general mental health, and vitality – is scaled to have an approximately normal distribution in the general population. Higher scores indicate better health. In this study, the two underlying populations of mcs scores are independent. (For each observation in the first group, there is not a corresponding observation in the second group.) If the population of liver transplant patients treated by usual care has mean mcs score $\\mu_1$ and the population treated with exercise and dietary counseling has mean $\\mu_2$, we might again be interested in testing the null hypothesis that the two population means are identical.This can be expressed as either \n",
    "\n",
    "$$ H_0: \\mu_1 - \\mu_2 = 0 $$\n",
    "\n",
    "or  \n",
    "\n",
    "$$ H_0:  \\mu_1 = \\mu_2 $$\n",
    "\n",
    "The alternative hypothesis is  \n",
    "\n",
    "$$ H_A: \\mu_1 \\not= \\mu_2 = 0 $$\n",
    "\n",
    "or  \n",
    "\n",
    "$$ H_A: \\mu_1 \\not= \\mu_2.  $$\n",
    "\n",
    "From the population with mean $\\mu_1$ and standard deviation $\\sigma_1$ we draw a random sample of size $n_1$. The mean of this sample is denoted by $\\bar{x}_1$ and its standard deviation by $s_1$. Similarly, we  select a random sample of size $n_2$ from the population with mean $\\mu_2$ and standard deviation $\\sigma_2$. The mean of this sample is represented by $\\bar{x}_2$ and its standard deviation by $s_2$. Note that the numbers of observations in each sample – $n_1$ and $n_2$ – need not be the same. \n",
    "\n",
    "![____](https://biologicslab.co/BIO5853/images/module_03/lesson_03_3_image07.png)"
   ]
  },
  {
   "cell_type": "markdown",
   "metadata": {},
   "source": [
    "## **Equal Variance**\n",
    "\n",
    "We first consider the situation in which it is either known or is reasonable to assume that the two  population variances are identical. Recall that, for a single population with mean $\\mu$ and standard deviation $\\sigma$, the central limit theorem states that the sample mean $X$ is approximately normally  distributed – assuming that $n$ is large enough – with mean $\\mu$ and standard error $\\sqrt{\\frac{\\sigma^2}{n}} = \\frac{\\sigma}{\\sqrt{n}}\n",
    "$. As  a result,  \n",
    "\n",
    "$$ Z = \\frac{\\bar{X} - \\mu}{\\sigma / \\sqrt{n}} $$"
   ]
  },
  {
   "cell_type": "markdown",
   "metadata": {},
   "source": [
    "### Example X: Calculate Margin of Error\n",
    "\n",
    "If you happen to know the standard deviation $σ$ of the sampling distribution of the mean, you should use the **_one-sample z-test_** for hypothesis testing using this equation:\n",
    "\n",
    "$$ z = \\frac{\\bar{x} - \\mu}{\\sigma / \\sqrt{n}} $$\n",
    "\n",
    "is the outcome of a standard normal random variable. When we are dealing with samples from two independent populations, an extension of the central limit theorem says that the difference in sample means $\\bar{X}_1 − \\bar{X}_2$ is approximately normal with mean $\\mu_1 - \\mu_2$ and the standard error $\\sqrt{\\frac{\\sigma_1^2}{n_1} + \\frac{\\sigma_2^2}{n_2}}$\n"
   ]
  },
  {
   "cell_type": "code",
   "execution_count": 167,
   "metadata": {
    "scrolled": true
   },
   "outputs": [
    {
     "name": "stdout",
     "output_type": "stream",
     "text": [
      "----Solving Margin of Error-----------------------------\n",
      "Mean (x̅) = 49.30\n",
      "Standard deviation (s) = 11.60\n",
      "Sample size (n) = 70.\n",
      "95% Confidence Interval: (46.583, 52.017)\n",
      "Margin of Error: 2.72\n"
     ]
    }
   ],
   "source": [
    "# Example X: Calculate margin of error\n",
    "\n",
    "import math\n",
    "\n",
    "# Define values\n",
    "mean = 49.3\n",
    "std_dev = 11.6\n",
    "n = 70\n",
    "confidence_level = 0.95\n",
    "\n",
    "# Z-score for 95% confidence level\n",
    "z_score = 1.96\n",
    "\n",
    "# Calculate the standard error\n",
    "standard_error = std_dev / math.sqrt(n)\n",
    "\n",
    "# Calculate the margin of error\n",
    "margin_of_error = z_score * standard_error\n",
    "\n",
    "# Calculate the confidence interval\n",
    "lower_bound = mean - margin_of_error\n",
    "upper_bound = mean + margin_of_error\n",
    "\n",
    "# Print the results\n",
    "print(\"----Solving Margin of Error-----------------------------\")\n",
    "print(f\"Mean (x\\u0305) = {mean:.2f}\")\n",
    "print(f\"Standard deviation (s) = {std_dev:.2f}\")\n",
    "print(f\"Sample size (n) = {n}.\")\n",
    "print(f\"95% Confidence Interval: ({lower_bound:.3f}, {upper_bound:.3f})\")\n",
    "print(f\"Margin of Error: {margin_of_error:.2f}\")\n"
   ]
  },
  {
   "cell_type": "markdown",
   "metadata": {},
   "source": [
    "If the code is correct, you should see the following output:\n",
    "~~~text\n",
    "----Solving Margin of Error-----------------------------\n",
    "Mean (x̅) = 49.30\n",
    "Standard deviation (s) = 11.60\n",
    "Sample size (n) = 70.\n",
    "95% Confidence Interval: (46.583, 52.017)\n",
    "Margin of Error: 2.72\n",
    "~~~"
   ]
  },
  {
   "cell_type": "code",
   "execution_count": 168,
   "metadata": {
    "scrolled": true
   },
   "outputs": [
    {
     "name": "stdout",
     "output_type": "stream",
     "text": [
      "----Solving Margin of Error-----------------------------\n",
      "Mean (x̅) = 49.30\n",
      "Standard deviation (s) = 7.80\n",
      "Sample size (n) = 49.\n",
      "95% Confidence Interval: (47.116, 51.484)\n",
      "Margin of Error: 2.18\n"
     ]
    }
   ],
   "source": [
    "# Insert your code for Exercise X here\n",
    "\n",
    "import math\n",
    "\n",
    "# Define values\n",
    "pop_mean = 53.3\n",
    "std_dev = 7.8\n",
    "n = 49\n",
    "confidence_level = 0.95\n",
    "\n",
    "# Z-score for 95% confidence level\n",
    "z_score = 1.96\n",
    "\n",
    "# Calculate the standard error\n",
    "standard_error = std_dev / math.sqrt(n)\n",
    "\n",
    "# Calculate the margin of error\n",
    "margin_of_error = z_score * standard_error\n",
    "\n",
    "# Calculate the confidence interval\n",
    "lower_bound = mean - margin_of_error\n",
    "upper_bound = mean + margin_of_error\n",
    "\n",
    "# Print the results\n",
    "print(\"----Solving Margin of Error-----------------------------\")\n",
    "print(f\"Mean (x\\u0305) = {mean:.2f}\")\n",
    "print(f\"Standard deviation (s) = {std_dev:.2f}\")\n",
    "print(f\"Sample size (n) = {n}.\")\n",
    "print(f\"95% Confidence Interval: ({lower_bound:.3f}, {upper_bound:.3f})\")\n",
    "print(f\"Margin of Error: {margin_of_error:.2f}\")\n"
   ]
  },
  {
   "cell_type": "markdown",
   "metadata": {},
   "source": [
    "If your code is correct, you should see the following output:\n",
    "~~~text\n",
    "----Solving Margin of Error-----------------------------\n",
    "Mean (x̅) = 49.30\n",
    "Standard deviation (s) = 7.80\n",
    "Sample size (n) = 49.\n",
    "95% Confidence Interval: (47.116, 51.484)\n",
    "Margin of Error: 2.18\n",
    "~~~"
   ]
  },
  {
   "cell_type": "code",
   "execution_count": null,
   "metadata": {},
   "outputs": [],
   "source": []
  },
  {
   "cell_type": "code",
   "execution_count": null,
   "metadata": {},
   "outputs": [],
   "source": []
  },
  {
   "cell_type": "code",
   "execution_count": 169,
   "metadata": {
    "scrolled": true
   },
   "outputs": [
    {
     "data": {
      "image/png": "[encoded data removed]",
      "text/plain": [
       "<Figure size 640x480 with 1 Axes>"
      ]
     },
     "metadata": {},
     "output_type": "display_data"
    }
   ],
   "source": [
    "# Example \n",
    "\n",
    "import matplotlib.pyplot as plt\n",
    "\n",
    "# Set color\n",
    "color_1 = '#15365d' # Dark blue\n",
    "\n",
    "# Data\n",
    "categories = ['Usual postoperative care', 'Exercise and dietary counseling']\n",
    "means = [49.3, 53.3]  # Mean values\n",
    "margin_errors = [2.72, 2.18]  # Margin of error\n",
    "\n",
    "# Set plot environment\n",
    "fig, ax = plt.subplots()\n",
    "\n",
    "# Plot error bars\n",
    "ax.errorbar(positions, means, \n",
    "             yerr=margin_errors, fmt='o', \n",
    "             capsize=5, \n",
    "             elinewidth=1,\n",
    "             ecolor=color_1,\n",
    "             markeredgecolor=color_1,\n",
    "             markerfacecolor='white',\n",
    "             markeredgewidth=1)\n",
    "\n",
    "# Labeling Axes\n",
    "plt.ylabel('Short form SF-36 MCS score')\n",
    "\n",
    "# Adjust the spacing between categories\n",
    "ax.set_xticks(positions,categories,fontsize=8)\n",
    "ax.set_xlim(0.2, 2.8)\n",
    "\n",
    "# Set Y-axis limits\n",
    "plt.ylim(46, 56)\n",
    "\n",
    "# Show plot\n",
    "plt.show()\n"
   ]
  },
  {
   "cell_type": "markdown",
   "metadata": {},
   "source": [
    "If the code is correct, you should see the following table.\n",
    "\n",
    "![____](https://biologicslab.co/BIO5853/images/module_03/lesson_03_3_image09.png)"
   ]
  },
  {
   "cell_type": "code",
   "execution_count": null,
   "metadata": {},
   "outputs": [],
   "source": []
  },
  {
   "cell_type": "code",
   "execution_count": null,
   "metadata": {},
   "outputs": [],
   "source": []
  },
  {
   "cell_type": "markdown",
   "metadata": {},
   "source": [
    "## **Unequal Variance**\n",
    "\n",
    "We now turn to the situation in which the variances of the two populations are not assumed to be  equal. In this case, a modified version of the two-sample t-test – sometimes called Welch’s t-test –  must be applied. Instead of using s 2  p as an estimate of the common variance σ 2, we substitute s 2  1  for σ 2  1 and s 2  2 for σ 2  2. Therefore, the appropriate test statistic is  t  =  (x¯1 − x¯2) − (µ1 − µ2)  q  (s  2  1 /n1) + (s 2  2 /n2)  . \n",
    "\n",
    "\n",
    "$$ z = \\frac{\\bar{x} - \\mu}{\\frac{\\sigma}{\\sqrt{n}}} $$ \n",
    "\n",
    "$$ Z = \\frac{\\bar{X} - \\mu}{\\sigma / \\sqrt{n}} $$\n",
    "\n",
    "has an approximate standard normal distribution if the value of _n_ is sufficiently large. For a given  sample with mean $\\bar{x}$, we can calculate the corresponding outcome of $Z$, called the test statistic. We can then use a computer program to determine the probability of obtaining a value of Z that is as extreme or more extreme than the one observed. By “more extreme,” we mean farther away from $µ_0$ in the direction of the alternative hypothesis. Because it relies on the standard normal distribution, a test of this kind is called a **_one-sample z-test_**.  \n",
    "\n",
    "When the population standard deviation is not known, we substitute the sample value $s$ for $σ$. If the underlying population is normally distributed, the random variable  \n",
    "\n",
    "$$ t = \\frac{\\bar{X} - \\mu_0}{s / \\sqrt{n}} $$\n",
    "\n",
    "has a _t_ distribution with n − 1 degrees of freedom. In this case, we can calculate the outcome of _t_  corresponding to a given $\\bar{x}$ and consult our computer program to find the probability of obtaining a sample mean that is more extreme than the one observed. This procedure is known as a **_one-sample t-test_**. \n",
    "\n",
    "(Pagano, Marcello; Gauvreau, Kimberlee; Mattie, Heather. Principles of Biostatistics (p. 230). CRC Press. Kindle Edition.) \n"
   ]
  },
  {
   "cell_type": "markdown",
   "metadata": {},
   "source": [
    "## **Sample Size Estimate for Two Means**\n",
    "\n",
    "The method developed in Chapter 10 for determining the sample size necessary to achieve a certain power when conducting a one-sample hypothesis test for a mean can be extended for two-sample tests on means. The specific formula used depends on whether we are working with paired or independent samples. Considering paired samples first, return to the study of children with serious heart disease who participated in a 12-week exercise rehabilitation program. We conducted a paired _t_-test to evaluate the null hypothesis that $\\delta$, the mean difference in peak work rate from baseline to the end  of the program, is equal to 0. The alternative hypothesis was that $\\delta$ is not equal to $\\theta$ 0. When planning this study, before collecting any data, the investigators might have wished to determine the sample size necessary to provide 80% power to reject the null hypothesis if the true mean difference was as high as 6 watts. Recall that 80% power means that if the null hypothesis is false, the probability is `0.80` that it will be rejected. For a one-sample test, two-sided test on a mean, the formula for calculating sample size is  \n",
    "\n",
    "$$ n = \\left( \\frac{(Z_{1-\\alpha/2} + Z_{1-\\beta}) \\cdot \\sigma}{\\mu_1 - \\mu_0} \\right)^2 $$\n",
    "\n",
    "Where:\n",
    "\n",
    "* $Z_{1-\\alpha/2}$ is the Z-score for the desired confidence level.\n",
    "* $Z_{1-\\beta}$ is the Z-score for the desired power.\n",
    "* $\\sigma$ is the standard deviation.\n",
    "* $\\mu_1 - \\mu_0$ is the difference in means.\n"
   ]
  },
  {
   "cell_type": "markdown",
   "metadata": {},
   "source": [
    "\n",
    "\n",
    "$$ n = \\left( \\frac{(Z_{1-\\alpha/2} + Z_{1-\\beta}) \\cdot \\sigma}{\\mu_1 - \\mu_0} \\right)^2 $$\n",
    "\n",
    "Where:\n",
    "\n",
    "* $Z_{1-\\alpha/2}$ is the Z-score for the desired confidence level.\n",
    "* $Z_{1-\\beta}$ is the Z-score for the desired power.\n",
    "* $\\sigma$ is the standard deviation.\n",
    "* $\\mu_1 - \\mu_0$ is the difference in means."
   ]
  },
  {
   "cell_type": "code",
   "execution_count": 172,
   "metadata": {},
   "outputs": [
    {
     "name": "stdout",
     "output_type": "stream",
     "text": [
      "----Solving Sample Size-----------------------------\n",
      "Significance level = 0.05\n",
      "Power = 0.80\n",
      "Standard deviation = 11.60\n",
      "Difference in means = 5.00\n",
      "Minimum sample size = 43\n"
     ]
    }
   ],
   "source": [
    "# Example \n",
    "\n",
    "import math\n",
    "from scipy.stats import norm\n",
    "\n",
    "def calculate_sample_size(alpha, power, sigma, delta):\n",
    "    # Z-score for the desired confidence level (1 - alpha/2)\n",
    "    z_alpha = norm.ppf(1 - alpha / 2)\n",
    "    \n",
    "    # Z-score for the desired power (1 - beta)\n",
    "    z_beta = norm.ppf(power)\n",
    "    \n",
    "    # Calculate the sample size\n",
    "    n = ((z_alpha + z_beta) * sigma / delta) ** 2\n",
    "    \n",
    "    return math.ceil(n)\n",
    "\n",
    "# Example parameters\n",
    "alpha = 0.05  # significance level\n",
    "power = 0.8   # desired power\n",
    "sigma = 11.6  # standard deviation\n",
    "delta = 5.0   # difference in means\n",
    "\n",
    "sample_size = calculate_sample_size(alpha, power, sigma, delta)\n",
    "\n",
    "print(\"----Solving Sample Size-----------------------------\")\n",
    "print(f\"Significance level = {alpha:.2f}\")\n",
    "print(f\"Power = {power:.2f}\")\n",
    "print(f\"Standard deviation = {sigma:.2f}\")\n",
    "print(f\"Difference in means = {delta:.2f}\")\n",
    "print(f\"Minimum sample size = {sample_size}\")\n"
   ]
  },
  {
   "cell_type": "code",
   "execution_count": null,
   "metadata": {
    "scrolled": true
   },
   "outputs": [],
   "source": [
    "# Example 1: Compute Z score\n",
    "\n",
    "import numpy as np\n",
    "from scipy.stats import norm\n",
    "\n",
    "# Define alpha\n",
    "alpha=0.05\n",
    "\n",
    "# Sample data\n",
    "sample_size = 12         # Sample size (n)\n",
    "sample_mean = 217        # Sample mean (x̄)\n",
    "\n",
    "# Calculate the population mean \n",
    "population_mean = np.mean(serumChol)\n",
    "\n",
    "# Calculate the population standard deviation\n",
    "population_std =  np.std(serumChol)\n",
    "\n",
    "# Calculate the z-score\n",
    "z_score = (sample_mean - population_mean)/(population_std/(np.sqrt(sample_size)))\n",
    "\n",
    "# Calculate the area to the right of the z-score\n",
    "area_right = 1 - norm.cdf(z_score)\n",
    "\n",
    "# Calculate the p-value\n",
    "p_value = 2*area_right\n",
    "\n",
    "print(\"----Solving Hypothesis Test-----------------------------\")\n",
    "print(f\"The population mean (µ) = {population_mean:.2f} mg/100ml.\")\n",
    "print(f\"The population standard deviation (σ) = {population_std:.2f} mg/100ml.\")\n",
    "print(f\"You are testing a sample mean (x\\u0305) = {sample_mean:.2f} mg/100ml.\")\n",
    "print(f\"The sample size = {sample_size}.\")\n",
    "print(\"----Results---------------------------------------------\")\n",
    "print(f\"The z-score = {z_score:.2f}\")\n",
    "print(f\"The area to the right = {area_right:.3f}\")\n",
    "print(f\"The p-value = {p_value}\")\n",
    "print(\"----Interpretation--------------------------------------\")\n",
    "if p_value < alpha:\n",
    "    print(f\"Reject the null hypothesis!\")\n",
    "    print(f\"The sample mean (x\\u0305) is significantly different from µ.\")\n",
    "else:\n",
    "    print(f\"Failed to reject the null hypothesis.\")\n",
    "    print(f\"The sample mean (x\\u0305) is not significantly different from µ.\")\n",
    "print(\" \")\n"
   ]
  },
  {
   "cell_type": "markdown",
   "metadata": {},
   "source": [
    "If the code is correct, you should see the following output:\n",
    "\n",
    "~~~text\n",
    "----Solving Hypothesis Test-----------------------------\n",
    "The population mean (µ) = 211.06 mg/100ml.\n",
    "The population standard deviation (σ) = 46.05 mg/100ml.\n",
    "You are testing a sample mean (x̅) = 217.00 mg/100ml.\n",
    "The sample size = 12.\n",
    "----Results---------------------------------------------\n",
    "The z-score = 0.45\n",
    "The area to the right = 0.327\n",
    "The p-value = 0.6548271145555575\n",
    "----Interpretation--------------------------------------\n",
    "Failed to reject the null hypothesis.\n",
    "The sample mean (x̅) is not significantly different from µ.\n",
    "~~~"
   ]
  },
  {
   "cell_type": "markdown",
   "metadata": {},
   "source": [
    "The output exactly matches the solution derived in your textbook on page 231.\n",
    "\n",
    "> Based on this sample, the evidence is not sufficient to conclude that the mean serum  cholesterol level of the population of hypertensive smokers is different from 211 mg/100 ml.  "
   ]
  },
  {
   "cell_type": "markdown",
   "metadata": {},
   "source": [
    "### **Exercise 1A: Hypothesis Testing: One-Sample Z-test**\n",
    "\n",
    "In the cell below, perform a one-sample Z-test for a sample mean (_n_=12) for serum cholesterol of 226 mg/100ml. "
   ]
  },
  {
   "cell_type": "code",
   "execution_count": null,
   "metadata": {
    "scrolled": true
   },
   "outputs": [],
   "source": [
    "# Insert your code for Exercise 1A here\n",
    "\n",
    "import numpy as np\n",
    "from scipy.stats import norm\n",
    "\n",
    "# Define alpha\n",
    "alpha=0.05\n",
    "\n",
    "# Sample data\n",
    "sample_size = 12         # Sample size (n)\n",
    "sample_mean = 226        # Sample mean (x̄)\n",
    "\n",
    "# Calculate the population mean \n",
    "population_mean = np.mean(serumChol)\n",
    "\n",
    "# Calculate the population standard deviation\n",
    "population_std =  np.std(serumChol)\n",
    "\n",
    "# Calculate the z-score\n",
    "z_score = (sample_mean - population_mean)/(population_std/(np.sqrt(sample_size)))\n",
    "\n",
    "# Calculate the area to the right of the z-score\n",
    "area_right = 1 - norm.cdf(z_score)\n",
    "\n",
    "# Calculate the p-value\n",
    "p_value = 2*area_right\n",
    "\n",
    "print(\"----Solving Hypothesis Test-----------------------------\")\n",
    "print(f\"The population mean (µ) = {population_mean:.2f} mg/100ml.\")\n",
    "print(f\"The population standard deviation (σ) = {population_std:.2f} mg/100ml.\")\n",
    "print(f\"You are testing a sample mean (x\\u0305) = {sample_mean:.2f} mg/100ml.\")\n",
    "print(f\"The sample size = {sample_size}.\")\n",
    "print(\"----Results---------------------------------------------\")\n",
    "print(f\"The z-score = {z_score:.2f}\")\n",
    "print(f\"The area to the right = {area_right:.3f}\")\n",
    "print(f\"The p-value = {p_value}\")\n",
    "print(\"----Interpretation--------------------------------------\")\n",
    "if p_value < alpha:\n",
    "    print(f\"Reject the null hypothesis!\")\n",
    "    print(f\"The sample mean (x\\u0305) is significantly different from µ.\")\n",
    "else:\n",
    "    print(f\"Failed to reject the null hypothesis.\")\n",
    "    print(f\"The sample mean (x\\u0305) is not significantly different from µ.\")\n",
    "print(\" \")\n"
   ]
  },
  {
   "cell_type": "markdown",
   "metadata": {},
   "source": [
    "If the code is correct, you should see the following output:\n",
    "\n",
    "~~~text\n",
    "----Solving Hypothesis Test-----------------------------\n",
    "The population mean (µ) = 211.06 mg/100ml.\n",
    "The population standard deviation (σ) = 46.05 mg/100ml.\n",
    "You are testing a sample mean (x̅) = 226.00 mg/100ml.\n",
    "The sample size = 12.\n",
    "----Results---------------------------------------------\n",
    "The z-score = 1.12\n",
    "The area to the right = 0.130\n",
    "The p-value = 0.2609676294326917\n",
    "----Interpretation--------------------------------------\n",
    "Failed to reject the null hypothesis.\n",
    "The sample mean (x̅) is not significantly different from µ.\n",
    "~~~"
   ]
  },
  {
   "cell_type": "markdown",
   "metadata": {},
   "source": [
    "According to your Z-test, a sample mean of 226 mg/100ml, computed from 12 samples, is **_not_** significantly different from the population mean of 211 mg/100ml."
   ]
  },
  {
   "cell_type": "markdown",
   "metadata": {},
   "source": [
    "### **Exercise 1B: Hypothesis Testing: One-Sample Z-test**\n",
    "\n",
    "In the cell below, repeat your one-sample Z-test for sample mean of 226 mg/100ml, but this time increase the sample size from 12 to 40. "
   ]
  },
  {
   "cell_type": "code",
   "execution_count": null,
   "metadata": {
    "scrolled": true
   },
   "outputs": [],
   "source": [
    "# Insert your code for Exercise 1B here\n",
    "\n",
    "import numpy as np\n",
    "from scipy.stats import norm\n",
    "\n",
    "# Define alpha\n",
    "alpha=0.05\n",
    "\n",
    "# Sample data\n",
    "sample_size = 40         # Sample size (n)\n",
    "sample_mean = 226        # Sample mean (x̄)\n",
    "\n",
    "# Calculate the population mean \n",
    "population_mean = np.mean(serumChol)\n",
    "\n",
    "# Calculate the population standard deviation\n",
    "population_std =  np.std(serumChol)\n",
    "\n",
    "# Calculate the z-score\n",
    "z_score = (sample_mean - population_mean)/(population_std/(np.sqrt(sample_size)))\n",
    "\n",
    "# Calculate the area to the right of the z-score\n",
    "area_right = 1 - norm.cdf(z_score)\n",
    "\n",
    "# Calculate the p-value\n",
    "p_value = 2*area_right\n",
    "\n",
    "print(\"----Solving Hypothesis Test-----------------------------\")\n",
    "print(f\"The population mean (µ) = {population_mean:.2f} mg/100ml.\")\n",
    "print(f\"The population standard deviation (σ) = {population_std:.2f} mg/100ml.\")\n",
    "print(f\"You are testing a sample mean (x\\u0305) = {sample_mean:.2f} mg/100ml.\")\n",
    "print(f\"The sample size = {sample_size}.\")\n",
    "print(\"----Results---------------------------------------------\")\n",
    "print(f\"The z-score = {z_score:.2f}\")\n",
    "print(f\"The area to the right = {area_right:.3f}\")\n",
    "print(f\"The p-value = {p_value}\")\n",
    "print(\"----Interpretation--------------------------------------\")\n",
    "if p_value < alpha:\n",
    "    print(f\"Reject the null hypothesis!\")\n",
    "    print(f\"The sample mean (x\\u0305) is significantly different from µ.\")\n",
    "else:\n",
    "    print(f\"Failed to reject the null hypothesis.\")\n",
    "    print(f\"The sample mean (x\\u0305) is not significantly different from µ.\")\n",
    "print(\" \")\n"
   ]
  },
  {
   "cell_type": "markdown",
   "metadata": {},
   "source": [
    "If the code is correct, you should see the following output:\n",
    "\n",
    "~~~text\n",
    "----Solving Hypothesis Test-----------------------------\n",
    "The population mean (µ) = 211.06 mg/100ml.\n",
    "The population standard deviation (σ) = 46.05 mg/100ml.\n",
    "You are testing a sample mean (x̅) = 226.00 mg/100ml.\n",
    "The sample size = 40.\n",
    "----Results---------------------------------------------\n",
    "The z-score = 2.05\n",
    "The area to the right = 0.020\n",
    "The p-value = 0.040137676983151405\n",
    "----Interpretation--------------------------------------\n",
    "Reject the null hypothesis!\n",
    "The sample mean (x̅) is significantly different from µ.\n",
    "~~~"
   ]
  },
  {
   "cell_type": "markdown",
   "metadata": {},
   "source": [
    "This time, a sample mean of 226 mg/100ml, computed from **_40_** samples, is **_significantly different_** from the population mean of 211 mg/100ml. \n",
    "\n",
    "Why? \n",
    "\n",
    "Mathematically, as the sample size (_n_) increases the value of $\\sqrt{n}$ increases:\n",
    "\n",
    "$$ z = \\frac{\\bar{x} - \\mu}{\\sigma / \\sqrt{n}} $$\n",
    "\n",
    "making the z statistic _larger_. (Note that $\\sqrt{n}$ is in a denominator of the equation's denominator).\n",
    "\n",
    "As the value of the z-statistic grows, the _p_-value rapidly becomes smaller and smaller. \n",
    "\n",
    "Logically, this should make sense. Larger sample sizes reduce the standard error of the mean (SE) making the estimate of the sample mean more precise.\n"
   ]
  },
  {
   "cell_type": "markdown",
   "metadata": {},
   "source": [
    "### Example 2: Hypothesis Testing: One-Sample t-test\n",
    "\n",
    "As discussed above, performing a hypothesis test using Z-scores is permissible _only_ if you know the population's standard deviation, $\\sigma$. Otherwise, you are forced to use the **_One-Sample t-test_** which substitutes the sample's standard deviation, _s_, for the population's standard deviation, $\\sigma$.\n",
    "\n",
    "In this example, we will use a one-sample _t_-test to test the null hypothesis\n",
    "\n",
    "$$  H_0: µ = 4.13 µg/l. $$\n",
    "\n",
    "and the alternative is\n",
    "\n",
    "$$ H_A: µ \\not= 4.13 µg/l. $$\n",
    "\n",
    "This example shows how to use Python so work the example on page 232 in your textbook. The example reads as follows:\n",
    "\n",
    ">    As a second example, consider the random sample of 10 children selected from the population of infants receiving antacids that contain aluminum. The underlying distribution of plasma aluminum levels for this population is approximately normal with an unknown mean $\\mu$ and standard deviation $\\sigma$. However, we do know that the mean plasma aluminum level for the sample of size 10 is $\\bar{x}$ = 37.20 µg/l and that its standard deviation is $s$ = 7.13 µg/l. Furthermore, the mean plasma aluminum level for the population of infants not receiving antacids is 4.13 µg/l. Is it possible that the data in our sample could have come from a population with mean $\\mu$ = 4.13 µg/l?\n",
    "\n",
    ">   We are interested in deviations from the mean which could occur in either direction; we would want to know if $\\mu$ is actually larger than 4.13 or if it is smaller. Therefore, we conduct a two-sided test at the α = 0.05 level of significance.  Because we do not know the population standard deviation $\\sigma$, we use a one-sample t-test rather than a one-sample z-test.\n",
    "\n",
    "_Code Description:_\n",
    "\n",
    "The code basically uses the following equation to solve this problem:\n",
    "\n",
    "$$ t = \\frac{\\bar{X} - \\mu_0}{s / \\sqrt{n}} $$\n",
    "\n",
    "using the following code chunk:\n",
    "~~~text\n",
    "# Calculate t-statistic\n",
    "t_statistic = (sample_mean - population_mean)/(sample_std/(np.sqrt(sample_size)))\n",
    "~~~\n",
    "\n",
    "The t-statistic is then used to find the _p_-value using the `stats.t.sf()` function:\n",
    "~~~text\n",
    "# Calculate the p-value for a two-tailed test\n",
    "p_value = stats.t.sf(abs(t_statistic), df) * 2\n",
    "~~~\n"
   ]
  },
  {
   "cell_type": "code",
   "execution_count": null,
   "metadata": {
    "scrolled": true
   },
   "outputs": [],
   "source": [
    "# Example 2: Hypothesis Testing: One-Sample t-test\n",
    "\n",
    "import numpy as np\n",
    "import scipy.stats as stats\n",
    "\n",
    "# Define alpha\n",
    "alpha=0.05\n",
    "\n",
    "# Sample data\n",
    "sample_size = 10      # Sample size (n)\n",
    "sample_mean = 37.20   # Sample mean (x̄)\n",
    "sample_std = 7.13     # Sample standard deviation (s)\n",
    "df = sample_size - 1  # Degrees of freedom\n",
    "\n",
    "# Calculate the population mean \n",
    "population_mean = np.mean(plasmaAlum)\n",
    "\n",
    "# Calculate t-statistic\n",
    "t_statistic = (sample_mean - population_mean)/(sample_std/(np.sqrt(sample_size)))\n",
    "\n",
    "# Calculate the p-value for a two-tailed test\n",
    "p_value = stats.t.sf(abs(t_statistic), df) * 2\n",
    "\n",
    "print(\"----Solving Hypothesis Test---------------------------------\")\n",
    "print(f\"The population mean (µ\\u2080) = {population_mean:.2f} µg/l.\")\n",
    "print(f\"You are testing a sample mean (x\\u0305) = {sample_mean:.2f} µg/l.\")\n",
    "print(f\"The sample size = {sample_size}.\")\n",
    "print(\"----Results---------------------------------------------\")\n",
    "print(f\"The t-statistic = {t_statistic:.2f}\")\n",
    "print(f\"The degrees of freedom = {df}\")\n",
    "print(f\"The p-value = {p_value}\")\n",
    "print(\"----Interpretation--------------------------------------\")\n",
    "if p_value < alpha:\n",
    "    print(f\"Reject the null hypothesis!\")\n",
    "    print(f\"The sample mean (x\\u0305) is significantly different from the population mean (µ\\u2080).\")\n",
    "else:\n",
    "    print(f\"Failed to reject the null hypothesis.\")\n",
    "    print(f\"The sample mean (x\\u0305) is not significantly from the population mean (µ\\u2080).\")\n",
    "print(\" \")"
   ]
  },
  {
   "cell_type": "markdown",
   "metadata": {},
   "source": [
    "If the code is correct, you should see the following output:\n",
    "\n",
    "~~~text\n",
    "----Solving Hypothesis Test---------------------------------\n",
    "The population mean (µ₀) = 4.13 µg/l.\n",
    "You are testing a sample mean (x̅) = 37.20 µg/l.\n",
    "The sample size = 10.\n",
    "----Results---------------------------------------------\n",
    "The t-statistic = 14.67\n",
    "The degrees of freedom = 9\n",
    "The p-value = 1.3720393176933629e-07\n",
    "----Interpretation--------------------------------------\n",
    "Reject the null hypothesis!\n",
    "The sample mean (x̅) is significantly different from the population mean (µ₀).\n",
    "~~~"
   ]
  },
  {
   "cell_type": "markdown",
   "metadata": {},
   "source": [
    "The results shown in the output match the results presented in your textbook on page 232. \n",
    "\n",
    "The _p_-value is **very** small. To convert this to a standard decimal form, you would move the decimal point 7 places to the left:\n",
    "\n",
    "$$ p-value = 0.00000013720393176933629 $$\n",
    "\n",
    "In other words, the probability that you could have gotten a sample mean for plasma aluminum due to \"sampling error\" is extremely unlikely. \n",
    "\n",
    "Therefore, we reject the null hypothesis:\n",
    "\n",
    "$$  H_0: µ = 4.13 µg/l. $$\n",
    "\n",
    "and therefore we must accept the alternative hypothesis:\n",
    "\n",
    "$$ H_A: µ \\not= 4.13 µg/l. $$\n",
    "\n",
    "This sample of infants provides evidence that the mean plasma aluminum level of children receiving antacids is not equal to the mean aluminum level of children who do not receive them. In fact, since  the sample mean $\\bar{x}$ is larger than $µ_0$, the true mean aluminum level is higher than 4.13 µg/l.\n",
    "\n",
    "(Pagano, Marcello; Gauvreau, Kimberlee; Mattie, Heather. Principles of Biostatistics (p. 232). CRC Press. Kindle Edition.) "
   ]
  },
  {
   "cell_type": "markdown",
   "metadata": {},
   "source": [
    "### **Exercise 2A: Hypothesis Testing: One-Sample t-test**\n",
    "\n",
    "Aluminum is commonly used in antacids in the form of aluminum hydroxide. This compound works by neutralizing stomach acid, which helps to relieve symptoms of heartburn, acid indigestion, and upset stomach. When aluminum hydroxide reacts with stomach acid, it forms aluminum chloride and water, which increases the pH of the stomach contents, making it less acidic.\n",
    "\n",
    "Suppose you obtain a sample from 12 infants who received antacids containing aluminum from a different pharmaceutical company that used aluminum carbonate instead of aluminum hydroxide. The mean plasma aluminum concerntration in these 12 infants was 8.5 µg/l. \n",
    "\n",
    "In the cell below, test the following hypotheses concerning the plasma concentration of aluminum in these infants:\n",
    "\n",
    "$$  H_0: µ = 4.13 µg/l. $$\n",
    "\n",
    "and the alternative hypothesis:\n",
    "\n",
    "$$ H_A: µ \\not= 4.13 µg/l. $$\n"
   ]
  },
  {
   "cell_type": "code",
   "execution_count": null,
   "metadata": {
    "scrolled": true
   },
   "outputs": [],
   "source": [
    "# Insert your code for Exercise 2A here\n",
    "\n",
    "import numpy as np\n",
    "import scipy.stats as stats\n",
    "\n",
    "# Define alpha\n",
    "alpha=0.05\n",
    "\n",
    "# Sample data\n",
    "sample_size = 12      # Sample size (n)\n",
    "sample_mean = 8.5     # Sample mean (x̄)\n",
    "sample_std = 7.13     # Sample standard deviation (s)\n",
    "df = sample_size - 1  # Degrees of freedom\n",
    "\n",
    "# Calculate the population mean \n",
    "population_mean = np.mean(plasmaAlum)\n",
    "\n",
    "# Calculate t-statistic\n",
    "t_statistic = (sample_mean - population_mean)/(sample_std/(np.sqrt(sample_size)))\n",
    "\n",
    "# Calculate the p-value for a two-tailed test\n",
    "p_value = stats.t.sf(abs(t_statistic), df) * 2\n",
    "\n",
    "print(\"----Solving Hypothesis Test---------------------------------\")\n",
    "print(f\"The population mean (µ\\u2080) = {population_mean:.2f} µg/l.\")\n",
    "print(f\"You are testing a sample mean (x\\u0305) = {sample_mean:.2f} µg/l.\")\n",
    "print(f\"The sample size = {sample_size}.\")\n",
    "print(\"----Results---------------------------------------------\")\n",
    "print(f\"The t-statistic = {t_statistic:.2f}\")\n",
    "print(f\"The degrees of freedom = {df}\")\n",
    "print(f\"The p-value = {p_value}\")\n",
    "print(\"----Interpretation--------------------------------------\")\n",
    "if p_value < alpha:\n",
    "    print(f\"Reject the null hypothesis!\")\n",
    "    print(f\"The sample mean (x\\u0305) is significantly different from the population mean (µ\\u2080).\")\n",
    "else:\n",
    "    print(f\"Failed to reject the null hypothesis.\")\n",
    "    print(f\"The sample mean (x\\u0305) is not significantly from the population mean (µ\\u2080).\")\n",
    "print(\" \")"
   ]
  },
  {
   "cell_type": "markdown",
   "metadata": {},
   "source": [
    "If the code is correct, you should see the following output:\n",
    "\n",
    "~~~text\n",
    "----Solving Hypothesis Test---------------------------------\n",
    "The population mean (µ₀) = 4.13 µg/l.\n",
    "You are testing a sample mean (x̅) = 8.50 µg/l.\n",
    "The sample size = 12.\n",
    "----Results---------------------------------------------\n",
    "The t-statistic = 2.12\n",
    "The degrees of freedom = 11\n",
    "The p-value = 0.05743990643816894\n",
    "----Interpretation--------------------------------------\n",
    "Failed to reject the null hypothesis.\n",
    "The sample mean (x̅) is not significantly from the population mean (µ₀).\n",
    "~~~"
   ]
  },
  {
   "cell_type": "markdown",
   "metadata": {},
   "source": [
    "The results shown in the output show that the _p_-value value (0.05744) is slightly larger than our value for alpha (0.05000) . \n",
    "\n",
    "In other words, the probability that you could have gotten a sample mean for plasma aluminum due to \"sampling error\" is not likely, but it could happen. \n",
    "\n",
    "Therefore, we **_fail_** to reject the null hypothesis:\n",
    "\n",
    "$$  H_0: µ = 4.13 µg/l. $$\n"
   ]
  },
  {
   "cell_type": "markdown",
   "metadata": {},
   "source": [
    "### **Exercise 2B: Hypothesis Testing: One-Sample t-test**\n",
    "\n",
    "Suppose you decide to obtain a larger sample of infants who received antacids containing aluminum from a different pharmaceutical company that used aluminum carbonate instead of aluminum hydroxide. You measure the plasma from 20 infants and determine the mean plasma aluminum concerntration was 7.8 µg/l. \n",
    "\n",
    "In the cell below, repeat your hypothesis testing concerning the plasma concentration of aluminum in this new sample of 20 infants:\n",
    "\n",
    "$$  H_0: µ = 4.13 µg/l. $$\n",
    "\n",
    "and the alternative hypothesis:\n",
    "\n",
    "$$ H_A: µ \\not= 4.13 µg/l. $$\n"
   ]
  },
  {
   "cell_type": "code",
   "execution_count": null,
   "metadata": {
    "scrolled": true
   },
   "outputs": [],
   "source": [
    "# Insert your code for Exercise 2A here\n",
    "\n",
    "import numpy as np\n",
    "import scipy.stats as stats\n",
    "\n",
    "# Define alpha\n",
    "alpha=0.05\n",
    "\n",
    "# Sample data\n",
    "sample_size = 20      # Sample size (n)\n",
    "sample_mean = 7.8     # Sample mean (x̄)\n",
    "sample_std = 7.13     # Sample standard deviation (s)\n",
    "df = sample_size - 1  # Degrees of freedom\n",
    "\n",
    "# Calculate the population mean \n",
    "population_mean = np.mean(plasmaAlum)\n",
    "\n",
    "# Calculate t-statistic\n",
    "t_statistic = (sample_mean - population_mean)/(sample_std/(np.sqrt(sample_size)))\n",
    "\n",
    "# Calculate the p-value for a two-tailed test\n",
    "p_value = stats.t.sf(abs(t_statistic), df) * 2\n",
    "\n",
    "print(\"----Solving Hypothesis Test---------------------------------\")\n",
    "print(f\"The population mean (µ\\u2080) = {population_mean:.2f} µg/l.\")\n",
    "print(f\"You are testing a sample mean (x\\u0305) = {sample_mean:.2f} µg/l.\")\n",
    "print(f\"The sample size = {sample_size}.\")\n",
    "print(\"----Results---------------------------------------------\")\n",
    "print(f\"The t-statistic = {t_statistic:.2f}\")\n",
    "print(f\"The degrees of freedom = {df}\")\n",
    "print(f\"The p-value = {p_value}\")\n",
    "print(\"----Interpretation--------------------------------------\")\n",
    "if p_value < alpha:\n",
    "    print(f\"Reject the null hypothesis!\")\n",
    "    print(f\"The sample mean (x\\u0305) is significantly different from the population mean (µ\\u2080).\")\n",
    "else:\n",
    "    print(f\"Failed to reject the null hypothesis.\")\n",
    "    print(f\"The sample mean (x\\u0305) is not significantly from the population mean (µ\\u2080).\")\n",
    "print(\" \")"
   ]
  },
  {
   "cell_type": "markdown",
   "metadata": {},
   "source": [
    "If the code is correct, you should see the following output:\n",
    "\n",
    "~~~text\n",
    "----Solving Hypothesis Test---------------------------------\n",
    "The population mean (µ₀) = 4.13 µg/l.\n",
    "You are testing a sample mean (x̅) = 7.80 µg/l.\n",
    "The sample size = 20.\n",
    "----Results---------------------------------------------\n",
    "The t-statistic = 2.30\n",
    "The degrees of freedom = 19\n",
    "The p-value = 0.03298416961587437\n",
    "----Interpretation--------------------------------------\n",
    "Reject the null hypothesis!\n",
    "The sample mean (x̅) is significantly different from the population mean (µ₀).\n",
    "~~~"
   ]
  },
  {
   "cell_type": "markdown",
   "metadata": {},
   "source": [
    "The results shown in the output show that the _p_-value value (0.03298) is slightly less than our value for alpha (0.05000) . \n",
    "\n",
    "In other words, the probability that you could have gotten a sample mean for plasma aluminum due to \"sampling error\" is now considered to be unlikely enough that we can reject the null hypothesis:\n",
    "\n",
    "$$  H_0: µ = 4.13 µg/l. $$\n",
    "\n",
    "and must except the alternative hypothesis:\n",
    "\n",
    "$$ H_A: µ \\not= 4.13 µg/l. $$\n",
    "\n",
    "#### **What You Should Conclude**\n",
    "\n",
    "1. **Sample Size Can Be Extremely Important:** Even thought the mean plasma aluminum concentration of the larger sample (7.80 µg/l, _n_=20) was closer to the \"true\" mean (4.13), the hypothesis test found a significance difference, whereas the higher value in the smaller sample  (8.5 µg/l, _n_=12) was not found to be significantly different.\n",
    "2. **_p_-values Are Everything?:** The magic words _statistically significant_ hinges on the _p_-value. If the _p_-value is less than 0.05, you can publish your results otherwise all of your hard work is \"useless\". Rarely do scientific journals publish results that are not \"statistically significant\". But please read the next section about the **_Misuse of the p-values_**. "
   ]
  },
  {
   "cell_type": "markdown",
   "metadata": {},
   "source": [
    "--------------------------------------\n",
    "\n",
    "#### **The Misuse of _p_-values**\n",
    "\n",
    "Unfortunately, _p_-values are commonly misused and misinterpreted in practice. A _p_-value is a measure of the strength of the evidence against the null hypothesis, with smaller _p_-values indicating stronger evidence against $H_0$. Because it is a probability, a _p_-value is continuous. Even though it is customary to report whether results are statistically significant or not, we must take care not to rely exclusively on a rigid division of study conclusions into two distinct boxes. In response to what many consider to be an over-simplification when reporting results, the American Statistical Association released a statement on statistical significance and _p_-values which clarifies several important points about what _p_-values can and cannot do in practice.  \n",
    "1. _P_-values can indicate how incompatible the data are with a specified statistical model.\n",
    "2. _P_-values do not measure the probability that the studied hypothesis is true, or the probability that the data were produced by random chance alone.\n",
    "3. Scientific conclusions and business or policy decisions should not be based only on whether a _p_-value passes a specific threshold.\n",
    "4. Proper inference requires full reporting and transparency.\n",
    "5. A _p_-value, or statistical significance, does not measure the size of an effect or the importance of a result.\n",
    "6. By itself, a _p_-value does not provide a good measure of evidence regarding a model or hypothesis. \n",
    "\n",
    "(Pagano, Marcello; Gauvreau, Kimberlee; Mattie, Heather. Principles of Biostatistics (p. 229). CRC Press. Kindle Edition.) \n",
    "\n",
    "---------------------------------------"
   ]
  },
  {
   "cell_type": "markdown",
   "metadata": {},
   "source": [
    "**Summary of One-Sample, Two-sided Hypothesis Tests for the Mean**\n",
    "\n",
    "Here is table from page 232 in your textbook that summarizes one-sample, two-sided hypothesis tests for the mean.\n",
    "![___](https://biologicslab.co/BIO5853/images/module_03/lesson_03_2_image02.png)"
   ]
  },
  {
   "cell_type": "markdown",
   "metadata": {},
   "source": [
    "## **Types of Error**\n",
    "\n",
    "In hypothesis testing, there are two main types of statistical errors:\n",
    "\n",
    "1. **Type I Error (False Positive):**\n",
    "* **Definition:** Occurs when the null hypothesis $(H_0):$ is true, but we incorrectly reject it.\n",
    "* **Example:** Concluding that a new drug is effective when it actually has no effect.\n",
    "* **Probability:** Denoted by alpha $(\\alpha)$, which is the significance level of the test. For example, if $\\alpha = 0.05$, there is a 5% chance of making a Type I error.\n",
    "2. **Type II Error (False Negative):**\n",
    "* **Definition:** Occurs when the null hypothesis $(H_0):$ is false, but we fail to reject it.\n",
    "* **Example:** Concluding that a new drug is not effective when it actually is.\n",
    "* **Probability:** Denoted by beta $(\\beta)$. The power of a test $1 - (\\beta)$ is the probability of correctly rejecting a false null hypothesis.\n",
    "\n",
    "These errors are inversely related; reducing the probability of one increases the probability of the other.\n"
   ]
  },
  {
   "cell_type": "markdown",
   "metadata": {},
   "source": [
    "### **Hypothesis Testing with Z-test**\n",
    "\n",
    "In the next example we see how to use Python to solve the problem in your textbook starting on page 235.\n",
    "\n",
    ">Consider the case of a drug that has been deemed effective for reducing high blood pressure. After being treated with this drug for a given period of time, a population of individuals suffering from hypertension has mean diastolic blood pressure µd, a value that is clinically lower than the  mean diastolic blood pressure of the untreated hypertensives. Now suppose that another company produces a generic version of the same drug. We would like to know whether the generic drug is as effective at reducing high blood pressure as the brand name version.\n",
    ">\n",
    ">To determine this, we examine  the distribution of diastolic blood pressures for a sample of individuals who have been treated with the generic drug; if µ is the mean of this population, we use the sample to test the null hypothesis\n",
    "\n",
    "$$ H_0: µ = µ_d. $$\n",
    "\n",
    ">What if the manufacturer of the generic drug actually submits the brand name product for testing  in place of its own version? Vitarine Pharmaceuticals, a New York based drug company, reportedly did just that. In a situation such as this, we know that the null hypothesis must be true; we are testing the drug that itself set the standard. Therefore, if the test of hypothesis leads us to reject $H_0$ and pronounce the “generic” drug to be either more or less efficacious than the brand name version, a type I error has been made.\n",
    ">\n",
    ">The second kind of error that can be committed during a hypothesis test is a _type II error_, also known as an _acceptance error_, or a $\\beta$ error. A type II error is made if we fail to reject the null hypothesis\n",
    ">\n",
    "$$ H0_: µ = µ_0 $$ \n",
    "\n",
    ">when $H_0$ is false. The probability of committing a type II error is represented by the Greek letter $\\beta$, where\n",
    ">\n",
    "$$ \\beta = P(\\text{do not reject } H_0 \\mid H_0 \\text{ is false}) $$ \n",
    "\n",
    "If $\\beta$ = 0.10, for instance, then the probability that we do not reject the null hypothesis\n",
    "\n",
    "![___](https://biologicslab.co/BIO5853/images/module_03/lesson_03_2_image01A.png)\n"
   ]
  },
  {
   "cell_type": "markdown",
   "metadata": {},
   "source": [
    "### Example 4: One-sided Hypothesis Test\n",
    "\n",
    "On page 235, your text poses the following problem:\n",
    ">Recall the distribution of serum cholesterol levels for all 20- to 74-year-old males in the United States. The mean of this population is $\\mu$ = 211 mg/100 ml, and the standard deviation is $\\sigma$ =  46 mg/100 ml. Suppose that we do not know the true mean of this population; however, we do know that the mean serum cholesterol level for the subpopulation of 20- to 24-year-old males is 180 mg/100 ml. Since older men tend to have higher cholesterol levels than do younger men on average, we would expect the mean cholesterol level of the population of 20- to 74-year-olds to be higher than 180 mg/100 ml. (And indeed it is, although we are pretending not to know this.) Therefore, if  we were to conduct a one-sided test of the null hypothesis\n",
    "\n",
    "$$ H_0: \\mu \\leq 180\\ \\text{mg}/100\\ \\text{ml} $$  \n",
    "\n",
    ">against the alternative hypothesis  \n",
    "\n",
    "$$ H_A: \\mu > 180\\ \\text{mg}/100 \\ \\text{ml}, $$\n",
    "\n",
    ">we would expect $H_0$ to be rejected. It is possible, however, that it would not be. The probability of  reaching this incorrect conclusion – a type II error – is $\\beta$. \n",
    "\n",
    ">What is the value of $\\beta$ associated with a test of the null hypothesis  $H_0$: $\\mu$ ≤ 180 mg/100 ml, assuming that we select a sample of size 25? To determine this, we first find the mean serum cholesterol level our sample must have in order for $H_0$ to be rejected. Since we are conducting a **_one-sided test_** at the $\\alpha$ = 0.05 level of significance, $H_0$ would be rejected for z ≥ 1.645; this is the critical value of the test. Writing out the test statistic\n",
    "\n",
    "$$ z_{crit} = \\frac{\\bar{x} - \\mu_0}{\\sigma / \\sqrt{n}} $$\n",
    "\n",
    ">solving for $\\bar{x}$ we get the following:\n",
    "\n",
    "$$ \\bar{x} =  \\mu_0 +  \\frac{z_{crit} \\sigma}{ \\sqrt{n}} = 195.1 $$\n",
    "\n",
    "Let's see how we can solve for $\\bar{x}$ using Python. Here is the code chunk that performs this calculation:\n",
    "\n",
    "~~~text\n",
    "# Compute X bar\n",
    "Xbar = subpop_mean + (Z_crit * population_std)/np.sqrt(sample_size)\n",
    "~~~"
   ]
  },
  {
   "cell_type": "code",
   "execution_count": null,
   "metadata": {
    "scrolled": true
   },
   "outputs": [],
   "source": [
    "# Example 4: Compute xbar\n",
    "\n",
    "import numpy as np\n",
    "from scipy.stats import norm\n",
    "\n",
    "# Define alpha\n",
    "alpha=0.05\n",
    "\n",
    "# Define values\n",
    "Z_crit = 1.645           # One-sided Z critical\n",
    "sample_size = 25         # Sample size (n)\n",
    "subpop_mean = 180        # Sample mean (x̄)\n",
    "\n",
    "# Compute population standard deviation\n",
    "population_std = np.std(serumChol)  # Population standard deviation\n",
    "\n",
    "# Compute X bar\n",
    "Xbar = subpop_mean + (Z_crit * population_std)/np.sqrt(sample_size)\n",
    "\n",
    "print(\"----Calculate x\\u0305---------------------------------\")\n",
    "print(f\"x\\u0305 = {Xbar:.2f} mg/100ml.\")\n",
    "print(\" \")\n"
   ]
  },
  {
   "cell_type": "markdown",
   "metadata": {},
   "source": [
    "If the code is correct, you should see the following output:\n",
    "\n",
    "~~~text\n",
    "----Calculate x̅---------------------------------\n",
    "x̅ = 195.15 mg/100ml.\n",
    "~~~"
   ]
  },
  {
   "cell_type": "markdown",
   "metadata": {},
   "source": [
    "The value for $\\bar{x}$ of `195.15` is essentially the same as `195.1` given in your textbook as the solution to this problem. \n",
    "\n",
    "What `195.1` represents is the _minimum_ serum cholesterol value that any sample mean $\\bar{x}$ of size 25 must **_exceed_** in order for us to reject the null hypothesis ($H_0$):\n",
    "\n",
    "$$ H_0: \\mu \\leq 180\\ \\text{mg}/100\\ \\text{ml} $$  \n",
    "\n",
    "However, our sample mean $\\bar{x}$ = 180 mg/100 ml is clearly less than 195.1, so we have insufficient evidence to reject $H_0$. \n",
    "\n",
    "We can visualize this if we plot the value of `195.1` on a sampling distribution of the means, we will created in Example 5."
   ]
  },
  {
   "cell_type": "markdown",
   "metadata": {},
   "source": [
    "### **Exercise 4: One-sided Hypothesis Test**\n",
    "\n",
    "Suppose you obtained serum cholesterol levels from a sample of 25 world class ultramarthon runners with a mean value of 160 mg/100 ml. You would like to know if being an ultramarathon runner **_lowers_** your serum cholesterol compared to the normal population of 20- to 24-year-old males whose mean cholesterol level is 180 mg/100 ml. In the cell below, you are to perform the following hypothesis tests:\n",
    "\n",
    "$$ H_0: \\mu \\geq 180\\ \\text{mg}/100\\ \\text{ml} $$  \n",
    "\n",
    "against the alternative hypothesis  \n",
    "\n",
    "$$ H_A: \\mu < 180\\ \\text{mg}/100 \\ \\text{ml}, $$\n",
    "\n",
    "**HINT:** This is really the same problem as was demonstrated in Example 4. However, this time you need to find $\\bar{x}$ for the _lower limit_ of the distribution. "
   ]
  },
  {
   "cell_type": "code",
   "execution_count": null,
   "metadata": {
    "scrolled": true
   },
   "outputs": [],
   "source": [
    "# Insert your code for Exercise 4 here\n",
    "\n",
    "import numpy as np\n",
    "from scipy.stats import norm\n",
    "\n",
    "# Define alpha\n",
    "alpha=0.05\n",
    "\n",
    "# Define values\n",
    "Z_crit = -1.645          # One-sided Z critical\n",
    "sample_size = 25         # Sample size (n)\n",
    "subpop_mean = 180        # Sample mean (x̄)\n",
    "\n",
    "# Compute population standard deviation\n",
    "population_std = np.std(serumChol)  # Population standard deviation\n",
    "\n",
    "# Compute X bar\n",
    "Xbar = subpop_mean + (Z_crit * population_std)/np.sqrt(sample_size)\n",
    "\n",
    "print(\"----Calculate x\\u0305---------------------------------\")\n",
    "print(f\"x\\u0305 = {Xbar:.2f} mg/100ml.\")\n",
    "print(\" \")\n"
   ]
  },
  {
   "cell_type": "markdown",
   "metadata": {},
   "source": [
    "If your code is correct, you should see the following output:\n",
    "\n",
    "~~~text\n",
    "----Calculate x̅---------------------------------\n",
    "x̅ = 164.85 mg/100ml.\n",
    "~~~"
   ]
  },
  {
   "cell_type": "markdown",
   "metadata": {},
   "source": [
    "The value for $\\bar{x}$ of `164.85`. Since our ultramarathoners had a mean serum cholesterol level of 160 mg/100 ml, you should **_reject_** the null hypothesis ($H_0$) and accept the alternative hypothesis ($H_A$)\n",
    "\n",
    "$$ H_A: \\mu < 180\\ \\text{mg}/100 \\ \\text{ml}, $$\n",
    "\n",
    "NOTE: You will be asked to generate a plot of this result in **Exercise 5**."
   ]
  },
  {
   "cell_type": "markdown",
   "metadata": {},
   "source": [
    "### Example 5: Plot Distribution of Means of Samples\n",
    "\n",
    "In the previous example (Example 4), we failed to reject the null hypothesis: \n",
    "\n",
    "$$ H_0: \\mu \\geq 180\\ \\text{mg}/100\\ \\text{ml} $$  \n",
    "\n",
    "since our sample mean $\\bar{x}$ = 180 mg/100 ml was less than the 95% critical value of `195.1` mg/100ml.\n",
    "\n",
    "The \"trick\" used in Example 4 was to recognize that the probability of reaching an incorrect conclusion -- a type II error is $\\beta$. Since we are conducting a one-sided test (we only expect $\\mu$ ≤ 180 mg/100) we can use our computer to figure out that the critical z-value to ≥ 1.645. \n",
    "\n",
    "As shown in **Figure 10.1**, the area to the right of $\\bar{x}$ = 195.1 corresponds to the upper 5% of the sampling distribution of means of samples of size 25 when $\\mu$ = 180. Therefore, the null hypothesis $H_0$ would only be rejected if our sample mean $\\bar{x}$ was greater than 195.1 mg/100 ml.\n",
    "\n",
    "In your textbook, this result was visualized in **Figure 10.1**\n",
    "\n",
    "![___](https://biologicslab.co/BIO5853/images/module_03/lesson_03_2_image03.png)\n",
    "\n",
    "**FIGURE 10.1**  Distribution of means of samples of size 25 for the serum cholesterol levels of males 20 to 74 years of age, $\\mu$ = 180 mg/100 ml.\n",
    "\n",
    "In this example we will recreate this plot using Python. "
   ]
  },
  {
   "cell_type": "markdown",
   "metadata": {},
   "source": [
    "_Code Description:_\n",
    "\n",
    "The code for plotting the distribution of means was previously presented in Lesson_02_2, Example 8. \n",
    "\n",
    "We know from the **_Central Limit Theorem (CLT)_**, that _any_ distribution of sample means must be approximately normal, even if the distribution being sampled is not normal (see Lesson_02_3). Therefore, if we need to create a \"distribution of means of samples\" we can simply generate one using the `scipy.stats` function `y_dat = norm.pdf(x_dat, mu, sd)`. \n",
    "\n",
    "As was demonstated in Lesson_02_2, Example 8, you need to define the lower value (`low_val`) and the upper value (`high_val`) of the area you want to be shaded (colored). "
   ]
  },
  {
   "cell_type": "code",
   "execution_count": null,
   "metadata": {},
   "outputs": [],
   "source": [
    "# Example 5: Plot Distribution of Means of Samples\n",
    "\n",
    "import matplotlib.pyplot as plt\n",
    "import numpy as np\n",
    "from scipy.stats import norm      # normal distribution \n",
    "\n",
    "# Define parameters for the normal distribution\n",
    "mu = 180     # mean\n",
    "sd = 11      # standard deviation\n",
    "\n",
    "# Define limits of the area to be colored\n",
    "low_val = 195.1\n",
    "high_val = 220\n",
    "\n",
    "# Define chart color\n",
    "chart_color='#294171'\n",
    "\n",
    "# Generate x-values between 140 and 220 with .01 steps. \n",
    "x_dat = np.arange(140, 220, 0.01) \n",
    "\n",
    "# Compute y-value for each x-value \n",
    "y_dat = norm.pdf(x_dat, mu, sd)\n",
    "\n",
    "# Create plot environment\n",
    "fig, ax = plt.subplots()\n",
    "\n",
    "# Plot normal distribution\n",
    "ax.plot(x_dat, y_dat , chart_color)  \n",
    "\n",
    "# Label plot\n",
    "plt.xlabel('Serum cholesterol level (mg/100 ml)', fontsize='12')   # X-axis\n",
    "plt.ylabel('', fontsize='12')   # Y-axis\n",
    "\n",
    "# Fill the area under the curve between lower and upper limits\n",
    "shade_x = np.linspace(low_val, high_val, 100)  # set x area\n",
    "shade_y = norm.pdf(shade_x, mu, sd)            # set y area\n",
    "plt.fill_between(shade_x, shade_y, color=chart_color, alpha=1.0)  # fill areas\n",
    "\n",
    "# Ensure y-axis is not visible\n",
    "plt.gca().yaxis.set_visible(False)\n",
    "\n",
    "# Specify x-ticks\n",
    "ax.set_xticks([180, 195.1])\n",
    "ax.set_xticklabels(['180', '195.1'])\n",
    "\n",
    "# Plot text\n",
    "plt.text(205, 0.008, '0.05', fontsize=12)   # mu at bottom\n",
    "\n",
    "# Plot line\n",
    "x_line=[205, 202]\n",
    "y_line=[0.008, 0.006]\n",
    "plt.plot(x_line, y_line, color='k', linestyle='solid', linewidth=0.75)\n",
    "\n",
    "# Show plot\n",
    "plt.show()"
   ]
  },
  {
   "cell_type": "markdown",
   "metadata": {},
   "source": [
    "If the code is correct, you should see the following plot:\n",
    "\n",
    "![___](https://biologicslab.co/BIO5853/images/module_03/lesson_03_2_image04.png)"
   ]
  },
  {
   "cell_type": "markdown",
   "metadata": {},
   "source": [
    "### **Exercise 5: Plot Distribution of Means of Samples**\n",
    "\n",
    "For **Exercise 5** you are to plot the distribution of means of samples for your results in **Exercise 4**. In other words, your plot should look exactly like the output above, except that the lower 5% tail will be colored instead of the upper 5%.\n",
    "\n",
    "**NOTE:** In order to make your plot look correct (see example below) you will need to \"fiddle\" with the values for positioning the text and the line that connects the text to the graph."
   ]
  },
  {
   "cell_type": "code",
   "execution_count": null,
   "metadata": {},
   "outputs": [],
   "source": [
    "# Insert your code for Exercise 5 here\n",
    "\n",
    "import matplotlib.pyplot as plt\n",
    "import numpy as np\n",
    "from scipy.stats import norm      # normal distribution \n",
    "\n",
    "# Define parameters for the normal distribution\n",
    "mu = 180        # mean\n",
    "sd = 11         # standard deviation\n",
    "\n",
    "# Define limits of the area to be colored\n",
    "low_val = 140\n",
    "high_val = 164.85\n",
    "\n",
    "# Define chart color\n",
    "chart_color='#294171'\n",
    "\n",
    "# Generate x-values between 140 and 220 with .01 steps. \n",
    "x_dat = np.arange(140, 220, 0.01) \n",
    "\n",
    "# Compute y-value for each x-value \n",
    "y_dat = norm.pdf(x_dat, mu, sd)\n",
    "\n",
    "# Create plot environment\n",
    "fig, ax = plt.subplots()\n",
    "\n",
    "# Plot normal distribution\n",
    "ax.plot(x_dat, y_dat , chart_color)  \n",
    "\n",
    "# Label plot\n",
    "plt.xlabel('Serum cholesterol level (mg/100 ml)', fontsize='12')   # X-axis\n",
    "plt.ylabel('', fontsize='12')   # Y-axis\n",
    "\n",
    "# Fill the area under the curve between lower and upper limits\n",
    "shade_x = np.linspace(low_val, high_val, 100)  # set x area\n",
    "shade_y = norm.pdf(shade_x, mu, sd)            # set y area\n",
    "plt.fill_between(shade_x, shade_y, color=chart_color, alpha=1.0)  # fill areas\n",
    "\n",
    "# Ensure y-axis is not visible\n",
    "plt.gca().yaxis.set_visible(False)\n",
    "\n",
    "# Specify x-ticks\n",
    "ax.set_xticks([180, 164.9])\n",
    "ax.set_xticklabels(['180', '164.9'])\n",
    "\n",
    "# Plot text\n",
    "plt.text(148, 0.008, '0.05', fontsize=12)   # mu at bottom\n",
    "\n",
    "# Plot line\n",
    "x_line=[155, 159.0]\n",
    "y_line=[0.008, 0.007]\n",
    "plt.plot(x_line, y_line, color='k', linestyle='solid', linewidth=0.75)\n",
    "\n",
    "# Show plot\n",
    "plt.show()"
   ]
  },
  {
   "cell_type": "markdown",
   "metadata": {},
   "source": [
    "If your code is correct, you should see the following plot:\n",
    "\n",
    "![___](https://biologicslab.co/BIO5853/images/module_03/lesson_03_2_image05.png)\n",
    "\n",
    "It will take some \"fiddling\" with the code to make your plot look just like this. "
   ]
  },
  {
   "cell_type": "markdown",
   "metadata": {},
   "source": [
    "#### **Dual Plots Distribution of Means of Samples**\n",
    "\n",
    "Recall that the probability of making a type II error, $\\beta$, is the probability of not rejecting the null  hypothesis given that $H_0$ is false. Therefore, it is the chance of obtaining a sample mean which is less  than 195.1 mg/100 ml given that the true population mean is not 180 but is instead $\\mu_1$ = 211 mg/100 ml. To find the value of $\\beta$, we again consider the sampling distribution of means of samples of size 25; this time, however, we let $\\mu$ = 211. This distribution is pictured on the right side of **Figure 10.2**. Since a sample mean less than $\\bar{x}$ = 195.1 mg/100 ml implies that we do not reject $H_0$, we would  like to know what proportion of this new distribution centered at 211 mg/100 ml lies below 195.1.  \n",
    "\n",
    "Observe that  \n",
    "\n",
    "$$ z = \\frac{195.1 - 211.0}{46/\\sqrt{25}} = -1.73 $$ \n",
    "\n",
    "The area under the standard normal curve that lies to the left of $z = −1.73$ is `0.042`. Therefore, $\\beta$ – the probability of failing to reject  \n",
    "\n",
    "$$ H_0: \\mu \\leq 180 \\text{ mg}/100 \\text{ ml} $$ \n",
    "\n",
    "when the true population mean is $µ_1$ = 211 mg/100 ml – is equal to `0.042`. \n",
    "\n",
    "Whereas $\\alpha$, the probability of committing a type I error, is determined by looking at the situation in which $H_0$ is true and µ is equal to $µ_0$, $\\beta$ is found when $H_0$ is false and $\\mu$ does not equal $\\mu_0$. If $\\mu$ is not equal to $µ_0$, however, there are an infinite number of possible values that $\\mu$ could assume. The type II error is calculated for a single such value, $\\mu_1$; in the previous example, $\\mu_1$ was chosen to be 211 mg/100 ml. (We selected 211 because in this unusual example, we knew it to be the true population mean.) If we had chosen a different alternative population mean, then we would have computed a different value for $\\beta$. The closer $\\mu_1$ is to $\\mu_0$, the more difficult it is to reject the null hypothesis and the higher $\\beta$ will be. \n",
    "\n",
    "![___](https://biologicslab.co/BIO5853/images/module_03/lesson_03_2_image07.png)\n",
    "\n",
    "**FIGURE 10.2** Distributions of means of samples of size 25 for the serum cholesterol levels of males 20 to 74 years of age, µ = 180 mg/100 ml versus µ = 211 mg/100 ml "
   ]
  },
  {
   "cell_type": "markdown",
   "metadata": {},
   "source": [
    "### Example 6: Dual Plot Distribution of Means of Samples\n",
    "\n",
    "The code in the cell below shows how to use Python to recreate **Figure 10.2**. "
   ]
  },
  {
   "cell_type": "code",
   "execution_count": null,
   "metadata": {
    "scrolled": true
   },
   "outputs": [],
   "source": [
    "# Example 6: Dual Plot Distribution of Means of Samples\n",
    "\n",
    "import matplotlib.pyplot as plt\n",
    "import numpy as np\n",
    "from scipy.stats import norm      # normal distribution \n",
    "\n",
    "# Define parameters for the normal distribution\n",
    "mu_1 = 180        # mean\n",
    "mu_2 = 211\n",
    "sd = 11          # standard deviation\n",
    "\n",
    "# Define limits of the area to be colored\n",
    "low_val_1 = 195.1\n",
    "high_val_1 = 260\n",
    "\n",
    "low_val_2 = 140\n",
    "high_val_2 = 195.1\n",
    "\n",
    "# Define chart color\n",
    "chart_color='#294171'\n",
    "fill_color_1 = chart_color\n",
    "fill_color_2 = '#298844'\n",
    "\n",
    "# Generate x-values between 140 and 220 with .01 steps. \n",
    "x_dat_1 = np.arange(140, 220, 0.01) \n",
    "x_dat_2 = np.arange(180, 260, 0.01) \n",
    "\n",
    "# Compute y-value for each x-value \n",
    "y_dat_1 = norm.pdf(x_dat_1, mu_1, sd)\n",
    "y_dat_2 = norm.pdf(x_dat_2, mu_2, sd)\n",
    "\n",
    "# Create plot environment\n",
    "fig, ax = plt.subplots()\n",
    "fig.set_figwidth(10)  # Width is 12 inches\n",
    "\n",
    "# Plot normal distribution\n",
    "ax.plot(x_dat_1, y_dat_1, chart_color)\n",
    "ax.plot(x_dat_2, y_dat_2, chart_color)\n",
    "\n",
    "# Label plot\n",
    "plt.xlabel('Serum cholesterol level (mg/100 ml)', fontsize='12')   # X-axis\n",
    "plt.ylabel('', fontsize='12')   # Y-axis\n",
    "\n",
    "# Fill the left area under the curve between lower and upper limits\n",
    "shade_x = np.linspace(low_val_2, high_val_2, 100)  # set x area\n",
    "shade_y = norm.pdf(shade_x, mu_2, sd)            # set y area\n",
    "plt.fill_between(shade_x, shade_y, color=fill_color_2, alpha=1.0)  # fill areas\n",
    "\n",
    "# Fill the right area under the curve between lower and upper limits\n",
    "shade_x = np.linspace(low_val_1, high_val_1, 100)  # set x area\n",
    "shade_y = norm.pdf(shade_x, mu_1, sd)            # set y area\n",
    "plt.fill_between(shade_x, shade_y, color=fill_color_1, alpha=1.0)  # fill areas\n",
    "\n",
    "# Ensure y-axis is not visible\n",
    "plt.gca().yaxis.set_visible(False)\n",
    "\n",
    "# Specify x-ticks\n",
    "ax.set_xticks([180, 195.1, 211])\n",
    "ax.set_xticklabels(['180', '195.1', '211'])\n",
    "\n",
    "# Plot text\n",
    "plt.text(179, 0.008, '0.042', fontsize=12)   # text left\n",
    "plt.text(205, 0.008, '0.05', fontsize=12)    # text right\n",
    "\n",
    "# Plot line left\n",
    "x_line=[187, 190]\n",
    "y_line=[0.008, 0.006]\n",
    "plt.plot(x_line, y_line, color='k', linestyle='solid', linewidth=0.75)\n",
    "\n",
    "# Plot line Right\n",
    "x_line=[205, 202]\n",
    "y_line=[0.008, 0.006]\n",
    "plt.plot(x_line, y_line, color='k', linestyle='solid', linewidth=0.75)\n",
    "\n",
    "# Show plot\n",
    "plt.show()"
   ]
  },
  {
   "cell_type": "markdown",
   "metadata": {},
   "source": [
    "Investigators generally try to design tests of hypotheses so that they have high power. It is not enough to know that we have a small probability of rejecting $H_0$ when it is true; we would also like there to be a large probability of rejecting the null hypothesis when it is false. In most practical applications, a power less than 80% is considered insufficient. \n",
    "\n",
    "One way to increase the power of a test is to raise the significance level α. If we increase $\\alpha$, then we cut off a smaller portion of the tail of the sampling distribution centered at $µ_1$. Correspondingly, $\\beta$ becomes smaller, and the power, 1 − $\\beta$, increases. If α had been equal to `0.10` for the test of the null hypothesis\n",
    "\n",
    "$$ H_0: \\mu \\leq 180 \\text{ mg}/100 \\text{ ml} $$ \n",
    "\n",
    "for instance, then $\\beta$ would have been `0.018` and the power `0.982`. This situation is illustrated in **Figure 10.4**; compare it to **Figure 10.2**, where $\\alpha$ was equal to `0.05`.\n",
    "\n",
    "![___](https://biologicslab.co/BIO5853/images/module_03/lesson_03_2_image10.png)\n",
    "\n",
    "**FIGURE 10.4** Distributions of means of samples of size 25 for the serum cholesterol levels of males 20 to 74 years of age, $\\mu$ = 180 mg/100 ml versus $\\mu$ = 211 mg/100 ml "
   ]
  },
  {
   "cell_type": "markdown",
   "metadata": {},
   "source": [
    "### Example 6: Dual Plot Distribution of Means of Samples\n",
    "\n",
    "The code in the cell below shows how to use Python to recreate **Figure 10.2**. "
   ]
  },
  {
   "cell_type": "code",
   "execution_count": null,
   "metadata": {},
   "outputs": [],
   "source": [
    "# Example 6: Dual Plot Distribution of Means of Samples\n",
    "\n",
    "import matplotlib.pyplot as plt\n",
    "import numpy as np\n",
    "from scipy.stats import norm      # normal distribution \n",
    "\n",
    "# Define parameters for the normal distribution\n",
    "mu_1 = 180        # mean\n",
    "mu_2 = 211\n",
    "sd = 11          # standard deviation\n",
    "\n",
    "# Define limits of the area to be colored\n",
    "low_val_1 = 195.1\n",
    "high_val_1 = 260\n",
    "\n",
    "low_val_2 = 140\n",
    "high_val_2 = 195.1\n",
    "\n",
    "# Define chart color\n",
    "color_1 = '#294171'  # dark blue\n",
    "color_2 = '#297544'  # dark green \n",
    "\n",
    "# Generate x-values between 140 and 220 with .01 steps. \n",
    "x_dat_1 = np.arange(140, 220, 0.01) \n",
    "x_dat_2 = np.arange(180, 260, 0.01) \n",
    "\n",
    "# Compute y-value for each x-value \n",
    "y_dat_1 = norm.pdf(x_dat_1, mu_1, sd)\n",
    "y_dat_2 = norm.pdf(x_dat_2, mu_2, sd)\n",
    "\n",
    "# Create plot environment\n",
    "fig, ax = plt.subplots()\n",
    "fig.set_figwidth(10)  # Width is 12 inches\n",
    "\n",
    "# Plot normal distribution\n",
    "ax.plot(x_dat_1, y_dat_1, color_1)\n",
    "ax.plot(x_dat_2, y_dat_2, color_2)\n",
    "\n",
    "# Label plot\n",
    "plt.xlabel('Serum cholesterol level (mg/100 ml)', fontsize='12')   # X-axis\n",
    "plt.ylabel('', fontsize='12')   # Y-axis\n",
    "\n",
    "# Fill the left area under the curve between lower and upper limits\n",
    "shade_x = np.linspace(low_val_2, high_val_2, 100)  # set x area\n",
    "shade_y = norm.pdf(shade_x, mu_2, sd)            # set y area\n",
    "plt.fill_between(shade_x, shade_y, color=color_2, alpha=1.0)  # fill areas\n",
    "\n",
    "# Fill the right area under the curve between lower and upper limits\n",
    "shade_x = np.linspace(low_val_1, high_val_1, 100)  # set x area\n",
    "shade_y = norm.pdf(shade_x, mu_1, sd)            # set y area\n",
    "plt.fill_between(shade_x, shade_y, color=color_1, alpha=1.0)  # fill areas\n",
    "\n",
    "# Ensure y-axis is not visible\n",
    "plt.gca().yaxis.set_visible(False)\n",
    "\n",
    "# Specify x-ticks\n",
    "ax.set_xticks([180, 195.1, 211])\n",
    "ax.set_xticklabels(['180', '195.1', '211'])\n",
    "\n",
    "# Plot text\n",
    "plt.text(179, 0.008, '0.042', fontsize=12)   # text left\n",
    "plt.text(205, 0.008, '0.05', fontsize=12)    # text right\n",
    "\n",
    "# Plot line left\n",
    "x_line=[187, 190]\n",
    "y_line=[0.008, 0.006]\n",
    "plt.plot(x_line, y_line, color='k', linestyle='solid', linewidth=0.75)\n",
    "\n",
    "# Plot line Right\n",
    "x_line=[205, 202]\n",
    "y_line=[0.008, 0.006]\n",
    "plt.plot(x_line, y_line, color='k', linestyle='solid', linewidth=0.75)\n",
    "\n",
    "# Show plot\n",
    "plt.show()"
   ]
  },
  {
   "cell_type": "markdown",
   "metadata": {},
   "source": [
    "If the code is correct, you should see the following plot:\n",
    "\n",
    "![___](https://biologicslab.co/BIO5853/images/module_03/lesson_03_2_image06.png)\n",
    "\n",
    "**FIGURE 10.2**  Distributions of means of samples of size 25 for the serum cholesterol levels of males 20 to 74 years of age, $\\mu$ = 180 mg/100 ml versus $\\mu$ = 211 mg/100 ml \n"
   ]
  },
  {
   "cell_type": "markdown",
   "metadata": {},
   "source": [
    "#### **Changing the Power of the Test**\n",
    "\n",
    "The topic **_Power_** will be discussed in the next section. However, for **Exercise 6** you are asked to plot what happens when you change the power of the hypothesis test shown above in **Figure 10.2**.\n",
    "\n",
    "Investigators generally try to design tests of hypotheses so that they have high power. It is not enough to know that we have a small probability of rejecting $H_0$ when it is true; we would also like there to be a large probability of rejecting the null hypothesis when it is false. In most practical applications, a power less than 80% is considered insufficient. \n",
    "\n",
    "One way to increase the power of a test is to raise the significance level α. If we increase α, then we cut off a smaller portion of the tail of the sampling distribution centered at $µ_1$. Correspondingly, $\\beta$ becomes smaller, and the power, 1 − $\\beta$, increases. If α had been equal to 0.10 for the test of the null hypothesis\n",
    "\n",
    "$$ H_0: \\mu \\leq 180 \\text{ mg}/100 \\text{ ml} $$ \n",
    "\n",
    "for instance, then $\\beta$ would have been 0.018 and the power 0.982. This situation is illustrated in **Figure 10.4**; compare it to Figure 10.2, where $\\alpha$ was equal to 0.05.\n",
    "\n",
    "![___](https://biologicslab.co/BIO5853/images/module_03/lesson_03_2_image10.png)\n",
    "\n",
    "**FIGURE 10.4**\n",
    "Distributions of means of samples of size 25 for the serum cholesterol levels of males 20 to 74 years  of age, $\\mu$ = 180 mg/100 ml versus $\\mu$ = 211 mg/100 ml "
   ]
  },
  {
   "cell_type": "markdown",
   "metadata": {},
   "source": [
    "### **Exercise 6: Dual Plot Distribution of Means of Samples**\n",
    "\n",
    "In the cell below use Python to recreate **Figure 10.4** shown above. \n",
    "\n",
    "**HINTS:** For the most part you can simply resuse the code in Example 6 as is. The major change you will need to make is that the x-value at the critical point is now `191.8` instead of the value of `195.1`. The textbook doesn't mention this value in the text, but it's clearly visible in **Figure 10.4**. You will also have to fiddle with the location of the left text (\"0.018\") and the line that connects it to curve. For the right text, just change the number from `0.05` to read `0.10`. The location of the right text, as well as the location of the line connecting it to the graph stays the same."
   ]
  },
  {
   "cell_type": "code",
   "execution_count": null,
   "metadata": {},
   "outputs": [],
   "source": [
    "# Insert your code for Exercise 6 here\n",
    "\n",
    "import matplotlib.pyplot as plt\n",
    "import numpy as np\n",
    "from scipy.stats import norm      # normal distribution \n",
    "\n",
    "# Define parameters for the normal distribution\n",
    "mu_1 = 180        # mean\n",
    "mu_2 = 211\n",
    "sd = 11          # standard deviation\n",
    "\n",
    "# Define limits of the area to be colored\n",
    "low_val_1 = 191.8\n",
    "high_val_1 = 260\n",
    "\n",
    "low_val_2 = 140\n",
    "high_val_2 = 191.8\n",
    "\n",
    "# Define chart color\n",
    "color_1 = '#294171'  # dark blue\n",
    "color_2 = '#297544'  # dark green \n",
    "\n",
    "# Generate x-values between 140 and 220 with .01 steps. \n",
    "x_dat_1 = np.arange(140, 220, 0.01) \n",
    "x_dat_2 = np.arange(180, 260, 0.01) \n",
    "\n",
    "# Compute y-value for each x-value \n",
    "y_dat_1 = norm.pdf(x_dat_1, mu_1, sd)\n",
    "y_dat_2 = norm.pdf(x_dat_2, mu_2, sd)\n",
    "\n",
    "# Create plot environment\n",
    "fig, ax = plt.subplots()\n",
    "fig.set_figwidth(10)  # Width is 12 inches\n",
    "\n",
    "# Plot normal distribution\n",
    "ax.plot(x_dat_1, y_dat_1, color_1)\n",
    "ax.plot(x_dat_2, y_dat_2, color_2)\n",
    "\n",
    "# Label plot\n",
    "plt.xlabel('Serum cholesterol level (mg/100 ml)', fontsize='12')   # X-axis\n",
    "plt.ylabel('', fontsize='12')   # Y-axis\n",
    "\n",
    "# Fill the left area under the curve between lower and upper limits\n",
    "shade_x = np.linspace(low_val_2, high_val_2, 100)  # set x area\n",
    "shade_y = norm.pdf(shade_x, mu_2, sd)            # set y area\n",
    "plt.fill_between(shade_x, shade_y, color=color_2, alpha=1.0)  # fill areas\n",
    "\n",
    "# Fill the right area under the curve between lower and upper limits\n",
    "shade_x = np.linspace(low_val_1, high_val_1, 100)  # set x area\n",
    "shade_y = norm.pdf(shade_x, mu_1, sd)            # set y area\n",
    "plt.fill_between(shade_x, shade_y, color=color_1, alpha=1.0)  # fill areas\n",
    "\n",
    "# Ensure y-axis is not visible\n",
    "plt.gca().yaxis.set_visible(False)\n",
    "\n",
    "# Specify x-ticks\n",
    "ax.set_xticks([180, 191.8, 211])\n",
    "ax.set_xticklabels(['180', '191.8', '211'])\n",
    "\n",
    "# Plot text\n",
    "plt.text(176, 0.005, '0.018', fontsize=12)   # text left\n",
    "plt.text(205, 0.008, '0.10', fontsize=12)    # text right\n",
    "\n",
    "# Plot line left\n",
    "x_line=[184.5, 187.0]\n",
    "y_line=[0.005, 0.004]\n",
    "plt.plot(x_line, y_line, color='k', linestyle='solid', linewidth=0.75)\n",
    "\n",
    "# Plot line Right\n",
    "x_line=[205, 202]\n",
    "y_line=[0.008, 0.006]\n",
    "plt.plot(x_line, y_line, color='k', linestyle='solid', linewidth=0.75)\n",
    "\n",
    "# Show plot\n",
    "plt.show()"
   ]
  },
  {
   "cell_type": "markdown",
   "metadata": {},
   "source": [
    "If your code is correct, you should see the following plot:\n",
    "\n",
    "![___](https://biologicslab.co/BIO5853/images/module_03/lesson_03_2_image11.png)\n"
   ]
  },
  {
   "cell_type": "markdown",
   "metadata": {},
   "source": [
    "### **Summary of Types of Errors**"
   ]
  },
  {
   "cell_type": "markdown",
   "metadata": {},
   "source": [
    "![___](https://biologicslab.co/BIO5853/images/module_03/lesson_03_2_image09.png)"
   ]
  },
  {
   "cell_type": "markdown",
   "metadata": {},
   "source": [
    "### Example 7: Compute Power\n",
    "\n",
    "The Python code in the cell below can be used to compute the critical value, the power and the coeffient $\\beta$ for an alternative hypothesis $ \\mu_1$ compared to a null hypothesis $\\mu$. This code example is more straightforward for practical applications than that illustated in your textbook on page 238."
   ]
  },
  {
   "cell_type": "code",
   "execution_count": null,
   "metadata": {},
   "outputs": [],
   "source": [
    "# Example 7: Compute Power\n",
    "\n",
    "import scipy.stats as stats\n",
    "import numpy as np\n",
    "\n",
    "# Define parameters\n",
    "n = 25  # Sample size\n",
    "alpha = 0.05  # Significance level\n",
    "mu0 = 180  # Null hypothesis mean\n",
    "mu_alt = 211  # Alternative hypothesis mean\n",
    "sigma = 46  # Population standard deviation\n",
    "\n",
    "# Calculate the critical value for a one-tailed test\n",
    "z_alpha = stats.norm.ppf(1 - alpha)\n",
    "\n",
    "# Calculate the non-rejection region\n",
    "critical_value = mu0 + z_alpha * (sigma / np.sqrt(n))\n",
    "\n",
    "# Calculate the power of the test\n",
    "z_beta = (critical_value - mu_alt) / (sigma / np.sqrt(n))\n",
    "beta = stats.norm.cdf(z_beta)\n",
    "\n",
    "# Calculate power\n",
    "power = 1 - beta\n",
    "\n",
    "print(\"----Calculate Power---------------------------------\")\n",
    "print(f\"Critical value: {critical_value:.1f}\")\n",
    "print(f\"Alpha: {alpha:.2f}\")\n",
    "print(f\"Z value: {z_beta:.4f}\")\n",
    "print(f\"Beta: {beta:.3f}\")\n",
    "print(f\"Power: {power:.4f}\")"
   ]
  },
  {
   "cell_type": "markdown",
   "metadata": {},
   "source": [
    "If the code is correct, you should see the following output:\n",
    "\n",
    "~~~text\n",
    "----Calculate Power---------------------------------\n",
    "Critical value: 195.1\n",
    "Alpha: 0.05\n",
    "Z value: -1.7247\n",
    "Beta: 0.042\n",
    "Power: 0.9577\n",
    "~~~"
   ]
  },
  {
   "cell_type": "markdown",
   "metadata": {},
   "source": [
    "### **Exercise 7A: Compute Power**\n",
    "\n",
    "In the cell below compute the power values for the same parameters used in Example 7, but change the alternative mean value to 180."
   ]
  },
  {
   "cell_type": "code",
   "execution_count": null,
   "metadata": {},
   "outputs": [],
   "source": [
    "# Insert your code for Exercise 7A here\n",
    "\n",
    "import scipy.stats as stats\n",
    "import numpy as np\n",
    "\n",
    "# Define parameters\n",
    "n = 25  # Sample size\n",
    "alpha = 0.05  # Significance level\n",
    "mu0 = 180  # Null hypothesis mean\n",
    "mu_alt = 180  # Alternative hypothesis mean\n",
    "sigma = 46  # Population standard deviation\n",
    "\n",
    "# Calculate the critical value for a one-tailed test\n",
    "z_alpha = stats.norm.ppf(1 - alpha)\n",
    "\n",
    "# Calculate the non-rejection region\n",
    "critical_value = mu0 + z_alpha * (sigma / np.sqrt(n))\n",
    "\n",
    "# Calculate the power of the test\n",
    "z_beta = (critical_value - mu_alt) / (sigma / np.sqrt(n))\n",
    "beta = stats.norm.cdf(z_beta)\n",
    "\n",
    "# Calculate power\n",
    "power = 1 - beta\n",
    "\n",
    "print(\"----Calculate Power---------------------------------\")\n",
    "print(f\"Critical value: {critical_value:.1f}\")\n",
    "print(f\"Alpha: {alpha:.2f}\")\n",
    "print(f\"Z value: {z_beta:.4f}\")\n",
    "print(f\"Beta: {beta:.3f}\")\n",
    "print(f\"Power: {power:.4f}\")\n"
   ]
  },
  {
   "cell_type": "markdown",
   "metadata": {},
   "source": [
    "If the code is correct, you should see the following output:\n",
    "\n",
    "~~~text\n",
    "----Calculate Power---------------------------------\n",
    "Critical value: 195.1\n",
    "Alpha: 0.05\n",
    "Z value: 1.6449\n",
    "Beta: 0.950\n",
    "Power: 0.0500\n",
    "~~~"
   ]
  },
  {
   "cell_type": "markdown",
   "metadata": {},
   "source": [
    "These are the same values shown in your textbook at the bottom of page 238."
   ]
  },
  {
   "cell_type": "markdown",
   "metadata": {},
   "source": [
    "### **Exercise 7B: Compute Power**\n",
    "\n",
    "In the cell below compute the power for the following parameters:\n",
    "\n",
    "~~~text\n",
    "# Define parameters\n",
    "n = 25  # Sample size\n",
    "alpha = 0.10  # Significance level\n",
    "mu0 = 180  # Null hypothesis mean\n",
    "mu_alt = 211  # Alternative hypothesis mean\n",
    "sigma = 46  # Population standard deviation\n",
    "\n",
    "~~~"
   ]
  },
  {
   "cell_type": "code",
   "execution_count": null,
   "metadata": {},
   "outputs": [],
   "source": [
    "# Insert your code for Exercise 7B here\n",
    "\n",
    "import scipy.stats as stats\n",
    "import numpy as np\n",
    "\n",
    "# Define parameters\n",
    "n = 25  # Sample size\n",
    "alpha = 0.10  # Significance level\n",
    "mu0 = 180  # Null hypothesis mean\n",
    "mu_alt = 211  # Alternative hypothesis mean\n",
    "sigma = 46  # Population standard deviation\n",
    "\n",
    "# Calculate the critical value for a one-tailed test\n",
    "z_alpha = stats.norm.ppf(1 - alpha)\n",
    "\n",
    "# Calculate the non-rejection region\n",
    "critical_value = mu0 + z_alpha * (sigma / np.sqrt(n))\n",
    "\n",
    "# Calculate the power of the test\n",
    "z_beta = (critical_value - mu_alt) / (sigma / np.sqrt(n))\n",
    "beta = stats.norm.cdf(z_beta)\n",
    "\n",
    "# Calculate power\n",
    "power = 1 - beta\n",
    "\n",
    "print(\"----Calculate Power---------------------------------\")\n",
    "print(f\"Critical value: {critical_value:.1f}\")\n",
    "print(f\"Alpha: {alpha:.2f}\")\n",
    "print(f\"Z value: {z_beta:.4f}\")\n",
    "print(f\"Beta: {beta:.3f}\")\n",
    "print(f\"Power: {power:.4f}\")\n"
   ]
  },
  {
   "cell_type": "markdown",
   "metadata": {},
   "source": [
    "If the code is correct, you should see the following output:\n",
    "\n",
    "~~~text\n",
    "----Calculate Power---------------------------------\n",
    "Critical value: 191.8\n",
    "Alpha: 0.10\n",
    "Z value: -2.0880\n",
    "Beta: 0.018\n",
    "Power: 0.9816\n",
    "~~~"
   ]
  },
  {
   "cell_type": "markdown",
   "metadata": {},
   "source": [
    "You would have used the critical value = 191.8 and $\\beta$ = 0.018 in your **Exercise 6** above."
   ]
  },
  {
   "cell_type": "markdown",
   "metadata": {
    "jp-MarkdownHeadingCollapsed": true
   },
   "source": [
    "## **Power**\n",
    "\n",
    "If $\\beta$ is the probability of committing a type II error, then 1 − $\\beta$ is called the **_power_** of the test of hypothesis. The power is the probability of rejecting the null hypothesis when $H_0$ is false. In other words, it is the probability of avoiding a _type II error_;  \n",
    "\n",
    "$$ power = P(\\text{reject} H_0 \\mid H_0 \\text{ is false)}. $$ \n",
    "\n",
    "The power may also be thought of as the likelihood that a particular study will detect a deviation from the null hypothesis given that one exists. Like $\\beta$, the power must be computed for a particular alternative population mean $µ_1$. In the serum cholesterol example, the power of the one-sided test of hypothesis is  \n",
    "\n",
    "$$ 1 − \\beta = 1 − 0.042 = 0.958. $$\n",
    "\n",
    "Consequently, for a test conducted at the 0.05 level of significance and using a sample of size 25, there is a 95.8% chance of rejecting the null hypothesis  \n",
    "\n",
    "$$ H_0: µ ≤ 180 \\text{ mg} \\ /100 \\text{ ml} $$ \n",
    "\n",
    "given that $H_0$ is false and the true population mean is $µ_1$ = 211 mg/100 ml. \n",
    "\n",
    "![___](https://biologicslab.co/BIO5853/images/module_03/lesson_03_2_image08.png)\n",
    "\n",
    "**FIGURE 10.3** Power curve for $µ_0$ = 180, α = 0.05, and n = 25 "
   ]
  },
  {
   "cell_type": "markdown",
   "metadata": {},
   "source": [
    "### Example 7: Plot Power Curve\n",
    "\n",
    "The code in the cell below shows how to recreate **Figure 10.3** using Python.\n",
    "\n",
    "_Code Description:_\n",
    "\n",
    "The code uses the following `for loop` to compute different values for the alternative hypothesis `mu_alt` which are stored in the variable `power` using this code chunk:\n",
    "\n",
    "~~~text\n",
    "# Calculate power for each alternative mean\n",
    "power = []\n",
    "for mu_alt in mu_alt_range:\n",
    "    z = (mu_alt - mu0) / (sigma / np.sqrt(n))\n",
    "    beta = norm.cdf(z_alpha - z)\n",
    "    power.append(1 - beta)\n",
    "~~~\n",
    "\n",
    "What is plotted is the variable `mu_alt_range` which are the x-values, and `power` which are the y-values.\n",
    "\n",
    "~~~text\n",
    "# Plot power curve\n",
    "plt.plot(mu_alt_range, power, color=color_1, linewidth=3)\n",
    "~~~"
   ]
  },
  {
   "cell_type": "code",
   "execution_count": null,
   "metadata": {
    "scrolled": true
   },
   "outputs": [],
   "source": [
    "# Example 7: Plot Power Curve\n",
    "\n",
    "import numpy as np\n",
    "import matplotlib.pyplot as plt\n",
    "from scipy.stats import norm\n",
    "\n",
    "# Set color values\n",
    "color_1='#294171'\n",
    "\n",
    "# Parameters\n",
    "mu0 = 180     # population mean\n",
    "alpha = 0.05  # alpha\n",
    "n = 25        # Sample size\n",
    "sigma = 46    # Standard deviation\n",
    "\n",
    "# Critical value for the given alpha\n",
    "z_alpha = norm.ppf(1 - alpha)\n",
    "\n",
    "# Range of alternative hypothesis means\n",
    "mu_alt_range = np.linspace(180, 230, 400)\n",
    "\n",
    "# Calculate power for each alternative mean\n",
    "power = []\n",
    "for mu_alt in mu_alt_range:\n",
    "    z = (mu_alt - mu0) / (sigma / np.sqrt(n))\n",
    "    beta = norm.cdf(z_alpha - z)\n",
    "    power.append(1 - beta)\n",
    "\n",
    "# Adjust plot size\n",
    "plt.figure(figsize=(8, 6))\n",
    "\n",
    "# Plot power curve\n",
    "plt.plot(mu_alt_range, power, color=color_1, linewidth=3)\n",
    "\n",
    "# Add labels\n",
    "plt.xlabel('Alternative population mean (mg/100 ml)', fontsize=12)\n",
    "plt.ylabel('Power of test',fontsize=12)\n",
    "\n",
    "# Set grid off\n",
    "plt.grid(False)\n",
    "\n",
    "# Show plot\n",
    "plt.show()\n"
   ]
  },
  {
   "cell_type": "markdown",
   "metadata": {},
   "source": [
    "If the code is correct, you should see the following plot:\n",
    "\n",
    "![___](https://biologicslab.co/BIO5853/images/module_03/lesson_03_2_image12.png)\n"
   ]
  },
  {
   "cell_type": "markdown",
   "metadata": {},
   "source": [
    "The quantity 1 − β would have assumed a different value if we had set $µ_1$ equal to 200 mg/100 ml, and yet another value if we had let $µ_1$ be 220 mg/100 ml. \n",
    "\n",
    "If we were to plot the values of 1 − β  against all possible alternative population means, we would end up with what is known as a **_power curve_**. A power curve for the test of the null hypothesis  \n",
    "\n",
    "$$ H0: µ ≤ 180 mg/100 ml  $$\n",
    "\n",
    "is shown in the figure above. Note that when alternative population mean $µ_1$ = 180,  \n",
    "![___](https://biologicslab.co/BIO5853/images/module_03/lesson_03_2_image13.png)\n",
    "\n",
    "The power of the test approaches `1` as the alternative mean moves farther and farther away from the null value of 180 mg/100 ml. "
   ]
  },
  {
   "cell_type": "markdown",
   "metadata": {},
   "source": [
    "### **Exercise 7: Plot Power Curve**\n",
    "\n",
    "The code in the cell below shows how to recreate **Figure 10.3** using Python.\n",
    "\n",
    "_Code Description:_\n",
    "\n",
    "The code uses the following `for loop` to compute different values for the alternative hypothesis `mu_alt` which are stored in the variable `power` using this code chunk:\n",
    "\n",
    "~~~text\n",
    "# Calculate power for each alternative mean\n",
    "power = []\n",
    "for mu_alt in mu_alt_range:\n",
    "    z = (mu_alt - mu0) / (sigma / np.sqrt(n))\n",
    "    beta = norm.cdf(z_alpha - z)\n",
    "    power.append(1 - beta)\n",
    "~~~\n",
    "\n",
    "What is plotted is the variable `mu_alt_range` which are the x-values, and `power` which are the y-values.\n",
    "\n",
    "~~~text\n",
    "# Plot power curve\n",
    "plt.plot(mu_alt_range, power, color=color_1, linewidth=3)\n",
    "~~~"
   ]
  },
  {
   "cell_type": "code",
   "execution_count": null,
   "metadata": {},
   "outputs": [],
   "source": [
    "# Insert your code for Exercise 7 here\n",
    "\n",
    "import numpy as np\n",
    "import matplotlib.pyplot as plt\n",
    "from scipy.stats import norm\n",
    "\n",
    "# Set color values\n",
    "color_1='#294171'\n",
    "\n",
    "# Parameters\n",
    "mu0 = 180     # population mean\n",
    "alpha = 0.33  # alpha\n",
    "n = 25        # Sample size\n",
    "sigma = 46    # Standard deviation\n",
    "\n",
    "# Critical value for the given alpha\n",
    "z_alpha = norm.ppf(1 - alpha)\n",
    "\n",
    "# Range of alternative hypothesis means\n",
    "mu_alt_range = np.linspace(180, 230, 400)\n",
    "\n",
    "# Calculate power for each alternative mean\n",
    "power = []\n",
    "for mu_alt in mu_alt_range:\n",
    "    z = (mu_alt - mu0) / (sigma / np.sqrt(n))\n",
    "    beta = norm.cdf(z_alpha - z)\n",
    "    power.append(1 - beta)\n",
    "\n",
    "# Adjust plot size\n",
    "plt.figure(figsize=(8, 6))\n",
    "\n",
    "# Plot power curve\n",
    "plt.plot(mu_alt_range, power, color=color_1, linewidth=3)\n",
    "\n",
    "# Add labels\n",
    "plt.xlabel('Alternative population mean (mg/100 ml)', fontsize=12)\n",
    "plt.ylabel('Power of test',fontsize=12)\n",
    "\n",
    "# Set grid off\n",
    "plt.grid(False)\n",
    "\n",
    "# Show plot\n",
    "plt.show()\n"
   ]
  },
  {
   "cell_type": "markdown",
   "metadata": {},
   "source": [
    "If the code is correct, you should see the following plot:\n",
    "\n",
    "![___](https://biologicslab.co/BIO5853/images/module_03/lesson_03_2_image14.png)\n"
   ]
  },
  {
   "cell_type": "markdown",
   "metadata": {},
   "source": [
    "The quantity 1 − β would have assumed a different value if we had set $µ_1$ equal to 200 mg/100 ml, and yet another value if we had let $µ_1$ be 220 mg/100 ml. \n",
    "\n",
    "If we were to plot the values of 1 − β  against all possible alternative population means, we would end up with what is known as a **_power curve_**. A power curve for the test of the null hypothesis  \n",
    "\n",
    "$$ H0: µ ≤ 180 mg/100 ml  $$\n",
    "\n",
    "is shown in the figure above. Note that when alternative population mean $µ_1$ = 180,  \n",
    "![___](https://biologicslab.co/BIO5853/images/module_03/lesson_03_2_image13.png)\n",
    "\n",
    "The power of the test approaches `1` as the alternative mean moves farther and farther away from the null value of 180 mg/100 ml. "
   ]
  },
  {
   "cell_type": "markdown",
   "metadata": {},
   "source": [
    "## **Lesson Turn-in**\n",
    "\n",
    "When you have run all of the code cells in sequential order (the last code cell above should be 19) you need to create a PDF of your notebook. \n",
    "\n",
    "Upload the **_PDF_** of your Lesson_03_1 assignment to Canvas for grading.\n"
   ]
  }
 ],
 "metadata": {
  "kernelspec": {
   "display_name": "Python 3.9 (biostats)",
   "language": "python",
   "name": "biostats"
  },
  "language_info": {
   "codemirror_mode": {
    "name": "ipython",
    "version": 3
   },
   "file_extension": ".py",
   "mimetype": "text/x-python",
   "name": "python",
   "nbconvert_exporter": "python",
   "pygments_lexer": "ipython3",
   "version": "3.9.19"
  }
 },
 "nbformat": 4,
 "nbformat_minor": 4
}
