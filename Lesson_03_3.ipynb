{
  "cells": [
    {
      "cell_type": "markdown",
      "metadata": {
        "id": "view-in-github",
        "colab_type": "text"
      },
      "source": [
        "<a href=\"https://colab.research.google.com/github/DavidSenseman/BIO5853/blob/main/Lesson_03_3.ipynb\" target=\"_parent\"><img src=\"https://colab.research.google.com/assets/colab-badge.svg\" alt=\"Open In Colab\"/></a>"
      ]
    },
    {
      "cell_type": "markdown",
      "metadata": {
        "id": "1EIQGiMiMxla"
      },
      "source": [
        "---------------------------\n",
        "**COPYRIGHT NOTICE:** This Jupyterlab Notebook is a Derivative work of [Jeff Heaton](https://github.com/jeffheaton) licensed under the Apache License, Version 2.0 (the \"License\"); You may not use this file except in compliance with the License. You may obtain a copy of the License at\n",
        "\n",
        "> [http://www.apache.org/licenses/LICENSE-2.0](http://www.apache.org/licenses/LICENSE-2.0)\n",
        "\n",
        "Unless required by applicable law or agreed to in writing, software distributed under the License is distributed on an \"AS IS\" BASIS, WITHOUT WARRANTIES OR CONDITIONS OF ANY KIND, either express or implied. See the License for the specific language governing permissions and limitations under the License.\n",
        "\n",
        "------------------------"
      ]
    },
    {
      "cell_type": "markdown",
      "metadata": {
        "id": "wp3t0GpgMxla"
      },
      "source": [
        "# **BIO 5853: Biostatistics**"
      ]
    },
    {
      "cell_type": "markdown",
      "metadata": {
        "id": "L2zY4dK0Mxlb"
      },
      "source": [
        "##### **Module 3: Inference**\n",
        "\n",
        "* Instructor: [David Senseman](mailto:David.Senseman@utsa.edu), [Department of Integrative Biology](https://sciences.utsa.edu/integrative-biology/), [UTSA](https://www.utsa.edu/)\n",
        "\n",
        "\n",
        "### Module 3 Material\n",
        "\n",
        "* Part 3.1: Confidence Intervals\n",
        "* Part 3.2: Hypothesis Testing\n",
        "* **Part 3.3: Comparison of Two Means**\n",
        "* Part 3.4: Analysis of Variance (ANOVA)\n",
        "* Part 3.5: Nonparametric Methods\n",
        "* Part 3.6: Inference on Proportions\n",
        "* Part 3.7: Contingency Tables\n",
        "* Part 3.8: Correlation\n",
        "* Part 3.9: Simple Linear Regression\n",
        "* Part 3.10: Multiple Linear Regression\n",
        "* Part 3.11: Logistic Regression\n",
        "* Part 3.12: Survival Analysis"
      ]
    },
    {
      "cell_type": "markdown",
      "metadata": {
        "id": "yKQylnEiLDUM"
      },
      "source": [
        "## Google CoLab Instructions\n",
        "\n",
        "The following code ensures that Google CoLab is running the correct version of TensorFlow.\n",
        "  Running the following code will map your GDrive to ```/content/drive```."
      ]
    },
    {
      "cell_type": "code",
      "execution_count": null,
      "metadata": {
        "id": "seXFCYH4LDUM"
      },
      "outputs": [],
      "source": [
        "# YOU MUST RUN THIS CELL FIRST\n",
        "try:\n",
        "    from google.colab import drive\n",
        "    drive.mount('/content/drive', force_remount=True)\n",
        "    from google.colab import auth\n",
        "    auth.authenticate_user()\n",
        "    COLAB = True\n",
        "    print(\"Note: using Google CoLab\")\n",
        "    %tensorflow_version 2.x\n",
        "    import requests\n",
        "    gcloud_token = !gcloud auth print-access-token\n",
        "    gcloud_tokeninfo = requests.get('https://www.googleapis.com/oauth2/v3/tokeninfo?access_token=' + gcloud_token[0]).json()\n",
        "    print(gcloud_tokeninfo['email'])\n",
        "except:\n",
        "    print(\"Note: not using Google CoLab\")\n",
        "    COLAB = False"
      ]
    },
    {
      "cell_type": "markdown",
      "metadata": {
        "id": "1yMD_W_sMxlc"
      },
      "source": [
        "# **Part 3.3: Comparison of Two Means**\n",
        "\n",
        "In the preceding chapter we used a statistical test of hypothesis to compare the unknown mean of a single population to some fixed, known value $\\mu_0$. In practical applications, however, it is far more common to compare the means of two different populations, both of which are unknown.\n",
        "\n",
        "(Pagano, Marcello; Gauvreau, Kimberlee; Mattie, Heather. Principles of Biostatistics (p. 253). CRC Press. Kindle Edition.)"
      ]
    },
    {
      "cell_type": "markdown",
      "metadata": {
        "id": "2YWc4pROMxlc"
      },
      "source": [
        "## **Paired Samples**\n",
        "\n",
        "The distinguishing characteristic of paired samples is that, for each observation in the first group, there is a corresponding observation in the second group. In the technique known as **_self-pairing_**,  measurements are taken on a single subject at two distinct points in time. One common example of self-pairing is the “before and after” experiment, in which each individual is examined before a  treatment or intervention has been applied, and then again after the treatment has been completed. A second type of pairing occurs when an investigator matches the subjects in one group with those in a second group so that the members of a pair are as much alike as possible with respect to important characteristics such as age and sex.  \n",
        "\n",
        "Pairing is frequently employed in an attempt to control for extraneous sources of variation that might otherwise influence the results of the comparison. If measurements for two groups are made on the same subjects rather than different ones, a certain amount of biological variability is eliminated. We do not have to worry about the fact that one group is older than the other, or that one has more males and the other more females. This helps to make the comparison more precise.\n",
        "\n",
        "Consider a population of children with serious heart disease, who have all undergone surgery to correct a congenital defect. Many such children have been observed to have depressed exercise capacity. While this might be due to their heart condition, another contributory factor could be that their parents consider them to be excessively fragile, and therefore restrict their level of physical activity. Among children for whom exercise does not impose a health risk, participation in a rehabilitation program in a safe environment might increase exercise capacity, improving overall health.\n",
        "\n",
        ">(Pagano, Marcello; Gauvreau, Kimberlee; Mattie, Heather. Principles of Biostatistics (p. 227). CRC Press. Kindle Edition.)"
      ]
    },
    {
      "cell_type": "markdown",
      "metadata": {
        "id": "dqAAqTIzMxlc"
      },
      "source": [
        "### Example 1: Read Datafile\n",
        "\n",
        "The code in the cell below uses the Pandas function `pd.read_csv(filename)` to read the data file `PeakWork.csv` stored on the course HTTPS server https://biologicslab.co. As the file is read, it is stored in a Pandas DataFrame called `pwDF`.\n",
        "\n",
        "This file contains the data from the population of children with serious heart disease, who have all undergone surgery to correct a congenital defect and participated in a study involving physical activity as part of a rehabilitation program. This data will be used in many of the examples and exericsed in this lesson."
      ]
    },
    {
      "cell_type": "code",
      "execution_count": null,
      "metadata": {
        "id": "r_lqBReeMxlc"
      },
      "outputs": [],
      "source": [
        "# Example 1: Read datafile\n",
        "\n",
        "import pandas as pd\n",
        "\n",
        "# Read the datafile\n",
        "pwDF = pd.read_csv(\n",
        "    \"https://biologicslab.co/BIO5853/data/PeakWork.csv\",\n",
        "#    index_col=0,\n",
        "    sep=',',\n",
        "    na_values=['NA','?'])\n",
        "\n",
        "# Set max rows and max columns\n",
        "pd.set_option('display.max_rows', 6)\n",
        "pd.set_option('display.max_columns', 4)\n",
        "\n",
        "# Display DataFrame\n",
        "display(pwDF)"
      ]
    },
    {
      "cell_type": "markdown",
      "metadata": {
        "id": "tyY2lh-1Mxlc"
      },
      "source": [
        "If the code is correct, you should see the following table.\n",
        "\n",
        "![____](https://biologicslab.co/BIO5853/images/module_03/lesson_03_3_image03.png)"
      ]
    },
    {
      "cell_type": "markdown",
      "metadata": {
        "id": "m3EJd3sMMxlc"
      },
      "source": [
        "The output above shows the results of a study in which each patient underwent two exercise tests. This self-pairing eliminated any distortions or biases that might be have been introduced by comparing exercise capacity for two groups of patients who differ with respect to age, sex, or severity of heart disease. Because the data consist of paired samples, the paired _t_-test is the appropriate method of analysis.  "
      ]
    },
    {
      "cell_type": "markdown",
      "metadata": {
        "id": "e45JnQnZMxld"
      },
      "source": [
        "### **Exercise 1A: Read Datafile**\n",
        "\n",
        "In the cell below, use the Pandas function `pd.read_csv(filename)` to read a data file called `sf_36.csv` stored on the course HTTPS server https://biologicslab.co. As the file is read, store in a Pandas DataFrame called `sf36DF`.\n",
        "\n",
        "#### **Data Description**\n",
        "\n",
        "These data are the distributions of sf-36 mental component summary scores six months after liver transplantation for the populations of adult patients treated by usual care versus exercise and dietary counseling. The distributions are both approximately normal; denote the mean score of the usual care population by $/mu_1$ and the mean score of the population receiving counseling by $/mu_2$. The standard deviations of the two populations – σ1 and σ2 – are  unknown, but are assumed to be equal.\n",
        "\n",
        "_Code Hints:_\n",
        "\n",
        "1. You will need to uncomment the following line:\n",
        "~~~text\n",
        "    index_col=0,\n",
        "~~~\n",
        "Otherwise you can reuse the code in Example 1 'as is' after changing the name of the datafile and the DataFrame.\n"
      ]
    },
    {
      "cell_type": "code",
      "execution_count": null,
      "metadata": {
        "scrolled": true,
        "id": "Kps-aLDdMxld"
      },
      "outputs": [],
      "source": [
        "# Insert your code for Exercise 1A here\n",
        "\n"
      ]
    },
    {
      "cell_type": "markdown",
      "metadata": {
        "id": "Ny_9qjW9Mxld"
      },
      "source": [
        "If your code is correct, you should see the following output:\n",
        "\n",
        "![____](https://biologicslab.co/BIO5853/images/module_03/lesson_03_3_image15.png)"
      ]
    },
    {
      "cell_type": "markdown",
      "metadata": {
        "id": "AZSYXOJJMxld"
      },
      "source": [
        "### **Exercise 1B: Read Datafile**\n",
        "\n",
        "In the cell below, use the Pandas function `pd.read_csv(filename)` to read a data file called `Platelet.txt` stored on the course HTTPS server https://biologicslab.co. As the file is read, store in a Pandas DataFrame called `paDF`. To sucessfully read this text file, you will have to add the argument `sep='t'` as shown here:\n",
        "\n",
        "~~~text\n",
        "# Read the datafile\n",
        "paDF = pd.read_csv(\n",
        "    \"https://biologicslab.co/BIO5853/data/Platelet.txt\",\n",
        "    sep='\\t',\n",
        "    na_values=['NA','?'])\n",
        "~~~\n",
        "\n",
        "The argument `sep` species the how data in a text file is separated. In a `CSV` file, the separator is a comma `,` which is the default value for `sep`, so there is no need to define it. However in the file `Platelet.txt`, the separator is a tab which is specified as `'\\t'`.\n",
        "\n",
        "#### **Data Description**\n",
        "\n",
        "This data is from a clinical study on tobacco smoke effects on platelet function. In this study, it was hypothesized that the higher frequency of arterial thrombosis in cigarette smokers could be partially explained by increased platelet aggregation caused by smoking. To test this hypothesis, platelet aggregation was measured in each individual before (**\"Before\"**) and after (**\"After\"**) smoking a cigarette.  "
      ]
    },
    {
      "cell_type": "code",
      "execution_count": null,
      "metadata": {
        "id": "_ci8GHqSMxld"
      },
      "outputs": [],
      "source": [
        "# Insert your code for Exercise 1B here\n",
        "\n"
      ]
    },
    {
      "cell_type": "markdown",
      "metadata": {
        "id": "roear0VxMxld"
      },
      "source": [
        "If your code is correct, you should see the following table.\n",
        "\n",
        "![____](https://biologicslab.co/BIO5853/images/module_03/lesson_03_3_image17.png)"
      ]
    },
    {
      "cell_type": "markdown",
      "metadata": {
        "id": "v_85OqvvMxld"
      },
      "source": [
        "### Example 2: Paired-sample Plot\n",
        "\n",
        "Example 2 shows how to recreate **Figure 11.1** using Python.\n",
        "\n",
        "From your textbook on page 254\n",
        "\n",
        ">Consider a population of children with serious heart disease, who have all undergone surgery to correct a congenital defect. Many such children have been observed to have depressed exercise capacity. While this might be due to their heart condition, another contributory factor could be that their parents consider them to be excessively fragile, and therefore restrict their level of physical activity. Among children for whom exercise does not impose a health risk, participation in a rehabilitation  program in a safe environment might increase exercise capacity, improving overall health.\n",
        ">\n",
        ">In a study designed to examine this hypothesis, peak work rate – a measure of exercise intensity, defined as the maximum amount of energy expended on a standard laboratory bicycle test – was  measured for each child prior to the start of a 12-week exercise rehabilitation program, and then  again at the end of the program\n",
        ">\n",
        ">Rather than consider the two sets of observations to be distinct samples, we focus on the difference in measurements within each pair. The two measurements of peak work rate for _n_ = 16 children participating in a cardiac rehabilitation  program are shown in **Figure 11.1**.\n",
        "\n",
        "![____](https://biologicslab.co/BIO5853/images/module_03/lesson_03_3_image01.png)\n",
        "\n",
        "**FIGURE 11.1** Change in peak work rate from baseline to the end of a 12-week cardiac rehabilitation program for 16 children with serious congenital heart disease  "
      ]
    },
    {
      "cell_type": "code",
      "execution_count": null,
      "metadata": {
        "id": "TCjVddbmMxld"
      },
      "outputs": [],
      "source": [
        "# Example 2: Paired-sample plot\n",
        "\n",
        "import numpy as np\n",
        "import matplotlib.pyplot as plt\n",
        "\n",
        "\n",
        "# Create numpy arrays from DataFrame\n",
        "x1 = pwDF['Sample 1'].to_numpy()\n",
        "x2 = pwDF['Sample 2'].to_numpy()\n",
        "\n",
        "# Sample data\n",
        "data = np.array([x1 , x2])\n",
        "\n",
        "# Labels for the x-axis\n",
        "labels = ['Baseline', 'End of Program']\n",
        "\n",
        "# Create a figure and axis\n",
        "fig, ax = plt.subplots()\n",
        "\n",
        "# Plot each row of data\n",
        "for i in range(data.shape[1]):\n",
        "    ax.plot(labels, data[:, i],\n",
        "            markerfacecolor='white',\n",
        "            marker='o')\n",
        "\n",
        "# Set the y-axis limits\n",
        "ax.set_ylim(40, 200)\n",
        "\n",
        "# Add axis labels\n",
        "plt.xticks(fontsize=12)\n",
        "plt.ylabel('Peak work rate (watts)', fontsize=12)\n",
        "\n",
        "# Set custom y-axis tick locations and labels\n",
        "plt.yticks([50, 75, 100, 125, 150, 175, 200],\n",
        "           ['50', '75', '100', '125', '150', '175', '200'])\n",
        "\n",
        "# Show plat\n",
        "plt.show()\n"
      ]
    },
    {
      "cell_type": "code",
      "source": [],
      "metadata": {
        "id": "hlIRGaMDXLQg"
      },
      "execution_count": null,
      "outputs": []
    },
    {
      "cell_type": "markdown",
      "metadata": {
        "id": "WuMHXcXYMxle"
      },
      "source": [
        "If the code is correct, you should see the following plot.\n",
        "\n",
        "![____](https://biologicslab.co/BIO5853/images/module_03/lesson_03_3_image02.png)"
      ]
    },
    {
      "cell_type": "markdown",
      "metadata": {
        "id": "HhsS-CXXMxle"
      },
      "source": [
        "### **Exercise 2: Paired-sample Plot**\n",
        "\n",
        "In the cell below, create a Paired-sample plot of your Platelet data. Since your aren't trying to recreate a particular figure in a textbook, you can **_delete_** the following code chunk:\n",
        "\n",
        "~~~text\n",
        "# Set custom y-axis tick locations and labels\n",
        "plt.yticks([50, 75, 100, 125, 150, 175, 200],\n",
        "           ['50', '75', '100', '125', '150', '175', '200'])\n",
        "~~~\n",
        "\n",
        "You will also need to set your y-limits as follows:\n",
        "\n",
        "~~~text\n",
        "# Set the y-axis limits\n",
        "ax.set_ylim(20, 90)\n",
        "~~~"
      ]
    },
    {
      "cell_type": "code",
      "execution_count": null,
      "metadata": {
        "id": "Ps2irTulMxle"
      },
      "outputs": [],
      "source": [
        "# Insert your code for Exercise 2 here\n",
        "\n",
        "\n"
      ]
    },
    {
      "cell_type": "markdown",
      "metadata": {
        "id": "rACIOrX7Mxle"
      },
      "source": [
        "If your code is correct, you should see the following plot.\n",
        "\n",
        "![____](https://biologicslab.co/BIO5853/images/module_03/lesson_03_3_image12.png)"
      ]
    },
    {
      "cell_type": "markdown",
      "metadata": {
        "id": "yCmla-g6Mxle"
      },
      "source": [
        "### Example 3: Plot Histogram  \n",
        "\n",
        "The code in Example 3 shows how to use Python to recreate the histogram shown in **Figure 11.2** on page 257 in your textbook.\n",
        "\n",
        "![____](https://biologicslab.co/BIO5853/images/module_03/lesson_03_3_image05.png)"
      ]
    },
    {
      "cell_type": "code",
      "execution_count": null,
      "metadata": {
        "scrolled": true,
        "id": "AbH85oa1Mxle"
      },
      "outputs": [],
      "source": [
        "# Example 3: Plot\n",
        "\n",
        "import matplotlib.pyplot as plt\n",
        "import numpy as np\n",
        "\n",
        "# Define variables\n",
        "numBins=7\n",
        "color_1 = '#15466d' # Dark blue\n",
        "\n",
        "# Create numpy arrays from DataFrame\n",
        "x1 = pwDF['Sample 1'].to_numpy()\n",
        "x2 = pwDF['Sample 2'].to_numpy()\n",
        "\n",
        "# Compute the difference\n",
        "diff = x1 - x2\n",
        "\n",
        "# Set-up plot environment\n",
        "fig, ax = plt.subplots()\n",
        "\n",
        "# Plot histogram\n",
        "n, bins, patches = plt.hist(diff, numBins, density=False,\n",
        "                            facecolor=color_1,\n",
        "                            edgecolor=\"white\",\n",
        "                            alpha=1.0)\n",
        "# Turn off grid\n",
        "plt.grid(False)\n",
        "\n",
        "# Add axis labels\n",
        "plt.xticks(fontsize=12)\n",
        "plt.xlabel('Differences in peak work rate', fontsize=12)\n",
        "plt.ylabel('Number of children', fontsize=12)\n",
        "\n",
        "# Show plot\n",
        "plt.show()\n"
      ]
    },
    {
      "cell_type": "markdown",
      "metadata": {
        "id": "iHpSmUOrMxle"
      },
      "source": [
        "If the code is correct, you should see the following histogram:\n",
        "\n",
        "![____](https://biologicslab.co/BIO5853/images/module_03/lesson_03_3_image04.png)"
      ]
    },
    {
      "cell_type": "markdown",
      "metadata": {
        "id": "BXyCtaUoMxle"
      },
      "source": [
        "### **Exercise 3: Plot Histogram**  \n",
        "\n",
        "In the cell below, use Python to create a histogram of your platelet aggregation data in `paDF`."
      ]
    },
    {
      "cell_type": "code",
      "execution_count": null,
      "metadata": {
        "id": "keUfU0MgMxlf"
      },
      "outputs": [],
      "source": [
        "# Insert your code for Exercise 3 here\n",
        "\n",
        "\n"
      ]
    },
    {
      "cell_type": "markdown",
      "metadata": {
        "id": "93qPkPOaMxlf"
      },
      "source": [
        "If your code is correct, you should see the following histogram:\n",
        "\n",
        "![____](https://biologicslab.co/BIO5853/images/module_03/lesson_03_3_image13.png)"
      ]
    },
    {
      "cell_type": "markdown",
      "metadata": {
        "id": "e5cNclfLMxlf"
      },
      "source": [
        "As was seen above, in Figure **11.2**, the differences are symmetric and can be considered to come from an approximately normally distribution."
      ]
    },
    {
      "cell_type": "markdown",
      "metadata": {
        "id": "lhU2MyZuMxlf"
      },
      "source": [
        "### Example 4: Perform Paired-sample t-Test\n",
        "\n",
        "The code for performing a Paired-sample _t_-test is shown in the next cell. The code will be used to solve the problem shown on page 256 in your textbook.\n",
        "\n",
        ">We wish to test whether these two means are equal, we can write the null hypothesis as\n",
        "\n",
        "$$ H_0: δ = 0 $$  \n",
        "\n",
        ">and the alternative hypothesis as\n",
        "\n",
        "$$ H_A: δ \\not= 0. $$  \n",
        "\n",
        ">Assuming that the population of differences is normally distributed, H0 may be evaluated by computing the test statistic\n",
        "\n",
        "$$ t = \\frac{\\bar{d} - \\delta}{\\frac{s_d}{\\sqrt{n}}} $$  \n",
        "\n",
        "Pagano, Marcello; Gauvreau, Kimberlee; Mattie, Heather. Principles of Biostatistics (p. 256). CRC Press. Kindle Edition.\n"
      ]
    },
    {
      "cell_type": "code",
      "execution_count": null,
      "metadata": {
        "scrolled": true,
        "id": "omOrKhnKMxlf"
      },
      "outputs": [],
      "source": [
        "# Example 4: Paired-sample t-Test\n",
        "\n",
        "import numpy as np\n",
        "import scipy.stats as stats\n",
        "\n",
        "# Create numpy arrays from DataFrame\n",
        "x1 = pwDF['Sample 1'].to_numpy()\n",
        "x2 = pwDF['Sample 2'].to_numpy()\n",
        "\n",
        "# Compute the difference\n",
        "mean_diff = np.mean(x2 - x1)\n",
        "\n",
        "# Perform the paired sample t-test\n",
        "t_stat, p_value = stats.ttest_rel(x1, x2)\n",
        "\n",
        "print(\"----Performing Paired-Sample t-Test------\")\n",
        "print(f'Mean difference (d\\u0305): {mean_diff:.2f}')\n",
        "print(f'T-statistic: {t_stat:.2f}')\n",
        "print(f'P-value: {p_value:.5f}')\n"
      ]
    },
    {
      "cell_type": "markdown",
      "metadata": {
        "id": "dNBbB-sZMxlf"
      },
      "source": [
        "If the code is correct, you should see the following output:\n",
        "\n",
        "~~~text\n",
        "----Performing Paired-Sample t-Test------\n",
        "Mean difference (d̅): 12.50\n",
        "T-statistic: -5.67\n",
        "P-value: 0.00004\n",
        "~~~"
      ]
    },
    {
      "cell_type": "markdown",
      "metadata": {
        "id": "GeR-YAalMxlf"
      },
      "source": [
        "In your textbook, the mean difference ($\\bar{d}$) is shown as `12.00`. The value `12.50` watts shown in the output is due to small differences in the data used, not in the statistical code."
      ]
    },
    {
      "cell_type": "markdown",
      "metadata": {
        "id": "WjhuSDtaMxlf"
      },
      "source": [
        "### **Exercise 4: Perform Paired-sample t-Test**\n",
        "\n",
        "In the cell below, perform a paired-sample _t_-test on your platelet aggregation data stored in the DataFrame `paDF`. Let `x1` be the 'Before' data, and `x2` be the 'After' data."
      ]
    },
    {
      "cell_type": "code",
      "execution_count": null,
      "metadata": {
        "scrolled": true,
        "id": "S9IfOwo5Mxlf"
      },
      "outputs": [],
      "source": [
        "# Insert your code for Exercise 4 here\n",
        "\n"
      ]
    },
    {
      "cell_type": "markdown",
      "metadata": {
        "id": "VkVKL5AXMxlg"
      },
      "source": [
        "If your code is correct, you should see the following output:\n",
        "\n",
        "~~~text\n",
        "----Performing Paired-Sample t-Test------\n",
        "Mean difference (d̅): 10.27\n",
        "T-statistic: -4.27\n",
        "P-value: 0.00163\n",
        "~~~"
      ]
    },
    {
      "cell_type": "markdown",
      "metadata": {
        "id": "SO6fpGLDMxlg"
      },
      "source": [
        "At the 0.01 confidence level, we can reject the null hypothesis and conclude that the\n",
        "test result is statistically significant. In this case, we interpret this as a statistically\n",
        "significant relationship between smoking and platelet aggregation."
      ]
    },
    {
      "cell_type": "markdown",
      "metadata": {
        "id": "uA1FvTzeMxlj"
      },
      "source": [
        "![____](https://biologicslab.co/BIO5853/images/module_03/lesson_03_3_image06.png)"
      ]
    },
    {
      "cell_type": "markdown",
      "metadata": {
        "id": "89ArjaR0Mxlj"
      },
      "source": [
        "## **Independent Samples**\n",
        "\n",
        "Now suppose that we are interested in comparing health-related quality of life for two distinct populations of adults undergoing liver transplantation. After surgery, one group receives usual care, and the  other is treated with a combined intervention of exercise and dietary counseling. Six months after surgery, all patients complete the Medical Outcomes Study Short Form questionnaire (sf-36), which provides summary scores measuring both physical and mental health. The mental component  summary (mcs) score – which incorporates information about social functioning, limitations due to emotional problems, general mental health, and vitality – is scaled to have an approximately normal distribution in the general population. Higher scores indicate better health. In this study, the two underlying populations of mcs scores are independent. (For each observation in the first group, there is not a corresponding observation in the second group.) If the population of liver transplant patients treated by usual care has mean mcs score $\\mu_1$ and the population treated with exercise and dietary counseling has mean $\\mu_2$, we might again be interested in testing the null hypothesis that the two population means are identical.This can be expressed as either\n",
        "\n",
        "$$ H_0: \\mu_1 - \\mu_2 = 0 $$\n",
        "\n",
        "or  \n",
        "\n",
        "$$ H_0:  \\mu_1 = \\mu_2 $$\n",
        "\n",
        "The alternative hypothesis is  \n",
        "\n",
        "$$ H_A: \\mu_1 \\not= \\mu_2 = 0 $$\n",
        "\n",
        "or  \n",
        "\n",
        "$$ H_A: \\mu_1 \\not= \\mu_2.  $$\n",
        "\n",
        "From the population with mean $\\mu_1$ and standard deviation $\\sigma_1$ we draw a random sample of size $n_1$. The mean of this sample is denoted by $\\bar{x}_1$ and its standard deviation by $s_1$. Similarly, we  select a random sample of size $n_2$ from the population with mean $\\mu_2$ and standard deviation $\\sigma_2$. The mean of this sample is represented by $\\bar{x}_2$ and its standard deviation by $s_2$. Note that the numbers of observations in each sample – $n_1$ and $n_2$ – need not be the same.\n",
        "\n",
        "![____](https://biologicslab.co/BIO5853/images/module_03/lesson_03_3_image07.png)"
      ]
    },
    {
      "cell_type": "markdown",
      "metadata": {
        "id": "x0JvCB5-Mxlj"
      },
      "source": [
        "## **Equal Variance**\n",
        "\n",
        "We first consider the situation in which it is either known or is reasonable to assume that the two  population variances are identical. Recall that, for a single population with mean $\\mu$ and standard deviation $\\sigma$, the central limit theorem states that the sample mean $X$ is approximately normally  distributed – assuming that $n$ is large enough – with mean $\\mu$ and standard error $\\sqrt{\\frac{\\sigma^2}{n}} = \\frac{\\sigma}{\\sqrt{n}}\n",
        "$. As  a result,  \n",
        "\n",
        "$$ Z = \\frac{\\bar{X} - \\mu}{\\sigma / \\sqrt{n}} $$"
      ]
    },
    {
      "cell_type": "markdown",
      "metadata": {
        "id": "AZ9fxNj8Mxlj"
      },
      "source": [
        "## **Calculate Margin of Error: One-Sample z-test**\n",
        "\n",
        "If you happen to know the standard deviation $σ$ of the sampling distribution of the mean, you should use the **_one-sample z-test_** for hypothesis testing using this equation:\n",
        "\n",
        "$$ z = \\frac{\\bar{x} - \\mu}{\\sigma / \\sqrt{n}} $$\n",
        "\n",
        "is the outcome of a standard normal random variable. When we are dealing with samples from two independent populations, an extension of the central limit theorem says that the difference in sample means $\\bar{X}_1 − \\bar{X}_2$ is approximately normal with mean $\\mu_1 - \\mu_2$ and the standard error $\\sqrt{\\frac{\\sigma_1^2}{n_1} + \\frac{\\sigma_2^2}{n_2}}$\n",
        "\n",
        "\n",
        "The code in the Example 5 shows how to compute the margin of error for a One-sample z-test/"
      ]
    },
    {
      "cell_type": "markdown",
      "source": [
        "### Example 5 Calculate Margin of Error - One-sample Z-test\n",
        "\n"
      ],
      "metadata": {
        "id": "JEW4SII3QLsX"
      }
    },
    {
      "cell_type": "code",
      "execution_count": null,
      "metadata": {
        "id": "eD691UonMxlk"
      },
      "outputs": [],
      "source": [
        "# Example 5: Calculate margin of error\n",
        "\n",
        "import math\n",
        "\n",
        "# Define values\n",
        "mean = 92.06\n",
        "std_dev = 104.56\n",
        "n = 70\n",
        "confidence_level = 0.95\n",
        "\n",
        "# Z-score for 95% confidence level\n",
        "z_score = 1.96\n",
        "\n",
        "# Calculate the standard error\n",
        "standard_error = std_dev / math.sqrt(n)\n",
        "\n",
        "# Calculate the margin of error\n",
        "margin_of_error = z_score * standard_error\n",
        "\n",
        "# Calculate the confidence interval\n",
        "lower_bound = mean - margin_of_error\n",
        "upper_bound = mean + margin_of_error\n",
        "\n",
        "# Print the results\n",
        "print(\"----Solving Margin of Error-----------------------------\")\n",
        "print(f\"Mean (x\\u0305) = {mean:.2f}\")\n",
        "print(f\"Standard deviation (s) = {std_dev:.2f}\")\n",
        "print(f\"Sample size (n) = {n}.\")\n",
        "print(f\"95% Confidence Interval: ({lower_bound:.3f}, {upper_bound:.3f})\")\n",
        "print(f\"Margin of Error: {margin_of_error:.2f}\")\n"
      ]
    },
    {
      "cell_type": "markdown",
      "metadata": {
        "id": "c4cEY4iFMxlk"
      },
      "source": [
        "If the code is correct, you should see the following output:\n",
        "~~~text\n",
        "----Solving Margin of Error-----------------------------\n",
        "Mean (x̅) = 92.06\n",
        "Standard deviation (s) = 104.56\n",
        "Sample size (n) = 70.\n",
        "95% Confidence Interval: (67.565, 116.555)\n",
        "Margin of Error: 24.49\n",
        "~~~"
      ]
    },
    {
      "cell_type": "markdown",
      "metadata": {
        "id": "4rrIx3QlMxlk"
      },
      "source": [
        "### **Exercise 5: Compute Margin of Error**\n",
        "\n",
        "In the cell below, compute the margin of error for a population mean = `53.3`, a standard deviation = `7.8` with a sample size = `49` and a confidence level = `95%`."
      ]
    },
    {
      "cell_type": "code",
      "source": [
        "# Insert your code for Exercise 5 here\n",
        "\n",
        "\n"
      ],
      "metadata": {
        "id": "8VUsVCJ7Th6N"
      },
      "execution_count": null,
      "outputs": []
    },
    {
      "cell_type": "markdown",
      "source": [
        "If your code is correct, you should see the following output:\n",
        "\n",
        "~~~text\n",
        "----Solving Margin of Error-----------------------------\n",
        "Mean (x̅) = 53.30\n",
        "Standard deviation (s) = 7.80\n",
        "Sample size (n) = 49.\n",
        "95% Confidence Interval: (51.116, 55.484)\n",
        "Margin of Error: 2.18\n",
        "~~~"
      ],
      "metadata": {
        "id": "gVnUiowdUO6_"
      }
    },
    {
      "cell_type": "markdown",
      "metadata": {
        "id": "dFbrA9N4Mxlm"
      },
      "source": [
        "You will need to use these margin of errors computed in both Example 5 and **Exericse 5** in the next example/exerise pair below."
      ]
    },
    {
      "cell_type": "markdown",
      "metadata": {
        "id": "BKMMlp3AMxlm"
      },
      "source": [
        "### 95% Confidence Intevals\n",
        "\n",
        "**Figure 11.3** is a plot of 95% Confidence Intervals shown on page 262 in your textbook.\n",
        "\n",
        "![____](https://biologicslab.co/BIO5853/images/module_03/lesson_03_3_image14.png)\n",
        "\n",
        "**FIGURE 11.3**  95% confidence intervals for the mean sf-36 mental component summary (MCS) scores of liver  transplant patients undergoing usual postoperative care versus exercise and dietary counseling  "
      ]
    },
    {
      "cell_type": "markdown",
      "metadata": {
        "id": "QXu27w-MMxlm"
      },
      "source": [
        "### Example 6: Plot Confidence Intervals\n",
        "\n",
        "For Example 6 we will use Python to recreate **Figure 11.3**. You were asked to download and store the data for this figure in a DataFrame called `sf36DF` as part of **Exercise 1A**. Here is the output from the command `display(sf36DF)`\n",
        "\n",
        "![____](https://biologicslab.co/BIO5853/images/module_03/lesson_03_3_image15.png)\n",
        "\n",
        "As mentioned in **Exercise 1A** this is a summary of sf-36 mental component scores six months after liver transplantation for the populations of adult patients treated by usual care versus exercise and dietary counseling. The distributions are both approximately normal; denote the mean score of the usual care population by $/mu_1$ and the mean score of the population receiving counseling by $/mu_2$. The standard deviations of the two populations – σ1 and σ2 – are unknown, but are assumed to be equal.\n",
        "\n",
        "_Code Description:_\n",
        "\n",
        "Here is the code chunk that reads the `sf36DF` DataFrame and computes the mean values:\n",
        "\n",
        "~~~text\n",
        "# Read means and errors from dataframe\n",
        "means = sf36DF['m'].to_numpy()\n",
        "uppers = sf36DF['upper'].to_numpy()\n",
        "margin_of_errors = uppers - means\n",
        "~~~\n",
        "\n",
        "The difference between the upper bondary of the confidence interval and the mean is equal to the **_margin of error_**.\n"
      ]
    },
    {
      "cell_type": "code",
      "execution_count": null,
      "metadata": {
        "id": "_KDe45tfMxlm"
      },
      "outputs": [],
      "source": [
        "# Example 6: Plot 95% confidence intervals\n",
        "\n",
        "import matplotlib.pyplot as plt\n",
        "\n",
        "# Read means and errors from dataframe\n",
        "means = sf36DF['m'].to_numpy()\n",
        "uppers = sf36DF['upper'].to_numpy()\n",
        "margin_of_errors = uppers - means\n",
        "\n",
        "# Set color\n",
        "color_1 = '#15365d' # Dark blue\n",
        "\n",
        "# Set categories\n",
        "categories = ['Usual postoperative care', 'Exercise and dietary counseling']\n",
        "\n",
        "# Set positions\n",
        "positions = [1,2]\n",
        "\n",
        "# Set plot environment\n",
        "fig, ax = plt.subplots()\n",
        "\n",
        "# Plot error bars\n",
        "ax.errorbar(positions, means,\n",
        "             yerr=margin_of_errors, fmt='o',\n",
        "             capsize=5,\n",
        "             elinewidth=1,\n",
        "             ecolor=color_1,\n",
        "             markeredgecolor=color_1,\n",
        "             markerfacecolor='white',\n",
        "             markeredgewidth=1)\n",
        "\n",
        "# Labeling Axes\n",
        "plt.ylabel('Short form SF-36 MCS score')\n",
        "\n",
        "# Adjust the spacing between categories\n",
        "ax.set_xticks(positions,categories,fontsize=8)\n",
        "ax.set_xlim(0.2, 2.8)\n",
        "\n",
        "# Set Y-axis limits\n",
        "plt.ylim(46, 56)\n",
        "\n",
        "# Show plot\n",
        "plt.show()\n"
      ]
    },
    {
      "cell_type": "markdown",
      "metadata": {
        "id": "m0nacXiIMxlm"
      },
      "source": [
        "If the code is correct, you should see the following plot.\n",
        "\n",
        "![____](https://biologicslab.co/BIO5853/images/module_03/lesson_03_3_image09.png)"
      ]
    },
    {
      "cell_type": "markdown",
      "metadata": {
        "id": "tviCQGPqMxlm"
      },
      "source": [
        "### **Exercise 6: Plot 95% Confidence Intevals**\n",
        "\n",
        "In the cell below, plot the 95% Confidence Intervals for your platelet aggregation dataset.\n",
        "\n",
        "_Code Description:_\n",
        "\n",
        "The code below requires two sets of values: (1) the mean values of the \"before\" and \"after\" datasets.\n",
        "\n",
        "In **Exercise 6: Part 1** the code is provided for you. Run the cell and it will read the DataFrame `paDF` and compute the margin of error for the platelet aggregation data."
      ]
    },
    {
      "cell_type": "code",
      "execution_count": null,
      "metadata": {
        "id": "9WxZAiazMxlm"
      },
      "outputs": [],
      "source": [
        "# Exercise 6: Part 1: RUN THIS CODE\n",
        "\n",
        "import numpy as np\n",
        "\n",
        "# Create numpy arrays from DataFrame\n",
        "x1 = paDF['Before'].to_numpy()\n",
        "x2 = paDF['After'].to_numpy()\n",
        "\n",
        "# Compute means\n",
        "mean_1 = np.mean(x1)\n",
        "mean_2 = np.mean(x2)\n",
        "\n",
        "# Compute standard deviations\n",
        "std_1 = np.std(x1)\n",
        "std_2 = np.std(x2)\n",
        "\n",
        "# Determine sample size\n",
        "n = x1.size\n",
        "\n",
        "# Calculate the standard error\n",
        "SE_1 = std_1 / np.sqrt(n)\n",
        "SE_2 = std_2 / np.sqrt(n)\n",
        "\n",
        "# Z-score for 95% confidence interval\n",
        "Z = 1.96\n",
        "\n",
        "# Calculate the margin of error\n",
        "ME_1 = Z * SE_1\n",
        "ME_2 = Z * SE_2\n",
        "\n",
        "# Calculate the confidence interval\n",
        "CI_lower_1 = mean_1 - ME_1\n",
        "CI_upper_1 = mean_1 + ME_1\n",
        "CI_lower_2 = mean_2 - ME_2\n",
        "CI_upper_2 = mean_2 + ME_2\n",
        "\n",
        "# Print the results\n",
        "print(\"----Solving Margin of Error-----------------------------\")\n",
        "print(f\"Mean 1 (x\\u0305) = {mean_1:.2f}\")\n",
        "print(f\"Mean 2 (x\\u0305) = {mean_2:.2f}\")\n",
        "print(f\"Standard deviation 1 (s) = {std_1:.2f}\")\n",
        "print(f\"Standard deviation 2 (s) = {std_1:.2f}\")\n",
        "print(f\"95% Confidence Interval 1: ({CI_lower_1:.2f}, {CI_upper_1:.2f})\")\n",
        "print(f\"95% Confidence Interval 2: ({CI_lower_2:.2f}, {CI_upper_2:.2f})\")\n",
        "print(f\"Margin of Error 1: = {mean_1 - CI_lower_1:.2f}\")\n",
        "print(f\"Margin of Error 2: = {mean_2 - CI_lower_2:.2f}\")"
      ]
    },
    {
      "cell_type": "markdown",
      "source": [
        "If the code is correct, you should see the following output:\n",
        "\n",
        "~~~text\n",
        "----Solving Margin of Error-----------------------------\n",
        "Mean 1 (x̅) = 42.18\n",
        "Mean 2 (x̅) = 52.45\n",
        "Standard deviation 1 (s) = 14.89\n",
        "Standard deviation 2 (s) = 14.89\n",
        "95% Confidence Interval 1: (33.38, 50.98)\n",
        "95% Confidence Interval 2: (42.14, 62.77)\n",
        "Margin of Error 1: = 8.80\n",
        "Margin of Error 2: = 10.31\n",
        "~~~\n"
      ],
      "metadata": {
        "id": "oOA1gKx3WK86"
      }
    },
    {
      "cell_type": "markdown",
      "metadata": {
        "id": "s3NU6rboMxln"
      },
      "source": [
        "Now that you have calculated the two mean values (`Mean 1`) and (`Mean 2`) and the two margin of error (`Margin of Error 1`, `Margin of Error 2`), you can manually enter them into your code cell below.\n",
        "\n",
        "You will need to change this code chunk from Example 6:\n",
        "\n",
        "~~~text\n",
        "# Read means and errors from dataframe\n",
        "means = sf36DF['m'].to_numpy()\n",
        "uppers = sf36DF['upper'].to_numpy()\n",
        "margin_of_errors = uppers - means\n",
        "~~~\n",
        "\n",
        "In other words, instead of reading these values from a DataFrame, use the output above and manually enter the values."
      ]
    },
    {
      "cell_type": "code",
      "execution_count": null,
      "metadata": {
        "id": "zqotvuO9Mxln"
      },
      "outputs": [],
      "source": [
        "# Insert your code for Exercise 6 here\n",
        "\n"
      ]
    },
    {
      "cell_type": "markdown",
      "metadata": {
        "id": "OXD0UaJKMxln"
      },
      "source": [
        "If your code is correct, you should see the following plot.\n",
        "\n",
        "![____](https://biologicslab.co/BIO5853/images/module_03/lesson_03_3_image16.png)"
      ]
    },
    {
      "cell_type": "markdown",
      "metadata": {
        "id": "HmS9GOZZMxln"
      },
      "source": [
        "By visual inspection you can see considerable overlap in the error bars between the 'Before' and 'After' measurements. This would suggest that the two group means are **_not_** significantly different, but you would need to perform a two sample t-test to confirm this conclusion."
      ]
    },
    {
      "cell_type": "markdown",
      "metadata": {
        "id": "T76qgeUnMxln"
      },
      "source": [
        "## **Unequal Variance**\n",
        "\n",
        "We now turn to the situation in which the variances of the two populations are not assumed to be  equal. In this case, a modified version of the two-sample t-test – sometimes called Welch’s t-test –  must be applied. Instead of using s 2  p as an estimate of the common variance σ 2, we substitute s 2  1  for σ 2  1 and s 2  2 for σ 2  2. Therefore, the appropriate test statistic is  t  =  (x¯1 − x¯2) − (µ1 − µ2)  q  (s  2  1 /n1) + (s 2  2 /n2)  .\n",
        "\n",
        "\n",
        "$$ z = \\frac{\\bar{x} - \\mu}{\\frac{\\sigma}{\\sqrt{n}}} $$\n",
        "\n",
        "$$ Z = \\frac{\\bar{X} - \\mu}{\\sigma / \\sqrt{n}} $$\n",
        "\n",
        "has an approximate standard normal distribution if the value of _n_ is sufficiently large. For a given  sample with mean $\\bar{x}$, we can calculate the corresponding outcome of $Z$, called the test statistic. We can then use a computer program to determine the probability of obtaining a value of Z that is as extreme or more extreme than the one observed. By “more extreme,” we mean farther away from $µ_0$ in the direction of the alternative hypothesis. Because it relies on the standard normal distribution, a test of this kind is called a **_one-sample z-test_**.  \n",
        "\n",
        "When the population standard deviation is not known, we substitute the sample value $s$ for $σ$. If the underlying population is normally distributed, the random variable  \n",
        "\n",
        "$$ t = \\frac{\\bar{X} - \\mu_0}{s / \\sqrt{n}} $$\n",
        "\n",
        "has a _t_ distribution with n − 1 degrees of freedom. In this case, we can calculate the outcome of _t_  corresponding to a given $\\bar{x}$ and consult our computer program to find the probability of obtaining a sample mean that is more extreme than the one observed. This procedure is known as a **_one-sample t-test_**.\n",
        "\n",
        "(Pagano, Marcello; Gauvreau, Kimberlee; Mattie, Heather. Principles of Biostatistics (p. 230). CRC Press. Kindle Edition.)\n"
      ]
    },
    {
      "cell_type": "markdown",
      "metadata": {
        "id": "Af38TrWrMxln"
      },
      "source": [
        "## **Sample Size Estimate for Two Means**\n",
        "\n",
        "The method developed in Chapter 10 for determining the sample size necessary to achieve a certain power when conducting a one-sample hypothesis test for a mean can be extended for two-sample tests on means. The specific formula used depends on whether we are working with paired or independent samples. Considering paired samples first, return to the study of children with serious heart disease who participated in a 12-week exercise rehabilitation program. We conducted a paired _t_-test to evaluate the null hypothesis that $\\delta$, the mean difference in peak work rate from baseline to the end  of the program, is equal to 0. The alternative hypothesis was that $\\delta$ is not equal to $\\theta$ 0. When planning this study, before collecting any data, the investigators might have wished to determine the sample size necessary to provide 80% power to reject the null hypothesis if the true mean difference was as high as 6 watts. Recall that 80% power means that if the null hypothesis is false, the probability is `0.80` that it will be rejected. For a one-sample test, two-sided test on a mean, the formula for calculating sample size is  \n",
        "\n",
        "$$ n = \\left( \\frac{(Z_{1-\\alpha/2} + Z_{1-\\beta}) \\cdot \\sigma}{\\mu_1 - \\mu_0} \\right)^2 $$\n",
        "\n",
        "Where:\n",
        "\n",
        "* $Z_{1-\\alpha/2}$ is the Z-score for the desired confidence level.\n",
        "* $Z_{1-\\beta}$ is the Z-score for the desired power.\n",
        "* $\\sigma$ is the standard deviation.\n",
        "* $\\mu_1 - \\mu_0$ is the difference in means.\n"
      ]
    },
    {
      "cell_type": "markdown",
      "metadata": {
        "id": "qasTb6EEMxln"
      },
      "source": [
        "### Example 7: Compute minimum sample size - One-Sample Test\n",
        "\n",
        "The code in the cell below provides a Python program that you can use to compute the minimum sample size for a **_one-sample test_**. It requires the 4 specific values shown above:\n",
        "\n",
        "1. $Z_{1-\\alpha/2}$ is the Z-score for the desired confidence level.\n",
        "2. $Z_{1-\\beta}$ is the Z-score for the desired power.\n",
        "3. $\\sigma$ is the standard deviation.\n",
        "4.  $\\mu_1 - \\mu_0$ is the difference in means.\n",
        "\n",
        "The four values used in Example 7 were taken from the example on page 266 in your textbook."
      ]
    },
    {
      "cell_type": "code",
      "execution_count": null,
      "metadata": {
        "scrolled": true,
        "id": "MllEIcF-Mxln"
      },
      "outputs": [],
      "source": [
        "# Example 7: Compute minimum sample size- One-sample test\n",
        "\n",
        "import math\n",
        "from scipy.stats import norm\n",
        "\n",
        "# Define parameters\n",
        "alpha = 0.05  # Z-score for the desired confidence level\n",
        "power = 0.8   # Z-score for the desired power.\n",
        "sigma = 9.0  # standard deviation\n",
        "delta = 6.0   # difference in means\n",
        "\n",
        "def calculate_sample_size(alpha, power, sigma, delta):\n",
        "    # Z-score for the desired confidence level (1 - alpha/2)\n",
        "    z_alpha = norm.ppf(1 - alpha / 2)\n",
        "\n",
        "    # Z-score for the desired power (1 - beta)\n",
        "    z_beta = norm.ppf(power)\n",
        "\n",
        "    # Calculate the sample size\n",
        "    n = ((z_alpha + z_beta) * sigma / delta) ** 2\n",
        "\n",
        "    return math.ceil(n)\n",
        "\n",
        "# Example parameters\n",
        "alpha = 0.05  # Z-score for the desired confidence level\n",
        "power = 0.8   # Z-score for the desired power.\n",
        "sigma = 9.0  # standard deviation\n",
        "delta = 6.0   # difference in means\n",
        "\n",
        "sample_size = calculate_sample_size(alpha, power, sigma, delta)\n",
        "\n",
        "print(\"----Solving Sample Size-----------------------------\")\n",
        "print(f\"Significance level = {alpha:.2f}\")\n",
        "print(f\"Power = {power:.2f}\")\n",
        "print(f\"Standard deviation = {sigma:.2f}\")\n",
        "print(f\"Difference in means = {delta:.2f}\")\n",
        "print(f\"Minimum sample size = {sample_size}\")\n"
      ]
    },
    {
      "cell_type": "markdown",
      "metadata": {
        "id": "9plg-Nm_Mxln"
      },
      "source": [
        "If the code is correct, you should see the following output:\n",
        "\n",
        "~~~text\n",
        "----Solving Sample Size-----------------------------\n",
        "Significance level = 0.05\n",
        "Power = 0.80\n",
        "Standard deviation = 9.00\n",
        "Difference in means = 6.00\n",
        "Minimum sample size = 18\n",
        "~~~"
      ]
    },
    {
      "cell_type": "markdown",
      "metadata": {
        "id": "QYV6KeoBMxln"
      },
      "source": [
        "You should note that `Minimum sample size = 18` is exactly the same result computed in your textbook on page 266:\n",
        "\n",
        ">A sample of 18 children is needed to achieve 80% power."
      ]
    },
    {
      "cell_type": "markdown",
      "metadata": {
        "id": "JKnt7eUrMxlo"
      },
      "source": [
        "### Example 8: Compute minimum sample size - Two-sample Test\n",
        "\n",
        "The code in the cell below can be used to solve a Two-sample test using the following equation:\n",
        "\n",
        "$$ n = \\frac{(\\bar{x}_1 - \\bar{x}_2 \\pm z_{\\alpha/2}\\sqrt{\\frac{\\sigma_1^2}{n_1} + \\frac{\\sigma_2^2}{n_2}})^2}{(\\mu_1 - \\mu_2)^2} $$\n",
        "\n",
        ">For the study investigating the effects of antihypertensive drug treatment on adults over the age of 60 suffering from isolated systolic hypertension, suppose that the investigators believed they would see an 8 mm Hg difference in systolic blood pressure between those receiving active drug and those receiving placebo. If this were true, we might want to have 90% power to detect a difference of this magnitude using a two-sided test conducted at the 0.05 level of significance. Although it is not required that the two population standard deviations be the same, we assume that $\\sigma_1 = \\sigma_2  = 20 \\text { mm  Hg}. $"
      ]
    },
    {
      "cell_type": "code",
      "execution_count": null,
      "metadata": {
        "id": "RcL1L0RtMxlo"
      },
      "outputs": [],
      "source": [
        "# Example 8: Compute sample size = Two-sample test\n",
        "\n",
        "import scipy.stats as stats\n",
        "\n",
        "# Define values\n",
        "alpha = 0.05\n",
        "beta = 0.10\n",
        "std_dev1 = 20  # σ₁ example value\n",
        "std_dev2 = 20  # σ₂ example value\n",
        "mean_diff = 8  # (μ₁ - μ₂) example value\n",
        "\n",
        "# Calculate z-scores from alpha and beta\n",
        "z_alpha_half = stats.norm.ppf(1 - alpha / 2)\n",
        "z_beta = stats.norm.ppf(1 - beta)\n",
        "\n",
        "# Calculate n using the given formula\n",
        "nominator = ((z_alpha_half + z_beta)**2 * (std_dev1**2 + std_dev2**2))\n",
        "denominator = mean_diff**2\n",
        "\n",
        "# Compute sample size\n",
        "sample_size_n = nominator / denominator\n",
        "\n",
        "print(\"----Solving Sample Size-----------------------------\")\n",
        "print(f\"Significance level = {alpha:.2f}\")\n",
        "print(f\"Power = {1-beta:.2f}\")\n",
        "print(f\"Standard deviation 1 = {std_dev1:.2f}\")\n",
        "print(f\"Standard deviation 2 = {std_dev2:.2f}\")\n",
        "print(f\"Difference in means = {mean_diff:.2f}\")\n",
        "print(f\"Minimum sample size = {sample_size_n:.1f}\")\n",
        "#print(f\"The required sample size n is: {sample_size_n}\")\n"
      ]
    },
    {
      "cell_type": "markdown",
      "metadata": {
        "id": "CWCSmIMEMxlo"
      },
      "source": [
        "If the code is correct, you should see the following output:\n",
        "\n",
        "~~~text\n",
        "----Solving Sample Size-----------------------------\n",
        "Significance level = 0.05\n",
        "Power = 0.90\n",
        "Standard deviation 1 = 20.00\n",
        "Standard deviation 2 = 20.00\n",
        "Difference in means = 8.00\n",
        "Minimum sample size = 131.3\n",
        "~~~"
      ]
    },
    {
      "cell_type": "markdown",
      "metadata": {
        "id": "ug5e32evMxlo"
      },
      "source": [
        "You should note that `Minimum sample size = 131.3` is the same result computed in your textbook on page 267:\n",
        "\n",
        ">In order to achieve 90% power, 132 adults would be required in each of the two groups, for a total sample size of 264."
      ]
    },
    {
      "cell_type": "markdown",
      "metadata": {
        "jp-MarkdownHeadingCollapsed": true,
        "id": "qwnC1AhGMxlo"
      },
      "source": [
        "## **Lesson Turn-in**\n",
        "\n",
        "When you have completed and run all of the code cells, create a PDF of your notebook and upload the **_PDF_** to your Lesson_03_3 assignment in Canvas for grading.\n"
      ]
    }
  ],
  "metadata": {
    "kernelspec": {
      "display_name": "Python 3.9 (biostats)",
      "language": "python",
      "name": "biostats"
    },
    "language_info": {
      "codemirror_mode": {
        "name": "ipython",
        "version": 3
      },
      "file_extension": ".py",
      "mimetype": "text/x-python",
      "name": "python",
      "nbconvert_exporter": "python",
      "pygments_lexer": "ipython3",
      "version": "3.9.19"
    },
    "colab": {
      "provenance": [],
      "include_colab_link": true
    }
  },
  "nbformat": 4,
  "nbformat_minor": 0
}