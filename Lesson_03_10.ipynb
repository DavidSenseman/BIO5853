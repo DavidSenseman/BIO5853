{
  "cells": [
    {
      "cell_type": "markdown",
      "metadata": {
        "id": "view-in-github",
        "colab_type": "text"
      },
      "source": [
        "<a href=\"https://colab.research.google.com/github/DavidSenseman/BIO5853/blob/main/Lesson_03_10.ipynb\" target=\"_parent\"><img src=\"https://colab.research.google.com/assets/colab-badge.svg\" alt=\"Open In Colab\"/></a>"
      ]
    },
    {
      "cell_type": "markdown",
      "metadata": {
        "id": "5fMJllh9ess1"
      },
      "source": [
        "---------------------------\n",
        "\n",
        "**COPYRIGHT NOTICE:** This Jupyterlab/Colab notebook is a companion supplement to the textbook _Principles of Biostatistics_ by M. Pagano. K. Marcello and H. Mattie (3rd ed) published in 2022 by CRC Press. It is designed to be used in conjunction with -- not as a standalone substitute for – this textbook.  \n",
        "\n",
        "This notebook is licensed under the Apache License, Version 2.0 (the \"License\"); You may not use this file except in compliance with the License. You may obtain a copy of the License at\n",
        ">http://www.apache.org/licenses/LICENSE-2.0\n",
        "\n",
        "Unless required by applicable law or agreed to in writing, software distributed under the License is distributed on an \"AS IS\" BASIS, WITHOUT WARRANTIES OR CONDITIONS OF ANY KIND, either express or implied. See the License for the specific language governing permissions and limitations under the License.\n",
        "\n",
        "------------------------"
      ]
    },
    {
      "cell_type": "markdown",
      "metadata": {
        "id": "oDlBiNhIess1"
      },
      "source": [
        "# **BIO 5853: Biostatistics**"
      ]
    },
    {
      "cell_type": "markdown",
      "metadata": {
        "jp-MarkdownHeadingCollapsed": true,
        "id": "-FM_an4qess1"
      },
      "source": [
        "##### **Module 3: Inference**\n",
        "\n",
        "* Instructor: [David Senseman](mailto:David.Senseman@utsa.edu), [Department of Integrative Biology](https://sciences.utsa.edu/integrative-biology/), [UTSA](https://www.utsa.edu/)\n",
        "\n",
        "\n",
        "### Module 3 Material\n",
        "\n",
        "* Part 3.1: Confidence Intervals\n",
        "* Part 3.2: Hypothesis Testing\n",
        "* Part 3.3: Comparison of Two Means\n",
        "* Part 3.4: Analysis of Variance (ANOVA)\n",
        "* Part 3.5: Nonparametric Methods\n",
        "* Part 3.6: Inference on Proportions\n",
        "* Part 3.7: Contingency Tables\n",
        "* Part 3.8: Correlation\n",
        "* Part 3.9: Simple Linear Regression\n",
        "* **Part 3.10: Multiple Linear Regression**\n",
        "* Part 3.11: Logistic Regression\n",
        "* Part 3.12: Survival Analysis"
      ]
    },
    {
      "cell_type": "markdown",
      "metadata": {
        "id": "yKQylnEiLDUM"
      },
      "source": [
        "## Google CoLab Instructions\n",
        "\n",
        "The following code ensures that Google CoLab is running the correct version of TensorFlow.\n",
        "  Running the following code will map your GDrive to ```/content/drive```."
      ]
    },
    {
      "cell_type": "code",
      "execution_count": null,
      "metadata": {
        "id": "seXFCYH4LDUM"
      },
      "outputs": [],
      "source": [
        "# YOU MUST RUN THIS CODE CELL FIRST\n",
        "\n",
        "try:\n",
        "    from google.colab import drive\n",
        "    drive.mount('/content/drive', force_remount=True)\n",
        "    from google.colab import auth\n",
        "    auth.authenticate_user()\n",
        "    COLAB = True\n",
        "    print(\"Note: using Google CoLab\")\n",
        "    import requests\n",
        "    gcloud_token = !gcloud auth print-access-token\n",
        "    gcloud_tokeninfo = requests.get('https://www.googleapis.com/oauth2/v3/tokeninfo?access_token=' + gcloud_token[0]).json()\n",
        "    print(gcloud_tokeninfo['email'])\n",
        "except:\n",
        "    print(\"Note: not using Google CoLab\")\n",
        "    COLAB = False"
      ]
    },
    {
      "cell_type": "markdown",
      "metadata": {
        "id": "tLr-0ZCZess3"
      },
      "source": [
        "# **Part 3.10: Multiple Linear Regression**\n",
        "\n",
        "**_Multiple linear regression_** is a statistical technique used to understand the relationship between one dependent variable and two or more independent variables. Essentially, it helps in predicting the value of the dependent variable based on the values of the independent variables. It does this by fitting a linear equation to the observed data. Here is the equation for multiple linear regression:\n",
        "\n",
        "$$ y = \\beta_0 + \\beta_1 x_1 + \\beta_2 x_2 + \\cdots + \\beta_q x_q + \\epsilon $$\n",
        "\n",
        "where:\n",
        "\n",
        "* *$y$* is the dependent variable.\n",
        "* *$\\beta_0$* is the y-intercept.\n",
        "* *$\\beta_1, \\beta_2 \\cdots , \\beta_q$* are the coefficients.\n",
        "* *$x_1, x_2,\\cdots, x_q$* are the independent variables.\n",
        "* *$\\epsilon_1$* is the error term.\n",
        "\n",
        "#### **Importance for Biostatistics**\n",
        "\n",
        "* **Predictive Modeling:** Helps predict outcomes (e.g., predicting disease risk based on an exposure level).\n",
        "* **Adjusting for Confounders:** Controls for confounding variables, isolating the effect of interest.\n",
        "* **Understanding Complex Relationships:** Models complex interactions between variables, crucial in understanding multifactorial diseases.\n",
        "* **Statistical Power:** Increases the power of statistical tests by utilizing more information."
      ]
    },
    {
      "cell_type": "markdown",
      "metadata": {
        "id": "HjLeqyq5ess3"
      },
      "source": [
        "### **Introduction**\n",
        "\n",
        "In the preceding chapter, we saw how simple linear regression can be used to explore the nature of the relationship between two continuous random variables. In particular, it allows us to predict the value of a response or outcome that corresponds to a given value of an explanatory variable. If knowing the value of a single explanatory variable improves our ability to predict the response, however, we might suspect that additional explanatory variables could be used to our advantage. To investigate the more complicated relationship among a number of different variables, we use a natural extension of simple linear regression known as **_multiple linear regression_**, or **_multivariable linear regression_**.\n",
        "\n",
        "\n"
      ]
    },
    {
      "cell_type": "markdown",
      "metadata": {
        "id": "ZDZEBjJqess4"
      },
      "source": [
        "## **Datasets for this Lesson**\n",
        "\n",
        "In this lesson we will be using 3 datasets that we need to download from the course file server and store in DataFrames."
      ]
    },
    {
      "cell_type": "markdown",
      "metadata": {
        "id": "ASdq50kdess4"
      },
      "source": [
        "### Example 1: Read Datafile\n",
        "\n",
        "We will be using a datafile called `lowbwt_hc.csv` stored on the course HTTPS server. As the file is read, the data is stored in a DataFrame called `bwtDF`.\n",
        "\n",
        "_Data Description:_\n",
        "\n",
        "This file contains head circumference measurements in cm for a population of low birth weight infants--defined as those weighing less than 1500 gms--born in two teaching hospitals in Boston, Massachusetts. The mean head circumference for the infants in this population is\n",
        "\n",
        "$$ \\mu_y = 27.0 cm $$"
      ]
    },
    {
      "cell_type": "code",
      "execution_count": null,
      "metadata": {
        "scrolled": true,
        "id": "8C7s4ZNzess4"
      },
      "outputs": [],
      "source": [
        "# Example 1: Read datafile\n",
        "\n",
        "import pandas as pd\n",
        "\n",
        "# Read datafile and create DataFrame\n",
        "bwtDF = pd.read_csv(\n",
        "    \"https://biologicslab.co/BIO5853/data/lowbwt_hc.csv\",\n",
        "    index_col=0,\n",
        "    sep=',',\n",
        "    na_values=['NA','?'])\n",
        "\n",
        "# Set max rows and max columns\n",
        "pd.set_option('display.max_rows', 6)\n",
        "pd.set_option('display.max_columns', 10)\n",
        "\n",
        "# Display DataFrame\n",
        "display(bwtDF)"
      ]
    },
    {
      "cell_type": "markdown",
      "metadata": {
        "id": "x-FaGkSTess4"
      },
      "source": [
        "If the code is correct, you should see the following output:\n",
        "\n",
        "![____](https://biologicslab.co/BIO5853/images/module_03/lesson_03_10_image01.png)"
      ]
    },
    {
      "cell_type": "markdown",
      "metadata": {
        "id": "Ritlw00Yess4"
      },
      "source": [
        "This dataset is an expanded version of the dataset used in Lesson_03_9. In addition to the columns `headcirc`, `gestage`, and `birthwt`, this dataset also contains information about the infant's length (`length`), the mother's age (`momage`) and the column `preeclamp`, which indicates whether, or not, the mother experienced **_preeclampsis_** during her pregnancy. _Preeclampsia_ is a pregnancy complication characterized by high blood pressure and signs of damage to other organs, most often the kidneys. It usually begins after 20 weeks of pregnancy in women whose blood pressure had previously been normal. If left untreated, preeclampsia can lead to serious complications for both the mother and baby, including fetal growth restriction, preterm birth, and even seizures in the mother (a condition known as eclampsia).\n",
        "\n",
        "You should also note that this dataset does not contain the column `count`. We will have to write our own code to compute the number of times the same values for `headcirc` and `gestage` were recorded. As you should recall, the `count` value will be used below to change the marker size in scatterplots of this dataset."
      ]
    },
    {
      "cell_type": "markdown",
      "metadata": {
        "id": "kdEsnUzhess5"
      },
      "source": [
        "### **Exercise 1: Read Datafile**\n",
        "\n",
        "In the cell below, use the Pandas function `pd.read_csv(filename)` to read a data file called `birthwt.txt` stored on the course HTTPS server. As the file is read, store it in a new Pandas DataFrame called `smokeDF`.\n",
        "\n",
        "_Code Notes:_\n",
        "\n",
        "In order to read this file correctly, you must make two code changes:\n",
        "\n",
        "1. Comment out the line `index_col=0,`\n",
        "2. Change the argument `sep` from a comma `','` to a space `' ' `.\n",
        "\n",
        "_Data Description:_\n",
        "\n",
        "The `birthwt` dataset from the MASS package is used to study risk factors associated with low infant birth weight. Here's a brief description of the dataset:\n",
        "\n",
        "**Description:**\n",
        "- **Source**: The data was collected at Baystate Medical Center in Springfield, Massachusetts, during 1986.\n",
        "- **Rows and Columns**: The dataset contains **189 rows** and **10 columns**.\n",
        "- **Purpose**: The goal was to identify factors that contribute to low birth weight in infants.\n",
        "\n",
        "**Columns:**\n",
        "1. **low**: Indicator of birth weight less than 2.5 kg (0 = no, 1 = yes).\n",
        "2. **age**: Mother's age in years.\n",
        "3. **lwt**: Mother's weight in pounds at the last menstrual period.\n",
        "4. **race**: Mother's race (1 = white, 2 = black, 3 = other).\n",
        "5. **smoke**: Smoking status during pregnancy (0 = no, 1 = yes).\n",
        "6. **ptl**: Number of previous premature labors.\n",
        "7. **ht**: History of hypertension (0 = no, 1 = yes).\n",
        "8. **ui**: Presence of uterine irritability (0 = no, 1 = yes).\n",
        "9. **ftv**: Number of physician visits during the first trimester.\n",
        "10. **bwt**: Birth weight in grams.\n",
        "\n",
        "\n"
      ]
    },
    {
      "cell_type": "code",
      "execution_count": null,
      "metadata": {
        "id": "tYKjts4Gess5"
      },
      "outputs": [],
      "source": [
        "# Insert your code for Exercise 1 here\n",
        "\n"
      ]
    },
    {
      "cell_type": "markdown",
      "metadata": {
        "id": "i5BgapzOess5"
      },
      "source": [
        "If your code is correct, you should see the following output:\n",
        "\n",
        "![____](https://biologicslab.co/BIO5853/images/module_03/lesson_03_10_image02.png)"
      ]
    },
    {
      "cell_type": "markdown",
      "metadata": {
        "id": "D0MEE-DGess5"
      },
      "source": [
        "**WARNING:** If your output doesn't look **_exactly_** like this, it probably means that you didn't change the `sep` argument. Don't proceed until you have correctly read this file.\n",
        "\n",
        "If you don't correct the error, most of your **Exercises** in this lesson will produce errors."
      ]
    },
    {
      "cell_type": "markdown",
      "metadata": {
        "id": "SJbcMwLTess6"
      },
      "source": [
        "## **The Model**\n",
        "\n",
        "Using multiple linear regression analysis, we estimate the population equation\n",
        "\n",
        "$$ \\mu_{y|x_1, x_2, \\ldots, x_q} = \\beta_0 + \\beta_1 x_1 + \\beta_2 x_2 + \\cdots + \\beta_q x_q $$\n",
        "\n",
        "where $x_1, x_2 \\cdots$ and $x_q$ are the outcomes of $q$ distinct explanatory variables $X_q, X_q,\\cdots$ and $X_q$ and $\\mu_{y|x_1, x_2, \\cdots, x_q}$ is the mean value of $y$ when the explanatory variables assume these particular values. That parameters $\\beta_1, \\beta_2 \\cdots$ and $\\beta_q$ are constants and coefficients of the equation. Mathematically, the y-intercept $\\beta_0$ is the mean value of the response $y$ when all the explanatory variables take the value `0` or $\\mu_{y|0,0,...,0}$. The slope $\\beta_i$ is the change in the mean value of $y$ that corresponds to a one unit increase in $x_i$ given that all other explanatory variables in the model remain constant.\n",
        "\n",
        "To accomodate the natural variation in measures of the response--we do not expect all subjects with the same values of the explanatory variables to have exactly the same outcome--we actually fit a model of the form\n",
        "\n",
        "$$ y = \\beta_0 + \\beta_1 x_1 + \\beta_2 x_2 + \\cdots + \\beta_q x_q + \\epsilon $$"
      ]
    },
    {
      "cell_type": "markdown",
      "metadata": {
        "id": "W6hBNrVSess6"
      },
      "source": [
        "#### **Least Squares Regression Equation**\n",
        "\n",
        "To estimate the population regression equation, we use the method of least squares to fit the model\n",
        "\n",
        "$$ \\hat{y} = \\hat{\\beta}_0 + \\hat{\\beta}_1 x_1 + \\hat{\\beta}_2 x_2 + \\cdots + \\hat{\\beta}_q x_q $$\n",
        "\n",
        "This technique requires that we minimize the sum of squares of the residuals, in this case\n",
        "\n",
        "$$ \\sum_{i=1}^{n} e_i^2 = \\sum_{i=1}^{n} (y_i - \\hat{y}_i)^2 = \\sum_{i=1}^{n} (y_i - \\hat{\\beta}_0 - \\hat{\\beta}_1 x_{1i} - \\hat{\\beta}_2 x_{2i} - \\cdots - \\hat{\\beta}_q x_{qi})^2. $$\n",
        "\n",
        "This equation represents the sum of squared errors (SSE) in the context of a multiple linear regression model. It expresses the SSE as the sum of the squared differences between the observed values $y_i$ and the predicted values $\\hat{y_i}$. The predicted values are further expanded in terms of the regression coefficients $\\hat\\beta_0, \\hat\\beta_1, \\cdots, \\hat\\beta_q$ and the predictor variables $x_{1i},x_{2i}, \\cdots, x_{qi}$."
      ]
    },
    {
      "cell_type": "markdown",
      "metadata": {
        "id": "Yiyw3CY6ess6"
      },
      "source": [
        "### **Does Head Circumference Depend on Birth Weight?**\n",
        "\n",
        "We might wonder whether head circumference also depends on the birth weight of an infant. **Figure 18.1** is a two-way scatter plot of head circumference versus birth weight for a sample of 100 low birth weight infants born in Boston, Massachusetts. The graph suggests that head circumference increases as birth weight increases. Given that we have already accounted for gestational age, does birth weight further improve our ability to predict the head circumference of a child?"
      ]
    },
    {
      "cell_type": "markdown",
      "metadata": {
        "id": "mlPm4OB_ess6"
      },
      "source": [
        "  \n",
        "\n",
        "![____](https://biologicslab.co/BIO5853/images/module_03/lesson_03_10_image03.png)\n",
        "\n",
        "**FIGURE 18.1**  Head circumference versus birthweight for a sample of 100 low birth weight infants"
      ]
    },
    {
      "cell_type": "markdown",
      "metadata": {
        "id": "K0xLgLgIess6"
      },
      "source": [
        "### Example 2: Two-Way Scatter Plot\n",
        "\n",
        "The code in the cell below shows how to recreate **Figure 18.1** using Python.\n",
        "\n",
        "_Code Decription:_\n",
        "\n",
        "This code chunk that extracts the `x`, `y` and `count` values as numpy arrays:\n",
        "\n",
        "~~~text\n",
        "# Extract x- y-values and counts\n",
        "x = np.array(bwtDF['birthwt'])\n",
        "y = np.array(bwtDF['headcirc'])\n",
        "~~~\n",
        "\n",
        "This dataset does not have a separate column (e.g. `count`) containing the number of times a particular gestational age/head circumference measurement was repeated. So we will compute this data ourselves.\n",
        "\n",
        "Here is the first step for creating a \"count\" column using the Pandas method `df.group()`. Here we are grouping by size.\n",
        "\n",
        "~~~text\n",
        "# Count occurrences of each pair (x, y)\n",
        "pair_counts = df.groupby(['x', 'y']).size().reset_index(name='count')\n",
        "~~~\n",
        "This line of code is performing a few key operations on a pandas DataFrame:\n",
        "\n",
        "1. **Grouping:**\n",
        "\n",
        "* **`df.groupby(['x', 'y']):`** Groups the DataFrame df by the columns 'x' and 'y'. This means it identifies unique pairs of 'x' and 'y' values.\n",
        "\n",
        "2. **Counting Occurrences:**\n",
        "\n",
        "* **`.size():`** Computes the size of each group, essentially counting how many times each pair of 'x' and 'y' appears in the DataFrame.\n",
        "\n",
        "3. **Resetting Index:**\n",
        "\n",
        "* **`.reset_index(name='count'):`** Converts the resulting series back into a DataFrame and assigns a new column named 'count' to hold the counts of each pair.\n",
        "\n",
        "The result is a DataFrame called `pair_counts` with three columns:\n",
        "* **`'x':`** Unique values from the original 'x' column.\n",
        "* **`'y':`** Unique values from the original 'y' column.\n",
        "* **`'count':`** Number of occurrences of each unique ('x', 'y') pair.\n",
        "\n",
        "The next step is to merge our new DataFrame `pair_counts` with our orignial DataFrame `df` using the Pandas `df.merge()` method. This creates a new DataFrame called `df_with_counts`.\n",
        "\n",
        "~~~text\n",
        "# Merge counts back to the original DataFrame\n",
        "df_with_counts = df.merge(pair_counts, on=['x', 'y'], how='left')\n",
        "~~~\n",
        "\n",
        "We then extract the `count` data from the DataFrame `df_with_count` into a Numpy array called `counts`.\n",
        "\n",
        "~~~text\n",
        "# Extract counts as numpy array\n",
        "counts = np.array(df_with_counts['count'])\n",
        "~~~\n",
        "\n",
        "Finally, the code chunk here is the code chunk that generates the scatter plot:\n",
        "\n",
        "~~~text\n",
        "# Create the scatter plot with varying marker size\n",
        "scatter = ax.scatter(x,y, s=counts*30, facecolor='white', edgecolor=color_1)\n",
        "~~~\n",
        "\n",
        "The argument `s` species the marker size. The marker size is increased by a factor of `30` with `s=counts*30`."
      ]
    },
    {
      "cell_type": "code",
      "execution_count": null,
      "metadata": {
        "id": "M8L_1dXTess6"
      },
      "outputs": [],
      "source": [
        "# Example 2: Two-Way Scatter Plot\n",
        "\n",
        "import matplotlib.pyplot as plt\n",
        "import numpy as np\n",
        "import pandas as pd\n",
        "\n",
        "# Extract x- y-values and counts\n",
        "x = np.array(bwtDF['birthwt'])\n",
        "y = np.array(bwtDF['headcirc'])\n",
        "\n",
        "# Create a DataFrame\n",
        "df = pd.DataFrame({'x': x, 'y': y})\n",
        "\n",
        "# Count occurrences of each pair (x, y)\n",
        "pair_counts = df.groupby(['x', 'y']).size().reset_index(name='count')\n",
        "\n",
        "# Merge counts back to the original DataFrame\n",
        "df_with_counts = df.merge(pair_counts, on=['x', 'y'], how='left')\n",
        "\n",
        "# Extract counts as numpy array\n",
        "counts = np.array(df_with_counts['count'])\n",
        "\n",
        "# Create plotting environment\n",
        "fig, ax = plt.subplots()\n",
        "\n",
        "# Assign values\n",
        "color_1 = '#15466d' # Dark blue\n",
        "\n",
        "# Create the scatter plot with varying marker size\n",
        "scatter = ax.scatter(x,y, s=counts*30, facecolor='white', edgecolor=color_1)\n",
        "\n",
        "# Set x and y limits\n",
        "ax.set(xlim=(500,1550))\n",
        "ax.set(ylim=(20,36))\n",
        "\n",
        "# Adding labels\n",
        "# Set the x and y labels\n",
        "ax.set_xlabel('Birth weight (grams)',fontsize=12)\n",
        "ax.set_ylabel('Head circumference (cm)',fontsize=12)\n",
        "\n",
        "# Display the plot\n",
        "plt.show()\n"
      ]
    },
    {
      "cell_type": "markdown",
      "metadata": {
        "id": "WOwzh1N5ess6"
      },
      "source": [
        "If the code is correct, you should see the following plot:\n",
        "\n",
        "![____](https://biologicslab.co/BIO5853/images/module_03/lesson_03_10_image04.png)"
      ]
    },
    {
      "cell_type": "markdown",
      "metadata": {
        "id": "SEfswQL4ess6"
      },
      "source": [
        "The graph suggests that head circumference increases as birth weight increases. There is clearly one suspicious data point (birth wt = 900 gms, head circumference 35.5 cm). We will need to keep an eye on it."
      ]
    },
    {
      "cell_type": "markdown",
      "metadata": {
        "id": "hGWFJbKPess6"
      },
      "source": [
        "### **Exercise 2: Two-Way Scatter Plot**\n",
        "\n",
        "In the cell below, write the code to generate a two-scatter plot with `x` being the data in the column `babyDF['lwt']` and `y` being the data in column `babyDF['bwt']` . In other words, plot the baby's birth weight as a function of the mother's weigth before she became pregnant.\n",
        "\n",
        "_Code Hints:_\n",
        "\n",
        "1. You will need to comment out the lines of code that set the `x-lim` and the `y-lim` to see your plot. Matlabplot will automatically pick reasonable values for you.\n",
        "2. Change your `xlabel` to read \"Mother's Weight (lbs)\" and your `ylabel` to read \"Baby's Birth Weight (gm)\"."
      ]
    },
    {
      "cell_type": "code",
      "execution_count": null,
      "metadata": {
        "id": "iewAr9nbess7"
      },
      "outputs": [],
      "source": [
        "# Insert your code for Exercise 2 here\n",
        "\n"
      ]
    },
    {
      "cell_type": "markdown",
      "metadata": {
        "id": "pvg4l7M7ess7"
      },
      "source": [
        "If your code is correct, you should see the following plot:\n",
        "\n",
        "![____](https://biologicslab.co/BIO5853/images/module_03/lesson_03_10_image20.png)"
      ]
    },
    {
      "cell_type": "markdown",
      "metadata": {
        "id": "LDCk3Lkiess7"
      },
      "source": [
        "Because the plot of the mother's weight and her baby's weight shows a considerable degree of random scatter, we know already that if a correlation exists, it will be rather small. In other words, the likelihood of small mothers giving birth to small babies and large mothers giving birth to large babies appears about the same as small mothers giving birth to large babies and large mothers giving birth to small babies in this particular study."
      ]
    },
    {
      "cell_type": "markdown",
      "metadata": {
        "id": "-BVTTLcXess7"
      },
      "source": [
        "### Example 3: Multiple Linear Regression\n",
        "\n",
        "The code in the cell below shows how to perform multiple regression analysis on the DataFrame `bwtDF` using the `statsmodel.api`. In the previous lesson (Lesson_03_9) we determined that a simple linear model of head circumference ($y$) as a function of gestational stage ($x$):\n",
        "\n",
        "~~~text\n",
        "                            OLS Regression Results                            \n",
        "==============================================================================\n",
        "Dep. Variable:                      y   R-squared:                       0.609\n",
        "Model:                            OLS   Adj. R-squared:                  0.605\n",
        "Method:                 Least Squares   F-statistic:                     152.9\n",
        "Date:                Wed, 09 Oct 2024   Prob (F-statistic):           1.00e-21\n",
        "Time:                        18:40:07   Log-Likelihood:                -187.28\n",
        "No. Observations:                 100   AIC:                             378.6\n",
        "Df Residuals:                      98   BIC:                             383.8\n",
        "Df Model:                           1                                         \n",
        "Covariance Type:            nonrobust                                         \n",
        "==============================================================================\n",
        "                 coef    std err          t      P>|t|      [0.025      0.975]\n",
        "------------------------------------------------------------------------------\n",
        "const          3.9143      1.829      2.140      0.035       0.284       7.544\n",
        "x              0.7801      0.063     12.367      0.000       0.655       0.905\n",
        "==============================================================================\n",
        "~~~\n",
        "The R-square value = 0.609 indicated that about 60% of the differences in the head circumference of the 100 infants could be accouted for simply by their gestational stage. In other words, the head circumference increased during development.  \n",
        "\n",
        "But that leaves 40% of the variation that is still not accounted for. From **Figure 18.1** is reasonable to ask how much this unaccounted for variation might be due to differences in the infant's birth weight? The code in this example provides this information using **_multiple linear regression_**.\n",
        "\n",
        "~~~Code Description:__\n",
        "\n",
        "In this code example, we have omitted the step of extracting the each variable into a Numpy and creating a new DataFrame `df` with the extracted values. Instead, we simply extract the values from the DataFrame `bwtDF` directly into a DataFrame called `X` as shown in this code chunk:\n",
        "\n",
        "~~~text\n",
        "# Create X with independent variables\n",
        "X = sm.add_constant(bwtDF[['gestage','birthwt']])  \n",
        "~~~\n",
        "\n",
        "Here are the first three values in the DataFrame `X`. You should note that a new column called `const` containing only the value `1.00` has also been added to `X`.\n",
        "\n",
        "~~~text\n",
        "     const  gestage  birthwt\n",
        "1      1.0       29     1360\n",
        "2      1.0       31     1490\n",
        "3      1.0       33     1490\n",
        "~~~\n",
        "Adding a constant in regression analysis, like in `sm.add_constant(bwtDF[['gestage', 'birthwt']])`, is crucial because it includes the intercept term in the regression model. The intercept represents the value of the dependent variable when all independent variables are zero. Without this constant, your regression model would be forced through the origin (0,0), which is often unrealistic and can lead to biased estimates of your coefficients. Including an intercept ensures your regression model more accurately reflects the relationship between the dependent and independent variables. It’s a small but significant step in regression modeling.\n",
        "\n",
        "Finally, here is the code chunk that peforms the multiple linear regression:\n",
        "\n",
        "~~~text\n",
        "# Fit regression model\n",
        "model = sm.OLS(bwtDF['headcirc'], X).fit()\n",
        "~~~\n",
        "\n",
        "This creates a variable called `model`. Technically, the variable `model` is a `statsmodels.regression.linear_model.RegressionResultsWrapper`. Despite it's complex type, it's simple to extract all of the information contained in this variable with this line of code:\n",
        "\n",
        "~~~text\n",
        "# Print results\n",
        "print(model.summary())\n",
        "~~~"
      ]
    },
    {
      "cell_type": "code",
      "execution_count": null,
      "metadata": {
        "id": "YKKAT--Qess7"
      },
      "outputs": [],
      "source": [
        "# Example 3: Multiple Linear Regression\n",
        "\n",
        "import numpy as np\n",
        "import pandas as pd\n",
        "import statsmodels.api as sm\n",
        "\n",
        "# Create X with independent variables\n",
        "X = sm.add_constant(bwtDF[['gestage','birthwt']])\n",
        "\n",
        "# Fit regression model\n",
        "model = sm.OLS(bwtDF['headcirc'], X).fit()\n",
        "\n",
        "# Print header\n",
        "print(\"-----Model Summary -------------------------------------------------------------\")\n",
        "# Print results\n",
        "print(model.summary())"
      ]
    },
    {
      "cell_type": "markdown",
      "metadata": {
        "id": "eCEqQcxbess7"
      },
      "source": [
        "If the code is correct, you should see the following table:\n",
        "\n",
        "~~~text\n",
        "-----Model Summary -------------------------------------------------------------\n",
        "                            OLS Regression Results                            \n",
        "==============================================================================\n",
        "Dep. Variable:               headcirc   R-squared:                       0.752\n",
        "Model:                            OLS   Adj. R-squared:                  0.747\n",
        "Method:                 Least Squares   F-statistic:                     147.1\n",
        "Date:                Mon, 14 Oct 2024   Prob (F-statistic):           4.28e-30\n",
        "Time:                        19:18:57   Log-Likelihood:                -164.58\n",
        "No. Observations:                 100   AIC:                             335.2\n",
        "Df Residuals:                      97   BIC:                             343.0\n",
        "Df Model:                           2                                         \n",
        "Covariance Type:            nonrobust                                         \n",
        "==============================================================================\n",
        "                 coef    std err          t      P>|t|      [0.025      0.975]\n",
        "------------------------------------------------------------------------------\n",
        "const          8.3080      1.579      5.262      0.000       5.174      11.442\n",
        "gestage        0.4487      0.067      6.673      0.000       0.315       0.582\n",
        "birthwt        0.0047      0.001      7.466      0.000       0.003       0.006\n",
        "==============================================================================\n",
        "Omnibus:                      108.320   Durbin-Watson:                   1.880\n",
        "Prob(Omnibus):                  0.000   Jarque-Bera (JB):             1901.434\n",
        "Skew:                           3.489   Prob(JB):                         0.00\n",
        "Kurtosis:                      23.190   Cond. No.                     1.40e+04\n",
        "==============================================================================\n",
        "\n",
        "Notes:\n",
        "[1] Standard Errors assume that the covariance matrix of the errors is correctly specified.\n",
        "[2] The condition number is large, 1.4e+04. This might indicate that there are\n",
        "strong multicollinearity or other numerical problems.\n",
        "~~~"
      ]
    },
    {
      "cell_type": "markdown",
      "metadata": {
        "id": "ffTI7reuess8"
      },
      "source": [
        "_From your textbook, page 432:_\n",
        "\n",
        ">Suppose that we let $x_1$ represent gestational age and $x_2$ designate birth weight. The fitted least squares regression equation is\n",
        "\n",
        "$$ \\hat{y} = 8.3080 + 0.4487x_1 + 0.0047x_2 $$\n",
        "\n",
        ">The intercept of 8.3080 cm is, in theory, the mean value of head circumference for low birth weight infants with gestational age 0 weeks and birth weight 0 grams. In this example, neither an age of  0 nor a weight of 0 makes sense, so we will not attempt to interpret the y-intercept. The estimated coefficient of gestational age is not what it was when age was the only explanatory variable in the  model; its value has decreased from 0.7801 to 0.4487 cm/week. This implies that, given that a child’s birth weight remains constant, each one week increase in gestational age corresponds to a 0.4487 cm.\n",
        "\n",
        "We can see that all of the regression values stated in this textbook discussion can be found in the summary output under the column called `coef`:\n",
        "\n",
        "~~~text\n",
        "                 coef   \n",
        "---------------------\n",
        "const          8.3080\n",
        "gestage        0.4487  \n",
        "birthwt        0.0047  \n",
        "~~~\n",
        "\n",
        "In the summary output, the slope (`8.3080`) is printed as the coefficient of $const$ (`8.3080`), the coefficient of $x_1$ (`0.4487`) is printed as the coefficient of `gestage` (`0.4487`) and the coefficient of $x_2$ (`0.0047`) is shown as the coefficient of `birthwt` (`0.0047`).\n",
        "\n",
        "As described above in the introduction to Example 3, the actual column names in the DataFrame were used as inputs into the regression equation, instead of the more cryptic `x1` and `x2`. However you are free to use either approach since both methods produce exactly the same output."
      ]
    },
    {
      "cell_type": "markdown",
      "metadata": {
        "id": "ENKHu1afess8"
      },
      "source": [
        "### **Exercise 3: Multiple Linear Regression**\n",
        "\n",
        "In the cell below, write the code to perform multiple regression analysis on the DataFrame `babyDF` using the statsmodel.api.\n",
        "\n",
        "Here are the 10 column names in the DataFrame `babyDF`:\n",
        "1. low\n",
        "2. age\n",
        "3. **lwt**\n",
        "4. **race**\n",
        "5. smoke\n",
        "6. ptl\n",
        "7. **ht**\n",
        "8. **ui**\n",
        "9. ftv\n",
        "10. bwt\n",
        "\n",
        "For your multiple linear regression, use the 4 column names that are shown in **boldface** as your independent variables (`X`) and the column `bwt` as your dependent variable.    "
      ]
    },
    {
      "cell_type": "code",
      "execution_count": null,
      "metadata": {
        "id": "MyJQyRQ3ess8"
      },
      "outputs": [],
      "source": [
        "# Insert your code for Exercise 3 here\n"
      ]
    },
    {
      "cell_type": "markdown",
      "metadata": {
        "id": "cdOoHVhYess8"
      },
      "source": [
        "If your code is correct, you should see the following output:\n",
        "\n",
        "~~~text\n",
        "-----Model Summary -------------------------------------------------------------\n",
        "                            OLS Regression Results                            \n",
        "==============================================================================\n",
        "Dep. Variable:                    bwt   R-squared:                       0.169\n",
        "Model:                            OLS   Adj. R-squared:                  0.151\n",
        "Method:                 Least Squares   F-statistic:                     9.370\n",
        "Date:                Tue, 12 Nov 2024   Prob (F-statistic):           6.49e-07\n",
        "Time:                        10:06:51   Log-Likelihood:                -1496.0\n",
        "No. Observations:                 189   AIC:                             3002.\n",
        "Df Residuals:                     184   BIC:                             3018.\n",
        "Df Model:                           4                                         \n",
        "Covariance Type:            nonrobust                                         \n",
        "==============================================================================\n",
        "                 coef    std err          t      P>|t|      [0.025      0.975]\n",
        "------------------------------------------------------------------------------\n",
        "const       2761.0020    260.647     10.593      0.000    2246.760    3275.244\n",
        "lwt            4.0481      1.687      2.399      0.017       0.719       7.377\n",
        "race        -118.5385     54.218     -2.186      0.030    -225.507     -11.570\n",
        "ht          -634.6306    207.215     -3.063      0.003   -1043.453    -225.808\n",
        "ui          -558.0093    139.641     -3.996      0.000    -833.512    -282.507\n",
        "==============================================================================\n",
        "Omnibus:                        1.755   Durbin-Watson:                   0.467\n",
        "Prob(Omnibus):                  0.416   Jarque-Bera (JB):                1.547\n",
        "Skew:                          -0.091   Prob(JB):                        0.461\n",
        "Kurtosis:                       2.596   Cond. No.                         732.\n",
        "==============================================================================\n",
        "\n",
        "Notes:\n",
        "[1] Standard Errors assume that the covariance matrix of the errors is correctly specified.\n",
        "~~~"
      ]
    },
    {
      "cell_type": "markdown",
      "metadata": {
        "id": "LCw1v6GZess_"
      },
      "source": [
        "Here is a detailed analysis of the output shown above:\n",
        "\n",
        "### Analysis of Multiple Regression Output\n",
        "\n",
        "#### Model Summary\n",
        "- **Dependent Variable**: `bwt` (birth weight)\n",
        "- **R-squared**: 0.169\n",
        "  - This indicates that 16.9% of the variance in the dependent variable `bwt` is explained by the independent variables `lwt` (last menstrual period weight), `race`, `ht` (history of hypertension), and `ui` (uterine irritability).\n",
        "- **Adjusted R-squared**: 0.151\n",
        "  - This adjusted value accounts for the number of predictors in the model and shows a slight decrease compared to the R-squared value.\n",
        "- **F-statistic**: 9.370\n",
        "  - A moderate F-statistic value suggests that the overall regression model has some explanatory power.\n",
        "- **Prob (F-statistic)**: 6.49e-07\n",
        "  - This very low p-value indicates that the model is statistically significant at the 0.05 level.\n",
        "\n",
        "#### Coefficients and Significance\n",
        "- **Constant (Intercept)**:\n",
        "  - **Coefficient**: 2761.0020\n",
        "  - **Standard Error**: 260.647\n",
        "  - **t-value**: 10.593\n",
        "  - **P-value**: 0.000\n",
        "  - **[95% CI]**: [2246.760, 3275.244]\n",
        "  - The intercept represents the expected value of `bwt` when all independent variables are zero. It is statistically significant (p-value < 0.05).\n",
        "\n",
        "- **lwt (Last Menstrual Period Weight)**:\n",
        "  - **Coefficient**: 4.0481\n",
        "  - **Standard Error**: 1.687\n",
        "  - **t-value**: 2.399\n",
        "  - **P-value**: 0.017\n",
        "  - **[95% CI]**: [0.719, 7.377]\n",
        "  - The coefficient indicates that for each additional pound in `lwt`, the birth weight increases by 4.0481 units, holding other factors constant. This variable is statistically significant (p-value < 0.05).\n",
        "\n",
        "- **race**:\n",
        "  - **Coefficient**: -118.5385\n",
        "  - **Standard Error**: 54.218\n",
        "  - **t-value**: -2.186\n",
        "  - **P-value**: 0.030\n",
        "  - **[95% CI]**: [-225.507, -11.570]\n",
        "  - The coefficient indicates that certain races are associated with a decrease in birth weight by 118.5385 units, holding other factors constant. This variable is statistically significant (p-value < 0.05).\n",
        "\n",
        "- **ht (History of Hypertension)**:\n",
        "  - **Coefficient**: -634.6306\n",
        "  - **Standard Error**: 207.215\n",
        "  - **t-value**: -3.063\n",
        "  - **P-value**: 0.003\n",
        "  - **[95% CI]**: [-1043.453, -225.808]\n",
        "  - The coefficient indicates that a history of hypertension is associated with a decrease in birth weight by 634.6306 units, holding other factors constant. This variable is statistically significant (p-value < 0.05).\n",
        "\n",
        "- **ui (Uterine Irritability)**:\n",
        "  - **Coefficient**: -558.0093\n",
        "  - **Standard Error**: 139.641\n",
        "  - **t-value**: -3.996\n",
        "  - **P-value**: 0.000\n",
        "  - **[95% CI]**: [-833.512, -282.507]\n",
        "  - The coefficient indicates that uterine irritability is associated with a decrease in birth weight by 558.0093 units, holding other factors constant. This variable is statistically significant (p-value < 0.05).\n",
        "\n",
        "#### Model Diagnostics\n",
        "- **No. Observations**: 189\n",
        "  - The number of observations used in the regression analysis.\n",
        "- **Df Residuals**: 184\n",
        "  - Degrees of freedom for residuals.\n",
        "- **Df Model**: 4\n",
        "  - Degrees of freedom for the model (number of predictors).\n",
        "- **AIC (Akaike Information Criterion)**: 3002\n",
        "  - A measure of the model's quality, lower values indicate a better fit.\n",
        "- **BIC (Bayesian Information Criterion)**: 3018\n",
        "  - Similar to AIC, but with a penalty for the number of parameters in the model, lower values indicate a better fit.\n",
        "\n",
        "### Summary\n",
        "The regression model has a moderate explanatory power (R-squared = 0.169), indicating that the independent variables `lwt`, `race`, `ht`, and `ui` explain a notable portion of the variance in birth weight. All the independent variables are statistically significant, suggesting they have an impact on birth weight.\n",
        "\n",
        "The model is statistically significant overall, but the moderate R-squared value and adjusted R-squared value indicate that there may be other important predictors of birth weight that are not included in the model.\n"
      ]
    },
    {
      "cell_type": "markdown",
      "metadata": {
        "id": "IBS5c_lVestA"
      },
      "source": [
        "![____](https://biologicslab.co/BIO5853/images/module_03/lesson_03_10_image05.png)"
      ]
    },
    {
      "cell_type": "markdown",
      "metadata": {
        "id": "ymxtazsJestA"
      },
      "source": [
        "## **Inference for Regression Coefficients**\n",
        "\n",
        "Just as when applying simple linear regression analysis, we would like to be able to use the least squares model\n",
        "\n",
        "$$ \\hat{y} = \\hat\\beta_0 + \\hat\\beta_1 x_1 + \\hat\\beta_2 x_2 + \\cdots + \\hat\\beta_q x_q + \\epsilon $$\n",
        "\n",
        "to make inference about the population regression equation\n",
        "\n",
        "$$ \\mu_{y|x_1, x_2, \\ldots, x_q} = \\beta_0 + \\beta_1 x_1 + \\beta_2 x_2 + \\cdots + \\beta_q x_q $$\n",
        "\n",
        "The regression coefficient $\\hat\\beta_0$ through $\\hat\\beta_q$ are estimated using a sample of observations drawn from the underlying population; their values would change if a different sample were selected. Therefore, we need the standard errors of these estimators to be able to make inference about the true population parameters.  \n",
        "\n",
        "The summary output from the `model` in Example 2 provides both the standard error `std err`, the `t` value and the _p_ -value (`P>|t|`) for each coefficient:\n",
        "\n",
        "~~~text\n",
        "                 coef    std err          t      P>|t|\n",
        "------------------------------------------------------\n",
        "const          8.3080      1.579      5.262      0.000\n",
        "gestage        0.4487      0.067      6.673      0.000\n",
        "birthwt        0.0047      0.001      7.466      0.000\n",
        "~~~\n",
        "\n",
        "In particular, note the $t$ value for `birthwt` is `7.466`.\n",
        "\n",
        "From your textbook on page 435:\n",
        "\n",
        ">For a $t$ distribution with 97 degrees of freedom, $p<0.001$ Therefore, we reject the null hypothesis at the 0.05 level of significance and conclude that $\\beta_1$ is greater than 0. Similarly, to test the null hypothesis\n",
        "\n",
        "$$ H_0 : \\beta_2 = 0 \\ $$\n",
        "\n",
        ">against the alternative\n",
        "\n",
        "$$ H_0 : \\beta_2 = 0 \\ $$\n",
        "\n",
        ">assuming that gestational age remains constant, we calculate\n",
        "\n",
        "$$\n",
        "\\begin{align*}\n",
        "t &= \\frac{\\hat{\\beta}_2 - \\beta_{20}}{\\hat{\\text{se}}(\\hat{\\beta}_2)} \\\\\n",
        "  &= \\frac{0.0047 - 0}{0.00063} = 7.47.\n",
        "\\end{align*}\n",
        "$$\n",
        "\n",
        ">Once again $p<0.001$, and we conclude that $\\beta_2$ is significantly greater than 0. Therefore, head circumference increases as either gestational age or birth weight increases. We must bear in mind, however, that multiple tests of hypothesis based on the same set of data are generally not independent. If each individual test is conducted at the $\\alpha$ level of significance, the overall probability of making a type I error – or rejecting a null hypothesis that is true – is in fact larger than $\\alpha$."
      ]
    },
    {
      "cell_type": "markdown",
      "metadata": {
        "id": "HhhitOqgestA"
      },
      "source": [
        "![____](https://biologicslab.co/BIO5853/images/module_03/lesson_03_10_image19.png)"
      ]
    },
    {
      "cell_type": "markdown",
      "metadata": {
        "id": "QYkVr3ClestA"
      },
      "source": [
        "## **Indicator Variables**\n",
        "\n",
        "An **indicator variable**, also known as a dummy variable, is a binary variable used in multiple regression analysis to represent categorical data. It allows the inclusion of categorical predictors in the regression model by converting them into a numerical format. Here’s a breakdown:\n",
        "\n",
        "#### Characteristics:\n",
        "- **Binary Values**: Indicator variables take on the values 0 and 1. Each category within a categorical variable is assigned a separate indicator variable.\n",
        "- **Categorical Representation**: They represent different categories or groups in the data, allowing the model to account for the effects of these categories.\n",
        "\n",
        "#### Usage:\n",
        "- **Creating Indicator Variables**: For a categorical variable with \\( k \\) categories, \\( k-1 \\) indicator variables are created. One category is usually chosen as the reference category, and the others are compared to this reference.\n",
        "- **Inclusion in Regression Model**: These indicator variables are included as independent variables in the regression model. They help to capture the impact of categorical predictors on the dependent variable.\n"
      ]
    },
    {
      "cell_type": "markdown",
      "metadata": {
        "id": "Z0dS3C8AestA"
      },
      "source": [
        "### Example 4: Multiple Linear Regression with Indicator Variable.\n",
        "\n",
        "**Indicator variables**, also known as _dummy variables_, are used in regression analysis to represent categorical data. Essentially, they're a way of coding categorical variables into binary (0 or 1) to include them in a regression model. For example, if you have a variable for a woman having preeclampsia during pregnancy, you could code it as `1` if the woman had the condition and `0` if she did not.\n",
        "\n",
        "The code in the cell below adds the indicator variable `preeclamp` to our previous multiple regression analysis on the DataFrame `bwtDF` performed in Example 3."
      ]
    },
    {
      "cell_type": "code",
      "execution_count": null,
      "metadata": {
        "scrolled": true,
        "id": "zp9zaN5-estA"
      },
      "outputs": [],
      "source": [
        "# Example 4: Multiple Linear Regression\n",
        "\n",
        "import numpy as np\n",
        "import pandas as pd\n",
        "import statsmodels.api as sm\n",
        "\n",
        "# Add indicator variable preeclamp\n",
        "X = sm.add_constant(bwtDF[['gestage','birthwt','preeclamp']])\n",
        "\n",
        "# Fit regression model\n",
        "model = sm.OLS(bwtDF['headcirc'], X).fit()\n",
        "\n",
        "# Print header\n",
        "print(\"-----Model Summary -------------------------------------------------------------\")\n",
        "# Print results\n",
        "print(model.summary())\n",
        "print(\" \")"
      ]
    },
    {
      "cell_type": "markdown",
      "metadata": {
        "id": "2wkT55otestA"
      },
      "source": [
        "If the code is correct, you should see the following output:\n",
        "\n",
        "~~~text\n",
        "-----Model Summary -------------------------------------------------------------\n",
        "                            OLS Regression Results                            \n",
        "==============================================================================\n",
        "Dep. Variable:               headcirc   R-squared:                       0.757\n",
        "Model:                            OLS   Adj. R-squared:                  0.749\n",
        "Method:                 Least Squares   F-statistic:                     99.62\n",
        "Date:                Tue, 12 Nov 2024   Prob (F-statistic):           2.28e-29\n",
        "Time:                        10:20:06   Log-Likelihood:                -163.59\n",
        "No. Observations:                 100   AIC:                             335.2\n",
        "Df Residuals:                      96   BIC:                             345.6\n",
        "Df Model:                           3                                         \n",
        "Covariance Type:            nonrobust                                         \n",
        "==============================================================================\n",
        "                 coef    std err          t      P>|t|      [0.025      0.975]\n",
        "------------------------------------------------------------------------------\n",
        "const          7.0958      1.798      3.947      0.000       3.527      10.664\n",
        "gestage        0.5080      0.079      6.399      0.000       0.350       0.666\n",
        "birthwt        0.0044      0.001      6.412      0.000       0.003       0.006\n",
        "preeclamp     -0.5128      0.369     -1.389      0.168      -1.246       0.220\n",
        "==============================================================================\n",
        "Omnibus:                      102.714   Durbin-Watson:                   1.973\n",
        "Prob(Omnibus):                  0.000   Jarque-Bera (JB):             1551.099\n",
        "Skew:                           3.285   Prob(JB):                         0.00\n",
        "Kurtosis:                      21.141   Cond. No.                     1.61e+04\n",
        "==============================================================================\n",
        "\n",
        "Notes:\n",
        "[1] Standard Errors assume that the covariance matrix of the errors is correctly specified.\n",
        "[2] The condition number is large, 1.61e+04. This might indicate that there are\n",
        "strong multicollinearity or other numerical problems.\n",
        "\n",
        "~~~"
      ]
    },
    {
      "cell_type": "markdown",
      "metadata": {
        "id": "R4xPopBIestA"
      },
      "source": [
        "### Analysis of Multiple Regression Output\n",
        "\n",
        "#### Model Summary\n",
        "- **Dependent Variable**: `headcirc` (head circumference)\n",
        "- **R-squared**: 0.757\n",
        "  - This indicates that approximately 75.7% of the variance in the dependent variable `headcirc` is explained by the independent variables `gestage` (gestational age), `birthwt` (birth weight), and `preeclamp` (pre-eclampsia status).\n",
        "- **Adjusted R-squared**: 0.749\n",
        "  - This adjusted value accounts for the number of predictors in the model and shows a slight decrease compared to the R-squared value.\n",
        "- **F-statistic**: 99.62\n",
        "  - A high F-statistic value indicates that the overall regression model is statistically significant.\n",
        "- **Prob (F-statistic)**: 2.28e-29\n",
        "  - This very low p-value indicates that the model is statistically significant.\n",
        "\n",
        "#### Coefficients and Significance\n",
        "- **Constant (Intercept)**:\n",
        "  - **Coefficient**: 7.0958\n",
        "  - **Standard Error**: 1.798\n",
        "  - **t-value**: 3.947\n",
        "  - **P-value**: 0.000\n",
        "  - **[95% CI]**: [3.527, 10.664]\n",
        "  - The intercept represents the expected value of `headcirc` when all independent variables are zero. It is statistically significant (p-value < 0.05).\n",
        "\n",
        "- **gestage (Gestational Age)**:\n",
        "  - **Coefficient**: 0.5080\n",
        "  - **Standard Error**: 0.079\n",
        "  - **t-value**: 6.399\n",
        "  - **P-value**: 0.000\n",
        "  - **[95% CI]**: [0.350, 0.666]\n",
        "  - The coefficient indicates that for each additional week of gestational age, the head circumference increases by 0.5080 units, holding other factors constant. This variable is statistically significant (p-value < 0.05).\n",
        "\n",
        "- **birthwt (Birth Weight)**:\n",
        "  - **Coefficient**: 0.0044\n",
        "  - **Standard Error**: 0.001\n",
        "  - **t-value**: 6.412\n",
        "  - **P-value**: 0.000\n",
        "  - **[95% CI]**: [0.003, 0.006]\n",
        "  - The coefficient suggests that for each additional gram of birth weight, the head circumference increases by 0.0044 units, holding other factors constant. This variable is statistically significant (p-value < 0.05).\n",
        "\n",
        "- **preeclamp (Pre-eclampsia Status)**:\n",
        "  - **Coefficient**: -0.5128\n",
        "  - **Standard Error**: 0.369\n",
        "  - **t-value**: -1.389\n",
        "  - **P-value**: 0.168\n",
        "  - **[95% CI]**: [-1.246, 0.220]\n",
        "  - The coefficient suggests that pre-eclampsia status is associated with a decrease in head circumference by 0.5128 units, holding other factors constant. However, this variable is not statistically significant (p-value > 0.05).\n",
        "\n",
        "#### Model Diagnostics\n",
        "- **No. Observations**: 100\n",
        "  - The number of observations used in the regression analysis.\n",
        "- **Df Residuals**: 96\n",
        "  - Degrees of freedom for residuals.\n",
        "- **Df Model**: 3\n",
        "  - Degrees of freedom for the model (number of predictors).\n",
        "- **AIC (Akaike Information Criterion)**: 335.2\n",
        "  - A measure of the model's quality; lower values indicate a better fit.\n",
        "- **BIC (Bayesian Information Criterion)**: 345.6\n",
        "  - Similar to AIC, but with a penalty for the number of parameters in the model; lower values indicate a better fit.\n",
        "\n",
        "### Summary\n",
        "The regression model has a high explanatory power (R-squared = 0.757), indicating that the independent variables `gestage`, `birthwt`, and `preeclamp` explain a substantial portion of the variance in head circumference. The variables `gestage` and `birthwt` are statistically significant predictors of head circumference, while `preeclamp` is not statistically significant.\n",
        "\n",
        "The model is statistically significant overall, but the large condition number (1.61e+04) suggests potential multicollinearity issues or other numerical problems that need to be addressed.\n",
        "\n",
        "Would you like more details or a deeper analysis on any aspect of this output?\n"
      ]
    },
    {
      "cell_type": "markdown",
      "metadata": {
        "id": "BJjG5IKNestB"
      },
      "source": [
        "### **Exercise 4:  Multiple Linear Regression with Indicator Variable**\n",
        "\n",
        "In the cell below, write the code to perform a multiple linear regression of the DataFrame `babyDF`. You can reuse your code from **Exercise 3**, but add the indicator variable `smoke` to your list of independent variables `X`. In this dataset, the variable `smoke` is set to `1` if the mother smoked during her pregancy or to `0` if she didn't smoke."
      ]
    },
    {
      "cell_type": "code",
      "execution_count": null,
      "metadata": {
        "scrolled": true,
        "id": "1OepZjS7estB"
      },
      "outputs": [],
      "source": [
        "# Insert your code for Exercise 4 here\n",
        "\n"
      ]
    },
    {
      "cell_type": "markdown",
      "metadata": {
        "id": "mmKPd35yestB"
      },
      "source": [
        "If your code is correct, you should see the following output:\n",
        "\n",
        "~~~text\n",
        "-----Model Summary -------------------------------------------------------------\n",
        "                            OLS Regression Results                            \n",
        "==============================================================================\n",
        "Dep. Variable:                    bwt   R-squared:                       0.221\n",
        "Model:                            OLS   Adj. R-squared:                  0.200\n",
        "Method:                 Least Squares   F-statistic:                     10.40\n",
        "Date:                Tue, 12 Nov 2024   Prob (F-statistic):           8.57e-09\n",
        "Time:                        10:24:59   Log-Likelihood:                -1489.9\n",
        "No. Observations:                 189   AIC:                             2992.\n",
        "Df Residuals:                     183   BIC:                             3011.\n",
        "Df Model:                           5                                         \n",
        "Covariance Type:            nonrobust                                         \n",
        "==============================================================================\n",
        "                 coef    std err          t      P>|t|      [0.025      0.975]\n",
        "------------------------------------------------------------------------------\n",
        "const       3105.6821    271.575     11.436      0.000    2569.862    3641.502\n",
        "lwt            3.4321      1.648      2.083      0.039       0.181       6.683\n",
        "race        -188.7642     56.339     -3.350      0.001    -299.922     -77.606\n",
        "ht          -595.7334    201.479     -2.957      0.004    -993.253    -198.214\n",
        "ui          -522.3361    135.951     -3.842      0.000    -790.570    -254.103\n",
        "smoke       -364.7080    104.323     -3.496      0.001    -570.539    -158.877\n",
        "==============================================================================\n",
        "Omnibus:                        1.676   Durbin-Watson:                   0.546\n",
        "Prob(Omnibus):                  0.433   Jarque-Bera (JB):                1.625\n",
        "Skew:                          -0.141   Prob(JB):                        0.444\n",
        "Kurtosis:                       2.644   Cond. No.                         791.\n",
        "==============================================================================\n",
        "\n",
        "Notes:\n",
        "[1] Standard Errors assume that the covariance matrix of the errors is correctly specified.\n",
        "\n",
        "~~~"
      ]
    },
    {
      "cell_type": "markdown",
      "metadata": {
        "id": "ApJQf2BtestB"
      },
      "source": [
        "### Analysis of Multiple Regression Output\n",
        "\n",
        "#### Model Summary\n",
        "- **Dependent Variable**: `bwt` (birth weight)\n",
        "- **R-squared**: 0.221\n",
        "  - This indicates that 22.1% of the variance in the dependent variable `bwt` is explained by the independent variables `lwt` (last menstrual period weight), `race`, `ht` (history of hypertension), `ui` (uterine irritability), and `smoke` (smoking status).\n",
        "- **Adjusted R-squared**: 0.200\n",
        "  - This adjusted value accounts for the number of predictors in the model and shows a slight decrease compared to the R-squared value.\n",
        "- **F-statistic**: 10.40\n",
        "  - A relatively high F-statistic value suggests that the overall regression model has explanatory power.\n",
        "- **Prob (F-statistic)**: 8.57e-09\n",
        "  - This very low p-value indicates that the model is statistically significant at the 0.05 level.\n",
        "\n",
        "#### Coefficients and Significance\n",
        "- **Constant (Intercept)**:\n",
        "  - **Coefficient**: 3105.6821\n",
        "  - **Standard Error**: 271.575\n",
        "  - **t-value**: 11.436\n",
        "  - **P-value**: 0.000\n",
        "  - **[95% CI]**: [2569.862, 3641.502]\n",
        "  - The intercept represents the expected value of `bwt` when all independent variables are zero. It is statistically significant (p-value < 0.05).\n",
        "\n",
        "- **lwt (Last Menstrual Period Weight)**:\n",
        "  - **Coefficient**: 3.4321\n",
        "  - **Standard Error**: 1.648\n",
        "  - **t-value**: 2.083\n",
        "  - **P-value**: 0.039\n",
        "  - **[95% CI]**: [0.181, 6.683]\n",
        "  - The coefficient indicates that for each additional pound in `lwt`, the birth weight increases by 3.4321 units, holding other factors constant. This variable is statistically significant (p-value < 0.05).\n",
        "\n",
        "- **race**:\n",
        "  - **Coefficient**: -188.7642\n",
        "  - **Standard Error**: 56.339\n",
        "  - **t-value**: -3.350\n",
        "  - **P-value**: 0.001\n",
        "  - **[95% CI]**: [-299.922, -77.606]\n",
        "  - The coefficient indicates that certain races are associated with a decrease in birth weight by 188.7642 units, holding other factors constant. This variable is statistically significant (p-value < 0.05).\n",
        "\n",
        "- **ht (History of Hypertension)**:\n",
        "  - **Coefficient**: -595.7334\n",
        "  - **Standard Error**: 201.479\n",
        "  - **t-value**: -2.957\n",
        "  - **P-value**: 0.004\n",
        "  - **[95% CI]**: [-993.253, -198.214]\n",
        "  - The coefficient indicates that a history of hypertension is associated with a decrease in birth weight by 595.7334 units, holding other factors constant. This variable is statistically significant (p-value < 0.05).\n",
        "\n",
        "- **ui (Uterine Irritability)**:\n",
        "  - **Coefficient**: -522.3361\n",
        "  - **Standard Error**: 135.951\n",
        "  - **t-value**: -3.842\n",
        "  - **P-value**: 0.000\n",
        "  - **[95% CI]**: [-790.570, -254.103]\n",
        "  - The coefficient indicates that uterine irritability is associated with a decrease in birth weight by 522.3361 units, holding other factors constant. This variable is statistically significant (p-value < 0.05).\n",
        "\n",
        "- **smoke (Smoking Status)**:\n",
        "  - **Coefficient**: -364.7080\n",
        "  - **Standard Error**: 104.323\n",
        "  - **t-value**: -3.496\n",
        "  - **P-value**: 0.001\n",
        "  - **[95% CI]**: [-570.539, -158.877]\n",
        "  - The coefficient indicates that smoking during pregnancy is associated with a decrease in birth weight by 364.7080 units, holding other factors constant. This variable is statistically significant (p-value < 0.05).\n",
        "\n",
        "#### Model Diagnostics\n",
        "- **No. Observations**: 189\n",
        "  - The number of observations used in the regression analysis.\n",
        "- **Df Residuals**: 183\n",
        "  - Degrees of freedom for residuals.\n",
        "- **Df Model**: 5\n",
        "  - Degrees of freedom for the model (number of predictors).\n",
        "- **AIC (Akaike Information Criterion)**: 2992\n",
        "  - A measure of the model's quality, lower values indicate a better fit.\n",
        "- **BIC (Bayesian Information Criterion)**: 3011\n",
        "  - Similar to AIC, but with a penalty for the number of parameters in the model, lower values indicate a better fit.\n",
        "\n",
        "### Summary\n",
        "The regression model has a moderate explanatory power (R-squared = 0.221), indicating that the independent variables `lwt`, `race`, `ht`, `ui`, and `smoke` explain a notable portion of the variance in birth weight. All the independent variables are statistically significant, suggesting they have an impact on birth weight.\n",
        "\n",
        "The model is statistically significant overall, but the moderate R-squared value and adjusted R-squared value indicate that there may be other important predictors of birth weight that are not included in the model.\n"
      ]
    },
    {
      "cell_type": "markdown",
      "metadata": {
        "id": "3lc7-42aestB"
      },
      "source": [
        "### Example 5: Plotting the Effects of Indicator Variables\n",
        "\n",
        "The code in the cell below recreates **Figure 18.2** in your textbook.\n",
        "\n",
        "![____](https://biologicslab.co/BIO5853/images/module_03/lesson_03_10_image06.png)\n",
        "\n",
        "**FIGURE 18.2**  Fitted least squares regression lines for different levels of preeclampsia.\n",
        "\n",
        "_Code Description:_\n",
        "\n",
        "As you can see, the code needed to recreate **Figure 18.2** is rather complex. It is offered here without further comment."
      ]
    },
    {
      "cell_type": "code",
      "execution_count": null,
      "metadata": {
        "scrolled": true,
        "id": "MsHCwDYlestB"
      },
      "outputs": [],
      "source": [
        "# Example 5: Effects of Indicator Variables\n",
        "\n",
        "import matplotlib.pyplot as plt\n",
        "import numpy as np\n",
        "import pandas as pd\n",
        "import statsmodels.api as sm\n",
        "\n",
        "# Extract x- y-values\n",
        "x1 = np.array(bwtDF['gestage'])\n",
        "x2 = np.array(bwtDF['preeclamp'])\n",
        "y = np.array(bwtDF['headcirc'])\n",
        "\n",
        "# Create a DataFrame to hold variables\n",
        "df = pd.DataFrame({'x1': x1, 'indicator': x2, 'y': y})\n",
        "\n",
        "# Find minimum and maximum x\n",
        "minX = min(df.x1)\n",
        "maxX = max(df.x1)\n",
        "\n",
        "# Count occurrences of each pair (x, y)\n",
        "pair_counts = df.groupby(['x1', 'y']).size().reset_index(name='count')\n",
        "\n",
        "# Merge counts back into the original DataFrame\n",
        "df_with_counts = df.merge(pair_counts, on=['x1', 'y'], how='left')\n",
        "df = df.merge(pair_counts, on=['x1', 'y'], how='left')\n",
        "\n",
        "# Initialize arrays\n",
        "x_line0 = np.empty(0)\n",
        "x_line1 = np.empty(0)\n",
        "y_line0 = np.empty(0)\n",
        "y_line1 = np.empty(0)\n",
        "\n",
        "# Separate x and y depending upon indicator value\n",
        "for i, row in df.iterrows():\n",
        "    if row['indicator'] == 1:\n",
        "        x_line1 = np.append(x_line1,row['x1'])\n",
        "        y_line1 = np.append(y_line1,row['y'])\n",
        "    else:\n",
        "        x_line0 = np.append(x_line0,row['x1'])\n",
        "        y_line0 = np.append(y_line0,row['y'])\n",
        "\n",
        "# Create DataFrames for different indicator values\n",
        "df0 = pd.DataFrame({'x0': x_line0, 'y0': y_line0})\n",
        "df1 = pd.DataFrame({'x1': x_line1, 'y1': y_line1})\n",
        "\n",
        "# Generate OLS model for indicator = 0\n",
        "X0 = sm.add_constant(df0['x0'])\n",
        "model_0 = sm.OLS(df0['y0'], X0).fit()\n",
        "\n",
        "# Generate OLS model for indicator = 1\n",
        "X1 = sm.add_constant(df1['x1'])\n",
        "model_1 = sm.OLS(df1['y1'], X1).fit()\n",
        "\n",
        "# Append minX and maxX to extend regression lines\n",
        "# Extend regression line for Indicator = 0\n",
        "X0 = pd.concat([X0, pd.DataFrame({'x0': [minX], 'const': [1.0]})], ignore_index=True)\n",
        "X0 = pd.concat([X0, pd.DataFrame({'x0': [maxX], 'const': [1.0]})], ignore_index=True)\n",
        "\n",
        "# Extend regression line for Indicator = 1\n",
        "X1 = pd.concat([X1, pd.DataFrame({'x1': [minX], 'const': [1.0]})], ignore_index=True)\n",
        "X1 = pd.concat([X1, pd.DataFrame({'x1': [maxX], 'const': [1.0]})], ignore_index=True)\n",
        "\n",
        "# Generate y values for regression lines\n",
        "ols_y0 = model_0.predict(X0)\n",
        "ols_y1 = model_1.predict(X1)\n",
        "\n",
        "# Create plotting environment\n",
        "fig, ax = plt.subplots()\n",
        "\n",
        "# Assign values\n",
        "color_1 = '#15466d' # Dark blue\n",
        "color_2 = '#770000' # Dark red\n",
        "\n",
        "# Plot regression line for Indicator = 0\n",
        "plt.plot(X0['x0'], ols_y0,\n",
        "         color=color_2,\n",
        "         zorder=1,\n",
        "         linewidth=1)\n",
        "\n",
        "# Plot regression line for Indicator = 1\n",
        "plt.plot(X1['x1'], ols_y1,\n",
        "         color=color_1,\n",
        "         zorder=1,\n",
        "         linewidth=1)\n",
        "\n",
        "# To ensure labels are only added once, use a set\n",
        "labels_set = set()\n",
        "\n",
        "# Plot values separately depending upon Indicator value\n",
        "for i, row in df.iterrows():\n",
        "    if row['indicator'] == 1:\n",
        "        label = 'Preeclampsia = 1' if 'Preeclampsia = 1' not in labels_set else None\n",
        "        ax.scatter(row['x1'], row['y'],\n",
        "            s=row['count']*30,\n",
        "            marker = 'o',\n",
        "            zorder=2,\n",
        "            facecolors='white',\n",
        "            edgecolors=color_1,\n",
        "            label=label)\n",
        "        labels_set.add('Preeclampsia = 1')\n",
        "    else:\n",
        "        label = 'Preeclampsia = 0' if 'Preeclampsia = 0' not in labels_set else None\n",
        "        ax.scatter(row['x1'], row['y'],\n",
        "            s=row['count']*30,\n",
        "            marker = '^',\n",
        "            zorder=3,\n",
        "            facecolors='white',\n",
        "            edgecolors=color_2,\n",
        "            label=label)\n",
        "        labels_set.add('Preeclampsia = 0')\n",
        "\n",
        "# Adding labels\n",
        "ax.set_xlabel('Gestational age (weeks)',fontsize=12)\n",
        "ax.set_ylabel('Head circumference (cm)',fontsize=12)\n",
        "\n",
        "# Adding legend\n",
        "legend=ax.legend(frameon=False)\n",
        "\n",
        "# Adding a legend with custom marker size\n",
        "legend = ax.legend(frameon=False, scatterpoints=1, fontsize=10)\n",
        "\n",
        "# Set marker size in the legend using legend_handles\n",
        "for handle in legend.legend_handles:\n",
        "    handle._sizes =[30]\n",
        "\n",
        "# Display the plot\n",
        "plt.show()\n"
      ]
    },
    {
      "cell_type": "markdown",
      "metadata": {
        "id": "RSp-nb-LestB"
      },
      "source": [
        "If the code is correct, you should see the following plot:\n",
        "\n",
        "![____](https://biologicslab.co/BIO5853/images/module_03/lesson_03_10_image07.png)\n"
      ]
    },
    {
      "cell_type": "markdown",
      "metadata": {
        "id": "GApihaGOestC"
      },
      "source": [
        "The two lines are plotted in **Figure 18.2**. Note that the equations for the infants whose mothers were diagnosed with preeclampsia and those whose mothers were not have identical slopes. In either group, a one week increase in gestational age is associated with a 0.8740 cm increase in head circumference, on average. This is the consequence of fitting a single regression model to the two  different groups of infants. Since one line lies entirely above the other – as determined by the different y-intercepts – the equations also suggest that across all values of gestational age, children whose mothers were not diagnosed with preeclampsia have larger head circumference measurements than children whose mothers were diagnosed with preeclampsia.  "
      ]
    },
    {
      "cell_type": "markdown",
      "metadata": {
        "id": "KT8O-Ev2estC"
      },
      "source": [
        "### **Exercise 5: Plotting the Effects of Indicator Variables**\n",
        "\n",
        "In the cell below, plot the effects of the indicator `smoke` on a 2 way scatter plot of the baby's birtweight (`bwt`) and a function of the mother's weight right befor here pregnancy `lwt`.\n",
        "\n",
        "_Code Hints:_\n",
        "\n",
        "1. You can use this code to extract the x- and y-values:\n",
        "~~~text\n",
        "# Extract x- y-values\n",
        "x1 = np.array(babyDF['lwt'])\n",
        "x2 = np.array(babyDF['race'])\n",
        "x3 = np.array(babyDF['ht'])\n",
        "x4 = np.array(babyDF['ui'])\n",
        "x5 =  np.array(babyDF['smoke'])\n",
        "y = np.array(babyDF['bwt'])\n",
        "~~~\n",
        "\n",
        "2. You can use this code to create a DataFrame to hold the variables:\n",
        "~~~text\n",
        "# Create a DataFrame to hold variables\n",
        "df = pd.DataFrame({'x1': x1, 'indicator': x5, 'y': y})\n",
        "~~~\n",
        "    Note that we assigning the name `indicator` to the `x5` which is the `smoke` variable.\n",
        "3. During plotting, make sure the chang the name of the indicator:\n",
        "~~~text\n",
        "label = 'smoke = 1' if 'smoke = 1' not in labels_set else None\n",
        "~~~\n",
        "    and\n",
        "~~~text\n",
        "labels_set.add('smoke = 1')\n",
        "~~~\n",
        "    You will need to make these changes twice. The second time when `smoke = 0`.\n",
        "\n",
        "3. Don't forget to change the x- and y-labels:\n",
        "~~~text\n",
        "# Adding labels\n",
        "ax.set_xlabel(\"Mother's Weight (lbs)\",fontsize=12)\n",
        "ax.set_ylabel(\"Baby's Birth Weight (gm)\",fontsize=12)\n",
        "~~~"
      ]
    },
    {
      "cell_type": "code",
      "execution_count": null,
      "metadata": {
        "id": "FnF47dKTestC"
      },
      "outputs": [],
      "source": [
        "# Insert your code for Exercise 5 here\n",
        "\n",
        "\n"
      ]
    },
    {
      "cell_type": "markdown",
      "metadata": {
        "id": "SblxYGPUestC"
      },
      "source": [
        "If your code is correct, you should see the following plot:\n",
        "\n",
        "![____](https://biologicslab.co/BIO5853/images/module_03/lesson_03_10_image21.png)\n"
      ]
    },
    {
      "cell_type": "markdown",
      "metadata": {
        "id": "0TDtGWH5estC"
      },
      "source": [
        "You should notice that the slope of the red regression line for the mother's who didn't smoke (`smoke = 0`) is steeper than the slope of the blue regression line for the mother's who smoked during pregnancy (`smoke = 1`). This means that negative effects of smoking effected larger babies more than smaller babies. Since one line lies entirely above the other – as determined by the different y-intercepts – the equations also suggest that across all values of the mother's age, babies whose mothers didn't smoke have larger birthweights than babies whose mothers didn't smoke during their pregnancy."
      ]
    },
    {
      "cell_type": "markdown",
      "metadata": {
        "id": "lO-waUfWestC"
      },
      "source": [
        "## **Model Selection**\n",
        "\n"
      ]
    },
    {
      "cell_type": "markdown",
      "metadata": {
        "id": "AzGzQ4RHestC"
      },
      "source": [
        "As a general rule, we prefer to include in a multivariable regression model only those explanatory variables that help us to predict or to explain the observed variability in the response $( y $), the coefficients of which can be accurately estimated – what we call a parsimonious model. Consequently, if we are presented with a number of potential explanatory variables, how do we decide which ones to retain in the model and which to leave out? This decision is usually made based on a combination of statistical and nonstatistical considerations. Initially, we should have some prior knowledge as to which variables might be important. To study the full effect of each of these explanatory variables, however, it would be necessary to perform a separate regression analysis for each possible combination of the variables. The resulting models would then be evaluated according to some statistical criteria. This strategy for finding the \"best\" regression equation is known as the all possible models approach. While it is the most thorough method, it is also extremely time consuming. If we have a large number of potential explanatory variables, the procedure may not be feasible. As a result, we frequently resort to one of several alternative approaches for choosing a regression model. The two most commonly used procedures are known as _forward selection_ and _backward elimination_.\n",
        "\n",
        "\n",
        "![____](https://biologicslab.co/BIO5853/images/module_03/lesson_03_10_image14.png)\n"
      ]
    },
    {
      "cell_type": "markdown",
      "metadata": {
        "id": "9TdSlmDNestC"
      },
      "source": [
        "## **Evaluation of the Model**  \n",
        "\n",
        "After generating a least squares regression line represented by  $\\hat{y} = \\hat\\beta_0 + \\hat\\beta_1x$,  we might wonder how well this model actually fits the observed data. Is it a good model? There are  several methods available to help evaluate the fit of a linear regression model.\n",
        "\n",
        "### **Coefficient of Determination**\n",
        "\n",
        "One way to get a sense of the fit is to compute the coefficient of determination. The coefficient of determination is represented by $R^2$, and is the square of the Pearson correlation coefficient $r$ between $Y$ and $X$; consequently,  $r^2 = R^2$.  Since _r_ can assume any value in the range −1 to 1, $R^2$ must lie between 0 and 1. If $R^2$ = 1, all  of the data points in the sample fall directly on the least squares line. If $R^2$ = 0, there is no linear  relationship between x and y. The coefficient of determination can be interpreted as the proportion of the variability among the observed values of $y$ that is explained by the linear regression of $y$ on $x$. This interpretation derives from the relationship between $\\sigma_y $, the standard deviation of the outcomes of the response variable $Y$, and $\\sigma_y |x$, the standard deviation of $y$ for a specified value of the explanatory variable $X$, that was presented in Section 17.1:  \n",
        "\n",
        "From the relationship between $(\\sigma_{y|x}$), the standard deviation of the outcomes of the response variable $(Y$), and $(\\sigma_{y|x}$), the standard deviation of $(y$) for a specified value of the explanatory variable $(X$), that was presented in Section 17.1:\n",
        "\n",
        "$$\\sigma_{y|x}^2 = (1 - \\rho^2) \\sigma_y^2. $$\n",
        "\n",
        "Recall that ($\\rho$) is the correlation between $(X$) and $(Y$) in the underlying population. If we replace \\(\\sigma_y\\) and \\(\\sigma_{y|x}\\) by their estimators – the sample standard deviations $(s_y$) and $(s_{y|x}$) – and $(\\rho$) by the Pearson correlation coefficient $(r$), we have\n",
        "\n",
        "$$\n",
        "s_{y|x}^2 = (1 - r^2) s_y^2 = (1 - R^2) s_y^2.\n",
        "$$\n",
        "\n",
        "Solving this equation for $(R^2$),\n",
        "\n",
        "$$\n",
        "R^2 = 1 - \\frac{s_{y|x}^2}{s_y^2} = \\frac{s_y^2 - s_{y|x}^2}{s_y^2}.\n",
        "$$\n",
        "\n",
        "Since $( s^2_{y|x} $) is the variation in the $( y $) values that still remains after accounting for the linear relationship between $( y $) and $( x $), $( s^2_y - s^2_{y|x} $) must be the variation in $( y $) that is explained by this relationship. Thus, $( R^2 $) is the proportion of the total observed variability among the $( y $) values that is explained by the linear regression of $( y $) on $( x $).\n",
        "\n",
        "For the regression of head circumference on gestational age, the coefficient of determination can be shown to be\n",
        "\n",
        "$$ R^2 = 0.6095.$$\n"
      ]
    },
    {
      "cell_type": "markdown",
      "metadata": {
        "id": "MrNX5YxFestD"
      },
      "source": [
        "### Example 6: Plot Residuals\n",
        "\n",
        "The code in the cell recreates **Figure 18.4** using Python. This figure is a 2-way scatterplot of `Residuals` versus the fitted values of the head cicumference."
      ]
    },
    {
      "cell_type": "markdown",
      "metadata": {
        "id": "U6sXH4RCestD"
      },
      "source": [
        "![____](https://biologicslab.co/BIO5853/images/module_03/lesson_03_10_image15.png)\n",
        "\n",
        "**FIGURE 18.4** Residuals versus fitted values of head circumference"
      ]
    },
    {
      "cell_type": "code",
      "execution_count": null,
      "metadata": {
        "id": "LQFyidaJestD"
      },
      "outputs": [],
      "source": [
        "# Example 6: Plot residuals\n",
        "\n",
        "import numpy as np\n",
        "import pandas as pd\n",
        "import matplotlib.pyplot as plt\n",
        "import statsmodels.api as sm\n",
        "\n",
        "# Calculate pair counts and merge back to the original DataFrame\n",
        "df_with_counts = bwtDF.merge(\n",
        "    bwtDF.groupby(['birthwt', 'headcirc']).size().reset_index(name='count'),\n",
        "    on=['birthwt', 'headcirc'],\n",
        "    how='left'\n",
        ")\n",
        "\n",
        "# Extract counts as a numpy array\n",
        "counts = df_with_counts['count'].values\n",
        "\n",
        "# Create X with independent variables and fit regression model\n",
        "X = sm.add_constant(bwtDF[['gestage', 'birthwt']])\n",
        "model = sm.OLS(bwtDF['headcirc'], X).fit()\n",
        "\n",
        "# Compute fitted values for y and residuals\n",
        "fitted_y = model.predict(X)\n",
        "residuals = bwtDF['headcirc'] - fitted_y\n",
        "\n",
        "# Create plotting environment\n",
        "fig, ax = plt.subplots(figsize=(8, 6))\n",
        "color_1 = '#15466d'  # Dark blue\n",
        "\n",
        "# Plot residuals\n",
        "ax.scatter(fitted_y, residuals, s=counts * 30, facecolor='white', edgecolor=color_1)\n",
        "\n",
        "# Set x and y limits and add labels\n",
        "#ax.set(xlim=(20, 32), ylim=(-4, 10))\n",
        "ax.set_xlabel('Fitted value of head circumference', fontsize=12)\n",
        "ax.set_ylabel('Residual', fontsize=12)\n",
        "\n",
        "# Show the plot\n",
        "plt.show()\n"
      ]
    },
    {
      "cell_type": "markdown",
      "metadata": {
        "id": "Z-ui1rOxestD"
      },
      "source": [
        "If the code is correct, you should see the following plot:\n",
        "\n",
        "![____](https://biologicslab.co/BIO5853/images/module_03/lesson_03_10_image16.png)"
      ]
    },
    {
      "cell_type": "markdown",
      "metadata": {
        "id": "ILb0NC5GestD"
      },
      "source": [
        "This figure displays a scatter plot of the residuals from the model containing both gestational age and birth weight versus the fitted values of the head circumference form the same model for the sample of 100 low birth weight infants. There is one residual with a particularly large value that could be considered an outlier: this point corresponds to a child with gestational age 31 weeks, birth weight 900 grams, and a head circumference 45 cm. We would predict the infant's hear circumference to be only\n",
        "\n",
        "$$ \\hat{y} = 8.3080 + 0.4487(31) + 0.0047(900) = 26.5 \\text{ cm} $$\n"
      ]
    },
    {
      "cell_type": "markdown",
      "metadata": {
        "id": "GinewPbbestD"
      },
      "source": [
        "### **Exercise 6: Plot Residuals**\n",
        "\n",
        "In the cell below, write the code to generate a 2-way scatterplot of `Residuals` versus the fitted values of the birth weight (`bwt`) in the `babyDF` DataFrame."
      ]
    },
    {
      "cell_type": "code",
      "execution_count": null,
      "metadata": {
        "id": "knne1ijkestD"
      },
      "outputs": [],
      "source": [
        "# Example 6: Plot residuals\n",
        "\n"
      ]
    },
    {
      "cell_type": "markdown",
      "metadata": {
        "id": "I8Qg1t7lestD"
      },
      "source": [
        "If your code is correct, you should see the following plot:\n",
        "\n",
        "![____](https://biologicslab.co/BIO5853/images/module_03/lesson_03_10_image22.png)"
      ]
    },
    {
      "cell_type": "markdown",
      "metadata": {
        "id": "PR5pjmcFestD"
      },
      "source": [
        "This figure displays a scatter plot of the residuals from the model containing: `lwt`, `race`, `ht`, `ui`, `smoke` as the independent variables and `bwt` as the independent variable.\n",
        "\n"
      ]
    },
    {
      "cell_type": "markdown",
      "metadata": {
        "id": "fe3t0FUEestE"
      },
      "source": [
        "### Example 7: 2-Way Scatter Plot\n",
        "\n",
        "The code in the cell recreates **Figure 18.5** using Python. This figure is a 2-way scatterplot of the baby's length as a function of the mother's age.  "
      ]
    },
    {
      "cell_type": "markdown",
      "metadata": {
        "id": "vapdAq9yestE"
      },
      "source": [
        "![____](https://biologicslab.co/BIO5853/images/module_03/lesson_03_10_image17.png)\n",
        "\n",
        "**FIGURE 18.5** Length versus mother's age for a sample of 100 low birth weight infants."
      ]
    },
    {
      "cell_type": "code",
      "execution_count": null,
      "metadata": {
        "id": "fsqljta7estE"
      },
      "outputs": [],
      "source": [
        "# Example 7: 2-Way scatter plot\n",
        "\n",
        "import numpy as np\n",
        "import pandas as pd\n",
        "import matplotlib.pyplot as plt\n",
        "\n",
        "# Create a DataFrame and count occurrences of each pair (x, y)\n",
        "df_with_counts = (bwtDF[['momage', 'length']]\n",
        "                  .groupby(['momage', 'length'])\n",
        "                  .size()\n",
        "                  .reset_index(name='count'))\n",
        "\n",
        "# Extract counts as a numpy array\n",
        "counts = df_with_counts['count'].values\n",
        "\n",
        "# Create plotting environment\n",
        "fig, ax = plt.subplots()\n",
        "color_1 = '#15466d'  # Dark blue\n",
        "\n",
        "# Create the scatter plot with varying marker size\n",
        "ax.scatter(df_with_counts['momage'], df_with_counts['length'],\n",
        "           s=counts * 30, facecolor='white', edgecolor=color_1)\n",
        "\n",
        "# Set x and y limits and add labels\n",
        "ax.set(xlim=(12, 45), ylim=(18, 48))\n",
        "ax.set_xlabel(\"Mother's age (years)\", fontsize=12)\n",
        "ax.set_ylabel('Length (cm)', fontsize=12)\n",
        "\n",
        "# Display the plot\n",
        "plt.show()\n"
      ]
    },
    {
      "cell_type": "markdown",
      "metadata": {
        "id": "fQAbeufOestE"
      },
      "source": [
        "If the code is correct, you should see the following plot:\n",
        "\n",
        "![____](https://biologicslab.co/BIO5853/images/module_03/lesson_03_10_image18.png)"
      ]
    },
    {
      "cell_type": "markdown",
      "metadata": {
        "id": "ECn7bE0LestE"
      },
      "source": [
        "Based on this graph, the baby's length does _not_ appear to depend upon the mother's age. Specifically, as the mother's age increases, there is no indication that the length of her baby increases."
      ]
    },
    {
      "cell_type": "markdown",
      "metadata": {
        "id": "1X4b_H_lestE"
      },
      "source": [
        "### Example 8: Compute $R^2$\n",
        "\n",
        "The code in the cell below recreates the **_Stata_** output shown on page 443 in your textbook.\n",
        "\n",
        "**Stata** is a general-purpose statistical software package developed by StataCorp. It is widely used for data manipulation, visualization, statistical analysis, and automated reporting. Researchers across various fields, including biomedicine, economics, epidemiology, and sociology, rely on Stata for their data science needs.\n",
        "\n",
        "Some key features of Stata include:\n",
        "- **Data manipulation**: Handling and transforming data efficiently.\n",
        "- **Visualization**: Creating high-quality graphs and charts for data analysis.\n",
        "- **Statistics**: Performing a wide range of statistical analyses.\n",
        "- **Automated reporting**: Generating reports and exporting results in various formats.\n",
        "\n",
        "Stata is known for its user-friendly interface, which includes both a command-line interface and a graphical user interface. It supports multiple platforms, including Windows, macOS, and Linux.\n",
        "\n",
        "The cost of a Stata license can vary depending on the type of license and the duration. Here are some general pricing options:\n",
        "\n",
        "- **Annual License**: Starting from **\\$765 per year**.\n",
        "- **Perpetual License**: Typically around **\\$1,440** for a single-user license.\n",
        "- **Student License**: Around **\\$48 for a 6-month license**.\n",
        "\n",
        "There are also volume discounts for purchasing multiple licenses and network licenses for concurrent use. For the most accurate pricing, it's best to contact Stata directly or visit their [official website](https://www.stata.com/order/).\n"
      ]
    },
    {
      "cell_type": "markdown",
      "metadata": {
        "id": "02UbCDT-estE"
      },
      "source": [
        "![____](https://biologicslab.co/BIO5853/images/module_03/lesson_03_10_image23.png)"
      ]
    },
    {
      "cell_type": "code",
      "execution_count": null,
      "metadata": {
        "id": "ZN7oLSJvestE"
      },
      "outputs": [],
      "source": [
        "# Example 8; Compute r-squared\n",
        "\n",
        "import numpy as np\n",
        "import pandas as pd\n",
        "import statsmodels.api as sm\n",
        "\n",
        "# Fit regression model\n",
        "X = sm.add_constant(bwtDF[['gestage','momage']])\n",
        "model = sm.OLS(bwtDF['length'], X).fit()\n",
        "\n",
        "# Print header\n",
        "print(\"-----Model Summary -------------------------------------------------------------\")\n",
        "\n",
        "# Print model summary\n",
        "print(model.summary())\n"
      ]
    },
    {
      "cell_type": "markdown",
      "metadata": {
        "id": "8rhmxuJ1estE"
      },
      "source": [
        "If the code is correct, you should see the following output:\n",
        "\n",
        "~~~text\n",
        "\n",
        "-----Model Summary -------------------------------------------------------------\n",
        "                            OLS Regression Results                            \n",
        "==============================================================================\n",
        "Dep. Variable:                      y   R-squared:                       0.048\n",
        "Model:                            OLS   Adj. R-squared:                  0.038\n",
        "Method:                 Least Squares   F-statistic:                     4.889\n",
        "Date:                Mon, 14 Oct 2024   Prob (F-statistic):             0.0293\n",
        "Time:                        14:55:20   Log-Likelihood:                -266.25\n",
        "No. Observations:                 100   AIC:                             536.5\n",
        "Df Residuals:                      98   BIC:                             541.7\n",
        "Df Model:                           1                                         \n",
        "Covariance Type:            nonrobust                                         \n",
        "==============================================================================\n",
        "                 coef    std err          t      P>|t|      [0.025      0.975]\n",
        "------------------------------------------------------------------------------\n",
        "const         33.2115      1.669     19.898      0.000      29.899      36.524\n",
        "x              0.1301      0.059      2.211      0.029       0.013       0.247\n",
        "==============================================================================\n",
        "Omnibus:                       29.128   Durbin-Watson:                   1.413\n",
        "Prob(Omnibus):                  0.000   Jarque-Bera (JB):               55.017\n",
        "Skew:                          -1.170   Prob(JB):                     1.13e-12\n",
        "Kurtosis:                       5.780   Cond. No.                         135.\n",
        "==============================================================================\n",
        "\n",
        "Notes:\n",
        "[1] Standard Errors assume that the covariance matrix of the errors is correctly specified.\n",
        "\n",
        "~~~"
      ]
    },
    {
      "cell_type": "markdown",
      "metadata": {
        "id": "Bm1bh16restE"
      },
      "source": [
        "### **Exercise 8: Compute $R^2$**\n",
        "\n",
        "In the cell below, compute the value for $R^2$ for the `babyDF` DataFrame. Simply reuse your code from **Exercise 4**."
      ]
    },
    {
      "cell_type": "code",
      "execution_count": null,
      "metadata": {
        "scrolled": true,
        "id": "nKJREhKiestF",
        "outputId": "d1389d31-aa47-43d8-bb70-b9411e00ed2e",
        "colab": {
          "base_uri": "https://localhost:8080/"
        }
      },
      "outputs": [
        {
          "output_type": "stream",
          "name": "stdout",
          "text": [
            "-----Model Summary -------------------------------------------------------------\n",
            "                            OLS Regression Results                            \n",
            "==============================================================================\n",
            "Dep. Variable:                    bwt   R-squared:                       0.221\n",
            "Model:                            OLS   Adj. R-squared:                  0.200\n",
            "Method:                 Least Squares   F-statistic:                     10.40\n",
            "Date:                Fri, 15 Nov 2024   Prob (F-statistic):           8.57e-09\n",
            "Time:                        15:46:30   Log-Likelihood:                -1489.9\n",
            "No. Observations:                 189   AIC:                             2992.\n",
            "Df Residuals:                     183   BIC:                             3011.\n",
            "Df Model:                           5                                         \n",
            "Covariance Type:            nonrobust                                         \n",
            "==============================================================================\n",
            "                 coef    std err          t      P>|t|      [0.025      0.975]\n",
            "------------------------------------------------------------------------------\n",
            "const       3105.6821    271.575     11.436      0.000    2569.862    3641.502\n",
            "lwt            3.4321      1.648      2.083      0.039       0.181       6.683\n",
            "race        -188.7642     56.339     -3.350      0.001    -299.922     -77.606\n",
            "ht          -595.7334    201.479     -2.957      0.004    -993.253    -198.214\n",
            "ui          -522.3361    135.951     -3.842      0.000    -790.570    -254.103\n",
            "smoke       -364.7080    104.323     -3.496      0.001    -570.539    -158.877\n",
            "==============================================================================\n",
            "Omnibus:                        1.676   Durbin-Watson:                   0.546\n",
            "Prob(Omnibus):                  0.433   Jarque-Bera (JB):                1.625\n",
            "Skew:                          -0.141   Prob(JB):                        0.444\n",
            "Kurtosis:                       2.644   Cond. No.                         791.\n",
            "==============================================================================\n",
            "\n",
            "Notes:\n",
            "[1] Standard Errors assume that the covariance matrix of the errors is correctly specified.\n"
          ]
        }
      ],
      "source": [
        "# Insert your code for Exercise 8 here\n",
        "\n"
      ]
    },
    {
      "cell_type": "markdown",
      "metadata": {
        "id": "DwfnsMLkestF"
      },
      "source": [
        "If your code is correct, you should see the following output:\n",
        "\n",
        "~~~text\n",
        "-----Model Summary -------------------------------------------------------------\n",
        "                            OLS Regression Results                            \n",
        "==============================================================================\n",
        "Dep. Variable:                    bwt   R-squared:                       0.221\n",
        "Model:                            OLS   Adj. R-squared:                  0.200\n",
        "Method:                 Least Squares   F-statistic:                     10.40\n",
        "Date:                Thu, 14 Nov 2024   Prob (F-statistic):           8.57e-09\n",
        "Time:                        09:55:39   Log-Likelihood:                -1489.9\n",
        "No. Observations:                 189   AIC:                             2992.\n",
        "Df Residuals:                     183   BIC:                             3011.\n",
        "Df Model:                           5                                         \n",
        "Covariance Type:            nonrobust                                         \n",
        "==============================================================================\n",
        "                 coef    std err          t      P>|t|      [0.025      0.975]\n",
        "------------------------------------------------------------------------------\n",
        "const       3105.6821    271.575     11.436      0.000    2569.862    3641.502\n",
        "lwt            3.4321      1.648      2.083      0.039       0.181       6.683\n",
        "race        -188.7642     56.339     -3.350      0.001    -299.922     -77.606\n",
        "ht          -595.7334    201.479     -2.957      0.004    -993.253    -198.214\n",
        "ui          -522.3361    135.951     -3.842      0.000    -790.570    -254.103\n",
        "smoke       -364.7080    104.323     -3.496      0.001    -570.539    -158.877\n",
        "==============================================================================\n",
        "Omnibus:                        1.676   Durbin-Watson:                   0.546\n",
        "Prob(Omnibus):                  0.433   Jarque-Bera (JB):                1.625\n",
        "Skew:                          -0.141   Prob(JB):                        0.444\n",
        "Kurtosis:                       2.644   Cond. No.                         791.\n",
        "==============================================================================\n",
        "\n",
        "Notes:\n",
        "[1] Standard Errors assume that the covariance matrix of the errors is correctly specified.\n",
        "~~~"
      ]
    },
    {
      "cell_type": "markdown",
      "metadata": {
        "id": "TpeJy7NsestF"
      },
      "source": [
        "You have to admit that since Python and Colab are free, there isn't really any reason to pay for a **Stata** license. :-)"
      ]
    },
    {
      "cell_type": "markdown",
      "metadata": {
        "id": "9z2Z3ah5estF"
      },
      "source": [
        "## **Lesson Turn-in**\n",
        "\n",
        "When you have completed and run all of the code cells, create a PDF of your notebook and upload the **_PDF_** to your Lesson_03_10 assignment in Canvas for grading.\n"
      ]
    }
  ],
  "metadata": {
    "kernelspec": {
      "display_name": "Python 3 (ipykernel)",
      "language": "python",
      "name": "python3"
    },
    "language_info": {
      "codemirror_mode": {
        "name": "ipython",
        "version": 3
      },
      "file_extension": ".py",
      "mimetype": "text/x-python",
      "name": "python",
      "nbconvert_exporter": "python",
      "pygments_lexer": "ipython3",
      "version": "3.11.5"
    },
    "colab": {
      "provenance": [],
      "include_colab_link": true
    }
  },
  "nbformat": 4,
  "nbformat_minor": 0
}