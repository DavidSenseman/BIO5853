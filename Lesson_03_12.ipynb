{
  "cells": [
    {
      "cell_type": "markdown",
      "metadata": {
        "id": "view-in-github",
        "colab_type": "text"
      },
      "source": [
        "<a href=\"https://colab.research.google.com/github/DavidSenseman/BIO5853/blob/main/Lesson_03_12.ipynb\" target=\"_parent\"><img src=\"https://colab.research.google.com/assets/colab-badge.svg\" alt=\"Open In Colab\"/></a>"
      ]
    },
    {
      "cell_type": "markdown",
      "metadata": {
        "id": "5fMJllh9ess1"
      },
      "source": [
        "---------------------------\n",
        "\n",
        "**COPYRIGHT NOTICE:** This Jupyterlab/Colab notebook is a companion supplement to the textbook _Principles of Biostatistics_ by M. Pagano. K. Marcello and H. Mattie (3rd ed) published in 2022 by CRC Press. It is designed to be used in conjunction with -- not as a standalone substitute for – this textbook.  \n",
        "\n",
        "This notebook is licensed under the Apache License, Version 2.0 (the \"License\"); You may not use this file except in compliance with the License. You may obtain a copy of the License at\n",
        ">http://www.apache.org/licenses/LICENSE-2.0\n",
        "\n",
        "Unless required by applicable law or agreed to in writing, software distributed under the License is distributed on an \"AS IS\" BASIS, WITHOUT WARRANTIES OR CONDITIONS OF ANY KIND, either express or implied. See the License for the specific language governing permissions and limitations under the License.\n",
        "\n",
        "------------------------"
      ]
    },
    {
      "cell_type": "markdown",
      "metadata": {
        "id": "oDlBiNhIess1"
      },
      "source": [
        "# **BIO 5853: Biostatistics**"
      ]
    },
    {
      "cell_type": "markdown",
      "metadata": {
        "jp-MarkdownHeadingCollapsed": true,
        "id": "-FM_an4qess1"
      },
      "source": [
        "##### **Module 3: Inference**\n",
        "\n",
        "* Instructor: [David Senseman](mailto:David.Senseman@utsa.edu), [Department of Integrative Biology](https://sciences.utsa.edu/integrative-biology/), [UTSA](https://www.utsa.edu/)\n",
        "\n",
        "\n",
        "### Module 3 Material\n",
        "\n",
        "* Part 3.1: Confidence Intervals\n",
        "* Part 3.2: Hypothesis Testing\n",
        "* Part 3.3: Comparison of Two Means\n",
        "* Part 3.4: Analysis of Variance (ANOVA)\n",
        "* Part 3.5: Nonparametric Methods\n",
        "* Part 3.6: Inference on Proportions\n",
        "* Part 3.7: Contingency Tables\n",
        "* Part 3.8: Correlation\n",
        "* Part 3.9: Simple Linear Regression\n",
        "* Part 3.10: Multiple Linear Regression\n",
        "* Part 3.11: Logistic Regression\n",
        "* **Part 3.12: Survival Analysis**"
      ]
    },
    {
      "cell_type": "markdown",
      "metadata": {
        "id": "yKQylnEiLDUM"
      },
      "source": [
        "## Google CoLab Instructions\n",
        "\n",
        "The following code ensures that Google CoLab is running the correct version of TensorFlow.\n",
        "  Running the following code will map your GDrive to ```/content/drive```."
      ]
    },
    {
      "cell_type": "code",
      "execution_count": null,
      "metadata": {
        "id": "seXFCYH4LDUM"
      },
      "outputs": [],
      "source": [
        "# YOU MUST RUN THIS CODE CELL FIRST\n",
        "\n",
        "try:\n",
        "    from google.colab import drive\n",
        "    drive.mount('/content/drive', force_remount=True)\n",
        "    from google.colab import auth\n",
        "    auth.authenticate_user()\n",
        "    COLAB = True\n",
        "    print(\"Note: using Google CoLab\")\n",
        "    import requests\n",
        "    gcloud_token = !gcloud auth print-access-token\n",
        "    gcloud_tokeninfo = requests.get('https://www.googleapis.com/oauth2/v3/tokeninfo?access_token=' + gcloud_token[0]).json()\n",
        "    print(gcloud_tokeninfo['email'])\n",
        "except:\n",
        "    print(\"Note: not using Google CoLab\")\n",
        "    COLAB = False"
      ]
    },
    {
      "cell_type": "markdown",
      "metadata": {
        "id": "tLr-0ZCZess3"
      },
      "source": [
        "# **Part 3.12: Survival Analysis**\n",
        "\n",
        "**Survival analysis** is a branch of statistics that deals with the analysis of time-to-event data. The \"event\" can be any significant occurrence or endpoint of interest, such as death, disease recurrence, equipment failure, etc. The key focus is on estimating the time until the event occurs and understanding the factors that influence this timing.\n",
        "\n",
        "#### Key Concepts\n",
        "\n",
        "1. **Survival Function**:\n",
        "    - Represents the probability that an individual survives beyond a certain time.\n",
        "    - Typically denoted as \\( S(t) \\).\n",
        "\n",
        "2. **Hazard Function**:\n",
        "    - Describes the instantaneous rate of the event occurring at a particular time, given that the individual has survived up to that time.\n",
        "    - Denoted as \\( \\lambda(t) \\).\n",
        "\n",
        "3. **Censoring**:\n",
        "    - Occurs when the exact time of the event is unknown for some individuals. This can happen due to individuals leaving the study early, the study ending before the event occurs, etc.\n",
        "    - Censoring is a crucial aspect of survival analysis as it allows for the inclusion of incomplete data.\n",
        "\n",
        "#### Importance in Biostatistics\n",
        "\n",
        "Survival analysis is particularly important in biostatistics for several reasons:\n",
        "\n",
        "1. **Medical Research**:\n",
        "    - Helps in understanding the effectiveness of treatments and interventions.\n",
        "    - Used to estimate survival rates for different conditions and to identify risk factors associated with poor outcomes.\n",
        "\n",
        "2. **Clinical Trials**:\n",
        "    - Essential for analyzing time-to-event data, such as the time until disease recurrence or progression-free survival.\n",
        "    - Provides insights into the long-term benefits and risks of treatments.\n",
        "\n",
        "3. **Public Health**:\n",
        "    - Supports the development of preventive measures by identifying factors that influence the timing of health-related events.\n",
        "    - Assists in planning and resource allocation by predicting future trends in disease occurrence and survival rates.\n",
        "\n",
        "4. **Epidemiology**:\n",
        "    - Vital for studying the natural history of diseases and the impact of exposures on the timing of health outcomes.\n",
        "    - Facilitates the comparison of survival experiences between different groups (e.g., exposed vs. unexposed, treated vs. untreated).\n",
        "\n",
        "Survival analysis provides a comprehensive framework for dealing with time-to-event data, making it indispensable in the field of biostatistics.\n",
        "\n"
      ]
    },
    {
      "cell_type": "markdown",
      "metadata": {
        "id": "HjLeqyq5ess3"
      },
      "source": [
        "### **Introduction**\n",
        "\n",
        "In Chapter 4 we use the life table to consider the problem of quantifying how long individuals in a population survive as that population ages. More generally, the variable we are interested in may be the length of time from an initial start point until the occurrence of some specified event. This is\n",
        "often the time from birth until death, but might also be the time from transplant surgery until the new organ fails, or the time from start of maintenance therapy for a patient whose cancer has gone into remission until the relapse of disease. The time interval between the start point and the subsequent event — often called a failure event — is known as the _survival time_. The analysis of time to event data generally focuses on estimating the probability that an individual will survive beyond a given length of time.\n",
        "\n",
        "One common occurrence when working with survival data is that not all individuals are observed until their respective times of failure. If the time interval between the start point and the subsequent failure event can be quite long, the data may be analyzed before the failure event has occurred in\n",
        "all study subjects. Not everyone has died, or has experienced organ failure, or has had their cancer return. Others who either move away before the study is complete or who refuse to participate any longer are said to be _lost to follow-up_. The incomplete observation of time to failure is known as _censoring_. The presence of censored observations distinguishes the analysis of survival data from other analyses of continuous measurements.\n",
        "\n",
        "A distribution of survival times can be characterized by a _survival function_, represented by $S(t)$. $S(t)$ is defined as the probability that an individual survives beyond time $t$. Equivalently, for a given $t$, $S(t)$ specifies the proportion of individuals who have not yet failed at that time. If $T$ is a random variable representing survival time, then\n",
        "\n",
        "$$ S(t) = P(T>t). $$\n",
        "\n",
        "The graph of $S(t)$ versus $t$ is called a _survival curve_.\n",
        "\n",
        "![____](https://biologicslab.co/BIO5853/images/module_03/lesson_03_12_image01.png)\n",
        "\n",
        "\n",
        "**FIGURE 20.1** Survival curves for three categories of White males: nonusers of tobacco, moderate smokers, and heavy smokers, 1938."
      ]
    },
    {
      "cell_type": "markdown",
      "metadata": {
        "id": "ZDZEBjJqess4"
      },
      "source": [
        "### **Datasets for this Lesson**\n",
        "\n",
        "We will be using several differnt datasets for this lesson. As usual, we will need to download them from the course file server and store in DataFrames."
      ]
    },
    {
      "cell_type": "markdown",
      "metadata": {
        "id": "ASdq50kdess4"
      },
      "source": [
        "### Example 1A: Read Datafile\n",
        "\n",
        "We will be using a datafile called `hemophiliac_survival.csv` stored on the course HTTPS server. As the file is read, the data is stored in a DataFrame called `hemoDF`.\n",
        "\n"
      ]
    },
    {
      "cell_type": "code",
      "execution_count": null,
      "metadata": {
        "scrolled": true,
        "id": "8C7s4ZNzess4"
      },
      "outputs": [],
      "source": [
        "# Example 1A: Read datafile\n",
        "\n",
        "import pandas as pd\n",
        "\n",
        "# Read datafile and create DataFrame\n",
        "hemoDF = pd.read_csv(\n",
        "    \"https://biologicslab.co/BIO5853/data/hemophiliac_survival.csv\",\n",
        "    index_col=0,\n",
        "    sep=',',\n",
        "    na_values=['NA','?'])\n",
        "\n",
        "# Set max rows and max columns\n",
        "pd.set_option('display.max_rows', 6)\n",
        "pd.set_option('display.max_columns', 8)\n",
        "\n",
        "# Display DataFrame\n",
        "display(hemoDF)"
      ]
    },
    {
      "cell_type": "markdown",
      "metadata": {
        "id": "x-FaGkSTess4"
      },
      "source": [
        "If the code is correct, you should see the following output:\n",
        "\n",
        "![____](https://biologicslab.co/BIO5853/images/module_03/lesson_03_12_image30.png)"
      ]
    },
    {
      "cell_type": "markdown",
      "metadata": {
        "id": "I4zjhFle6R-z"
      },
      "source": [
        "### Example 1B: Read Datafile\n",
        "\n",
        "We will be using a datafile called `hemophiliac_survival_age.csv` stored on the course HTTPS server. As the file is read, the data is stored in a DataFrame called `hemo_ageDF`.\n",
        "\n"
      ]
    },
    {
      "cell_type": "code",
      "execution_count": null,
      "metadata": {
        "scrolled": true,
        "id": "3-O-oqpo6R-z"
      },
      "outputs": [],
      "source": [
        "# Example 1B: Read datafile\n",
        "\n",
        "import pandas as pd\n",
        "\n",
        "# Read datafile and create DataFrame\n",
        "hemo_ageDF = pd.read_csv(\n",
        "    \"https://biologicslab.co/BIO5853/data/hemophiliac_survival_age.csv\",\n",
        "    index_col=0,\n",
        "    sep=',',\n",
        "    na_values=['NA','?'])\n",
        "\n",
        "# Set max rows and max columns\n",
        "pd.set_option('display.max_rows', 6)\n",
        "pd.set_option('display.max_columns', 8)\n",
        "\n",
        "# Display DataFrame\n",
        "display(hemo_ageDF)"
      ]
    },
    {
      "cell_type": "markdown",
      "metadata": {
        "id": "dCOVWjx26R-0"
      },
      "source": [
        "If the code is correct, you should see the following output:\n",
        "\n",
        "![____](https://biologicslab.co/BIO5853/images/module_03/lesson_03_12_image31.png)"
      ]
    },
    {
      "cell_type": "markdown",
      "metadata": {
        "id": "HRdkjx2G67l7"
      },
      "source": [
        "### Example 1C: Read Datafile\n",
        "\n",
        "We will be using a datafile called `breast_cancer.csv` stored on the course HTTPS server. As the file is read, the data is stored in a DataFrame called `bcDF`.\n",
        "\n"
      ]
    },
    {
      "cell_type": "code",
      "execution_count": null,
      "metadata": {
        "scrolled": true,
        "id": "QSShNKed67l8"
      },
      "outputs": [],
      "source": [
        "# Example 1C: Read datafile\n",
        "\n",
        "import pandas as pd\n",
        "\n",
        "# Read datafile and create DataFrame\n",
        "bcDF = pd.read_csv(\n",
        "    \"https://biologicslab.co/BIO5853/data/breast_cancer.csv\",\n",
        "    index_col=0,\n",
        "    sep=',',\n",
        "    na_values=['NA','?'])\n",
        "\n",
        "# Set max rows and max columns\n",
        "pd.set_option('display.max_rows', 6)\n",
        "pd.set_option('display.max_columns', 8)\n",
        "\n",
        "# Display DataFrame\n",
        "display(bcDF)"
      ]
    },
    {
      "cell_type": "markdown",
      "metadata": {
        "id": "G4WQan-g67l8"
      },
      "source": [
        "If the code is correct, you should see the following output:\n",
        "\n",
        "![____](https://biologicslab.co/BIO5853/images/module_03/lesson_03_12_image32.png)"
      ]
    },
    {
      "cell_type": "markdown",
      "metadata": {
        "id": "2HpLWjgqwCC2"
      },
      "source": [
        "### Example 1D: Read Datafile\n",
        "\n",
        "We will be using a datafile called `life_table_2016.csv` stored on the course HTTPS server. As the file is read, the data is stored in a DataFrame called `lifeDF`.\n",
        "\n"
      ]
    },
    {
      "cell_type": "code",
      "execution_count": null,
      "metadata": {
        "scrolled": true,
        "id": "P2AzAWM-FsXL"
      },
      "outputs": [],
      "source": [
        "# Example 1D: Read datafile\n",
        "\n",
        "import pandas as pd\n",
        "\n",
        "# Read datafile and create DataFrame\n",
        "lifeDF = pd.read_csv(\n",
        "    \"https://biologicslab.co/BIO5853/data/life_table_2016.csv\",\n",
        "    index_col=0,\n",
        "    sep=',',\n",
        "    na_values=['NA','?'])\n",
        "\n",
        "# Set max rows and max columns\n",
        "pd.set_option('display.max_rows', 6)\n",
        "pd.set_option('display.max_columns', 8)\n",
        "\n",
        "# Display DataFrame\n",
        "display(lifeDF)"
      ]
    },
    {
      "cell_type": "markdown",
      "metadata": {
        "id": "uS3cX4erFsXL"
      },
      "source": [
        "If the code is correct, you should see the following output:\n",
        "\n",
        "![____](https://biologicslab.co/BIO5853/images/module_03/lesson_03_12_image36.png)"
      ]
    },
    {
      "cell_type": "markdown",
      "source": [
        "# **Life Table Method**\n",
        "\n",
        "In Chapter 4 we describe the **period life table** as a means of quantifying the life expectancy of a population. The period life table is created based on observing a cross-section of the population over a short period of time. The life table method groups survival times for members of a population into\n",
        "intervals of fixed length, often one year.\n",
        "\n",
        "Using slightly different notation than in Chapter 4 — we replace $x$ by $t$ — the first three columns of the table enumerate: age, the time interval starting at age t; mortality rate, the proportion of individuals alive at the beginning of the interval who fail prior to the end of the interval ($q_t$), also known as the _hazard function_; and persons alive, the number of individuals alive at the beginning of the age interval ($l_t$). Then, if $I_0$ is the number of people alive at time $0$ and $l_t$, the number still alive at time $t$, the next column of the table is the proportion of individuals who have not yet failed at time\n",
        "t, that is,\n",
        "\n",
        "$$ S_t = \\frac{l_t} {l_0} $$\n",
        "\n",
        "**Table 20.1** contains a portion of the United States life table for 2016.\n",
        "The fourth column of the table is the survival function at time $t$, where\n",
        "\n",
        "$$ S_t = \\frac{l_t} {100.000} $$"
      ],
      "metadata": {
        "id": "88BPXmrYwWYi"
      }
    },
    {
      "cell_type": "markdown",
      "source": [
        "\n",
        "\n",
        "![___](https://biologicslab.co/BIO5853/images/module_03/lesson_03_12_image34.png)\n",
        "\n",
        "**TABLE 20.1** United States life table for individuals less than 30 years of age, 2016."
      ],
      "metadata": {
        "id": "LxhbFbeXBTs9"
      }
    },
    {
      "cell_type": "markdown",
      "source": [
        "### **Survival Curves from Period Life Table**\n",
        "\n",
        "The corresponding survival curve is plotted in **Figure 20.2**. **Table 20.1** is an example of a _period_, or _current, life table_. It is constructed from data gathered over a relatively short period of time within each age interval. However, the persons represented in one age interval are not the same as\n",
        "those followed in each subsequent interval. The life table method can also be applied to a sample of individuals drawn from a population.\n",
        "\n",
        "Ideally, we would prefer to work with a cohort life table, which tracks a group of people longitudinally over their entire lifetimes. This method is not practical for large population studies, however. It would involve following a sizable group of individuals for over 100 years. However, it is often used in smaller studies in which patients are enrolled sequentially and followed for\n",
        "shorter periods of time. Furthermore, these methods are often applied to samples rather than entire nopulations: inference is then made based on what is observed in the sample.\n"
      ],
      "metadata": {
        "id": "beI7s0biJlia"
      }
    },
    {
      "cell_type": "markdown",
      "metadata": {
        "id": "mlPm4OB_ess6"
      },
      "source": [
        "  \n",
        "\n",
        "![____](https://biologicslab.co/BIO5853/images/module_03/lesson_03_12_image03.png)\n",
        "\n",
        "**FIGURE 20.2**  Survival curve for the Unites States population in 2016."
      ]
    },
    {
      "cell_type": "markdown",
      "source": [
        "### Example 3: Plot Period Survival Curve\n",
        "\n",
        "The code in the cell below uses the data in the `lifeDF` DataFrame to recreate **Figure 20.2** on page 483 in your textbook.\n",
        "\n",
        "_Code Description:_\n",
        "\n",
        "This is the code chunk for defining the x- and y-values for the plot:\n",
        "```python\n",
        "# Define x- and y-values\n",
        "ages = lifeDF['age']\n",
        "survival_percent = lifeDF['lx']/1000\n",
        "```"
      ],
      "metadata": {
        "id": "0HajIEaNLE3b"
      }
    },
    {
      "cell_type": "code",
      "source": [
        "# Example 3: Plot period survival curve\n",
        "\n",
        "import matplotlib.pyplot as plt\n",
        "import numpy as np\n",
        "\n",
        "# Define x- and y-values\n",
        "ages = lifeDF['age']\n",
        "survival_percent = lifeDF['lx']/1000\n",
        "\n",
        "# Define color\n",
        "color_1 = '#15466d'\n",
        "\n",
        "# Create the plot\n",
        "plt.figure(figsize=(8, 6))\n",
        "plt.plot(ages, survival_percent, color=color_1)\n",
        "\n",
        "# Add labels and title\n",
        "plt.xlabel('Age (years)', fontsize=12)\n",
        "plt.ylabel('Percent population surviving (%)', fontsize=12)\n",
        "\n",
        "# Set the limits for x and y axes\n",
        "plt.xlim(ages.min(), ages.max())\n",
        "plt.ylim(-5, 105)\n",
        "\n",
        "# Display grid\n",
        "plt.grid(False)\n",
        "\n",
        "# Show the plot\n",
        "plt.show()\n"
      ],
      "metadata": {
        "id": "oH1kQ8SKIUyN"
      },
      "execution_count": null,
      "outputs": []
    },
    {
      "cell_type": "markdown",
      "metadata": {
        "id": "QbQO9LpbMUox"
      },
      "source": [
        "If the code is correct, you should see the following plot:\n",
        "\n",
        "![____](https://biologicslab.co/BIO5853/images/module_03/lesson_03_12_image37.png)"
      ]
    },
    {
      "cell_type": "markdown",
      "source": [
        "## **Life Table with Small Population Size**\n",
        "\n",
        "Ideally, we would prefer to work with a cohort life table, which tracks a group of people longitudinally over their entire lifetimes. This method is not practical for large population studies, however. It would involve following a sizable group of individuals for over 100 years. However, it is often used in smaller studies in which patients are enrolled sequentially and followed for\n",
        "shorter periods of time. Furthermore, these methods are often applied to samples rather than entire nopulations: inference is then made based on what is observed in the sample.\n",
        "\n",
        "Using the life table method, we could summarize the data for the 12 patients as in **Table 20.3**. Note that the first column contains survival time after diagnosis rather than age. A survival time of $t$ months means that an individual survived until time $t$ and then died immediately after. Since 1 out\n",
        "of the 12 individuals in the initial cohort died at 2 months, the proportion of patients dying in the interval 2-3 months is estimated as\n",
        "\n",
        "$$ q_2 = \\frac{1}{12} = 0.0833. $$\n",
        "\n",
        "One of the remaining 11 individuals died at 3 months; consequently,\n",
        "\n",
        "$$ q_2 = \\frac{1}{11} = 0.0909. $$\n",
        "\n",
        "Similarly, 2 of the remaining 10 patients died at six months, and\n",
        "\n",
        "$$ q_2 = \\frac{2}{10} = 0.2000. $$\n"
      ],
      "metadata": {
        "id": "qDZekBVfMev-"
      }
    },
    {
      "cell_type": "markdown",
      "source": [
        "\n",
        "\n",
        "![___](https://biologicslab.co/BIO5853/images/module_03/lesson_03_12_image04.png)\n",
        "\n",
        "**TABLE 20.2** Interval from primary `AIDS` diagnosis until death for a sample of 12 hemophiliac patients at most 40 years of age a `HIV` seroconversion."
      ],
      "metadata": {
        "id": "pKa2GPS8MeKt"
      }
    },
    {
      "cell_type": "markdown",
      "source": [
        "Recall from Chapter 4 that $q_t$ is also called the _hazard function_. In time intervals not containing a death, such as 0-1 months and 1-2 months, the estimated hazard function is equal to 0.\n",
        "\n",
        "The fourth column of **Table 20.3** contains the proportion of individuals who do not fail during a given interval. In the interval 2-3 months, for example, the proportion of patients who died is $q_2$ = 0.0833, and thus the proportion who survived is\n",
        "\n",
        "$$ 1−q_2=1−0.0833=0.9167.$$\n",
        "\n",
        "In time intevals not containing a death, the estimated proportion of patients who do not fail is 1."
      ],
      "metadata": {
        "id": "kd1BuscfNNOn"
      }
    },
    {
      "cell_type": "markdown",
      "source": [
        "![___](https://biologicslab.co/BIO5853/images/module_03/lesson_03_12_image05.png)\n",
        "\n",
        "**TABLE 20.3** Life table method of estimating $S(t)$ for hemophiliac patients at most 40 years of age a `HIV` seroconversion."
      ],
      "metadata": {
        "id": "WekhWo5INNCP"
      }
    },
    {
      "cell_type": "markdown",
      "metadata": {
        "id": "K0xLgLgIess6"
      },
      "source": [
        "### Example 4:  Plot Survival Curve from Data\n",
        "\n",
        "The code in the cell below shows how to recreate **Figure 20.3** on page 486. In this example, we can directly plot the survival curve from data in the DataFrame `hemoDF`. Later we will have to process the data before it can be plotted.\n",
        "\n",
        "**FIGURE 20.3** Survival curve for hemophiliac patients at most 40 years of age at `HIV` seroconversion, estimated using the life table method.\n",
        "\n",
        "![___](https://biologicslab.co/BIO5853/images/module_03/lesson_03_12_image06.png)\n",
        "\n",
        "_Code Decription:_\n",
        "\n",
        "The plotting is done twice. We first plot the solid line with `ax.plot()` and then the markers with `ax.scatter()`.\n",
        "\n",
        "```python\n",
        "# Create line graph\n",
        "linegraph = ax.plot(x,y, color=color_1, linestyle='-')\n",
        "\n",
        "# Create the scatter plot\n",
        "scatter = ax.scatter(x, y, facecolors='white',\n",
        "                     edgecolors=color_1,\n",
        "                     zorder=3)\n",
        "```\n",
        "\n",
        "\n"
      ]
    },
    {
      "cell_type": "code",
      "source": [
        "# Example 4: Plot survival curve from data\n",
        "\n",
        "import matplotlib.pyplot as plt\n",
        "import numpy as np\n",
        "\n",
        "# Make copy\n",
        "df = hemoDF.copy()\n",
        "\n",
        "# Assign x and y\n",
        "x = df['month'].values\n",
        "y = df['survival'].values\n",
        "\n",
        "# Create plotting environment\n",
        "fig, ax = plt.subplots()\n",
        "\n",
        "# Define color\n",
        "color_1 = '#15466d'\n",
        "\n",
        "# Create line graph\n",
        "linegraph = ax.plot(x,y, color=color_1, linestyle='-')\n",
        "\n",
        "# Create the scatter plot\n",
        "scatter = ax.scatter(x, y, facecolors='white',\n",
        "                     edgecolors=color_1,\n",
        "                     zorder=3)\n",
        "\n",
        "# Set x-axis limits\n",
        "ax.set_xlim(-1,35)\n",
        "\n",
        "# Adding labels\n",
        "ax.set_xlabel('Survival time (months)', fontsize=12)\n",
        "ax.set_ylabel('Probability of survival', fontsize=12)\n",
        "\n",
        "# Display the plot\n",
        "plt.show()"
      ],
      "metadata": {
        "id": "--uWRGzzhv3q"
      },
      "execution_count": null,
      "outputs": []
    },
    {
      "cell_type": "markdown",
      "metadata": {
        "id": "2a08_Mq2k3vi"
      },
      "source": [
        "If the code is correct, you should see the following plot:\n",
        "\n",
        "![____](https://biologicslab.co/BIO5853/images/module_03/lesson_03_12_image38.png)\n",
        "\n",
        "\n",
        "\n",
        "**FIGURE 20.3** Survival curve for hemophiliac patients at most 40 years of age at `HIV` seroconversion, estimated using the life table method."
      ]
    },
    {
      "cell_type": "markdown",
      "source": [
        "![___](https://biologicslab.co/BIO5853/images/module_03/lesson_03_12_image07.png)\n"
      ],
      "metadata": {
        "id": "j5MkWcv3lkw6"
      }
    },
    {
      "cell_type": "markdown",
      "source": [
        "# **Product-Limit Method**\n",
        "\n",
        "When we use the life table method, the estimated survival function S(t) changes only during the time intervals in which at least one death occurs. For smaller datasets, such as the sample of 12 hemophiliac patients diagnosed with urv/arps, there can be many intervals without a single death. In these instances, it is not efficient to present the survival function in this way. The product-limit method of estimating a survival function, also called the Kaplan-Meier method, is a nonparametric technique that uses the exact survival time for each individual in a sample instead of grouping the times into intervals.\n",
        "\n",
        "**Table 20.4** displays the product-limit estimate of the survival function for the sample of 12 hemophiliacs under the age of 40 at the time of Hiv seroconversion. Instead of time intervals, the first column of the table contains the exact times at which at least one failure occurred; patients\n",
        "died 2 months after diagnosis, 3 months after diagnosis, 6 months after diagnosis, and so on. The patient with the longest survival died 32 months after primary arps diagnosis. The second column of the table lists the proportions of patients alive just prior to each time ¢ who fail at that time, and the third column the proportions of individuals who do not fail at $t$. Using the multiplicative rule of probability, the proportions of individuals who survive beyond each time ¢ can be estimated; the technique is the same as it was for the life table method.\n",
        "\n",
        "![____](https://biologicslab.co/BIO5853/images/module_03/lesson_03_12_image08.png)\n",
        "\n",
        "**TABLE 20.4** Product-limit method of estimating the survival function $S(t)$ for hemophiliac patients at most 40 years of age at `HIV` seroconversion."
      ],
      "metadata": {
        "id": "OacPoBJel8WC"
      }
    },
    {
      "cell_type": "markdown",
      "source": [
        "## **Install `lifelines` Package**\n",
        "\n",
        "## Lifelines: Survival Analysis in Python\n",
        "\n",
        "The **lifelines** package is a **Python library** designed for survival analysis. Survival analysis is a branch of statistics that deals with analyzing the expected duration of time until one or more events happen, such as death in biological organisms and failure in mechanical systems. It's widely used in fields like medicine, biology, engineering, economics, and social sciences.\n",
        "\n",
        "### Key Features of Lifelines:\n",
        "1. **Kaplan-Meier Estimator**: Used to estimate the survival function from lifetime data.\n",
        "2. **Nelson-Aalen Estimator**: Used to estimate the cumulative hazard function.\n",
        "3. **Cox Proportional Hazards Model**: A regression model commonly used in medical research for investigating the association between the survival time of patients and one or more predictor variables.\n",
        "4. **Parametric Models**: Lifelines also supports parametric survival models, which assume a specific distribution for the survival times.\n",
        "5. **Censoring**: Handles right-censored data, which is common in survival analysis where the event of interest has not occurred for some subjects during the study period.\n",
        "\n",
        "### How It Works:\n",
        "1. **Data Preparation**: You start by preparing your data, which typically includes survival times and event indicators (whether the event of interest has occurred).\n",
        "2. **Model Fitting**: You fit a survival model to your data using lifelines' functions. For example, you can fit a Kaplan-Meier estimator or a Cox proportional hazards model.\n",
        "3. **Prediction**: Once the model is fitted, you can use it to make predictions about survival probabilities or hazard rates for new data points.\n",
        "4. **Visualization**: Lifelines provides functions to plot survival curves, cumulative hazard functions, and other visualizations to help interpret the results.\n",
        "\n",
        "Run the next code cell to install the `lifelines` package.\n"
      ],
      "metadata": {
        "id": "AXjrA1Fz81Z7"
      }
    },
    {
      "cell_type": "code",
      "source": [
        "pip install lifelines\n"
      ],
      "metadata": {
        "id": "aXDaBgSlESW1"
      },
      "execution_count": null,
      "outputs": []
    },
    {
      "cell_type": "markdown",
      "source": [
        "## **Survival Curves -- Product-Limit Method**\n",
        "\n",
        "The survival curve corresponding to the survival function in **Table 20.4** is plotted in **Figure 20.4**. When the product-limit method is used, $S(t)$ is assumed to remain the same over the time periods between deaths. It changes only when a subject fails.\n",
        "\n",
        "**FIGURE 20.4** Survival curve for hemophiliac patients at most 40 years of age at `HIV` seroconversion, estimated using the product-limit method.\n",
        "\n",
        "![____](https://biologicslab.co/BIO5853/images/module_03/lesson_03_12_image09.png)\n",
        "\n",
        "Keep in mind that $S(t)$ was calculated using the data in a single sample of observations drawn from the underlying population. If we were to select a second sample of 12 hemophiliacs and calculate another survival function using the product-limit method, the results would differ from those in **Figure 20.4**. $S(t)$ is an estimate of the true population survival function for all hemophiliacs diagnosed with `HIV/AIDS` in the mid to late 1980s who were at most 40 years of age at HIv seroconversion.\n",
        "\n"
      ],
      "metadata": {
        "id": "GQN7X07F9h48"
      }
    },
    {
      "cell_type": "markdown",
      "source": [
        "### Example 5: Survival Curves -- Product-Limit Method\n",
        "\n",
        "The code in the cell below, recreates **FIGURE 20.4**. It takes advantage of the Kaplan-Meirer procedure.\n",
        "\n",
        "## Kaplan-Meier Procedure\n",
        "\n",
        "The **Kaplan-Meier procedure** is a non-parametric statistical method used to estimate the survival function from lifetime data. It’s particularly useful in medical research and other fields where you need to analyze the time until a certain event, like death, relapse, or failure, occurs. This method can handle censored data, which means it accounts for cases where the event hasn't occurred for all subjects during the study period.\n",
        "\n",
        "### Key Components of the Kaplan-Meier Procedure:\n",
        "\n",
        "1. **Survival Function (S(t))**: Represents the probability that a subject will survive past time \\( t \\). It is a step function that changes value only at the time of each event.\n",
        "\n",
        "2. **Censored Data**: Data for subjects whose events (e.g., death, relapse) are not observed within the study period. These cases contribute to the analysis up to the point they are censored.\n",
        "\n",
        "3. **Kaplan-Meier Estimator**: This is the formula used to estimate the survival function:\n",
        "   \n",
        "\n",
        "$$\n",
        "   \\hat{S}(t) = \\prod_{t_i \\leq t} \\left(1 - \\frac{d_i}{n_i}\\right)\n",
        "   \\ $$\n",
        "\n",
        "\n",
        "   Where:\n",
        "   -  $t_i$  = time when an event occurs\n",
        "   -  $d_i$ = number of events at time $t_i$\n",
        "   -  $n_i$ = number of subjects known to have survived up to time $t_i$\n",
        "\n",
        "### How It Works:\n",
        "\n",
        "1. **Data Collection**: Collect data on the time until the event of interest occurs for each subject. Note which subjects are censored.\n",
        "\n",
        "2. **Calculate Survival Probabilities**: For each time point where an event occurs, calculate the probability of surviving past that time.\n",
        "\n",
        "3. **Estimate the Survival Function**: Multiply the survival probabilities from each preceding time point to get the overall survival function.\n",
        "\n",
        "4. **Plotting the Survival Curve**: The Kaplan-Meier survival curve is a step function that provides a visual representation of the survival probabilities over time.\n",
        "\n",
        "_Code Description:_\n",
        "\n",
        "The data needed for plotting comes from the data in **Table 20.4** using this code chunk:\n",
        "\n",
        "```python\n",
        "# Use the data in Table 20.4\n",
        "data = {\n",
        "    'survival_time': [0, 2, 3, 6, 7, 10, 15, 16, 27, 30, 32],\n",
        "    'q_t': [0.0000, 0.0833, 0.0909, 0.2000, 0.1250, 0.1429, 0.3333, 0.2500, 0.3333, 0.5000, 1.0000]\n",
        "}\n",
        "\n",
        "```\n",
        "\n",
        "\n"
      ],
      "metadata": {
        "id": "y_uSiQ1YsXNw"
      }
    },
    {
      "cell_type": "code",
      "source": [
        "# Example 5: Survival curves -- Product-limit method\n",
        "\n",
        "import pandas as pd\n",
        "import matplotlib.pyplot as plt\n",
        "\n",
        "# Use the data in Table 20.4\n",
        "data = {\n",
        "    'survival_time': [0, 2, 3, 6, 7, 10, 15, 16, 27, 30, 32],\n",
        "    'q_t': [0.0000, 0.0833, 0.0909, 0.2000, 0.1250, 0.1429, 0.3333, 0.2500, 0.3333, 0.5000, 1.0000]\n",
        "}\n",
        "\n",
        "# Create a DataFrame\n",
        "df = pd.DataFrame(data)\n",
        "\n",
        "# Calculate 1 - q_t\n",
        "df['1 - q_t'] = 1 - df['q_t']\n",
        "\n",
        "# Calculate the survival function S(t)\n",
        "df['S(t)'] = df['1 - q_t'].cumprod()\n",
        "\n",
        "# Ensure the first survival probability is 1.0\n",
        "df.at[0, 'S(t)'] = 1.0\n",
        "\n",
        "# Define color\n",
        "color_1 = '#15466d'\n",
        "\n",
        "# Plot the survival function\n",
        "plt.figure(figsize=(10, 6))\n",
        "plt.step(df['survival_time'], df['S(t)'], where='post', color=color_1, linestyle='-', linewidth=1.5)\n",
        "\n",
        "# Customize the plot\n",
        "plt.xlabel('Survival Time (months)', fontsize=12)\n",
        "plt.ylabel('Survival Probability', fontsize=12)\n",
        "plt.ylim(-0.05, 1.05)\n",
        "plt.xlim(-0.5, 35)\n",
        "plt.grid(False)\n",
        "\n",
        "# Show the plot\n",
        "plt.show()\n"
      ],
      "metadata": {
        "id": "SGRgm4WW9q0L"
      },
      "execution_count": null,
      "outputs": []
    },
    {
      "cell_type": "markdown",
      "metadata": {
        "id": "m9pNjRkTd9Vx"
      },
      "source": [
        "If the code is correct, you should see the following plot:\n",
        "\n",
        "![____](https://biologicslab.co/BIO5853/images/module_03/lesson_03_12_image44.png)\n",
        "\n",
        "\n",
        "\n",
        "The output matches **FIGURE 20.4**\n",
        "\n",
        "![____](https://biologicslab.co/BIO5853/images/module_03/lesson_03_12_image09.png)\n",
        "\n",
        "\n",
        "**FIGURE 20.4** Survival curve for hemophiliac patients at most 40 years of age at `HIV` seroconversion, estimated using the product-limit method."
      ]
    },
    {
      "cell_type": "markdown",
      "source": [
        "### Example 6: Add 95% Confidence Interval to Survival Curve\n",
        "\n",
        "The code in the cell below recreates **FIGURE 20.5** on page 489 in your textbook.\n",
        "![____](https://biologicslab.co/BIO5853/images/module_03/lesson_03_12_image10.png)\n",
        "\n",
        "_Code Description:_\n",
        "\n",
        "The code utilizes the Kaplan-Meier procedure that was included in the `lifelines` software package. The code chunk below 'fits' the data in the DataFrame `hemo_ageDF['survival']` and `hemo_ageDF['_t']` to the `KaplanMeierFitter()` function.\n",
        "\n",
        "```python\n",
        "# Create and fit the Kaplan-Meier Fitter\n",
        "kmf = KaplanMeierFitter()\n",
        "kmf.fit(df['survival'], event_observed=df['_t'])\n",
        "\n",
        "```\n"
      ],
      "metadata": {
        "id": "D1g974pOk4JQ"
      }
    },
    {
      "cell_type": "code",
      "source": [
        "# Example 6: Add 95% Confidence Interval to Survival Curve\n",
        "\n",
        "import pandas as pd\n",
        "from lifelines import KaplanMeierFitter\n",
        "import matplotlib.pyplot as plt\n",
        "\n",
        "df = hemo_ageDF.copy()\n",
        "\n",
        "# Create and fit the Kaplan-Meier Fitter\n",
        "kmf = KaplanMeierFitter()\n",
        "kmf.fit(df['survival'], event_observed=df['_t'])\n",
        "\n",
        "# Define color\n",
        "color_1 = '#15466d'\n",
        "\n",
        "# Plot the survival curve\n",
        "plt.figure(figsize=(8, 6))\n",
        "kmf.plot_survival_function(ci_show=True, legend=False,\n",
        "                           color=color_1, ci_alpha=0.2)\n",
        "\n",
        "# Customize the plot\n",
        "plt.xlabel('Survival time (months)', fontsize=12)\n",
        "plt.ylabel('Probability of surivival', fontsize=12)\n",
        "plt.grid(False)\n",
        "\n",
        "# Set custom x-axis limits\n",
        "plt.xlim(0, 35)  # Change these values to your desired limits\n",
        "\n",
        "# Show the plot\n",
        "plt.show()\n",
        "\n"
      ],
      "metadata": {
        "id": "_YhS8f5mGNvx"
      },
      "execution_count": null,
      "outputs": []
    },
    {
      "cell_type": "markdown",
      "metadata": {
        "id": "XdfLUG6ZsMHL"
      },
      "source": [
        "If the code is correct, you should see the following plot:\n",
        "\n",
        "![____](https://biologicslab.co/BIO5853/images/module_03/lesson_03_12_image40.png)\n",
        "\n",
        "The output matches **FIGURE 20.5**\n",
        "\n",
        "![____](https://biologicslab.co/BIO5853/images/module_03/lesson_03_12_image10.png)\n",
        "\n",
        "**FIGURE 20.5** Survival curve for hemophiliac patients at most 40 years of age at `HIV` seroconversion, with 95% confidence bands."
      ]
    },
    {
      "cell_type": "markdown",
      "source": [
        "The product-limit method for estimating a survival curve can be generalized to account for the partial information about survival times available from censored observations. Suppose that when the data for the 12 hemophiliac `AIDS` patients were analyzed, the individuals with the second and sixth longest survival times had not yet died. Instead, they were still alive after 3 and 10 months of follow-up, respectively. In **Table 20.5**, these censored observations are designated by a plus (+) sign.\n",
        "\n",
        "![____](https://biologicslab.co/BIO5853/images/module_03/lesson_03_12_image12.png)\n",
        "\n",
        "**TABLE 20.5** Interval from primary `AIDS` diagnosis until death for a sample of 12 hemophiliac patients at most 40 years of age at `HIV` seroconversion, censored observations included.\n",
        "\n",
        "\n",
        "The product-limit estimate of the survival function incorporating the censored times is calculated in **Table 20.6**, and plotted in **Figure 20.6**.\n",
        "![____](https://biologicslab.co/BIO5853/images/module_03/lesson_03_12_image13.png)\n",
        "\n",
        "**TABLE 20.6** Product-limit method of estimating $St$ for hemophiliac patients at most 40 years of age at HIV seroconversion, censored observations included.\n",
        "\n",
        "Each small $x$ on the graph denotes a censored survival time. Note that $\\hat{S}(t)$ does not change from its previous value if the observation at time $t$ is censored; however, this observation is not used to calculate the probability of failure at any subsequent time point. At time 3, for instance, a patient is censored but no one dies. Therefore,\n",
        "\n",
        "$$ q_3 = \\frac{0}{11} = 0 $$\n",
        "\n",
        "\n",
        "\n",
        "![____](https://biologicslab.co/BIO5853/images/module_03/lesson_03_12_image14.png)\n",
        "\n",
        "**FIGURE 20.6** Survival curve for hemophiliac patients at most 40 years of age at `HIV` seroconversion, censored observations included.\n",
        "\n"
      ],
      "metadata": {
        "id": "5Df45traHefQ"
      }
    },
    {
      "cell_type": "markdown",
      "source": [
        "### Example 7: Survival Plot with Censored Data\n",
        "\n",
        "The code in the cell below recreates **FIGURE 20.6** which shows a survival curve for hemophiliac patients at most 40 years of age at `HIV` seroconversion, with the censored observations included.\n",
        "\n",
        "_Code Description:_\n",
        "\n",
        "The data needed for plotting comes from the data in **Table 20.5** using this code chunk:\n",
        "\n",
        "```python\n",
        "# Use the data in Table 20.5\n",
        "data = {\n",
        "    'survival_time': [0, 2, 3, 6, 7, 10, 15, 16, 27, 30, 32],\n",
        "    'q_t': [0.0000, 0.0833, 0.0000, 0.2000, 0.1250, 0.0000, 0.3333, 0.2500, 0.3333, 0.5000, 1.0000]\n",
        "}\n",
        "```\n",
        "You should note that the only significant difference in the data for this example compared to the previous one, is the inclusion of 2 additional values of `0.0000` in the `q_t` column. These 2 additional `0.0000` values represented the _censored observations_."
      ],
      "metadata": {
        "id": "cLX4CSCKIzRs"
      }
    },
    {
      "cell_type": "code",
      "source": [
        "# Example 7:Example 7: Survival Plot with Censored Data\n",
        "\n",
        "import pandas as pd\n",
        "import matplotlib.pyplot as plt\n",
        "\n",
        "# Use the data in Table 20.5\n",
        "data = {\n",
        "    'survival_time': [0, 2, 3, 6, 7, 10, 15, 16, 27, 30, 32],\n",
        "    'q_t': [0.0000, 0.0833, 0.0000, 0.2000, 0.1250, 0.0000, 0.3333, 0.2500, 0.3333, 0.5000, 1.0000]\n",
        "}\n",
        "\n",
        "# Create a DataFrame\n",
        "df = pd.DataFrame(data)\n",
        "\n",
        "# Calculate 1 - q_t\n",
        "df['1 - q_t'] = 1 - df['q_t']\n",
        "\n",
        "# Calculate the survival function S(t)\n",
        "df['S(t)'] = df['1 - q_t'].cumprod()\n",
        "\n",
        "# Ensure the first survival probability is 1.0\n",
        "df.at[0, 'S(t)'] = 1.0\n",
        "\n",
        "# Define color\n",
        "color_1 = '#15466d'\n",
        "\n",
        "# Plot the survival function\n",
        "plt.figure(figsize=(9, 6))\n",
        "plt.step(df['survival_time'], df['S(t)'], where='post', color=color_1, linestyle='-', linewidth=1.5)\n",
        "\n",
        "# Customize the plot\n",
        "plt.xlabel('Survival Time (months)', fontsize=12)\n",
        "plt.ylabel('Survival Probability', fontsize=12)\n",
        "plt.ylim(-0.05, 1.05)\n",
        "plt.xlim(-0.5, 35)\n",
        "plt.grid(False)\n",
        "\n",
        "# Plot text\n",
        "plt.text(3.5, 0.88, 'X', fontsize=18, verticalalignment='bottom', horizontalalignment='right')\n",
        "plt.text(10.0, 0.61, 'X', fontsize=18, verticalalignment='bottom', horizontalalignment='right')\n",
        "\n",
        "# Show the plot\n",
        "plt.show()\n"
      ],
      "metadata": {
        "id": "H0yOFY3DD8Sc"
      },
      "execution_count": null,
      "outputs": []
    },
    {
      "cell_type": "markdown",
      "metadata": {
        "id": "6c8JODDgHLY0"
      },
      "source": [
        "If the code is correct, you should see the following plot:\n",
        "\n",
        "![____](https://biologicslab.co/BIO5853/images/module_03/lesson_03_12_image45.png)\n",
        "\n",
        "The output matches **FIGURE 20.6**\n",
        "\n",
        "![____](https://biologicslab.co/BIO5853/images/module_03/lesson_03_12_image14.png)\n",
        "\n",
        "**FIGURE 20.6** Survival curve for hemophiliac patients at most 40 years of age at `HIV` seroconversion, censored observations included."
      ]
    },
    {
      "cell_type": "markdown",
      "source": [
        "# **Log-Rank Test**\n",
        "\n",
        "Instead of simply describing the survival times for a single group of subjects, we often want to compare the distributions of survival times for two or more different populations. Our goal would be to determine whether survival differs systematically between the groups. Recall the data for the 12 hemophiliacs — all 40 years of age or younger at the time of Hrv seroconversion — presented\n",
        "in Table 20.2. We might wish to compare this distribution of survival times from primary `AIDS` diagnosis until death to the distribution of survival times for another group of hemophiliacs who were all over age 40 at the time of seroconversion. Survival times for the two groups are listed in **Table 20.7**, and the product-limit estimates of the survival curves are plotted in **Figure 20.7**.\n",
        "\n",
        "**TABLE 20.7**\n",
        "\n",
        "![____](https://biologicslab.co/BIO5853/images/module_03/lesson_03_12_image15.png)\n",
        "\n",
        "**FIGURE 20.7**\n",
        "\n",
        "![____](https://biologicslab.co/BIO5853/images/module_03/lesson_03_12_image16.png)\n",
        "\n",
        "Survival for patients undergoing HIv seroconversion at an earlier age is represented by the upper curve in the figure, and survival for patients undergoing seroconversion at a later age by the lower curve. At any point in time following ars diagnosis, the estimated probability of survival beyond that time is higher for individuals who were younger at seroconversion. We would of course expect some sampling variability in these estimates. Therefore we ask — is the difference between the two curves greater than might be expected by chance alone?\n",
        "\n",
        "One of a number of different methods available for testing the null hypothesis that two or more distributions of survival times are identical is a nonparametric technique called the log-rank test. The idea behind the log-rank test is that we construct a separate 2 x 2 contingency table displaying group\n",
        "status (in this example, age category at seroconversion < 40 years or > 40 years) versus survival status for each time point ¢ at which a death occurs. When $t$ is equal to 1 month, for example, none of the 12 patients who were younger than 40 years at seroconversion die, but 4 of the 9 older patients\n",
        "do. Therefore, the 2 x 2 table for $t$ = 1 month is:\n",
        "\n",
        "\n",
        "![____](https://biologicslab.co/BIO5853/images/module_03/lesson_03_12_image17.png)\n",
        "\n",
        "Similarly, when $t$ is equal to 2 months, one of the 12 younger patients and one of the 5 remaining  older patients die. Consequently, the 2 × 2 table for $t$ = 2 months is:\n",
        "\n",
        "\n",
        "![____](https://biologicslab.co/BIO5853/images/module_03/lesson_03_12_image18.png)"
      ],
      "metadata": {
        "id": "JXoRMFZnK71d"
      }
    },
    {
      "cell_type": "markdown",
      "source": [
        "### Example 8: Log-Rank Plot\n",
        "\n",
        "The code on the cell below recreates **FIGURE 20.7** which is a survival curve for hemophiliac patients stratified by age at `HIV` seroconversion. The data for the plot comes from **Table 20.7**."
      ],
      "metadata": {
        "id": "Xx2P7jGjNGkp"
      }
    },
    {
      "cell_type": "code",
      "source": [
        "# Example 8: Log-rank plot\n",
        "\n",
        "import pandas as pd\n",
        "import matplotlib.pyplot as plt\n",
        "\n",
        "\n",
        "# Get data from Table 20.7\n",
        "# Data for Age ≤ 40 Years\n",
        "data_40_or_less = {\n",
        "    'patient_num': [1, 2, 3, 4, 5, 6, 7, 8, 9, 10, 11, 12],\n",
        "    'survival_time': [2, 3, 6, 6, 7, 10, 15, 15, 16, 27, 30, 32],\n",
        "    'q_t': [0.0833, 0.0909, 0.1000, 0.1000, 0.1250, 0.1429, 0.2000, 0.2000, 0.2500, 0.3333, 0.5000, 1.0000]\n",
        "}\n",
        "\n",
        "# Data for Age > 40 Years\n",
        "data_above_40 = {\n",
        "    'patient_num': [1, 2, 3, 4, 5, 6, 7, 8, 9],\n",
        "    'survival_time': [1, 1, 1, 1, 2, 3, 3, 9, 22],\n",
        "    'q_t': [0.1429, 0.1429, 0.1429, 0.1429, 0.2857, 0.4286, 0.4286, 0.8571, 1.0000]\n",
        "}\n",
        "\n",
        "# Create DataFrames\n",
        "df_40_or_less = pd.DataFrame(data_40_or_less)\n",
        "df_above_40 = pd.DataFrame(data_above_40)\n",
        "\n",
        "# Calculate 1 - q_t\n",
        "df_40_or_less['1 - q_t'] = 1 - df_40_or_less['q_t']\n",
        "df_above_40['1 - q_t'] = 1 - df_above_40['q_t']\n",
        "\n",
        "# Calculate the survival function S(t)\n",
        "df_40_or_less['S(t)'] = df_40_or_less['1 - q_t'].cumprod()\n",
        "df_above_40['S(t)'] = df_above_40['1 - q_t'].cumprod()\n",
        "\n",
        "# Ensure the first survival probability is 1.0 for each DataFrame\n",
        "df_40_or_less.at[0, 'S(t)'] = 1.0\n",
        "df_above_40.at[0, 'S(t)'] = 1.0\n",
        "\n",
        "\n",
        "# Define color\n",
        "color_1 = '#15466d'\n",
        "color_2 = '#ee9933'\n",
        "\n",
        "# Plot the survival functions\n",
        "plt.figure(figsize=(9, 6))\n",
        "\n",
        "# Age ≤ 40 Years\n",
        "plt.step(df_40_or_less['survival_time'], df_40_or_less['S(t)'], where='post', color=color_1, linestyle='-', linewidth=1.5)\n",
        "\n",
        "# Age > 40 Years\n",
        "plt.step(df_above_40['survival_time'], df_above_40['S(t)'], where='post', color=color_2, linestyle='-', linewidth=1.5)\n",
        "\n",
        "# Customize the plot\n",
        "plt.xlabel('Survival time (months)', fontsize=12)\n",
        "plt.ylabel('Probability of survival', fontsize=12)\n",
        "plt.ylim(-0.05, 1.05)\n",
        "plt.xlim(-0.5, 35)\n",
        "plt.grid(False)\n",
        "\n",
        "# Plot text\n",
        "plt.text(19.3, 0.56, \"Age $\\leq$ 40 years\", fontsize=14, verticalalignment='bottom', horizontalalignment='right')\n",
        "plt.text(11.8, 0.17, \"Age > 40 years\", fontsize=14, verticalalignment='bottom', horizontalalignment='right')\n",
        "\n",
        "# Show the plot\n",
        "plt.show()\n"
      ],
      "metadata": {
        "id": "EPg3Wc6_Qica"
      },
      "execution_count": null,
      "outputs": []
    },
    {
      "cell_type": "markdown",
      "metadata": {
        "id": "Yo6PtJ-9VAsG"
      },
      "source": [
        "If the code is correct, you should see the following plot:\n",
        "\n",
        "![____](https://biologicslab.co/BIO5853/images/module_03/lesson_03_12_image46.png)\n",
        "\n",
        "\n",
        "\n",
        "The output matches **FIGURE 20.4**\n",
        "\n",
        "![____](https://biologicslab.co/BIO5853/images/module_03/lesson_03_12_image16.png)\n",
        "\n",
        "\n",
        "**FIGURE 20.7** Survival curve for hemophiliac patients stratified by age at `HIV` seroconversion."
      ]
    },
    {
      "cell_type": "markdown",
      "source": [
        "### Example 9: Survival Curves -- Log-Rank Plot\n",
        "\n",
        "\n",
        "The code in this example recreates **FIGURE 20.8** on page 493 in your textbook.\n",
        "\n",
        "![____](https://biologicslab.co/BIO5853/images/module_03/lesson_03_12_image19.png)\n",
        "\n",
        "\n",
        "**FIGURE 20.8** Survival curve for moderate risk breast cancer patients in two treatment groups.\n",
        "\n",
        "_Code Description:_\n",
        "\n",
        "Instead of using data obtained from a table, we can use the data in the DataFrame `bcDF`.\n",
        "\n",
        "Since we want to compare the effects of \"Treatment A\" versus \"Treatment B\", we will divide the DataFrame into two DataFrames called `df_A` and `df_B` using this code chunk:\n",
        "\n",
        "```python\n",
        "\n",
        "# Make copy\n",
        "df=bcDF.copy()\n",
        "\n",
        "# Divide the DataFrame into two based on the value in the 'treatment' column\n",
        "df_A = df[df['treatment'] == 1]\n",
        "df_B = df[df['treatment'] == 2]\n",
        "\n",
        "```\n",
        "After making two copies of the `KaplanMeierFitter`, we can generate our survival functions using this code chunk:\n",
        "\n",
        "```python\n",
        "# Fit the data\n",
        "kmf_A.fit(df_A['survival'], df_A['censor'])\n",
        "kmf_B.fit(df_B['survival'], df_B['censor'])\n",
        "\n",
        "```\n",
        "\n",
        "In this example, the survival functions are plotted using the following code chunk:\n",
        "\n",
        "```python\n",
        "# Plot the survival functions\n",
        "plt.figure(figsize=(9, 6))\n",
        "kmf_A.plot_survival_function(ci_show=False, color=color_2, legend=False)\n",
        "kmf_B.plot_survival_function(ci_show=False, color=color_1, legend=False)\n",
        "\n",
        "```"
      ],
      "metadata": {
        "id": "eYVWsmq_WW9U"
      }
    },
    {
      "cell_type": "code",
      "source": [
        "# Example 9: Survival Curves -- Log-Rank Plot\n",
        "\n",
        "import pandas as pd\n",
        "import matplotlib.pyplot as plt\n",
        "from lifelines import KaplanMeierFitter\n",
        "\n",
        "# Make copy\n",
        "df=bcDF.copy()\n",
        "\n",
        "# Divide the DataFrame into two based on the value in the 'treatment' column\n",
        "df_A = df[df['treatment'] == 1]\n",
        "df_B = df[df['treatment'] == 2]\n",
        "\n",
        "# Initialize the KaplanMeierFitter\n",
        "kmf_A = KaplanMeierFitter()\n",
        "kmf_B = KaplanMeierFitter()\n",
        "\n",
        "# Fit the data\n",
        "kmf_A.fit(df_A['survival'], df_A['censor'])\n",
        "kmf_B.fit(df_B['survival'], df_B['censor'])\n",
        "\n",
        "# Define color\n",
        "color_1 = '#15466d'\n",
        "color_2 = '#ee9933'\n",
        "\n",
        "# Plot the survival functions\n",
        "plt.figure(figsize=(9, 6))\n",
        "kmf_A.plot_survival_function(ci_show=False, color=color_2, legend=False)\n",
        "kmf_B.plot_survival_function(ci_show=False, color=color_1, legend=False)\n",
        "\n",
        "# Add titles and labels\n",
        "plt.ylabel('Probabilty of survival', fontsize=12)\n",
        "plt.xlabel('Survival time (years)', fontsize=12)\n",
        "\n",
        "# Plot text\n",
        "plt.text(13, 0.56, \"Treatment A\", fontsize=12, verticalalignment='bottom', horizontalalignment='right')\n",
        "plt.text(13, 0.42, \"Treatment B\", fontsize=12, verticalalignment='bottom', horizontalalignment='right')\n",
        "\n",
        "# Set limits\n",
        "plt.ylim(-0.05, 1.05)\n",
        "plt.xlim(-0.5, 14)\n",
        "plt.grid(False)\n",
        "\n",
        "\n",
        "\n",
        "# Display the plot\n",
        "plt.show()\n"
      ],
      "metadata": {
        "id": "tZoNVESvbui4"
      },
      "execution_count": null,
      "outputs": []
    },
    {
      "cell_type": "markdown",
      "metadata": {
        "id": "1IGe6zn2ppzm"
      },
      "source": [
        "If the code is correct, you should see the following plot:\n",
        "\n",
        "![____](https://biologicslab.co/BIO5853/images/module_03/lesson_03_12_image47.png)\n",
        "\n",
        "\n",
        "\n",
        "The output matches **FIGURE 20.8**\n",
        "\n",
        "![____](https://biologicslab.co/BIO5853/images/module_03/lesson_03_12_image19.png)\n",
        "\n",
        "\n",
        "**FIGURE 20.8** Survival curve for moderate risk breast cancer patients in two treatment groups."
      ]
    },
    {
      "cell_type": "markdown",
      "source": [
        "### Example 10: Survival Curves -- Log-Rank Plot\n",
        "\n",
        "\n",
        "The code in this example recreates **FIGURE 20.9** on page 493 in your textbook.\n",
        "\n",
        "![____](https://biologicslab.co/BIO5853/images/module_03/lesson_03_12_image20.png)\n",
        "\n",
        "\n",
        "**FIGURE 20.9** Survival curve for premenopausal, moderate risk breast cancer patients in two treatment groups.\n",
        "\n",
        "_Code Description:_\n",
        "\n",
        "The code below is essentially the same code used in Example 9. The only significant difference is that we needed to remove postmenopausal women from the data. Here is the code chunk that accomplished this separation:\n",
        "\n",
        "```python\n",
        "# Divide the DataFrame into two based on the values in the 'treatment' and 'group' columns\n",
        "df_A = df[(df['treatment'] == 1) & (df['menopause'] == 1)]\n",
        "df_B = df[(df['treatment'] == 2) & (df['menopause'] == 1)]\n",
        "\n",
        "```\n",
        "Notice that _both_ new DataFrames, `df_A` and `df_B`, used the same `menopause=1` criteria since `1` was the numerical value for `premenopausal`."
      ],
      "metadata": {
        "id": "eKTuJfn0rJY-"
      }
    },
    {
      "cell_type": "code",
      "source": [
        "# Example 9: Survival Curves -- Log-Rank Plot\n",
        "\n",
        "import pandas as pd\n",
        "import matplotlib.pyplot as plt\n",
        "from lifelines import KaplanMeierFitter\n",
        "\n",
        "# Make copy\n",
        "df=bcDF.copy()\n",
        "\n",
        "# Divide the DataFrame into two based on the values in the 'treatment' and 'group' columns\n",
        "df_A = df[(df['treatment'] == 1) & (df['menopause'] == 1)]\n",
        "df_B = df[(df['treatment'] == 2) & (df['menopause'] == 1)]\n",
        "\n",
        "# Initialize the KaplanMeierFitter\n",
        "kmf_A = KaplanMeierFitter()\n",
        "kmf_B = KaplanMeierFitter()\n",
        "\n",
        "# Fit the data\n",
        "kmf_A.fit(df_A['survival'], df_A['censor'])\n",
        "kmf_B.fit(df_B['survival'], df_B['censor'])\n",
        "\n",
        "# Define color\n",
        "color_1 = '#15466d'\n",
        "color_2 = '#ee9933'\n",
        "\n",
        "# Plot the survival functions\n",
        "plt.figure(figsize=(9, 6))\n",
        "kmf_A.plot_survival_function(ci_show=False, color=color_2, legend=False)\n",
        "kmf_B.plot_survival_function(ci_show=False, color=color_1, legend=False)\n",
        "\n",
        "# Add titles and labels\n",
        "plt.ylabel('Probabilty of survival', fontsize=12)\n",
        "plt.xlabel('Survival time (years)', fontsize=12)\n",
        "\n",
        "# Plot text\n",
        "plt.text(12, 0.65, \"Treatment A\", fontsize=12, verticalalignment='bottom', horizontalalignment='right')\n",
        "plt.text(12, 0.47, \"Treatment B\", fontsize=12, verticalalignment='bottom', horizontalalignment='right')\n",
        "\n",
        "# Set limits\n",
        "plt.ylim(-0.05, 1.05)\n",
        "plt.xlim(-0.5, 14)\n",
        "plt.grid(False)\n",
        "\n",
        "\n",
        "\n",
        "# Display the plot\n",
        "plt.show()\n"
      ],
      "metadata": {
        "id": "9a1l7o0zrJY-"
      },
      "execution_count": null,
      "outputs": []
    },
    {
      "cell_type": "markdown",
      "metadata": {
        "id": "TvZZdA1YrJY_"
      },
      "source": [
        "If the code is correct, you should see the following plot:\n",
        "\n",
        "![____](https://biologicslab.co/BIO5853/images/module_03/lesson_03_12_image48.png)\n",
        "\n",
        "\n",
        "\n",
        "The output matches **FIGURE 20.9**\n",
        "\n",
        "![____](https://biologicslab.co/BIO5853/images/module_03/lesson_03_12_image20.png)\n",
        "\n",
        "\n",
        "**FIGURE 20.9** Survival curve for premenopausal, moderate risk breast cancer patients in two treatment groups."
      ]
    },
    {
      "cell_type": "markdown",
      "source": [
        "![____](https://biologicslab.co/BIO5853/images/module_03/lesson_03_12_image21.png)\n"
      ],
      "metadata": {
        "id": "FIWEvSV-dfwr"
      }
    },
    {
      "cell_type": "markdown",
      "metadata": {
        "id": "9z2Z3ah5estF"
      },
      "source": [
        "## **Lesson Turn-in**\n",
        "\n",
        "When you have completed and run all of the code cells, create a PDF of your notebook and upload the **PDF** to your Lesson_03_12 assignment in Canvas for grading.\n"
      ]
    }
  ],
  "metadata": {
    "kernelspec": {
      "display_name": "Python 3 (ipykernel)",
      "language": "python",
      "name": "python3"
    },
    "language_info": {
      "codemirror_mode": {
        "name": "ipython",
        "version": 3
      },
      "file_extension": ".py",
      "mimetype": "text/x-python",
      "name": "python",
      "nbconvert_exporter": "python",
      "pygments_lexer": "ipython3",
      "version": "3.11.5"
    },
    "colab": {
      "provenance": [],
      "include_colab_link": true
    }
  },
  "nbformat": 4,
  "nbformat_minor": 0
}