{
  "cells": [
    {
      "cell_type": "markdown",
      "metadata": {
        "id": "sMU9GkfX21Ic"
      },
      "source": [
        "---------------------------\n",
        "**COPYRIGHT NOTICE:** This Jupyterlab Notebook is a Derivative work of [Jeff Heaton](https://github.com/jeffheaton) licensed under the Apache License, Version 2.0 (the \"License\"); You may not use this file except in compliance with the License. You may obtain a copy of the License at\n",
        "\n",
        "> [http://www.apache.org/licenses/LICENSE-2.0](http://www.apache.org/licenses/LICENSE-2.0)\n",
        "\n",
        "Unless required by applicable law or agreed to in writing, software distributed under the License is distributed on an \"AS IS\" BASIS, WITHOUT WARRANTIES OR CONDITIONS OF ANY KIND, either express or implied. See the License for the specific language governing permissions and limitations under the License.\n",
        "\n",
        "------------------------"
      ]
    },
    {
      "cell_type": "markdown",
      "metadata": {
        "id": "cm8BjW_L21Id"
      },
      "source": [
        "# **BIO5853: Biostatistics**"
      ]
    },
    {
      "cell_type": "markdown",
      "metadata": {
        "id": "1DdsAN__21Id"
      },
      "source": [
        "## **Lesson_02_2: Theorectical Probability Distributions**"
      ]
    },
    {
      "cell_type": "markdown",
      "metadata": {
        "id": "u_AL09Oc21Ie"
      },
      "source": [
        "##### **Module II: Probability**\n",
        "\n",
        "* Instructor: [David Senseman](mailto:David.Senseman@utsa.edu), [Department of Integrative Biology](https://sciences.utsa.edu/integrative-biology/), [UTSA](https://www.utsa.edu/)\n",
        "\n",
        "### Module II Material\n",
        "* Part 2.1: Probability\n",
        "* **Part 2.2: Theorectical Probability Distributions**\n",
        "* Part 2.3: Sampling Distributions of the Mean"
      ]
    },
    {
      "cell_type": "markdown",
      "metadata": {
        "jp-MarkdownHeadingCollapsed": true,
        "tags": [],
        "id": "gdPVJL1O21Ie"
      },
      "source": [
        "#### In this assignment you will learn about:\n",
        "\n",
        "* Probability Distributions\n",
        "* Binomial Distribution\n",
        "* Poisson Distribution\n",
        "* Normal Distribution"
      ]
    },
    {
      "cell_type": "markdown",
      "metadata": {
        "id": "yKQylnEiLDUM"
      },
      "source": [
        "### Google CoLab Instructions\n",
        "\n",
        "The following code will map your GDrive to ```/content/drive``` and print out your Google GMAIL address."
      ]
    },
    {
      "cell_type": "code",
      "execution_count": null,
      "metadata": {
        "id": "seXFCYH4LDUM",
        "scrolled": true
      },
      "outputs": [],
      "source": [
        "# YOU MUST RUN THIS CELL FIRST\n",
        "try:\n",
        "    from google.colab import drive\n",
        "    drive.mount('/content/drive', force_remount=True)\n",
        "    from google.colab import auth\n",
        "    auth.authenticate_user()\n",
        "    COLAB = True\n",
        "    print(\"Note: using Google CoLab\")\n",
        "    import requests\n",
        "    gcloud_token = !gcloud auth print-access-token\n",
        "    gcloud_tokeninfo = requests.get('https://www.googleapis.com/oauth2/v3/tokeninfo?access_token=' + gcloud_token[0]).json()\n",
        "    print(gcloud_tokeninfo['email'])\n",
        "except:\n",
        "    print(\"Note: not using Google CoLab\")\n",
        "    COLAB = False"
      ]
    },
    {
      "cell_type": "markdown",
      "metadata": {
        "id": "IV1C_xSf21If"
      },
      "source": [
        "# **Probability Distributions**\n",
        "\n",
        "A **_Probability_Distribution_** is a mathematical function that describes the likelihood of different outcomes in a random experiment. It provides a comprehensive way to represent the probabilities of all possible values of a random variable.\n",
        "\n",
        "#### **Types of Probability Distributions**\n",
        "\n",
        "1. **Discrete Probability Distributions:** These are used for discrete random variables, which have countable outcomes.\n",
        "\n",
        "Examples include:\n",
        "- * **Binomial Distribution:** Describes the number of successes in a fixed number of independent Bernoulli trials.\n",
        "- * **Poisson Distribution:** Describes the number of events occurring within a fixed interval of time or space.\n",
        "2. **Continuous Probability Distributions:** These are used for continuous random variables, which have an infinite number of possible values.\n",
        "\n",
        "Examples include:\n",
        "- * **Normal Distribution:** Also known as the Gaussian distribution, it is symmetric and describes many natural phenomena.\n",
        "- * **Exponential Distribution:** Describes the time between events in a Poisson process.\n",
        "\n",
        "#### **Importance of Probability Distributions**\n",
        "1. **Predicting Outcomes:** Probability distributions provide a framework for predicting the likelihood of different outcomes, which is essential for decision-making and risk assessment1.\n",
        "2. **Data Analysis:** They are fundamental in statistical analysis, helping to summarize and interpret data. For example, the normal distribution is often used to model the distribution of continuous data1.\n",
        "3. **Hypothesis Testing:** Many statistical tests rely on specific probability distributions to determine the significance of results. For instance, the t-distribution is used in t-tests to compare sample means2.\n",
        "4. **Modeling Real-World Phenomena:** Probability distributions are used to model a wide range of real-world phenomena, from the distribution of heights in a population to the arrival times of buses1.\n",
        "5. **Calculating Probabilities:** They allow for the calculation of probabilities for different events, which is crucial in fields like biology, ecology, and medicine."
      ]
    },
    {
      "cell_type": "markdown",
      "metadata": {
        "id": "tvBrJwMV21If"
      },
      "source": [
        "--------------------------------\n",
        "\n",
        "### **Random Variables**\n",
        "\n",
        "Random variables are typically represented by uppercase letters such as $X$, $Y$, and $Z$.\n",
        "\n",
        "A **_discrete random variable_** is able to assume only a finite or countable number of outcomes. One example is marital status; an individual can be single, married, divorced, or widowed. Another example would be the number of ear infections an infant develops during his or her first year of life.\n",
        "\n",
        "A **_continuous random variable_**, such as weight or height, can take on any value within a specified interval or continuum; for continuous random variables, fractional values are possible.\n",
        "\n",
        "--------------------------------"
      ]
    },
    {
      "cell_type": "markdown",
      "metadata": {
        "id": "7OGDamfX21Ig"
      },
      "source": [
        "### Example 1: Graph Probability Distribution\n",
        "\n",
        "For Example 1, we will look at the example on page 159 in your textbook. This example starts as follows:\n",
        "\n",
        ">For example, let X be a discrete random variable that represents the size of a household in the  United States in 2017; a household includes all people who occupy a housing unit as their usual  place of residence [158]. If a household contains only a single individual, then X = 1; if it contains  two people, then X = 2. To construct a probability distribution for X, we list each of the values x  that the random variable is able to assume, along with P(X = x) for each one. This has been done  in Table 7.1. The outcomes X = 7, X = 8, and so on for the countable integers have been grouped  together and called “7+ .” Note that we use an uppercase X to denote the random variable size of a  household, and a lowercase x to represent the outcome of a particular household, such as 1, 2, or 3."
      ]
    },
    {
      "cell_type": "markdown",
      "metadata": {
        "id": "8JXOWPOq21Ig"
      },
      "source": [
        "### Download Dataset\n",
        "\n",
        "The first step is to download the file `household_size.csv` from the course file server using the Pandas function `pd.read_csv()` as show in the code cell below. As the file is read, the data is stored in a new DataFrame called `hsizeDF`. The code at the bottom prints out the contents of `hsizeDF`."
      ]
    },
    {
      "cell_type": "code",
      "execution_count": null,
      "metadata": {
        "id": "Aqn5TxcA21Ih"
      },
      "outputs": [],
      "source": [
        "# Example 1A: Download dataset\n",
        "\n",
        "import pandas as pd\n",
        "\n",
        "# Read the datafile\n",
        "hsizeDF = pd.read_csv(\n",
        "    \"https://biologicslab.co/BIO5853/data/household_size.csv\",\n",
        "    index_col=0,\n",
        "    na_values=['NA','?'])\n",
        "\n",
        "# Set max rows and max columns\n",
        "pd.set_option('display.max_rows', 8)\n",
        "pd.set_option('display.max_columns', 3)\n",
        "\n",
        "# Display DataFrame\n",
        "display(hsizeDF)"
      ]
    },
    {
      "cell_type": "markdown",
      "metadata": {
        "id": "MgontV1z21Ii"
      },
      "source": [
        "If the code is correct you should see the following output:\n",
        "\n",
        "![___](https://biologicslab.co/BIO5853/images/module_02/lesson_02_2_image23.png)\n",
        "\n",
        "The output is data presented in **Table 7.1** in your textbook on page 160.\n"
      ]
    },
    {
      "cell_type": "markdown",
      "metadata": {
        "id": "bZKwje2w21Ii"
      },
      "source": [
        "### Example 1B: Graph probability distribution\n",
        "\n",
        "The code in the cell below shows how to recreate **Figure 7.1** on page 161 of textbook using Python.\n",
        "\n",
        "![___](https://biologicslab.co/BIO5853/images/module_02/lesson_02_2_image22.png)\n",
        "\n",
        "In many cases, we are able to display a probability distribution using either a graph or a  mathematical formula. **Figure 7.1* for example, is a histogram of the probability distribution shown in **Table 7.1**. The area of each vertical bar represents $P(X = x)$, the probability associated with that particular outcome of the random variable. The total area represented by the bars of the histogram is equal to 1.  \n",
        "\n",
        "_Code Description:_\n",
        "\n",
        "To generate the plot that looks like **Figure 7.1** we need to use the bar chart function `plt.bar()` that comes with Matplotlib. The code chunk that actually plots the bar chart is as follows:\n",
        "\n",
        "~~~text\n",
        "# Plot bar\n",
        "ax.bar(x, y, width=0.98, edgecolor=\"white\",\n",
        "       color='#294171',\n",
        "       linewidth=0.7)\n",
        "~~~\n",
        "\n",
        "The remaining code adds different components to this basic bar chart (e.g. a title, x-axis label, etc)."
      ]
    },
    {
      "cell_type": "code",
      "execution_count": null,
      "metadata": {
        "scrolled": true,
        "id": "vtVxctRI21Ii"
      },
      "outputs": [],
      "source": [
        "# Example 1B: Graph probability distribution (FIGURE 7.1)\n",
        "\n",
        "import matplotlib.pyplot as plt\n",
        "\n",
        "# Assign x- and y-values\n",
        "x = hsizeDF.x\n",
        "y = hsizeDF.prob\n",
        "\n",
        "# Prepare for plotting\n",
        "fig, ax = plt.subplots()\n",
        "\n",
        "# Plot bar\n",
        "ax.bar(x, y, width=0.98, edgecolor=\"white\",\n",
        "       color='#294171',\n",
        "       linewidth=0.7)\n",
        "\n",
        "# Add labels and title\n",
        "ax.set_xlabel(\"Household size x\")\n",
        "ax.set_ylabel(\"Probability X = x\")\n",
        "ax.set_title(\"Probability Distribution (FIGURE 7.1)\")\n",
        "\n",
        "# Set tick marks and axes\n",
        "ax.set_xticks(x)\n",
        "ax.set(xlim=(0, 8),\n",
        "       ylim=(-0.010, 0.4))\n",
        "\n",
        "\n",
        "# Show plot\n",
        "plt.show()"
      ]
    },
    {
      "cell_type": "markdown",
      "metadata": {
        "id": "Ryu3j2-s21Ii"
      },
      "source": [
        "If the code is correct, you should see the following histogram:  \n",
        "\n",
        "![___](https://biologicslab.co/BIO5853/images/module_02/lesson_02_2_image21.png)"
      ]
    },
    {
      "cell_type": "markdown",
      "metadata": {
        "id": "_iyMJ_0921Ii"
      },
      "source": [
        "Tne figure legend in your textbook reads:\n",
        ">Probability distribution of a random variable representing household size in the United States in 2017\n"
      ]
    },
    {
      "cell_type": "markdown",
      "metadata": {
        "jp-MarkdownHeadingCollapsed": true,
        "id": "8QhO5_dd21Ii"
      },
      "source": [
        "### **Exercise 1: Graph Probability Distribution**\n",
        "\n",
        "For **Exercise 1**, we will generate a graph showing cigarette smoking in the US, year-by-year, from 1900 until 2015.\n"
      ]
    },
    {
      "cell_type": "markdown",
      "metadata": {
        "id": "exgzNSHY21Ii"
      },
      "source": [
        "### **Exercise 1A: Download Dataset**\n",
        "\n",
        "In the cell below, write the code to download the file `cigarettes_per_year` from the course file server using the Pandas function `pd.read_csv()` as show in Example 1A. As the file is read, store in a new DataFrame called `cigDF`. Print out the contents of `cigDF` using the `display()` function."
      ]
    },
    {
      "cell_type": "code",
      "execution_count": null,
      "metadata": {
        "scrolled": true,
        "id": "ETwzUx5Q21Ii"
      },
      "outputs": [],
      "source": [
        "# Insert your code for Exercise 1A here\n",
        "\n"
      ]
    },
    {
      "cell_type": "markdown",
      "metadata": {
        "id": "_--5R-g521Ij"
      },
      "source": [
        "If your code is correct you should see the following output:\n",
        "\n",
        "![___](https://biologicslab.co/BIO5853/images/module_02/lesson_02_2_image24.png)\n"
      ]
    },
    {
      "cell_type": "markdown",
      "metadata": {
        "id": "uYDU_JW221Ij"
      },
      "source": [
        "### **Exercise 1B: Graph Probability Distribution**\n",
        "\n",
        "In the cell below, write the Python code to generate a probability distribution with `year` as the x-values and `number` as the y-values.\n",
        "\n",
        "For the most part you can reuse the code in Example 1B with the following changes:\n",
        "\n",
        "1. Change the x-axis label to \"Year\"\n",
        "2. Change the y-axis label to \"Number of Cigarettes Smoked in the US\"\n",
        "3. Change the title to \"Probability Distribution\"\n",
        "\n",
        "Comment out the following code lines as shown:\n",
        "~~~text\n",
        "# Set tick marks and axes\n",
        "#ax.set_xticks(x)\n",
        "#ax.set(xlim=(0, 8),\n",
        "#       ylim=(-0.010, 0.4))\n",
        "~~~\n",
        "\n",
        "This will allow the plotting function select the best values for these parameters."
      ]
    },
    {
      "cell_type": "code",
      "execution_count": null,
      "metadata": {
        "id": "81-1tvoR21Ij"
      },
      "outputs": [],
      "source": [
        "# Insert your code for Exercise 1B here\n",
        "\n"
      ]
    },
    {
      "cell_type": "markdown",
      "metadata": {
        "id": "xYjcCRha21Ij"
      },
      "source": [
        "If the code is correct, you should see the following histogram:  \n",
        "\n",
        "![___](https://biologicslab.co/BIO5853/images/module_02/lesson_02_2_image25.png)"
      ]
    },
    {
      "cell_type": "markdown",
      "metadata": {
        "id": "Qfq_lo6u21Ij"
      },
      "source": [
        "## **Binomial Distribution**\n",
        "\n",
        "The **_Binomial Distribution_** is a discrete probability distribution that models the number of successes in a fixed number of independent trials of a binary (yes/no) experiment. Each trial has two possible outcomes: _success_ (with probability $p$) and failure (with probability $1 - p$). The binomial distribution is defined by two parameters: ($n$) (the number of trials) and ($p$) (the probability of success in each trial).\n",
        "\n",
        "The probability mass function (PMF) of the binomial distribution is given by:\n",
        "\n",
        "$$ P(X = k) = \\binom{n}{k} p^k (1 - p)^{n - k} $$\n",
        "\n",
        "where:\n",
        "\n",
        "$\\binom{n}{k}$ is the binomial coefficient, representing the number of ways to choose $k$ successes out of $n$ trials.\n",
        "$k$ is the number of successes.\n",
        "\n",
        "#### **Importance in Statistics**\n",
        "\n",
        "1. **Modeling Binary Outcomes:** The binomial distribution is used to model situations where there are a fixed number of independent trials, each with the same probability of success. Examples include flipping a coin, quality control in manufacturing, and medical trials.\n",
        "2. **Foundation for Other Distributions:** The binomial distribution is a foundation for other important distributions in statistics, such as the normal distribution (through the Central Limit Theorem) and the Poisson distribution (as an approximation for large $n$ and small ($p$).\n",
        "3. **Hypothesis Testing:** It is used in hypothesis testing, particularly in tests of proportions. For example, it helps determine if the observed proportion of successes in a sample is significantly different from a hypothesized proportion.\n"
      ]
    },
    {
      "cell_type": "markdown",
      "metadata": {
        "id": "Es8juwp821Ij"
      },
      "source": [
        "### Example 2: Binomial Distribution\n",
        "\n",
        "The code in the cell below shows the Python code to solve the example in your textbook starting on page 162. The example begins as follows:\n",
        "\n",
        ">Suppose that we now randomly select two individuals from the population of adults in the United States. If we introduce a new random variable $X$ that represents the number of adults in the pair who are current smokers, then $X$ can take on three possible values: 0, 1, or 2. Either both of the individuals selected do not smoke, one smokes and the other does not, or both adults smoke. The smoking statuses of the two persons chosen are independent; therefore, we can apply the multiplication rule of probability for independent events to find the probability that X will take on a particular value....\n",
        "\n",
        "In this example, a _success_ is defined as a person who smokes and a _failure_ as a person who doesn't smoke.\n",
        "\n",
        "Your textbook shows you the step-by-step method for calculating the probability of $X$, the number of smokers. The code in the cell below shows you how you can solve this problem using Python.\n",
        "\n",
        "_Code Description:_\n",
        "\n",
        "The code uses the following `for loop`:\n",
        "\n",
        "~~~text\n",
        "# Use for loop\n",
        "for k in range(0,numTrials):\n",
        "    p_X = binom.pmf(k, n, p) # Compute probability\n",
        "    print(f\"The probability of getting exactly {k} successes in {n} trials is {p_X:.3f}\")\n",
        "    k +=1  # Increment k\n",
        "~~~\n",
        "\n",
        "The purpose of this `for loop` is to compute the different probabilities of successes, `p-X`, for different the three different outcomes (`k`). The variable `k` is initially equal to `0` when the loop starts, but its value is incremented by `1` at the end of each loop with this line of code:\n",
        "\n",
        "~~~text\n",
        "k +=1  # Increment k\n",
        "~~~\n",
        "\n",
        "The function that actually computes the binomial probability `p_X` is:\n",
        "\n",
        "~~~text\n",
        "p_X = binom.pmf(k, n, p) # Compute probability\n",
        "~~~"
      ]
    },
    {
      "cell_type": "code",
      "execution_count": null,
      "metadata": {
        "id": "3kInwm_G21Ij"
      },
      "outputs": [],
      "source": [
        "# Example 2: Binomial distribution\n",
        "\n",
        "from scipy.stats import binom\n",
        "\n",
        "# Parameters\n",
        "n = 2     # number of trials\n",
        "p = 0.14  # probability of success\n",
        "\n",
        "# Calculate number of trials\n",
        "numTrials= n+1\n",
        "\n",
        "# Initialize k\n",
        "k = 0     # number of successes\n",
        "\n",
        "# Use for loop\n",
        "for k in range(0,numTrials):\n",
        "    p_X = binom.pmf(k, n, p) # Compute probability\n",
        "    print(f\"The probability of getting exactly {k} successes in {n} trials is {p_X:.3f}\")\n",
        "    k +=1  # Increment k"
      ]
    },
    {
      "cell_type": "markdown",
      "metadata": {
        "id": "9vK5r41K21Ij"
      },
      "source": [
        "If the code is correct, you should see the following output:\n",
        "\n",
        "~~~text\n",
        "The probability of getting exactly 0 successes in 2 trials is 0.740\n",
        "The probability of getting exactly 1 successes in 2 trials is 0.241\n",
        "The probability of getting exactly 2 successes in 2 trials is 0.020\n",
        "~~~"
      ]
    },
    {
      "cell_type": "markdown",
      "metadata": {
        "id": "JD2AhPk421Ij"
      },
      "source": [
        "As you can see, the output from Example 2 is the same as shown in your textbook on page 162:\n",
        "\n",
        "~~~text\n",
        "Substituting in the value of p, we find that  \n",
        "               P(X = 0) = (1 − p)*2 = (0.86)*2 = 0.740,  \n",
        "               P(X = 1) = p(1 − p) + (1 − p)p = 2(0.14)(0.86) = 0.241,  \n",
        "and  \n",
        "               P(X = 2) = p*2 = (0.14)*2 = 0.019.  \n",
        "~~~"
      ]
    },
    {
      "cell_type": "markdown",
      "metadata": {
        "id": "ExU00GMh21Ik"
      },
      "source": [
        "### **Exercise 2: Binomial Distribution**\n",
        "\n",
        "Using the code in Example 2 as a template, solve the example in your textbook on page 163 that starts as follows:\n",
        "\n",
        ">Suppose we were to continue with the preceding example by randomly selecting three adults from the population instead of two. In this case, X would be a binomial random variable with parameters n = 3 and p = 0.14.  \n"
      ]
    },
    {
      "cell_type": "code",
      "execution_count": null,
      "metadata": {
        "scrolled": true,
        "id": "4NTdS1AM21Ik"
      },
      "outputs": [],
      "source": [
        "# Insert your code for Exercise 2 here\n",
        "\n"
      ]
    },
    {
      "cell_type": "markdown",
      "metadata": {
        "id": "XUrhddgc21Ik"
      },
      "source": [
        "If your code is correct, you should see the following output:\n",
        "\n",
        "~~~text\n",
        "The probability of getting exactly 0 successes in 3 trials is 0.636\n",
        "The probability of getting exactly 1 successes in 3 trials is 0.311\n",
        "The probability of getting exactly 2 successes in 3 trials is 0.051\n",
        "The probability of getting exactly 3 successes in 3 trials is 0.003\n",
        "~~~"
      ]
    },
    {
      "cell_type": "markdown",
      "metadata": {
        "id": "aqdWka0r21Ik"
      },
      "source": [
        "These are the same results are shown on page 163:\n",
        "\n",
        "~~~text\n",
        "Substituting in the value of p,  \n",
        "                  P(X = 0) = (1 − p)*3  = (0.86) 3 = 0.636,  \n",
        "                  P(X = 1) = p(1 − p)*2 + p(1 − p)*2 + p(1 − p)*2  = 3(0.14)(0.86)*2 = 0.311,  \n",
        "                  P(X = 2) = p*2 (1 − p) + p 2 (1 − p) + p 2 (1 − p)  \n",
        "                           = 3(0.14)*2 (0.86) = 0.050,  \n",
        "and  \n",
        "                  P(X = 3) = p*3 = (0.14)*3 = 0.003.\n",
        "                  \n",
        "These equations describe the probability distribution of X.\n",
        "~~~"
      ]
    },
    {
      "cell_type": "markdown",
      "metadata": {
        "id": "98tlXhjo21Ik"
      },
      "source": [
        "### Example 3: Graph Binomial Distribution\n",
        "\n",
        "The code in the cell below shows how to recreate **FIGURE 7.2** from your textbook.\n",
        "\n",
        "![___](https://biologicslab.co/BIO5853/images/module_02/lesson_02_2_image01.png)\n",
        "\n",
        "_Code Description:_\n",
        "\n",
        "The code uses the Numpy function `np.random.binomial()` to generate 10000 random numbers (`size`) from a binomial distribution specified by the parameters. `n`, `p`.\n",
        "\n",
        "~~~text\n",
        "# Generate binomial distribution\n",
        "x_dat = np.random.binomial(n, p, size)\n",
        "~~~\n",
        "\n",
        "The numbers are then plotted using Matplotlib.pyplot histogram function `hist()`:\n",
        "\n",
        "~~~text\n",
        "# Plot the results\n",
        "ax.hist(x_dat, bins=range(n+2),\n",
        "         color='#294171',\n",
        "         edgecolor='white',\n",
        "         align='left',\n",
        "         density=True)\n",
        "~~~"
      ]
    },
    {
      "cell_type": "code",
      "execution_count": null,
      "metadata": {
        "scrolled": true,
        "id": "9alqjFs221Ik"
      },
      "outputs": [],
      "source": [
        "# Example 3: Graph binomial distribution\n",
        "\n",
        "import numpy as np\n",
        "import matplotlib.pyplot as plt\n",
        "\n",
        "# Parameters\n",
        "n = 10  # number of trials\n",
        "p = 0.14  # probability of success\n",
        "size = 10000  # number of samples\n",
        "\n",
        "# Generate binomial distribution\n",
        "x_dat = np.random.binomial(n, p, size)\n",
        "\n",
        "# Prepare for plotting\n",
        "fig, ax = plt.subplots()\n",
        "\n",
        "# Plot the results\n",
        "ax.hist(x_dat, bins=range(n+2),\n",
        "         color='#294171',\n",
        "         edgecolor='white',\n",
        "         align='left',\n",
        "         density=True)\n",
        "\n",
        "# Add labels and title\n",
        "ax.set_xlabel(\"Number of smokers x\")\n",
        "ax.set_ylabel(\"Probability X = x\")\n",
        "ax.set_title('Binomial Distribution (FIGURE 7.2)')\n",
        "\n",
        "# Set the x and y limits\n",
        "ax.set(xlim=(-0.95, 10),\n",
        "       ylim=(-0.010, 0.4))\n",
        "\n",
        "# Show plot\n",
        "plt.show()"
      ]
    },
    {
      "cell_type": "markdown",
      "metadata": {
        "id": "l73jlXpT21Ik"
      },
      "source": [
        "If the code is correct, you should see the following histogram:  \n",
        "\n",
        "![___](https://biologicslab.co/BIO5853/images/module_02/lesson_02_2_image02.png)"
      ]
    },
    {
      "cell_type": "markdown",
      "metadata": {
        "id": "JchsslmR21Ik"
      },
      "source": [
        "### **Exercise 3A: Graph Binomial Distribution**\n",
        "\n",
        "In the cell below, write the code to recreate **FIGURE 7.3** from your textbook.\n",
        "\n",
        "![___](https://biologicslab.co/BIO5853/images/module_02/lesson_02_2_image03.png)\n",
        "\n",
        "\n",
        "You can reuse the code in Example 3 but you will need to make 3 small code changes.\n",
        "\n",
        "1. Increase the `xlim` from (-0.95, 10) to (-0.95, 11)\n",
        "2. Change the `xlabel` to be (\"x\")\n",
        "3. Change the title to read 'Binomial Distribution (FIGURE 7.3)'"
      ]
    },
    {
      "cell_type": "code",
      "execution_count": null,
      "metadata": {
        "id": "YtHOR4v121Ik"
      },
      "outputs": [],
      "source": [
        "# Insert your code for Exercise 3 here\n",
        "\n"
      ]
    },
    {
      "cell_type": "markdown",
      "metadata": {
        "id": "-LGpeMlF21Io"
      },
      "source": [
        "If your code is correct, you should see the following histogram:  \n",
        "\n",
        "![___](https://biologicslab.co/BIO5853/images/module_02/lesson_02_2_image04.png)"
      ]
    },
    {
      "cell_type": "markdown",
      "metadata": {
        "id": "Uahf_srr21Io"
      },
      "source": [
        "### **Exercise 3B: Graph Binomial Distribution**\n",
        "\n",
        "In the cell below, write the code to recreate **FIGURE 7.4** from your textbook.\n",
        "\n",
        "![___](https://biologicslab.co/BIO5853/images/module_02/lesson_02_2_image05.png)\n",
        "\n",
        "\n",
        "You can reuse the code from your Exercise 3 but you will need to make 2 small code changes.\n",
        "\n",
        "1. Increase the `ylim` from (-0.010, 0.4) to (-0.010, 0.3))\n",
        "2. Change the title to read 'Binomial Distribution (FIGURE 7.4)'"
      ]
    },
    {
      "cell_type": "code",
      "execution_count": null,
      "metadata": {
        "id": "ujarEzmV21Ip"
      },
      "outputs": [],
      "source": [
        "# Insert your code for Exercise 3B here\n",
        "\n"
      ]
    },
    {
      "cell_type": "markdown",
      "metadata": {
        "id": "vUG2s3S121Ip"
      },
      "source": [
        "If your code is correct, you should see the following histogram:  \n",
        "\n",
        "![___](https://biologicslab.co/BIO5853/images/module_02/lesson_02_2_image06.png)"
      ]
    },
    {
      "cell_type": "markdown",
      "metadata": {
        "id": "6-NT7UXZ21Ip"
      },
      "source": [
        "## **Poisson Distribution**\n",
        "\n",
        "The **_Poisson Distribution_** is a discrete probability distribution that models the number of times an event occurs within a fixed interval of time or space. It is characterized by the parameter  $\\lambda$ (lambda), which represents the average number of events in the given interval. The probability mass function ($PMF$) of the Poisson distribution is given by:\n",
        "\n",
        "$$ P(X = k) = \\frac{\\lambda^k e^{-\\lambda}}{k!} $$\n",
        "​\n",
        "where:\n",
        "\n",
        "- $P(X = k)$ is the probability of observing $k$ events in the interval.\n",
        "- $\\lambda$ is the average number of events.\n",
        "- $e$ is the base of the natural logarithm.\n",
        "- $k$ is the number of events.\n",
        "- $k!$ is the factorial of $k$.\n",
        "\n",
        "#### **Importance in Statistics**\n",
        "\n",
        "1. **Modeling Rare Events:** The Poisson distribution is particularly useful for modeling rare events. Examples include the number of phone calls received by a call center in an hour, the number of decay events per unit time from a radioactive source, or the number of accidents at a traffic intersection in a day1.\n",
        "2. **Simplicity and Flexibility:** It requires only one parameter ($\\lambda$), making it simple to use. Despite its simplicity, it can model a wide range of phenomena where events occur independently and at a constant average rate2.\n",
        "3. **Applications in Various Fields:** The Poisson distribution is widely used in fields such as biology (e.g., modeling the number of mutations in a DNA sequence), finance (e.g., modeling the number of defaults in a portfolio of loans), and insurance (e.g., modeling the number of claims received in a period)3.\n",
        "4. **Foundation for Other Models:** It serves as a basis for more complex models, such as the Poisson regression, which is used to model count data and contingency tables. It is also related to the exponential and gamma distributions, which model the time between events in a Poisson process2."
      ]
    },
    {
      "cell_type": "markdown",
      "metadata": {
        "id": "m7ncgEUi21Ip"
      },
      "source": [
        "### Example 4: Poisson Distribution\n",
        "\n",
        "The code in the cell below shows how to use Python to solve the example shown on page 168 in your textbook. The example starts as follows:\n",
        "\n",
        ">Consider a random variable X that represents the number of occurrences of some event of interest  over a given interval. Since X is a count, it is theoretically able to assume any integer value between  0 and infinity. Let λ (the Greek letter lambda) be a constant that denotes the average number of  occurrences of the event in an interval. If the probability that X assumes the value x is...\n",
        "\n",
        "_Code Description:_\n",
        "\n",
        "As in Example 3. the code below uses a simple `for loop` to print out the probability of $X$ for different number of events `k`. The number of events is initially set to `0` but is incremented by `1` during each pass through the loop. The total number of passes thorough the loop is determined by the variable `numTrials`. In this example `numTrials` was set to `7` since we needed to calculate `7` different occurrences (i.e. 0 through 6)."
      ]
    },
    {
      "cell_type": "code",
      "execution_count": null,
      "metadata": {
        "id": "AoFhkJJi21Ip"
      },
      "outputs": [],
      "source": [
        "# Example 4: Poisson distribution\n",
        "\n",
        "from scipy.stats import poisson\n",
        "\n",
        "# Parameters\n",
        "lambda_val = 2.4  # average number of events\n",
        "k = 0  # number of events\n",
        "numTrials=7\n",
        "\n",
        "# Use for loop\n",
        "for k in range(0,numTrials):\n",
        "    p_X = poisson.pmf(k, lambda_val)  # Compute probability\n",
        "    print(f\"The probability of observing exactly {k} events is {p_X:.3f}\")\n",
        "    k +=1 # Increment k"
      ]
    },
    {
      "cell_type": "markdown",
      "metadata": {
        "id": "i9M5iFrA21Ip"
      },
      "source": [
        "If the code is correct, you should see the following output:\n",
        "\n",
        "~~~text\n",
        "The probability of observing exactly 0 events is 0.091\n",
        "The probability of observing exactly 1 events is 0.218\n",
        "The probability of observing exactly 2 events is 0.261\n",
        "The probability of observing exactly 3 events is 0.209\n",
        "The probability of observing exactly 4 events is 0.125\n",
        "The probability of observing exactly 5 events is 0.060\n",
        "The probability of observing exactly 6 events is 0.024\n",
        "~~~"
      ]
    },
    {
      "cell_type": "markdown",
      "metadata": {
        "id": "cSYi1klU21Ip"
      },
      "source": [
        "These are the same results as shown in your textbook on page 169.\n",
        "\n",
        "$$ P(X = 0) = \\frac{e^{-2.4}(2.4)^0}{0!} = 0.091 $$\n",
        "$$ P(X = 0) = \\frac{e^{-2.4}(2.4)^1}{0!} = 0.218 $$\n",
        "$$ P(X = 0) = \\frac{e^{-2.4}(2.4)^2}{0!} = 0.261 $$\n",
        "$$ P(X = 0) = \\frac{e^{-2.4}(2.4)^3}{0!} = 0.209 $$\n",
        "$$ P(X = 0) = \\frac{e^{-2.4}(2.4)^4}{0!} = 0.125 $$\n",
        "$$ P(X = 0) = \\frac{e^{-2.4}(2.4)^5}{0!} = 0.060 $$\n",
        "$$ P(X = 0) = \\frac{e^{-2.4}(2.4)^6}{0!} = 0.024 $$"
      ]
    },
    {
      "cell_type": "markdown",
      "metadata": {
        "id": "jXAq_rgH21Ip"
      },
      "source": [
        "### **Exercise 4: Poisson Distribution**\n",
        "\n",
        "In the cell below, write the Python to solve the following problem:\n",
        "\n",
        ">Imagine a hospital emergency room that receives an average of 5 patient admissions per hour. We want to find the probability of receiving exactly 8 admissions in a given hour.\n",
        "\n",
        "_Code Description:_\n",
        "\n",
        "Since you are being asked to compute the probability for a single condition (i.e. `exactly 8 admissions`) you _don't_ need to use a `for loop`. In fact, if you use a `for loop`, this exercise will be marked as incorrect!\n"
      ]
    },
    {
      "cell_type": "code",
      "execution_count": null,
      "metadata": {
        "scrolled": true,
        "id": "8SduJR5_21Ip"
      },
      "outputs": [],
      "source": [
        "# Insert your code for Exercise 4 here\n",
        "\n"
      ]
    },
    {
      "cell_type": "markdown",
      "metadata": {
        "id": "g2LDoFPH21Iq"
      },
      "source": [
        "If your code is correct, you should see the following output:\n",
        "\n",
        "~~~text\n",
        "The probability of observing exactly 8 events is 0.065\n",
        "~~~"
      ]
    },
    {
      "cell_type": "markdown",
      "metadata": {
        "id": "IBJEaOxf21Iq"
      },
      "source": [
        "### Example 5: Plot Poisson Distribution\n",
        "\n",
        "The code in the cell below shows how to recreate **FIGURE 7.6** from page 171 in your textbook\n",
        "\n",
        "![___](https://biologicslab.co/BIO5853/images/module_02/lesson_02_2_image07.png)\n",
        "\n",
        "_Code Description:_\n",
        "\n",
        "The code uses the Numpy function `np.random.binomial()` to generate 10000 random numbers (`size`) from a binomial distribution specified by the parameters. `n`, `p`.\n",
        "\n",
        "~~~text\n",
        "# Generate binomial distribution\n",
        "x_dat = np.random.binomial(n, p, size)\n",
        "~~~\n",
        "\n",
        "The numbers are then plotted using Matplotlib.pyplot histogram function `hist()`:\n",
        "\n",
        "~~~text\n",
        "# Plot the results\n",
        "ax.hist(x_dat, bins=range(n+2),\n",
        "         color='#294171',\n",
        "         edgecolor='white',\n",
        "         align='left',\n",
        "         density=True)"
      ]
    },
    {
      "cell_type": "code",
      "execution_count": null,
      "metadata": {
        "scrolled": true,
        "id": "DLaa1lFk21Iq"
      },
      "outputs": [],
      "source": [
        "# Example 5: Graph poisson distribution\n",
        "\n",
        "import numpy as np\n",
        "import matplotlib.pyplot as plt\n",
        "from scipy.stats import poisson\n",
        "\n",
        "# Parameters\n",
        "lambda_val = 2.4  # average number of events\n",
        "size = 10000  # number of samples\n",
        "\n",
        "# Generate Poisson distribution\n",
        "x_dat = poisson.rvs(mu=lambda_val, size=size)\n",
        "\n",
        "# Prepare for plotting\n",
        "fig, ax = plt.subplots()\n",
        "\n",
        "# Plot the results\n",
        "ax.hist(x_dat, bins=range(n+2),\n",
        "         color='#294171',\n",
        "         edgecolor='white',\n",
        "         align='left',\n",
        "         density=True)\n",
        "\n",
        "# Add labels and title\n",
        "ax.set_xlabel(\"Number of persons x involved in an accident\")\n",
        "ax.set_ylabel(\"Probability X = x\")\n",
        "ax.set_title('Poisson Distribution (FIGURE 7.6)')\n",
        "\n",
        "# Set the x and y limits\n",
        "ax.set(xlim=(-0.95, 8),\n",
        "       ylim=(-0.010, 0.3))\n",
        "\n",
        "# Show plot\n",
        "plt.show()"
      ]
    },
    {
      "cell_type": "markdown",
      "metadata": {
        "id": "VMpDxejf21Iq"
      },
      "source": [
        "If the code is correct, you should see the following histogram:  \n",
        "\n",
        "![___](https://biologicslab.co/BIO5853/images/module_02/lesson_02_2_image08.png)"
      ]
    },
    {
      "cell_type": "markdown",
      "metadata": {
        "id": "WSOBsy3R21Iq"
      },
      "source": [
        "### **Exercise 5: Plot Poisson Distribution**\n",
        "\n",
        "In the cell below, write the Python code to recreate **FIGURE 7.6** from page 171 in your textbook\n",
        "\n",
        "_Code Description:_\n",
        "\n",
        "The code uses the Numpy function `np.random.binomial()` to generate 10000 random numbers (`size`) from a binomial distribution specified by the parameters. `n`, `p`.\n",
        "\n",
        "~~~text\n",
        "# Generate binomial distribution\n",
        "x_dat = np.random.binomial(n, p, size)\n",
        "~~~\n",
        "\n",
        "The numbers are then plotted using Matplotlib.pyplot histogram function `hist()`:\n",
        "\n",
        "~~~text\n",
        "# Plot the results\n",
        "ax.hist(x_dat, bins=range(n+2),\n",
        "         color='#294171',\n",
        "         edgecolor='white',\n",
        "         align='left',\n",
        "         density=True)"
      ]
    },
    {
      "cell_type": "code",
      "execution_count": null,
      "metadata": {
        "id": "70iP-HKk21Iq"
      },
      "outputs": [],
      "source": [
        "# Insert your code for Exercise 5 here\n",
        "\n"
      ]
    },
    {
      "cell_type": "markdown",
      "metadata": {
        "id": "LRaTJ4jB21Iq"
      },
      "source": [
        "If your code is correct, you should see the following histogram:  \n",
        "\n",
        "![___](https://biologicslab.co/BIO5853/images/module_02/lesson_02_2_image09.png)"
      ]
    },
    {
      "cell_type": "markdown",
      "metadata": {
        "id": "DH4IE2-B21Iq"
      },
      "source": [
        "### Example 6: Probability Distribution of a Binomial Random Variable\n",
        "\n",
        "The code in the cell below shows how to recreate **Figure 7.8** on page 172 in your textbook.\n",
        "\n",
        "![___](https://biologicslab.co/BIO5853/images/module_02/lesson_02_2_image12.png)\n"
      ]
    },
    {
      "cell_type": "code",
      "execution_count": null,
      "metadata": {
        "id": "PqoyVE9I21Ir",
        "outputId": "a29f7716-3756-4587-d98e-12426477bc1e"
      },
      "outputs": [
        {
          "data": {
            "image/png": "[encoded data removed]",
            "text/plain": [
              "<Figure size 640x480 with 1 Axes>"
            ]
          },
          "metadata": {},
          "output_type": "display_data"
        }
      ],
      "source": [
        "# Example 6: Graph poisson distribution\n",
        "\n",
        "import numpy as np\n",
        "import matplotlib.pyplot as plt\n",
        "from scipy.stats import binom\n",
        "from scipy.stats import gaussian_kde\n",
        "from scipy.interpolate import make_interp_spline\n",
        "\n",
        "# Parameters\n",
        "n = 30  # number of trials\n",
        "p = 0.5  # probability of success\n",
        "size = 10000  # number of samples\n",
        "\n",
        "# Set the seed\n",
        "np.random.seed(42) #43\n",
        "\n",
        "# Generate Poisson distribution\n",
        "x_dat = np.random.binomial(n, p, size)\n",
        "\n",
        "# Prepare for plotting\n",
        "fig, ax = plt.subplots()\n",
        "\n",
        "# Plot the results\n",
        "ax.hist(x_dat, bins=range(n+2),\n",
        "         color='#294171',\n",
        "         edgecolor='white',\n",
        "         align='left',\n",
        "         density=True)\n",
        "\n",
        "# Calculate the KDE\n",
        "kde = gaussian_kde(x_dat)\n",
        "x = np.linspace(min(x_dat), max(x_dat), size)\n",
        "y = kde(x)\n",
        "\n",
        "# Create a smooth spline curve\n",
        "X_Y_Spline = make_interp_spline(x, y)\n",
        "\n",
        "# Generate new x values for a smooth curve\n",
        "X_ = np.linspace(x.min(), x.max(), 21)\n",
        "Y_ = X_Y_Spline(X_)\n",
        "\n",
        "# Plot the KDE line\n",
        "plt.plot(X_, Y_, color='red')\n",
        "\n",
        "# Add labels and title\n",
        "ax.set_xlabel(\"x\")\n",
        "ax.set_ylabel(\"Probability X = x\")\n",
        "ax.set_title('Probability Distribution Binomial Random Variable (Figure 7.8)')\n",
        "\n",
        "# Set the x and y limits\n",
        "#ax.set(xlim=(-0.95, 11),\n",
        " #      ylim=(-0.010, 0.2))\n",
        "\n",
        "# Show plot\n",
        "plt.show()"
      ]
    },
    {
      "cell_type": "markdown",
      "metadata": {
        "id": "Evb1RP9V21Ir"
      },
      "source": [
        "If the code is correct, you should see something _similar_ to the following histogram:  \n",
        "\n",
        "![___](https://biologicslab.co/BIO5853/images/module_02/lesson_02_2_image10.png)"
      ]
    },
    {
      "cell_type": "markdown",
      "metadata": {
        "id": "1GoKDVcx21Ir"
      },
      "source": [
        "The figure legend in your textbook reads:\n",
        "\n",
        ">Probability distribution of a binomial random variable with parameters _n_ = 30 and _p_ = 0.50"
      ]
    },
    {
      "cell_type": "markdown",
      "metadata": {
        "id": "3loiPAPE21Ir"
      },
      "source": [
        "## **Normal Distribution**\n",
        "\n",
        "A **_Normal Distribution_**, also known as a _Gaussian Distribution_, is a continuous probability distribution that is symmetrical around its mean. It is characterized by its bell-shaped curve, where most of the observations cluster around the central peak, and the probabilities for values taper off equally in both directions as you move away from the mean.\n",
        "\n",
        "#### **Key Characteristics:**\n",
        "\n",
        "1. **Symmetry:** The distribution is perfectly symmetrical around the mean.\n",
        "2. **Mean, Median, and Mode:** In a normal distribution, these three measures of central tendency are all equal.\n",
        "3. **Bell-shaped Curve:** The shape of the distribution is bell-shaped, with the highest point at the mean.\n",
        "4. **Empirical Rule:** Approximately 68% of the data falls within one standard deviation of the mean, 95% within two standard deviations, and 99.7% within three standard deviations.\n",
        "\n",
        "\n",
        "#### **Importance:**\n",
        "* **Natural Phenomena:** Many natural phenomena follow a normal distribution, such as heights, blood pressure, and measurement errors.\n",
        "* **Central Limit Theorem:** This theorem states that the sum of a large number of independent and identically distributed random variables will be approximately normally distributed, regardless of the original distribution of the variables.\n",
        "* **Statistical Inference:** Many statistical tests and methods, such as hypothesis testing and confidence intervals, are based on the assumption of normality.\n",
        "* **Predictive Modeling:** Normal distribution is used in various predictive models and algorithms in machine learning and data science.\n",
        "  \n",
        "#### **Formula**\n",
        "\n",
        "The most common continuous distribution is the normal distribution, also known as the Gaussian distribution, or the bell-shaped curve. Its shape is that of a binomial distribution for which $p$ is constant but $n$ approaches infinity, or a Poisson distribution where $λ$  approaches infinity. Its probability density is given by the equation\n",
        "\n",
        "$$ f(x) = \\frac{1}{\\sigma \\sqrt{2\\pi}} e^{-\\frac{1}{2} \\left( \\frac{x - \\mu}{\\sigma} \\right)^2} $$\n",
        "\n",
        "where $−∞ < x < ∞$. The symbol $π$ ($pi$) represents a constant approximated by 3.14159. The $e$ is the same constant we previously encountered in the formula for a Poisson probability, the base of the natural logarithms. The normal curve is unimodal and symmetric about its mean $µ$ (the Greek  letter mu); in this special case, the mean, median, and mode of the distribution are all identical.  The standard deviation, represented by $σ$ (sigma), specifies the amount of variability around the  mean. Together, the two parameters $µ$ and $σ$ completely define a normal curve. If we know these two values, we know exactly what the probability density looks like.\n"
      ]
    },
    {
      "cell_type": "markdown",
      "metadata": {
        "id": "VwoCpFI_21Ir"
      },
      "source": [
        "### **Example 7: Plot Standard Normal Curve**\n",
        "\n",
        "The code in the cell below shows how to recreate **Figure 7.9** on page 174 in your textbook.\n",
        "\n",
        "![___](https://biologicslab.co/BIO5853/images/module_02/lesson_02_2_image11.png)"
      ]
    },
    {
      "cell_type": "code",
      "execution_count": null,
      "metadata": {
        "id": "Rze-1-1y21Is",
        "outputId": "b5ca31ee-6d7e-465b-c260-864934220183"
      },
      "outputs": [
        {
          "data": {
            "image/png": "[encoded data removed]",
            "text/plain": [
              "<Figure size 640x480 with 1 Axes>"
            ]
          },
          "metadata": {},
          "output_type": "display_data"
        }
      ],
      "source": [
        "# Example 7 - Plot Standard Normal Curve\n",
        "\n",
        "from scipy.stats import norm      # normal distribution\n",
        "\n",
        "# Define parameters for the normal distribution\n",
        "mu = 0        # mean\n",
        "sd = 1         # standard deviation\n",
        "size = 500     # number of trials\n",
        "\n",
        "# Generate x-values between -4 and 4 with .01 steps.\n",
        "x_dat = np.arange(-4.0, 4.0, 0.01)\n",
        "\n",
        "# Compute the y-value for each x-value from normal distribution\n",
        "y_dat = norm.pdf(x_dat, mu, sd)\n",
        "\n",
        "# Plot the normal distribution\n",
        "plt.plot(x_dat, y_dat ,'k')   # the augument 'k' makes the color black\n",
        "\n",
        "# Ensure y-axis is visible\n",
        "plt.gca().yaxis.set_visible(False)\n",
        "\n",
        "# Label plot\n",
        "plt.title('Standard Normal Curve (Figure 7.9)', fontsize='12')   # Title\n",
        "plt.xlabel('z', fontsize='12')   # X-axis\n",
        "plt.ylabel('', fontsize='12')   # Y-axis\n",
        "\n",
        "# Show plot\n",
        "plt.show()"
      ]
    },
    {
      "cell_type": "markdown",
      "metadata": {
        "id": "XQOfHx2Q21Is"
      },
      "source": [
        "If the code is correct, you should see the following curve:  \n",
        "\n",
        "![___](https://biologicslab.co/BIO5853/images/module_02/lesson_02_2_image13.png)"
      ]
    },
    {
      "cell_type": "markdown",
      "metadata": {
        "id": "DyO1usR_21Is"
      },
      "source": [
        "The figure legend in your textbook reads as follows:\n",
        "\n",
        ">The standard normal distribution with parameters _µ_ = 0 and _σ_ = 1"
      ]
    },
    {
      "cell_type": "markdown",
      "metadata": {
        "id": "-pxG_NFo21Is"
      },
      "source": [
        "### Example 8: Plot Normal Curve with Area\n",
        "\n",
        "The code in the cell below shows how to recreate **Figure 7.10** on page 174 in your textbook.\n",
        "\n",
        "![___](https://biologicslab.co/BIO5853/images/module_02/lesson_02_2_image14.png)"
      ]
    },
    {
      "cell_type": "code",
      "execution_count": null,
      "metadata": {
        "id": "LKs49rex21Is",
        "outputId": "bd5115a8-afdb-4e0c-ecbc-808ae87ceff0"
      },
      "outputs": [
        {
          "data": {
            "image/png": "[encoded data removed]",
            "text/plain": [
              "<Figure size 640x480 with 1 Axes>"
            ]
          },
          "metadata": {},
          "output_type": "display_data"
        }
      ],
      "source": [
        "# Example 8: Plot Normal Curve with Area\n",
        "\n",
        "from scipy.stats import norm      # normal distribution\n",
        "\n",
        "# Define parameters for the normal distribution\n",
        "mu = 0        # mean\n",
        "sd = 1         # standard deviation\n",
        "size = 500     # number of trials\n",
        "low_val = -1.0\n",
        "high_val = 1.0\n",
        "\n",
        "# Generate x-values between -4 and 4 with .01 steps.\n",
        "x_dat = np.arange(-4.0, 4.0, 0.01)\n",
        "\n",
        "# Compute the y-value for each x-value from normal distribution\n",
        "y_dat = norm.pdf(x_dat, mu, sd)\n",
        "\n",
        "# Plot the normal distribution\n",
        "plt.plot(x_dat, y_dat ,'k')   # the augument 'k' makes the color black\n",
        "\n",
        "# Label plot\n",
        "plt.title('Standard Normal Curve (Figure 7.10)', fontsize='12')   # Title\n",
        "plt.xlabel('z', fontsize='12')   # X-axis\n",
        "plt.ylabel('', fontsize='12')   # Y-axis\n",
        "\n",
        "# Fill the area under the curve between bmi limits\n",
        "shade_x = np.linspace(low_val, high_val, 100)  # set x area\n",
        "shade_y = norm.pdf(shade_x, mu, sd)      # set y area\n",
        "plt.fill_between(shade_x, shade_y, color='#294171', alpha=1.0)  # fill areas\n",
        "\n",
        "# Ensure y-axis is visible\n",
        "plt.gca().yaxis.set_visible(False)\n",
        "\n",
        "# Plot text\n",
        "plt.text(1.30, 0.30, '0.682', fontsize=14)   # mu at bottom\n",
        "\n",
        "# Plot line\n",
        "x_line=[0.90, 1.30]\n",
        "y_line=[0.28, 0.30]\n",
        "plt.plot(x_line, y_line, color='k', linestyle='solid', linewidth=0.75)\n",
        "\n",
        "# Show plot\n",
        "plt.show()"
      ]
    },
    {
      "cell_type": "markdown",
      "metadata": {
        "id": "UPr45rw-21Is"
      },
      "source": [
        "If the code is correct, you should see the following curve:  \n",
        "\n",
        "![___](https://biologicslab.co/BIO5853/images/module_02/lesson_02_2_image15.png)"
      ]
    },
    {
      "cell_type": "markdown",
      "metadata": {
        "id": "KMvQ_dgh21Is"
      },
      "source": [
        "The figure legend in your textbook reads as follows:\n",
        "\n",
        ">The standard normal curve, area between _z_ = −1.00 and _z_ = 1.00  "
      ]
    },
    {
      "cell_type": "markdown",
      "metadata": {
        "id": "2r9tBpve21Is"
      },
      "source": [
        "### **Exercise 8: Plot Normal Curve with Area**\n",
        "\n",
        "In the cell below write the code to recreate **Figure 7.11** on page 175 in your textbook.\n",
        "\n",
        "![___](https://biologicslab.co/BIO5853/images/module_02/lesson_02_2_image16.png)"
      ]
    },
    {
      "cell_type": "code",
      "execution_count": null,
      "metadata": {
        "id": "QYbxYGfW21It"
      },
      "outputs": [],
      "source": [
        "# Insert your code for Exercise 8 here\n",
        "\n"
      ]
    },
    {
      "cell_type": "markdown",
      "metadata": {
        "id": "UFw7hOkp21It"
      },
      "source": [
        "If your code is correct, you should see the following curve:  \n",
        "\n",
        "![___](https://biologicslab.co/BIO5853/images/module_02/lesson_02_2_image17.png)"
      ]
    },
    {
      "cell_type": "markdown",
      "metadata": {
        "id": "r6Ib60gs21It"
      },
      "source": [
        "The figure legend in your textbook reads as follows:\n",
        "\n",
        ">The standard normal curve, area between _z_ = −2.00 and _z_ = 2.00  "
      ]
    },
    {
      "cell_type": "markdown",
      "metadata": {
        "id": "WvWSix4A21It"
      },
      "source": [
        "### Example 9: Plot Normal Curve with Area\n",
        "\n",
        "The code in the cell below shows how to recreate **Figure 7.12** on page 176 in your textbook.\n",
        "\n",
        "![___](https://biologicslab.co/BIO5853/images/module_02/lesson_02_2_image18.png)"
      ]
    },
    {
      "cell_type": "code",
      "execution_count": null,
      "metadata": {
        "id": "iYmDWPXF21It",
        "outputId": "4a7c5d9d-404a-464f-857c-caac452f69fb"
      },
      "outputs": [
        {
          "data": {
            "image/png": "[encoded data removed]",
            "text/plain": [
              "<Figure size 640x480 with 1 Axes>"
            ]
          },
          "metadata": {},
          "output_type": "display_data"
        }
      ],
      "source": [
        "# Example 9: Plot Normal Curve with area\n",
        "\n",
        "from scipy.stats import norm      # normal distribution\n",
        "\n",
        "# Define parameters for the normal distribution\n",
        "mu = 0        # mean\n",
        "sd = 1         # standard deviation\n",
        "size = 500     # number of trials\n",
        "low_val = 1.28\n",
        "high_val = 4.0\n",
        "\n",
        "# Generate x-values between -4 and 4 with .01 steps.\n",
        "x_dat = np.arange(-4.0, 4.0, 0.01)\n",
        "\n",
        "# Compute the y-value for each x-value from normal distribution\n",
        "y_dat = norm.pdf(x_dat, mu, sd)\n",
        "\n",
        "# Create a plot\n",
        "fig, ax = plt.subplots()\n",
        "# ax.plot(x, y)\n",
        "\n",
        "# Plot the normal distribution\n",
        "ax.plot(x_dat, y_dat ,'k')   # the augument 'k' makes the color black\n",
        "\n",
        "# Label plot\n",
        "plt.title('Standard Normal Curve (Figure 7.12)', fontsize='12')   # Title\n",
        "plt.xlabel('z', fontsize='12')   # X-axis\n",
        "plt.ylabel('', fontsize='12')   # Y-axis\n",
        "\n",
        "# Fill the area under the curve between bmi limits\n",
        "shade_x = np.linspace(low_val, high_val, 100)  # set x area\n",
        "shade_y = norm.pdf(shade_x, mu, sd)      # set y area\n",
        "plt.fill_between(shade_x, shade_y, color='#294171', alpha=1.0)  # fill areas\n",
        "\n",
        "# Ensure y-axis is visible\n",
        "plt.gca().yaxis.set_visible(False)\n",
        "\n",
        "# Specify x-ticks\n",
        "ax.set_xticks([0, 1.28])\n",
        "ax.set_xticklabels(['0', '1.28'])\n",
        "\n",
        "# Plot text\n",
        "plt.text(2, 0.13, '0.10', fontsize=12)   # mu at bottom\n",
        "\n",
        "# Plot line\n",
        "x_line=[1.64, 2]\n",
        "y_line=[0.12, 0.13]\n",
        "plt.plot(x_line, y_line, color='k', linestyle='solid', linewidth=0.75)\n",
        "\n",
        "# Show plot\n",
        "plt.show()"
      ]
    },
    {
      "cell_type": "markdown",
      "metadata": {
        "id": "Jn-uKmx121It"
      },
      "source": [
        "If the code is correct, you should see the following curve:  \n",
        "\n",
        "![___](https://biologicslab.co/BIO5853/images/module_02/lesson_02_2_image19.png)"
      ]
    },
    {
      "cell_type": "markdown",
      "metadata": {
        "id": "te3ABUwu21It"
      },
      "source": [
        "The figure legend in your textbook reads as follows:\n",
        "\n",
        ">The standard normal curve, area to the right of _z_=1.28  "
      ]
    },
    {
      "cell_type": "markdown",
      "metadata": {
        "id": "vGqAA94Q21It"
      },
      "source": [
        "### **Exercise 9: Plot Normal Curve with Area**\n",
        "\n",
        "In the cell below, write the Python code to recreate **Figure 7.12** on page 176 in your textbook, except fill in the area to the left of _z_= -1.28.\n",
        "\n",
        "_Code Hints:_\n",
        "\n",
        "1. You will have to change the values for `low_val` and `high_val`. Look at the graph in Example 8 to figure what values you need to use.\n",
        "2. You will need to change the plot ticks to read as follows:\n",
        "~~~text\n",
        "ax.set_xticks([-1.28, 0])\n",
        "ax.set_xticklabels(['-1.28', '0'])\n",
        "~~~\n",
        "4. You will have to change the plot text to read as follows:\n",
        "~~~text\n",
        "plt.text(-2.7, 0.13, '0.10', fontsize=12)   # mu at bottom\n",
        "~~~\n",
        "3. You will have to change the plot line code to read as follows:\n",
        "~~~text\n",
        "x_line=[-2.0, -1.7]\n",
        "y_line=[0.13, 0.11]\n",
        "~~~"
      ]
    },
    {
      "cell_type": "code",
      "execution_count": null,
      "metadata": {
        "id": "r6-9JKgk21It"
      },
      "outputs": [],
      "source": [
        "# Insert your code for Exercise 9 here\n",
        "\n"
      ]
    },
    {
      "cell_type": "markdown",
      "metadata": {
        "id": "9Y6TFmeC21It"
      },
      "source": [
        "If your code is correct, you should see the following curve:  \n",
        "\n",
        "![___](https://biologicslab.co/BIO5853/images/module_02/lesson_02_2_image20.png)"
      ]
    },
    {
      "cell_type": "markdown",
      "metadata": {
        "id": "pXb2PC5f21Iu"
      },
      "source": [
        "## **Lesson Turn-in**\n",
        "\n",
        "When you have run all of the code cells. print a PDF of your Colab notebook and upload it to Canvas for grading."
      ]
    }
  ],
  "metadata": {
    "kernelspec": {
      "display_name": "Python 3 (ipykernel)",
      "language": "python",
      "name": "python3"
    },
    "language_info": {
      "codemirror_mode": {
        "name": "ipython",
        "version": 3
      },
      "file_extension": ".py",
      "mimetype": "text/x-python",
      "name": "python",
      "nbconvert_exporter": "python",
      "pygments_lexer": "ipython3",
      "version": "3.11.5"
    },
    "colab": {
      "provenance": []
    }
  },
  "nbformat": 4,
  "nbformat_minor": 0
}